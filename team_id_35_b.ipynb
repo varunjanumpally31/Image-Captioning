{
 "cells": [
  {
   "cell_type": "code",
   "execution_count": 1,
   "id": "c8ad84ec",
   "metadata": {
    "execution": {
     "iopub.execute_input": "2024-04-17T03:34:51.479723Z",
     "iopub.status.busy": "2024-04-17T03:34:51.478923Z",
     "iopub.status.idle": "2024-04-17T03:35:21.003337Z",
     "shell.execute_reply": "2024-04-17T03:35:21.002052Z"
    },
    "papermill": {
     "duration": 29.539836,
     "end_time": "2024-04-17T03:35:21.005555",
     "exception": false,
     "start_time": "2024-04-17T03:34:51.465719",
     "status": "completed"
    },
    "tags": []
   },
   "outputs": [
    {
     "name": "stdout",
     "output_type": "stream",
     "text": [
      "Collecting git+https://github.com/salaniz/pycocoevalcap\r\n",
      "  Cloning https://github.com/salaniz/pycocoevalcap to /tmp/pip-req-build-hxgj1mh2\r\n",
      "  Running command git clone --filter=blob:none --quiet https://github.com/salaniz/pycocoevalcap /tmp/pip-req-build-hxgj1mh2\r\n",
      "  Resolved https://github.com/salaniz/pycocoevalcap to commit a24f74c408c918f1f4ec34e9514bc8a76ce41ffd\r\n",
      "  Preparing metadata (setup.py) ... \u001b[?25ldone\r\n",
      "\u001b[?25hCollecting pycocotools>=2.0.2 (from pycocoevalcap==1.2)\r\n",
      "  Downloading pycocotools-2.0.7-cp310-cp310-manylinux_2_17_x86_64.manylinux2014_x86_64.whl.metadata (1.1 kB)\r\n",
      "Requirement already satisfied: matplotlib>=2.1.0 in /opt/conda/lib/python3.10/site-packages (from pycocotools>=2.0.2->pycocoevalcap==1.2) (3.7.5)\r\n",
      "Requirement already satisfied: numpy in /opt/conda/lib/python3.10/site-packages (from pycocotools>=2.0.2->pycocoevalcap==1.2) (1.26.4)\r\n",
      "Requirement already satisfied: contourpy>=1.0.1 in /opt/conda/lib/python3.10/site-packages (from matplotlib>=2.1.0->pycocotools>=2.0.2->pycocoevalcap==1.2) (1.2.0)\r\n",
      "Requirement already satisfied: cycler>=0.10 in /opt/conda/lib/python3.10/site-packages (from matplotlib>=2.1.0->pycocotools>=2.0.2->pycocoevalcap==1.2) (0.12.1)\r\n",
      "Requirement already satisfied: fonttools>=4.22.0 in /opt/conda/lib/python3.10/site-packages (from matplotlib>=2.1.0->pycocotools>=2.0.2->pycocoevalcap==1.2) (4.47.0)\r\n",
      "Requirement already satisfied: kiwisolver>=1.0.1 in /opt/conda/lib/python3.10/site-packages (from matplotlib>=2.1.0->pycocotools>=2.0.2->pycocoevalcap==1.2) (1.4.5)\r\n",
      "Requirement already satisfied: packaging>=20.0 in /opt/conda/lib/python3.10/site-packages (from matplotlib>=2.1.0->pycocotools>=2.0.2->pycocoevalcap==1.2) (21.3)\r\n",
      "Requirement already satisfied: pillow>=6.2.0 in /opt/conda/lib/python3.10/site-packages (from matplotlib>=2.1.0->pycocotools>=2.0.2->pycocoevalcap==1.2) (9.5.0)\r\n",
      "Requirement already satisfied: pyparsing>=2.3.1 in /opt/conda/lib/python3.10/site-packages (from matplotlib>=2.1.0->pycocotools>=2.0.2->pycocoevalcap==1.2) (3.1.1)\r\n",
      "Requirement already satisfied: python-dateutil>=2.7 in /opt/conda/lib/python3.10/site-packages (from matplotlib>=2.1.0->pycocotools>=2.0.2->pycocoevalcap==1.2) (2.9.0.post0)\r\n",
      "Requirement already satisfied: six>=1.5 in /opt/conda/lib/python3.10/site-packages (from python-dateutil>=2.7->matplotlib>=2.1.0->pycocotools>=2.0.2->pycocoevalcap==1.2) (1.16.0)\r\n",
      "Downloading pycocotools-2.0.7-cp310-cp310-manylinux_2_17_x86_64.manylinux2014_x86_64.whl (426 kB)\r\n",
      "\u001b[2K   \u001b[90m━━━━━━━━━━━━━━━━━━━━━━━━━━━━━━━━━━━━━━━━\u001b[0m \u001b[32m426.2/426.2 kB\u001b[0m \u001b[31m2.7 MB/s\u001b[0m eta \u001b[36m0:00:00\u001b[0m\r\n",
      "\u001b[?25hBuilding wheels for collected packages: pycocoevalcap\r\n",
      "  Building wheel for pycocoevalcap (setup.py) ... \u001b[?25l-\b \bdone\r\n",
      "\u001b[?25h  Created wheel for pycocoevalcap: filename=pycocoevalcap-1.2-py3-none-any.whl size=104312245 sha256=56f8401679573459b207bdc8570de334f5485cec9453b6e124f87b059c67633a\r\n",
      "  Stored in directory: /tmp/pip-ephem-wheel-cache-zfse64t1/wheels/43/54/73/3e2c6d4ace7657958cde52ac6fd47b342cd4aae5a7aa4fcbf9\r\n",
      "Successfully built pycocoevalcap\r\n",
      "Installing collected packages: pycocotools, pycocoevalcap\r\n",
      "Successfully installed pycocoevalcap-1.2 pycocotools-2.0.7\r\n",
      "Note: you may need to restart the kernel to use updated packages.\n"
     ]
    }
   ],
   "source": [
    "pip install git+https://github.com/salaniz/pycocoevalcap"
   ]
  },
  {
   "cell_type": "markdown",
   "id": "bf01c811",
   "metadata": {
    "papermill": {
     "duration": 0.012292,
     "end_time": "2024-04-17T03:35:21.031169",
     "exception": false,
     "start_time": "2024-04-17T03:35:21.018877",
     "status": "completed"
    },
    "tags": []
   },
   "source": [
    "# Imports required"
   ]
  },
  {
   "cell_type": "code",
   "execution_count": 2,
   "id": "56588a14",
   "metadata": {
    "_cell_guid": "b1076dfc-b9ad-4769-8c92-a6c4dae69d19",
    "_uuid": "8f2839f25d086af736a60e9eeb907d3b93b6e0e5",
    "execution": {
     "iopub.execute_input": "2024-04-17T03:35:21.057765Z",
     "iopub.status.busy": "2024-04-17T03:35:21.057173Z",
     "iopub.status.idle": "2024-04-17T03:35:54.966173Z",
     "shell.execute_reply": "2024-04-17T03:35:54.965365Z"
    },
    "papermill": {
     "duration": 33.924921,
     "end_time": "2024-04-17T03:35:54.968449",
     "exception": false,
     "start_time": "2024-04-17T03:35:21.043528",
     "status": "completed"
    },
    "tags": []
   },
   "outputs": [
    {
     "name": "stderr",
     "output_type": "stream",
     "text": [
      "2024-04-17 03:35:43.627453: E external/local_xla/xla/stream_executor/cuda/cuda_dnn.cc:9261] Unable to register cuDNN factory: Attempting to register factory for plugin cuDNN when one has already been registered\n",
      "2024-04-17 03:35:43.627555: E external/local_xla/xla/stream_executor/cuda/cuda_fft.cc:607] Unable to register cuFFT factory: Attempting to register factory for plugin cuFFT when one has already been registered\n",
      "2024-04-17 03:35:43.898527: E external/local_xla/xla/stream_executor/cuda/cuda_blas.cc:1515] Unable to register cuBLAS factory: Attempting to register factory for plugin cuBLAS when one has already been registered\n"
     ]
    }
   ],
   "source": [
    "import numpy as np\n",
    "import pandas as pd\n",
    "import torch\n",
    "import torch.nn as nn\n",
    "from torchvision import models\n",
    "import os\n",
    "import pandas as pd\n",
    "import spacy\n",
    "from torch.nn.utils.rnn import pad_sequence\n",
    "from torch.utils.data import DataLoader, Dataset\n",
    "from PIL import Image\n",
    "import torchvision.transforms as transforms\n",
    "import torch.optim as optim\n",
    "import statistics\n",
    "from tqdm import tqdm\n",
    "import pycocoevalcap\n",
    "from pycocoevalcap.rouge.rouge import Rouge\n",
    "from pycocoevalcap.cider.cider import Cider\n",
    "from torchmetrics.text import BLEUScore\n",
    "from transformers import ViTModel, ViTImageProcessor\n",
    "import matplotlib.pyplot as plt\n",
    "from IPython.display import display\n",
    "import warnings\n",
    "warnings.filterwarnings(\"ignore\")"
   ]
  },
  {
   "cell_type": "markdown",
   "id": "4b38f166",
   "metadata": {
    "papermill": {
     "duration": 0.012458,
     "end_time": "2024-04-17T03:35:54.993933",
     "exception": false,
     "start_time": "2024-04-17T03:35:54.981475",
     "status": "completed"
    },
    "tags": []
   },
   "source": [
    "# Data Preprocessing"
   ]
  },
  {
   "cell_type": "markdown",
   "id": "9bf7e291",
   "metadata": {
    "papermill": {
     "duration": 0.012181,
     "end_time": "2024-04-17T03:35:55.018522",
     "exception": false,
     "start_time": "2024-04-17T03:35:55.006341",
     "status": "completed"
    },
    "tags": []
   },
   "source": [
    "The below cell consists of: \n",
    "- <b>Vocabulary class</b>: This is required to build a vocabulary which consists of words which are repeated atleast 5 times(frequency threshold) and four new tokens(<SOS>(Start of Sentence), <PAD>(Padding token to make consistent length), <EOS> (End of Sentence), <UNK> (Token to print any Unknown word))\n",
    "- <b>ImgCapDataset</b>: This class inherits from Pytorch Dataset which is required to build a dataset donsisting of preprocessed images, captions to use them for model training.\n",
    "- <b>mycoll</b>: This class is used to provide the required elements for training from a batch.\n",
    "- <b>get_loamder</b>: This function is used to get the dataloader using DataLoader from pytorch and uses our custom collate class above to return the dataset in batches of 32."
   ]
  },
  {
   "cell_type": "code",
   "execution_count": 3,
   "id": "b766e8ca",
   "metadata": {
    "execution": {
     "iopub.execute_input": "2024-04-17T03:35:55.046186Z",
     "iopub.status.busy": "2024-04-17T03:35:55.045410Z",
     "iopub.status.idle": "2024-04-17T03:35:56.346765Z",
     "shell.execute_reply": "2024-04-17T03:35:56.345968Z"
    },
    "papermill": {
     "duration": 1.317891,
     "end_time": "2024-04-17T03:35:56.348980",
     "exception": false,
     "start_time": "2024-04-17T03:35:55.031089",
     "status": "completed"
    },
    "tags": []
   },
   "outputs": [],
   "source": [
    "spacy_eng = spacy.load(\"en_core_web_sm\")\n",
    "\n",
    "class vocabularry:\n",
    "    def __init__(self, fr_th):\n",
    "        self.int_to_str = {0: \"<PAD>\", 1: \"<SOS>\", 2: \"<EOS>\", 3: \"<UNK>\"}\n",
    "        self.str_to_int = {\"<PAD>\": 0, \"<SOS>\": 1, \"<EOS>\": 2, \"<UNK>\": 3}\n",
    "        self.fr_th = fr_th\n",
    "\n",
    "    def __len__(self):\n",
    "        return len(self.int_to_str)\n",
    "\n",
    "    @staticmethod\n",
    "    def tok_eng(text):\n",
    "        return [tok.text.lower() for tok in spacy_eng.tokenizer(text)]\n",
    "\n",
    "    def build_vocabularry(self, sen_lst):\n",
    "        frequ = {}\n",
    "        idx = 4\n",
    "\n",
    "        for sent in sen_lst:\n",
    "            for word in self.tok_eng(sent):\n",
    "                if word not in frequ:\n",
    "                    frequ[word] = 1\n",
    "\n",
    "                else:\n",
    "                    frequ[word] += 1\n",
    "\n",
    "                if frequ[word] == self.fr_th:\n",
    "                    self.str_to_int[word] = idx\n",
    "                    self.int_to_str[idx] = word\n",
    "                    idx += 1\n",
    "\n",
    "    def numriclise(self, text):\n",
    "        tokenized_text = self.tok_eng(text)\n",
    "\n",
    "        return [\n",
    "            self.str_to_int[token] if token in self.str_to_int else self.str_to_int[\"<UNK>\"]\n",
    "            for token in tokenized_text\n",
    "        ]\n",
    "\n",
    "\n",
    "class ImgCapDataset(Dataset):\n",
    "    def __init__(self, root_dir, cap_file, trans=None, fr_th=5):\n",
    "        self.root_dir = root_dir\n",
    "        self.df = pd.read_csv(cap_file)\n",
    "        self.trans = trans\n",
    "        self.imgs = self.df[\"filename\"]\n",
    "        self.caps = self.df[\"caption\"]\n",
    "        self.vocab = vocabularry(fr_th)\n",
    "        self.vocab.build_vocabularry(self.caps.tolist())\n",
    "        self.processor = ViTImageProcessor.from_pretrained('google/vit-base-patch16-224')\n",
    "\n",
    "    def __len__(self):\n",
    "        return len(self.df)\n",
    "\n",
    "    def __getitem__(self, index):\n",
    "        cap = self.caps[index]\n",
    "        img_id = self.imgs[index]\n",
    "        img = Image.open(os.path.join(self.root_dir, img_id)).convert(\"RGB\")\n",
    "        if self.trans is not None:\n",
    "            img = self.trans(img)\n",
    "            \n",
    "        processed = self.processor(images = img, return_tensors =  \"pt\", do_rescale = False)\n",
    "        img = processed[\"pixel_values\"].squeeze(0)\n",
    "        numriclised_cap = [self.vocab.str_to_int[\"<SOS>\"]]\n",
    "        numriclised_cap += self.vocab.numriclise(cap)\n",
    "        numriclised_cap.append(self.vocab.str_to_int[\"<EOS>\"])\n",
    "\n",
    "        return img, torch.tensor(numriclised_cap), cap, img_id\n",
    "\n",
    "\n",
    "class mycoll:\n",
    "    def __init__(self, pad_idx):\n",
    "        self.pad_idx = pad_idx\n",
    "\n",
    "    def __call__(self, batch):\n",
    "        imgs = [item[0].unsqueeze(0) for item in batch]\n",
    "        imgs = torch.cat(imgs, dim=0)\n",
    "        targets = [item[1] for item in batch]\n",
    "        targets = pad_sequence(targets, batch_first=False, padding_value=self.pad_idx)\n",
    "        caps = [item[2] for item in batch]\n",
    "        img_ids = [item[3] for item in batch]\n",
    "        return imgs, targets, caps, img_ids\n",
    "\n",
    "\n",
    "def get_loamder(\n",
    "    root_folder,\n",
    "    annot_file,\n",
    "    trans,\n",
    "    batch_size=32,\n",
    "    num_workers=4,\n",
    "    shuffle=True,\n",
    "    pin_memory=True,\n",
    "):\n",
    "    dataset = ImgCapDataset(root_folder, annot_file, trans=trans)\n",
    "\n",
    "    pad_idx = dataset.vocab.str_to_int[\"<PAD>\"]\n",
    "\n",
    "    loamder = DataLoader(\n",
    "        dataset=dataset,\n",
    "        batch_size=batch_size,\n",
    "        num_workers=num_workers,\n",
    "        shuffle=shuffle,\n",
    "        pin_memory=pin_memory,\n",
    "        collate_fn=mycoll(pad_idx=pad_idx),\n",
    "    )\n",
    "\n",
    "    return loamder, dataset"
   ]
  },
  {
   "cell_type": "markdown",
   "id": "e9147628",
   "metadata": {
    "papermill": {
     "duration": 0.012174,
     "end_time": "2024-04-17T03:35:56.375898",
     "exception": false,
     "start_time": "2024-04-17T03:35:56.363724",
     "status": "completed"
    },
    "tags": []
   },
   "source": [
    "# Decoder, Encoder and Model"
   ]
  },
  {
   "cell_type": "markdown",
   "id": "77e0bd08",
   "metadata": {
    "papermill": {
     "duration": 0.012429,
     "end_time": "2024-04-17T03:35:56.400662",
     "exception": false,
     "start_time": "2024-04-17T03:35:56.388233",
     "status": "completed"
    },
    "tags": []
   },
   "source": [
    "The below cell consists of: \n",
    "- <b>image_encoder</b>: This is the encoder class which inherits from torch.nn.Module and takes preprocessed images as inputs for pretrained Vision Transformer. An embedding layer is used to map the <b>class token</b> output of Vision Transformer to the decoder embedding size along with a ReLU function and a dropout layer.\n",
    "- <b>cap_decoder</b>: This class inherits from torch.nn.Module and uses <b>LSTM</b> as decoder to take inputs or image_features from the encoder and decode them to captions.\n",
    "- <b>Image_Captioner</b>: This class combines both encoder and decoder defined above to make a collective model.\n",
    "- <b>sve_ckpt</b>: This function is used to save the model and optimizer parameters to a .pth file."
   ]
  },
  {
   "cell_type": "code",
   "execution_count": 4,
   "id": "c029a3ce",
   "metadata": {
    "execution": {
     "iopub.execute_input": "2024-04-17T03:35:56.427799Z",
     "iopub.status.busy": "2024-04-17T03:35:56.427489Z",
     "iopub.status.idle": "2024-04-17T03:35:56.443341Z",
     "shell.execute_reply": "2024-04-17T03:35:56.442633Z"
    },
    "papermill": {
     "duration": 0.032266,
     "end_time": "2024-04-17T03:35:56.445149",
     "exception": false,
     "start_time": "2024-04-17T03:35:56.412883",
     "status": "completed"
    },
    "tags": []
   },
   "outputs": [],
   "source": [
    "class image_encoder(nn.Module):\n",
    "    def __init__(self, emb_size):\n",
    "        super(image_encoder, self).__init__()\n",
    "        self.vit = ViTModel.from_pretrained('google/vit-base-patch16-224')\n",
    "        \n",
    "        # replace the classifier with a fully connected embedding layer\n",
    "        self.embed = torch.nn.Linear(self.vit.config.hidden_size, emb_size)\n",
    "\n",
    "        self.RELUU = nn.ReLU()\n",
    "        self.dr = nn.Dropout(0.5)\n",
    "\n",
    "    def forward(self, imgs):\n",
    "        out = self.vit(pixel_values = imgs, return_dict = True)\n",
    "        outputs = out.last_hidden_state[:, 0, :]\n",
    "        feat_encoderr = self.embed(outputs)\n",
    "        return self.dr(self.RELUU(feat_encoderr))\n",
    "\n",
    "\n",
    "class cap_decoder(nn.Module):\n",
    "    def __init__(self, emb_size, hid_size, voc_size, num_layers):\n",
    "        super(cap_decoder, self).__init__()\n",
    "        self.emb = nn.Embedding(voc_size, emb_size)\n",
    "        self.lstm = nn.LSTM(emb_size, hid_size, num_layers)\n",
    "        self.linear = nn.Linear(hid_size, voc_size)\n",
    "        self.dr = nn.Dropout(0.5)\n",
    "\n",
    "    def forward(self, feat_encoderr, captions):\n",
    "        embeddings = self.dr(self.emb(captions))\n",
    "        embeddings = torch.cat((feat_encoderr.unsqueeze(0), embeddings), dim=0)\n",
    "        hid, _ = self.lstm(embeddings)\n",
    "        out = self.linear(hid)\n",
    "        return out\n",
    "\n",
    "\n",
    "class Image_Captioner(nn.Module):\n",
    "    def __init__(self, emb_size, hid_size, voc_size, num_layers):\n",
    "        super(Image_Captioner, self).__init__()\n",
    "        self.cap_encoder = image_encoder(emb_size)\n",
    "        self.cap_decoder = cap_decoder(emb_size, hid_size, voc_size, num_layers)\n",
    "\n",
    "    def forward(self, imgs, captions):\n",
    "        feat_encoderr = self.cap_encoder(imgs)\n",
    "        out = self.cap_decoder(feat_encoderr, captions)\n",
    "        return out\n",
    "\n",
    "    def cap_img(self, image, vocab, m_len=50):\n",
    "        res_cap = []\n",
    "\n",
    "        with torch.no_grad():\n",
    "            x = self.cap_encoder(image).unsqueeze(0)\n",
    "            sts = None\n",
    "\n",
    "            for _ in range(m_len):\n",
    "                hid, sts = self.cap_decoder.lstm(x, sts)\n",
    "                out = self.cap_decoder.linear(hid.squeeze(0))\n",
    "                predi = out.argmax(1)\n",
    "                res_cap.append(predi.item())\n",
    "                x = self.cap_decoder.emb(predi).unsqueeze(0)\n",
    "\n",
    "                if vocab.int_to_str[predi.item()] == \"<EOS>\":\n",
    "                    break\n",
    "\n",
    "        return [vocab.int_to_str[idx] for idx in res_cap]\n",
    "    \n",
    "def sve_ckpt(st, filename):\n",
    "    torch.save(st, filename)"
   ]
  },
  {
   "cell_type": "markdown",
   "id": "3b638086",
   "metadata": {
    "papermill": {
     "duration": 0.012121,
     "end_time": "2024-04-17T03:35:56.469921",
     "exception": false,
     "start_time": "2024-04-17T03:35:56.457800",
     "status": "completed"
    },
    "tags": []
   },
   "source": [
    "# Training the model "
   ]
  },
  {
   "cell_type": "markdown",
   "id": "16ba8981",
   "metadata": {
    "papermill": {
     "duration": 0.012193,
     "end_time": "2024-04-17T03:35:56.494546",
     "exception": false,
     "start_time": "2024-04-17T03:35:56.482353",
     "status": "completed"
    },
    "tags": []
   },
   "source": [
    "Here we train the last layer and pooler layer of Vision Transformer along with embedding layer of the encoder. We also train the LSTM decoder and evaluate the cider, blue, rouge-l metrics of the validation data."
   ]
  },
  {
   "cell_type": "code",
   "execution_count": 5,
   "id": "b2ac920e",
   "metadata": {
    "execution": {
     "iopub.execute_input": "2024-04-17T03:35:56.521426Z",
     "iopub.status.busy": "2024-04-17T03:35:56.521139Z",
     "iopub.status.idle": "2024-04-17T13:07:18.960234Z",
     "shell.execute_reply": "2024-04-17T13:07:18.959144Z"
    },
    "papermill": {
     "duration": 34285.768476,
     "end_time": "2024-04-17T13:07:22.275558",
     "exception": false,
     "start_time": "2024-04-17T03:35:56.507082",
     "status": "completed"
    },
    "tags": []
   },
   "outputs": [
    {
     "data": {
      "application/vnd.jupyter.widget-view+json": {
       "model_id": "3d650c277a6742c795f901998a820d48",
       "version_major": 2,
       "version_minor": 0
      },
      "text/plain": [
       "preprocessor_config.json:   0%|          | 0.00/160 [00:00<?, ?B/s]"
      ]
     },
     "metadata": {},
     "output_type": "display_data"
    },
    {
     "data": {
      "application/vnd.jupyter.widget-view+json": {
       "model_id": "73cf6bbb71ae413d800980dcd488e5d4",
       "version_major": 2,
       "version_minor": 0
      },
      "text/plain": [
       "config.json:   0%|          | 0.00/69.7k [00:00<?, ?B/s]"
      ]
     },
     "metadata": {},
     "output_type": "display_data"
    },
    {
     "data": {
      "application/vnd.jupyter.widget-view+json": {
       "model_id": "67e6caadb6204fb28c669d62eb796cb3",
       "version_major": 2,
       "version_minor": 0
      },
      "text/plain": [
       "model.safetensors:   0%|          | 0.00/346M [00:00<?, ?B/s]"
      ]
     },
     "metadata": {},
     "output_type": "display_data"
    },
    {
     "name": "stderr",
     "output_type": "stream",
     "text": [
      "Some weights of ViTModel were not initialized from the model checkpoint at google/vit-base-patch16-224 and are newly initialized: ['vit.pooler.dense.bias', 'vit.pooler.dense.weight']\n",
      "You should probably TRAIN this model on a down-stream task to be able to use it for predictions and inference.\n"
     ]
    },
    {
     "name": "stdout",
     "output_type": "stream",
     "text": [
      "Epoch: 1/300\n"
     ]
    },
    {
     "name": "stderr",
     "output_type": "stream",
     "text": [
      "                                                 \r"
     ]
    },
    {
     "name": "stdout",
     "output_type": "stream",
     "text": [
      "CIDEr score of val set:  7.398393603663587e-05\n",
      "BLEU score of val set:  0.15213632705152808\n",
      "ROUGE-l score of val set:  0.19903384148266617\n",
      "Epoch: 2/300\n"
     ]
    },
    {
     "name": "stderr",
     "output_type": "stream",
     "text": [
      "                                                 \r"
     ]
    },
    {
     "name": "stdout",
     "output_type": "stream",
     "text": [
      "CIDEr score of val set:  0.004214559048791489\n",
      "BLEU score of val set:  0.1901439782044994\n",
      "ROUGE-l score of val set:  0.22111024560457815\n",
      "Epoch: 3/300\n"
     ]
    },
    {
     "name": "stderr",
     "output_type": "stream",
     "text": [
      "                                                 \r"
     ]
    },
    {
     "name": "stdout",
     "output_type": "stream",
     "text": [
      "CIDEr score of val set:  0.0051975510395917204\n",
      "BLEU score of val set:  0.18329480895772576\n",
      "ROUGE-l score of val set:  0.20755707259422912\n",
      "Epoch: 4/300\n"
     ]
    },
    {
     "name": "stderr",
     "output_type": "stream",
     "text": [
      "                                                 \r"
     ]
    },
    {
     "name": "stdout",
     "output_type": "stream",
     "text": [
      "CIDEr score of val set:  0.009186284140842084\n",
      "BLEU score of val set:  0.2012986508286686\n",
      "ROUGE-l score of val set:  0.21341815997934438\n",
      "Epoch: 5/300\n"
     ]
    },
    {
     "name": "stderr",
     "output_type": "stream",
     "text": [
      "                                                 \r"
     ]
    },
    {
     "name": "stdout",
     "output_type": "stream",
     "text": [
      "CIDEr score of val set:  0.00951825704106659\n",
      "BLEU score of val set:  0.20653894525041006\n",
      "ROUGE-l score of val set:  0.21317768298608628\n",
      "Epoch: 6/300\n"
     ]
    },
    {
     "name": "stderr",
     "output_type": "stream",
     "text": [
      "                                                 \r"
     ]
    },
    {
     "name": "stdout",
     "output_type": "stream",
     "text": [
      "CIDEr score of val set:  0.009344330895193608\n",
      "BLEU score of val set:  0.20366758606189875\n",
      "ROUGE-l score of val set:  0.21163538295417472\n",
      "Epoch: 7/300\n"
     ]
    },
    {
     "name": "stderr",
     "output_type": "stream",
     "text": [
      "                                                 \r"
     ]
    },
    {
     "name": "stdout",
     "output_type": "stream",
     "text": [
      "CIDEr score of val set:  0.008775809666739402\n",
      "BLEU score of val set:  0.20044960471827056\n",
      "ROUGE-l score of val set:  0.21118351438276067\n",
      "Epoch: 8/300\n"
     ]
    },
    {
     "name": "stderr",
     "output_type": "stream",
     "text": [
      "                                                 \r"
     ]
    },
    {
     "name": "stdout",
     "output_type": "stream",
     "text": [
      "CIDEr score of val set:  0.010287437781650921\n",
      "BLEU score of val set:  0.1856979761498116\n",
      "ROUGE-l score of val set:  0.21247909599553078\n",
      "Epoch: 9/300\n"
     ]
    },
    {
     "name": "stderr",
     "output_type": "stream",
     "text": [
      "                                                 \r"
     ]
    },
    {
     "name": "stdout",
     "output_type": "stream",
     "text": [
      "CIDEr score of val set:  0.01247541148252602\n",
      "BLEU score of val set:  0.20927360712650997\n",
      "ROUGE-l score of val set:  0.2188668981774236\n",
      "Epoch: 10/300\n"
     ]
    },
    {
     "name": "stderr",
     "output_type": "stream",
     "text": [
      "                                                 \r"
     ]
    },
    {
     "name": "stdout",
     "output_type": "stream",
     "text": [
      "CIDEr score of val set:  0.016327725491728676\n",
      "BLEU score of val set:  0.21329590498251214\n",
      "ROUGE-l score of val set:  0.2235238612557724\n",
      "Epoch: 11/300\n"
     ]
    },
    {
     "name": "stderr",
     "output_type": "stream",
     "text": [
      "                                                 \r"
     ]
    },
    {
     "name": "stdout",
     "output_type": "stream",
     "text": [
      "CIDEr score of val set:  0.02120564023094167\n",
      "BLEU score of val set:  0.19090166628748637\n",
      "ROUGE-l score of val set:  0.21956989764675086\n",
      "Epoch: 12/300\n"
     ]
    },
    {
     "name": "stderr",
     "output_type": "stream",
     "text": [
      "                                                 \r"
     ]
    },
    {
     "name": "stdout",
     "output_type": "stream",
     "text": [
      "CIDEr score of val set:  0.02154544912113232\n",
      "BLEU score of val set:  0.2279282193586632\n",
      "ROUGE-l score of val set:  0.23217999854480234\n",
      "Epoch: 13/300\n"
     ]
    },
    {
     "name": "stderr",
     "output_type": "stream",
     "text": [
      "                                                 \r"
     ]
    },
    {
     "name": "stdout",
     "output_type": "stream",
     "text": [
      "CIDEr score of val set:  0.028824293760966114\n",
      "BLEU score of val set:  0.19325745320754878\n",
      "ROUGE-l score of val set:  0.21758848621949645\n",
      "Epoch: 14/300\n"
     ]
    },
    {
     "name": "stderr",
     "output_type": "stream",
     "text": [
      "                                                 \r"
     ]
    },
    {
     "name": "stdout",
     "output_type": "stream",
     "text": [
      "CIDEr score of val set:  0.022044556913111843\n",
      "BLEU score of val set:  0.20557805142083832\n",
      "ROUGE-l score of val set:  0.22061384142626933\n",
      "Epoch: 15/300\n"
     ]
    },
    {
     "name": "stderr",
     "output_type": "stream",
     "text": [
      "                                                 \r"
     ]
    },
    {
     "name": "stdout",
     "output_type": "stream",
     "text": [
      "CIDEr score of val set:  0.02139705086376869\n",
      "BLEU score of val set:  0.21299348290552864\n",
      "ROUGE-l score of val set:  0.22401247458410362\n",
      "Epoch: 16/300\n"
     ]
    },
    {
     "name": "stderr",
     "output_type": "stream",
     "text": [
      "                                                 \r"
     ]
    },
    {
     "name": "stdout",
     "output_type": "stream",
     "text": [
      "CIDEr score of val set:  0.023028365361033015\n",
      "BLEU score of val set:  0.20957013297763044\n",
      "ROUGE-l score of val set:  0.22453743679744217\n",
      "Epoch: 17/300\n"
     ]
    },
    {
     "name": "stderr",
     "output_type": "stream",
     "text": [
      "                                                 \r"
     ]
    },
    {
     "name": "stdout",
     "output_type": "stream",
     "text": [
      "CIDEr score of val set:  0.029052519875162684\n",
      "BLEU score of val set:  0.19948519713660784\n",
      "ROUGE-l score of val set:  0.22090235550576193\n",
      "Epoch: 18/300\n"
     ]
    },
    {
     "name": "stderr",
     "output_type": "stream",
     "text": [
      "                                                 \r"
     ]
    },
    {
     "name": "stdout",
     "output_type": "stream",
     "text": [
      "CIDEr score of val set:  0.02683523516377343\n",
      "BLEU score of val set:  0.21029174488518254\n",
      "ROUGE-l score of val set:  0.2256178269934668\n",
      "Epoch: 19/300\n"
     ]
    },
    {
     "name": "stderr",
     "output_type": "stream",
     "text": [
      "                                                 \r"
     ]
    },
    {
     "name": "stdout",
     "output_type": "stream",
     "text": [
      "CIDEr score of val set:  0.02577004947245681\n",
      "BLEU score of val set:  0.2098663679873433\n",
      "ROUGE-l score of val set:  0.22384347104926464\n",
      "Epoch: 20/300\n"
     ]
    },
    {
     "name": "stderr",
     "output_type": "stream",
     "text": [
      "                                                 \r"
     ]
    },
    {
     "name": "stdout",
     "output_type": "stream",
     "text": [
      "CIDEr score of val set:  0.030490695569739084\n",
      "BLEU score of val set:  0.2120173465387687\n",
      "ROUGE-l score of val set:  0.2257307980774061\n",
      "Epoch: 21/300\n"
     ]
    },
    {
     "name": "stderr",
     "output_type": "stream",
     "text": [
      "                                                 \r"
     ]
    },
    {
     "name": "stdout",
     "output_type": "stream",
     "text": [
      "CIDEr score of val set:  0.038204291187978995\n",
      "BLEU score of val set:  0.21330308869944287\n",
      "ROUGE-l score of val set:  0.22629843143579015\n",
      "Epoch: 22/300\n"
     ]
    },
    {
     "name": "stderr",
     "output_type": "stream",
     "text": [
      "                                                 \r"
     ]
    },
    {
     "name": "stdout",
     "output_type": "stream",
     "text": [
      "CIDEr score of val set:  0.03325469611358248\n",
      "BLEU score of val set:  0.21489527937857705\n",
      "ROUGE-l score of val set:  0.22873177536187791\n",
      "Epoch: 23/300\n"
     ]
    },
    {
     "name": "stderr",
     "output_type": "stream",
     "text": [
      "                                                 \r"
     ]
    },
    {
     "name": "stdout",
     "output_type": "stream",
     "text": [
      "CIDEr score of val set:  0.03396269946341874\n",
      "BLEU score of val set:  0.21639250944015112\n",
      "ROUGE-l score of val set:  0.22720114607831807\n",
      "Epoch: 24/300\n"
     ]
    },
    {
     "name": "stderr",
     "output_type": "stream",
     "text": [
      "                                                 \r"
     ]
    },
    {
     "name": "stdout",
     "output_type": "stream",
     "text": [
      "CIDEr score of val set:  0.039632196290808455\n",
      "BLEU score of val set:  0.21355215724002388\n",
      "ROUGE-l score of val set:  0.22496209503118206\n",
      "Epoch: 25/300\n"
     ]
    },
    {
     "name": "stderr",
     "output_type": "stream",
     "text": [
      "                                                 \r"
     ]
    },
    {
     "name": "stdout",
     "output_type": "stream",
     "text": [
      "CIDEr score of val set:  0.03751421137724431\n",
      "BLEU score of val set:  0.21257459398026304\n",
      "ROUGE-l score of val set:  0.22590707840100263\n",
      "Epoch: 26/300\n"
     ]
    },
    {
     "name": "stderr",
     "output_type": "stream",
     "text": [
      "                                                 \r"
     ]
    },
    {
     "name": "stdout",
     "output_type": "stream",
     "text": [
      "CIDEr score of val set:  0.04659738953227714\n",
      "BLEU score of val set:  0.21535758611506903\n",
      "ROUGE-l score of val set:  0.22757118878929278\n",
      "Epoch: 27/300\n"
     ]
    },
    {
     "name": "stderr",
     "output_type": "stream",
     "text": [
      "                                                 \r"
     ]
    },
    {
     "name": "stdout",
     "output_type": "stream",
     "text": [
      "CIDEr score of val set:  0.03661812365465128\n",
      "BLEU score of val set:  0.21087782199388216\n",
      "ROUGE-l score of val set:  0.22448928035831386\n",
      "Epoch: 28/300\n"
     ]
    },
    {
     "name": "stderr",
     "output_type": "stream",
     "text": [
      "                                                 \r"
     ]
    },
    {
     "name": "stdout",
     "output_type": "stream",
     "text": [
      "CIDEr score of val set:  0.03803067617780208\n",
      "BLEU score of val set:  0.21654737218633593\n",
      "ROUGE-l score of val set:  0.22787753026228724\n",
      "Epoch: 29/300\n"
     ]
    },
    {
     "name": "stderr",
     "output_type": "stream",
     "text": [
      "                                                 \r"
     ]
    },
    {
     "name": "stdout",
     "output_type": "stream",
     "text": [
      "CIDEr score of val set:  0.05482647030856471\n",
      "BLEU score of val set:  0.20766097821992277\n",
      "ROUGE-l score of val set:  0.22594509827139242\n",
      "Epoch: 30/300\n"
     ]
    },
    {
     "name": "stderr",
     "output_type": "stream",
     "text": [
      "                                                 \r"
     ]
    },
    {
     "name": "stdout",
     "output_type": "stream",
     "text": [
      "CIDEr score of val set:  0.05126836542894653\n",
      "BLEU score of val set:  0.20511744402981033\n",
      "ROUGE-l score of val set:  0.2196785129277733\n",
      "Epoch: 31/300\n"
     ]
    },
    {
     "name": "stderr",
     "output_type": "stream",
     "text": [
      "                                                 \r"
     ]
    },
    {
     "name": "stdout",
     "output_type": "stream",
     "text": [
      "CIDEr score of val set:  0.05358709572071151\n",
      "BLEU score of val set:  0.19801132330113735\n",
      "ROUGE-l score of val set:  0.21892210051899022\n",
      "Epoch: 32/300\n"
     ]
    },
    {
     "name": "stderr",
     "output_type": "stream",
     "text": [
      "                                                 \r"
     ]
    },
    {
     "name": "stdout",
     "output_type": "stream",
     "text": [
      "CIDEr score of val set:  0.06124747832842009\n",
      "BLEU score of val set:  0.20143894119095648\n",
      "ROUGE-l score of val set:  0.22101687990142913\n",
      "Epoch: 33/300\n"
     ]
    },
    {
     "name": "stderr",
     "output_type": "stream",
     "text": [
      "                                                 \r"
     ]
    },
    {
     "name": "stdout",
     "output_type": "stream",
     "text": [
      "CIDEr score of val set:  0.050649822804431976\n",
      "BLEU score of val set:  0.2139171705567465\n",
      "ROUGE-l score of val set:  0.22533167426914677\n",
      "Epoch: 34/300\n"
     ]
    },
    {
     "name": "stderr",
     "output_type": "stream",
     "text": [
      "                                                 \r"
     ]
    },
    {
     "name": "stdout",
     "output_type": "stream",
     "text": [
      "CIDEr score of val set:  0.061466680666472484\n",
      "BLEU score of val set:  0.20765050169746008\n",
      "ROUGE-l score of val set:  0.22534117421021732\n",
      "Epoch: 35/300\n"
     ]
    },
    {
     "name": "stderr",
     "output_type": "stream",
     "text": [
      "                                                 \r"
     ]
    },
    {
     "name": "stdout",
     "output_type": "stream",
     "text": [
      "CIDEr score of val set:  0.07201843961937536\n",
      "BLEU score of val set:  0.19997047421714537\n",
      "ROUGE-l score of val set:  0.22326298903493633\n",
      "Epoch: 36/300\n"
     ]
    },
    {
     "name": "stderr",
     "output_type": "stream",
     "text": [
      "                                                 \r"
     ]
    },
    {
     "name": "stdout",
     "output_type": "stream",
     "text": [
      "CIDEr score of val set:  0.0599743701789251\n",
      "BLEU score of val set:  0.207059476568401\n",
      "ROUGE-l score of val set:  0.22501000662505447\n",
      "Epoch: 37/300\n"
     ]
    },
    {
     "name": "stderr",
     "output_type": "stream",
     "text": [
      "                                                 \r"
     ]
    },
    {
     "name": "stdout",
     "output_type": "stream",
     "text": [
      "CIDEr score of val set:  0.0692917829150848\n",
      "BLEU score of val set:  0.2093387665153219\n",
      "ROUGE-l score of val set:  0.22409689100047517\n",
      "Epoch: 38/300\n"
     ]
    },
    {
     "name": "stderr",
     "output_type": "stream",
     "text": [
      "                                                 \r"
     ]
    },
    {
     "name": "stdout",
     "output_type": "stream",
     "text": [
      "CIDEr score of val set:  0.059517271922220324\n",
      "BLEU score of val set:  0.20310608337039668\n",
      "ROUGE-l score of val set:  0.2222339676203752\n",
      "Epoch: 39/300\n"
     ]
    },
    {
     "name": "stderr",
     "output_type": "stream",
     "text": [
      "                                                 \r"
     ]
    },
    {
     "name": "stdout",
     "output_type": "stream",
     "text": [
      "CIDEr score of val set:  0.0559031997627348\n",
      "BLEU score of val set:  0.21276733602926798\n",
      "ROUGE-l score of val set:  0.2244900359235584\n",
      "Epoch: 40/300\n"
     ]
    },
    {
     "name": "stderr",
     "output_type": "stream",
     "text": [
      "                                                 \r"
     ]
    },
    {
     "name": "stdout",
     "output_type": "stream",
     "text": [
      "CIDEr score of val set:  0.06309721602389565\n",
      "BLEU score of val set:  0.21276193139922014\n",
      "ROUGE-l score of val set:  0.22596375498248333\n",
      "Epoch: 41/300\n"
     ]
    },
    {
     "name": "stderr",
     "output_type": "stream",
     "text": [
      "                                                 \r"
     ]
    },
    {
     "name": "stdout",
     "output_type": "stream",
     "text": [
      "CIDEr score of val set:  0.06265069237357024\n",
      "BLEU score of val set:  0.20956157593249888\n",
      "ROUGE-l score of val set:  0.22368913898282425\n",
      "Epoch: 42/300\n"
     ]
    },
    {
     "name": "stderr",
     "output_type": "stream",
     "text": [
      "                                                 \r"
     ]
    },
    {
     "name": "stdout",
     "output_type": "stream",
     "text": [
      "CIDEr score of val set:  0.058471610815114115\n",
      "BLEU score of val set:  0.21708815417746694\n",
      "ROUGE-l score of val set:  0.22673182167873276\n",
      "Epoch: 43/300\n"
     ]
    },
    {
     "name": "stderr",
     "output_type": "stream",
     "text": [
      "                                                 \r"
     ]
    },
    {
     "name": "stdout",
     "output_type": "stream",
     "text": [
      "CIDEr score of val set:  0.04898601733837775\n",
      "BLEU score of val set:  0.21574369446722982\n",
      "ROUGE-l score of val set:  0.22443406823841522\n",
      "Epoch: 44/300\n"
     ]
    },
    {
     "name": "stderr",
     "output_type": "stream",
     "text": [
      "                                                 \r"
     ]
    },
    {
     "name": "stdout",
     "output_type": "stream",
     "text": [
      "CIDEr score of val set:  0.060051039554658306\n",
      "BLEU score of val set:  0.21511565151488524\n",
      "ROUGE-l score of val set:  0.22472294333897744\n",
      "Epoch: 45/300\n"
     ]
    },
    {
     "name": "stderr",
     "output_type": "stream",
     "text": [
      "                                                 \r"
     ]
    },
    {
     "name": "stdout",
     "output_type": "stream",
     "text": [
      "CIDEr score of val set:  0.06284165402835057\n",
      "BLEU score of val set:  0.21150138691101167\n",
      "ROUGE-l score of val set:  0.22364453690164102\n",
      "Epoch: 46/300\n"
     ]
    },
    {
     "name": "stderr",
     "output_type": "stream",
     "text": [
      "                                                 \r"
     ]
    },
    {
     "name": "stdout",
     "output_type": "stream",
     "text": [
      "CIDEr score of val set:  0.05788122997147215\n",
      "BLEU score of val set:  0.20835881945519585\n",
      "ROUGE-l score of val set:  0.22415028249025296\n",
      "Epoch: 47/300\n"
     ]
    },
    {
     "name": "stderr",
     "output_type": "stream",
     "text": [
      "                                                 \r"
     ]
    },
    {
     "name": "stdout",
     "output_type": "stream",
     "text": [
      "CIDEr score of val set:  0.0690940859037442\n",
      "BLEU score of val set:  0.2061455064078096\n",
      "ROUGE-l score of val set:  0.22643902668445987\n",
      "Epoch: 48/300\n"
     ]
    },
    {
     "name": "stderr",
     "output_type": "stream",
     "text": [
      "                                                 \r"
     ]
    },
    {
     "name": "stdout",
     "output_type": "stream",
     "text": [
      "CIDEr score of val set:  0.07481296026295853\n",
      "BLEU score of val set:  0.21399567953097273\n",
      "ROUGE-l score of val set:  0.22555815685095565\n",
      "Epoch: 49/300\n"
     ]
    },
    {
     "name": "stderr",
     "output_type": "stream",
     "text": [
      "                                                 \r"
     ]
    },
    {
     "name": "stdout",
     "output_type": "stream",
     "text": [
      "CIDEr score of val set:  0.0681249646282641\n",
      "BLEU score of val set:  0.21738345596467265\n",
      "ROUGE-l score of val set:  0.2270037319272288\n",
      "Epoch: 50/300\n"
     ]
    },
    {
     "name": "stderr",
     "output_type": "stream",
     "text": [
      "                                                 \r"
     ]
    },
    {
     "name": "stdout",
     "output_type": "stream",
     "text": [
      "CIDEr score of val set:  0.06622678562009596\n",
      "BLEU score of val set:  0.2156824284832704\n",
      "ROUGE-l score of val set:  0.22866415858500538\n",
      "Epoch: 51/300\n"
     ]
    },
    {
     "name": "stderr",
     "output_type": "stream",
     "text": [
      "                                                 \r"
     ]
    },
    {
     "name": "stdout",
     "output_type": "stream",
     "text": [
      "CIDEr score of val set:  0.07406139953084447\n",
      "BLEU score of val set:  0.20495935598187479\n",
      "ROUGE-l score of val set:  0.22447443830728486\n",
      "Epoch: 52/300\n"
     ]
    },
    {
     "name": "stderr",
     "output_type": "stream",
     "text": [
      "                                                 \r"
     ]
    },
    {
     "name": "stdout",
     "output_type": "stream",
     "text": [
      "CIDEr score of val set:  0.05128765008230704\n",
      "BLEU score of val set:  0.2238847846241597\n",
      "ROUGE-l score of val set:  0.22733121702423326\n",
      "Epoch: 53/300\n"
     ]
    },
    {
     "name": "stderr",
     "output_type": "stream",
     "text": [
      "                                                 \r"
     ]
    },
    {
     "name": "stdout",
     "output_type": "stream",
     "text": [
      "CIDEr score of val set:  0.06499425541118159\n",
      "BLEU score of val set:  0.2166762367288639\n",
      "ROUGE-l score of val set:  0.2253679004274192\n",
      "Epoch: 54/300\n"
     ]
    },
    {
     "name": "stderr",
     "output_type": "stream",
     "text": [
      "                                                 \r"
     ]
    },
    {
     "name": "stdout",
     "output_type": "stream",
     "text": [
      "CIDEr score of val set:  0.05912181290137488\n",
      "BLEU score of val set:  0.209018767390983\n",
      "ROUGE-l score of val set:  0.22379160855206665\n",
      "Epoch: 55/300\n"
     ]
    },
    {
     "name": "stderr",
     "output_type": "stream",
     "text": [
      "                                                 \r"
     ]
    },
    {
     "name": "stdout",
     "output_type": "stream",
     "text": [
      "CIDEr score of val set:  0.07285598085002973\n",
      "BLEU score of val set:  0.21796417154074424\n",
      "ROUGE-l score of val set:  0.2263118765456545\n",
      "Epoch: 56/300\n"
     ]
    },
    {
     "name": "stderr",
     "output_type": "stream",
     "text": [
      "                                                 \r"
     ]
    },
    {
     "name": "stdout",
     "output_type": "stream",
     "text": [
      "CIDEr score of val set:  0.06978959333133848\n",
      "BLEU score of val set:  0.21183530590312366\n",
      "ROUGE-l score of val set:  0.22403563212211428\n",
      "Epoch: 57/300\n"
     ]
    },
    {
     "name": "stderr",
     "output_type": "stream",
     "text": [
      "                                                 \r"
     ]
    },
    {
     "name": "stdout",
     "output_type": "stream",
     "text": [
      "CIDEr score of val set:  0.0654656449313638\n",
      "BLEU score of val set:  0.21838804194309905\n",
      "ROUGE-l score of val set:  0.22462168920294157\n",
      "Epoch: 58/300\n"
     ]
    },
    {
     "name": "stderr",
     "output_type": "stream",
     "text": [
      "                                                 \r"
     ]
    },
    {
     "name": "stdout",
     "output_type": "stream",
     "text": [
      "CIDEr score of val set:  0.07303995774173\n",
      "BLEU score of val set:  0.21333034698365072\n",
      "ROUGE-l score of val set:  0.22367332790141528\n",
      "Epoch: 59/300\n"
     ]
    },
    {
     "name": "stderr",
     "output_type": "stream",
     "text": [
      "                                                 \r"
     ]
    },
    {
     "name": "stdout",
     "output_type": "stream",
     "text": [
      "CIDEr score of val set:  0.06491699492219419\n",
      "BLEU score of val set:  0.20862878977821206\n",
      "ROUGE-l score of val set:  0.2219118326238505\n",
      "Epoch: 60/300\n"
     ]
    },
    {
     "name": "stderr",
     "output_type": "stream",
     "text": [
      "                                                 \r"
     ]
    },
    {
     "name": "stdout",
     "output_type": "stream",
     "text": [
      "CIDEr score of val set:  0.07050758375450263\n",
      "BLEU score of val set:  0.21383957183785957\n",
      "ROUGE-l score of val set:  0.2253590672304301\n",
      "Epoch: 61/300\n"
     ]
    },
    {
     "name": "stderr",
     "output_type": "stream",
     "text": [
      "                                                 \r"
     ]
    },
    {
     "name": "stdout",
     "output_type": "stream",
     "text": [
      "CIDEr score of val set:  0.06834326391821806\n",
      "BLEU score of val set:  0.21963893188543648\n",
      "ROUGE-l score of val set:  0.22481815415910172\n",
      "Epoch: 62/300\n"
     ]
    },
    {
     "name": "stderr",
     "output_type": "stream",
     "text": [
      "                                                 \r"
     ]
    },
    {
     "name": "stdout",
     "output_type": "stream",
     "text": [
      "CIDEr score of val set:  0.06062048778667342\n",
      "BLEU score of val set:  0.2273610145686466\n",
      "ROUGE-l score of val set:  0.22687899082311813\n",
      "Epoch: 63/300\n"
     ]
    },
    {
     "name": "stderr",
     "output_type": "stream",
     "text": [
      "                                                 \r"
     ]
    },
    {
     "name": "stdout",
     "output_type": "stream",
     "text": [
      "CIDEr score of val set:  0.07021538580840526\n",
      "BLEU score of val set:  0.2118316439507592\n",
      "ROUGE-l score of val set:  0.22197623557836502\n",
      "Epoch: 64/300\n"
     ]
    },
    {
     "name": "stderr",
     "output_type": "stream",
     "text": [
      "                                                 \r"
     ]
    },
    {
     "name": "stdout",
     "output_type": "stream",
     "text": [
      "CIDEr score of val set:  0.06514950265797315\n",
      "BLEU score of val set:  0.21739544951500683\n",
      "ROUGE-l score of val set:  0.22250573538723062\n",
      "Epoch: 65/300\n"
     ]
    },
    {
     "name": "stderr",
     "output_type": "stream",
     "text": [
      "                                                 \r"
     ]
    },
    {
     "name": "stdout",
     "output_type": "stream",
     "text": [
      "CIDEr score of val set:  0.06998241790385541\n",
      "BLEU score of val set:  0.2181588808800282\n",
      "ROUGE-l score of val set:  0.22596996237334213\n",
      "Epoch: 66/300\n"
     ]
    },
    {
     "name": "stderr",
     "output_type": "stream",
     "text": [
      "                                                 \r"
     ]
    },
    {
     "name": "stdout",
     "output_type": "stream",
     "text": [
      "CIDEr score of val set:  0.07291923935612195\n",
      "BLEU score of val set:  0.2199130768397425\n",
      "ROUGE-l score of val set:  0.22727674042469914\n",
      "Epoch: 67/300\n"
     ]
    },
    {
     "name": "stderr",
     "output_type": "stream",
     "text": [
      "                                                 \r"
     ]
    },
    {
     "name": "stdout",
     "output_type": "stream",
     "text": [
      "CIDEr score of val set:  0.06253825629157837\n",
      "BLEU score of val set:  0.22129291037996407\n",
      "ROUGE-l score of val set:  0.22432252313113893\n",
      "Epoch: 68/300\n"
     ]
    },
    {
     "name": "stderr",
     "output_type": "stream",
     "text": [
      "                                                 \r"
     ]
    },
    {
     "name": "stdout",
     "output_type": "stream",
     "text": [
      "CIDEr score of val set:  0.06775901528001162\n",
      "BLEU score of val set:  0.21191849440595148\n",
      "ROUGE-l score of val set:  0.22018207959811714\n",
      "Epoch: 69/300\n"
     ]
    },
    {
     "name": "stderr",
     "output_type": "stream",
     "text": [
      "                                                 \r"
     ]
    },
    {
     "name": "stdout",
     "output_type": "stream",
     "text": [
      "CIDEr score of val set:  0.07531682855540522\n",
      "BLEU score of val set:  0.21648153569333967\n",
      "ROUGE-l score of val set:  0.22457447752313717\n",
      "Epoch: 70/300\n"
     ]
    },
    {
     "name": "stderr",
     "output_type": "stream",
     "text": [
      "                                                 \r"
     ]
    },
    {
     "name": "stdout",
     "output_type": "stream",
     "text": [
      "CIDEr score of val set:  0.06395107965551083\n",
      "BLEU score of val set:  0.21553141774017026\n",
      "ROUGE-l score of val set:  0.22412729782978263\n",
      "Epoch: 71/300\n"
     ]
    },
    {
     "name": "stderr",
     "output_type": "stream",
     "text": [
      "                                                 \r"
     ]
    },
    {
     "name": "stdout",
     "output_type": "stream",
     "text": [
      "CIDEr score of val set:  0.06460497038343915\n",
      "BLEU score of val set:  0.20910145437352784\n",
      "ROUGE-l score of val set:  0.2207543181423038\n",
      "Epoch: 72/300\n"
     ]
    },
    {
     "name": "stderr",
     "output_type": "stream",
     "text": [
      "                                                 \r"
     ]
    },
    {
     "name": "stdout",
     "output_type": "stream",
     "text": [
      "CIDEr score of val set:  0.060868814467002146\n",
      "BLEU score of val set:  0.21628765155338897\n",
      "ROUGE-l score of val set:  0.2240081105190932\n",
      "Epoch: 73/300\n"
     ]
    },
    {
     "name": "stderr",
     "output_type": "stream",
     "text": [
      "                                                 \r"
     ]
    },
    {
     "name": "stdout",
     "output_type": "stream",
     "text": [
      "CIDEr score of val set:  0.07318707483407515\n",
      "BLEU score of val set:  0.21445701030235226\n",
      "ROUGE-l score of val set:  0.22592851454695892\n",
      "Epoch: 74/300\n"
     ]
    },
    {
     "name": "stderr",
     "output_type": "stream",
     "text": [
      "                                                 \r"
     ]
    },
    {
     "name": "stdout",
     "output_type": "stream",
     "text": [
      "CIDEr score of val set:  0.06612546163721957\n",
      "BLEU score of val set:  0.21751144719477467\n",
      "ROUGE-l score of val set:  0.22302908143132313\n",
      "Epoch: 75/300\n"
     ]
    },
    {
     "name": "stderr",
     "output_type": "stream",
     "text": [
      "                                                 \r"
     ]
    },
    {
     "name": "stdout",
     "output_type": "stream",
     "text": [
      "CIDEr score of val set:  0.06766174616576112\n",
      "BLEU score of val set:  0.2119213160199761\n",
      "ROUGE-l score of val set:  0.21965360883189025\n",
      "Epoch: 76/300\n"
     ]
    },
    {
     "name": "stderr",
     "output_type": "stream",
     "text": [
      "                                                 \r"
     ]
    },
    {
     "name": "stdout",
     "output_type": "stream",
     "text": [
      "CIDEr score of val set:  0.07369626720699378\n",
      "BLEU score of val set:  0.2090892827951166\n",
      "ROUGE-l score of val set:  0.22124306888347467\n",
      "Epoch: 77/300\n"
     ]
    },
    {
     "name": "stderr",
     "output_type": "stream",
     "text": [
      "                                                 \r"
     ]
    },
    {
     "name": "stdout",
     "output_type": "stream",
     "text": [
      "CIDEr score of val set:  0.07348894407241717\n",
      "BLEU score of val set:  0.21849425875800357\n",
      "ROUGE-l score of val set:  0.22433728220081445\n",
      "Epoch: 78/300\n"
     ]
    },
    {
     "name": "stderr",
     "output_type": "stream",
     "text": [
      "                                                 \r"
     ]
    },
    {
     "name": "stdout",
     "output_type": "stream",
     "text": [
      "CIDEr score of val set:  0.07220336244976872\n",
      "BLEU score of val set:  0.21955929489990392\n",
      "ROUGE-l score of val set:  0.22263319571922838\n",
      "Epoch: 79/300\n"
     ]
    },
    {
     "name": "stderr",
     "output_type": "stream",
     "text": [
      "                                                 \r"
     ]
    },
    {
     "name": "stdout",
     "output_type": "stream",
     "text": [
      "CIDEr score of val set:  0.06256651111227463\n",
      "BLEU score of val set:  0.21550516035268968\n",
      "ROUGE-l score of val set:  0.2221501039817324\n",
      "Epoch: 80/300\n"
     ]
    },
    {
     "name": "stderr",
     "output_type": "stream",
     "text": [
      "                                                 \r"
     ]
    },
    {
     "name": "stdout",
     "output_type": "stream",
     "text": [
      "CIDEr score of val set:  0.06769163462299405\n",
      "BLEU score of val set:  0.2107256082718233\n",
      "ROUGE-l score of val set:  0.21748697377886866\n",
      "Epoch: 81/300\n"
     ]
    },
    {
     "name": "stderr",
     "output_type": "stream",
     "text": [
      "                                                 \r"
     ]
    },
    {
     "name": "stdout",
     "output_type": "stream",
     "text": [
      "CIDEr score of val set:  0.07127877569354275\n",
      "BLEU score of val set:  0.21543862638664266\n",
      "ROUGE-l score of val set:  0.22114603129207044\n",
      "Epoch: 82/300\n"
     ]
    },
    {
     "name": "stderr",
     "output_type": "stream",
     "text": [
      "                                                 \r"
     ]
    },
    {
     "name": "stdout",
     "output_type": "stream",
     "text": [
      "CIDEr score of val set:  0.06920009028248088\n",
      "BLEU score of val set:  0.20944939490053782\n",
      "ROUGE-l score of val set:  0.22006289073630075\n",
      "Epoch: 83/300\n"
     ]
    },
    {
     "name": "stderr",
     "output_type": "stream",
     "text": [
      "                                                 \r"
     ]
    },
    {
     "name": "stdout",
     "output_type": "stream",
     "text": [
      "CIDEr score of val set:  0.06831413777895837\n",
      "BLEU score of val set:  0.2183360583025836\n",
      "ROUGE-l score of val set:  0.22304423238871024\n",
      "Epoch: 84/300\n"
     ]
    },
    {
     "name": "stderr",
     "output_type": "stream",
     "text": [
      "                                                 \r"
     ]
    },
    {
     "name": "stdout",
     "output_type": "stream",
     "text": [
      "CIDEr score of val set:  0.06577924196477795\n",
      "BLEU score of val set:  0.22531821789180842\n",
      "ROUGE-l score of val set:  0.22528625577148056\n",
      "Epoch: 85/300\n"
     ]
    },
    {
     "name": "stderr",
     "output_type": "stream",
     "text": [
      "                                                 \r"
     ]
    },
    {
     "name": "stdout",
     "output_type": "stream",
     "text": [
      "CIDEr score of val set:  0.06888087184387215\n",
      "BLEU score of val set:  0.2208667606643025\n",
      "ROUGE-l score of val set:  0.22257600035776984\n",
      "Epoch: 86/300\n"
     ]
    },
    {
     "name": "stderr",
     "output_type": "stream",
     "text": [
      "                                                 \r"
     ]
    },
    {
     "name": "stdout",
     "output_type": "stream",
     "text": [
      "CIDEr score of val set:  0.06963415037771127\n",
      "BLEU score of val set:  0.2188714252022857\n",
      "ROUGE-l score of val set:  0.21984355680145035\n",
      "Epoch: 87/300\n"
     ]
    },
    {
     "name": "stderr",
     "output_type": "stream",
     "text": [
      "                                                 \r"
     ]
    },
    {
     "name": "stdout",
     "output_type": "stream",
     "text": [
      "CIDEr score of val set:  0.061059226387986575\n",
      "BLEU score of val set:  0.2171514113349978\n",
      "ROUGE-l score of val set:  0.22083333448417852\n",
      "Epoch: 88/300\n"
     ]
    },
    {
     "name": "stderr",
     "output_type": "stream",
     "text": [
      "                                                 \r"
     ]
    },
    {
     "name": "stdout",
     "output_type": "stream",
     "text": [
      "CIDEr score of val set:  0.06987781296609506\n",
      "BLEU score of val set:  0.21415436711437\n",
      "ROUGE-l score of val set:  0.2207580866340803\n",
      "Epoch: 89/300\n"
     ]
    },
    {
     "name": "stderr",
     "output_type": "stream",
     "text": [
      "                                                 \r"
     ]
    },
    {
     "name": "stdout",
     "output_type": "stream",
     "text": [
      "CIDEr score of val set:  0.06142081214917979\n",
      "BLEU score of val set:  0.21787711090445677\n",
      "ROUGE-l score of val set:  0.22319022217767584\n",
      "Epoch: 90/300\n"
     ]
    },
    {
     "name": "stderr",
     "output_type": "stream",
     "text": [
      "                                                 \r"
     ]
    },
    {
     "name": "stdout",
     "output_type": "stream",
     "text": [
      "CIDEr score of val set:  0.06518230325018869\n",
      "BLEU score of val set:  0.22356403620722295\n",
      "ROUGE-l score of val set:  0.22367260460591584\n",
      "Epoch: 91/300\n"
     ]
    },
    {
     "name": "stderr",
     "output_type": "stream",
     "text": [
      "                                                 \r"
     ]
    },
    {
     "name": "stdout",
     "output_type": "stream",
     "text": [
      "CIDEr score of val set:  0.07343902853915923\n",
      "BLEU score of val set:  0.22195651487596962\n",
      "ROUGE-l score of val set:  0.22399923769163138\n",
      "Epoch: 92/300\n"
     ]
    },
    {
     "name": "stderr",
     "output_type": "stream",
     "text": [
      "                                                 \r"
     ]
    },
    {
     "name": "stdout",
     "output_type": "stream",
     "text": [
      "CIDEr score of val set:  0.07683818292928718\n",
      "BLEU score of val set:  0.21784848918245878\n",
      "ROUGE-l score of val set:  0.21929560900424644\n",
      "Epoch: 93/300\n"
     ]
    },
    {
     "name": "stderr",
     "output_type": "stream",
     "text": [
      "                                                 \r"
     ]
    },
    {
     "name": "stdout",
     "output_type": "stream",
     "text": [
      "CIDEr score of val set:  0.07210453696365755\n",
      "BLEU score of val set:  0.2167761451643488\n",
      "ROUGE-l score of val set:  0.2223506292343232\n",
      "Epoch: 94/300\n"
     ]
    },
    {
     "name": "stderr",
     "output_type": "stream",
     "text": [
      "                                                 \r"
     ]
    },
    {
     "name": "stdout",
     "output_type": "stream",
     "text": [
      "CIDEr score of val set:  0.06908330840447463\n",
      "BLEU score of val set:  0.21019352263100072\n",
      "ROUGE-l score of val set:  0.21773401420310226\n",
      "Epoch: 95/300\n"
     ]
    },
    {
     "name": "stderr",
     "output_type": "stream",
     "text": [
      "                                                 \r"
     ]
    },
    {
     "name": "stdout",
     "output_type": "stream",
     "text": [
      "CIDEr score of val set:  0.06460170571207528\n",
      "BLEU score of val set:  0.218393827185781\n",
      "ROUGE-l score of val set:  0.2213694186312571\n",
      "Epoch: 96/300\n"
     ]
    },
    {
     "name": "stderr",
     "output_type": "stream",
     "text": [
      "                                                 \r"
     ]
    },
    {
     "name": "stdout",
     "output_type": "stream",
     "text": [
      "CIDEr score of val set:  0.07354006797284393\n",
      "BLEU score of val set:  0.2220576354282776\n",
      "ROUGE-l score of val set:  0.22375712389457436\n",
      "Epoch: 97/300\n"
     ]
    },
    {
     "name": "stderr",
     "output_type": "stream",
     "text": [
      "                                                 \r"
     ]
    },
    {
     "name": "stdout",
     "output_type": "stream",
     "text": [
      "CIDEr score of val set:  0.06687209384349235\n",
      "BLEU score of val set:  0.21636964217248966\n",
      "ROUGE-l score of val set:  0.2193976543596172\n",
      "Epoch: 98/300\n"
     ]
    },
    {
     "name": "stderr",
     "output_type": "stream",
     "text": [
      "                                                 \r"
     ]
    },
    {
     "name": "stdout",
     "output_type": "stream",
     "text": [
      "CIDEr score of val set:  0.05766228074546738\n",
      "BLEU score of val set:  0.21604704951973785\n",
      "ROUGE-l score of val set:  0.21743609447783513\n",
      "Epoch: 99/300\n"
     ]
    },
    {
     "name": "stderr",
     "output_type": "stream",
     "text": [
      "                                                 \r"
     ]
    },
    {
     "name": "stdout",
     "output_type": "stream",
     "text": [
      "CIDEr score of val set:  0.07829101333294756\n",
      "BLEU score of val set:  0.2209315731251183\n",
      "ROUGE-l score of val set:  0.22401851615235327\n",
      "Epoch: 100/300\n"
     ]
    },
    {
     "name": "stderr",
     "output_type": "stream",
     "text": [
      "                                                 \r"
     ]
    },
    {
     "name": "stdout",
     "output_type": "stream",
     "text": [
      "CIDEr score of val set:  0.0647958311424224\n",
      "BLEU score of val set:  0.22644976156627875\n",
      "ROUGE-l score of val set:  0.22468059907095647\n",
      "Epoch: 101/300\n"
     ]
    },
    {
     "name": "stderr",
     "output_type": "stream",
     "text": [
      "                                                 \r"
     ]
    },
    {
     "name": "stdout",
     "output_type": "stream",
     "text": [
      "CIDEr score of val set:  0.083092594566528\n",
      "BLEU score of val set:  0.2236426392125643\n",
      "ROUGE-l score of val set:  0.22014563292875985\n",
      "Epoch: 102/300\n"
     ]
    },
    {
     "name": "stderr",
     "output_type": "stream",
     "text": [
      "                                                 \r"
     ]
    },
    {
     "name": "stdout",
     "output_type": "stream",
     "text": [
      "CIDEr score of val set:  0.07168613347855059\n",
      "BLEU score of val set:  0.2209622333523764\n",
      "ROUGE-l score of val set:  0.2216604816543931\n",
      "Epoch: 103/300\n"
     ]
    },
    {
     "name": "stderr",
     "output_type": "stream",
     "text": [
      "                                                 \r"
     ]
    },
    {
     "name": "stdout",
     "output_type": "stream",
     "text": [
      "CIDEr score of val set:  0.07933971849247749\n",
      "BLEU score of val set:  0.2234667740862159\n",
      "ROUGE-l score of val set:  0.2212714717047288\n",
      "Epoch: 104/300\n"
     ]
    },
    {
     "name": "stderr",
     "output_type": "stream",
     "text": [
      "                                                 \r"
     ]
    },
    {
     "name": "stdout",
     "output_type": "stream",
     "text": [
      "CIDEr score of val set:  0.06881018480271311\n",
      "BLEU score of val set:  0.22554381850178512\n",
      "ROUGE-l score of val set:  0.22409594465079097\n",
      "Epoch: 105/300\n"
     ]
    },
    {
     "name": "stderr",
     "output_type": "stream",
     "text": [
      "                                                 \r"
     ]
    },
    {
     "name": "stdout",
     "output_type": "stream",
     "text": [
      "CIDEr score of val set:  0.06957054508328692\n",
      "BLEU score of val set:  0.22710318599205392\n",
      "ROUGE-l score of val set:  0.22108415093145115\n",
      "Epoch: 106/300\n"
     ]
    },
    {
     "name": "stderr",
     "output_type": "stream",
     "text": [
      "                                                 \r"
     ]
    },
    {
     "name": "stdout",
     "output_type": "stream",
     "text": [
      "CIDEr score of val set:  0.07017517892472296\n",
      "BLEU score of val set:  0.2183587964044305\n",
      "ROUGE-l score of val set:  0.22092088535176665\n",
      "Epoch: 107/300\n"
     ]
    },
    {
     "name": "stderr",
     "output_type": "stream",
     "text": [
      "                                                 \r"
     ]
    },
    {
     "name": "stdout",
     "output_type": "stream",
     "text": [
      "CIDEr score of val set:  0.07086689825937965\n",
      "BLEU score of val set:  0.22148318331770847\n",
      "ROUGE-l score of val set:  0.22189691173530174\n",
      "Epoch: 108/300\n"
     ]
    },
    {
     "name": "stderr",
     "output_type": "stream",
     "text": [
      "                                                 \r"
     ]
    },
    {
     "name": "stdout",
     "output_type": "stream",
     "text": [
      "CIDEr score of val set:  0.06519335218548736\n",
      "BLEU score of val set:  0.22281494638001464\n",
      "ROUGE-l score of val set:  0.22298221603470386\n",
      "Epoch: 109/300\n"
     ]
    },
    {
     "name": "stderr",
     "output_type": "stream",
     "text": [
      "                                                 \r"
     ]
    },
    {
     "name": "stdout",
     "output_type": "stream",
     "text": [
      "CIDEr score of val set:  0.06555459671323319\n",
      "BLEU score of val set:  0.22477092663708279\n",
      "ROUGE-l score of val set:  0.22004552710278893\n",
      "Epoch: 110/300\n"
     ]
    },
    {
     "name": "stderr",
     "output_type": "stream",
     "text": [
      "                                                 \r"
     ]
    },
    {
     "name": "stdout",
     "output_type": "stream",
     "text": [
      "CIDEr score of val set:  0.0831266569321545\n",
      "BLEU score of val set:  0.22498518934800243\n",
      "ROUGE-l score of val set:  0.22322277902170337\n",
      "Epoch: 111/300\n"
     ]
    },
    {
     "name": "stderr",
     "output_type": "stream",
     "text": [
      "                                                 \r"
     ]
    },
    {
     "name": "stdout",
     "output_type": "stream",
     "text": [
      "CIDEr score of val set:  0.07397713193089772\n",
      "BLEU score of val set:  0.22465707890268014\n",
      "ROUGE-l score of val set:  0.22318400643745678\n",
      "Epoch: 112/300\n"
     ]
    },
    {
     "name": "stderr",
     "output_type": "stream",
     "text": [
      "                                                 \r"
     ]
    },
    {
     "name": "stdout",
     "output_type": "stream",
     "text": [
      "CIDEr score of val set:  0.0646518001937283\n",
      "BLEU score of val set:  0.21978609189285303\n",
      "ROUGE-l score of val set:  0.21912060927239707\n",
      "Epoch: 113/300\n"
     ]
    },
    {
     "name": "stderr",
     "output_type": "stream",
     "text": [
      "                                                 \r"
     ]
    },
    {
     "name": "stdout",
     "output_type": "stream",
     "text": [
      "CIDEr score of val set:  0.06974267305438943\n",
      "BLEU score of val set:  0.22208477228298282\n",
      "ROUGE-l score of val set:  0.220538418673037\n",
      "Epoch: 114/300\n"
     ]
    },
    {
     "name": "stderr",
     "output_type": "stream",
     "text": [
      "                                                 \r"
     ]
    },
    {
     "name": "stdout",
     "output_type": "stream",
     "text": [
      "CIDEr score of val set:  0.07553061922312736\n",
      "BLEU score of val set:  0.2283433850480039\n",
      "ROUGE-l score of val set:  0.22246065060061038\n",
      "Epoch: 115/300\n"
     ]
    },
    {
     "name": "stderr",
     "output_type": "stream",
     "text": [
      "                                                 \r"
     ]
    },
    {
     "name": "stdout",
     "output_type": "stream",
     "text": [
      "CIDEr score of val set:  0.07293226486927781\n",
      "BLEU score of val set:  0.2188498038167516\n",
      "ROUGE-l score of val set:  0.22088607760907558\n",
      "Epoch: 116/300\n"
     ]
    },
    {
     "name": "stderr",
     "output_type": "stream",
     "text": [
      "                                                 \r"
     ]
    },
    {
     "name": "stdout",
     "output_type": "stream",
     "text": [
      "CIDEr score of val set:  0.06885982339660507\n",
      "BLEU score of val set:  0.22382937159032873\n",
      "ROUGE-l score of val set:  0.2199703640429216\n",
      "Epoch: 117/300\n"
     ]
    },
    {
     "name": "stderr",
     "output_type": "stream",
     "text": [
      "                                                 \r"
     ]
    },
    {
     "name": "stdout",
     "output_type": "stream",
     "text": [
      "CIDEr score of val set:  0.07476359508000908\n",
      "BLEU score of val set:  0.2153482640939361\n",
      "ROUGE-l score of val set:  0.21788080487466796\n",
      "Epoch: 118/300\n"
     ]
    },
    {
     "name": "stderr",
     "output_type": "stream",
     "text": [
      "                                                 \r"
     ]
    },
    {
     "name": "stdout",
     "output_type": "stream",
     "text": [
      "CIDEr score of val set:  0.07464155025918001\n",
      "BLEU score of val set:  0.22077747675724108\n",
      "ROUGE-l score of val set:  0.21964115891407063\n",
      "Epoch: 119/300\n"
     ]
    },
    {
     "name": "stderr",
     "output_type": "stream",
     "text": [
      "                                                 \r"
     ]
    },
    {
     "name": "stdout",
     "output_type": "stream",
     "text": [
      "CIDEr score of val set:  0.06250660413430961\n",
      "BLEU score of val set:  0.21688847731721114\n",
      "ROUGE-l score of val set:  0.21761694067726411\n",
      "Epoch: 120/300\n"
     ]
    },
    {
     "name": "stderr",
     "output_type": "stream",
     "text": [
      "                                                 \r"
     ]
    },
    {
     "name": "stdout",
     "output_type": "stream",
     "text": [
      "CIDEr score of val set:  0.06238830045734855\n",
      "BLEU score of val set:  0.22822241508992622\n",
      "ROUGE-l score of val set:  0.2202304078513294\n",
      "Epoch: 121/300\n"
     ]
    },
    {
     "name": "stderr",
     "output_type": "stream",
     "text": [
      "                                                 \r"
     ]
    },
    {
     "name": "stdout",
     "output_type": "stream",
     "text": [
      "CIDEr score of val set:  0.08146573895241467\n",
      "BLEU score of val set:  0.22149393236117898\n",
      "ROUGE-l score of val set:  0.2200157877809291\n",
      "Epoch: 122/300\n"
     ]
    },
    {
     "name": "stderr",
     "output_type": "stream",
     "text": [
      "                                                 \r"
     ]
    },
    {
     "name": "stdout",
     "output_type": "stream",
     "text": [
      "CIDEr score of val set:  0.06943755452993065\n",
      "BLEU score of val set:  0.22274797493257179\n",
      "ROUGE-l score of val set:  0.22104380003282476\n",
      "Epoch: 123/300\n"
     ]
    },
    {
     "name": "stderr",
     "output_type": "stream",
     "text": [
      "                                                 \r"
     ]
    },
    {
     "name": "stdout",
     "output_type": "stream",
     "text": [
      "CIDEr score of val set:  0.06839652975749246\n",
      "BLEU score of val set:  0.22495795918006378\n",
      "ROUGE-l score of val set:  0.22160469844991867\n",
      "Epoch: 124/300\n"
     ]
    },
    {
     "name": "stderr",
     "output_type": "stream",
     "text": [
      "                                                 \r"
     ]
    },
    {
     "name": "stdout",
     "output_type": "stream",
     "text": [
      "CIDEr score of val set:  0.07661712579776632\n",
      "BLEU score of val set:  0.22178209246895286\n",
      "ROUGE-l score of val set:  0.22165327852114455\n",
      "Epoch: 125/300\n"
     ]
    },
    {
     "name": "stderr",
     "output_type": "stream",
     "text": [
      "                                                 \r"
     ]
    },
    {
     "name": "stdout",
     "output_type": "stream",
     "text": [
      "CIDEr score of val set:  0.07002529000780562\n",
      "BLEU score of val set:  0.2186997401665642\n",
      "ROUGE-l score of val set:  0.21767676847097406\n",
      "Epoch: 126/300\n"
     ]
    },
    {
     "name": "stderr",
     "output_type": "stream",
     "text": [
      "                                                 \r"
     ]
    },
    {
     "name": "stdout",
     "output_type": "stream",
     "text": [
      "CIDEr score of val set:  0.07127454023944092\n",
      "BLEU score of val set:  0.2264742293323973\n",
      "ROUGE-l score of val set:  0.220489424621377\n",
      "Epoch: 127/300\n"
     ]
    },
    {
     "name": "stderr",
     "output_type": "stream",
     "text": [
      "                                                 \r"
     ]
    },
    {
     "name": "stdout",
     "output_type": "stream",
     "text": [
      "CIDEr score of val set:  0.060779139937578525\n",
      "BLEU score of val set:  0.22675829986405674\n",
      "ROUGE-l score of val set:  0.22248424515722146\n",
      "Epoch: 128/300\n"
     ]
    },
    {
     "name": "stderr",
     "output_type": "stream",
     "text": [
      "                                                 \r"
     ]
    },
    {
     "name": "stdout",
     "output_type": "stream",
     "text": [
      "CIDEr score of val set:  0.06874886452123423\n",
      "BLEU score of val set:  0.21888226071157518\n",
      "ROUGE-l score of val set:  0.21805176021297606\n",
      "Epoch: 129/300\n"
     ]
    },
    {
     "name": "stderr",
     "output_type": "stream",
     "text": [
      "                                                 \r"
     ]
    },
    {
     "name": "stdout",
     "output_type": "stream",
     "text": [
      "CIDEr score of val set:  0.07420577338639829\n",
      "BLEU score of val set:  0.2256100709162688\n",
      "ROUGE-l score of val set:  0.2215289733474616\n",
      "Epoch: 130/300\n"
     ]
    },
    {
     "name": "stderr",
     "output_type": "stream",
     "text": [
      "                                                 \r"
     ]
    },
    {
     "name": "stdout",
     "output_type": "stream",
     "text": [
      "CIDEr score of val set:  0.09223108972843995\n",
      "BLEU score of val set:  0.22131059827784128\n",
      "ROUGE-l score of val set:  0.22004819199442216\n",
      "Epoch: 131/300\n"
     ]
    },
    {
     "name": "stderr",
     "output_type": "stream",
     "text": [
      "                                                 \r"
     ]
    },
    {
     "name": "stdout",
     "output_type": "stream",
     "text": [
      "CIDEr score of val set:  0.06915123465366693\n",
      "BLEU score of val set:  0.2214993112243074\n",
      "ROUGE-l score of val set:  0.2166348169555766\n",
      "Epoch: 132/300\n"
     ]
    },
    {
     "name": "stderr",
     "output_type": "stream",
     "text": [
      "                                                 \r"
     ]
    },
    {
     "name": "stdout",
     "output_type": "stream",
     "text": [
      "CIDEr score of val set:  0.07382657766183505\n",
      "BLEU score of val set:  0.2233167647811558\n",
      "ROUGE-l score of val set:  0.21998818396600978\n",
      "Epoch: 133/300\n"
     ]
    },
    {
     "name": "stderr",
     "output_type": "stream",
     "text": [
      "                                                 \r"
     ]
    },
    {
     "name": "stdout",
     "output_type": "stream",
     "text": [
      "CIDEr score of val set:  0.07695972789364523\n",
      "BLEU score of val set:  0.22596843149680368\n",
      "ROUGE-l score of val set:  0.2196355318954972\n",
      "Epoch: 134/300\n"
     ]
    },
    {
     "name": "stderr",
     "output_type": "stream",
     "text": [
      "                                                 \r"
     ]
    },
    {
     "name": "stdout",
     "output_type": "stream",
     "text": [
      "CIDEr score of val set:  0.06758645722546422\n",
      "BLEU score of val set:  0.22347117419478663\n",
      "ROUGE-l score of val set:  0.21513191940493573\n",
      "Epoch: 135/300\n"
     ]
    },
    {
     "name": "stderr",
     "output_type": "stream",
     "text": [
      "                                                 \r"
     ]
    },
    {
     "name": "stdout",
     "output_type": "stream",
     "text": [
      "CIDEr score of val set:  0.06415052410648824\n",
      "BLEU score of val set:  0.2215513535813393\n",
      "ROUGE-l score of val set:  0.21730579386766552\n",
      "Epoch: 136/300\n"
     ]
    },
    {
     "name": "stderr",
     "output_type": "stream",
     "text": [
      "                                                 \r"
     ]
    },
    {
     "name": "stdout",
     "output_type": "stream",
     "text": [
      "CIDEr score of val set:  0.07422188162696608\n",
      "BLEU score of val set:  0.22471782765404152\n",
      "ROUGE-l score of val set:  0.21903401703627975\n",
      "Epoch: 137/300\n"
     ]
    },
    {
     "name": "stderr",
     "output_type": "stream",
     "text": [
      "                                                 \r"
     ]
    },
    {
     "name": "stdout",
     "output_type": "stream",
     "text": [
      "CIDEr score of val set:  0.070834530069492\n",
      "BLEU score of val set:  0.23096646122726952\n",
      "ROUGE-l score of val set:  0.22177806728491914\n",
      "Epoch: 138/300\n"
     ]
    },
    {
     "name": "stderr",
     "output_type": "stream",
     "text": [
      "                                                 \r"
     ]
    },
    {
     "name": "stdout",
     "output_type": "stream",
     "text": [
      "CIDEr score of val set:  0.06991298055236736\n",
      "BLEU score of val set:  0.2296862583673888\n",
      "ROUGE-l score of val set:  0.21980768982521057\n",
      "Epoch: 139/300\n"
     ]
    },
    {
     "name": "stderr",
     "output_type": "stream",
     "text": [
      "                                                 \r"
     ]
    },
    {
     "name": "stdout",
     "output_type": "stream",
     "text": [
      "CIDEr score of val set:  0.07350259572797234\n",
      "BLEU score of val set:  0.22013720766314843\n",
      "ROUGE-l score of val set:  0.21411401452436415\n",
      "Epoch: 140/300\n"
     ]
    },
    {
     "name": "stderr",
     "output_type": "stream",
     "text": [
      "                                                 \r"
     ]
    },
    {
     "name": "stdout",
     "output_type": "stream",
     "text": [
      "CIDEr score of val set:  0.06980909805762428\n",
      "BLEU score of val set:  0.22863101716700698\n",
      "ROUGE-l score of val set:  0.22061686887311388\n",
      "Epoch: 141/300\n"
     ]
    },
    {
     "name": "stderr",
     "output_type": "stream",
     "text": [
      "                                                 \r"
     ]
    },
    {
     "name": "stdout",
     "output_type": "stream",
     "text": [
      "CIDEr score of val set:  0.07510141581088794\n",
      "BLEU score of val set:  0.22586227640638573\n",
      "ROUGE-l score of val set:  0.21947692134614183\n",
      "Epoch: 142/300\n"
     ]
    },
    {
     "name": "stderr",
     "output_type": "stream",
     "text": [
      "                                                 \r"
     ]
    },
    {
     "name": "stdout",
     "output_type": "stream",
     "text": [
      "CIDEr score of val set:  0.06652774460723447\n",
      "BLEU score of val set:  0.21775879800353143\n",
      "ROUGE-l score of val set:  0.21540674001361684\n",
      "Epoch: 143/300\n"
     ]
    },
    {
     "name": "stderr",
     "output_type": "stream",
     "text": [
      "                                                 \r"
     ]
    },
    {
     "name": "stdout",
     "output_type": "stream",
     "text": [
      "CIDEr score of val set:  0.06956589217659234\n",
      "BLEU score of val set:  0.22413005948216352\n",
      "ROUGE-l score of val set:  0.21802385702917548\n",
      "Epoch: 144/300\n"
     ]
    },
    {
     "name": "stderr",
     "output_type": "stream",
     "text": [
      "                                                 \r"
     ]
    },
    {
     "name": "stdout",
     "output_type": "stream",
     "text": [
      "CIDEr score of val set:  0.061946374187264085\n",
      "BLEU score of val set:  0.22637390916926853\n",
      "ROUGE-l score of val set:  0.21787300096511686\n",
      "Epoch: 145/300\n"
     ]
    },
    {
     "name": "stderr",
     "output_type": "stream",
     "text": [
      "                                                 \r"
     ]
    },
    {
     "name": "stdout",
     "output_type": "stream",
     "text": [
      "CIDEr score of val set:  0.07264106030670087\n",
      "BLEU score of val set:  0.23104657698816464\n",
      "ROUGE-l score of val set:  0.21877279982480924\n",
      "Epoch: 146/300\n"
     ]
    },
    {
     "name": "stderr",
     "output_type": "stream",
     "text": [
      "                                                 \r"
     ]
    },
    {
     "name": "stdout",
     "output_type": "stream",
     "text": [
      "CIDEr score of val set:  0.06307088778464745\n",
      "BLEU score of val set:  0.2231049724636958\n",
      "ROUGE-l score of val set:  0.21380615894375674\n",
      "Epoch: 147/300\n"
     ]
    },
    {
     "name": "stderr",
     "output_type": "stream",
     "text": [
      "                                                 \r"
     ]
    },
    {
     "name": "stdout",
     "output_type": "stream",
     "text": [
      "CIDEr score of val set:  0.06828509498301423\n",
      "BLEU score of val set:  0.2225376542361776\n",
      "ROUGE-l score of val set:  0.21774880618904813\n",
      "Epoch: 148/300\n"
     ]
    },
    {
     "name": "stderr",
     "output_type": "stream",
     "text": [
      "                                                 \r"
     ]
    },
    {
     "name": "stdout",
     "output_type": "stream",
     "text": [
      "CIDEr score of val set:  0.06964480075843207\n",
      "BLEU score of val set:  0.22106738706748444\n",
      "ROUGE-l score of val set:  0.21913378848668513\n",
      "Epoch: 149/300\n"
     ]
    },
    {
     "name": "stderr",
     "output_type": "stream",
     "text": [
      "                                                 \r"
     ]
    },
    {
     "name": "stdout",
     "output_type": "stream",
     "text": [
      "CIDEr score of val set:  0.0681352563854607\n",
      "BLEU score of val set:  0.2263803618465871\n",
      "ROUGE-l score of val set:  0.21618316041102148\n",
      "Epoch: 150/300\n"
     ]
    },
    {
     "name": "stderr",
     "output_type": "stream",
     "text": [
      "                                                 \r"
     ]
    },
    {
     "name": "stdout",
     "output_type": "stream",
     "text": [
      "CIDEr score of val set:  0.057684987167178264\n",
      "BLEU score of val set:  0.22186136482348448\n",
      "ROUGE-l score of val set:  0.21442981001097025\n",
      "Epoch: 151/300\n"
     ]
    },
    {
     "name": "stderr",
     "output_type": "stream",
     "text": [
      "                                                 \r"
     ]
    },
    {
     "name": "stdout",
     "output_type": "stream",
     "text": [
      "CIDEr score of val set:  0.07189497097575696\n",
      "BLEU score of val set:  0.2240154897586401\n",
      "ROUGE-l score of val set:  0.21755074681997413\n",
      "Epoch: 152/300\n"
     ]
    },
    {
     "name": "stderr",
     "output_type": "stream",
     "text": [
      "                                                 \r"
     ]
    },
    {
     "name": "stdout",
     "output_type": "stream",
     "text": [
      "CIDEr score of val set:  0.06380106961377154\n",
      "BLEU score of val set:  0.22633877481913772\n",
      "ROUGE-l score of val set:  0.2170846830883678\n",
      "Epoch: 153/300\n"
     ]
    },
    {
     "name": "stderr",
     "output_type": "stream",
     "text": [
      "                                                 \r"
     ]
    },
    {
     "name": "stdout",
     "output_type": "stream",
     "text": [
      "CIDEr score of val set:  0.07378256199377392\n",
      "BLEU score of val set:  0.2233090768331326\n",
      "ROUGE-l score of val set:  0.2181590593763082\n",
      "Epoch: 154/300\n"
     ]
    },
    {
     "name": "stderr",
     "output_type": "stream",
     "text": [
      "                                                 \r"
     ]
    },
    {
     "name": "stdout",
     "output_type": "stream",
     "text": [
      "CIDEr score of val set:  0.0679139683370454\n",
      "BLEU score of val set:  0.2224561735064955\n",
      "ROUGE-l score of val set:  0.21585010052439849\n",
      "Epoch: 155/300\n"
     ]
    },
    {
     "name": "stderr",
     "output_type": "stream",
     "text": [
      "                                                 \r"
     ]
    },
    {
     "name": "stdout",
     "output_type": "stream",
     "text": [
      "CIDEr score of val set:  0.06919640953132776\n",
      "BLEU score of val set:  0.22774378074742618\n",
      "ROUGE-l score of val set:  0.21793636809161757\n",
      "Epoch: 156/300\n"
     ]
    },
    {
     "name": "stderr",
     "output_type": "stream",
     "text": [
      "                                                 \r"
     ]
    },
    {
     "name": "stdout",
     "output_type": "stream",
     "text": [
      "CIDEr score of val set:  0.06749012405920127\n",
      "BLEU score of val set:  0.22100836352664724\n",
      "ROUGE-l score of val set:  0.21484030994794992\n",
      "Epoch: 157/300\n"
     ]
    },
    {
     "name": "stderr",
     "output_type": "stream",
     "text": [
      "                                                 \r"
     ]
    },
    {
     "name": "stdout",
     "output_type": "stream",
     "text": [
      "CIDEr score of val set:  0.06286344773850036\n",
      "BLEU score of val set:  0.22700845346803525\n",
      "ROUGE-l score of val set:  0.21750120547552365\n",
      "Epoch: 158/300\n"
     ]
    },
    {
     "name": "stderr",
     "output_type": "stream",
     "text": [
      "                                                 \r"
     ]
    },
    {
     "name": "stdout",
     "output_type": "stream",
     "text": [
      "CIDEr score of val set:  0.06494382793349271\n",
      "BLEU score of val set:  0.2220527160018317\n",
      "ROUGE-l score of val set:  0.21449261771433165\n",
      "Epoch: 159/300\n"
     ]
    },
    {
     "name": "stderr",
     "output_type": "stream",
     "text": [
      "                                                 \r"
     ]
    },
    {
     "name": "stdout",
     "output_type": "stream",
     "text": [
      "CIDEr score of val set:  0.07924552445768535\n",
      "BLEU score of val set:  0.23031414702277664\n",
      "ROUGE-l score of val set:  0.21584306151409316\n",
      "Epoch: 160/300\n"
     ]
    },
    {
     "name": "stderr",
     "output_type": "stream",
     "text": [
      "                                                 \r"
     ]
    },
    {
     "name": "stdout",
     "output_type": "stream",
     "text": [
      "CIDEr score of val set:  0.06457768201362218\n",
      "BLEU score of val set:  0.23031578685332238\n",
      "ROUGE-l score of val set:  0.2158697917537646\n",
      "Epoch: 161/300\n"
     ]
    },
    {
     "name": "stderr",
     "output_type": "stream",
     "text": [
      "                                                 \r"
     ]
    },
    {
     "name": "stdout",
     "output_type": "stream",
     "text": [
      "CIDEr score of val set:  0.0648705505993721\n",
      "BLEU score of val set:  0.2178151814585028\n",
      "ROUGE-l score of val set:  0.21318521692084139\n",
      "Epoch: 162/300\n"
     ]
    },
    {
     "name": "stderr",
     "output_type": "stream",
     "text": [
      "                                                 \r"
     ]
    },
    {
     "name": "stdout",
     "output_type": "stream",
     "text": [
      "CIDEr score of val set:  0.0807956201737827\n",
      "BLEU score of val set:  0.22910684122419453\n",
      "ROUGE-l score of val set:  0.21999451632444786\n",
      "Epoch: 163/300\n"
     ]
    },
    {
     "name": "stderr",
     "output_type": "stream",
     "text": [
      "                                                 \r"
     ]
    },
    {
     "name": "stdout",
     "output_type": "stream",
     "text": [
      "CIDEr score of val set:  0.07151975389007856\n",
      "BLEU score of val set:  0.22300649589433652\n",
      "ROUGE-l score of val set:  0.2144099730041182\n",
      "Epoch: 164/300\n"
     ]
    },
    {
     "name": "stderr",
     "output_type": "stream",
     "text": [
      "                                                 \r"
     ]
    },
    {
     "name": "stdout",
     "output_type": "stream",
     "text": [
      "CIDEr score of val set:  0.06533038723666844\n",
      "BLEU score of val set:  0.23055780772981185\n",
      "ROUGE-l score of val set:  0.2190618059487645\n",
      "Epoch: 165/300\n"
     ]
    },
    {
     "name": "stderr",
     "output_type": "stream",
     "text": [
      "                                                 \r"
     ]
    },
    {
     "name": "stdout",
     "output_type": "stream",
     "text": [
      "CIDEr score of val set:  0.06020008231954148\n",
      "BLEU score of val set:  0.22571125664852792\n",
      "ROUGE-l score of val set:  0.21211934095134108\n",
      "Epoch: 166/300\n"
     ]
    },
    {
     "name": "stderr",
     "output_type": "stream",
     "text": [
      "                                                 \r"
     ]
    },
    {
     "name": "stdout",
     "output_type": "stream",
     "text": [
      "CIDEr score of val set:  0.07825458278238964\n",
      "BLEU score of val set:  0.22592303728789137\n",
      "ROUGE-l score of val set:  0.21444823681304373\n",
      "Epoch: 167/300\n"
     ]
    },
    {
     "name": "stderr",
     "output_type": "stream",
     "text": [
      "                                                 \r"
     ]
    },
    {
     "name": "stdout",
     "output_type": "stream",
     "text": [
      "CIDEr score of val set:  0.075901942739082\n",
      "BLEU score of val set:  0.23014364783845578\n",
      "ROUGE-l score of val set:  0.21848647711304284\n",
      "Epoch: 168/300\n"
     ]
    },
    {
     "name": "stderr",
     "output_type": "stream",
     "text": [
      "                                                 \r"
     ]
    },
    {
     "name": "stdout",
     "output_type": "stream",
     "text": [
      "CIDEr score of val set:  0.0678247144517708\n",
      "BLEU score of val set:  0.22091225151528346\n",
      "ROUGE-l score of val set:  0.21367982494081558\n",
      "Epoch: 169/300\n"
     ]
    },
    {
     "name": "stderr",
     "output_type": "stream",
     "text": [
      "                                                 \r"
     ]
    },
    {
     "name": "stdout",
     "output_type": "stream",
     "text": [
      "CIDEr score of val set:  0.06647047089964073\n",
      "BLEU score of val set:  0.21770254644275108\n",
      "ROUGE-l score of val set:  0.2106439551400616\n",
      "Epoch: 170/300\n"
     ]
    },
    {
     "name": "stderr",
     "output_type": "stream",
     "text": [
      "                                                 \r"
     ]
    },
    {
     "name": "stdout",
     "output_type": "stream",
     "text": [
      "CIDEr score of val set:  0.07401934711369336\n",
      "BLEU score of val set:  0.22906939615000954\n",
      "ROUGE-l score of val set:  0.21514187963429343\n",
      "Epoch: 171/300\n"
     ]
    },
    {
     "name": "stderr",
     "output_type": "stream",
     "text": [
      "                                                 \r"
     ]
    },
    {
     "name": "stdout",
     "output_type": "stream",
     "text": [
      "CIDEr score of val set:  0.07084559293756512\n",
      "BLEU score of val set:  0.22767902361169992\n",
      "ROUGE-l score of val set:  0.21637155859340865\n",
      "Epoch: 172/300\n"
     ]
    },
    {
     "name": "stderr",
     "output_type": "stream",
     "text": [
      "                                                 \r"
     ]
    },
    {
     "name": "stdout",
     "output_type": "stream",
     "text": [
      "CIDEr score of val set:  0.07675497057339564\n",
      "BLEU score of val set:  0.22276482275133633\n",
      "ROUGE-l score of val set:  0.2173210846760578\n",
      "Epoch: 173/300\n"
     ]
    },
    {
     "name": "stderr",
     "output_type": "stream",
     "text": [
      "                                                 \r"
     ]
    },
    {
     "name": "stdout",
     "output_type": "stream",
     "text": [
      "CIDEr score of val set:  0.07476493087989615\n",
      "BLEU score of val set:  0.2251552573653358\n",
      "ROUGE-l score of val set:  0.21439805503696668\n",
      "Epoch: 174/300\n"
     ]
    },
    {
     "name": "stderr",
     "output_type": "stream",
     "text": [
      "                                                 \r"
     ]
    },
    {
     "name": "stdout",
     "output_type": "stream",
     "text": [
      "CIDEr score of val set:  0.07377378689403481\n",
      "BLEU score of val set:  0.2242963769242766\n",
      "ROUGE-l score of val set:  0.21340307838607653\n",
      "Epoch: 175/300\n"
     ]
    },
    {
     "name": "stderr",
     "output_type": "stream",
     "text": [
      "                                                 \r"
     ]
    },
    {
     "name": "stdout",
     "output_type": "stream",
     "text": [
      "CIDEr score of val set:  0.058358337147130845\n",
      "BLEU score of val set:  0.22739237379902938\n",
      "ROUGE-l score of val set:  0.21678674982843052\n",
      "Epoch: 176/300\n"
     ]
    },
    {
     "name": "stderr",
     "output_type": "stream",
     "text": [
      "                                                 \r"
     ]
    },
    {
     "name": "stdout",
     "output_type": "stream",
     "text": [
      "CIDEr score of val set:  0.06281407830236635\n",
      "BLEU score of val set:  0.23058919089695687\n",
      "ROUGE-l score of val set:  0.21399087340206668\n",
      "Epoch: 177/300\n"
     ]
    },
    {
     "name": "stderr",
     "output_type": "stream",
     "text": [
      "                                                 \r"
     ]
    },
    {
     "name": "stdout",
     "output_type": "stream",
     "text": [
      "CIDEr score of val set:  0.06821929610574257\n",
      "BLEU score of val set:  0.22019208307164115\n",
      "ROUGE-l score of val set:  0.21339245631473347\n",
      "Epoch: 178/300\n"
     ]
    },
    {
     "name": "stderr",
     "output_type": "stream",
     "text": [
      "                                                 \r"
     ]
    },
    {
     "name": "stdout",
     "output_type": "stream",
     "text": [
      "CIDEr score of val set:  0.060023439011677816\n",
      "BLEU score of val set:  0.22135889153751834\n",
      "ROUGE-l score of val set:  0.215380530771303\n",
      "Epoch: 179/300\n"
     ]
    },
    {
     "name": "stderr",
     "output_type": "stream",
     "text": [
      "                                                 \r"
     ]
    },
    {
     "name": "stdout",
     "output_type": "stream",
     "text": [
      "CIDEr score of val set:  0.06553198185366835\n",
      "BLEU score of val set:  0.22298245596564728\n",
      "ROUGE-l score of val set:  0.21238954425138296\n",
      "Epoch: 180/300\n"
     ]
    },
    {
     "name": "stderr",
     "output_type": "stream",
     "text": [
      "                                                 \r"
     ]
    },
    {
     "name": "stdout",
     "output_type": "stream",
     "text": [
      "CIDEr score of val set:  0.07000388502510048\n",
      "BLEU score of val set:  0.22821225918928875\n",
      "ROUGE-l score of val set:  0.2133887756749975\n",
      "Epoch: 181/300\n"
     ]
    },
    {
     "name": "stderr",
     "output_type": "stream",
     "text": [
      "                                                 \r"
     ]
    },
    {
     "name": "stdout",
     "output_type": "stream",
     "text": [
      "CIDEr score of val set:  0.06271861130461026\n",
      "BLEU score of val set:  0.22367668047281652\n",
      "ROUGE-l score of val set:  0.21508342739028086\n",
      "Epoch: 182/300\n"
     ]
    },
    {
     "name": "stderr",
     "output_type": "stream",
     "text": [
      "                                                 \r"
     ]
    },
    {
     "name": "stdout",
     "output_type": "stream",
     "text": [
      "CIDEr score of val set:  0.07473946903775282\n",
      "BLEU score of val set:  0.22910409241134053\n",
      "ROUGE-l score of val set:  0.21805761123396225\n",
      "Epoch: 183/300\n"
     ]
    },
    {
     "name": "stderr",
     "output_type": "stream",
     "text": [
      "                                                 \r"
     ]
    },
    {
     "name": "stdout",
     "output_type": "stream",
     "text": [
      "CIDEr score of val set:  0.06708245558017557\n",
      "BLEU score of val set:  0.22441620663365636\n",
      "ROUGE-l score of val set:  0.21509301174424453\n",
      "Epoch: 184/300\n"
     ]
    },
    {
     "name": "stderr",
     "output_type": "stream",
     "text": [
      "                                                 \r"
     ]
    },
    {
     "name": "stdout",
     "output_type": "stream",
     "text": [
      "CIDEr score of val set:  0.06548217977978751\n",
      "BLEU score of val set:  0.22359174695289272\n",
      "ROUGE-l score of val set:  0.2140914077875055\n",
      "Epoch: 185/300\n"
     ]
    },
    {
     "name": "stderr",
     "output_type": "stream",
     "text": [
      "                                                 \r"
     ]
    },
    {
     "name": "stdout",
     "output_type": "stream",
     "text": [
      "CIDEr score of val set:  0.06825363262245372\n",
      "BLEU score of val set:  0.22601658922061915\n",
      "ROUGE-l score of val set:  0.21377820358355332\n",
      "Epoch: 186/300\n"
     ]
    },
    {
     "name": "stderr",
     "output_type": "stream",
     "text": [
      "                                                 \r"
     ]
    },
    {
     "name": "stdout",
     "output_type": "stream",
     "text": [
      "CIDEr score of val set:  0.06122508606261864\n",
      "BLEU score of val set:  0.22088171939890297\n",
      "ROUGE-l score of val set:  0.21310012559231997\n",
      "Epoch: 187/300\n"
     ]
    },
    {
     "name": "stderr",
     "output_type": "stream",
     "text": [
      "                                                 \r"
     ]
    },
    {
     "name": "stdout",
     "output_type": "stream",
     "text": [
      "CIDEr score of val set:  0.06475859955204098\n",
      "BLEU score of val set:  0.22310366494636236\n",
      "ROUGE-l score of val set:  0.20989602419373038\n",
      "Epoch: 188/300\n"
     ]
    },
    {
     "name": "stderr",
     "output_type": "stream",
     "text": [
      "                                                 \r"
     ]
    },
    {
     "name": "stdout",
     "output_type": "stream",
     "text": [
      "CIDEr score of val set:  0.06571835003413118\n",
      "BLEU score of val set:  0.22482737805817402\n",
      "ROUGE-l score of val set:  0.21451330195415705\n",
      "Epoch: 189/300\n"
     ]
    },
    {
     "name": "stderr",
     "output_type": "stream",
     "text": [
      "                                                 \r"
     ]
    },
    {
     "name": "stdout",
     "output_type": "stream",
     "text": [
      "CIDEr score of val set:  0.07862575530330516\n",
      "BLEU score of val set:  0.22427558423075078\n",
      "ROUGE-l score of val set:  0.21600013508778948\n",
      "Epoch: 190/300\n"
     ]
    },
    {
     "name": "stderr",
     "output_type": "stream",
     "text": [
      "                                                 \r"
     ]
    },
    {
     "name": "stdout",
     "output_type": "stream",
     "text": [
      "CIDEr score of val set:  0.06460538171335424\n",
      "BLEU score of val set:  0.22615886657561785\n",
      "ROUGE-l score of val set:  0.2155287297331142\n",
      "Epoch: 191/300\n"
     ]
    },
    {
     "name": "stderr",
     "output_type": "stream",
     "text": [
      "                                                 \r"
     ]
    },
    {
     "name": "stdout",
     "output_type": "stream",
     "text": [
      "CIDEr score of val set:  0.0672386740607428\n",
      "BLEU score of val set:  0.23290223154917666\n",
      "ROUGE-l score of val set:  0.21730532861376017\n",
      "Epoch: 192/300\n"
     ]
    },
    {
     "name": "stderr",
     "output_type": "stream",
     "text": [
      "                                                 \r"
     ]
    },
    {
     "name": "stdout",
     "output_type": "stream",
     "text": [
      "CIDEr score of val set:  0.05746890546065961\n",
      "BLEU score of val set:  0.2229970715522577\n",
      "ROUGE-l score of val set:  0.21063948779399677\n",
      "Epoch: 193/300\n"
     ]
    },
    {
     "name": "stderr",
     "output_type": "stream",
     "text": [
      "                                                 \r"
     ]
    },
    {
     "name": "stdout",
     "output_type": "stream",
     "text": [
      "CIDEr score of val set:  0.056203459298086206\n",
      "BLEU score of val set:  0.22727907205076325\n",
      "ROUGE-l score of val set:  0.21436094999345254\n",
      "Epoch: 194/300\n"
     ]
    },
    {
     "name": "stderr",
     "output_type": "stream",
     "text": [
      "                                                 \r"
     ]
    },
    {
     "name": "stdout",
     "output_type": "stream",
     "text": [
      "CIDEr score of val set:  0.06076533565921357\n",
      "BLEU score of val set:  0.22816230541579505\n",
      "ROUGE-l score of val set:  0.2114602408084695\n",
      "Epoch: 195/300\n"
     ]
    },
    {
     "name": "stderr",
     "output_type": "stream",
     "text": [
      "                                                 \r"
     ]
    },
    {
     "name": "stdout",
     "output_type": "stream",
     "text": [
      "CIDEr score of val set:  0.06938451159552922\n",
      "BLEU score of val set:  0.22749043770979138\n",
      "ROUGE-l score of val set:  0.2149175583110365\n",
      "Epoch: 196/300\n"
     ]
    },
    {
     "name": "stderr",
     "output_type": "stream",
     "text": [
      "                                                 \r"
     ]
    },
    {
     "name": "stdout",
     "output_type": "stream",
     "text": [
      "CIDEr score of val set:  0.06915599827547025\n",
      "BLEU score of val set:  0.23360254995900956\n",
      "ROUGE-l score of val set:  0.2150023952598274\n",
      "Epoch: 197/300\n"
     ]
    },
    {
     "name": "stderr",
     "output_type": "stream",
     "text": [
      "                                                 \r"
     ]
    },
    {
     "name": "stdout",
     "output_type": "stream",
     "text": [
      "CIDEr score of val set:  0.06701081894682692\n",
      "BLEU score of val set:  0.22743791444807945\n",
      "ROUGE-l score of val set:  0.21408048865431717\n",
      "Epoch: 198/300\n"
     ]
    },
    {
     "name": "stderr",
     "output_type": "stream",
     "text": [
      "                                                 \r"
     ]
    },
    {
     "name": "stdout",
     "output_type": "stream",
     "text": [
      "CIDEr score of val set:  0.057245797008758134\n",
      "BLEU score of val set:  0.2250058951843766\n",
      "ROUGE-l score of val set:  0.21349793261728306\n",
      "Epoch: 199/300\n"
     ]
    },
    {
     "name": "stderr",
     "output_type": "stream",
     "text": [
      "                                                 \r"
     ]
    },
    {
     "name": "stdout",
     "output_type": "stream",
     "text": [
      "CIDEr score of val set:  0.05909891149092183\n",
      "BLEU score of val set:  0.22450535718979703\n",
      "ROUGE-l score of val set:  0.2130196927007371\n",
      "Epoch: 200/300\n"
     ]
    },
    {
     "name": "stderr",
     "output_type": "stream",
     "text": [
      "                                                 \r"
     ]
    },
    {
     "name": "stdout",
     "output_type": "stream",
     "text": [
      "CIDEr score of val set:  0.06669029918249497\n",
      "BLEU score of val set:  0.22388286321388506\n",
      "ROUGE-l score of val set:  0.21293979544874114\n",
      "Epoch: 201/300\n"
     ]
    },
    {
     "name": "stderr",
     "output_type": "stream",
     "text": [
      "                                                 \r"
     ]
    },
    {
     "name": "stdout",
     "output_type": "stream",
     "text": [
      "CIDEr score of val set:  0.06297979200656753\n",
      "BLEU score of val set:  0.21910474086515055\n",
      "ROUGE-l score of val set:  0.21157201707800516\n",
      "Epoch: 202/300\n"
     ]
    },
    {
     "name": "stderr",
     "output_type": "stream",
     "text": [
      "                                                 \r"
     ]
    },
    {
     "name": "stdout",
     "output_type": "stream",
     "text": [
      "CIDEr score of val set:  0.06677066027387862\n",
      "BLEU score of val set:  0.22677350822879477\n",
      "ROUGE-l score of val set:  0.21151262769849907\n",
      "Epoch: 203/300\n"
     ]
    },
    {
     "name": "stderr",
     "output_type": "stream",
     "text": [
      "                                                 \r"
     ]
    },
    {
     "name": "stdout",
     "output_type": "stream",
     "text": [
      "CIDEr score of val set:  0.0599698498756217\n",
      "BLEU score of val set:  0.221498679339169\n",
      "ROUGE-l score of val set:  0.21104866323013596\n",
      "Epoch: 204/300\n"
     ]
    },
    {
     "name": "stderr",
     "output_type": "stream",
     "text": [
      "                                                 \r"
     ]
    },
    {
     "name": "stdout",
     "output_type": "stream",
     "text": [
      "CIDEr score of val set:  0.06134674736766411\n",
      "BLEU score of val set:  0.22625551383017442\n",
      "ROUGE-l score of val set:  0.211034289037833\n",
      "Epoch: 205/300\n"
     ]
    },
    {
     "name": "stderr",
     "output_type": "stream",
     "text": [
      "                                                 \r"
     ]
    },
    {
     "name": "stdout",
     "output_type": "stream",
     "text": [
      "CIDEr score of val set:  0.06434711295209704\n",
      "BLEU score of val set:  0.23160660429463878\n",
      "ROUGE-l score of val set:  0.21509988179214518\n",
      "Epoch: 206/300\n"
     ]
    },
    {
     "name": "stderr",
     "output_type": "stream",
     "text": [
      "                                                 \r"
     ]
    },
    {
     "name": "stdout",
     "output_type": "stream",
     "text": [
      "CIDEr score of val set:  0.06786043617785825\n",
      "BLEU score of val set:  0.223136751493636\n",
      "ROUGE-l score of val set:  0.21175682468607235\n",
      "Epoch: 207/300\n"
     ]
    },
    {
     "name": "stderr",
     "output_type": "stream",
     "text": [
      "                                                 \r"
     ]
    },
    {
     "name": "stdout",
     "output_type": "stream",
     "text": [
      "CIDEr score of val set:  0.05978355062237954\n",
      "BLEU score of val set:  0.22888908392331814\n",
      "ROUGE-l score of val set:  0.21261806572468273\n",
      "Epoch: 208/300\n"
     ]
    },
    {
     "name": "stderr",
     "output_type": "stream",
     "text": [
      "                                                 \r"
     ]
    },
    {
     "name": "stdout",
     "output_type": "stream",
     "text": [
      "CIDEr score of val set:  0.0670699222023339\n",
      "BLEU score of val set:  0.2249561018914961\n",
      "ROUGE-l score of val set:  0.21052203298753996\n",
      "Epoch: 209/300\n"
     ]
    },
    {
     "name": "stderr",
     "output_type": "stream",
     "text": [
      "                                                 \r"
     ]
    },
    {
     "name": "stdout",
     "output_type": "stream",
     "text": [
      "CIDEr score of val set:  0.06334557017923995\n",
      "BLEU score of val set:  0.22558738651148133\n",
      "ROUGE-l score of val set:  0.21029839401854297\n",
      "Epoch: 210/300\n"
     ]
    },
    {
     "name": "stderr",
     "output_type": "stream",
     "text": [
      "                                                 \r"
     ]
    },
    {
     "name": "stdout",
     "output_type": "stream",
     "text": [
      "CIDEr score of val set:  0.06674834653295335\n",
      "BLEU score of val set:  0.2255008208092075\n",
      "ROUGE-l score of val set:  0.2105427784129993\n",
      "Epoch: 211/300\n"
     ]
    },
    {
     "name": "stderr",
     "output_type": "stream",
     "text": [
      "                                                 \r"
     ]
    },
    {
     "name": "stdout",
     "output_type": "stream",
     "text": [
      "CIDEr score of val set:  0.0673926187179868\n",
      "BLEU score of val set:  0.22930626229980633\n",
      "ROUGE-l score of val set:  0.21395542621078995\n",
      "Epoch: 212/300\n"
     ]
    },
    {
     "name": "stderr",
     "output_type": "stream",
     "text": [
      "                                                 \r"
     ]
    },
    {
     "name": "stdout",
     "output_type": "stream",
     "text": [
      "CIDEr score of val set:  0.06008613418031947\n",
      "BLEU score of val set:  0.22478531773106628\n",
      "ROUGE-l score of val set:  0.20994208323456695\n",
      "Epoch: 213/300\n"
     ]
    },
    {
     "name": "stderr",
     "output_type": "stream",
     "text": [
      "                                                 \r"
     ]
    },
    {
     "name": "stdout",
     "output_type": "stream",
     "text": [
      "CIDEr score of val set:  0.06670617558344562\n",
      "BLEU score of val set:  0.22990648340567726\n",
      "ROUGE-l score of val set:  0.21499390722353595\n",
      "Epoch: 214/300\n"
     ]
    },
    {
     "name": "stderr",
     "output_type": "stream",
     "text": [
      "                                                 \r"
     ]
    },
    {
     "name": "stdout",
     "output_type": "stream",
     "text": [
      "CIDEr score of val set:  0.06275591006292539\n",
      "BLEU score of val set:  0.2259495373213901\n",
      "ROUGE-l score of val set:  0.2087163809916385\n",
      "Epoch: 215/300\n"
     ]
    },
    {
     "name": "stderr",
     "output_type": "stream",
     "text": [
      "                                                 \r"
     ]
    },
    {
     "name": "stdout",
     "output_type": "stream",
     "text": [
      "CIDEr score of val set:  0.0718422283285445\n",
      "BLEU score of val set:  0.2261927079588537\n",
      "ROUGE-l score of val set:  0.2111513439127458\n",
      "Epoch: 216/300\n"
     ]
    },
    {
     "name": "stderr",
     "output_type": "stream",
     "text": [
      "                                                 \r"
     ]
    },
    {
     "name": "stdout",
     "output_type": "stream",
     "text": [
      "CIDEr score of val set:  0.06410704877045169\n",
      "BLEU score of val set:  0.22698072326356292\n",
      "ROUGE-l score of val set:  0.21145728018155854\n",
      "Epoch: 217/300\n"
     ]
    },
    {
     "name": "stderr",
     "output_type": "stream",
     "text": [
      "                                                 \r"
     ]
    },
    {
     "name": "stdout",
     "output_type": "stream",
     "text": [
      "CIDEr score of val set:  0.0649403218358565\n",
      "BLEU score of val set:  0.22227903304155916\n",
      "ROUGE-l score of val set:  0.2120750858680248\n",
      "Epoch: 218/300\n"
     ]
    },
    {
     "name": "stderr",
     "output_type": "stream",
     "text": [
      "                                                 \r"
     ]
    },
    {
     "name": "stdout",
     "output_type": "stream",
     "text": [
      "CIDEr score of val set:  0.06410474992455055\n",
      "BLEU score of val set:  0.22904914276562158\n",
      "ROUGE-l score of val set:  0.20915995979144456\n",
      "Epoch: 219/300\n"
     ]
    },
    {
     "name": "stderr",
     "output_type": "stream",
     "text": [
      "                                                 \r"
     ]
    },
    {
     "name": "stdout",
     "output_type": "stream",
     "text": [
      "CIDEr score of val set:  0.05641578537698538\n",
      "BLEU score of val set:  0.2252942100799806\n",
      "ROUGE-l score of val set:  0.21268061920581946\n",
      "Epoch: 220/300\n"
     ]
    },
    {
     "name": "stderr",
     "output_type": "stream",
     "text": [
      "                                                 \r"
     ]
    },
    {
     "name": "stdout",
     "output_type": "stream",
     "text": [
      "CIDEr score of val set:  0.06448465654394187\n",
      "BLEU score of val set:  0.22173134028423286\n",
      "ROUGE-l score of val set:  0.2098864986419845\n",
      "Epoch: 221/300\n"
     ]
    },
    {
     "name": "stderr",
     "output_type": "stream",
     "text": [
      "                                                 \r"
     ]
    },
    {
     "name": "stdout",
     "output_type": "stream",
     "text": [
      "CIDEr score of val set:  0.06613433262430947\n",
      "BLEU score of val set:  0.2263980875755675\n",
      "ROUGE-l score of val set:  0.21099135606625802\n",
      "Epoch: 222/300\n"
     ]
    },
    {
     "name": "stderr",
     "output_type": "stream",
     "text": [
      "                                                 \r"
     ]
    },
    {
     "name": "stdout",
     "output_type": "stream",
     "text": [
      "CIDEr score of val set:  0.07446306677314948\n",
      "BLEU score of val set:  0.2311308135142664\n",
      "ROUGE-l score of val set:  0.2122151434891224\n",
      "Epoch: 223/300\n"
     ]
    },
    {
     "name": "stderr",
     "output_type": "stream",
     "text": [
      "                                                 \r"
     ]
    },
    {
     "name": "stdout",
     "output_type": "stream",
     "text": [
      "CIDEr score of val set:  0.07372190192519086\n",
      "BLEU score of val set:  0.22698983557701474\n",
      "ROUGE-l score of val set:  0.2090115421631876\n",
      "Epoch: 224/300\n"
     ]
    },
    {
     "name": "stderr",
     "output_type": "stream",
     "text": [
      "                                                 \r"
     ]
    },
    {
     "name": "stdout",
     "output_type": "stream",
     "text": [
      "CIDEr score of val set:  0.06898367277380911\n",
      "BLEU score of val set:  0.2264380628739269\n",
      "ROUGE-l score of val set:  0.21085372812635864\n",
      "Epoch: 225/300\n"
     ]
    },
    {
     "name": "stderr",
     "output_type": "stream",
     "text": [
      "                                                 \r"
     ]
    },
    {
     "name": "stdout",
     "output_type": "stream",
     "text": [
      "CIDEr score of val set:  0.06477471554196282\n",
      "BLEU score of val set:  0.223855816056247\n",
      "ROUGE-l score of val set:  0.21038222710076698\n",
      "Epoch: 226/300\n"
     ]
    },
    {
     "name": "stderr",
     "output_type": "stream",
     "text": [
      "                                                 \r"
     ]
    },
    {
     "name": "stdout",
     "output_type": "stream",
     "text": [
      "CIDEr score of val set:  0.06556425202076008\n",
      "BLEU score of val set:  0.21956153834301656\n",
      "ROUGE-l score of val set:  0.20881765234645838\n",
      "Epoch: 227/300\n"
     ]
    },
    {
     "name": "stderr",
     "output_type": "stream",
     "text": [
      "                                                 \r"
     ]
    },
    {
     "name": "stdout",
     "output_type": "stream",
     "text": [
      "CIDEr score of val set:  0.07926970780745772\n",
      "BLEU score of val set:  0.22220677849649595\n",
      "ROUGE-l score of val set:  0.21002604750147716\n",
      "Epoch: 228/300\n"
     ]
    },
    {
     "name": "stderr",
     "output_type": "stream",
     "text": [
      "                                                 \r"
     ]
    },
    {
     "name": "stdout",
     "output_type": "stream",
     "text": [
      "CIDEr score of val set:  0.06889574919880675\n",
      "BLEU score of val set:  0.22042214944898386\n",
      "ROUGE-l score of val set:  0.20736585134875873\n",
      "Epoch: 229/300\n"
     ]
    },
    {
     "name": "stderr",
     "output_type": "stream",
     "text": [
      "                                                 \r"
     ]
    },
    {
     "name": "stdout",
     "output_type": "stream",
     "text": [
      "CIDEr score of val set:  0.07106113149775486\n",
      "BLEU score of val set:  0.2205672886310251\n",
      "ROUGE-l score of val set:  0.20780964623820555\n",
      "Epoch: 230/300\n"
     ]
    },
    {
     "name": "stderr",
     "output_type": "stream",
     "text": [
      "                                                 \r"
     ]
    },
    {
     "name": "stdout",
     "output_type": "stream",
     "text": [
      "CIDEr score of val set:  0.06901673610755833\n",
      "BLEU score of val set:  0.22680703665909552\n",
      "ROUGE-l score of val set:  0.2087560609079794\n",
      "Epoch: 231/300\n"
     ]
    },
    {
     "name": "stderr",
     "output_type": "stream",
     "text": [
      "                                                 \r"
     ]
    },
    {
     "name": "stdout",
     "output_type": "stream",
     "text": [
      "CIDEr score of val set:  0.0652951439485163\n",
      "BLEU score of val set:  0.22629515028531105\n",
      "ROUGE-l score of val set:  0.2108621328067534\n",
      "Epoch: 232/300\n"
     ]
    },
    {
     "name": "stderr",
     "output_type": "stream",
     "text": [
      "                                                 \r"
     ]
    },
    {
     "name": "stdout",
     "output_type": "stream",
     "text": [
      "CIDEr score of val set:  0.05726920775475457\n",
      "BLEU score of val set:  0.22487969368528357\n",
      "ROUGE-l score of val set:  0.2082805233600371\n",
      "Epoch: 233/300\n"
     ]
    },
    {
     "name": "stderr",
     "output_type": "stream",
     "text": [
      "                                                 \r"
     ]
    },
    {
     "name": "stdout",
     "output_type": "stream",
     "text": [
      "CIDEr score of val set:  0.06560162447045309\n",
      "BLEU score of val set:  0.22451862450182067\n",
      "ROUGE-l score of val set:  0.21049742111642625\n",
      "Epoch: 234/300\n"
     ]
    },
    {
     "name": "stderr",
     "output_type": "stream",
     "text": [
      "                                                 \r"
     ]
    },
    {
     "name": "stdout",
     "output_type": "stream",
     "text": [
      "CIDEr score of val set:  0.06507841998720741\n",
      "BLEU score of val set:  0.22454191195194256\n",
      "ROUGE-l score of val set:  0.2106816824694144\n",
      "Epoch: 235/300\n"
     ]
    },
    {
     "name": "stderr",
     "output_type": "stream",
     "text": [
      "                                                 \r"
     ]
    },
    {
     "name": "stdout",
     "output_type": "stream",
     "text": [
      "CIDEr score of val set:  0.05843954444926194\n",
      "BLEU score of val set:  0.22218477435442757\n",
      "ROUGE-l score of val set:  0.20723312674915823\n",
      "Epoch: 236/300\n"
     ]
    },
    {
     "name": "stderr",
     "output_type": "stream",
     "text": [
      "                                                 \r"
     ]
    },
    {
     "name": "stdout",
     "output_type": "stream",
     "text": [
      "CIDEr score of val set:  0.05699282935885537\n",
      "BLEU score of val set:  0.21956921346212666\n",
      "ROUGE-l score of val set:  0.20617511607716624\n",
      "Epoch: 237/300\n"
     ]
    },
    {
     "name": "stderr",
     "output_type": "stream",
     "text": [
      "                                                 \r"
     ]
    },
    {
     "name": "stdout",
     "output_type": "stream",
     "text": [
      "CIDEr score of val set:  0.0636253790175518\n",
      "BLEU score of val set:  0.2210479842818364\n",
      "ROUGE-l score of val set:  0.20730683692545265\n",
      "Epoch: 238/300\n"
     ]
    },
    {
     "name": "stderr",
     "output_type": "stream",
     "text": [
      "                                                 \r"
     ]
    },
    {
     "name": "stdout",
     "output_type": "stream",
     "text": [
      "CIDEr score of val set:  0.06631245524251991\n",
      "BLEU score of val set:  0.2252053286785252\n",
      "ROUGE-l score of val set:  0.2096603387638873\n",
      "Epoch: 239/300\n"
     ]
    },
    {
     "name": "stderr",
     "output_type": "stream",
     "text": [
      "                                                 \r"
     ]
    },
    {
     "name": "stdout",
     "output_type": "stream",
     "text": [
      "CIDEr score of val set:  0.06923495783459051\n",
      "BLEU score of val set:  0.2268180075098724\n",
      "ROUGE-l score of val set:  0.2120872668238311\n",
      "Epoch: 240/300\n"
     ]
    },
    {
     "name": "stderr",
     "output_type": "stream",
     "text": [
      "                                                 \r"
     ]
    },
    {
     "name": "stdout",
     "output_type": "stream",
     "text": [
      "CIDEr score of val set:  0.05925776544351516\n",
      "BLEU score of val set:  0.2264546132018892\n",
      "ROUGE-l score of val set:  0.2117167290694514\n",
      "Epoch: 241/300\n"
     ]
    },
    {
     "name": "stderr",
     "output_type": "stream",
     "text": [
      "                                                 \r"
     ]
    },
    {
     "name": "stdout",
     "output_type": "stream",
     "text": [
      "CIDEr score of val set:  0.06117514307743684\n",
      "BLEU score of val set:  0.22100548235769432\n",
      "ROUGE-l score of val set:  0.20652660044544863\n",
      "Epoch: 242/300\n"
     ]
    },
    {
     "name": "stderr",
     "output_type": "stream",
     "text": [
      "                                                 \r"
     ]
    },
    {
     "name": "stdout",
     "output_type": "stream",
     "text": [
      "CIDEr score of val set:  0.06804733532901985\n",
      "BLEU score of val set:  0.21926287559882973\n",
      "ROUGE-l score of val set:  0.20791673815370643\n",
      "Epoch: 243/300\n"
     ]
    },
    {
     "name": "stderr",
     "output_type": "stream",
     "text": [
      "                                                 \r"
     ]
    },
    {
     "name": "stdout",
     "output_type": "stream",
     "text": [
      "CIDEr score of val set:  0.06665383040550958\n",
      "BLEU score of val set:  0.2279219365458203\n",
      "ROUGE-l score of val set:  0.21063290744272575\n",
      "Epoch: 244/300\n"
     ]
    },
    {
     "name": "stderr",
     "output_type": "stream",
     "text": [
      "                                                 \r"
     ]
    },
    {
     "name": "stdout",
     "output_type": "stream",
     "text": [
      "CIDEr score of val set:  0.06042981825814554\n",
      "BLEU score of val set:  0.2241607159927456\n",
      "ROUGE-l score of val set:  0.20885883476141803\n",
      "Epoch: 245/300\n"
     ]
    },
    {
     "name": "stderr",
     "output_type": "stream",
     "text": [
      "                                                 \r"
     ]
    },
    {
     "name": "stdout",
     "output_type": "stream",
     "text": [
      "CIDEr score of val set:  0.06989547235968244\n",
      "BLEU score of val set:  0.2230503728581754\n",
      "ROUGE-l score of val set:  0.20844341807855465\n",
      "Epoch: 246/300\n"
     ]
    },
    {
     "name": "stderr",
     "output_type": "stream",
     "text": [
      "                                                 \r"
     ]
    },
    {
     "name": "stdout",
     "output_type": "stream",
     "text": [
      "CIDEr score of val set:  0.06770141902964101\n",
      "BLEU score of val set:  0.22715191194594664\n",
      "ROUGE-l score of val set:  0.20774710376392905\n",
      "Epoch: 247/300\n"
     ]
    },
    {
     "name": "stderr",
     "output_type": "stream",
     "text": [
      "                                                 \r"
     ]
    },
    {
     "name": "stdout",
     "output_type": "stream",
     "text": [
      "CIDEr score of val set:  0.06458146261427394\n",
      "BLEU score of val set:  0.21789100299929967\n",
      "ROUGE-l score of val set:  0.20811400612765762\n",
      "Epoch: 248/300\n"
     ]
    },
    {
     "name": "stderr",
     "output_type": "stream",
     "text": [
      "                                                 \r"
     ]
    },
    {
     "name": "stdout",
     "output_type": "stream",
     "text": [
      "CIDEr score of val set:  0.06405506480668922\n",
      "BLEU score of val set:  0.22568587464798265\n",
      "ROUGE-l score of val set:  0.20753602874212246\n",
      "Epoch: 249/300\n"
     ]
    },
    {
     "name": "stderr",
     "output_type": "stream",
     "text": [
      "                                                 \r"
     ]
    },
    {
     "name": "stdout",
     "output_type": "stream",
     "text": [
      "CIDEr score of val set:  0.05992693072715761\n",
      "BLEU score of val set:  0.22343498415470686\n",
      "ROUGE-l score of val set:  0.2063745176391411\n",
      "Epoch: 250/300\n"
     ]
    },
    {
     "name": "stderr",
     "output_type": "stream",
     "text": [
      "                                                 \r"
     ]
    },
    {
     "name": "stdout",
     "output_type": "stream",
     "text": [
      "CIDEr score of val set:  0.06510499392634862\n",
      "BLEU score of val set:  0.22473725864868493\n",
      "ROUGE-l score of val set:  0.2075655538331856\n",
      "Epoch: 251/300\n"
     ]
    },
    {
     "name": "stderr",
     "output_type": "stream",
     "text": [
      "                                                 \r"
     ]
    },
    {
     "name": "stdout",
     "output_type": "stream",
     "text": [
      "CIDEr score of val set:  0.06811807735956045\n",
      "BLEU score of val set:  0.22392856454610605\n",
      "ROUGE-l score of val set:  0.21013835407399634\n",
      "Epoch: 252/300\n"
     ]
    },
    {
     "name": "stderr",
     "output_type": "stream",
     "text": [
      "                                                 \r"
     ]
    },
    {
     "name": "stdout",
     "output_type": "stream",
     "text": [
      "CIDEr score of val set:  0.06872180251527053\n",
      "BLEU score of val set:  0.2233369005413285\n",
      "ROUGE-l score of val set:  0.2077452452527399\n",
      "Epoch: 253/300\n"
     ]
    },
    {
     "name": "stderr",
     "output_type": "stream",
     "text": [
      "                                                 \r"
     ]
    },
    {
     "name": "stdout",
     "output_type": "stream",
     "text": [
      "CIDEr score of val set:  0.06124912796631022\n",
      "BLEU score of val set:  0.2230083460655717\n",
      "ROUGE-l score of val set:  0.20758160754254196\n",
      "Epoch: 254/300\n"
     ]
    },
    {
     "name": "stderr",
     "output_type": "stream",
     "text": [
      "                                                 \r"
     ]
    },
    {
     "name": "stdout",
     "output_type": "stream",
     "text": [
      "CIDEr score of val set:  0.059467183613075875\n",
      "BLEU score of val set:  0.22005425558384137\n",
      "ROUGE-l score of val set:  0.20606958516001214\n",
      "Epoch: 255/300\n"
     ]
    },
    {
     "name": "stderr",
     "output_type": "stream",
     "text": [
      "                                                 \r"
     ]
    },
    {
     "name": "stdout",
     "output_type": "stream",
     "text": [
      "CIDEr score of val set:  0.05550918016040894\n",
      "BLEU score of val set:  0.2263546365441338\n",
      "ROUGE-l score of val set:  0.20856523875503988\n",
      "Epoch: 256/300\n"
     ]
    },
    {
     "name": "stderr",
     "output_type": "stream",
     "text": [
      "                                                 \r"
     ]
    },
    {
     "name": "stdout",
     "output_type": "stream",
     "text": [
      "CIDEr score of val set:  0.0559284600452464\n",
      "BLEU score of val set:  0.22258986982548448\n",
      "ROUGE-l score of val set:  0.20539488342864975\n",
      "Epoch: 257/300\n"
     ]
    },
    {
     "name": "stderr",
     "output_type": "stream",
     "text": [
      "                                                 \r"
     ]
    },
    {
     "name": "stdout",
     "output_type": "stream",
     "text": [
      "CIDEr score of val set:  0.05892535688410407\n",
      "BLEU score of val set:  0.22391302088653595\n",
      "ROUGE-l score of val set:  0.2081363407871923\n",
      "Epoch: 258/300\n"
     ]
    },
    {
     "name": "stderr",
     "output_type": "stream",
     "text": [
      "                                                 \r"
     ]
    },
    {
     "name": "stdout",
     "output_type": "stream",
     "text": [
      "CIDEr score of val set:  0.05992788548496914\n",
      "BLEU score of val set:  0.22747232818736815\n",
      "ROUGE-l score of val set:  0.2079872599967568\n",
      "Epoch: 259/300\n"
     ]
    },
    {
     "name": "stderr",
     "output_type": "stream",
     "text": [
      "                                                 \r"
     ]
    },
    {
     "name": "stdout",
     "output_type": "stream",
     "text": [
      "CIDEr score of val set:  0.062309483003559214\n",
      "BLEU score of val set:  0.22114455695945798\n",
      "ROUGE-l score of val set:  0.20551146040970963\n",
      "Epoch: 260/300\n"
     ]
    },
    {
     "name": "stderr",
     "output_type": "stream",
     "text": [
      "                                                 \r"
     ]
    },
    {
     "name": "stdout",
     "output_type": "stream",
     "text": [
      "CIDEr score of val set:  0.06065343070716582\n",
      "BLEU score of val set:  0.22136286023884114\n",
      "ROUGE-l score of val set:  0.20477513835031735\n",
      "Epoch: 261/300\n"
     ]
    },
    {
     "name": "stderr",
     "output_type": "stream",
     "text": [
      "                                                 \r"
     ]
    },
    {
     "name": "stdout",
     "output_type": "stream",
     "text": [
      "CIDEr score of val set:  0.06239211626363776\n",
      "BLEU score of val set:  0.22696621168082892\n",
      "ROUGE-l score of val set:  0.20806528024474694\n",
      "Epoch: 262/300\n"
     ]
    },
    {
     "name": "stderr",
     "output_type": "stream",
     "text": [
      "                                                 \r"
     ]
    },
    {
     "name": "stdout",
     "output_type": "stream",
     "text": [
      "CIDEr score of val set:  0.05835737169733459\n",
      "BLEU score of val set:  0.2216950673110346\n",
      "ROUGE-l score of val set:  0.20369858659985557\n",
      "Epoch: 263/300\n"
     ]
    },
    {
     "name": "stderr",
     "output_type": "stream",
     "text": [
      "                                                 \r"
     ]
    },
    {
     "name": "stdout",
     "output_type": "stream",
     "text": [
      "CIDEr score of val set:  0.049160272943189275\n",
      "BLEU score of val set:  0.21596673169556266\n",
      "ROUGE-l score of val set:  0.2037048112694321\n",
      "Epoch: 264/300\n"
     ]
    },
    {
     "name": "stderr",
     "output_type": "stream",
     "text": [
      "                                                 \r"
     ]
    },
    {
     "name": "stdout",
     "output_type": "stream",
     "text": [
      "CIDEr score of val set:  0.06531106064092942\n",
      "BLEU score of val set:  0.22322503407128907\n",
      "ROUGE-l score of val set:  0.2102578122602524\n",
      "Epoch: 265/300\n"
     ]
    },
    {
     "name": "stderr",
     "output_type": "stream",
     "text": [
      "                                                 \r"
     ]
    },
    {
     "name": "stdout",
     "output_type": "stream",
     "text": [
      "CIDEr score of val set:  0.06032139291672569\n",
      "BLEU score of val set:  0.2262912680199035\n",
      "ROUGE-l score of val set:  0.20783603070424952\n",
      "Epoch: 266/300\n"
     ]
    },
    {
     "name": "stderr",
     "output_type": "stream",
     "text": [
      "                                                 \r"
     ]
    },
    {
     "name": "stdout",
     "output_type": "stream",
     "text": [
      "CIDEr score of val set:  0.06025419208310469\n",
      "BLEU score of val set:  0.22257985225627613\n",
      "ROUGE-l score of val set:  0.20565853671112466\n",
      "Epoch: 267/300\n"
     ]
    },
    {
     "name": "stderr",
     "output_type": "stream",
     "text": [
      "                                                 \r"
     ]
    },
    {
     "name": "stdout",
     "output_type": "stream",
     "text": [
      "CIDEr score of val set:  0.058510495658395306\n",
      "BLEU score of val set:  0.2198507852479963\n",
      "ROUGE-l score of val set:  0.2060096669160969\n",
      "Epoch: 268/300\n"
     ]
    },
    {
     "name": "stderr",
     "output_type": "stream",
     "text": [
      "                                                 \r"
     ]
    },
    {
     "name": "stdout",
     "output_type": "stream",
     "text": [
      "CIDEr score of val set:  0.0692335227752519\n",
      "BLEU score of val set:  0.2234677141707048\n",
      "ROUGE-l score of val set:  0.2071501874370024\n",
      "Epoch: 269/300\n"
     ]
    },
    {
     "name": "stderr",
     "output_type": "stream",
     "text": [
      "                                                 \r"
     ]
    },
    {
     "name": "stdout",
     "output_type": "stream",
     "text": [
      "CIDEr score of val set:  0.06035566153355861\n",
      "BLEU score of val set:  0.22367579771545923\n",
      "ROUGE-l score of val set:  0.20490872046321523\n",
      "Epoch: 270/300\n"
     ]
    },
    {
     "name": "stderr",
     "output_type": "stream",
     "text": [
      "                                                 \r"
     ]
    },
    {
     "name": "stdout",
     "output_type": "stream",
     "text": [
      "CIDEr score of val set:  0.06176879705244246\n",
      "BLEU score of val set:  0.22026709756463467\n",
      "ROUGE-l score of val set:  0.20475305774270278\n",
      "Epoch: 271/300\n"
     ]
    },
    {
     "name": "stderr",
     "output_type": "stream",
     "text": [
      "                                                 \r"
     ]
    },
    {
     "name": "stdout",
     "output_type": "stream",
     "text": [
      "CIDEr score of val set:  0.05544723998100566\n",
      "BLEU score of val set:  0.21995354502697634\n",
      "ROUGE-l score of val set:  0.20447552631406773\n",
      "Epoch: 272/300\n"
     ]
    },
    {
     "name": "stderr",
     "output_type": "stream",
     "text": [
      "                                                 \r"
     ]
    },
    {
     "name": "stdout",
     "output_type": "stream",
     "text": [
      "CIDEr score of val set:  0.06027268253014622\n",
      "BLEU score of val set:  0.22142458983832855\n",
      "ROUGE-l score of val set:  0.20701861430967083\n",
      "Epoch: 273/300\n"
     ]
    },
    {
     "name": "stderr",
     "output_type": "stream",
     "text": [
      "                                                 \r"
     ]
    },
    {
     "name": "stdout",
     "output_type": "stream",
     "text": [
      "CIDEr score of val set:  0.0638893332168024\n",
      "BLEU score of val set:  0.2170826345436023\n",
      "ROUGE-l score of val set:  0.2073056146308006\n",
      "Epoch: 274/300\n"
     ]
    },
    {
     "name": "stderr",
     "output_type": "stream",
     "text": [
      "                                                 \r"
     ]
    },
    {
     "name": "stdout",
     "output_type": "stream",
     "text": [
      "CIDEr score of val set:  0.062249963438802285\n",
      "BLEU score of val set:  0.2202077276015804\n",
      "ROUGE-l score of val set:  0.20657239192710847\n",
      "Epoch: 275/300\n"
     ]
    },
    {
     "name": "stderr",
     "output_type": "stream",
     "text": [
      "                                                 \r"
     ]
    },
    {
     "name": "stdout",
     "output_type": "stream",
     "text": [
      "CIDEr score of val set:  0.0643015175847336\n",
      "BLEU score of val set:  0.22532214704453285\n",
      "ROUGE-l score of val set:  0.2045735303522459\n",
      "Epoch: 276/300\n"
     ]
    },
    {
     "name": "stderr",
     "output_type": "stream",
     "text": [
      "                                                 \r"
     ]
    },
    {
     "name": "stdout",
     "output_type": "stream",
     "text": [
      "CIDEr score of val set:  0.06466755518869784\n",
      "BLEU score of val set:  0.2249894513734188\n",
      "ROUGE-l score of val set:  0.20640873299185553\n",
      "Epoch: 277/300\n"
     ]
    },
    {
     "name": "stderr",
     "output_type": "stream",
     "text": [
      "                                                 \r"
     ]
    },
    {
     "name": "stdout",
     "output_type": "stream",
     "text": [
      "CIDEr score of val set:  0.06281871153275528\n",
      "BLEU score of val set:  0.22478888550651188\n",
      "ROUGE-l score of val set:  0.2076874113474641\n",
      "Epoch: 278/300\n"
     ]
    },
    {
     "name": "stderr",
     "output_type": "stream",
     "text": [
      "                                                 \r"
     ]
    },
    {
     "name": "stdout",
     "output_type": "stream",
     "text": [
      "CIDEr score of val set:  0.05679185273153593\n",
      "BLEU score of val set:  0.21825103366868837\n",
      "ROUGE-l score of val set:  0.2047096306901528\n",
      "Epoch: 279/300\n"
     ]
    },
    {
     "name": "stderr",
     "output_type": "stream",
     "text": [
      "                                                 \r"
     ]
    },
    {
     "name": "stdout",
     "output_type": "stream",
     "text": [
      "CIDEr score of val set:  0.06231399310013939\n",
      "BLEU score of val set:  0.222743474285834\n",
      "ROUGE-l score of val set:  0.20591754639904108\n",
      "Epoch: 280/300\n"
     ]
    },
    {
     "name": "stderr",
     "output_type": "stream",
     "text": [
      "                                                 \r"
     ]
    },
    {
     "name": "stdout",
     "output_type": "stream",
     "text": [
      "CIDEr score of val set:  0.06573267822336158\n",
      "BLEU score of val set:  0.22673025523369858\n",
      "ROUGE-l score of val set:  0.20536678874581699\n",
      "Epoch: 281/300\n"
     ]
    },
    {
     "name": "stderr",
     "output_type": "stream",
     "text": [
      "                                                 \r"
     ]
    },
    {
     "name": "stdout",
     "output_type": "stream",
     "text": [
      "CIDEr score of val set:  0.05970879301851442\n",
      "BLEU score of val set:  0.21837678292852847\n",
      "ROUGE-l score of val set:  0.20286697522541963\n",
      "Epoch: 282/300\n"
     ]
    },
    {
     "name": "stderr",
     "output_type": "stream",
     "text": [
      "                                                 \r"
     ]
    },
    {
     "name": "stdout",
     "output_type": "stream",
     "text": [
      "CIDEr score of val set:  0.0663673075996559\n",
      "BLEU score of val set:  0.22807509307193027\n",
      "ROUGE-l score of val set:  0.20620226588326623\n",
      "Epoch: 283/300\n"
     ]
    },
    {
     "name": "stderr",
     "output_type": "stream",
     "text": [
      "                                                 \r"
     ]
    },
    {
     "name": "stdout",
     "output_type": "stream",
     "text": [
      "CIDEr score of val set:  0.062375848733806166\n",
      "BLEU score of val set:  0.22790134112039545\n",
      "ROUGE-l score of val set:  0.2083158612801389\n",
      "Epoch: 284/300\n"
     ]
    },
    {
     "name": "stderr",
     "output_type": "stream",
     "text": [
      "                                                 \r"
     ]
    },
    {
     "name": "stdout",
     "output_type": "stream",
     "text": [
      "CIDEr score of val set:  0.06716616449161948\n",
      "BLEU score of val set:  0.22452655660400037\n",
      "ROUGE-l score of val set:  0.20596012045257084\n",
      "Epoch: 285/300\n"
     ]
    },
    {
     "name": "stderr",
     "output_type": "stream",
     "text": [
      "                                                 \r"
     ]
    },
    {
     "name": "stdout",
     "output_type": "stream",
     "text": [
      "CIDEr score of val set:  0.06667174961231441\n",
      "BLEU score of val set:  0.22064553635947043\n",
      "ROUGE-l score of val set:  0.2034384904377433\n",
      "Epoch: 286/300\n"
     ]
    },
    {
     "name": "stderr",
     "output_type": "stream",
     "text": [
      "                                                 \r"
     ]
    },
    {
     "name": "stdout",
     "output_type": "stream",
     "text": [
      "CIDEr score of val set:  0.06172720194351388\n",
      "BLEU score of val set:  0.2244317621922014\n",
      "ROUGE-l score of val set:  0.20763119452421513\n",
      "Epoch: 287/300\n"
     ]
    },
    {
     "name": "stderr",
     "output_type": "stream",
     "text": [
      "                                                 \r"
     ]
    },
    {
     "name": "stdout",
     "output_type": "stream",
     "text": [
      "CIDEr score of val set:  0.06284486233635284\n",
      "BLEU score of val set:  0.22390630636580808\n",
      "ROUGE-l score of val set:  0.20750249533576592\n",
      "Epoch: 288/300\n"
     ]
    },
    {
     "name": "stderr",
     "output_type": "stream",
     "text": [
      "                                                 \r"
     ]
    },
    {
     "name": "stdout",
     "output_type": "stream",
     "text": [
      "CIDEr score of val set:  0.058373392376532864\n",
      "BLEU score of val set:  0.2201540498387848\n",
      "ROUGE-l score of val set:  0.20500644282226024\n",
      "Epoch: 289/300\n"
     ]
    },
    {
     "name": "stderr",
     "output_type": "stream",
     "text": [
      "                                                 \r"
     ]
    },
    {
     "name": "stdout",
     "output_type": "stream",
     "text": [
      "CIDEr score of val set:  0.06053373220053305\n",
      "BLEU score of val set:  0.22141249719671227\n",
      "ROUGE-l score of val set:  0.2063457223882594\n",
      "Epoch: 290/300\n"
     ]
    },
    {
     "name": "stderr",
     "output_type": "stream",
     "text": [
      "                                                 \r"
     ]
    },
    {
     "name": "stdout",
     "output_type": "stream",
     "text": [
      "CIDEr score of val set:  0.06975809050701684\n",
      "BLEU score of val set:  0.22527519639593255\n",
      "ROUGE-l score of val set:  0.2067144790251951\n",
      "Epoch: 291/300\n"
     ]
    },
    {
     "name": "stderr",
     "output_type": "stream",
     "text": [
      "                                                 \r"
     ]
    },
    {
     "name": "stdout",
     "output_type": "stream",
     "text": [
      "CIDEr score of val set:  0.06398833906527909\n",
      "BLEU score of val set:  0.22604173588666837\n",
      "ROUGE-l score of val set:  0.20644290586646788\n",
      "Epoch: 292/300\n"
     ]
    },
    {
     "name": "stderr",
     "output_type": "stream",
     "text": [
      "                                                 \r"
     ]
    },
    {
     "name": "stdout",
     "output_type": "stream",
     "text": [
      "CIDEr score of val set:  0.05647922143940931\n",
      "BLEU score of val set:  0.21828237845661833\n",
      "ROUGE-l score of val set:  0.2027066050103641\n",
      "Epoch: 293/300\n"
     ]
    },
    {
     "name": "stderr",
     "output_type": "stream",
     "text": [
      "                                                 \r"
     ]
    },
    {
     "name": "stdout",
     "output_type": "stream",
     "text": [
      "CIDEr score of val set:  0.06633838668727046\n",
      "BLEU score of val set:  0.22402076357453826\n",
      "ROUGE-l score of val set:  0.20557765164585043\n",
      "Epoch: 294/300\n"
     ]
    },
    {
     "name": "stderr",
     "output_type": "stream",
     "text": [
      "                                                 \r"
     ]
    },
    {
     "name": "stdout",
     "output_type": "stream",
     "text": [
      "CIDEr score of val set:  0.060095360437544806\n",
      "BLEU score of val set:  0.22442002791097196\n",
      "ROUGE-l score of val set:  0.2056085318172562\n",
      "Epoch: 295/300\n"
     ]
    },
    {
     "name": "stderr",
     "output_type": "stream",
     "text": [
      "                                                 \r"
     ]
    },
    {
     "name": "stdout",
     "output_type": "stream",
     "text": [
      "CIDEr score of val set:  0.06749386498358044\n",
      "BLEU score of val set:  0.22260193801022293\n",
      "ROUGE-l score of val set:  0.20412952351470895\n",
      "Epoch: 296/300\n"
     ]
    },
    {
     "name": "stderr",
     "output_type": "stream",
     "text": [
      "                                                 \r"
     ]
    },
    {
     "name": "stdout",
     "output_type": "stream",
     "text": [
      "CIDEr score of val set:  0.06196359270051961\n",
      "BLEU score of val set:  0.22106398706251545\n",
      "ROUGE-l score of val set:  0.20468146752847965\n",
      "Epoch: 297/300\n"
     ]
    },
    {
     "name": "stderr",
     "output_type": "stream",
     "text": [
      "                                                 \r"
     ]
    },
    {
     "name": "stdout",
     "output_type": "stream",
     "text": [
      "CIDEr score of val set:  0.061775747401024976\n",
      "BLEU score of val set:  0.22472219371057683\n",
      "ROUGE-l score of val set:  0.20458975413546482\n",
      "Epoch: 298/300\n"
     ]
    },
    {
     "name": "stderr",
     "output_type": "stream",
     "text": [
      "                                                 \r"
     ]
    },
    {
     "name": "stdout",
     "output_type": "stream",
     "text": [
      "CIDEr score of val set:  0.06016187281221636\n",
      "BLEU score of val set:  0.22391255864042622\n",
      "ROUGE-l score of val set:  0.20593438365105235\n",
      "Epoch: 299/300\n"
     ]
    },
    {
     "name": "stderr",
     "output_type": "stream",
     "text": [
      "                                                 \r"
     ]
    },
    {
     "name": "stdout",
     "output_type": "stream",
     "text": [
      "CIDEr score of val set:  0.05608151456023881\n",
      "BLEU score of val set:  0.2253008050295592\n",
      "ROUGE-l score of val set:  0.20758355350276853\n",
      "Epoch: 300/300\n"
     ]
    },
    {
     "name": "stderr",
     "output_type": "stream",
     "text": [
      "                                                 \r"
     ]
    },
    {
     "name": "stdout",
     "output_type": "stream",
     "text": [
      "CIDEr score of val set:  0.05202339282816024\n",
      "BLEU score of val set:  0.22609440215920387\n",
      "ROUGE-l score of val set:  0.20469887503689205\n"
     ]
    }
   ],
   "source": [
    "warnings.filterwarnings(\"ignore\")\n",
    "def comp_cider(ref, hyp):\n",
    "    scorer = Cider()\n",
    "    score, _ = scorer.compute_score(ref, hyp)\n",
    "    return score\n",
    "def comp_bleu(ref, hyp):\n",
    "    scorer = BLEUScore(n_gram=1)\n",
    "    score = scorer(ref, hyp)\n",
    "    return score.numpy()\n",
    "def comp_rougel(ref, hyp):\n",
    "    scorer = Rouge()\n",
    "    score, _ = scorer.compute_score(ref, hyp)\n",
    "    return score\n",
    "train_transform = transforms.Compose(\n",
    "    [\n",
    "        transforms.Resize((300, 300)),\n",
    "        transforms.RandomCrop((224, 224)),\n",
    "        transforms.ToTensor(),\n",
    "    ]\n",
    ")\n",
    "transform = transforms.Compose(\n",
    "    [\n",
    "        transforms.Resize((224, 224)),\n",
    "        transforms.ToTensor(),\n",
    "    ]\n",
    ")\n",
    "train_loamder, dataset = get_loamder(\n",
    "    root_folder=\"/kaggle/input/image-captioning/custom_captions_dataset/train\",\n",
    "    annot_file=\"/kaggle/input/image-captioning/custom_captions_dataset/train.csv\",\n",
    "    trans=train_transform,\n",
    "    num_workers=2,\n",
    ")\n",
    "\n",
    "val_loamder, val_dataset = get_loamder(root_folder=\"/kaggle/input/image-captioning/custom_captions_dataset/val\",\n",
    "    annot_file=\"/kaggle/input/image-captioning/custom_captions_dataset/val.csv\",\n",
    "    trans=transform,batch_size=1,shuffle=False,\n",
    "    num_workers=2,)\n",
    "\n",
    "test_loamder, test_dataset = get_loamder(root_folder=\"/kaggle/input/image-captioning/custom_captions_dataset/test\",\n",
    "    annot_file=\"/kaggle/input/image-captioning/custom_captions_dataset/test.csv\",\n",
    "    trans=transform,batch_size=1,shuffle=False,\n",
    "    num_workers=2,)\n",
    "torch.backends.cudnn.benchmark = True\n",
    "device = torch.device(\"cuda\" if torch.cuda.is_available() else \"cpu\")\n",
    "save_model = False\n",
    "\n",
    "emb_size = 512\n",
    "hid_size = 512\n",
    "voc_size = len(dataset.vocab)\n",
    "num_layers = 2\n",
    "l_r = 3e-4\n",
    "n_epoc = 300\n",
    "\n",
    "step = 0\n",
    "\n",
    "model = Image_Captioner(emb_size, hid_size, voc_size, num_layers).to(device)\n",
    "criterion = nn.CrossEntropyLoss(ignore_index=dataset.vocab.str_to_int[\"<PAD>\"])\n",
    "optimiz = optim.Adam(model.parameters(), lr=l_r)\n",
    "\n",
    "for name, params in model.cap_encoder.vit.named_parameters():\n",
    "    if \"vit.pooler.dense.bias\" in name or \"vit.pooler.dense.bias\" in name or \"vit.encoder.layer.11\" in name:\n",
    "        params.requires_grad = True\n",
    "    else:\n",
    "        params.requires_grad = False\n",
    "\n",
    "\n",
    "for epoch in range(n_epoc):\n",
    "    print(f\"Epoch: {epoch+1}/{n_epoc}\")\n",
    "    model.train()\n",
    "\n",
    "    for idx, (imgs, captions, str_cap, _) in tqdm(\n",
    "        enumerate(train_loamder), total=len(train_loamder), leave=False\n",
    "    ):\n",
    "        imgs = imgs.to(device)\n",
    "        captions = captions.to(device)\n",
    "\n",
    "        out = model(imgs, captions[:-1])\n",
    "        loss = criterion(\n",
    "            out.reshape(-1, out.shape[2]), captions.reshape(-1)\n",
    "        )\n",
    "\n",
    "        step += 1\n",
    "\n",
    "        optimiz.zero_grad()\n",
    "        loss.backward(loss)\n",
    "        optimiz.step()\n",
    "    ref = {}\n",
    "    hyp = {}\n",
    "    bleu_ = []\n",
    "    for idx, (img, captions, str_cap, _) in enumerate(val_loamder):\n",
    "        img = img\n",
    "        ref[idx] = str_cap\n",
    "        a = model.cap_img(img.to(device), dataset.vocab)\n",
    "        s = \"\"\n",
    "        s += a[1]\n",
    "        for i in range(2,len(a)):\n",
    "            if a[i] == '.':\n",
    "                s += a[i]\n",
    "            elif a[i] == \"<EOS>\":\n",
    "                continue\n",
    "            else:\n",
    "                s += \" \"\n",
    "                s += a[i]\n",
    "        hyp[idx] = [s]\n",
    "        bleu_.append(comp_bleu([s],[str_cap]))\n",
    "    print(\"CIDEr score of val set: \", comp_cider(ref,hyp))\n",
    "    print(\"BLEU score of val set: \", sum(bleu_)/len(bleu_))\n",
    "    print(\"ROUGE-l score of val set: \", comp_rougel(ref,hyp))"
   ]
  },
  {
   "cell_type": "markdown",
   "id": "ecf15551",
   "metadata": {},
   "source": [
    "# Testing the model on Test Set along with evaluation metrics"
   ]
  },
  {
   "cell_type": "code",
   "execution_count": 6,
   "id": "89cdb5d2",
   "metadata": {
    "execution": {
     "iopub.execute_input": "2024-04-17T13:07:31.500291Z",
     "iopub.status.busy": "2024-04-17T13:07:31.499357Z",
     "iopub.status.idle": "2024-04-17T13:08:08.169220Z",
     "shell.execute_reply": "2024-04-17T13:08:08.167806Z"
    },
    "papermill": {
     "duration": 41.270055,
     "end_time": "2024-04-17T13:08:08.171529",
     "exception": false,
     "start_time": "2024-04-17T13:07:26.901474",
     "status": "completed"
    },
    "tags": []
   },
   "outputs": [
    {
     "name": "stdout",
     "output_type": "stream",
     "text": [
      "--------------------------------------------------\n",
      "Image Name       : ['test_1.jpg']\n",
      "\n",
      "Correct Caption  :   ['A large building with bars on the windows in front of it. There is people walking in front of the building. There is a street in front of the building with many cars on it. ']\n",
      "\n",
      "Predicted Caption:  ['a large white building sits behind a street. there is a yellow and green bus on the street. there are people standing in front of the building.']\n",
      "--------------------------------------------------\n",
      "Image Name       : ['test_2.jpg']\n",
      "\n",
      "Correct Caption  :   ['A person is skiing through the snow. There is loose snow all around them from him jumping. The person is wearing a yellow snow suit. The person is holding two ski poles in their hands. ']\n",
      "\n",
      "Predicted Caption:  ['a person in a yellow , green , and black jacket and black pants is on an orange , purple , and yellow snowboard. the board is in the air as the rider holds it with his right hand. there is a <UNK> of snow below the']\n",
      "--------------------------------------------------\n",
      "Image Name       : ['test_3.jpg']\n",
      "\n",
      "Correct Caption  :   ['There is a bed in a room against a wall. There is a brown blanket on top of the bed. There is a small brown book shelf next to the bed. There is a picture hanging on the wall above the shelf. ']\n",
      "\n",
      "Predicted Caption:  ['a bedroom has a large bed with two pillows on it. the bedding is white with a light brown skirt. there are three lamps , all of them are turned on. a table is made of wood and there are two chairs. a picture is']\n",
      "--------------------------------------------------\n",
      "Image Name       : ['test_4.jpg']\n",
      "\n",
      "Correct Caption  :   ['A black and red train is on the tracks and has steam coming out off of it. There is another train next to the first train that is orange. There is an overpass over the train tracks with cars on it. ']\n",
      "\n",
      "Predicted Caption:  ['the train is on the tracks. the train is dusty. the train is pulling to the left. the train is painted yellow and white. there are two british windows on the side. the light is lit. there are wires above the tracks.']\n",
      "--------------------------------------------------\n",
      "Image Name       : ['test_5.jpg']\n",
      "\n",
      "Correct Caption  :   ['A white and yellow public transportation bus with \"122\" on front is stopped with it\\'s doors open. There is a gray car on the street beside the bus. Behind the car there is a  building with an \"Urban Outfitters\" on the first floor.']\n",
      "\n",
      "Predicted Caption:  ['a bus is going down the road. the bus is white in color. the sky is clear and blue. there are a lot of light shining through the clouds.']\n",
      "--------------------------------------------------\n",
      "Image Name       : ['test_6.jpg']\n",
      "\n",
      "Correct Caption  :   ['A large white house with a brown door sits behind some grass. There are four sheep grazing on the grass in front of the house. The house ahs a gray roof. ']\n",
      "\n",
      "Predicted Caption:  ['a large semi building has a white house on it. there is a black dog on the side of the fence. there is a black fence next to the house.']\n",
      "--------------------------------------------------\n",
      "Image Name       : ['test_7.jpg']\n",
      "\n",
      "Correct Caption  :   ['A man in a red and yellow t-shirt is holding a Wii remote in each of his hands. Behind him there is a fireplace which has been painted white. In front of him a light which is on and illuminating the room. ']\n",
      "\n",
      "Predicted Caption:  ['there is a man standing in front of a white door. the man is wearing a white shirt and has a black beard. there is a wii console on top of the television.']\n",
      "--------------------------------------------------\n",
      "Image Name       : ['test_8.jpg']\n",
      "\n",
      "Correct Caption  :   ['There are three men riding bicycles. Two of the men are wearing yellow and the third man has a blue shirt. The two men are way ahead of the third man. The men are bicycling in the bicycle lane. The cars are on the left side of the men.']\n",
      "\n",
      "Predicted Caption:  ['two people riding their motorcycles down the street. someone is riding the motorcycle in the opposite direction across the street. the mountains in the background are covered with trees. to the left of the motorcycle riders there is an orange cone. the picture was taken']\n",
      "--------------------------------------------------\n",
      "Image Name       : ['test_9.jpg']\n",
      "\n",
      "Correct Caption  :   ['TWO CELL PHONES ON THE TABLE.THEY BOTH ARE DARK IN COLOR A ND ARE BLACBERRYS.THERE ARE THREE CUTTING KNIVES.ONE KNIFE IS BETWEEN THE TWO PHONES.THERE IS A THIRD PHONE WITH A KNIFE LYING OVER IT.']\n",
      "\n",
      "Predicted Caption:  ['there are several items laying on top of a white table. there is a silver remote on the table next to the scissors. there is a white plastic bag on top of the table. there are several items on top of the table.']\n",
      "--------------------------------------------------\n",
      "Image Name       : ['test_10.jpg']\n",
      "\n",
      "Correct Caption  :   ['A painted mannequin head sits on a table. It is a feminine head with arched eyebrows a small nose, big eyes and it is wearing a black top hat and a brown wig. To the right of the head is a metal sculpture clock with a white face.']\n",
      "\n",
      "Predicted Caption:  ['a young man with light brown hair and wearing glasses is sitting at a table eating his room.   the man has his arm up as if he holds the <UNK> to <UNK> his mouth.   he is wearing dark rimmed glasses on his face and he']\n",
      "--------------------------------------------------\n",
      "Image Name       : ['test_11.jpg']\n",
      "\n",
      "Correct Caption  :   ['A white and yellow train is on the tracks. There is a large yellow door on the front of the train. There is a platform next to the train. ']\n",
      "\n",
      "Predicted Caption:  ['a train is traveling resting on the tracks. the train is yellow , red , blue and white. the tracks themselves are not visible. the train station platform is made of cement. off in the distance there is a bridge. the train is green']\n",
      "--------------------------------------------------\n",
      "Image Name       : ['test_12.jpg']\n",
      "\n",
      "Correct Caption  :   ['A man is sitting on the back of an elephant. They are walking through a very high swamp area. They are being seen from in between the perspective of two logs of a tree.']\n",
      "\n",
      "Predicted Caption:  [\"this is a picture of some elephants. the elephants are bathing themselves. the one elephant has it 's head <UNK>. the one elephant is standing halfway on the other elephant. the water is murky and dark green and brown. the elephants are dark brown\"]\n",
      "--------------------------------------------------\n",
      "Image Name       : ['test_13.jpg']\n",
      "\n",
      "Correct Caption  :   ['There is a black place mat on top of a wood table. There is a white plate on the mat with food on it. There is a fork on the mat next to the plate. There is an orange towel next to the plate. ']\n",
      "\n",
      "Predicted Caption:  ['a plate is full of assorted food. there are cooked carrots on the plate. there are carrots inside of the <UNK>. the carrots are all in clear. there are clear clear drinking <UNK> in the plate. there are <UNK> beans in the back.']\n",
      "--------------------------------------------------\n",
      "Image Name       : ['test_14.jpg']\n",
      "\n",
      "Correct Caption  :   [\"A goat has its head turned back and it's looking at something. The goat is white but has a black nose and mouth and black ears. The horns of the goat are pointed upwards and has black tops. The goat is standing in green grass.\"]\n",
      "\n",
      "Predicted Caption:  ['a picture of a cow standing in a field. there is a field of green grass underneath the cow. there are large gray clouds in the sky above the cow. there are large leafy trees off in the distance. there are hills off in the']\n",
      "--------------------------------------------------\n",
      "Image Name       : ['test_15.jpg']\n",
      "\n",
      "Correct Caption  :   ['A woman is walking her dog. She is on a skateboard while she is holding the leash of her dog. She is wearing a gray hoodie and some black shorts.']\n",
      "\n",
      "Predicted Caption:  ['a man is skateboarding outside on a sunny day. he is wearing a short sleeve shirt , pants , sunglasses and brown shoes. the skateboard is green with yellow leaves in his hands. a tall tree is standing in the back of the photo. the']\n",
      "--------------------------------------------------\n",
      "Image Name       : ['test_16.jpg']\n",
      "\n",
      "Correct Caption  :   ['There are some portable bathrooms sitting near a railroad track. There are some trains sitting on the track. The portable bathrooms are blue with a white roof and the trains are yellow.']\n",
      "\n",
      "Predicted Caption:  ['the image is of a train station. there is a white and red train on the tracks. the train has a small red front window. there is a yellow line in front of the train on the track. there are <UNK> on the side of']\n",
      "--------------------------------------------------\n",
      "Image Name       : ['test_17.jpg']\n",
      "\n",
      "Correct Caption  :   ['A very white bathroom has a very white sink and toilet. The shower curtain that hangs from the ceiling is also white. There is one wall that is all mirrored. The door is made of glass and the faucet is silver. The floor is made of black tile. ']\n",
      "\n",
      "Predicted Caption:  ['a bathroom with a large illuminated mirror. the toilet is white. there is a small mirror on the wall above the toilet. there is a reflection of the toilet in the glass. there are two large windows next to the sink.']\n",
      "--------------------------------------------------\n",
      "Image Name       : ['test_18.jpg']\n",
      "\n",
      "Correct Caption  :   ['A man is in a black wetsuit. The man is riding a white surfboard. There is a large wave in the water the man is surfing on. ']\n",
      "\n",
      "Predicted Caption:  ['a man is surfing on a wave. he has a black <UNK> on and his face is really <UNK> and he is looking back the camera as he <UNK> the wave. the water is <UNK> sand and there are waves in the water behind the man.']\n",
      "--------------------------------------------------\n",
      "Image Name       : ['test_19.jpg']\n",
      "\n",
      "Correct Caption  :   ['A pizza is on a brown wooden tray. The tray is placed on the stove top. The pizza has melted cheese and spinach on top of it. The stove is white with black burners.']\n",
      "\n",
      "Predicted Caption:  ['there are three pizzas on the table. the pizzas are round and round. the pizza is square. there are pizza on the pizza. the pizza <UNK> are made of metal. the pizza is on a brown crust.']\n",
      "--------------------------------------------------\n",
      "Image Name       : ['test_20.jpg']\n",
      "\n",
      "Correct Caption  :   ['a flood is occuring. there is a lot of water on the road. the hydrant on the sidewalk is red. the garage doors are red in color . there are some pieces of grass growing.']\n",
      "\n",
      "Predicted Caption:  ['a fire hydrant sits in a parking lot. the fire hydrant is blue and white. there are cars parked by the side of the road. there are no leaves on the trees. there are flowers in front of the fire hydrant. there are houses']\n",
      "--------------------------------------------------\n",
      "Image Name       : ['test_21.jpg']\n",
      "\n",
      "Correct Caption  :   ['there are four airplanes in the sky. There is a small hill under them. There is a field of grass under the airplanes. There are smoke trails coming out from behind the airplanes. ']\n",
      "\n",
      "Predicted Caption:  ['eight planes are flying in the air. the sky is clear and blue. the planes are flying in a t formation. 4 of the middle planes are have white trails coming from them. two of the planes on the left have arched blue trails coming']\n",
      "--------------------------------------------------\n",
      "Image Name       : ['test_22.jpg']\n",
      "\n",
      "Correct Caption  :   ['There is a large white airplane that is in the sky. There is a silver fence under the airplane. There are light poles on both sides of a fence under the plane. ']\n",
      "\n",
      "Predicted Caption:  ['this is a picture of a plane sitting on a tarmac. the plane is white with a blue and orange tail. the plane has two engines on each side of it. the plane is painted white and blue. the plane has two engines on its']\n",
      "--------------------------------------------------\n",
      "Image Name       : ['test_23.jpg']\n",
      "\n",
      "Correct Caption  :   ['A young lady is having a very fun time by herself. This young lady has on very short jean shorts, a turquoise top and some shades on. She is surfing a fake wave on a plastic board and having so much fun.\\n']\n",
      "\n",
      "Predicted Caption:  [\"a <UNK> girl is riding a large wave. the <UNK> is on a large colorful string. the string is yellow , blue , and pink. the string is n't very long and the sky is clear and blue.\"]\n",
      "--------------------------------------------------\n",
      "Image Name       : ['test_24.jpg']\n",
      "\n",
      "Correct Caption  :   ['A man is jumping in the air. The man is holding a green frisbee in his hand. There are trees behind the man. ']\n",
      "\n",
      "Predicted Caption:  ['a <UNK> girl wearing a pink shirt , white shorts , blue shorts and a red belt is seen catching a frisbee in a field. a blue frisbee is flying in the air in front of the girl. a blue frisbee is soaring in the air towards']\n",
      "--------------------------------------------------\n",
      "Image Name       : ['test_25.jpg']\n",
      "\n",
      "Correct Caption  :   ['A tennis player has just forehand swung to hit a ball. The player has on a light blue shirt and headband. He has on brown nike shorts and white shoes.']\n",
      "\n",
      "Predicted Caption:  ['a man is standing on a tennis court playing tennis. he is wearing a blue shirt and white shorts. he is holding a blue , black and white racket in his hands. a black glove is soaring in the air towards the man. there is']\n",
      "--------------------------------------------------\n",
      "Image Name       : ['test_26.jpg']\n",
      "\n",
      "Correct Caption  :   ['There is a vase on a table.  The vase has a white enamel base and three flower holders.  In the vase is an assortment of artificial fall colored leaves and berries.  The colors depicted are different shades of orange.  The table appears to be in the backyard of a house.  Behind the vase is a picket fence, a sidewalk, some monkey grass, and some pink flowers.  On the other side of the fence the eaves of the neighboring house are seen. ']\n",
      "\n",
      "Predicted Caption:  ['a mug of glass is on the table. the vase is blue and red. the vase is sitting on a table. the table is an off white color. there is a vase on the ground behind the vase.']\n",
      "--------------------------------------------------\n",
      "Image Name       : ['test_27.jpg']\n",
      "\n",
      "Correct Caption  :   ['A person is standing on the beach. They are flying a large yellow and red kite. There are small waves in the water. The person is wearing a black wet suit. ']\n",
      "\n",
      "Predicted Caption:  ['a picture of a person standing on a beach while flying a kite. the sky above the beach is hazy blue. there are many waves running along the <UNK> of the beach. there is a time <UNK> on the bottom right of the picture. there']\n",
      "--------------------------------------------------\n",
      "Image Name       : ['test_28.jpg']\n",
      "\n",
      "Correct Caption  :   ['A white plate of food. There is rice under a pile of broccoli. There are onions cut up on top of the broccoli. ']\n",
      "\n",
      "Predicted Caption:  ['a white plate is sitting on a table. there is a jar next to the plate. there is food sitting on top of the plate. there are pieces of broccoli and some of broccoli.']\n",
      "--------------------------------------------------\n",
      "Image Name       : ['test_29.jpg']\n",
      "\n",
      "Correct Caption  :   ['A stop sign is on a piece of wood and attached to a round sign that is white, with a red border around the outside. Below the stop sign there are two signs in Russian. The signs are attached to a rusty metal fence. ']\n",
      "\n",
      "Predicted Caption:  ['a sign is in the center of the road. the sign is red with white writing on it. the sign is on a metal pole. the sign is on metal poles. behind the sign are trees and trees.']\n",
      "--------------------------------------------------\n",
      "Image Name       : ['test_30.jpg']\n",
      "\n",
      "Correct Caption  :   ['a man is playing tennis. he is wearing  a sweatband in his hair. his hair is brown in color. his hair is very long. his uniform is white. he is also wearing white shorts.']\n",
      "\n",
      "Predicted Caption:  ['there is a man in a white and blue shirt wearing white shorts. the man is holding a red and white tennis racket. there is a black and white tennis ball in front of the man.']\n",
      "--------------------------------------------------\n",
      "Image Name       : ['test_31.jpg']\n",
      "\n",
      "Correct Caption  :   ['Four sailboats with masts but no sails are lined up along the shore of a lake.  A hill rises beyond them in the sun.  Part of the hill is bare rock and dirt and part has low green bushes.  The sky is very blue beyond the hill. ']\n",
      "\n",
      "Predicted Caption:  ['the sky is blue and clear. there is a big white and blue sail boat in the water. there are small waves in the water. the sky is blue and white and is in calm.']\n",
      "--------------------------------------------------\n",
      "Image Name       : ['test_32.jpg']\n",
      "\n",
      "Correct Caption  :   ['A man is standing outside flying a black and white kite. He is wearing a white hat on his head, a suit coat, and dark colored pants. A shadow of the man can be seen beside him on the ground. The sky is clear and blue. Tall trees are seen below the sky. ']\n",
      "\n",
      "Predicted Caption:  ['there is a <UNK> behind a fence. there is a large body of water in front of the water. there is a tree near the <UNK>. there is a white building in the distance. there are trees behind the fence.']\n",
      "--------------------------------------------------\n",
      "Image Name       : ['test_33.jpg']\n",
      "\n",
      "Correct Caption  :   ['Five off white sheep are standing on a rocky grassy hill. The stones are medium sized and are grey and white. Beyond the sheep is a bright blue body of water and a set of beautiful grass covered mountains and a blue sky.']\n",
      "\n",
      "Predicted Caption:  ['a pack of sheep are in a snowy field on a winter day. the sheep are mostly white , but there is a brown sheep near the camera , and a black one standing next to the tree. there is a bare tree on the right with']\n",
      "--------------------------------------------------\n",
      "Image Name       : ['test_34.jpg']\n",
      "\n",
      "Correct Caption  :   ['A large white truck sits in a parking space in a small parking lot. The trailer of the truck has a cover on it. On the other side of the parking lot are a few more cars. The other cars are parked next to a building that looks to be made of brick. There are a few bare plants in the front of the building.']\n",
      "\n",
      "Predicted Caption:  ['there is a large white building with a brick wall in front of it. there are many trucks parked in front of the brick building. there is a white truck in front of a red fire hydrant on the ground.']\n",
      "--------------------------------------------------\n",
      "Image Name       : ['test_35.jpg']\n",
      "\n",
      "Correct Caption  :   ['there is a big yellow sign. the sign is a warning sign. the sign is shaped like a diamond. there is a light above the sign.']\n",
      "\n",
      "Predicted Caption:  ['a silver pole has two white signs on it reading \" <UNK> \" and \" <UNK> <UNK> \". there are bushes surrounding the pole , on the right a pointy leafy like bush , and the left a bush with red flowers. on the right of these']\n",
      "--------------------------------------------------\n",
      "Image Name       : ['test_36.jpg']\n",
      "\n",
      "Correct Caption  :   ['An image of a peeled large banana dominates the picture. Three men are walking down the street.  The man in the front is by himself while two other men are in close proximity.  Two buses are parked along the side of the street.']\n",
      "\n",
      "Predicted Caption:  [\"there is a woman who is wearing a white shirt 's right arm outstretched into a purple box at a <UNK> 's market. the woman is wearing a white wedding <UNK> 's shirt and a white apron. she has a <UNK> look on her face and a\"]\n",
      "--------------------------------------------------\n",
      "Image Name       : ['test_37.jpg']\n",
      "\n",
      "Correct Caption  :   ['the scene takes place outdoors in a winter snowy landscape, three persons and a child are interacting. A man is leading a child into the ski lift provider. they are standing by the entrance about to enter, a man in a green jacket seems to the entrance attendant. a building with woodside panelling is above the people. a man is standing in the foreground, wearing an orange jacket. the ground is filled with snow, the people are wearing winter clothes. there are signs above the man and child. ']\n",
      "\n",
      "Predicted Caption:  ['a man is seen in this photo standing outside in front of a group of a man. the man is wearing a black jacket and dark pants. the man is wearing a white cap on his head , <UNK> and is holding a gray purse. a']\n",
      "--------------------------------------------------\n",
      "Image Name       : ['test_38.jpg']\n",
      "\n",
      "Correct Caption  :   ['A large white cow is grazing in the grass. The cow is in a field with weeds and grass. There are trees behind the cow. ']\n",
      "\n",
      "Predicted Caption:  ['a calf <UNK> from its mother , who <UNK> at the photographer with a protective <UNK>. the adult cows - three of them - are grazing in the <UNK> , dry - looking valley by some large mountains. the setting is <UNK> rural. no <UNK> are']\n",
      "--------------------------------------------------\n",
      "Image Name       : ['test_39.jpg']\n",
      "\n",
      "Correct Caption  :   ['there is a big mountain. there are a lot of trees on the mountain. there are two girls walking along the trail. the trail is made of dirt. they are holding umbrellas in their hands.']\n",
      "\n",
      "Predicted Caption:  ['a person is riding a <UNK> on a big <UNK>. the person is leaning forward and <UNK> with his long hair. the ground is wet. they are standing on a side of the mountain <UNK>.']\n",
      "--------------------------------------------------\n",
      "Image Name       : ['test_40.jpg']\n",
      "\n",
      "Correct Caption  :   ['There is a large strip of grass along a road, with buildings, people, buses, trees and flags. The grass is very green and has something more overgrown like bushes that run along the road. The strip of road that is showing to the right of the picture is black. There are two large buses on the road. One bus is red with yellow words on it and the other is black. There are people in both buses, and along the grass and road. There are large trees running by the roads and buildings in the middle and back of the picture. There are two buildings showing. One building is on a street corner and is white with many stories. The other is to the left and is grey with many stories. There are two flag poles and one of them has a flag hanging on it.']\n",
      "\n",
      "Predicted Caption:  ['a bunch of cars in the street. they are all driving the same direction. there is a transit bus in traffic and two motorcycles are in traffic as well.']\n",
      "--------------------------------------------------\n",
      "Image Name       : ['test_41.jpg']\n",
      "\n",
      "Correct Caption  :   ['A menu is see hanging on the wall. The menu is over the kitchen area. There is a range top that has a couple of things on it. On the counter is some fish and chicken. ']\n",
      "\n",
      "Predicted Caption:  ['the kitchen has dark <UNK> on it. there is a bottle of fruit and meat. the <UNK> are attached to the toaster. the grill is silver. there is a small little package on the side. the stove is black and white.']\n",
      "--------------------------------------------------\n",
      "Image Name       : ['test_42.jpg']\n",
      "\n",
      "Correct Caption  :   ['An elephant relaxes in the water. A man lays on the back of the elephant. A few other men stand around the elephant and look at it. The water is a brown color. The men are all wearing swim trunks. The sun is reflecting on the water.']\n",
      "\n",
      "Predicted Caption:  [\"this is a picture of some elephants. the elephants are bathing themselves. the one elephant has it 's head <UNK>. the one elephant is standing halfway on the other elephant. the water is murky and dark green and brown. the elephants are dark brown\"]\n",
      "--------------------------------------------------\n",
      "Image Name       : ['test_43.jpg']\n",
      "\n",
      "Correct Caption  :   ['a boy is playing frisbee. the frisbee is white in color. the shorts are red in color. his shirt is black and red. he is wearing white shoes.']\n",
      "\n",
      "Predicted Caption:  ['a man is jumping on a grassy field. he is shirtless , just wearing blue and white striped shorts. he is wearing black sunglasses and holding white <UNK> in his hands. the grass is green and tall and surround it is a white and brown color']\n",
      "--------------------------------------------------\n",
      "Image Name       : ['test_44.jpg']\n",
      "\n",
      "Correct Caption  :   ['A bunch of planes are in formation in the air. One plane is way farther away from the rest. The sky is a pretty blue color and a couple of clouds are seen.']\n",
      "\n",
      "Predicted Caption:  ['a <UNK> of sheep with <UNK> brown , and a <UNK> is sitting on the ground.   the sheep are eating <UNK> of <UNK> wool and the sheep are all about to the camera in the same direction.   the ground is grassy with dirt and patches']\n",
      "--------------------------------------------------\n",
      "Image Name       : ['test_45.jpg']\n",
      "\n",
      "Correct Caption  :   ['A person with a black shirt on is jumping on a skateboard. There is a boy in a red jacket standing in front of him. There is a black fence behind the people. ']\n",
      "\n",
      "Predicted Caption:  ['a man is skateboarding. the man is wearing blue jeans. the skateboard is in the air. the man is wearing a helmet. the helmet is black. the man is wearing a hat. the man is wearing a jeans. the man is wearing']\n",
      "--------------------------------------------------\n",
      "Image Name       : ['test_46.jpg']\n",
      "\n",
      "Correct Caption  :   ['There are many boats in the water. There are small waves in the water around the boats. There is a bird flying in the air above the water. There is a hill on the other side of the water. ']\n",
      "\n",
      "Predicted Caption:  [\"the water is blue and has many ripples in it. <UNK> from the ripples it does n't have many waves. the sky above the water is blue and it has white clouds high in it. on the horizon white clouds are seen. there are many\"]\n",
      "--------------------------------------------------\n",
      "Image Name       : ['test_47.jpg']\n",
      "\n",
      "Correct Caption  :   [\"In this image, a downtown business district in an English speaking country is depicted. The image shows a narrow street with sidewalks on both sides, with customers walking up and down the sidewalks and going in and out of stores. The narrow street does not have any cars driving down it, but instead there is a train or streetcar running on rails. The train is white on the top and red on the bottom with a large glass windshield in front and smaller glass windows on the sides. It is coming up to an intersection. At the intersection, there is a sign that indicates only bicycles are allowed on the cross street. All the people in the picture are wearing lightweight jackets, so it must be fall or spring, as there is no snow or rain. There is a store called Dreams, and a sign advertising beds, though it is difficult to tell if they are beds for sale or rooms for rent. If I had to guess, I'd say this is an English speaking country in Europe. \"]\n",
      "\n",
      "Predicted Caption:  ['a bus is parked next to a large outdoor covered bus stop area. the bus is white with blue trim. to the side behind the bus is a large , green , and red bus.']\n",
      "--------------------------------------------------\n",
      "Image Name       : ['test_48.jpg']\n",
      "\n",
      "Correct Caption  :   ['A bus is on the street. It is currently getting ready to pick some people up and drop some off. The bus is white, purple, and red on the top. The building has a lot of moss on it.']\n",
      "\n",
      "Predicted Caption:  ['a bus is proceeding through traffic and making a turn in the street. the bus is light blue , green , purple , and yellow. there are two people standing on the sidewalk. the bus is riding out onto the street.']\n",
      "--------------------------------------------------\n",
      "Image Name       : ['test_49.jpg']\n",
      "\n",
      "Correct Caption  :   ['A young boy is walking with a horse. The young boy has on a black sweater with a blue shirt tied around his waist. The horse is a dark brown color and looks very friendly.']\n",
      "\n",
      "Predicted Caption:  ['there are two horses in this photo. the horses are standing on the grass. the one on the left is brown while the other is white. the horse in the front is a light brown color and the horse is brown. the horse in the']\n",
      "--------------------------------------------------\n",
      "Image Name       : ['test_50.jpg']\n",
      "\n",
      "Correct Caption  :   ['a sign is on a pole. the pole is green in color. there is an arrow on the sign. the arrow is white in color. there is writing on the sign.']\n",
      "\n",
      "Predicted Caption:  ['a green highway sign <UNK> to the <UNK> <UNK> and the airport in <UNK> <UNK> on highway 1. behind the sign there is a tree with only a few brown leaves <UNK> to the branches , and behind that a <UNK> of trees to walk between the tree']\n",
      "--------------------------------------------------\n",
      "Image Name       : ['test_51.jpg']\n",
      "\n",
      "Correct Caption  :   ['A vintage pick-up truck is parked at the sidewalk. The truck is beige with black roof. At the sidewalk is a black parking meter. The parking meter is attached to silver pole with blue painted letters on it.']\n",
      "\n",
      "Predicted Caption:  ['there is a red fire hydrant on the ground. the truck has the word <UNK> on it. there is a man sitting on the ground behind the man. there is a door on the ground next to the house. there is a large white building']\n",
      "--------------------------------------------------\n",
      "Image Name       : ['test_52.jpg']\n",
      "\n",
      "Correct Caption  :   ['A man wearing striped swim shorts is standing on sand. There is also a black and white dog standing on the sand. There is a white frisbee in the air above the sand. ']\n",
      "\n",
      "Predicted Caption:  [\"a man in a black wetsuit is walking on the sand of beach on a white day. he is holding a white frisbee in his hand and he is carrying the surf board behind him in the air. the kite is open , but it 's wet\"]\n",
      "--------------------------------------------------\n",
      "Image Name       : ['test_53.jpg']\n",
      "\n",
      "Correct Caption  :   ['There are plates and bowls on top of a table. The table is wooden and there are small bowls in the middle. There is food on the plates. There are knives and forks on top of the plate. ']\n",
      "\n",
      "Predicted Caption:  ['there is a table with two plates of food on it. there is a basket with brown sauce on it. there is a small wooden bowl sitting on the table. there is a large <UNK> on the table.']\n",
      "--------------------------------------------------\n",
      "Image Name       : ['test_54.jpg']\n",
      "\n",
      "Correct Caption  :   [\"A group of people have gather around the skateboarding ramp to watch other skateboarder's skate on it. There is one person in the ramp. It looks like that person fell down off of their board.\"]\n",
      "\n",
      "Predicted Caption:  ['the <UNK> of the photograph are on the lawn. they are all wearing white sneakers and black shorts. the skater on the far left is wearing shorts. the shorts on the right is white with a black center. the man on the left is wearing']\n",
      "--------------------------------------------------\n",
      "Image Name       : ['test_55.jpg']\n",
      "\n",
      "Correct Caption  :   ['a bunch of donuts are being displayed. the top row of donuts are all glazed types. there is a person waiting in a grey shirt.']\n",
      "\n",
      "Predicted Caption:  ['there are donuts sitting on top of a white box. there is a large white bowl on the table next to the donuts. there is a white donut in front of the donuts.']\n",
      "--------------------------------------------------\n",
      "Image Name       : ['test_56.jpg']\n",
      "\n",
      "Correct Caption  :   ['A bag of potato chips is sitting on a couple of tan napkins on an oval plate. There are two half sandwiches on the plate with the chips. The sandwiches have black grill marks on the tops. There is a yellow mug on the table next to the plate.']\n",
      "\n",
      "Predicted Caption:  ['a toasted sandwich sits on a white ceramic plate on a light colored wooden table. poking out from the ends of the bread are tomato slices , lettuce and white cheese. the <UNK> of the bread are dark brown and small black burnt spots are scattered over']\n",
      "--------------------------------------------------\n",
      "Image Name       : ['test_57.jpg']\n",
      "\n",
      "Correct Caption  :   [\"there is a big motorcycle in the parking lot. it looks just like a race car. it is blue and gray in  color. the seats are very big. the wheels are very spaced apart. it doesn't look like a motorcycle.\"]\n",
      "\n",
      "Predicted Caption:  ['<UNK> of motorcycles are parked in a parking lot. there are people walking around the motorcycles. a man in a black leather jacket is in the front. there is also a red motorcycle next to the man in the red hat.']\n",
      "--------------------------------------------------\n",
      "Image Name       : ['test_58.jpg']\n",
      "\n",
      "Correct Caption  :   ['A large splash is in front of a wave in the water. There is a large white and black surf board in the water. There is a black dog that is riding on top of the surf board.']\n",
      "\n",
      "Predicted Caption:  ['a man is surfing a wave. he has on a black long - sleeved shirt and light blue trunks. his surfboard is beige and off - white. the waves around him are very crisp and clear and the water under him is very nice looking.']\n",
      "--------------------------------------------------\n",
      "Image Name       : ['test_59.jpg']\n",
      "\n",
      "Correct Caption  :   ['A black parking meter with a white sign on it. There is a car parked in front of the parking meter. There is a shadow of a tree on top of the car. ']\n",
      "\n",
      "Predicted Caption:  ['a black pole is standing beside an old parking meter. attached to the pole are parking signs. the meter machine is green with orange border at front. on the side is a drawing of <UNK> with <UNK> circle at the center. the border is green']\n",
      "--------------------------------------------------\n",
      "Image Name       : ['test_60.jpg']\n",
      "\n",
      "Correct Caption  :   ['brown baby bears are walking in the grass. There is a large log above them next to two large rocks. ']\n",
      "\n",
      "Predicted Caption:  ['a brown bear is standing in the water.   there are small trees in the ground in front of the bear.   the bear is fat.   the bears are black.   there are two big brown teddy bears in the area.   one']\n",
      "--------------------------------------------------\n",
      "Image Name       : ['test_61.jpg']\n",
      "\n",
      "Correct Caption  :   ['There are four jets flying in the sky together. Each jet is leaving a trail of puffy white smoke behind the other one. The sky is a bright blue. ']\n",
      "\n",
      "Predicted Caption:  [\"this photo is taken in the sky. a person is flying a small red and white airplane. the plane has two large red wings. there is a clear glass above the person 's head that is attached to the plane. the sky is filled with\"]\n",
      "--------------------------------------------------\n",
      "Image Name       : ['test_62.jpg']\n",
      "\n",
      "Correct Caption  :   ['The tall large building is in the city. On the front of the building are many windows. It also has a clocks telling the time of different countries. The sky is blue but mostly cloudy. ']\n",
      "\n",
      "Predicted Caption:  ['there are clocks on the side of the street. there are signs on the sides of the street. there is a tall street light above the street. there are many poles and street signs all together on the street.']\n",
      "--------------------------------------------------\n",
      "Image Name       : ['test_63.jpg']\n",
      "\n",
      "Correct Caption  :   ['A plate with a colorful rim on it is sitting on a table. There is a piece of chicken on the plate with salad next to it. There is also a pile of french fries on the plate. ']\n",
      "\n",
      "Predicted Caption:  ['a plate of food sits on top of a table. two glasses are on top of the plate. there is also a light brown bowl of meat next to a white napkin. there is a piece of bacon next to the plate and a knife to']\n",
      "--------------------------------------------------\n",
      "Image Name       : ['test_64.jpg']\n",
      "\n",
      "Correct Caption  :   [\"A display window is seen with women's underwear on white mannequins inside in a mall. Beside the window there is a toy table with chairs around it which three plastic bears are sitting. There is a toy teapot with slots for coins so children can ride with the bears.\"]\n",
      "\n",
      "Predicted Caption:  ['there are many shelves in the house. the shelves are clear and there is a <UNK> around that is white. there is a <UNK> up with <UNK> <UNK>. the right side of the store is black. the floor is black and red. the picture']\n",
      "--------------------------------------------------\n",
      "Image Name       : ['test_65.jpg']\n",
      "\n",
      "Correct Caption  :   ['A piece of wood is sitting on a counter. There is a knife with a black handle on top of the wood. There is a white plate of food behind the wood. ']\n",
      "\n",
      "Predicted Caption:  ['the table is white. the table has circle hole in the center. there are four plates on the table. the plates are round and black. the plates are made of different size drinks. they are brown. the food is on a wooden table']\n",
      "--------------------------------------------------\n",
      "Image Name       : ['test_66.jpg']\n",
      "\n",
      "Correct Caption  :   ['A tall brick tower has two clocks on separate sides of the tower walls.  The clocks on the tower have roman numerals and gold clock hands.  The center of the clock is burgundy and the outer part of the clock is blue.  The tower has a narrowing tiled and reddish steeple at the tower top. Black metal grills cover arched window openings under the clock.  Full view of the clock is obstructed by stray green leaves on thin brown branches.  The sky is white with clouds.']\n",
      "\n",
      "Predicted Caption:  ['a very nice looking black clock is <UNK> and <UNK> right in front of a brick wall and over an <UNK>. the clock is black and the roman numerals as well as clock hands are golden. the <UNK> is on a gold pole that is on a']\n",
      "--------------------------------------------------\n",
      "Image Name       : ['test_67.jpg']\n",
      "\n",
      "Correct Caption  :   ['A person is jumping in the air on a snowboard. There is a ski lift behind them. There are trees next to the ski lift. There is a lot of snow on the ground under them. ']\n",
      "\n",
      "Predicted Caption:  ['a person is standing on a red and yellow snow board. there is piles of snow under the person. they are wearing a black jacket and a white pair of ski pants.']\n",
      "--------------------------------------------------\n",
      "Image Name       : ['test_68.jpg']\n",
      "\n",
      "Correct Caption  :   ['a woman is playing some tennis. her hat is white in color. she is wearing a skirt. the skirt is white in color.']\n",
      "\n",
      "Predicted Caption:  ['a man in a white t - shirt and white shirt is standing on a tennis court. he is holding a blue tennis racket and there are black tennis shoes on his head. he is wearing a black hat and a white shirt and white shoes.']\n",
      "--------------------------------------------------\n",
      "Image Name       : ['test_69.jpg']\n",
      "\n",
      "Correct Caption  :   [\"a kitchen that is empty isn't being used by anyone. the counters are clean and empty. the grill is black and has nothing on it.\"]\n",
      "\n",
      "Predicted Caption:  ['the kitchen has neutral colored ceramic tiled floors. the cabinets are light wood. the back splash is tiled in a brown color. you can see the living room from the kitchen. there is a fire place in the living room. the oven and the']\n",
      "--------------------------------------------------\n",
      "Image Name       : ['test_70.jpg']\n",
      "\n",
      "Correct Caption  :   ['A brown teddy bear is sitting in a window sill. There is a book on its lap. There is a white bar in front of the bear. There is a window behind the bear. ']\n",
      "\n",
      "Predicted Caption:  ['a cat is sitting in a car hugging a door. the cat is brown and black and white and is sitting on a wooden bench. behind the bench , there is a gray and white <UNK> , along with a white <UNK>. next to the frame']\n",
      "--------------------------------------------------\n",
      "Image Name       : ['test_71.jpg']\n",
      "\n",
      "Correct Caption  :   ['A woman in a white shirt and red skirt is playing tennis. She is swinging a tennis racket a ball. There is a black fence behind the woman.']\n",
      "\n",
      "Predicted Caption:  ['a woman is wearing a red shirt and a red pair of shorts. she is standing on a tennis court. the tennis court is blue with white lines painted on it. she has a tennis racket inside one of her hands. the yellow tennis ball']\n",
      "--------------------------------------------------\n",
      "Image Name       : ['test_72.jpg']\n",
      "\n",
      "Correct Caption  :   ['Three caucasian men are standing against a white wall. They are all wearing black shirts. The man on the far left is holding a white video game controller in his right hand. He has brown hair, and a brown beard and mustache. His shirt has long sleeves. The man in the middle has dark hair that is thinning around his temples. His arms are crossed across his chest, and his right hand is covering his mouth. The man on the far right is wearing a black sweatshirt with gray lettering. He also has a white video game controller in his right hand. He has brown hair, and brown facial hair. ']\n",
      "\n",
      "Predicted Caption:  ['two men are standing side by side. the man on the left is wearing a yellow shirt with blue jeans and blue jeans. the man on the right is wearing a long sleeved black shirt with gray borders. the hair of the man on the right']\n",
      "--------------------------------------------------\n",
      "Image Name       : ['test_73.jpg']\n",
      "\n",
      "Correct Caption  :   ['A man is wearing a black wet suit. He is carrying a large white surf board. There are large boulders next to the man.']\n",
      "\n",
      "Predicted Caption:  ['a man is standing on the sand next to a wave. the boat is white and the one on the boat is yellow. the man is wearing a red and white jacket. the water is blue and has white clouds. the sky is blue and']\n",
      "--------------------------------------------------\n",
      "Image Name       : ['test_74.jpg']\n",
      "\n",
      "Correct Caption  :   ['The vanity in this fancy, large bathroom is very long and is made of medium stained wood. The lighting above the vanity are three hanging, glass covered globes. The counter of the vanity has a sink as well as a vase filled with purple flowers. The walls are white and the tiles are all made of stone. The shower is also tiled with stone like tiles and is very large and open.']\n",
      "\n",
      "Predicted Caption:  ['this is a bathroom. the ceiling is white. the walls are a sea foam green. the walls in the bathroom are yellow and have <UNK>. there are a bunch of white <UNK> in the bathroom. the <UNK> are white and are hanging on the']\n",
      "--------------------------------------------------\n",
      "Image Name       : ['test_75.jpg']\n",
      "\n",
      "Correct Caption  :   ['A woman is holding an umbrella. The woman is coming out of the train station. The picture is in black and white. There are tall buildings in the near distance.']\n",
      "\n",
      "Predicted Caption:  ['a man is wearing a black jacket and a black cap. he is holding a yellow umbrella in his hand. he has a beard that is brown.']\n",
      "--------------------------------------------------\n",
      "Image Name       : ['test_76.jpg']\n",
      "\n",
      "Correct Caption  :   ['An old fashioned bus is seen on the street. The bus is red on the bottom and beige on the top. A chain link fence is on the right side of the bus, and behind the fence is a large green metal crane. The sky above is gray and cloudy.']\n",
      "\n",
      "Predicted Caption:  ['a large red bus is driving on the street. there is a pole next to the bus with a clock on it. there is a large blue sky above the bus.']\n",
      "--------------------------------------------------\n",
      "Image Name       : ['test_77.jpg']\n",
      "\n",
      "Correct Caption  :   ['there is a toilet in a bathroom. the toilet is white. there are tiles on the floor. the tiles are white and green. there is a bucket next to the toilet.']\n",
      "\n",
      "Predicted Caption:  ['a toilet with a white tank and a metal pipe running to the wall is in a bathroom on the left wall. there is a sink attached to the wall with a metal pipe running from it to the ground. the white tiles on the wall are']\n",
      "--------------------------------------------------\n",
      "Image Name       : ['test_78.jpg']\n",
      "\n",
      "Correct Caption  :   ['a bird is eating out of a hand. the hand is white in color. the bird is eating corn. the corn is yellow. the bird is a pigeon.']\n",
      "\n",
      "Predicted Caption:  ['two birds are shown on a healthy green lawn.   the bird in the foreground is eating off the ground.   the bird in the background is blurry.   both birds have black necks.']\n",
      "--------------------------------------------------\n",
      "Image Name       : ['test_79.jpg']\n",
      "\n",
      "Correct Caption  :   ['A baby is sleeping on a covered mattress. His shirt is black white and blue. The mattress cover has designs all over it. There is a doll with a blue and purple hoody nearby.']\n",
      "\n",
      "Predicted Caption:  ['a person is laying on the bed reading a book. the book is in front of a silver pillow. the cat is on a bed.']\n",
      "--------------------------------------------------\n",
      "Image Name       : ['test_80.jpg']\n",
      "\n",
      "Correct Caption  :   ['There is a bush that is shaped into a person. It is in front of a red building. There is houses behind the bush in the distance. ']\n",
      "\n",
      "Predicted Caption:  ['a large black bench sits in front of a wall. there is a large window behind the bench. there is a gray post on the ground in front of the bench.']\n",
      "--------------------------------------------------\n",
      "Image Name       : ['test_81.jpg']\n",
      "\n",
      "Correct Caption  :   ['A young child is attempting to ski. However, no ski poles are being held by the blonde haired child. The child is wearing a yellow vest over a light blue jacket along with pink gloves. The bottom half of the outfit is black pants and grey and red skiis. There is a smooth surface of snow featured.']\n",
      "\n",
      "Predicted Caption:  ['a man is wearing a yellow jacket with a red stripe on the front of it. he is standing on red and black skis. he is standing on the snow. there are people behind the man.']\n",
      "--------------------------------------------------\n",
      "Image Name       : ['test_82.jpg']\n",
      "\n",
      "Correct Caption  :   ['A green pasture is depicted in this image.  The pasture has a lake running through it with clear, calm water.  Grass on both sides of the water is tall and a fence can be seen at the front of the image.  The grass around the fence is really tall.  Cows are on the far side of the lake.']\n",
      "\n",
      "Predicted Caption:  ['a large white cow is standing in a field. there are several trees behind the zebra. there is a black and white bird behind the trees.']\n",
      "--------------------------------------------------\n",
      "Image Name       : ['test_83.jpg']\n",
      "\n",
      "Correct Caption  :   ['A hand is reaching for a black and silver mouse. There is a laptop next to the mouse on the desk. There is a speaker next to the laptop.']\n",
      "\n",
      "Predicted Caption:  ['there is a mouse on top of a desk next to two <UNK>. there is a large computer next to the mouse. there is the word digital on the computer. the <UNK> have gray keys. the mouse buttons are also gray.']\n",
      "--------------------------------------------------\n",
      "Image Name       : ['test_84.jpg']\n",
      "\n",
      "Correct Caption  :   ['A yellow hydrant is near street. The hydrant has blue and red accents on it. There are a bunch of trees on a sidewalk overlooking some parked cars and a motorcycle. ']\n",
      "\n",
      "Predicted Caption:  ['a black and white city sidewalk with a black word on it is in front of a large building. the building has a small window on the front , and a black <UNK> on the front of it. there is a white car parked on the other']\n",
      "--------------------------------------------------\n",
      "Image Name       : ['test_85.jpg']\n",
      "\n",
      "Correct Caption  :   ['Two giraffes are standing together but facing opposite directions. The both have brown patches laid out in different patterns. Some of the spots have smooth edges and some have irregular edges. There are small and large patches, with the smaller patches on their heads and upper part of their necks. Both animals have short furry manes running down the length of their necks. They also have short horns on the top of their heads. They are standing near the wooden fence of their pen surrounded by trees with many green leaves.']\n",
      "\n",
      "Predicted Caption:  ['two giraffes and one zebra are standing in an enclosure.   the enclosure is surrounded by a metal fence and trees.   the ground is covered in grass and leaves.   the two giraffes are standing next to each other.   they are in a']\n",
      "--------------------------------------------------\n",
      "Image Name       : ['test_86.jpg']\n",
      "\n",
      "Correct Caption  :   ['a stand is selling fruit. most of the fruit is oranges. there are bags of oranges next to the pile. the truck is bright yellow.']\n",
      "\n",
      "Predicted Caption:  ['a bright yellow and blue <UNK> train with a small black trim has two small stack of apples inside on the wooden <UNK>. there is a large pile of apples in the middle of the <UNK> of the day and sit are <UNK> around as well as green']\n",
      "--------------------------------------------------\n",
      "Image Name       : ['test_87.jpg']\n",
      "\n",
      "Correct Caption  :   ['There is a train on the train tracks. The train is black with white numbers on the front of it. In the distance you can see trees with green leads and a black metal fence.']\n",
      "\n",
      "Predicted Caption:  ['a black train is on the train tracks. there is a cloud of smoke coming from the top of the train. there are trees next to the tracks.']\n",
      "--------------------------------------------------\n",
      "Image Name       : ['test_88.jpg']\n",
      "\n",
      "Correct Caption  :   ['A kitchen sink and dishwasher is shown. The tiles on the wall are white and have some red ones. There is fruit sitting on the table and the area is pretty tidy.']\n",
      "\n",
      "Predicted Caption:  ['this is a photo of a modern kitchen. there is a stainless steel fridge , with french doors and <UNK> below. the center island has a dark countertop. there is a gas stove top on the island. beyond the island is the sink with steel']\n",
      "--------------------------------------------------\n",
      "Image Name       : ['test_89.jpg']\n",
      "\n",
      "Correct Caption  :   ['A man wearing blue trunks is surfing. He is facing towards the wave. His face is not visible, and his body is turned to the side. He is using a white surfboard and only the front of which is visible.']\n",
      "\n",
      "Predicted Caption:  ['a man is surfing on a wave. the water is dark blue and has a few low <UNK> coming out of it. there are some very small waves in it as well.']\n",
      "--------------------------------------------------\n",
      "Image Name       : ['test_90.jpg']\n",
      "\n",
      "Correct Caption  :   ['A person is standing on top of a white surfboard. There are three small hooks on the bottom of the surfboard. There is a large white splash in the water from the man. ']\n",
      "\n",
      "Predicted Caption:  ['a man is surfing a wave. he is just about to go over the wave to <UNK> a trick. he has on a black shirt with some trunks. his surfboard is white , red , and black.']\n",
      "--------------------------------------------------\n",
      "Image Name       : ['test_91.jpg']\n",
      "\n",
      "Correct Caption  :   [\"There is a boy in the foreground of the picture. He has his back to the camera. He is wearing a blue short-sleeved shirt, blue shorts, blue socks, and white sneakers. He is standing in a green grassy field. The day is sunny and the sky is bright blue. The boy is getting a kite up into the air. The kite is black, white, red, orange, yellow, green, blue, and purple. In the distance there is a fence separating the grassy area from a hill. Behind the hill is an orange spherical hot air balloon. The hot air balloon's basket cannot be seen.\"]\n",
      "\n",
      "Predicted Caption:  ['a large green field is seen on a field filled with people. there are two men and a woman standing in front of the man. there are two men on the left of the field that are standing <UNK> , and one is female and <UNK>.']\n",
      "--------------------------------------------------\n",
      "Image Name       : ['test_92.jpg']\n",
      "\n",
      "Correct Caption  :   ['A dark street with a wire fence surrounding a building. There is a light in the distance. A sign on a pole is halfway on the sidewalk.There is a microwave and other debris on the walk.']\n",
      "\n",
      "Predicted Caption:  ['a black and white city sidewalk with a black word on it sits in front of a large building. the building has many windows on the side and the side of the building above it. there are many cars parked on the street in front of the']\n",
      "--------------------------------------------------\n",
      "Image Name       : ['test_93.jpg']\n",
      "\n",
      "Correct Caption  :   ['A blue car is parked in a parking space. There is a blue and gray building behind the car. There is a white surfboard strapped to the top of the car. ']\n",
      "\n",
      "Predicted Caption:  ['a white car is parked partially on a curb. the car has a black license plate on the front of the car. white letters are on the car. the car has its front wheel turned slightly. there   is a hydrant on the curb next']\n",
      "--------------------------------------------------\n",
      "Image Name       : ['test_94.jpg']\n",
      "\n",
      "Correct Caption  :   [\"the keyboard is very old fashioned. the buttons stick up straight. the color of the typewriter is dark black. the letters are labeled in white. it's sitting on a wooden table.\"]\n",
      "\n",
      "Predicted Caption:  ['there is a black purse. the keys are on the wall to the right of the clock. the numbers on the clock are black. there is a light above the top of the clock. the <UNK> is blue and purple. the cat is cut']\n",
      "--------------------------------------------------\n",
      "Image Name       : ['test_95.jpg']\n",
      "\n",
      "Correct Caption  :   ['There is sand and a little bit of water on the ground. There is a bunch of trees behind a building on the other side of the water. There is a blue building behind the water. ']\n",
      "\n",
      "Predicted Caption:  ['a boat is sitting on a small deck. there is a body of water behind the water. there are small buildings near the water. there is a boat flying in front of the boats.']\n",
      "--------------------------------------------------\n",
      "Image Name       : ['test_96.jpg']\n",
      "\n",
      "Correct Caption  :   ['a train is sitting on some tracks. the train is yellow in color. the train has some black numbers on it. the train has black wheels.']\n",
      "\n",
      "Predicted Caption:  ['the train on the track is yellow and black. it is under a bridge. there is grass all around the train. the train cars are rusty. the train cars behind the train cars are white.']\n",
      "--------------------------------------------------\n",
      "Image Name       : ['test_97.jpg']\n",
      "\n",
      "Correct Caption  :   ['A man is sitting on his surfboard. He is on the beach surrounded by other surfboards and some glass bottles of beer. The ocean is in the background and the horizon is very bright but cloudy.']\n",
      "\n",
      "Predicted Caption:  ['a man in a white shirt and black shorts is standing on a surfboard. there is a large wave in the sand. there is a white bird flying in front of the man.']\n",
      "--------------------------------------------------\n",
      "Image Name       : ['test_98.jpg']\n",
      "\n",
      "Correct Caption  :   [\"A couple of people are sitting in a vehicle. The car looks very retro and vintage. There is a woman and man in the front. On the woman's lap is a small brown dog.\"]\n",
      "\n",
      "Predicted Caption:  ['a white dog is sitting outside of a car. it is silver and black in color. a silver chain link fence is near the back of the truck. a small gray pole is standing near the back of the chair. an old green tree is']\n",
      "--------------------------------------------------\n",
      "Image Name       : ['test_99.jpg']\n",
      "\n",
      "Correct Caption  :   ['A square slice of pizza is on a round green plate. There are mushrooms, black olives, and tomatoes on the pizza. There is purple and white cabbage on the plate next to the slice of pizza.']\n",
      "\n",
      "Predicted Caption:  ['food is on a plate. the plate is rectangular and is sitting on a table. there is a large fork on the plate. there is a pizza on top of the plate. there are pieces of meat and cheese on top of the food.']\n",
      "--------------------------------------------------\n",
      "Image Name       : ['test_100.jpg']\n",
      "\n",
      "Correct Caption  :   [\"This photo is taken inside of a living room of a home. A brown and black dog is sitting on a red leather couch. A red and white tie is hanging around the dog's neck. There is a colorful area rug on the floor. Different objects can be seen on top of a brown cabinet behind the dog.\"]\n",
      "\n",
      "Predicted Caption:  ['a person is laying down on a bed. there is a cat laying on the ground next to the dog. there is a pillow on the bed in front of the dog.']\n",
      "--------------------------------------------------\n",
      "Image Name       : ['test_101.jpg']\n",
      "\n",
      "Correct Caption  :   ['A plane sitting near a body of water. The plane is vintage and it is white, red, and black. There are a lot of clouds in the sky and there is a little box near the plane.']\n",
      "\n",
      "Predicted Caption:  ['a large white airplane sits on a platform. there is a large body of water behind the fire hydrant. there are large blue and yellow clouds in the sky above the water. there are a few clouds in the sky above the trees.']\n",
      "--------------------------------------------------\n",
      "Image Name       : ['test_102.jpg']\n",
      "\n",
      "Correct Caption  :   ['A woman in a black jacket and jeans is sitting on a cement bench. There is a white dog with a red harness on that is next to the woman. The woman has dark hair. ']\n",
      "\n",
      "Predicted Caption:  ['a woman is sitting on a bench. the woman is wearing a green jacket. the woman is wearing a red top on her head. she is holding a gray umbrella. there is a man in a red shirt sitting in front of her. there']\n",
      "--------------------------------------------------\n",
      "Image Name       : ['test_103.jpg']\n",
      "\n",
      "Correct Caption  :   ['a tennis racket is being held up. the logo is red in color. the rim of the racket is black in color. thee is a man in the background.']\n",
      "\n",
      "Predicted Caption:  ['a woman is throwing a tennis ball up in the air to serve it. she has the racket behind her and her arm up in the air. she is wearing a blue tank top and black shorts. the tennis court where she is playing is blue']\n",
      "--------------------------------------------------\n",
      "Image Name       : ['test_104.jpg']\n",
      "\n",
      "Correct Caption  :   [\"There is a rectangular parachute in the top right of the image. The parachute is printed with what looks like a television channel 'stand-by' pattern. The sky behind the parachute is a deep blue color. There are some wispy clouds close to the ground. A person is looking into the distance from the ground with their hand shielding their eyes from the sun. This person is wearing a dark t-shirt and what looks to be denim shorts. It is difficult to ascertain the gender of this person, but they are probably male. The ground is sandy and covered in grey rocks and pebbles. Green grass and woodlands lie behind the sandy ground, and some low buildings or houses can be seen in the distance (lower right corner of the frame).\"]\n",
      "\n",
      "Predicted Caption:  [\"the blue sky is clear. in the air , a big colorful kite is flying. the kite 's colors are <UNK> , blue , green , yellow , orange , blue and red. below the kite is a blue sea. the sea is calm.\"]\n",
      "--------------------------------------------------\n",
      "Image Name       : ['test_105.jpg']\n",
      "\n",
      "Correct Caption  :   ['a train is waiting on  track. the train is very bright and is yellow in color. there is a smaller train next to it. a man is riding on the smaller train. the small train is red and black. it has its own set of tracks.']\n",
      "\n",
      "Predicted Caption:  ['the train is on the tracks. the small train is painted bright orange. the sky is partly cloudy with fluffy white clouds. the tree to the left of the train is bare.']\n",
      "--------------------------------------------------\n",
      "Image Name       : ['test_106.jpg']\n",
      "\n",
      "Correct Caption  :   ['Bowls sitting on a white and brown cloth. There is broccoli and rice in the front bowl and the back bowl has tomatoes and broccoli in it. There is a fruit cup next to the bowl. ']\n",
      "\n",
      "Predicted Caption:  ['there are four plastic bowls of different foods on the wooden <UNK>. cut - up carrots are in the top right bowl and cut - up <UNK> just below it. the bottom right bowl contains <UNK> - shaped cookies. the top right bowl is filled with']\n",
      "--------------------------------------------------\n",
      "Image Name       : ['test_107.jpg']\n",
      "\n",
      "Correct Caption  :   ['A woman is bent over on the tennis court. She is dressed in white. She has a tennis racket in her hands. The tennis court is green with white lines on it. ']\n",
      "\n",
      "Predicted Caption:  ['a woman in a black shirt and white shorts is swinging a tennis racket. there is a yellow tennis ball in front of her. there is a yellow stripe down the ball in front of the fence.']\n",
      "--------------------------------------------------\n",
      "Image Name       : ['test_108.jpg']\n",
      "\n",
      "Correct Caption  :   ['On a small rectangular, white plate, chopped carrots and peppers are covered in a brown sauce. A shine is on all of the vegetables.The plate is on a black surface and a part of a silver spoon is behind it. ']\n",
      "\n",
      "Predicted Caption:  ['a large black food tray is sitting on a white table. there is a silver fork on the table in front of the plate. there is a white bowl on the table next to the bowl. there is a glass on the table in front of']\n",
      "--------------------------------------------------\n",
      "Image Name       : ['test_109.jpg']\n",
      "\n",
      "Correct Caption  :   ['A bridge over the water. The water has small waves in it. There is a train on the bridge going over the water. The train is white and green. There is buildings and trees next to the water. ']\n",
      "\n",
      "Predicted Caption:  ['this is an image of a harbor. the water is dark green in color. there is a large body of water in the water. the water is calm and smooth. the mountains are dark in color. there are life <UNK> on the dock.']\n",
      "--------------------------------------------------\n",
      "Image Name       : ['test_110.jpg']\n",
      "\n",
      "Correct Caption  :   ['A person is sitting on a bench. There is a black bag sitting on the bench. The person is wearing a straw hat. There is a large tree in front of the person.']\n",
      "\n",
      "Predicted Caption:  ['a woman is sitting on a park bench holding a white umbrella. the park bench is wooden and painted red , with blue trim. she has long dark hair and is wearing eyeglasses. she has a black t - shirt with white lettering and blue jeans']\n",
      "--------------------------------------------------\n",
      "Image Name       : ['test_111.jpg']\n",
      "\n",
      "Correct Caption  :   ['A man with his face painted red and white has a red and white small umbrella attached to his head. He has a phone in his hand, which he is holding by his ear. He also has a red and white scarf around his neck and a red and white cape. His shirt and pants are black. Behind the man are people gathered on the street, standing around. ']\n",
      "\n",
      "Predicted Caption:  ['a group of people are gathered together in a <UNK> area.   a little boy in a blue jacket and dark pants is standing next to them.   a young boy is <UNK> on the edge of the bowl holding a <UNK> bank.   a young']\n",
      "--------------------------------------------------\n",
      "Image Name       : ['test_112.jpg']\n",
      "\n",
      "Correct Caption  :   ['A grey train with many cars and a yellow front is riding down the tracks. The tracks are in an isolated location with a field on the right and bushes and trees on the left. The trees are bare of leaves. The sky above is blue with puffy white clouds scattered throughout it. The train is about to pass an exchange box.']\n",
      "\n",
      "Predicted Caption:  ['a train is on the tracks. the train is green in color and has some white writing on it. the sky is very cloudy.']\n",
      "--------------------------------------------------\n",
      "Image Name       : ['test_113.jpg']\n",
      "\n",
      "Correct Caption  :   ['A white station wagon is parked near a field at night.  There is a palm tree in the field in front of the tree. Across from the tree are three houses with windows in the front illuminated. In the field there is a patch of concrete with a bench sitting on it which is lit up by a park light.']\n",
      "\n",
      "Predicted Caption:  ['a wooden bench is sitting outside in the shade. the slab is covered in green grass and white carpet. the bench is made of wood and has two <UNK>. on the right side of the bench there is a row of trees with no leaves.']\n",
      "--------------------------------------------------\n",
      "Image Name       : ['test_114.jpg']\n",
      "\n",
      "Correct Caption  :   ['a baseball player is on a field which is brown in color and is about to take a swing for a white ball which is coming straight for him. the uniform is white and blue in color and the field also contains a grassy area which is green in color.']\n",
      "\n",
      "Predicted Caption:  ['a man is standing on a baseball field. he is wearing a blue and white uniform , a black helmet and gloves. he is holding a brown and black bat in his hand. the field has green grass. muddy dirt is seen near the grass']\n",
      "--------------------------------------------------\n",
      "Image Name       : ['test_115.jpg']\n",
      "\n",
      "Correct Caption  :   ['there is a person doing a jump on a snowboard. the rider is wearing a blue jump suit. the snowboard is white in color.']\n",
      "\n",
      "Predicted Caption:  ['a black bird is flying in the air. there are footprints in the sky above the plane. there is a person standing on the front of the plane.']\n",
      "--------------------------------------------------\n",
      "Image Name       : ['test_116.jpg']\n",
      "\n",
      "Correct Caption  :   ['A woman is wearing a dark colored shirt and skirt and is holding a tennis racket. There is another lady behind her swinging a tennis racket. They are standing on a blue tennis court.']\n",
      "\n",
      "Predicted Caption:  ['two identical photos are placed side by side.   they show a young woman getting ready to serve a tennis <UNK>.   her head is looking up at the ball.   her right hand is holding a racquet.   her left hand is extended upward']\n",
      "--------------------------------------------------\n",
      "Image Name       : ['test_117.jpg']\n",
      "\n",
      "Correct Caption  :   ['A bunch of people are on a tennis court goofing off. There are two men and two ladies. The men both have on shorts and the ladies both have on pants.']\n",
      "\n",
      "Predicted Caption:  ['four people are on a tennis court playing tennis. two of the players are wearing white shirts and black shorts , the other two are wearing white shirts and orange shorts. the court is green and the walls of the court are red.']\n",
      "--------------------------------------------------\n",
      "Image Name       : ['test_118.jpg']\n",
      "\n",
      "Correct Caption  :   [\"There is someone standing at a desk in a small bedroom. There's a bed against the wall that is messy, not made. Above the desk is a window and a shelf with lots of things on it.There's a couple shelves above the bed with things on it too.\"]\n",
      "\n",
      "Predicted Caption:  ['a woman is squatting down on the left. the laptop is turned on. there is a red rug around the bed.']\n",
      "--------------------------------------------------\n",
      "Image Name       : ['test_119.jpg']\n",
      "\n",
      "Correct Caption  :   ['A herd of elephants is walking along the banks of a river. A baby elephant is trailing the herd, while an adult emerges from the river.  There are buildings withe terraces nearby.  Several people are gathered on the terrace looking at the elephants.  Most are standing, while one man chooses to sit.  It is a partly sunny day.']\n",
      "\n",
      "Predicted Caption:  ['a large elephant is walking on the dirt in front of a large body of water. the elephant is grey and has a long tail. the front elephant is tan and the front has a black roof. the ground is brown and has sparse patches and']\n",
      "--------------------------------------------------\n",
      "Image Name       : ['test_120.jpg']\n",
      "\n",
      "Correct Caption  :   ['A boy is in silhouette against a blue sky. He is doing a trick on a skateboard and is in the air with his knees bent. His long hair is wild and in the air. The boy is suspended in the air over the skateboard but is not touching it. There is a fence beside the boy and palm trees on either side of the fencing.  A couple of white clouds show low in the sky and the foreground is dark in shadow.']\n",
      "\n",
      "Predicted Caption:  [\"this is a picture of a man. the man is skateboarding. the man is jumping in mid air. the skateboard is dark gray with gray wheels. the man has one hand on the board. the man 's other hand is in the air.\"]\n",
      "--------------------------------------------------\n",
      "Image Name       : ['test_121.jpg']\n",
      "\n",
      "Correct Caption  :   ['A woman is walking on the sidewalk and on the phone. She is holding a black phone to her ears and has sunglasses on her head. There are a bunch of people in the background behind her.']\n",
      "\n",
      "Predicted Caption:  ['a bunch of people are walking on a road. the people are all holding umbrellas. the ground is wet and rainy. there are two women wearing skis , an orange and white dress and white dress. the two people standing near the men are looking']\n",
      "--------------------------------------------------\n",
      "Image Name       : ['test_122.jpg']\n",
      "\n",
      "Correct Caption  :   ['A large white bottom boat has an orange cover with small white framed windows. It is sitting in a very blue sea. There are black numbers on top of an orange cover. One person wearing a blue shirt is hanging out a window.']\n",
      "\n",
      "Predicted Caption:  ['there is a large boat docked. it is black and has small white clouds in the sky. there is a white and black boat in the water. there is a blue and white boat in the water. there is a blue and white boat in']\n",
      "--------------------------------------------------\n",
      "Image Name       : ['test_123.jpg']\n",
      "\n",
      "Correct Caption  :   ['There is a bald white man with a goatee and beard. He is handing a styrofoam plate with something white on it to an unseen person with his left hand. In his right hand he is holding a large butcher knife. The blade is red and sticky looking.It has unidentified white chunks hanging from it. O the coffee table in front of the man are several more plates holding triangular shaped food - maybe pizza or cake. There is also a water bottle. There are more people sitting across from the man, but only there legs are visible.']\n",
      "\n",
      "Predicted Caption:  ['a man is sitting at a table. he is wearing a short sleeve shirt and a pair of shorts. the color of his hair is red and white. his shirt is red and white. part of his hair is sitting in one of the men']\n",
      "--------------------------------------------------\n",
      "Image Name       : ['test_124.jpg']\n",
      "\n",
      "Correct Caption  :   ['A metal street meter with the road behind it. There is a white car parked on the road and many cars behind a fence in the background. ']\n",
      "\n",
      "Predicted Caption:  ['a parking meter is shown. it is located at the sidewalk. it has a yellow sticker attached to it. at the sidewalk , a yellow and red lines were painted. dry leaves are scattered at the sidewalk. few feet from the parking meter is']\n",
      "--------------------------------------------------\n",
      "Image Name       : ['test_125.jpg']\n",
      "\n",
      "Correct Caption  :   ['There are lines of purple trees. There is a puddle of water in front of the trees. There are people on the grass in front of the trees. ']\n",
      "\n",
      "Predicted Caption:  ['a beautiful scene of nature and some water. there are a couple of ducks and <UNK> enjoying the beautiful day and <UNK>. there is a huge tree that has no leaves near them. there are also many prints in the water around the front of the']\n",
      "--------------------------------------------------\n",
      "Image Name       : ['test_126.jpg']\n",
      "\n",
      "Correct Caption  :   ['ARIAL VIEW FROM A PLANE OF A CITY BELOW. THE CITY IS  LINED WITH WATER AROUND IT. THERE ARE MANY WINDING ROADS AND MANMADE LAKES.']\n",
      "\n",
      "Predicted Caption:  ['this is an image of a plane. the plane is flying high in the sky. the sky is dark blue with fluffy white clouds. there is a smaller plane even higher up above the other plane. the plane is white and silver. the plane']\n",
      "--------------------------------------------------\n",
      "Image Name       : ['test_127.jpg']\n",
      "\n",
      "Correct Caption  :   ['There is a plate sitting on top of a green cloth. There is a carton of milk sitting next to the plate on the table. There is a hot dog on the plate. ']\n",
      "\n",
      "Predicted Caption:  ['a brown and white plate is sitting on a table. the table is made of wood. there are two clear plastic forks by the plate. the food is sitting on top of a white table.']\n",
      "--------------------------------------------------\n",
      "Image Name       : ['test_128.jpg']\n",
      "\n",
      "Correct Caption  :   ['A crowd of people stand on a wet and sandy beach. There are men, women and children in the crowd. There are many buildings off in the distance. The sky above the beach is gray and blue.']\n",
      "\n",
      "Predicted Caption:  ['a woman in a black jacket , and tan pants is seen riding a horse and walking on the beach. the girl is wearing a white shirt and has brown hair and has a brown <UNK> bag in her hands. she is barefoot at the beach she']\n",
      "--------------------------------------------------\n",
      "Image Name       : ['test_129.jpg']\n",
      "\n",
      "Correct Caption  :   ['A lone giraffe stands in a grassy overgrown field on a clear day.  The filed is dry and brown, with patches of green bushes throughout. Behind the giraffe there is a short thick bushy tree. And in front of the giraffe there are some branches of bushes.']\n",
      "\n",
      "Predicted Caption:  ['the image is of two giraffes in an enclosure.   the two giraffes are standing facing each other next to a rock wall.   in between the two giraffes is a tree. the tree is surrounded by a metal fence.   the giraffes appear to']\n",
      "--------------------------------------------------\n",
      "Image Name       : ['test_130.jpg']\n",
      "\n",
      "Correct Caption  :   ['a restaurant is sitting outside. there are umbrellas above the door. there is chinese writing on the signs. the doors are red in color.']\n",
      "\n",
      "Predicted Caption:  ['a large group of people standing in the <UNK> of an <UNK>. there is a small white building with a lot of windows in the front. there are <UNK> people in the background.']\n",
      "--------------------------------------------------\n",
      "Image Name       : ['test_131.jpg']\n",
      "\n",
      "Correct Caption  :   ['It is a bright, sunny winter day. We are standing at the bottom of a snow-covered mountain and looking up toward the top. There is a ski lift at the top left of the picture, and many skiers can be seen at different spots on the mountain. In the foreground, one large skiier jumps up and the picture is snapped as he is sailing through the air on his skiis. We are looking into the sun and as the picture is snapped, the sun makes a bright starburst in the middle of the picture. ']\n",
      "\n",
      "Predicted Caption:  ['a skier is standing on top of a mountain.   the skier is looking down at a bunch of skiers below him on a different level.   rocky tops of the mountain with sparse snow fall can be seen.   snow is covering the entire area']\n",
      "--------------------------------------------------\n",
      "Image Name       : ['test_132.jpg']\n",
      "\n",
      "Correct Caption  :   ['The people are waiting at a train platform. The train is yellow and blue and has a white number 2 on it. There are dotted warning lines on the platform. There is a large metal pole next to the people. The man has a gray hat on and a tan heavy jacket. The other man has on a puffy black jacket. The man has a grey and black bicycle.']\n",
      "\n",
      "Predicted Caption:  ['a woman is walking down the city sidewalk , wearing a very <UNK> and she has just <UNK> her hair. she is wearing white sneakers and has a bag on her shoulder and she is smiling. she has on a green coat and a white long sleeve']\n",
      "--------------------------------------------------\n",
      "Image Name       : ['test_133.jpg']\n",
      "\n",
      "Correct Caption  :   ['A small infant has their hand on a mouse. The mouse is for a laptop. Just half of the keyboard of the laptop is being shown and it all is on top of a wooden table.']\n",
      "\n",
      "Predicted Caption:  ['there is a mouse on top of a desk next to two <UNK>. there is a large computer next to the mouse. there is the word digital on the computer. the <UNK> have gray keys. the mouse buttons are also gray.']\n",
      "--------------------------------------------------\n",
      "Image Name       : ['test_134.jpg']\n",
      "\n",
      "Correct Caption  :   ['An orange cat is curled up on a blue blanket. There is a red and white hat on top of the cat. There is a blue pillow in front of the cat. The cat has one eye open. ']\n",
      "\n",
      "Predicted Caption:  ['a furry cat has blue and green eyes. the nose of the cat is black. the cat is mostly white with some black ears.']\n",
      "--------------------------------------------------\n",
      "Image Name       : ['test_135.jpg']\n",
      "\n",
      "Correct Caption  :   ['A bird is walking in the grass. The bird has no hair on its neck. The body of the bird is white with black and brown spots. The bird has a dark colored eye and white hair on its head. ']\n",
      "\n",
      "Predicted Caption:  ['there are two birds sitting on the green grass. one of the animals is a grayish colored color and is black with a white face and orange eyes. the other has a small black nose. the other bird has a black strap with a dark beak']\n",
      "--------------------------------------------------\n",
      "Image Name       : ['test_136.jpg']\n",
      "\n",
      "Correct Caption  :   ['A blue car is sitting in a driveway. There is a pink surfboard on the roof. The driveway is surrounded by plants. There is a black shadow under the car. The car is very long.']\n",
      "\n",
      "Predicted Caption:  ['a black and white painted fire hydrant is sitting in a parking lot. there is a large white building behind the fire hydrant. there is a white car parked in front of the building.']\n",
      "--------------------------------------------------\n",
      "Image Name       : ['test_137.jpg']\n",
      "\n",
      "Correct Caption  :   ['A bride and a groom are cutting a cake. There is a tall white cake on a table. There are purple flowers behind the couple. ']\n",
      "\n",
      "Predicted Caption:  ['a woman is standing in front of a staircase and is holding a large round white plate. the plate has pizza on it. the cake has a total of cake on it. the woman has dark brown hair and is wearing a black and white dress']\n",
      "--------------------------------------------------\n",
      "Image Name       : ['test_138.jpg']\n",
      "\n",
      "Correct Caption  :   ['a pile of vegetables are on the plate. the plate is blue in color. there are some shredded orange carrots. there is also some yellow pasta.']\n",
      "\n",
      "Predicted Caption:  ['a white plate sits on a table. there is broccoli in the plate. there is a small bowl on the table.']\n",
      "--------------------------------------------------\n",
      "Image Name       : ['test_139.jpg']\n",
      "\n",
      "Correct Caption  :   ['A tennis player stands on the court. The man has just hit the tennis ball. THe man holds a tennis racket. The man wears a colorful shirt. There are a few people watch the game. The sky is blue and sunny. There is a ferris wheel behind the stands. There is a tree by the ferris wheel. The court is blue. There are tall buildings in the background. ']\n",
      "\n",
      "Predicted Caption:  [\"a man is swinging his racquet and has just hit the tennis ball to go back over the net. the man <UNK> a very strong two handed back swing and the ball is seen about to make it 's way back towards over the net. the man\"]\n",
      "--------------------------------------------------\n",
      "Image Name       : ['test_140.jpg']\n",
      "\n",
      "Correct Caption  :   ['An island kitchen featuring wood cabinetry with black drawer handles is neatly organized.   Three stainless steel pots rest side by side on a gas range on the island area with silver handled cooking utensils in them.  A pink dish containing some green leafy vegetable and other items also rest on the counter of the island.   In the corner is a pot holder with several pots and pans hung from it.  To the right of the pot holders is a large gas oven with range hood.  Along  the far wall are wooden cabinets and bottles resting on the counter beneath them.  ']\n",
      "\n",
      "Predicted Caption:  ['a kitchen with wood cabinets and metal appliances is shown. the silver refrigerator has no items on the top and bottom above it. there is a white stove with double silver faucet and small black knobs. there is a small silver microwave on the wall above']\n",
      "--------------------------------------------------\n",
      "Image Name       : ['test_141.jpg']\n",
      "\n",
      "Correct Caption  :   ['A little girls in a white dress and white stockings holding a yellow and white tennis racket stands on a green air grate in front of a white tarp. The wind from the grate blows her hair all around her face. She is smiling at the camera as she stands on the grate.']\n",
      "\n",
      "Predicted Caption:  ['a woman is standing outside on a tennis court. she is wearing a short sleeve white shirt and a white skirt. the woman is holding a tennis racket and a green ball in her hands. a shadow of the woman can be seen on the ground']\n",
      "--------------------------------------------------\n",
      "Image Name       : ['test_142.jpg']\n",
      "\n",
      "Correct Caption  :   ['Five people at the beach are carrying surfboards. The people are wearing black wetsuits. Four of the surfboards are white, while the other one is yellow. ']\n",
      "\n",
      "Predicted Caption:  ['three guys sitting on the beach with their surfboards behind them. there is no water in the picture. further behind them is some sand <UNK> just pass a road. the three guys are middle aged , and all smiling. the guy on the far right']\n",
      "--------------------------------------------------\n",
      "Image Name       : ['test_143.jpg']\n",
      "\n",
      "Correct Caption  :   [\"A living room is empty excepts for a white refrigerator on wooden slats so it doesn't scratch the hardwood floors. the kitchen is closed off excepts for a counter which shows the dark room behind the walls. Windows on the wall opposite the kitchen fill the room with light.\"]\n",
      "\n",
      "Predicted Caption:  ['a room is empty of any furniture. there is a fireplace off white walls. there is a white microwave above the fan. the fan is white and has a black frame.']\n",
      "--------------------------------------------------\n",
      "Image Name       : ['test_144.jpg']\n",
      "\n",
      "Correct Caption  :   ['A pile of donuts are seen. There are six donuts total. All are chocolate of some sort. Three are chocolate cake and one of them has vanilla frosting, while the others have chocolate, and sprinkles. The other three are covered with milk chocolate. The one in the middle has white filling inside. ']\n",
      "\n",
      "Predicted Caption:  ['this is an image of some pastries. the pastries are donuts. the donut has chocolate frosting on it. the frosting is brown. the frosting has multicolored sprinkles on it. the donut is light brown. the plate the pastries are on is white and']\n",
      "--------------------------------------------------\n",
      "Image Name       : ['test_145.jpg']\n",
      "\n",
      "Correct Caption  :   ['A flower container sits off to the right side. Two bags that are ink and denim blue are above the plates of food. The bowl in the middle contains a salad. The bottom bowl contains various cuts of vegetables, such as cucumbers and tomatoes and cheeses. To the left of the bowls are two oranges and one red apple. All items are sitting on a black table.']\n",
      "\n",
      "Predicted Caption:  ['there is a ceramic bowl on the table. the table cloth is made of wood. there are two slices of white on the table. there is a banana sticking out of the banana. there is a banana sticking out of the banana.']\n",
      "--------------------------------------------------\n",
      "Image Name       : ['test_146.jpg']\n",
      "\n",
      "Correct Caption  :   [' a man in a baseball uniform standing on the field putting gloves him with a bat under his arms with the blue baseball helmets is uniform has black and red  writing on but the number 38  he has black and white baseball cleats and brown hair... the field is light and dark green trimmed very well... there is a white base on the ground in the drawer with 2 white squares outlined on the both sides of the home plate.']\n",
      "\n",
      "Predicted Caption:  ['a baseball player is holding a bat in his hand.   he is wearing a red helmet on top of his head.   he is swinging a black helmet with blue writing and a white stripe on his head.   the grass is green and behind']\n",
      "--------------------------------------------------\n",
      "Image Name       : ['test_147.jpg']\n",
      "\n",
      "Correct Caption  :   ['A snowboarder is shown in midair after making a jump in front of a white brick wall.  Snow has been pushed up to the wall by what looks like it was a bulldozer.  The snowboarder casts a shadow on the wall.  He is dressed mostly in black and gray, with some bright orange accents, the only color in the picture.  The entire image is white and gray.']\n",
      "\n",
      "Predicted Caption:  ['a person is jumping in the air upside down. they are holding a black skateboard in their hand. there is a small ramp in the back of the skateboarder. there is a person standing next to them.']\n",
      "--------------------------------------------------\n",
      "Image Name       : ['test_148.jpg']\n",
      "\n",
      "Correct Caption  :   ['A red and white stop sign is mounted on a yellow pole on sidewalk.  Under the stop sign is a triangular \"caution\" traffic sign.  A bicycle is parked behind the yellow pole of the stop sign.  A white wall building with a red roof is directly behind the stop sign as well.  Three human silhouettes and the silhouette of a shopping cart are on the triangular caution sign.']\n",
      "\n",
      "Predicted Caption:  ['a stop sign is red with white letters. under the stop sign is a sign saying \" two way traffic \" , this sign is white with black letters. the two signs are on the same pole. behind the sign are trees and a house.']\n",
      "--------------------------------------------------\n",
      "Image Name       : ['test_149.jpg']\n",
      "\n",
      "Correct Caption  :   ['There are three elephants in front of a wooden fence. One elephant is large, the other is a baby and the third is slightly smaller than the large one. Al elephants are a light brownish-gray color. Behind the enclosure are trees with green leaves.']\n",
      "\n",
      "Predicted Caption:  ['there are two elephants standing in a zoo enclosure.   one of the elephants is standing alone in the middle of the <UNK> green grass.   the elephants have long ears and long trunk.   the elephants are standing on a dirt ground surface.']\n",
      "--------------------------------------------------\n",
      "Image Name       : ['test_150.jpg']\n",
      "\n",
      "Correct Caption  :   ['A black cat lays on the keyboard of a laptop. the cat is yawnin as it lays down. The cat has a long tail. The laptop is turned on. The laptop is on the desk. There is a bookshelf on the wall, which is filled with many things. There are books on the floor. There are other items next to the wall. ']\n",
      "\n",
      "Predicted Caption:  ['a cat is laying on top of a white shelf. the cat is a cat that has a white collar. there is a blue <UNK> on the bed in front of the cat. there are black curtains on the wall behind the cat.']\n",
      "--------------------------------------------------\n",
      "Image Name       : ['test_151.jpg']\n",
      "\n",
      "Correct Caption  :   ['two girls are sitting on a bench. the bench is wood and brown. they are looking at a baby. the baby is blonde and little.']\n",
      "\n",
      "Predicted Caption:  ['there is a woman holding a video game controller in her hand. there is a wii <UNK> wii game in <UNK> with her hair in her face and a white sweater. there are many walls in the ceiling.']\n",
      "--------------------------------------------------\n",
      "Image Name       : ['test_152.jpg']\n",
      "\n",
      "Correct Caption  :   ['A man in a black button down shirt, and a gray tie is seen standing in front of a tan building in a city. The building has a picture of a man on the front and Korean letters on either side of the image. A large concrete platform is in front of the building and two men are walking on the platform. A blue and white public transport bus is on the side of the building.']\n",
      "\n",
      "Predicted Caption:  ['a man and woman are walking on a sidewalk holding an umbrella over their head. the woman is wearing a long sleeve shirt , pants , a purse and large white bag. the man is wearing a jacket , pants and a large black bag. other']\n",
      "--------------------------------------------------\n",
      "Image Name       : ['test_153.jpg']\n",
      "\n",
      "Correct Caption  :   ['A white and blue fire hydrant is sitting on the corner of a rural street. The house in the background is brick and has blue doors and window decorations. It appears to be fall according to the colors of the leaves on the trees.']\n",
      "\n",
      "Predicted Caption:  ['a grey sidewalk with many cars parked on it. there are two people on the sidewalk behind them. there is a large building behind the cars.']\n",
      "--------------------------------------------------\n",
      "Image Name       : ['test_154.jpg']\n",
      "\n",
      "Correct Caption  :   ['A large brown building has a clock tower. The clock tower contains two clocks. The clocks have a white face with black hands and numbers. The numbers are roman numerals. The clock tower also has a flag. The flag is blue on a white pole. The building is huge with many windows. The sky is overcast with clouds.']\n",
      "\n",
      "Predicted Caption:  ['a large brick building stands tall. there is a man standing in front of the building. there is a flag flying above the building.']\n",
      "--------------------------------------------------\n",
      "Image Name       : ['test_155.jpg']\n",
      "\n",
      "Correct Caption  :   ['the table is full of snack foods. there is a big black tray on the side. the tray is full of small plastic cups. the cups are full of shredded cheese and hot sauce. there is another tray of hot sauce next to it.']\n",
      "\n",
      "Predicted Caption:  ['there are two white plates on top of a wooden table. there are pizzas with food on top of the table. there is a white table cloth on top of the table.']\n",
      "--------------------------------------------------\n",
      "Image Name       : ['test_156.jpg']\n",
      "\n",
      "Correct Caption  :   ['The man is bending over the table. On the table is a birthday cake. The candles are lit. The man is trying to blow the candles out. The man seems to be holding his infant in his other arm while doing this. This is taking place inside a house, in the kitchen area.']\n",
      "\n",
      "Predicted Caption:  ['a man in a brown shirt is wearing glasses. he is sitting in front of a white counter. there is a black table cloth on top of the table.']\n",
      "--------------------------------------------------\n",
      "Image Name       : ['test_157.jpg']\n",
      "\n",
      "Correct Caption  :   ['There is a zebra standing on a gravel type road. The zebra appears to be standing near a tree. There are a lot of trees ad bushes to the right of the zebra. It is very sunny outside which is evident by the shadows cast by the trees.']\n",
      "\n",
      "Predicted Caption:  ['there is a zebra in an enclosure. this might be some type of zoo. the fence behind the zebra is made of wood and looks like logs. the zebra is <UNK> his head in the air. he is black and white striped with dark <UNK>']\n",
      "--------------------------------------------------\n",
      "Image Name       : ['test_158.jpg']\n",
      "\n",
      "Correct Caption  :   ['There is a man in a white uniform wearing a black cap pitching a baseball. There is a man standing behind him wearing a black shirt and gray pants. There is a player in a white uniform that is swinging a baseball bat about to hit the baseball. Behind that man is another man in a black shirt and gray pants who is crouched down wearing a helmet and face guard. ']\n",
      "\n",
      "Predicted Caption:  ['this is an image of a baseball game. the boy has just swung the baseball bat. the bat is black and gray. there is a catcher behind the boy with the bat. the catcher has red safety gear on. the boy swinging has a']\n",
      "--------------------------------------------------\n",
      "Image Name       : ['test_159.jpg']\n",
      "\n",
      "Correct Caption  :   ['Modern fire engines park along a tree lined street.  The truck at the front of the procession is a ladder truck, with the long, white ladder and bucket on top of the rig.  The sky is deep blue, and it seems like a grassy park like area.  Two people can be seen in the distance, side by side.']\n",
      "\n",
      "Predicted Caption:  ['this is an image of a <UNK> street. there is a large bus parked on the street. the bus is white and has black writing. there is a large black car on the street. the fire hydrant is made up of a silver chain.']\n",
      "--------------------------------------------------\n",
      "Image Name       : ['test_160.jpg']\n",
      "\n",
      "Correct Caption  :   ['An open laptop sits on a rustic wooden table. A lamp sits on the left of the laptop shining light on the table. A bunch of small glasses are on the table near a brown wall. In the distance a shelf with liquor is on a white wall. A table in front of the shelf is covered with empty, upturned glasses.']\n",
      "\n",
      "Predicted Caption:  ['a desk is displayed. the computer is turned on. there is a <UNK> in the background. there is a keyboard on the desk.']\n",
      "--------------------------------------------------\n",
      "Image Name       : ['test_161.jpg']\n",
      "\n",
      "Correct Caption  :   ['A picture of a tooth brush holder. The holder is red and in the shape of a bird. There are three toothbrushes inside of the holder. There are different colored bristles on each toothbrush. There is a keyboard beside the holder and a calendar is under the holder.']\n",
      "\n",
      "Predicted Caption:  ['a gray light is sitting on a small gray box. the pitcher is on a dark colored blanket behind it.']\n",
      "--------------------------------------------------\n",
      "Image Name       : ['test_162.jpg']\n",
      "\n",
      "Correct Caption  :   ['There are two giraffes behind a fence. The fence is silver. There is man in a blue floral print shirt standing in front of the fence. The man is wearing a black cap. ']\n",
      "\n",
      "Predicted Caption:  ['a man with glasses and a white baseball cap. he is wearing an orange shirt and is standing in a zoo. in the enclosure there are two tall giraffes with brown spots. beyond the giraffes are lush green trees and a cloudy sky.']\n",
      "--------------------------------------------------\n",
      "Image Name       : ['test_163.jpg']\n",
      "\n",
      "Correct Caption  :   ['The clock is lit up because it is night time. The sky is very dark. On top of the clock is a baseball team sign. The face of the clock is white. The letters and clock hands are black. Around the circle of the face is yellow.']\n",
      "\n",
      "Predicted Caption:  ['the image is of a large golden clock on the side of a fancy building. the clock is round and black <UNK> gold <UNK> , roman numerals , and hands. the building appears to be a metallic golden brown and <UNK> of a brick - type <UNK>']\n",
      "--------------------------------------------------\n",
      "Image Name       : ['test_164.jpg']\n",
      "\n",
      "Correct Caption  :   ['A man in a taupe tank top and black shorts is doing a trick with a skateboard. He is in the air, and holding the skateboard with one hand. In front of him is a black and white wall with a cartoon face painted on it. The sky above is mostly clear with one long wispy cloud.']\n",
      "\n",
      "Predicted Caption:  ['a person is standing on top of a skateboard. they are on top of a black railing. the person is wearing black pants and blue shoes. the man has a blue shirt on.']\n",
      "--------------------------------------------------\n",
      "Image Name       : ['test_165.jpg']\n",
      "\n",
      "Correct Caption  :   ['A teenage girl sits on a low brick wall and texts.  She is dressed in a cool summer top and bluejeans.  She has slipped off her shoes to be more comfortable.  The wind is blowing her long hair.  She has put her purple backpack on the wall next to her.  She enjoys the shade of a nearby tree.']\n",
      "\n",
      "Predicted Caption:  ['a young woman is <UNK> on her phone.   she is sitting on <UNK> of a brick wall.   she is white , with long brown hair.   she is dressed in a blue tank top and dark blue jeans.   she has taken off']\n",
      "--------------------------------------------------\n",
      "Image Name       : ['test_166.jpg']\n",
      "\n",
      "Correct Caption  :   ['This photo is taken outside on a sunny day. Two men can be seen on a sidewalk near a brick building. A large black trash can is near one of the men. Large green trees line the sidewalk. A road is beside the sidewalk and across from it is a large building. Vehicles are lined up on the street in front of the building.']\n",
      "\n",
      "Predicted Caption:  [\"the sky is overcast and cloudy. there 's a bike leaning against the pole on the sidewalk. the street light is green. there are cars driving along the street. some people are crossing at the corner. there are trees lining the buildings in the\"]\n",
      "--------------------------------------------------\n",
      "Image Name       : ['test_167.jpg']\n",
      "\n",
      "Correct Caption  :   ['A white airplane with a blue tail on it. There is a black and yellow sign on the ground in front of the plane. There is a orange and white flag hanging from the plane. ']\n",
      "\n",
      "Predicted Caption:  ['a large <UNK> gray , <UNK> passenger air plane is parked on a tarmac. the grass surrounding the tarmac is yellowish <UNK>. there are <UNK> towers in the distance behind the plane. a person in a blue jacket is walking away from the tarmac in the']\n",
      "--------------------------------------------------\n",
      "Image Name       : ['test_168.jpg']\n",
      "\n",
      "Correct Caption  :   ['There are three buildings in a line and a tall clock tower across the street from the houses. The photo is in black and white. There are large gray clouds covering the sky.']\n",
      "\n",
      "Predicted Caption:  ['a building is brown in color. there is a clock on the building. the clock has roman numerals on it. there is a black <UNK> on the top of the building. there is a white and black clock on the tower.']\n",
      "--------------------------------------------------\n",
      "Image Name       : ['test_169.jpg']\n",
      "\n",
      "Correct Caption  :   ['This is a street corner. There are two street signs on a pole, with black text on a white background with a black rim. The one on top says \"Sandridge JMI School\" and the one on the bottom says \"HOSDB.\" They are both pointing in the same direction, indicated with a black arrow on the sign. Behind the street corner is a building with a shingled overhang supported by dark green columns. There are three or four hanging baskets with flowers hanging from the underside of the overhang. The building is brick and two stories, with two windows flanking a dark sign with pale text reading \"GREEN MAN Good Food.\" Behind the sign is a large amount of green climbing vine which obscures the sign for the next shop. There are the tops of two standing signs just visible in the foreground of the picture, and a couple of benches sitting on the sidewalk in front of the building.']\n",
      "\n",
      "Predicted Caption:  ['a tall brown brick building sits on a street corner. the sky above the building is gray. there are leafless <UNK> to the right of the building. the building is three stories tall. there are many windows on the side of the building. there']\n",
      "--------------------------------------------------\n",
      "Image Name       : ['test_170.jpg']\n",
      "\n",
      "Correct Caption  :   ['A commercial garage for buses is shown on a cloudy day. There are three buses in the parking lot, two of which are near the garage doors as if they were entering the garage. There are four garage bays that are empty with their doors open. There is a small cart in front of the door farthest right. On top of the building there is a blue sign with white writing.']\n",
      "\n",
      "Predicted Caption:  ['a bus is parked outside near a sidewalk. two people are walking on a sidewalk that have their left side up. both of the people are walking in front of them and are sitting on the sidewalk. they are all walking on the sidewalk.']\n",
      "--------------------------------------------------\n",
      "Image Name       : ['test_171.jpg']\n",
      "\n",
      "Correct Caption  :   ['A large black bear is standing on a field. There is grass and dirt behind the bear. The bear has brown eyes and brown fur around its mouth. ']\n",
      "\n",
      "Predicted Caption:  ['a large black bear is walking in a field full of bushes. the bear is looking behind him. his snout is beige , and his eyes , and the rest of his fur is black. the bushes all around are short , with small green or']\n",
      "--------------------------------------------------\n",
      "Image Name       : ['test_172.jpg']\n",
      "\n",
      "Correct Caption  :   ['A woman is wearing a pink shirt. She is standing in the water. There is a wave behind the woman. She is holding a white surfboard. ']\n",
      "\n",
      "Predicted Caption:  ['a man is surfing with a child. the child is on a surfboard. the surfboard is white. the kid is having a really good time.']\n",
      "--------------------------------------------------\n",
      "Image Name       : ['test_173.jpg']\n",
      "\n",
      "Correct Caption  :   ['A young woman is walking between rows of buses.  The woman is wearing a red hoodie and black pants.  She is looking away from the camera.  The woman has dark hair.  The buses seem to be stopped at a red traffic light.']\n",
      "\n",
      "Predicted Caption:  ['a woman is smiling at the camera. she is standing in front of a school bus that is on the street. she has a black purse on her shoulder. she has a teal bag on her shoulder and is on her shoulder.']\n",
      "--------------------------------------------------\n",
      "Image Name       : ['test_174.jpg']\n",
      "\n",
      "Correct Caption  :   ['A cake shaped like a high school track is half eaten and below it is written in blue frosting is \"Thank You Coaches\". On the table near the cake is a tray of cookies, cupcakes, a cobbler, and a dessert bar. beneath the cake there is a beige table runner with plums on it. ']\n",
      "\n",
      "Predicted Caption:  ['a table has many plates of food on it. there is a bowl on the table. there are many toppings on the table. there are many toppings on the table. there is a clear plastic bowl on the table. there is a plastic cup']\n",
      "--------------------------------------------------\n",
      "Image Name       : ['test_175.jpg']\n",
      "\n",
      "Correct Caption  :   ['There are many people at a market. The middle aisle has fruit. There are green watermelons. There are also yellow bananas. The man on the left is wearing a striped shirt and blue jeans. ']\n",
      "\n",
      "Predicted Caption:  ['a group of people are in a store shopping.   the floor is made of brown and yellow brick.   there is a lot of different area such as vegetable and <UNK>.   there are shelves sitting in the middle of the floor.   some']\n",
      "--------------------------------------------------\n",
      "Image Name       : ['test_176.jpg']\n",
      "\n",
      "Correct Caption  :   ['There are several people sitting around a table. There is a lady standing in front of the table. There is a white sign behind the table. There is a picture in a frame on the wall next to the sign.']\n",
      "\n",
      "Predicted Caption:  ['a group of people are sitting at a long table. one of the woman is holding a plate of pasta. she is wearing black glasses. she also has red hair. the people all have <UNK> so they can eat. the man at the end']\n",
      "--------------------------------------------------\n",
      "Image Name       : ['test_177.jpg']\n",
      "\n",
      "Correct Caption  :   ['A brick building has a window with white metal bars over it. There are two cameras on the building, one on one wall and another behind the corner. Under the camera there is a street sign that says Playhouse Yard. There is another building to the right of the brick building.']\n",
      "\n",
      "Predicted Caption:  ['a tall pole is standing alone by the side of a street. the stop sign is red , and there is a black and white sign that says <UNK> way on the sidewalk. the sign in the center is white and there is a red brick building']\n",
      "--------------------------------------------------\n",
      "Image Name       : ['test_178.jpg']\n",
      "\n",
      "Correct Caption  :   ['A group of people is standing outside at an amusement park that looks like Six Flags as there are large roller coasters in the background. It looks like a nice day with a sunny sky and no clouds. The group consists of 6 men, most of whom appear to be on the spectrum from overweight to obese. Their ages appear to range from 45 - 70 years old. Three gentleman are standing in front and three others are standing in back. They are wearing laynards with colorful badges around their necks. Four guys are wearing glasses and one is wearing sunglasses. Most are in casual, vacation attire, except for one guy who is wearing a tie. There are a couple other people in the background who appear to be in in line for something.']\n",
      "\n",
      "Predicted Caption:  ['a group of men are standing on a long platform. all of them are wearing hats. he is wearing a short sleeve shirt , pants , and a baseball cap. a man in a <UNK> apparel is sitting on the truck. an orange and beige']\n",
      "--------------------------------------------------\n",
      "Image Name       : ['test_179.jpg']\n",
      "\n",
      "Correct Caption  :   ['A woman is smiling in the camera. In front of the woman is a small brown bear figurine with a laptop. The laptop has an Apple logo on it.']\n",
      "\n",
      "Predicted Caption:  ['a stuffed woman is sitting on a red and white checkered board. there is a blue candle on the table in front of her. she is wearing a red shirt and black pants.']\n",
      "--------------------------------------------------\n",
      "Image Name       : ['test_180.jpg']\n",
      "\n",
      "Correct Caption  :   ['There are a lot of people standing on the beach. There are waves in the water. There are a lot of surf boards surrounding the people. ']\n",
      "\n",
      "Predicted Caption:  ['there are people on the beach. one woman is wearing a <UNK>. she is holding a lime green frisbee. she is wearing a black bikini. they are flying a kite. the kite is white. there is a kite in the sky.']\n",
      "--------------------------------------------------\n",
      "Image Name       : ['test_181.jpg']\n",
      "\n",
      "Correct Caption  :   ['A doll is dressed up in a black suit with a silver vest. There is a green couch with red throw pillows on it behind him. There is a gold table in front of the couch.']\n",
      "\n",
      "Predicted Caption:  [\"a man in a black suit is standing in front of a door with his chin up.   the man is also wearing , black shoes , black tie and a white button up and collared shirt.   the belt on the man 's pants has a\"]\n",
      "--------------------------------------------------\n",
      "Image Name       : ['test_182.jpg']\n",
      "\n",
      "Correct Caption  :   ['The fire hydrant is red orange. It has two silver chains. Behind the hydrant is a wooden fence. Inside the fence is the foggy area of the forest.']\n",
      "\n",
      "Predicted Caption:  ['a fire hydrant sits in a field of grass. the fire hydrant is blue and pink. there is a large black pole above the fire hydrant. there is a metal structure to the right of the fire hydrant , there is a building behind the fire']\n",
      "--------------------------------------------------\n",
      "Image Name       : ['test_183.jpg']\n",
      "\n",
      "Correct Caption  :   ['Someone is taking a picture from inside the airplane bathroom. The bathroom is very small and close. The person has on an olive green top and a carrying bag.']\n",
      "\n",
      "Predicted Caption:  ['the room has two <UNK> in the ceiling. they are both <UNK> in a small wooden shelf. the window is also white and there is a small white tub with black handles and a yellow <UNK> hanging from the shelf.   there are two small white']\n",
      "--------------------------------------------------\n",
      "Image Name       : ['test_184.jpg']\n",
      "\n",
      "Correct Caption  :   ['There is a white desk against a yellow wall. There is a computer on top of the desk. There is a black keyboard in front of the computer. There are bottles on the desk.']\n",
      "\n",
      "Predicted Caption:  ['this photo is taken at an office cubicle. there is a long desk with four black computer monitors sitting on it. a white keyboard is sitting on the desk near a large telephone. a black desk chair is sitting in front of the desk. four']\n",
      "--------------------------------------------------\n",
      "Image Name       : ['test_185.jpg']\n",
      "\n",
      "Correct Caption  :   ['A large double deck bus is driving on the street. There are people standing next to the bus. There is a large red building behind the bus. ']\n",
      "\n",
      "Predicted Caption:  ['a double decker bus is driving down the street.   the bus is bright red.   the bus has <UNK> written on the side of it.   there is a large white building to the right of the bus.   there is a black sign']\n",
      "--------------------------------------------------\n",
      "Image Name       : ['test_186.jpg']\n",
      "\n",
      "Correct Caption  :   ['Three rocks sit in a semi-circle on top of a rock ledge.  The rocks each have something painted on them.  The largest one in the middle has a stop sign.  On the right is a light blue circle rimmed in red, with a black line through the center.  On the left is some red lettering in Russian.  Lush trees are in the background.']\n",
      "\n",
      "Predicted Caption:  ['a yellow fire hydrant is in the foreground. the back of the car is metal , and the paint is peeled off. the hydrant is red and has a small black nose. the hydrant is on a silver chain link fence. there is a large']\n",
      "--------------------------------------------------\n",
      "Image Name       : ['test_187.jpg']\n",
      "\n",
      "Correct Caption  :   ['There is a clock tower in front of the building. The clock tower is gray in color and it has a total of four facings. The hands are black and the face plate is white. The building behind it is brown in color. The building has long rows of windows on the second story. It has patches of checkered patterns in different spots along the face and at the end of the windows on the second floor. The sky is clear and blue. You can see a tree with no leaves on the right side of the picture.']\n",
      "\n",
      "Predicted Caption:  ['a building has a clock on it. the top is white. the clock is black and white. the clock has roman numerals. the hands are black and white. the clock has a numbers on it. the numbers are black. the clock hands']\n",
      "--------------------------------------------------\n",
      "Image Name       : ['test_188.jpg']\n",
      "\n",
      "Correct Caption  :   ['A person wearing a white tennis outfit is wearing a white visor. They are swinging a tennis racket. There is a person in a yellow shirt. ']\n",
      "\n",
      "Predicted Caption:  ['a man is standing on a tennis court playing tennis. he is wearing a short sleeve shirt , white shorts , white headband , and white wristbands on his <UNK>. the man is holding a black racket in his hand. his hair is standing up as']\n",
      "--------------------------------------------------\n",
      "Image Name       : ['test_189.jpg']\n",
      "\n",
      "Correct Caption  :   ['A small brown dog is running down the beach, very near the shore, looking at another dog. The other dog is black, and is running through the water right near the shore. You can see waves coming into the shore.']\n",
      "\n",
      "Predicted Caption:  ['a dog is standing on the beach. the beach is blue and has a <UNK> of clouds in it. the sky is blue and clear. there are no other people in this picture. there are two birds playing out. one is a dog while']\n",
      "--------------------------------------------------\n",
      "Image Name       : ['test_190.jpg']\n",
      "\n",
      "Correct Caption  :   ['There are two yellow lights hanging from a black wire. There are two green trees under it. There is a tan building next to the trees. There are several signs next to the building. ']\n",
      "\n",
      "Predicted Caption:  ['the trees on the street i <UNK> tall and green. the trees all have the sun shining on them. the traffic lights are attached to big gray poles. there are two traffic lights on each pole. the traffic lights are showing red figure on them']\n",
      "--------------------------------------------------\n",
      "Image Name       : ['test_191.jpg']\n",
      "\n",
      "Correct Caption  :   ['This is a photo inside of a pub.  A sandwich on a roll wrapped in a napkind is sitting directly in front of the camera.  Bottles of beer line the counter top.  A man in a striped shirt stands behind the bar.']\n",
      "\n",
      "Predicted Caption:  ['this is a picture of some food. the food is a pizza. the bread is light brown. the bread is light brown. there is a golden sauce on the plate. the plate sits on a table. there is a wine glass on the']\n",
      "--------------------------------------------------\n",
      "Image Name       : ['test_192.jpg']\n",
      "\n",
      "Correct Caption  :   ['a bathroom is set up. the tub is white in color. the tub has legs on it. the light is turned on. the mirror is very small.']\n",
      "\n",
      "Predicted Caption:  ['this photo is taken inside of a bathroom. a small white table is sitting in front of a white wall. a brown chair is sitting against a white painted wall. a brown <UNK> is sitting in front of the door. there is a small drawer']\n",
      "--------------------------------------------------\n",
      "Image Name       : ['test_193.jpg']\n",
      "\n",
      "Correct Caption  :   ['An adult and a kid is on the snow. The adult is teaching the kid how to ski. The kid is wearing an orange jacket and black leggings. He is also wearing a helmet. The adult is wearing a yellow green jacket and black pants. There are bare trees visible.']\n",
      "\n",
      "Predicted Caption:  ['a group of people are skiing on a snowy mountain. there are a bunch of snow covered trees in front of them. everyone is wearing a hat , puffy pants , and long sleeve jackets. one person is wearing a green jacket with black pants.']\n",
      "--------------------------------------------------\n",
      "Image Name       : ['test_194.jpg']\n",
      "\n",
      "Correct Caption  :   ['White cabinets are in a kitchen. There is a window above the sink with white curtains. There is a white microwave on the counter. ']\n",
      "\n",
      "Predicted Caption:  ['a kitchen containing white cabinets and a white counter top. there is a white stove next to the cabinets and a white microwave above the stove. there is a white refrigerator next to the wall.']\n",
      "--------------------------------------------------\n",
      "Image Name       : ['test_195.jpg']\n",
      "\n",
      "Correct Caption  :   ['Many people are walking with raised umbrellas on a city street.  The umbrellas are a variety of colors.  The people are walking on a sidewalk lined with businesses in stone buildings.  The businesses and stores have awnings and several flag poles attached to the front of the businesses.  The flags are American flags.  To the right of the umbrellas is a city street lined with vehicles including one white van. On the sidewalk are also black traffic lights and street signs.  One street sign has a black and white arrow on it and the other sign is blue with white type.']\n",
      "\n",
      "Predicted Caption:  ['a bunch of people are walking downtown in the rain. they almost all have different directions. some of the people are walking down the sidewalk. all of them are wearing jackets.']\n",
      "--------------------------------------------------\n",
      "Image Name       : ['test_196.jpg']\n",
      "\n",
      "Correct Caption  :   ['A large ornate old cruise ship is seen docked at a port. In front of the ship there is a banner which reads \"Brunel\\'s ss Great Britain\" to the left of the ship there is another ship, this one rusty which is flying lags of various countries. To the right there are some warehouses. The sky above is blue with a few fluffy clouds.']\n",
      "\n",
      "Predicted Caption:  ['there are boats in the water. there is a boat in front of the boats. there are several people in the boat above the boats.']\n",
      "--------------------------------------------------\n",
      "Image Name       : ['test_197.jpg']\n",
      "\n",
      "Correct Caption  :   ['Two red, blue, yellow, and cream candle holders sits on a white shelf next to a small plate. On the table below thee are plates shaped like flowers. The wall behind the shelf is cinder block painted white. On the left of the shelf there is an unpainted wooden bookcase.']\n",
      "\n",
      "Predicted Caption:  ['there is a large white vase with a vase on it in front of it. there is a white and black clock on the wall. there is a clock on the wall behind the vase.']\n",
      "--------------------------------------------------\n",
      "Image Name       : ['test_198.jpg']\n",
      "\n",
      "Correct Caption  :   ['A large sun hangs in the sky, with a long group of people riding horses below it. They are on a beach, and the reflection of the sun is prominent in the water. You can see footprints in the sand near the foreground of the picture, and tire tracks are imprinted there as well. The sea is rather choppy, and you can see waves forming and crashing down. There are probably 30 horses in the picture, and 10 or 15 riders. ']\n",
      "\n",
      "Predicted Caption:  ['the image looks like it was taken at sunset on a beach. it is a calm evening by the water , the waves rolling in are small. there is a man in a light blue shirt , and dark blue jeans. the horse is in the']\n",
      "--------------------------------------------------\n",
      "Image Name       : ['test_199.jpg']\n",
      "\n",
      "Correct Caption  :   ['There are books sitting on a bed. There are white blankets on the bed. There is a lamp next to the bed. The book on the bottom of the pile is white and green. ']\n",
      "\n",
      "Predicted Caption:  ['there is a large wooden table in front of a white wall. there is a white table cloth on top of the table. next to the bed is a black lamp. there is a large book next to it.']\n",
      "--------------------------------------------------\n",
      "Image Name       : ['test_200.jpg']\n",
      "\n",
      "Correct Caption  :   ['A cat is inside of a sink. The cat is brown and striped with black and is looking at the camera. The cat has a collar on and the eyes are big and yellow.\\n']\n",
      "\n",
      "Predicted Caption:  ['a cat is staring at the camera. the cat is sitting inside of a toilet bowl. the cat is gray with <UNK> stripes and the eyes are glowing and green.']\n",
      "--------------------------------------------------\n",
      "Image Name       : ['test_201.jpg']\n",
      "\n",
      "Correct Caption  :   ['Its the inside of a very large cathedral. It is massive and beautiful. There are a large amount of rows of seats on both sides. The beams on the inside on both sides are white and large. There are gold candle items hanging from the ceiling.']\n",
      "\n",
      "Predicted Caption:  ['a large building sits behind a bridge. there is some light on the top of the building. there is a blue and white clock on the building. there is a black lamp in front of the building.']\n",
      "--------------------------------------------------\n",
      "Image Name       : ['test_202.jpg']\n",
      "\n",
      "Correct Caption  :   ['Lots of dark colored cows stand on top of a hill. There are trees behind them and long tall grass under them. They have green and yellow tags in their ears. ']\n",
      "\n",
      "Predicted Caption:  ['there are cows resting on the field. one of the cows is standing and looking. it is brown. beside it is another cow laying beside the horses. the grass is brown and white and green. the cows are casting a shadow on the grass']\n",
      "--------------------------------------------------\n",
      "Image Name       : ['test_203.jpg']\n",
      "\n",
      "Correct Caption  :   ['A pole holds a red sign on it. There are cars lining the street. There is a black fence behind the sign. There are white clouds in the sky.']\n",
      "\n",
      "Predicted Caption:  ['a stop sign is red with white letters. under the stop sign is a sign saying \" two way traffic \" , this sign is white with black letters. the two signs are on the same pole. behind the sign are trees and a house.']\n",
      "--------------------------------------------------\n",
      "Image Name       : ['test_204.jpg']\n",
      "\n",
      "Correct Caption  :   ['The man is wearing a white shirt. He has brown hair. He is holding a frisbee. The frisbee is green. It has black graphics on it. He is also wearing black shorts. ']\n",
      "\n",
      "Predicted Caption:  ['a man is throwing a tennis ball on a dusty day. he is wearing a blue <UNK> shirt and blue shorts. he is wearing a white headband , a white <UNK> , a colorful tennis cap , and a red <UNK> hat. a white ball is']\n",
      "--------------------------------------------------\n",
      "Image Name       : ['test_205.jpg']\n",
      "\n",
      "Correct Caption  :   ['The rain is coming down heavy outside on the street. There is a person crossing the street at the corner. Someone is holding an umbrella with big flowers on it. The sky is cloudy and grey.']\n",
      "\n",
      "Predicted Caption:  ['a person is standing in a walkway in between two buildings. there are many people standing all around them in the walkway. the person is wearing a red shirt and gray pants.']\n",
      "--------------------------------------------------\n",
      "Image Name       : ['test_206.jpg']\n",
      "\n",
      "Correct Caption  :   ['There is a woman sitting at the table. There is a black remote on the table. There is a white plate with a white cup on top of the plate. There is a spoon on the plate.']\n",
      "\n",
      "Predicted Caption:  ['a woman is standing in front of a staircase and is holding a large round white plate. the plate has pizza on it. the pizza has <UNK> , tomato sauce and cheese on it. the woman is blonde and she is smiling. she is wearing']\n",
      "--------------------------------------------------\n",
      "Image Name       : ['test_207.jpg']\n",
      "\n",
      "Correct Caption  :   ['A very detailed and neat bathroom. There are wooden accents in a majority white room. The bathroom is vintage and is black on the outside.']\n",
      "\n",
      "Predicted Caption:  ['a very clean and <UNK> bathtub. the tub is raised with granite <UNK>. there is a blue wall that has a yellow wall.']\n",
      "--------------------------------------------------\n",
      "Image Name       : ['test_208.jpg']\n",
      "\n",
      "Correct Caption  :   ['A clock sits on the ground. There is a white face with golden hands. There is an ornate black and gold design around the face of the clock which more than doubles the side of the clock. The clock sits on a black surface that appears to be the street. People are standing around the clock and five pairs of shoes are visible. ']\n",
      "\n",
      "Predicted Caption:  ['a black alarm clock is sitting on a wood table. there are striped curtains on the wall behind the table. the clock has black numbers on it. there are black hands on the bottom of the clock.']\n",
      "--------------------------------------------------\n",
      "Image Name       : ['test_209.jpg']\n",
      "\n",
      "Correct Caption  :   ['There are brown and white cows in a field. There is tall grass and yellow flowers in the field. There are trees in the distance around the field. ']\n",
      "\n",
      "Predicted Caption:  ['a bunch of cows are outside feeding. the day looks like it is <UNK> to be over. the trees have a bunch of brown and <UNK> leaves. there are five cows in the photograph. they are standing in the grass , and some of them']\n",
      "--------------------------------------------------\n",
      "Image Name       : ['test_210.jpg']\n",
      "\n",
      "Correct Caption  :   ['A gray train is riding on it\\'s tracks. Three train cars with red stickers labeled \"Ringling Bros. and Barnum Bailey\". All around the train tracks there is tall over grown grass, and gavel beside the road near the train tracks. Behind the tracks are a number of trees.']\n",
      "\n",
      "Predicted Caption:  ['a silver train is on the train tracks. there are trees behind the train. there is grass in front of the train.']\n",
      "--------------------------------------------------\n",
      "Image Name       : ['test_211.jpg']\n",
      "\n",
      "Correct Caption  :   ['There is a silver laptop with black buttons on it sitting on a couch. There is a dog laying on the couch next to the laptop. The dog is white and has black spots on its ears. ']\n",
      "\n",
      "Predicted Caption:  ['there is a cat inside of a chair. the bed is green in color. there is a white lamp next to the cat. there is a red blanket on the bed.']\n",
      "--------------------------------------------------\n",
      "Image Name       : ['test_212.jpg']\n",
      "\n",
      "Correct Caption  :   ['there is a big yellow bus that is parked. the bus is two stories. there is an ad on the side of the bus. there are four black tires. there is a white bus next to the yellow one. the buses are parked on green grass.']\n",
      "\n",
      "Predicted Caption:  ['this picture is taken outside on a sunny day. the sky is blue with large white sparse clouds soaring across it. a large double decker bus is sitting on a grassy field below the sky. two large trees are surrounding the road. the bus is']\n",
      "--------------------------------------------------\n",
      "Image Name       : ['test_213.jpg']\n",
      "\n",
      "Correct Caption  :   ['The cement side of this building has a silhouette of a man painted in black, to resemble a shadow next to the electrical box on the outside.  On the ground by his feet is a silhouette of a cat.  The man holds a red umbrella in his outstretched hand, to protect the cat from rain.  A bowler hat is on his head and he wears a calf length raincoat.  Graffiti is written over the black silhouette of the man, as well as a few places on the wall.  Some is spray painted onto the electrical box.']\n",
      "\n",
      "Predicted Caption:  ['a man is standing next to a large black statue of a building. the man is wearing a black top and black pants and a black dress. he is looking up and are walking on a gray stone. a man is sitting on the floor in']\n",
      "--------------------------------------------------\n",
      "Image Name       : ['test_214.jpg']\n",
      "\n",
      "Correct Caption  :   ['The blue water is off to the side of the park. There are a lot of people standing by the water. Some people are sitting down on park benches underneath the trees. Each tree has leafs that are changing color due to the fall weather.']\n",
      "\n",
      "Predicted Caption:  ['a wooden bench is next to the water. there are many trees around the bench. the bench is green in color.']\n",
      "--------------------------------------------------\n",
      "Image Name       : ['test_215.jpg']\n",
      "\n",
      "Correct Caption  :   ['A man wearing a blue baseball shirt, white pants and a blue hard hat is holding a black bat. He is wearing white gloves on his hands. He is standing on top of dirt. ']\n",
      "\n",
      "Predicted Caption:  ['the baseball player is swinging a baseball bat. the player is wearing a red helmet. the baseball player is wearing a brown glove. it is the <UNK> number up to <UNK> baseball game. the player has a ball in white on his right hand.']\n",
      "--------------------------------------------------\n",
      "Image Name       : ['test_216.jpg']\n",
      "\n",
      "Correct Caption  :   ['The counter top in a bathroom of a hotel room is made of marble and has two white inset sinks. there is a basket of toiletries on the left, and a box of Kleenex on the right. There is a glass shelf behind the counter with a small bottle in front of a card, and two glasses turned upside down. There is a mirror with a decorative frame on the wall behind the sink.']\n",
      "\n",
      "Predicted Caption:  ['this is a bathroom with a lot of decorations. the wall is a yellow color with a big white and blue picture. the sink is ceramic and white and sits on metal legs. there is a window and a sink on the shelf above the sink']\n",
      "--------------------------------------------------\n",
      "Image Name       : ['test_217.jpg']\n",
      "\n",
      "Correct Caption  :   ['A sign is shown on a sidewalk. The sign is triangular, red and white, and has two people walking on it. There are a couple of cars parked on the street near the sidewalk.']\n",
      "\n",
      "Predicted Caption:  ['a city street at night where cars are parked on each side of the street. there are trees on the sidewalk beside the cars parked and cars are driving down the street. the cars are all black and white. there are cars parked on the side']\n",
      "--------------------------------------------------\n",
      "Image Name       : ['test_218.jpg']\n",
      "\n",
      "Correct Caption  :   ['There are tables that have vegetables on them. There is a pile of raddishes, a pile of carrots, a pile of peas and some potatoes. There is a lady standing there with an apron on. ']\n",
      "\n",
      "Predicted Caption:  ['this is a market. there is a fruits and vegetables stand. there are bananas hanging from some iron bars. there are apples and oranges. there are also plums. there are pumpkins. the pumpkins are orange and white. the woman is wearing a']\n",
      "--------------------------------------------------\n",
      "Image Name       : ['test_219.jpg']\n",
      "\n",
      "Correct Caption  :   ['A person in a black suit is sitting on a surf board in the middle of the ocean.  The ocean has a lot of waves that are white.  The man is sitting waiting on a wave to roll by.  The water is very choppy.']\n",
      "\n",
      "Predicted Caption:  ['a seagull is flying in the air. it is flying over a body of water that has no waves in it. there is a wave in the sky that is dark blue and yellow. the water is calm and has a few small ripples on the']\n",
      "--------------------------------------------------\n",
      "Image Name       : ['test_220.jpg']\n",
      "\n",
      "Correct Caption  :   ['There is a white and red truck parked on the street. There is graffiti on the side of the van. There is a building behind it.']\n",
      "\n",
      "Predicted Caption:  ['a red and white bus is parked on the side of a fancy street. there are white lines painted on the street in front of the bus. there is a large white truck in the back of the bus. there is a white and black sign']\n",
      "--------------------------------------------------\n",
      "Image Name       : ['test_221.jpg']\n",
      "\n",
      "Correct Caption  :   ['Some people are gaming together in a room. They all have there own computers and are focused on the game they are playing. They all appear to have some snacks and drinks next to them.']\n",
      "\n",
      "Predicted Caption:  ['a man in a blue shirt is sitting in a working on a desk. the man is wearing glasses on his face. there is a large window behind them with a red curtains on it.']\n",
      "--------------------------------------------------\n",
      "Image Name       : ['test_222.jpg']\n",
      "\n",
      "Correct Caption  :   ['A man in a yellow rain coat is walking on the sidewalk. There is a woman standing next to him carrying a blue and white umbrella. There is a lady and a little boy crossing the street. ']\n",
      "\n",
      "Predicted Caption:  ['a woman is standing in the street holding an umbrella. the umbrella is multicolored and has a black design on it. the woman is wearing a pink top and black pants. there are <UNK> on the ground next to the woman.']\n",
      "--------------------------------------------------\n",
      "Image Name       : ['test_223.jpg']\n",
      "\n",
      "Correct Caption  :   ['People are in the water at the beach.  A man is entering the water carrying a white surfboard with a red edge.  He is wearing a blue and white bathing suit.  A bit further down the beach, a couple is standing in the shallow water together looking down at something.  Low waives roll in towards the shore.']\n",
      "\n",
      "Predicted Caption:  ['a man is walking with a surfboard on his surfboard. he is wearing a light blue shirt and black pants. the man is wearing dark sunglasses and a pair of jeans. the shirt has a brown and black line on it. few feet away from']\n",
      "--------------------------------------------------\n",
      "Image Name       : ['test_224.jpg']\n",
      "\n",
      "Correct Caption  :   ['A wooden table that has a silver trophy in the middle of it. In front of the trophy are several bowls and dishes containing food. There is a loaf of bread on a block of wood at the front of the table. ']\n",
      "\n",
      "Predicted Caption:  ['a wooden table that has a glass vase sitting on top of it. there is a glass vase on top of the table. there are bottles and <UNK> on top of the table.']\n",
      "--------------------------------------------------\n",
      "Image Name       : ['test_225.jpg']\n",
      "\n",
      "Correct Caption  :   [\"A cat is positioned in front of an apple computer and keyboard.  It's fur is blackish brown.  His eyes are green.  A white mouse is sitting on the black mouse pad.  A router is positioned against the wall on the computer desk.\"]\n",
      "\n",
      "Predicted Caption:  ['a black cat is laying on a laptop computer. the laptop is turned on and there is a black keyboard in front of it and a white mouse next to it. there is a white keyboard in the corner of the room.']\n",
      "--------------------------------------------------\n",
      "Image Name       : ['test_226.jpg']\n",
      "\n",
      "Correct Caption  :   ['A brown sectional couch in a room with colorful pillows on it. There is a brown leather ottoman in front of the couch. There is a tan and brown rug under the ottoman. There is a fireplace on the wall. Behind the couch is a window and a door that has blue curtains on them.']\n",
      "\n",
      "Predicted Caption:  ['this is the living room there is a fireplace made of brick with a lamp next to a couch and a table. the colors are brown and the area is very clean. a tv that has blue is hanging on the wall next to it. there']\n",
      "--------------------------------------------------\n",
      "Image Name       : ['test_227.jpg']\n",
      "\n",
      "Correct Caption  :   ['A lone dark grey plane is flying through a cloudy sky. The sky is completely overcast. The plane has four propellers. Two propellers on each wing. It has a top tail and two side tails.']\n",
      "\n",
      "Predicted Caption:  ['an airplane is flying in the sky. the plane has two engines on each of its wings. the plane is white and blue and has a <UNK> on it. the letters are also blue. the sky is blue and partly cloudy.']\n",
      "--------------------------------------------------\n",
      "Image Name       : ['test_228.jpg']\n",
      "\n",
      "Correct Caption  :   ['The sky is partly cloudy. The water is calm and clear. The train is in motion above the water on the bridge. The train is a royal blue color.']\n",
      "\n",
      "Predicted Caption:  ['the sky is partly cloudy and gray. there is a plane that is <UNK> and smaller. the trees are reflecting all of leaves. the ground is covered in small rocks. there is a bird on the dock. the tree has lights on it.']\n",
      "--------------------------------------------------\n",
      "Image Name       : ['test_229.jpg']\n",
      "\n",
      "Correct Caption  :   ['There is a man in a white baseball uniform with green trim that plays for the Spartans and is #14. He is wearing white Nike cleats with green socks and a green hat as well. He has a brown leather baseball glove on his left hand, and has just thrown the baseball, which is in the air, from his right hand. The man is white and has medium length hair. He is standing on the dirt part of the baseball field with neatly trimmed green grass behind him. ']\n",
      "\n",
      "Predicted Caption:  ['a baseball player is holding a brown bat in his hands. he is wearing a blue and red shirt and a black helmet. there is a catcher squatting behind the player holding a white baseball glove on his hand , and wearing a black helmet and face']\n",
      "--------------------------------------------------\n",
      "Image Name       : ['test_230.jpg']\n",
      "\n",
      "Correct Caption  :   ['There is a bed with purple blankets on it. There is one purple pillow and one pink pillow on the bed. There is a blanket on the wall behind the bed. There is a book on top of the bed. ']\n",
      "\n",
      "Predicted Caption:  ['the metal table is painted the main focus. the walls are made of wood and are two wood. the <UNK> of the room is black and white. two chairs are both against the wall behind the laptop. the laptop is open and the one next']\n",
      "--------------------------------------------------\n",
      "Image Name       : ['test_231.jpg']\n",
      "\n",
      "Correct Caption  :   ['Three elephants are in the water. They are all walking in the same direction. They all have very long tusks showing that are not in the water.']\n",
      "\n",
      "Predicted Caption:  ['a bunch of elephants are outside. they are outside <UNK> together. the elephants have a long thick trunk on the top of their heads. one elephant has its trunk turned on while they are yellow. one elephant is looking down while the other one is']\n",
      "--------------------------------------------------\n",
      "Image Name       : ['test_232.jpg']\n",
      "\n",
      "Correct Caption  :   ['A bald man and a woman with short brown hair sit at a dark brown wood table. On the table there are 4 wine glasses, and a wine bottle. The man appears to be pouring something into one of the glasses. there is also a brown beer bottle on the table. ']\n",
      "\n",
      "Predicted Caption:  ['a man and a woman are sitting together looking at a row of <UNK> glasses.   on the left is a woman wearing a white shirt and pink pants.   the person next to the man is wearing a black jacket and a black tie.  ']\n",
      "--------------------------------------------------\n",
      "Image Name       : ['test_233.jpg']\n",
      "\n",
      "Correct Caption  :   ['This is an image of zebras in the wild. The zebras have black and white stripes. The long and beige grasses are visible. Beside the zebra is a small, bare tree.']\n",
      "\n",
      "Predicted Caption:  ['there is a zebra in a field that has two zebras and another zebra standing next to it. there are trees in the distance behind them.']\n",
      "--------------------------------------------------\n",
      "Image Name       : ['test_234.jpg']\n",
      "\n",
      "Correct Caption  :   ['a bunch of zebras are roaming in the grass. the grass is yellow in color. there are three zebras. they all have stripes.']\n",
      "\n",
      "Predicted Caption:  [\"many black and white zebras are standing together on a grass covered plain.   all of the zebra 's have black and white stripes all over their bodies and black manes.   in the center of the herd of zebras is a lone and leafless tree.\"]\n",
      "--------------------------------------------------\n",
      "Image Name       : ['test_235.jpg']\n",
      "\n",
      "Correct Caption  :   ['The room is an image of a bathroom. It has a white sink and a silver metal faucet. On the sink is a bottle of hand soap. The bottle is orange and white with orange pump lid on it. On the other side is an orange cup that is full of toothbrushes. The wall is made of tiles. On the wall is a mirror with wooden frame.']\n",
      "\n",
      "Predicted Caption:  [\"a <UNK> ' bathroom with red walls and <UNK> has no no walls. there is a large white tub with a blue and white soap going to it. there is a small gray box on the sink , and also a wooden shelf that has a roll\"]\n",
      "--------------------------------------------------\n",
      "Image Name       : ['test_236.jpg']\n",
      "\n",
      "Correct Caption  :   ['People are playing frisbee outside in the park. A man has his shirt off and he is reaching out to catch the frisbee. Others are running around to position themselves to be catching the frisbee later. The grass is green and there is shade from a nearby tree. There is a stone fence along the park and trees are behind it. There is also a stone pillar by the fence. ']\n",
      "\n",
      "Predicted Caption:  ['the image shows a group of people standing in a field playing with a frisbee.   the group is in the foreground.   the group of the group are attached to a <UNK> <UNK> there area in the park.   they are standing on a dirt']\n",
      "--------------------------------------------------\n",
      "Image Name       : ['test_237.jpg']\n",
      "\n",
      "Correct Caption  :   [\"The woman is reaching up to catch the frisbee. There is a man to the right that is catching a yellow frisbee as he bends down. The trees and the grass are green around and under the people's feet. Three of the people playing are wearing green shirts.\"]\n",
      "\n",
      "Predicted Caption:  ['two people are jumping in the air for a frisbee. the frisbee is white in color. there are trees behind the people.']\n",
      "--------------------------------------------------\n",
      "Image Name       : ['test_238.jpg']\n",
      "\n",
      "Correct Caption  :   ['there are people playing tennis. one of the players is wearing a blue shirt. his shorts are white in color. he is holding a black racket. the stands are filled with people.']\n",
      "\n",
      "Predicted Caption:  ['this is a game of tennis. the court is bright green and has a white stripe down the side. there is also a section of blue. around the court there is a fence to keep the balls in. the player on the court has red']\n",
      "--------------------------------------------------\n",
      "Image Name       : ['test_239.jpg']\n",
      "\n",
      "Correct Caption  :   ['There are three elephants outside. People are on top of the elephants riding them over the field. There is green grass, green bushes, and trees with green leafs by the field. Off in the distance you can see mountains. The sky is blue, but also cloudy. ']\n",
      "\n",
      "Predicted Caption:  ['there are several horses standing on a field. there is grass on the field. there are trees behind the grass. there are many trees around the bushes.']\n",
      "--------------------------------------------------\n",
      "Image Name       : ['test_240.jpg']\n",
      "\n",
      "Correct Caption  :   ['There are several long boats in the water. There is a woman wearing a white hat. There are several bananas and fruits in the boat. There is a man on the dock.']\n",
      "\n",
      "Predicted Caption:  ['this is an image of a river front. there are small buildings in the water. the picture is taken on a river. the water is very reflective. the water is reflecting the sky. the boat is red and white in color. there are']\n",
      "--------------------------------------------------\n",
      "Image Name       : ['test_241.jpg']\n",
      "\n",
      "Correct Caption  :   ['A sign is on a pole near the street. The pole is black and the sign is white and red. A bunch of cars are parked on both sides of the street. The sky is filled with cloud.']\n",
      "\n",
      "Predicted Caption:  ['a city sidewalk on a cloudy day. there is at the beginning of the walk a large ornate clock , with the name of the village , town on it. it stands about 10 <UNK> tall on a large tall <UNK>. on the right is a']\n",
      "--------------------------------------------------\n",
      "Image Name       : ['test_242.jpg']\n",
      "\n",
      "Correct Caption  :   ['a bird is on a rock. the bird is brown and red. the bird is very small. the bird has very jagged feet. the bird has black eyes.']\n",
      "\n",
      "Predicted Caption:  ['a bird is sitting in a bowl of bird <UNK>. there is a bird flying in the window. there is a bird flying in the air in front of the bowl.']\n",
      "--------------------------------------------------\n",
      "Image Name       : ['test_243.jpg']\n",
      "\n",
      "Correct Caption  :   ['There is a table full of food and drinks. There are white plates, silverware, and white cups and saucers. One of the cups holds coffee. There are two clear vessels with silver lids and black handles. Several people can be seen sitting around the table.']\n",
      "\n",
      "Predicted Caption:  ['a table has three plates of food on it. the food includes vegetables , cut up sausage , french fries and pickle. the plates are both clear and round. there is a metal plate on the center of the table with a gray towel in it']\n",
      "--------------------------------------------------\n",
      "Image Name       : ['test_244.jpg']\n",
      "\n",
      "Correct Caption  :   ['A large elephant is walking on a field. The elephant has large white trunks on the mouth of it. There is a large tree next to the elephant. ']\n",
      "\n",
      "Predicted Caption:  ['there is a baby elephant standing behind a larger elephant. there is a tree behind the elephants with green leaves on it. there is dirt on the ground below them.']\n",
      "--------------------------------------------------\n",
      "Image Name       : ['test_245.jpg']\n",
      "\n",
      "Correct Caption  :   ['A teenage boy sits at a table in a restaurant. He has short black hair and is wearing a short sleeve t-shirt. He is putting food up to his mouth. A large circular white plate with a black stripe around it sits before him. French fries and a foot-long hot dog with chili are on the plate. A full glass with a straw  and utensils also sit on the wooden table. A white shopping bag is visible beside the boy in the booth he sits in. ']\n",
      "\n",
      "Predicted Caption:  ['a man is sitting at a table in front of a table. he is wearing a red and white striped shirt and a pair of blue sunglasses. he has a pen on and has a brown and brown beard. part of a picture of a man']\n",
      "--------------------------------------------------\n",
      "Image Name       : ['test_246.jpg']\n",
      "\n",
      "Correct Caption  :   ['An average sized cat is standing in the tub. The tub is white and is not filled with water. The shower curtain is clear and on the right side. The washcloth is dark colored and hanging from the tub. The tub has a silver drain and stopped. The cat is standing in the middle of the tub while facing the wall.']\n",
      "\n",
      "Predicted Caption:  ['a furry cat is sitting on top of a blue box. there is a roll of toilet paper on the shelf next to the bowl on the toilet. there is a door behind the cat on the floor.']\n",
      "--------------------------------------------------\n",
      "Image Name       : ['test_247.jpg']\n",
      "\n",
      "Correct Caption  :   ['A gray and black cat is standing on a counter. The counter is white and brown. There is a coffee mug sitting on top of the counter in front of the cat. ']\n",
      "\n",
      "Predicted Caption:  ['a cat is laying on the floor. there is a white rug under the cat. there is a book shelf behind the cat. the cat is gray with black stripes on it.']\n",
      "--------------------------------------------------\n",
      "Image Name       : ['test_248.jpg']\n",
      "\n",
      "Correct Caption  :   ['A man is skiing down the mountain. There is a log of white fluffy snow. The man is wearing a red hat and blue snowsuit. He is holding ski poles in his hands. He gas black gloves on his hands and sunglasses on his face. Behind the man are trees that are covered in snow.']\n",
      "\n",
      "Predicted Caption:  ['a man is skiing down a hill. he is in mid snow , heading toward the backdrop of him. he is wearing a red and white long sleeve shirt and black pants. he has two black poles and his eyes are closed. it is <UNK>']\n",
      "--------------------------------------------------\n",
      "Image Name       : ['test_249.jpg']\n",
      "\n",
      "Correct Caption  :   ['A man stands in the snow. He is holding a black pole. There are trees behind the man. There are tracks in the snow. The man is wearing a dark colored cap. ']\n",
      "\n",
      "Predicted Caption:  ['a man in a green coat is skiing. the ground is covered in white snow. there are trees behind the trees.']\n",
      "--------------------------------------------------\n",
      "Image Name       : ['test_250.jpg']\n",
      "\n",
      "Correct Caption  :   [\"The head and neck of a giraffe is seen behind a small knoll which is partially grassy area and partially rocky. There are two wooden poles in the grassy area, as well as two light green rectangles which may be steps. There is a strip of black material suspended between the poles. The giraffe is seen in profile. Its mouth is closed. There is grass and rocks visible behind the giraffe's head, as well as some dirt pathways and more grass. A number of tree trunks are seen rising upward from the grass behind the giraffe. \"]\n",
      "\n",
      "Predicted Caption:  ['a giraffe stands in a zoo enclosure. behind the giraffe is a small giraffe. in the middle of the giraffe is a pile of wood rocks. on the ground are trees and bushes. the sky is blue with few clouds.']\n",
      "--------------------------------------------------\n",
      "Image Name       : ['test_251.jpg']\n",
      "\n",
      "Correct Caption  :   ['There are two clocks at a tower near a larger building behind it.  The two clocks are black with white faces.  The numbers are roman numerals and the right clock reads 12:15 while the left clock reads 11:40.  The tower has detailed architecture which makes it appear very old.  There are ornate golden decorations also visible on the clock tower.']\n",
      "\n",
      "Predicted Caption:  ['a tall tower is made of tall stone and at the top of the tower is tan. the tower has a clock , two <UNK> <UNK> and three windows. the clock is in three shape and have a black <UNK>. the time is <UNK> with white']\n",
      "--------------------------------------------------\n",
      "Image Name       : ['test_252.jpg']\n",
      "\n",
      "Correct Caption  :   ['A bed covered in white blankets and pillows sits in the corner. There is a silver laptop sitting on the bed. The apple logo on the screen is lit up. There is a poster hanging on the wall. The walls of the room are white as well. The laptop on the bed is open. There is nobody in the room.']\n",
      "\n",
      "Predicted Caption:  ['a <UNK> bed is sitting in a room. the headboard is brown in color and has a white curtain and blue flowers. there is a white blanket on the bed , and a vase with flowers on it.']\n",
      "--------------------------------------------------\n",
      "Image Name       : ['test_253.jpg']\n",
      "\n",
      "Correct Caption  :   ['two legs are riding on a skateboard. the skateboard is in the air. the skateboard is black in color. there is another person skateboarding in the background. the skate park is surrounded by mountains. there is a grey rail next to the ramp.']\n",
      "\n",
      "Predicted Caption:  ['a person is standing on the ground on a skateboard. he is leaning forward on the side of the ramp. the ramp is red and white. the skateboarder is casting a shadow on the ground. the ramp is black and white and has a black']\n",
      "--------------------------------------------------\n",
      "Image Name       : ['test_254.jpg']\n",
      "\n",
      "Correct Caption  :   ['There are two people dressed in winter gear on snowboards in mid air. The hill is covered in white snow. There are people standing on top of the hill in the back round. You can also see trees covered with snow. The sky is cloudy and looks cold. ']\n",
      "\n",
      "Predicted Caption:  ['a man is snowboarding down a hill. he is in mid air and has just hit a small ramp. his board is black , his jacket is brown and khaki , and he has on khaki <UNK>.']\n",
      "--------------------------------------------------\n",
      "Image Name       : ['test_255.jpg']\n",
      "\n",
      "Correct Caption  :   ['There is a cake in a white box. The box is sitting on a table. There is an empty white plate sitting next to the cake. There is a person holding a knife cutting the cake. ']\n",
      "\n",
      "Predicted Caption:  ['a man and a woman are sitting together looking at a row of <UNK> pizzas. on the table are three full glasses of beer. there is a brown haired woman with long hair and wearing glasses. a white wall can be seen behind the woman.']\n",
      "--------------------------------------------------\n",
      "Image Name       : ['test_256.jpg']\n",
      "\n",
      "Correct Caption  :   ['This is a large, black and red train. A jet of steam comes out the side and hits the ground. the train has three headlights on the front as well as an identification number. the door to the front car is slid open and a man stands at the rear of the car doing something. There are trees in the background behind he train.']\n",
      "\n",
      "Predicted Caption:  ['a black train is on the train tracks. there is a cloud of smoke coming from the top of the train. there are trees behind the train. there are trees next to the tracks.']\n",
      "--------------------------------------------------\n",
      "Image Name       : ['test_257.jpg']\n",
      "\n",
      "Correct Caption  :   [\"Black cabinets are above a kitchen cabinet that isn't finished. There is a ladder leaning against the wall. There is a white door on the hall leading into the kitchen.\"]\n",
      "\n",
      "Predicted Caption:  ['a white microwave is hanging over a wood cabinet in a room. there is a stainless steel fridge sitting on the cabinet. a small gray cabinet is sitting against a wall in the kitchen. the room has a wooden frame on it.']\n",
      "--------------------------------------------------\n",
      "Image Name       : ['test_258.jpg']\n",
      "\n",
      "Correct Caption  :   [\"The image is a black and white photo. A young boy is sitting in the space between the poles of two parking meters off the ground. His arms are wrapped around the two meters and his feet are tucked behind the main bar supporting the two meters. He is smiling with his mouth wide open. He is dressed in warm weather clothing including dark shorts, a striped t-shirt, tennis shoes, and socks. His hair appears to be light colored. To the boy's left there is an older model car parked in a parking space. In the distance behind him there are several older model cars parked in a parking lot. The area is surrounded by mature trees. The concrete of the parking area in the foreground is stained from previous vehicles' fluid leakage. From the content of the photo and the models of vehicles, it appears this is a vintage photograph.\"]\n",
      "\n",
      "Predicted Caption:  ['there is a black pole with red flowers hanging from a pole. there is a white car in front of the car. there are trees and weeds around the car.']\n",
      "--------------------------------------------------\n",
      "Image Name       : ['test_259.jpg']\n",
      "\n",
      "Correct Caption  :   ['a bunch of cars are in a parking lot. there is  black motorcycle that are parked. the motorcycle is clean and shiny. there is a white building in the background. the sky is blue in color.']\n",
      "\n",
      "Predicted Caption:  ['a red three <UNK> motorcycle is parked on a dirt road.   the motorcycle has the words \" <UNK> \" painted on it in yellow lettering.   the motorcycle in the center of the back seat is painted blue.   several pieces of <UNK> are painted']\n",
      "--------------------------------------------------\n",
      "Image Name       : ['test_260.jpg']\n",
      "\n",
      "Correct Caption  :   ['A tall brown and white cake is sitting on a table. There are red and yellow flower petals around the cake. There is a white plate on the table with a fork on top of it. ']\n",
      "\n",
      "Predicted Caption:  ['a cake covered in chocolate icing sits a top a white plate. there are <UNK> ridges and lines made by the <UNK> used to spread the icing. behind the cake is a light blue wooden mug with white and green frosting on top. behind the purple']\n",
      "--------------------------------------------------\n",
      "Image Name       : ['test_261.jpg']\n",
      "\n",
      "Correct Caption  :   ['This photo is taken outside on a sunny day. A woman is walking on a sidewalk while looking at her phone. She has a large black purse on her shoulder. A tall red fire hydrant is sitting on the sidewalk beside the woman. There is a gray car on the road in front of the woman. A gray fence can be seen across the street, surrounded by vehicles.']\n",
      "\n",
      "Predicted Caption:  ['a large yellow and white cherry <UNK> fire hydrant is on the street at night. the street has two white headlights , one story headlights , and a red cab. there is a black street light on both sides with light to the left. there is']\n",
      "--------------------------------------------------\n",
      "Image Name       : ['test_262.jpg']\n",
      "\n",
      "Correct Caption  :   ['a yellow taxi got into an accident. he hit a tree and crashed. there is a cop car next to him. The man is talking with the cop. there is a store right next to the accident.']\n",
      "\n",
      "Predicted Caption:  ['a large white and blue building is on the corner of a street. there is a red street light hanging above the street next to the building. there are palm trees in front of the building.']\n",
      "--------------------------------------------------\n",
      "Image Name       : ['test_263.jpg']\n",
      "\n",
      "Correct Caption  :   ['A surfer is wearing a black wet suit. He is standing on top of a white surfboard. There are large waves in the water behind the man. The sky is blue. ']\n",
      "\n",
      "Predicted Caption:  ['a man is surfing a wave. he is just about to go over the wave to <UNK> a trick. he has on a black shirt with some trunks. his surfboard is white , red , and black.']\n",
      "--------------------------------------------------\n",
      "Image Name       : ['test_264.jpg']\n",
      "\n",
      "Correct Caption  :   ['A batter is swinging his bat to hit the baseball. He is wearing a black helmet and a white uniform. The catcher is behind him with a red mask on his face, and behind him is the umpire with a black helmet. There is green grass on the field.']\n",
      "\n",
      "Predicted Caption:  ['a baseball game is in <UNK>. the player at bat is wearing a red helmet and blue jersey. the other team is wearing yellow jerseys. the pitcher has just thrown the ball. the umpire has his hand on the back of the catcher , who']\n",
      "--------------------------------------------------\n",
      "Image Name       : ['test_265.jpg']\n",
      "\n",
      "Correct Caption  :   ['The plate is colorful. At the center of the plate is a white, creamy dip. On the plate, there is  cucumber, broccoli, carrots, tomatoes and red peppers. Beside the plate is a knife with black handle.']\n",
      "\n",
      "Predicted Caption:  ['there is a plate with an <UNK> on it. there is a <UNK> made up of <UNK> broccoli and vegetables. the carrots are white , red , and blue. there is a pink <UNK> to the right of the purple bowl. the orange piece of']\n",
      "--------------------------------------------------\n",
      "Image Name       : ['test_266.jpg']\n",
      "\n",
      "Correct Caption  :   ['A child in a blue and black coat and black pants is stanind on a snow board apparently watching an older man in a white coat who is walking off.  Snow covers the ground and is well tracked.  To the right of the boy on the board is a line of people waiting.']\n",
      "\n",
      "Predicted Caption:  ['a man in a green coat is skiing. the man is holding a red and white helmet. there is a black and white net in front of the man.']\n",
      "--------------------------------------------------\n",
      "Image Name       : ['test_267.jpg']\n",
      "\n",
      "Correct Caption  :   ['A gray cat is sitting on a closed toilet and looking down at an orange cat. The orange cat is looking up at the gray cat. The toilet seat and lid are light wood. The toilet itself is white and so are the tiles on the floor. The toilet paper roll hangs on a metallic holder.']\n",
      "\n",
      "Predicted Caption:  ['a cat is sitting on top of a blue box. there is a fan behind the cat. there are two silver lights around the cat.']\n",
      "--------------------------------------------------\n",
      "Image Name       : ['test_268.jpg']\n",
      "\n",
      "Correct Caption  :   ['A white airplane is taking off from the ground. There is blue writing on the side of the airplane. There are white vans on the ground below it.']\n",
      "\n",
      "Predicted Caption:  ['a plane is sitting on the runway. the plane is white and blue. the logo is on the tail. the plane is white and blue.']\n",
      "--------------------------------------------------\n",
      "Image Name       : ['test_269.jpg']\n",
      "\n",
      "Correct Caption  :   ['Two people are skiing on snow. One of the people is wearing a white coat and orange pants. They are holding black ski poles. There is a person standing behind them also in the snow. ']\n",
      "\n",
      "Predicted Caption:  ['the sky is blue and partly cloudy. there are hardly any clouds. there are more clouds in the distance over the mountains. the mountains in the distance are covered with snow. the snow is white. ski lift is hanging on wires. there are']\n",
      "--------------------------------------------------\n",
      "Image Name       : ['test_270.jpg']\n",
      "\n",
      "Correct Caption  :   ['A boy is sitting at a small dock. The boat has small wooden benches on it. Above the boat is a bridge that has people walking on it.']\n",
      "\n",
      "Predicted Caption:  ['a large white ship sits in water. there is a large body of water in front of the water. there are several people sitting on top of the boat. there is a person with a black jacket on and blue jeans on the board.']\n",
      "--------------------------------------------------\n",
      "Image Name       : ['test_271.jpg']\n",
      "\n",
      "Correct Caption  :   ['There is a man in a brown shirt standing on the grass. There is a yellow frisbee in front of the man. There are trees behind the man. ']\n",
      "\n",
      "Predicted Caption:  ['a woman is standing on a grassy field with two little girls. the girls are wearing shirts and shorts. they are standing near a black fence that is on the field. people are standing around and watching the people.']\n",
      "--------------------------------------------------\n",
      "Image Name       : ['test_272.jpg']\n",
      "\n",
      "Correct Caption  :   ['An abandoned train is shown on the tracks. There are some graffiti words on the train. The color of the writings are green, yellow, black, white, and a gray color. ']\n",
      "\n",
      "Predicted Caption:  ['the image is of a train station. the train is yellow , red and black. there are people standing on the platform next to the train. the train is on the track. the sky is gray and cloudy. you can see part of a']\n",
      "--------------------------------------------------\n",
      "Image Name       : ['test_273.jpg']\n",
      "\n",
      "Correct Caption  :   ['Two people are playing tennis. They are wearing white uniforms. The woman is wearing a tennis skort. She is swinging her racket. The dirt under her is light brown.']\n",
      "\n",
      "Predicted Caption:  ['a man in a white outfit is serving a tennis ball. they are playing on a dirt court. there are several people sitting in the stands around the court.']\n",
      "--------------------------------------------------\n",
      "Image Name       : ['test_274.jpg']\n",
      "\n",
      "Correct Caption  :   ['A wooden desk with a laptop on top of it. There is a silver keyboard in front of the laptop and a mouse next to the keyboard. There are wires coming off of the laptop. There is a wall behind the desk and there is a blue note stuck to the wall. ']\n",
      "\n",
      "Predicted Caption:  ['there is a wooden desk with a computer monitor on it. there is a silver laptop sitting next to it. there is a white keyboard in front of the computer. there is a white keyboard mouse next to the keyboard on the desk. there is']\n",
      "--------------------------------------------------\n",
      "Image Name       : ['test_275.jpg']\n",
      "\n",
      "Correct Caption  :   ['There are people on the tennis court. There are bushes and trees behind them. They are all wearing white shirts and holding tennis rackets.']\n",
      "\n",
      "Predicted Caption:  ['four people are standing on the tennis court together for a group photo. there are three men and one woman standing together. three of the people are holding on to tennis rackets. and two of the people are holding on tennis balls. they each are']\n",
      "--------------------------------------------------\n",
      "Image Name       : ['test_276.jpg']\n",
      "\n",
      "Correct Caption  :   ['three birds are perched onto a handrail. the handrail is made out of wood. the wood is dark brown in color. the birds have white necks.']\n",
      "\n",
      "Predicted Caption:  ['a wooden bench is sitting in front of a stone wall. the bench is a light wood and has a flower design on the front that has green leaves. the wall behind the bench is yellow and the wall is grey. there are two visible <UNK>']\n",
      "--------------------------------------------------\n",
      "Image Name       : ['test_277.jpg']\n",
      "\n",
      "Correct Caption  :   ['A bicycle is parked at a metal bicycle stand. There is a gold color lock attached to the bicycle stand. The bike is leaning onto the side of it. There is a black and gray bag attached to the bicycle. Behind the bicycle is a road with a large bus on it. The bus is white and blue and has an orange digital sign on the front.']\n",
      "\n",
      "Predicted Caption:  ['this is an outdoor image taken of a bus. the bike is in an <UNK> parking lot. the car is painted blue and white. there are two headlights on the back of the blue truck. both men have grey <UNK> on their <UNK>. the']\n",
      "--------------------------------------------------\n",
      "Image Name       : ['test_278.jpg']\n",
      "\n",
      "Correct Caption  :   ['A black vehicle with rain on it.  The inside of the car has black interior  A bird is sitting by the window.  The bird is white on top and with wings and tail are light blue.  The bird is looking into the mirror.  There is a bush on side of the car with purple flowers on it.']\n",
      "\n",
      "Predicted Caption:  ['the image is of a fire hydrant. there is a blue <UNK> tunnel attached to the hydrant. the hydrant is attached to a black car. the letters on top of the car are silver. the part of the car door is open. the window']\n",
      "--------------------------------------------------\n",
      "Image Name       : ['test_279.jpg']\n",
      "\n",
      "Correct Caption  :   ['A large barn is surrounded by wooden and metal fences. In front of the barn is a paved street. The roof of the barn is grey and the walls are painted white. The doors are bright white. There are many pastures surrounding the barn.']\n",
      "\n",
      "Predicted Caption:  ['a large semi building has a yellow flower on it. there is a black and white dog standing on the grass in front of the building. there is a large white house on the ground in front of the building.']\n",
      "--------------------------------------------------\n",
      "Image Name       : ['test_280.jpg']\n",
      "\n",
      "Correct Caption  :   ['A single red bench sits on the brick patio near the water. There is a short wall at the end of the patio, looking out over the water. The water spans as far as the eye can see, and is a bright blue. The sky is light blue above the water. There are dark shadows cast on the patio from unseen objects as well as from the bench.']\n",
      "\n",
      "Predicted Caption:  ['a wooden park bench with cement sides is empty , and looking out on the ocean. it is set in a sandy area , a d there are several rocks in front of that make up a low wall. the ocean water is blue green , and']\n",
      "--------------------------------------------------\n",
      "Image Name       : ['test_281.jpg']\n",
      "\n",
      "Correct Caption  :   ['There is a white and yellow train with red doors next to a red and yellow train. They are on top of the railroad tracks. There is a brick walkway next to the trains. ']\n",
      "\n",
      "Predicted Caption:  [\"the train is pulling into the station. the orange lights on the front of the train are on. the train is yellow at the bottom and burnt burgundy at the top. the platform is lit up with lights. there 's a train on the platform\"]\n",
      "--------------------------------------------------\n",
      "Image Name       : ['test_282.jpg']\n",
      "\n",
      "Correct Caption  :   ['A man is standing on a field. The turf is green. It is night time. He is dressed in pants and a long sleeve shirt. He also has a winter hat on. He just got done throwing a Frisbee in the air. In back of him is a white brick wall and a blue trash can. ']\n",
      "\n",
      "Predicted Caption:  ['a man in a teal shirt and white shorts is standing on a soccer field. a white soccer goal is standing behind the man. there are trees lined up around the man watching the game. there is a large green wall behind the man standing beside']\n",
      "--------------------------------------------------\n",
      "Image Name       : ['test_283.jpg']\n",
      "\n",
      "Correct Caption  :   ['A bricked sidewalk is showing little action. The gray brick sidewalk lines a red brick building. The building contains a street light at the top of the wall. There is also a sign on the wall that reads Copper Alley Nite Club Now Open, with a black double door for its entrance. On the sidewalk is a pole that has a no parking sign. There are two bicycles parked against the silver pole.']\n",
      "\n",
      "Predicted Caption:  ['this photo is taken outside on a cloudy day. a bike is leaning against a brown building that is standing behind a sidewalk. a sign is hanging from the top of the building. a tall leafless tree is standing on the sidewalk. a row of']\n",
      "--------------------------------------------------\n",
      "Image Name       : ['test_284.jpg']\n",
      "\n",
      "Correct Caption  :   ['A man with skis is skiing up a hill with ski poles. The slope is white and smooth and the sky is cloudy and grey. There are skinny pine trees in front of the skis. The skier is wearing a black jacket and a red and black backpack. His ski pants are grey. ']\n",
      "\n",
      "Predicted Caption:  ['a man is snow boarding down a mountain in the picture.   the ground is completely covered in snow.   the ground is completely covered in snow.   the <UNK> is wearing a grey coat , green and yellow winter jacket.   a pair of']\n",
      "--------------------------------------------------\n",
      "Image Name       : ['test_285.jpg']\n",
      "\n",
      "Correct Caption  :   ['The back of a stop sign on a pole is at the intersection of 13th Street and an unknown avenue at dusk. Six power lines run from a building in the distance. The windows on the building are small and high privacy windows.']\n",
      "\n",
      "Predicted Caption:  ['a bunch of signs are located on street pole. the pole appears to be in a downtown setting. two of the signs are green and one is black and white. the sky is completely filled by a cloud.']\n",
      "--------------------------------------------------\n",
      "Image Name       : ['test_286.jpg']\n",
      "\n",
      "Correct Caption  :   ['There is a black bear sitting in a green chair. There is a woman in a blue shirt and a man in a pink shirt kneeling behind the chair. There is a silver fence behind them. ']\n",
      "\n",
      "Predicted Caption:  ['a man in a blue shirt is sitting on a bench. the man is wearing blue sandals on his <UNK>. the man behind him is wearing a red shirt and is full <UNK>. there is a black skateboard in front of the man on the phone']\n",
      "--------------------------------------------------\n",
      "Image Name       : ['test_287.jpg']\n",
      "\n",
      "Correct Caption  :   ['The picture is of a baseball team and the coaches together. They have old style uniforms on. In front of the row of players there are baseball bats on the ground. The picture was taken out in a open field.']\n",
      "\n",
      "Predicted Caption:  ['the image is of seven players playing in a stadium. the girls at the two team wearing white uniforms have uniforms that <UNK> across them. the men on the <UNK> are wearing uniforms , uniforms and <UNK> on their faces. the three men in the back']\n",
      "--------------------------------------------------\n",
      "Image Name       : ['test_288.jpg']\n",
      "\n",
      "Correct Caption  :   ['a plane is flying in the sky. the plane is very white in color. there is a logo on the tail. the logo is in the shape of a leaf.']\n",
      "\n",
      "Predicted Caption:  ['a plane is sitting on the runway. the plane is white and blue. the logo is on the tail. the plane is white and blue.']\n",
      "--------------------------------------------------\n",
      "Image Name       : ['test_289.jpg']\n",
      "\n",
      "Correct Caption  :   ['Four people wearing old-fashioned clothing stand posing in front of the camera. They are in a large building with a bright ceiling, and there is a black train behind them. There are two men on either side of two women. The man on the far left has a black suit, black shoes, and a black top hat. The woman to his right is wearing a white, pink, and green dress, with a white hat, and a broach pinned to her chest. She is holding a white satchel in her white-gloved hands. The woman next to her is also wearing white gloves and holding a white satchel. This woman has a green dress on, with lace on the trim. The man next to her is wearing a checkered vest underneath a dark long coat and dark pants. He has a black top hat. ']\n",
      "\n",
      "Predicted Caption:  ['a group of people are standing on a train platform in an underground subway.   the people are all facing and looking at a train traveling toward them on a dark colored walkway.   people are walking about in the distance.   the buildings are rectangular']\n",
      "--------------------------------------------------\n",
      "Image Name       : ['test_290.jpg']\n",
      "\n",
      "Correct Caption  :   ['a bunch of birds are on the ocean shore. the shore is very shallow. the birds are white in color. you can see their reflections in the wet sand.']\n",
      "\n",
      "Predicted Caption:  ['a body of water with some small waves in it. there is a small wave in the water. there is a bird flying in the sky near the water. there is a flag on the beach. the bird has its wings stretched out and has']\n",
      "--------------------------------------------------\n",
      "Image Name       : ['test_291.jpg']\n",
      "\n",
      "Correct Caption  :   ['There are wooden cabinets on the wall above a wooden counter. There is a window above the counter with white curtains on it. There are red peppers hanging from a white planter on the ceiling.']\n",
      "\n",
      "Predicted Caption:  ['a wooden table has chairs sitting around it. there is a white bowl in front of the table. there are bottles and chairs sitting on top of the table.']\n",
      "--------------------------------------------------\n",
      "Image Name       : ['test_292.jpg']\n",
      "\n",
      "Correct Caption  :   ['Two men are jumping in the air trying to catch a frisbee. The frisbee is white. There is a house behind them with some trees in front of it.']\n",
      "\n",
      "Predicted Caption:  ['a man in a blue shirt and a little red tie is catching a frisbee in the air.   the man is playing frisbee in a blue and white ball.   the man is playing in the air with a frisbee in one hand and a woman']\n",
      "--------------------------------------------------\n",
      "Image Name       : ['test_293.jpg']\n",
      "\n",
      "Correct Caption  :   ['A cat is lounging on a flat screen TV.  The cat has white paws.  The TV is mounted on the wall.  A bed is reflected on the screen of the TV.']\n",
      "\n",
      "Predicted Caption:  ['a television is hanging from the wall. the television is turned on. there is a black and white cat sitting on top of the table. there is a black lamp in front of the television.']\n",
      "--------------------------------------------------\n",
      "Image Name       : ['test_294.jpg']\n",
      "\n",
      "Correct Caption  :   ['There is a man in a yellow shirt riding on top of a brown horse. There is rope in his hands and he is trying to rope a white cow. There is a wood fence behind the man.']\n",
      "\n",
      "Predicted Caption:  ['a large - horse is walking on a dirt field on a sunny day. a man in dark blue jeans is riding a bike towards the back of the object. the horse is in front of a large body of water. the front of the horse']\n",
      "--------------------------------------------------\n",
      "Image Name       : ['test_295.jpg']\n",
      "\n",
      "Correct Caption  :   ['There are several people sitting on bicycles. They are on a beach and there is water behind them. A lady in a yellow shirt is standing next to a bike. ']\n",
      "\n",
      "Predicted Caption:  ['three people are standing on a beach. they are all holding umbrellas. the ground is covered by sand and there are some trees on the side of the hill. the sky is blue with white clouds. the sand is a light tan color. there']\n",
      "--------------------------------------------------\n",
      "Image Name       : ['test_296.jpg']\n",
      "\n",
      "Correct Caption  :   ['A wooden table is next to a white stove. On the table are an apple, a pomegranate, a plastic container with brown food items, a container with cooking utensils and several other food related items. The tiles behind the table are beige and brown. ']\n",
      "\n",
      "Predicted Caption:  ['a stainless steel bowl with many different items is in it. there are many plates and bowls in a dark <UNK> island. there are <UNK> and <UNK> all over the wooden cutting board. there are two rolls , one larger and two of butter. the']\n",
      "--------------------------------------------------\n",
      "Image Name       : ['test_297.jpg']\n",
      "\n",
      "Correct Caption  :   ['A girl in a purple and black shirt sits at a table in front of a plate. On the round yellow plate there is a slice of pizza with macaroni on top of it, and a long handled silver fork. the table is wooden with a white pebbled section n the middle. Near the camera there is a green water bottle. ']\n",
      "\n",
      "Predicted Caption:  ['a person has two slices of pizza on a paper plate. the plate is on a table. he has two forks and two knives. there is another plate of pizza also on the table. there is also a drink and a beer with a little']\n",
      "--------------------------------------------------\n",
      "Image Name       : ['test_298.jpg']\n",
      "\n",
      "Correct Caption  :   ['This image is of a bench sitting along what appears to be a paved walkway.  There is a area of grass behind the bench that has small red flowers blooming in it.  In the background are trees and 2 bright red double decker buses.  you can also see some city building in the far distance.']\n",
      "\n",
      "Predicted Caption:  ['a bench is sitting on the grass. there is a park behind the bench. the bench is black in color. there are trees around the bench.']\n",
      "--------------------------------------------------\n",
      "Image Name       : ['test_299.jpg']\n",
      "\n",
      "Correct Caption  :   ['A young man flying through the air on a skateboard. The skateboard is gray in color. The young man on the skateboard is wearing gray pants and a white shirt. There is a crowd watching the young man on the skate board. There is a wall separating the man from the crowd. ']\n",
      "\n",
      "Predicted Caption:  ['a little boy is standing above the ramp. the boy is wearing a helmet. the helmet is white. the boy is wearing a helmet. the helmet is black. the boy is wearing a helmet. the helmet is black. the boy is wearing']\n",
      "--------------------------------------------------\n",
      "Image Name       : ['test_300.jpg']\n",
      "\n",
      "Correct Caption  :   ['A plane that is red and blue is flying in the air. There are several white clouds behind the plane. There is a white stripe on the plane. ']\n",
      "\n",
      "Predicted Caption:  [\"this photo is taken in the sky. a person is flying a small red and white airplane. the plane has two large red wings. there is a clear glass above the person 's head that is attached to the plane. the sky is filled with\"]\n",
      "--------------------------------------------------\n",
      "Image Name       : ['test_301.jpg']\n",
      "\n",
      "Correct Caption  :   ['A man is in a blue shirt and jean overalls. He is wearing a white and black hat on his head. There is a white refrigerator in front of him. There are white trucks behind him. ']\n",
      "\n",
      "Predicted Caption:  ['a man is standing in front of a sink in a kitchen. he is wearing a blue and white striped shirt and a white apron. the man is standing in front of a counter that has two towels on it. a black and white cat is']\n",
      "--------------------------------------------------\n",
      "Image Name       : ['test_302.jpg']\n",
      "\n",
      "Correct Caption  :   ['There is a large brown dog standing next to a woman. The woman is holding a blue frisbee in her hand. There is also another person standing next to the dog. ']\n",
      "\n",
      "Predicted Caption:  ['a woman is standing outside on a grassy field with two girls. the woman is wearing a short sleeve shirt and jean shorts. the woman is wearing a white tank top and black and white shoes. a dog is sitting on the side of the truck']\n",
      "--------------------------------------------------\n",
      "Image Name       : ['test_303.jpg']\n",
      "\n",
      "Correct Caption  :   ['a little girl is eating a slice of pizza. she is holding it in her hands. the pizza is pepperoni. The table is blue and there is a red plate on the table beside a plastic white fork. the kid is wearing a bib which is white in color and there is a mess on top of the table. ']\n",
      "\n",
      "Predicted Caption:  ['a little boy is sitting down at a table eating from an orange dish with a spoon. the table has white curtains and is in a pink blanket on the table. on the table are small <UNK> and five <UNK> <UNK>. the boy has blue <UNK>']\n",
      "--------------------------------------------------\n",
      "Image Name       : ['test_304.jpg']\n",
      "\n",
      "Correct Caption  :   ['A man is wearing a black cap and jumping off of a skateboard. The skateboard is green and red. There is a red brick building behind the person.']\n",
      "\n",
      "Predicted Caption:  ['a man is skateboarding outside on a sunny day. the skateboard is black. the man is wearing a brown jacket , black pants , and black sneakers. the skateboard is black as well. the man is holding a skateboard in his hand , while the']\n",
      "--------------------------------------------------\n",
      "Image Name       : ['test_305.jpg']\n",
      "\n",
      "Correct Caption  :   ['a kite is in the sky. the kite is light blue in color. people are flying the kites. the sky is very blue and has wispy clouds in the sky.']\n",
      "\n",
      "Predicted Caption:  ['a woman is standing on a beach flying a kite in the air.   the kite is black and large.   the kite is white , pink and blue.   it is flying high in the sky , under the kites.   the waves are']\n",
      "--------------------------------------------------\n",
      "Image Name       : ['test_306.jpg']\n",
      "\n",
      "Correct Caption  :   ['A little girl with a brown hat on and she has long hair underneath the hat.  She is wearing a blue and pink top that is a little off her shoulder .  She is eating a piece of cake out of her hands her fingers have cartoon character wrapped around them and a person in black clothing is sitting on the right side of her.']\n",
      "\n",
      "Predicted Caption:  ['a baby is eating a pizza. the baby is wearing a blue crown shape hat on its head. someone is holding the pizza. the wall behind the baby is green.']\n",
      "--------------------------------------------------\n",
      "Image Name       : ['test_307.jpg']\n",
      "\n",
      "Correct Caption  :   ['Some planes sit on the ground. The ground is covered in mostly green grass. The plane in the front is mostly silver with some red and black signs. There is a black plane and a red plane behind it. Many tall trees are behind the planes. The sky above is blue. There are no clouds in the sky. ']\n",
      "\n",
      "Predicted Caption:  ['a small airplane is flying in the air. the plane has a blue stripe down the side of it. there are black tires on the bottom of the plane.']\n",
      "--------------------------------------------------\n",
      "Image Name       : ['test_308.jpg']\n",
      "\n",
      "Correct Caption  :   ['A hot rod truck sits in a parking lot.  A surfboard is resting on top.  The truck is antique looking.  It has fancy wheels with fenders.  The hood has exhaust pipes sticking out.  The truck bed is covered up.  The truck is painted black.  A modern conventional car is parked nearby.']\n",
      "\n",
      "Predicted Caption:  ['the truck is green. the trucks has windows on it. there is a headlight on the green truck. the truck is black and has silver writing. there is a small door on the back of the truck that is yellow.']\n",
      "--------------------------------------------------\n",
      "Image Name       : ['test_309.jpg']\n",
      "\n",
      "Correct Caption  :   ['A person stands, wearing a wetsuit, on a surfboard surfing in the waves of the ocean. While another surfer sits on the surfboard looking on at the surfer. Two heads can be seen bobbing in the distance behind the ocean wave. A concrete pillar is in the foreground of the beach.']\n",
      "\n",
      "Predicted Caption:  ['this is an image of some waves. the waves are pretty big. the water is gray and white. the crest of the waves are white. the man is <UNK>. the man is on a surfboard. the surfboard has a large white and red']\n",
      "--------------------------------------------------\n",
      "Image Name       : ['test_310.jpg']\n",
      "\n",
      "Correct Caption  :   ['A man in an elaborate blue, red and gold eastern style costume is standing in front of a stand on which two large brown bears are on four paws and appear to be kissing the man on his cheeks. Behind them is a cloth with has small bears and trees painted on it. A large large with rope on it is in front of them.']\n",
      "\n",
      "Predicted Caption:  ['a bear is laying on top of a large gray boulder. the bear is a light brown and gray color with a brown nose. the bear has a black nose and some ears. the bear has a white nose. there is a clear wall behind']\n",
      "--------------------------------------------------\n",
      "Image Name       : ['test_311.jpg']\n",
      "\n",
      "Correct Caption  :   ['A red fire hydrant is in the dirt. There are green bushes all around the hydrant. There is a brown leaf on the ground in front of the hydrant. ']\n",
      "\n",
      "Predicted Caption:  ['fire hydrant on the grass. the grass has been cut short. the grass is very green and healthy looking. the fire hydrant is yellow. the top of the fire hydrant is blue. there are no cars on the street. the pavement on the']\n",
      "--------------------------------------------------\n",
      "Image Name       : ['test_312.jpg']\n",
      "\n",
      "Correct Caption  :   ['Two people are sitting next to each other at the table. On the table are drinks and many dishes of various foods. In the middle of the table is a cutting board with a whole pizza on it. ']\n",
      "\n",
      "Predicted Caption:  ['this photo was taken in a restaurant. the walls a made of wood <UNK> and the bench is built into the wall. the table is also wood along with some of the place mats. there are plate all over the table. in the center of']\n",
      "--------------------------------------------------\n",
      "Image Name       : ['test_313.jpg']\n",
      "\n",
      "Correct Caption  :   ['A parade is going down the street in a town in a residential area. There are there police officers on motorcycles in the front, and behind them there is a police car. People are standing on the sidewalk watching as the parade goes by.']\n",
      "\n",
      "Predicted Caption:  ['there are two yellow motorcycles on the street. the people riding the motorcycles are wearing a yellow jacket and a white helmet. there are people standing behind a fence. there is a green trashcan on a pole behind them.']\n",
      "--------------------------------------------------\n",
      "Image Name       : ['test_314.jpg']\n",
      "\n",
      "Correct Caption  :   ['A man in a black t-shirt, black leather vest, and blue jeans is sitting on a dark red Kawasaki motorcycle with a USA flag on the back. The rider is wearing a helmet with a design painted on it, and looking off to his left. On the left of him there is a white car in front. And there is a gray car behind him. There are two trucks and two cars going the opposite direction on the left of the street.']\n",
      "\n",
      "Predicted Caption:  ['a white and blue motorcycle is driving on asphalt. the man is wearing a blue and white helmet. there is a red and white painted line on the side of the street.']\n",
      "--------------------------------------------------\n",
      "Image Name       : ['test_315.jpg']\n",
      "\n",
      "Correct Caption  :   ['There is a large gray plane with people standing next to it. There is a person in a blue shirt next to the plane. There are cars next to the plane. ']\n",
      "\n",
      "Predicted Caption:  ['a plane is parked on the tarmac. the plane is white in color. the plane has a blue tail that is very clean and <UNK>. there is a lot of smoke coming from the <UNK> to the left of the plane.']\n",
      "--------------------------------------------------\n",
      "Image Name       : ['test_316.jpg']\n",
      "\n",
      "Correct Caption  :   ['A white and brown building is in front of a brick sidewalk. There is a person standing behind a silver table. There is a yellow cart in front of the window on the building. ']\n",
      "\n",
      "Predicted Caption:  ['this is an image of a stairway. the stairs are lined up on the ground. the sidewalk is made up of gray wood. the sidewalk is dark gray. there is a large black and white bike parked on the street. the sidewalk by the']\n",
      "--------------------------------------------------\n",
      "Image Name       : ['test_317.jpg']\n",
      "\n",
      "Correct Caption  :   ['An old steam locomotive is chugging down the tracks through a wooded area. There is a steamstack on it that has smoke billowing from it. The train has many open windows and it is filled with people.']\n",
      "\n",
      "Predicted Caption:  ['a large black train is on the train tracks. there is a bridge behind them. there is a red and yellow train on the tracks next to the train.']\n",
      "--------------------------------------------------\n",
      "Image Name       : ['test_318.jpg']\n",
      "\n",
      "Correct Caption  :   ['A flat screen computer is positioned on a contemporary desk.  There is a flexible desk lamp to the side.  On the opposite side is a set of speakers.  On the front left edge is a large pair of headphones hanging from the corner.  An ergonomic office chair is in front of the computer and facing a red wall.']\n",
      "\n",
      "Predicted Caption:  ['there is a wooden desk with a computer monitor on it. there is a silver laptop sitting next to it. there is a white keyboard in front of the computer. there is a white keyboard mouse next to the keyboard on the desk. there is']\n",
      "--------------------------------------------------\n",
      "Image Name       : ['test_319.jpg']\n",
      "\n",
      "Correct Caption  :   ['There is a wood fence with bushes and trees in front of them. There is a large brown cow behind the fence. The cow is standing in a field of grass. The sky is blue and there are no clouds in the sky. ']\n",
      "\n",
      "Predicted Caption:  ['a brown and white cow standing in a field. the field is <UNK> of green grass and yellow flowers. there are many foot hills off in the distance. there are many other cows also standing in the field. there are many bushes behind the cows']\n",
      "--------------------------------------------------\n",
      "Image Name       : ['test_320.jpg']\n",
      "\n",
      "Correct Caption  :   ['There is a black steel fence with a white and black sign on the front of it. There is a yellow and orange building behind the fence. There is a brick building next to them. ']\n",
      "\n",
      "Predicted Caption:  ['a black pole has two white street signs on it reading \" <UNK> \" and \" <UNK> <UNK> \". there are bushes surrounding the pole , on the right a pointy leafy like bush , and the left a bush with red flowers. the pole is at']\n",
      "--------------------------------------------------\n",
      "Image Name       : ['test_321.jpg']\n",
      "\n",
      "Correct Caption  :   [\"Two birds stand next to each other.  The birds seem to be of the same species, only male and female.  One bird has an elaborate growth coming from the top of its head.  Its head is black with white stripes.  The other bird's head does not have a growth or any stripes.  The birds are standing on flat ground next to some green grass.\"]\n",
      "\n",
      "Predicted Caption:  ['three tall trees are standing on a sidewalk near a large tree. the tree on the left is brown and large , and the one in the foreground is yellow. the sky above is a dark gray and pink.']\n",
      "--------------------------------------------------\n",
      "Image Name       : ['test_322.jpg']\n",
      "\n",
      "Correct Caption  :   ['There are two zebras standing on dirt. They are both facing away in the same direction. There are several bushes on the ground next to them. ']\n",
      "\n",
      "Predicted Caption:  ['this picture was taken outdoors of a field. in the field is a zebra in the middle. the zebra is facing towards the left. the field is large and covered with brownish dry dead grass. there are a lot of green trees in the background']\n",
      "--------------------------------------------------\n",
      "Image Name       : ['test_323.jpg']\n",
      "\n",
      "Correct Caption  :   ['The image contains a bed with an intricately carved headboard and foot board.  A flowery blanket covers the bed along with two pillows.  A blue piece of material is draped over the foot board.  Two gold-framed mirrors of differing sizes are standing against the wall.']\n",
      "\n",
      "Predicted Caption:  ['a bedroom with a large bed inside of it. the bed has a red blanket with flowers on it. there is a large white curtain over the side of the bed. there is a picture hanging on the wall behind the bed. there is a']\n",
      "--------------------------------------------------\n",
      "Image Name       : ['test_324.jpg']\n",
      "\n",
      "Correct Caption  :   ['a train is on the tracks. the train is red in color. the tracks are black in color. there is nobody on the platform. there is a sign above the platform.']\n",
      "\n",
      "Predicted Caption:  ['two red trains are side by side at a station. there are people standing on the platform. there is signs on the ceiling above the platform.']\n",
      "--------------------------------------------------\n",
      "Image Name       : ['test_325.jpg']\n",
      "\n",
      "Correct Caption  :   ['A rear view mirror on a car. It is black around the rim. There is a white and gray dog in the reflection of the mirror. There is a large tree in front of them.']\n",
      "\n",
      "Predicted Caption:  ['there is a mirror on the side of a car. there is a cat on the top of the car. the trees are in the background. the tree is brown and has some brown <UNK> leaves. there are some <UNK> that are painted on the']\n",
      "--------------------------------------------------\n",
      "Image Name       : ['test_326.jpg']\n",
      "\n",
      "Correct Caption  :   ['There is a man sitting at a table wearing a green shirt and a gray jacket. There is a pizza on the table in front of him on a wood serving board. There is a salad and a sandwich on a plate on the table. ']\n",
      "\n",
      "Predicted Caption:  ['a woman with light brown hair is sitting at a table in front of an empty plate. in front on the table is two dishes of veggies , a pizza and two <UNK> jars full of water. there are other people in the background.']\n",
      "--------------------------------------------------\n",
      "Image Name       : ['test_327.jpg']\n",
      "\n",
      "Correct Caption  :   ['A man is presenting a woman with some desert. There is some cheesecake and icecream with a candle. They are in a very nice restaurant and they are both smiling.']\n",
      "\n",
      "Predicted Caption:  ['in a kitchen there is a man holding a glass in a kitchen. the man has dark colored hair and a gray beard. there is a man in glasses with a blue shirt standing in front of the garbage can. there are lights hanging from the']\n",
      "--------------------------------------------------\n",
      "Image Name       : ['test_328.jpg']\n",
      "\n",
      "Correct Caption  :   [\"The sun's rays are shinning through the trees in the back ground. The trees are tall and they produce a lot of shade. There is a white table in the foreground. On the white table is a zip lock bag. In the bag is three or four rolls of what appears to be some kind of processed meat. The meat are in rolls such as what you would expect bologna or sausage to be.\"]\n",
      "\n",
      "Predicted Caption:  ['a pile of silverware sits on a <UNK> pan on a table.   there are also two yellow <UNK> sitting on top of the <UNK>.   a <UNK> of water is in the foreground and a red tray in the back.   a small black <UNK>']\n",
      "--------------------------------------------------\n",
      "Image Name       : ['test_329.jpg']\n",
      "\n",
      "Correct Caption  :   ['The room is being finished. There are bare walls. There is no sheetrock. The bath tub is white. It is just sitting in place. The wood beams are thin. ']\n",
      "\n",
      "Predicted Caption:  ['the room has two <UNK> in the window. the sink is white and the walls are tan. the shower curtain is floral patterned. the walls in the bathroom are white. there are two <UNK> on the wall.']\n",
      "--------------------------------------------------\n",
      "Image Name       : ['test_330.jpg']\n",
      "\n",
      "Correct Caption  :   [\"A person is riding on a skateboard. The skateboard is black with yellow wheels. The person's shoes are black with green socks. Pants are black. Two hands are hanging by the side of the body. The ground is nicely tiled with a sort of brick.\"]\n",
      "\n",
      "Predicted Caption:  ['a person is standing on a skateboard. they are jumping onto a railing. there are people standing on the sidewalk next to the railing looking at them.']\n",
      "--------------------------------------------------\n",
      "Image Name       : ['test_331.jpg']\n",
      "\n",
      "Correct Caption  :   ['A white polar bear is relaxing in water. The water is blue and calm. The polar bears back paw is sticking out of the water. The paw has black padding. The water is enclosed by a rock like wall. The polar bear has closed eyes. The mouth is in a frown. ']\n",
      "\n",
      "Predicted Caption:  [\"a white polar bear is lying on the cement ground. the bear looks a bit <UNK> with its front legs down by its side. there is some blue material on the ground near the bear. it is <UNK> the outside of the bear 's head.\"]\n",
      "--------------------------------------------------\n",
      "Image Name       : ['test_332.jpg']\n",
      "\n",
      "Correct Caption  :   ['There is a road that has sheep standing on it. There is a person riding a bicycle going down the road in front of them. There is tall grass and trees around the road. ']\n",
      "\n",
      "Predicted Caption:  ['a lot of sheep are grazing on the ground. the ground is dirt and around the dirt is grass. the grass is green and short. there are many sheep and they all have white fur. the fur on them is long. there are more']\n",
      "--------------------------------------------------\n",
      "Image Name       : ['test_333.jpg']\n",
      "\n",
      "Correct Caption  :   ['three kids are all standing outside in the grass. they are all holding bats and balls. the bat is red in color. the ball is white.']\n",
      "\n",
      "Predicted Caption:  ['this picture is taken outside on a sunny day. a man is standing on a grassy field. he is wearing a short sleeve shirt , pants and a baseball cap. a baseball bat is in his hands. a large home can be seen standing against']\n",
      "--------------------------------------------------\n",
      "Image Name       : ['test_334.jpg']\n",
      "\n",
      "Correct Caption  :   ['A lady is holding her phone and sitting with her legs crossed. She has a gray flip phone. She is wearing a brown tank with some short white shorts. She has blond hair and sunglasses on the top of her hair and she is in a building that has a lot of wooden furniture.']\n",
      "\n",
      "Predicted Caption:  ['a woman is sitting at a table wearing a white <UNK> dress and a green neck tie around her neck. she is sitting on a table that has a glass of beer and other objects on it. there is a glass plate on the table in front']\n",
      "--------------------------------------------------\n",
      "Image Name       : ['test_335.jpg']\n",
      "\n",
      "Correct Caption  :   ['A large swimming pool is free of people swimming. The light blue pool is decorated on the bottom with three blue triangles and a curvy stripe. People stand around the pool by a few white tents set up on the far end of the pool. A set of stairs leads into the pool. The stairs have a metal railing.']\n",
      "\n",
      "Predicted Caption:  ['there is a large pool of water. there is a man sitting on a small gray chair in front of the benches. he is wearing a white hat and is sitting on a wooden bench.']\n",
      "--------------------------------------------------\n",
      "Image Name       : ['test_336.jpg']\n",
      "\n",
      "Correct Caption  :   ['The view is an industrial area of a city and is under construction. To the right is a business with a yellow and blue billboard. In addition there is a flagpole with an American flag adjacent to the building. There are several vehicles in a parking lot in front of the business. To the left is a construction site that is fenced and barricaded off from the street. A tall, blue crane stretches into the blue, cloudy sky. In the foreground a stop sign with a sticker under the silver letters stands on a street corner. The sign casts a dark shadow on the sidewalk behind it.']\n",
      "\n",
      "Predicted Caption:  ['a stop sign is red with white letters. under the stop sign is a sign saying \" two way traffic \" , this sign is white with black letters. the two signs are on the same pole. behind the sign are trees and a house.']\n",
      "--------------------------------------------------\n",
      "Image Name       : ['test_337.jpg']\n",
      "\n",
      "Correct Caption  :   ['A room with a lot of machine in it.  Some of the machines are silver and some of white.  The floor is black and shiny.  The wall in the room are white.  There is writing on top of the silver machines and black dials on top of the white machines.']\n",
      "\n",
      "Predicted Caption:  ['the room has many shelves in it. the appliances are white. the door is open and the lid is closed. there are a lot of empty items in the kitchen.']\n",
      "--------------------------------------------------\n",
      "Image Name       : ['test_338.jpg']\n",
      "\n",
      "Correct Caption  :   ['Two children are posing for a camera in the snow.  The boy is standing on skis with a blue helmet and a snow jacket.  The girl has a graphic designed ski jacket and blue helmet.  There is a ski lift on the right side of the mountain.  Trees and mountains are seen in the distance.']\n",
      "\n",
      "Predicted Caption:  ['there are people standing on a hill of snow. there are tracks in the snow around them. they are standing on top of snow boards. they have white jerseys with numbers on them. there are trees in the snow behind them. there is a']\n",
      "--------------------------------------------------\n",
      "Image Name       : ['test_339.jpg']\n",
      "\n",
      "Correct Caption  :   ['there is a plane in the air. it is a green military plane. it has really shorts wings. the tail wings are also small. it has propellers on the front. it is being surrounded by clouds. the sky is very blue.']\n",
      "\n",
      "Predicted Caption:  ['a <UNK> jet <UNK> through the air.   the jet has markings on it <UNK> a <UNK> plane.   the sky is dark and gray.']\n",
      "--------------------------------------------------\n",
      "Image Name       : ['test_340.jpg']\n",
      "\n",
      "Correct Caption  :   ['A cat is black and white. It has a pink mouth and white whiskers. It is looking up. The cat is laying in green grass. The ears of the cat are pointing up.']\n",
      "\n",
      "Predicted Caption:  ['a cat is laying on the floor. there is a cat laying on the floor. there is a black dresser in front of the cat.']\n",
      "--------------------------------------------------\n",
      "Image Name       : ['test_341.jpg']\n",
      "\n",
      "Correct Caption  :   ['Many narrow kayaks sit in the water. They are all bright colors.The water is still and flat. Next to the water is a fence. There is a bridge over part of the water. There are many trees next to the water. A tree branch covers some of the boats. There are the reflections of many trees in the water. The sky above is clear.']\n",
      "\n",
      "Predicted Caption:  ['boats are sitting in water that is a bright green color. the water is calm. there are lush green trees on the other side of the body of water. the boats are painted blue and white , some have red dots on them , one other']\n",
      "--------------------------------------------------\n",
      "Image Name       : ['test_342.jpg']\n",
      "\n",
      "Correct Caption  :   ['A group of animals is gathered in a field. There are elephants and rhinoceroses standing together near a watering hole. There are both younger and older animals here together. Some of the elephants are caked with mud after being in the water.  The rhinoceroses are walking toward the water while the elephants are facing the direction the rhinos are walking from. The elephants have large flapped ears and long trunks. The water hole is surrounded by tall green grass and trees with many green leaves on them.']\n",
      "\n",
      "Predicted Caption:  ['a herd of elephants are all <UNK> together. there are baby elephants and adult elephants all together in the green grass plain. the elephants have long trunks and floppy ears.']\n",
      "--------------------------------------------------\n",
      "Image Name       : ['test_343.jpg']\n",
      "\n",
      "Correct Caption  :   ['A man is taking a selfie in the mirror. He has on a black suit with a orange shirt. His tie is green and white. The bathroom has very dim lighting.']\n",
      "\n",
      "Predicted Caption:  ['a black and white cat is sitting on the top of a toilet seat. the toilet is white and there is a black nose to the right of the toilet. on the wall there is a white toilet paper and a bunch of toilet brush on the']\n",
      "--------------------------------------------------\n",
      "Image Name       : ['test_344.jpg']\n",
      "\n",
      "Correct Caption  :   ['A woman in a blue shirt is standing on the sidewalk. There is a hot dog in her hands and she is taking a bite out of it. There are people walking on the sidewalk behind her. ']\n",
      "\n",
      "Predicted Caption:  ['a man is standing outside of a restaurant. he is holding a silver mobile hand and a drink in his mouth. the man is wearing a long sleeve shirt , black pants , and a black watch. the man is holding a white container in his']\n",
      "--------------------------------------------------\n",
      "Image Name       : ['test_345.jpg']\n",
      "\n",
      "Correct Caption  :   ['A hot dog is sitting on a white piece of paper. There are chopped onions on top of the hot dog. There is mustard on top of the hot dog. ']\n",
      "\n",
      "Predicted Caption:  ['this image is a close up view of a half eaten hot dog.   half of the hotdog is visible and has dark marks from being cooked.   on top of the hot dog is a line of ketchup and a line of mustard.   there']\n",
      "--------------------------------------------------\n",
      "Image Name       : ['test_346.jpg']\n",
      "\n",
      "Correct Caption  :   ['a toilet is in the ground. the toilet is bright white. there is a bowl in water in front of the toilet. the bathroom is made of cement.']\n",
      "\n",
      "Predicted Caption:  ['this is a bathroom with a lot of decorations. the wall is a yellow color with a big white and blue picture. the sink is ceramic and white and sits on metal legs. there is a window or a toilet , a sink , and a']\n",
      "--------------------------------------------------\n",
      "Image Name       : ['test_347.jpg']\n",
      "\n",
      "Correct Caption  :   ['there is a motorcycle on a road. there are white lines on a road. a man is riding the motorcycle. the man is wearing red and black. he is also wearing a helmet. there are many people on the sidewalk.']\n",
      "\n",
      "Predicted Caption:  ['a white and black motorcycle is on the street. there are people standing around the motorcycles. there are people standing around the motorcycles watching the motorcycle.']\n",
      "--------------------------------------------------\n",
      "Image Name       : ['test_348.jpg']\n",
      "\n",
      "Correct Caption  :   ['A man is wearing a t shirt and jeans. He is jumping off of a skateboard. The man is wearing a white cap. There is a skating ramp behind the man. ']\n",
      "\n",
      "Predicted Caption:  ['a person is standing on top of a skateboard. they are on top of a black railing. the person is wearing black pants and blue shoes. the man has a blue shirt on.']\n",
      "--------------------------------------------------\n",
      "Image Name       : ['test_349.jpg']\n",
      "\n",
      "Correct Caption  :   ['Two donkeys are pulling a carriage. The donkies are wearing reigns. The reigns are black in color. There is a man pulling on the reigns. He is wearing a cowboy hat and blue jeans.']\n",
      "\n",
      "Predicted Caption:  ['this photo is taken outside on a busy road. many different vehicles are traveling on the road. large trees can be seen in the photo. part of a building can be seen in between the trees. a small green tree is sitting on the side']\n",
      "--------------------------------------------------\n",
      "Image Name       : ['test_350.jpg']\n",
      "\n",
      "Correct Caption  :   ['A white cat with black paws is standing on top of a parked car and standing at the camera. On the windshield of the car is the reflection of a building and the fluffy clouds in the sky. Behind the car there are two buildings and a gray car parked on the street.']\n",
      "\n",
      "Predicted Caption:  ['there is a mirror on the side of a street. there are two people on the sidewalk behind the two people. there is a man sitting on the sidewalk next to the cars.']\n",
      "--------------------------------------------------\n",
      "Image Name       : ['test_351.jpg']\n",
      "\n",
      "Correct Caption  :   ['a woman is on the phone. her phone is white. her hat has a bow on it. she is smiling at somebody. she is wearing neutral colors.']\n",
      "\n",
      "Predicted Caption:  ['a woman with dark hair and a red jacket and blue scarf is holding a flip phone on an advertisement. behind her is the image of <UNK> as she is being <UNK> into her <UNK> gown. she is wearing a white <UNK> and a black and white']\n",
      "--------------------------------------------------\n",
      "Image Name       : ['test_352.jpg']\n",
      "\n",
      "Correct Caption  :   ['A person is wearing a tan jacket. They have a brown backpack on their back and a gray scarf. They are holding a cell phone in their hands. There is a silver train in front of the person.']\n",
      "\n",
      "Predicted Caption:  ['a commuter train <UNK> up to a platform during the evening hours.   the train is orange in color and has one headlight <UNK> while the other headlight appears to be burned out.   the train bears the <UNK> <UNK> on its front and side.  ']\n",
      "--------------------------------------------------\n",
      "Image Name       : ['test_353.jpg']\n",
      "\n",
      "Correct Caption  :   ['There is a large elephant standing in the grass. There is a giraffe in front of the elephant. There are trees behind a fence in front of the animals. ']\n",
      "\n",
      "Predicted Caption:  ['there are two elephants standing in a zoo enclosure.   one of the elephants is larger than the other.   both of the elephants are standing on a dirt surface.']\n",
      "--------------------------------------------------\n",
      "Image Name       : ['test_354.jpg']\n",
      "\n",
      "Correct Caption  :   ['The sky is gray and cloudy. The clock tower is visible. The tower has compass on its top, and has two clock faces. Below of the tower is row of trees and a field. On the field a person is walking.']\n",
      "\n",
      "Predicted Caption:  ['a building is brown in color. there is a clock on the building. the clock has roman numerals on it. there is a clock on the top of it. there are many windows on the building. there are bushes in front of the building']\n",
      "--------------------------------------------------\n",
      "Image Name       : ['test_355.jpg']\n",
      "\n",
      "Correct Caption  :   ['a man is getting ready to ski down a mountain. he is wearing a really yellow jacket. his hat is red in color. there are two ski sticks in the ground. his skis are pointed forward. he is a happy man.']\n",
      "\n",
      "Predicted Caption:  ['a man is wearing a yellow jacket with a red stripe on the front of it. he is standing on red and black skis. he is standing on the snow. there are people behind the man.']\n",
      "--------------------------------------------------\n",
      "Image Name       : ['test_356.jpg']\n",
      "\n",
      "Correct Caption  :   ['A bed with a colorful quilt on it. The headboard on the bed is wooden. Next to the bed is a small table with a small lamp on it. ']\n",
      "\n",
      "Predicted Caption:  ['a large bed with white pillows and bedding is sitting in a room with a brown <UNK> throw pillow on top of it.   the headboard attached to the bed is orange and gold and separated into three panels.   there is a black headboard on the']\n",
      "--------------------------------------------------\n",
      "Image Name       : ['test_357.jpg']\n",
      "\n",
      "Correct Caption  :   ['A man is being shown laying on the side of a mountain. He has ski equipment. Behind him are very tall and sharp mountains and clouds in a very clear blue sky.']\n",
      "\n",
      "Predicted Caption:  ['a man is skiing down a hill. he is in mid air and has just hit a small ramp. his board is black , his jacket is brown and khaki , and he has on khaki <UNK>.']\n",
      "--------------------------------------------------\n",
      "Image Name       : ['test_358.jpg']\n",
      "\n",
      "Correct Caption  :   ['Two octagon-shaped waffles are in a pile on a floral bordered plate. There is a neat square of butter on top of the waffles. The waffles are slightly browned. Next to the plate is a bottle of syrup with a light colored label. The counter beneath the plate is a dark granite.']\n",
      "\n",
      "Predicted Caption:  ['there is a desert and two <UNK> on the table. there is also a tray of coffee. the plate is round and white with a blue and red floral top. there is a slice of fruit on top of the plate. there is a fork']\n",
      "--------------------------------------------------\n",
      "Image Name       : ['test_359.jpg']\n",
      "\n",
      "Correct Caption  :   ['The square sign is black white and blue. It has a white triangle has a icon of a person walking across the crosswalk. The sign is on top of a silver pole. Behind the sign is a stop sign and a paved street.']\n",
      "\n",
      "Predicted Caption:  ['a stop sign is being shown and there is pretty much no other <UNK> or <UNK> features located in this photograph. there is a red stop sign , with <UNK> on the top and bottom <UNK> it to the sign , the writing is white and the borders']\n",
      "--------------------------------------------------\n",
      "Image Name       : ['test_360.jpg']\n",
      "\n",
      "Correct Caption  :   ['A bunch of cars are driving in a snow storm. A couple of cars that are parked near the sidewalks are completely covered in snow. The signs are all covered and so are the houses.']\n",
      "\n",
      "Predicted Caption:  ['a street has a grey car driving on one side of the road. there are three cars on the street. one is blue and one is white. it is dark outside and there are trees on both sides.']\n",
      "--------------------------------------------------\n",
      "Image Name       : ['test_361.jpg']\n",
      "\n",
      "Correct Caption  :   ['I see a wooden table with broccoli, onions and carrots on top of it. There is also a sharp kitchen knife next to the carrots. The broccoli carrots and onions appears to be chopped.']\n",
      "\n",
      "Predicted Caption:  [\"in a kitchen there 's a brown wooden cutting board with a sharp knife and vegetables ready to be sliced. there are white onions , dark green broccoli and some orange and red peppers. some of the onions have already been <UNK> by the <UNK> of the\"]\n",
      "--------------------------------------------------\n",
      "Image Name       : ['test_362.jpg']\n",
      "\n",
      "Correct Caption  :   ['A sheep is laying down in some hay. There is a hand of a person reaching in and petting the sheep. The person is wearing a blue jacket. The sheep is looking up. ']\n",
      "\n",
      "Predicted Caption:  ['this is a picture of some animals. the animals in the middle is a little goat. the sheep are white. the sheep are looking at the camera. the fence is made of wood. there is a person standing up against the fence. the']\n",
      "--------------------------------------------------\n",
      "Image Name       : ['test_363.jpg']\n",
      "\n",
      "Correct Caption  :   ['There are two red trolleys on the tracks. There is a fence next to the trolleys. There is a building behind the trolley. ']\n",
      "\n",
      "Predicted Caption:  ['there is a train on the tracks. the train is green and yellow. there is a white line on the bridge. there are train tracks on the train track. there is a blue sky above the train. there is a blue light above the']\n",
      "--------------------------------------------------\n",
      "Image Name       : ['test_364.jpg']\n",
      "\n",
      "Correct Caption  :   ['A man is walking by an MBTA commuter rail coach.  The coach has a purple stripe and a \"T\" logo, signifying transit.  He is wearing sunglasses, a t shirt, pants and sneakers.  He is carrying a red bag over is shoulder.  A yellow tactile warning strip runs along the side of the train.']\n",
      "\n",
      "Predicted Caption:  ['a woman is standing in front of the train. the woman is wearing glasses. the front of the train is yellow. the rest of the train is blue white and green. the woman is wearing two <UNK> on her neck. the shorter necklace is']\n",
      "--------------------------------------------------\n",
      "Image Name       : ['test_365.jpg']\n",
      "\n",
      "Correct Caption  :   ['A note is hanging on the wall above a range top. The walls have white tiles and all the cabinets in the kitchen are white. The refrigerator has a bunch of gray magnets on it.']\n",
      "\n",
      "Predicted Caption:  ['a white counter top has a black oven on it. there is a white fridge next to the oven. there is a silver kettle on the stove.']\n",
      "--------------------------------------------------\n",
      "Image Name       : ['test_366.jpg']\n",
      "\n",
      "Correct Caption  :   ['There are two people waking in snow shoes in the snow wearing black snow suits. There are trees next to the people on both sides. There are tracks in the snow. ']\n",
      "\n",
      "Predicted Caption:  ['three people are standing on a ski slope. they are all dressed for the same direction and <UNK> them. they are both wearing helmets so match their heads. the person on the left is wearing hot pink pants. the sky is clear and blue.']\n",
      "--------------------------------------------------\n",
      "Image Name       : ['test_367.jpg']\n",
      "\n",
      "Correct Caption  :   [\"A woman is wearing a grey tie and holding up a bottle of beer. She is having a good time dancing at a party. The woman has dark brown hair. There is a picture on the wall behind the woman's head.\"]\n",
      "\n",
      "Predicted Caption:  ['a group of men are gathered at a fairly formal <UNK> which looks to <UNK> business. there are quite a few milling around in the background but we are focused on three in the foreground. one is wearing a blue shirt , glasses and a <UNK>.']\n",
      "--------------------------------------------------\n",
      "Image Name       : ['test_368.jpg']\n",
      "\n",
      "Correct Caption  :   ['A contrail is the only mark on this bright blue sky above a distinctive building. The building is made of different sized grey, tan stones. A peak of a rooftop in one area of the building can be seen. The roof is shingled with rust colored shingles. Behind the roof is a square tower with a black round clock. The tower is topped with a flag resting without a breeze.']\n",
      "\n",
      "Predicted Caption:  ['a church is red and has some gray metal on it. there is a large building behind the <UNK>. there are wires above the building.']\n",
      "--------------------------------------------------\n",
      "Image Name       : ['test_369.jpg']\n",
      "\n",
      "Correct Caption  :   ['There are several benches on the ground. There are trees and bushes behind the benches. There is a person walking on the sidewalk in front of the benches. ']\n",
      "\n",
      "Predicted Caption:  ['a bench is sitting on a sidewalk. there is a park behind the bench. there is a park on the ground in front of the bench.']\n",
      "--------------------------------------------------\n",
      "Image Name       : ['test_370.jpg']\n",
      "\n",
      "Correct Caption  :   ['An open door of a bathroom. The toilet is cleaned and the lid is closed. The wall appears to have very nice and neat wallpaper on it. The light is on and the overall appearance of the doorway and room is very clean.']\n",
      "\n",
      "Predicted Caption:  ['a bathroom with two large windows shaped sinks. there is a mirror hanging above the sinks. next to the sink on the wall is a towel rack with a white towel hanging from it.']\n",
      "--------------------------------------------------\n",
      "Image Name       : ['test_371.jpg']\n",
      "\n",
      "Correct Caption  :   ['A white cup of tea with a tea bag inside sits on a saucer with a spoon on it. Beside the saucer there is a small container of cream, and a pair of silver over sized sunglasses. Next tot eh glasses there is a black flip phone. Closest to the camera there is a black leather portfolio open with pages of paper clipped inside.']\n",
      "\n",
      "Predicted Caption:  ['there are two white dogs on top of a white plate. there is a brown bottle on the table behind the bottle. the picture has a black jacket on it and a white plate with yellow flowers inside of it.']\n",
      "--------------------------------------------------\n",
      "Image Name       : ['test_372.jpg']\n",
      "\n",
      "Correct Caption  :   ['A black steam locomotive is riding on train tracks. It is black and green and yellow. There is steam coming from the stack. Around the locomotive is green grass. A few people are walking by the train.']\n",
      "\n",
      "Predicted Caption:  ['a train is on the train tracks. there are trees behind the train. there is a blue and white building.']\n",
      "--------------------------------------------------\n",
      "Image Name       : ['test_373.jpg']\n",
      "\n",
      "Correct Caption  :   ['Inside of a white bowl is some yogurt, blueberries and almonds.  A silver spoon is inside the bowl and used for eating with.  The juice from the blueberries is making the white yogurt tinted blue.  The almonds are whole and there are more berries than anything else in the bowl.  The bowl is round and is sitting on a wooden table.  Residue of the food can be seen on the insides of the bowl.']\n",
      "\n",
      "Predicted Caption:  ['there is a white plate on the table. the food on the plate is healthy - looking. there are bright green beans , and red tomatoes piled on top of each other. there is a plastic bowl with a white coffee mug in it and two']\n",
      "--------------------------------------------------\n",
      "Image Name       : ['test_374.jpg']\n",
      "\n",
      "Correct Caption  :   ['A person is skiing down a hill. There are trees on the other side of the hill. The person has a red jacket on. There are many tracks in the snow in front of the person.']\n",
      "\n",
      "Predicted Caption:  ['a person in a red ski suit is standing on skis staring into the distance. he has two black ski poles in his hands tilted backwards. the sun is casting a shadow of him on the snow. there are tall snow covered evergreens behind him and']\n",
      "--------------------------------------------------\n",
      "Image Name       : ['test_375.jpg']\n",
      "\n",
      "Correct Caption  :   ['Tug boats are docked at the shore. Three men are on the pavement wearing jackets. Two are standing and one is sitting on a green park bench. There are two green metal park benches which are curved into a half circle.']\n",
      "\n",
      "Predicted Caption:  ['there is a motorcycle parked on the sidewalk. the picture was taken in black and white. there is sand on the side of the road. there are cars driving down the street. there is a person standing outside of the stairs. there are <UNK>']\n",
      "--------------------------------------------------\n",
      "Image Name       : ['test_376.jpg']\n",
      "\n",
      "Correct Caption  :   ['There is a white desk with various items on top of it. There is a computer monitor that is turned on. There is a black keyboard in front of the computer. There is a black mouse and several black wires. ']\n",
      "\n",
      "Predicted Caption:  ['this is a desk with a computer sitting on it. the desk is white and has a black keyboard and mouse on it and mouse in the middle of it.   next to the monitor is a white mouse mouse with a green mouse and a mouse']\n",
      "--------------------------------------------------\n",
      "Image Name       : ['test_377.jpg']\n",
      "\n",
      "Correct Caption  :   ['A kite is flying hair in the air. It is flying over a building. The sky is gray and cloudy. The kite is red and green in color. ']\n",
      "\n",
      "Predicted Caption:  ['a man is flying a kite. he is walking down a road. he is wearing a long sleeve shirt and a kite. the kite is red and yellow. it is flying a kite. the sky is very cloudy and clear. the clouds are']\n",
      "--------------------------------------------------\n",
      "Image Name       : ['test_378.jpg']\n",
      "\n",
      "Correct Caption  :   [\"This image shows a bird perched on a wood stand to the right of a corn cob. The corn cop has about 1/3 of its kernels still attached to it. The cob has been attached to the wood below it at a ninety degree angle, so it is standing straight up. The bird has black plumage on its head and shoulders, and dark blue feathers on its wings and tail. The bird's beak is slightly curved upwards and it has a small crest of feathers on its head. Its eyes are shiny and black, and its feet are thin and black.\"]\n",
      "\n",
      "Predicted Caption:  ['this is an image of a bird. the bird is a cat. the bird is small and white. the bird has big black and white fur. the bird has black tips. the eyes of the bird are yellow and black. the fence is']\n",
      "--------------------------------------------------\n",
      "Image Name       : ['test_379.jpg']\n",
      "\n",
      "Correct Caption  :   ['A pizza sits on a yellow plate. There are cut up tomatoes on top of the pizza. There is spinach on top of the pizza. ']\n",
      "\n",
      "Predicted Caption:  ['a pizza is sitting on top of a wooden board. the pizza is square and is cut into smaller square pieces. it has tomato sauce , cheese and <UNK> on top of it. a hand is reaching towards a sandwich on a different plate. the']\n",
      "--------------------------------------------------\n",
      "Image Name       : ['test_380.jpg']\n",
      "\n",
      "Correct Caption  :   ['Two people are walking down the street. They are huddled under a clear umbrella. There is a man wearing an orange vest and a woman carrying a black bag.']\n",
      "\n",
      "Predicted Caption:  ['a man and woman are standing outside at night. the man is wearing a sweater , shirt and tie. the woman is wearing a sweater and jean shorts. the woman is holding a black and white bag in her hand. there is a purse attached']\n",
      "--------------------------------------------------\n",
      "Image Name       : ['test_381.jpg']\n",
      "\n",
      "Correct Caption  :   ['A girl is pointing at a fuzzy teddy bear. She is crouched down and wearing a sweater. The bear is sitting on the ground and facing the girl. ']\n",
      "\n",
      "Predicted Caption:  ['a woman is standing in front of the door of a building. she is wearing a black <UNK> with a gray and white striped shirt. she is sitting on a wood bench that is painted blue , orange and yellow. there are two people walking down']\n",
      "--------------------------------------------------\n",
      "Image Name       : ['test_382.jpg']\n",
      "\n",
      "Correct Caption  :   [\"A multi-colored train traveling down tracks. The train has a single headlight on it's engine. There is smoke billowing out of the train engine's smoke stack. The train track is on top of a hillside. There are plants to the left of the train,. There are large gray clouds above the train. The sky above the train is partially blue. \"]\n",
      "\n",
      "Predicted Caption:  ['a train is on the track.   the train is green and yellow.   the train is a freight train car.   the train is yellow.   there is white writing on the side of the train.   there is a flag on the']\n",
      "--------------------------------------------------\n",
      "Image Name       : ['test_383.jpg']\n",
      "\n",
      "Correct Caption  :   ['A man is shaving in the bathroom. He is looking into a very big mirror. He has on a white tank and the door is open.']\n",
      "\n",
      "Predicted Caption:  ['a man is standing in a room brushing a toothbrush. he is wearing a short sleeve white shirt , a black vest and gray pants. a white <UNK> tag is hanging on the floor near the man. the man is standing in front of a mirror']\n",
      "--------------------------------------------------\n",
      "Image Name       : ['test_384.jpg']\n",
      "\n",
      "Correct Caption  :   ['The dog is a husky. His nose is black. His fur is combination of white, beige and gray. There is a stuffed elephant toy on his head. The elephant is gray with white tusks. The dog is looking sad and lying on the carpeted floor. Behind the dog are the feet of brown chairs and table, they are made of wood. The dog has whiskers.']\n",
      "\n",
      "Predicted Caption:  ['a large white dog stands in a large <UNK> of green grass. the dog has a white body , black nose , and ears. there are black hair , and a <UNK> on the front of the dog. there are small bushes in the grass.']\n",
      "--------------------------------------------------\n",
      "Image Name       : ['test_385.jpg']\n",
      "\n",
      "Correct Caption  :   ['A man is walking with his surfboard and sun on the beach. They are walking towards the water. The man has a black and white shirt on and some blue shorts. His son has no shirt on and plaid shorts.']\n",
      "\n",
      "Predicted Caption:  ['a man in a black and white striped shirt is standing on top of a white surf board. there is a large wave in the water. there is a white and red kite sitting on the sand in front of the man. the sky above the']\n",
      "--------------------------------------------------\n",
      "Image Name       : ['test_386.jpg']\n",
      "\n",
      "Correct Caption  :   ['a sign is on a pole. the pole is silver. there is a light on the pole. the light is red in color. the cars are going down the road.']\n",
      "\n",
      "Predicted Caption:  ['this photo is taken outside on a cloudy day. a pedestrian can be seen crossing a road. a sign hangs on a pole above the pedestrian. two <UNK> are hanging on a pole above the road. a street sign is hanging from the pole.']\n",
      "--------------------------------------------------\n",
      "Image Name       : ['test_387.jpg']\n",
      "\n",
      "Correct Caption  :   ['a blonde haired woman with a white top and shorts is waiting to hit the tennis ball that is in the air. there is a bald man with brown shorts with a stripe on the side holding a tennis racket waiting for the ball to come to him/. The court is made up of green and white with white lines. there is a long net separating the man from the other player.']\n",
      "\n",
      "Predicted Caption:  ['a woman is hitting a tennis ball back over the net. she is using a one hand back hand swing. she has a navy blue shirt on with some gray pants. another woman is behind her with a white shirt and is watching.']\n",
      "--------------------------------------------------\n",
      "Image Name       : ['test_388.jpg']\n",
      "\n",
      "Correct Caption  :   ['There are women standing in a kitchen wearing white. There is a large sink behind them. There are ovens next to the women. One of the women is holding a basket. ']\n",
      "\n",
      "Predicted Caption:  [\"a heavy - set caucasian man is looking at the camera. he is wearing a white chef 's coat , and there is a <UNK> in the pocket of his left sleeve. he has a grayish - brown beard and <UNK>. his dark hair is cut\"]\n",
      "--------------------------------------------------\n",
      "Image Name       : ['test_389.jpg']\n",
      "\n",
      "Correct Caption  :   ['A black and white photo of a foreign scene. The scene appears to be somewhere in Asia. There is a person wearing a big triangular hat in the foreground.\\n']\n",
      "\n",
      "Predicted Caption:  ['there are people standing in front of a building. a man in a black t - shirt and blue jeans is holding a cell phone in his hand while walking down at a restaurant. the woman in the front is wearing a pink <UNK> outfit and is']\n",
      "--------------------------------------------------\n",
      "Image Name       : ['test_390.jpg']\n",
      "\n",
      "Correct Caption  :   ['The half eaten sandwich is on the plate. The sandwich has meat in between. The plate is white. Behind the plate is a bowl of salad. The bowl is blue. There are two glasses of water behind the bowl.']\n",
      "\n",
      "Predicted Caption:  ['a toasted piece of fried bread is sitting on a white , red , blue , and yellow plate. behind the plate is a white bowl with food inside of it. in the center of the plate is a small bottle of fruit with bread , and']\n",
      "--------------------------------------------------\n",
      "Image Name       : ['test_391.jpg']\n",
      "\n",
      "Correct Caption  :   ['A tennis match is about to begin on an outdoor court. It is a clear day with a blue sky and small fluffy clouds. In the background there are white outbuildings with gray, metal roofs surrounded by trees. Nearer to the court, on a grassy slope,there are several rows of spectators dressed casually and for mild weather. The spectators sit on the ground or in chairs. In the foreground is the tennis court. The playing surface is natural grass with white lines that shows wear in some areas where play is frequent. The court is surrounded on the spectator side by a low green carrier. To the left of the spectator side, the court is surrounded by a higher, dark barrier. People wait along this barrier to enter the court to retrieve balls. On the court two players are present along with one official or coach. One player is warming up by tossing the ball in the air to hit. The other is standing next to the official. A full court net separates them. Because of the time of day, and direction of the sun, people cast shadows across the court.']\n",
      "\n",
      "Predicted Caption:  ['a sports stadium is seen on sunny day. the field has green stripes and the tennis court is outline <UNK> white. two ball boys in green stand near the tennis net. the tennis players , each in white have their backs turned away from the net']\n",
      "--------------------------------------------------\n",
      "Image Name       : ['test_392.jpg']\n",
      "\n",
      "Correct Caption  :   ['A red and yellow train moves along the track.  One side of the track is lined with trees.  There is a single light near the window on the front of the train.']\n",
      "\n",
      "Predicted Caption:  ['a train is proceeding on a train track. the train is yellow , black , and has small white and red stripes on it. the sun is shining very brightly and there are little leaves on the trees near the tracks.']\n",
      "--------------------------------------------------\n",
      "Image Name       : ['test_393.jpg']\n",
      "\n",
      "Correct Caption  :   ['A paper plate is filled with a salad. The salad has large, soggy pieces of lettuce. They all have salad dressing on top of them. There is a toasted piece of bread in front of the lettuce. The paper plate is white.']\n",
      "\n",
      "Predicted Caption:  ['a sandwich is displayed on a white ceramic plate. the sandwich is sitting on a light colored wooden table. poking out from the ends of the bread are tomato slices , lettuce and white. the plate of broccoli is on the table , a beige <UNK>']\n",
      "--------------------------------------------------\n",
      "Image Name       : ['test_394.jpg']\n",
      "\n",
      "Correct Caption  :   ['A brown and white spotted bird is standing on a fence. The fence under the bird is steel. There is a field of grass behind the bird. ']\n",
      "\n",
      "Predicted Caption:  ['a large black bird sits on a bench <UNK>. the bird head is turned to the left , and his eyes are small and yellow. his tail is long and black and the tips of the feathers are white. the green has long finger like leaves']\n",
      "--------------------------------------------------\n",
      "Image Name       : ['test_395.jpg']\n",
      "\n",
      "Correct Caption  :   ['a plane is flying in the air. the plane is all white in color. the plane is very pointy. the sky is very blue. the clouds are very fluffy.']\n",
      "\n",
      "Predicted Caption:  [\"this photo is taken in the sky. a person is flying a small red and white airplane. the plane has two large red wings. there is a clear glass above the person 's head that is attached to the plane. the sky is filled with\"]\n",
      "--------------------------------------------------\n",
      "Image Name       : ['test_396.jpg']\n",
      "\n",
      "Correct Caption  :   ['There are three old people in the picture. At the center is a classic and shiny tricycle. At the front of the tricycle is an old man holding a plaque.']\n",
      "\n",
      "Predicted Caption:  ['a white and black motorcycle is on the street. there are two blue motorcycles on the street next to the motorcycle. one person is wearing a blue shirt and a white helmet. there are motorcycles and motorcycles parked on the other side of the street in']\n",
      "--------------------------------------------------\n",
      "Image Name       : ['test_397.jpg']\n",
      "\n",
      "Correct Caption  :   ['A man is wearing a gray shirt and jeans. He is jumping in the air on top of a black skateboard. There is a black skateboard ramp on the side of him. There are small clouds in the sky above him. ']\n",
      "\n",
      "Predicted Caption:  ['a man is skateboarding. the man is wearing blue jeans. the skateboard is in the air. the man is wearing a helmet. the man is wearing a jeans. the man is wearing a jeans. the man is wearing a shirt. the man']\n",
      "--------------------------------------------------\n",
      "Image Name       : ['test_398.jpg']\n",
      "\n",
      "Correct Caption  :   ['there is a big gray building. the building has a clock on it. the clock is made of glass. the clock has big hands.']\n",
      "\n",
      "Predicted Caption:  ['a tall tower is made of many bricks. there are some trees surrounding the towers. there is a flag flying above the tower. there is a clock painted on the side of the tower. there are many windows on the building. there is a']\n",
      "--------------------------------------------------\n",
      "Image Name       : ['test_399.jpg']\n",
      "\n",
      "Correct Caption  :   ['A piece of food sitting on a white towel. There is a bottle of alcohol behind the piece of food. There is a remote control near the bottle of alcohol. There is a cap for the bottle next to the towel with food.']\n",
      "\n",
      "Predicted Caption:  ['a pizza is sitting on top of a white plate. the pizza is cut into pieces. there is a lot of veggies in the background. there is a lot of veggies in the clear. there is a lot of <UNK> piled up on the plate']\n",
      "--------------------------------------------------\n",
      "Image Name       : ['test_400.jpg']\n",
      "\n",
      "Correct Caption  :   ['There is a bird in a tree and the bird has a fish in its mouth. The bird has a white breast and belly with brown wings and a yellow eye. The fish is silver with darker spots on its back. ']\n",
      "\n",
      "Predicted Caption:  ['two birds are perched on a large gray <UNK>. both of the <UNK> are gray and resting in the same direction. the smaller elephant is brown , black and white with a black nose , and the other one is a dark brown. the smaller cow']\n",
      "--------------------------------------------------\n",
      "Image Name       : ['test_401.jpg']\n",
      "\n",
      "Correct Caption  :   ['Colorful boats with teal canopies are lined up on a murky river on a gray, overcast day. The boats have oars in front sitting in the water. Behind the boats small buildings can be seen lining the river.']\n",
      "\n",
      "Predicted Caption:  ['boats are in the water with small waves around them. there is a brown dock behind some of the boats. there is a white boat with orange balls hanging from the bow of the boat. there is a brown boat in front of these boats with']\n",
      "--------------------------------------------------\n",
      "Image Name       : ['test_402.jpg']\n",
      "\n",
      "Correct Caption  :   ['There is a pool of water with a splash in it. There is a brown dog in the water. There are people standing next to the pool. There is trees behind the people. ']\n",
      "\n",
      "Predicted Caption:  ['there is a big boat in the water. there is an orange boat in the middle of the water. the boat is white in color. there is a flag on the back of the boat. the boat is white and has a black border on']\n",
      "--------------------------------------------------\n",
      "Image Name       : ['test_403.jpg']\n",
      "\n",
      "Correct Caption  :   ['A bathroom with a white sink in it and a bar of soap on top of the sink. There is a bath with shelves on the side of the wall. There are bottles inside of the shelves. The shower curtain has orange circles on them. ']\n",
      "\n",
      "Predicted Caption:  ['the image is of a bathroom with white walls. the bathtub and toilet are white. the toilet is up and their are white towels on a rack above the toilet. the faucet in the bathtub is <UNK> of metal and is silver in color. there']\n",
      "--------------------------------------------------\n",
      "Image Name       : ['test_404.jpg']\n",
      "\n",
      "Correct Caption  :   ['three men are talking. they all have bears on their face. there is a blue shirt on the man. the shirt has flowers on it.']\n",
      "\n",
      "Predicted Caption:  ['a man and woman are sitting at a table. the man on the right is wearing a gray shirt and blue jean pants. the man is wearing a gray shirt and pink shorts. the woman has a gray shirt on. they are both smiling.']\n",
      "--------------------------------------------------\n",
      "Image Name       : ['test_405.jpg']\n",
      "\n",
      "Correct Caption  :   ['A white dinner plate with spaghetti shaped noodles and three tiny meatballs sit on a table that has pink back chairs next to it. There are vegetables on the past in the dinner plate. Next to the pasta plate is a black bowl with chunks of sliced orange carrots. \\nAgainst the wall of the room is a radiator painted white and above that a shelf and window. ']\n",
      "\n",
      "Predicted Caption:  ['a white bowl is sitting on top of a white plate. there is a glass on the table behind the plate. there is a lemon on the plate. there is pasta inside of the bowl. there is a lemon on the plate.']\n",
      "--------------------------------------------------\n",
      "Image Name       : ['test_406.jpg']\n",
      "\n",
      "Correct Caption  :   ['A brown door on a house has some stickers on it. Next to the door on both sides is red toilets. There are plants growing out of the toilets. There are some dead leaves scattered around on the porch.']\n",
      "\n",
      "Predicted Caption:  ['a fire hydrant <UNK> on a brick wall. it has been painted alone for <UNK> way and the area is surrounded by grass that are flowers , and chicken. the fire hydrant is on , with a <UNK> of some sort on it. a dark colored']\n",
      "--------------------------------------------------\n",
      "Image Name       : ['test_407.jpg']\n",
      "\n",
      "Correct Caption  :   [\"A train is opening it's doors. The train is currently parked at a train station. The train is blue, the doors are red, and it has white stripes on it. There is a long yellow line near the train area.\"]\n",
      "\n",
      "Predicted Caption:  ['a train is driving past a station that has a train on top of it and a small portion of the train. there are two people walking on the platform in front of the train. there is a large train on the tracks next to the train']\n",
      "--------------------------------------------------\n",
      "Image Name       : ['test_408.jpg']\n",
      "\n",
      "Correct Caption  :   ['There are people standing on the beach. There is water in front of them. There is kites in the sky above the water. There are clouds in the sky.']\n",
      "\n",
      "Predicted Caption:  ['in this picture there is a man at the top of a cloudy day. the man is wearing a black hat. the man is standing on a city and wearing a black hat. above the man is a woman flying a kite. the kite is']\n",
      "--------------------------------------------------\n",
      "Image Name       : ['test_409.jpg']\n",
      "\n",
      "Correct Caption  :   ['A white toilet sits next to a white wall. There is a white sink on the wall. The tile on the floor is black and white. ']\n",
      "\n",
      "Predicted Caption:  ['a bathroom with pink tiled wall with a white urinal on the wall next to a gray <UNK> in the room. there is a silver handle on the top of the urinal. there is a small <UNK> in between the urinal and a toilet that is on']\n",
      "--------------------------------------------------\n",
      "Image Name       : ['test_410.jpg']\n",
      "\n",
      "Correct Caption  :   ['RED AND YELLOW TRAIN ON THE TRACKS WITH TWO LARGE WINDOWS IN THE FRONT.NUMBER ON THE FRONT IS IN BLACK NUMBERS. THERE IS ASLO A SQUARE BOX WITH THE INITALOS OF DB OUTLINED IN RED.THERE ARE MANY WIRES CONNECTING THE OTHER BRIDGES RUNNING ALONG THE TRACKS. A GRAY BRICK BUILDINGIS ON THE SIDE OF THE TRAIN WITH A WHITE ELECTICAL BOX ON THE GROUND.']\n",
      "\n",
      "Predicted Caption:  ['a train is on the tracks at a station. the train is green and yellow. there is a white building behind the train. there is a red train on the platform above the train. there is a blue and white sign.']\n",
      "--------------------------------------------------\n",
      "Image Name       : ['test_411.jpg']\n",
      "\n",
      "Correct Caption  :   ['a man is standing on the sidewalk. he has a cut on his arm. his arm is bleeding. he is smiling at something off camera.']\n",
      "\n",
      "Predicted Caption:  ['a man is skateboarding outside of a street on a sunny day.   a man is sitting on a skateboard near a skateboard.   the man is wearing a light blue shirt and black pants.   he is wearing a black shirt and blue jeans.']\n",
      "--------------------------------------------------\n",
      "Image Name       : ['test_412.jpg']\n",
      "\n",
      "Correct Caption  :   ['There are black cows walking along the street. There is a man riding a brown horse down the street next to them. There is a white car on the street in front of them.']\n",
      "\n",
      "Predicted Caption:  ['there are people riding on horses. there are trees around the horse. there are three horses in the water. the people are wearing white shirts. the horses are black. the horses are running on the grass. the trees are tall and green.']\n",
      "--------------------------------------------------\n",
      "Image Name       : ['test_413.jpg']\n",
      "\n",
      "Correct Caption  :   ['A man stands in front of a group of white sinks which are mounted on a wall. The wall is maroon square tiles.  A mirror covers the wall.  The man is wearing black dress pants and a white shirt and he is adjusting his tie while looking into the mirror.  Next to the man is a partition all with a large yellow trash bin.  The floor is tan tile and the room is a bathroom with stalls on the far side.']\n",
      "\n",
      "Predicted Caption:  ['a young man is standing in an open room with his arms folded up while the tub has <UNK> on his face and back.   there is a tub with a blue and white shower curtain hanging from a window rod in front of the window.  ']\n",
      "--------------------------------------------------\n",
      "Image Name       : ['test_414.jpg']\n",
      "\n",
      "Correct Caption  :   ['A large orange truck is parked next to the brick building. The word Allied is on the back of the truck behind the cab.  There is snow on the hood of the truck.  The ground is covered with snow and footprints.   A red and white stop sign is next to the driveway.  The trees have no leaves but do not have snow on them and the sky is clear and blue.']\n",
      "\n",
      "Predicted Caption:  ['the image is of an orange truck. the truck is an <UNK> <UNK> and is parked in a large parking lot.   the windows are in roman - colored.   the sky is blue and bright.   there are two red lights with yellow writing']\n",
      "--------------------------------------------------\n",
      "Image Name       : ['test_415.jpg']\n",
      "\n",
      "Correct Caption  :   ['On the white table, there is a monitor with black frame. Beside the monitor is a laptop that has a stand underneath it. In front of the monitor is a silver keyboard with white keypads. In front of the monitor is a cellphone, mp3 player and a hard drive. Beside the keyboard is a mouse on a mouse pad. Behind the laptop is a lamp and behind the lamp is a white curtains.']\n",
      "\n",
      "Predicted Caption:  ['a white desk has two monitors on it.   there is a black laptop with a white keyboard and mouse on the desk.   there is also a black mouse on the desk.   there is also a black laptop on the desk.   a']\n",
      "--------------------------------------------------\n",
      "Image Name       : ['test_416.jpg']\n",
      "\n",
      "Correct Caption  :   ['There are three giraffes in a pen. The pen is surrounded by a rope fence. The giraffe in front is eating food out of a net hanging from the tree. ']\n",
      "\n",
      "Predicted Caption:  ['there is a giraffe and three zebras in the image. the giraffe is <UNK> on vegetation in the higher areas while the zebras are eating on vegetation that is lower. there are trees through the image. some of them are dark green while some are lighter']\n",
      "--------------------------------------------------\n",
      "Image Name       : ['test_417.jpg']\n",
      "\n",
      "Correct Caption  :   ['Three people are all together drinking wine. One lady has the glass up to her lips and is preparing to drink. A lady is talking and looking at someone and a man is smiling and looking at the same person.']\n",
      "\n",
      "Predicted Caption:  ['a group of people sitting in a <UNK> style restaurant. a woman in a blue shirt stands near the banner with a purse <UNK> woman and shirt. the woman next to her has a red shirt and green shirt over her head. the lady on the']\n",
      "--------------------------------------------------\n",
      "Image Name       : ['test_418.jpg']\n",
      "\n",
      "Correct Caption  :   ['a young black man is jumping off of a skateboard, he is wearing a white tank top and blue jeans with green shoes. there is another white guy holding a skateboard watching dressed in a black shirt and pants. with one other black kid watching the both of them.']\n",
      "\n",
      "Predicted Caption:  ['a man is jumping on a skateboard. he is wearing a white shirt and jeans. there is a <UNK> case under the man. there are trees on the other side of the fence. there are tall buildings on the side of the street. there']\n",
      "--------------------------------------------------\n",
      "Image Name       : ['test_419.jpg']\n",
      "\n",
      "Correct Caption  :   ['There is a brick building with a white glass door. There are two white chairs on the porch of the house. There is a gray cat sitting on the porch. There is grass in front of the porch. ']\n",
      "\n",
      "Predicted Caption:  ['the door in the photo are orange. the window is made of glass and is an orange and red. the <UNK> in the middle of the photo is black and white. the <UNK> of the truck is casting a shadow on the grass. the ground']\n",
      "--------------------------------------------------\n",
      "Image Name       : ['test_420.jpg']\n",
      "\n",
      "Correct Caption  :   ['This photo is taken outside on a sunny day. A red and black motorcycle is sitting on a brick paved sidewalk in front of a bench. There are numerous cars lined up on the street across from the motorcycle.A brown brick building is surrounded by large green trees in the background. Two people can be seen walking past some of the vehicles.']\n",
      "\n",
      "Predicted Caption:  ['cars and trucks are headed in both directions on a busy city street. there is a white building behind the vehicles. a tall brown and brown building is standing on the side of the street. a blue and white building is on the side of the']\n",
      "--------------------------------------------------\n",
      "Image Name       : ['test_421.jpg']\n",
      "\n",
      "Correct Caption  :   [\"A person is surfing a large wave during the day. The spray from the wave is large and white, the wave is a light green. The person is wearing a pink and black long wetsuit. The hair on the person's head is very dark. Under the surfer is a white and blue surfboard. The sky above the surfer is blue. The bare hands of the surfer are a little tan and dark.\"]\n",
      "\n",
      "Predicted Caption:  ['a man is surfing a wave. he is just about to go over the wave to <UNK> a trick. he has on a black shirt with some trunks. his surfboard is white , red , and black.']\n",
      "--------------------------------------------------\n",
      "Image Name       : ['test_422.jpg']\n",
      "\n",
      "Correct Caption  :   ['There is a person standing on top of a tennis court. The person is wearing a white shirt and blue shorts. The person is wearing a white hat and dark colored shoes. They are holding a blue tennis racket in their hand. There is a green fence behind them. There is a bush behind the fence. There are cars parked in a lot behind the bush.']\n",
      "\n",
      "Predicted Caption:  [\"a man is swinging his racquet and has just hit the tennis ball to go back over the net. the man <UNK> a very strong two handed back swing and the ball is seen about to make it 's way back towards over the net. the man\"]\n",
      "--------------------------------------------------\n",
      "Image Name       : ['test_423.jpg']\n",
      "\n",
      "Correct Caption  :   ['A stuffed bunny rabbit sits on a windowsill. The stuffed critter has a black button nose, two deep set eyes, and two multicolored buttons going down its torso. It is \"wearing\" a black and white plaid jumper. This same black and white plaid fabric is used to represent the underside of the bunny\\'s floppy ears and the underside of its feet and paws. The windowsill is of a rustic marble look, and the window panes behind the bunny are rectangular and feature dirty glass and dirty white window frames. The black box surrounding the tableau says \\'left behind\" along with some writing underneath that.']\n",
      "\n",
      "Predicted Caption:  [\"a teddy bear is sitting upon a brown , checkered sofa.   the bear is dressed <UNK> , in a flowing <UNK> ' robe and a blue <UNK> <UNK> with a golden <UNK> with <UNK> legs <UNK> out from its entire <UNK>.   a <UNK> is <UNK>\"]\n",
      "--------------------------------------------------\n",
      "Image Name       : ['test_424.jpg']\n",
      "\n",
      "Correct Caption  :   ['There is a train on the train tracks. The train is blue with a yellow front and red doors on the side of it. There are black poles on the platform next to the train. There is a cement bridge over top of the train tracks. There is empty tracks on the other side of the platform. There is a white building in the distance.']\n",
      "\n",
      "Predicted Caption:  ['a long red train is parked next to a paved train platform.   one of the doors in the forefront is open and there are passengers on the inside of the train.   the train platform has a yellow line in the center and an orange top']\n",
      "--------------------------------------------------\n",
      "Image Name       : ['test_425.jpg']\n",
      "\n",
      "Correct Caption  :   ['A man in a straw hat holding up his tiger neck tie. The man is wearing a black watch. There is a pink and brown stripe around the rim. There are people standing behind the man in the straw hat. There is a white umbrella above the man in the hat and tie. The man in the straw hat is wearing a white shirt. The man in the hat is wearing glasses.']\n",
      "\n",
      "Predicted Caption:  ['a man is wearing a white collared shirt and a red tie. the man has short dark colored hair. there is a white door behind the man. a window is on the wall behind the man.']\n",
      "--------------------------------------------------\n",
      "Image Name       : ['test_426.jpg']\n",
      "\n",
      "Correct Caption  :   ['There are four birds on a small boat. These birds are gray with black beaks. The boat is white with blue in the inside. It is tied to a narrow dock. On the dock, there are three birds resting. They are few inches apart for each other. The water is gray and calm. On the other side of the dock is a bigger boat with paddle inside of it.']\n",
      "\n",
      "Predicted Caption:  ['there are many boats in a body of water. there is a bridge in front of the boats. there are several small boats on the water. the boats are all blue in color.']\n",
      "--------------------------------------------------\n",
      "Image Name       : ['test_427.jpg']\n",
      "\n",
      "Correct Caption  :   ['A man is suspended in the air with his skateboard doing tricks. He is bald, wearing a white shirt with red logo on it. He is also wearing jeans and black shoes. Underneath him is a big gray, cemented ramps. The skate park has few people skateboarding. Farther down the skate park are trees and beyond the trees is a mountain.']\n",
      "\n",
      "Predicted Caption:  ['the image is of people at a skate park that are on skateboards riding the ramps. the main skateboarder on the ramp is a man in shorts and a dark colored t - shirt. his <UNK> is standing on the ground along with the <UNK> boards in']\n",
      "--------------------------------------------------\n",
      "Image Name       : ['test_428.jpg']\n",
      "\n",
      "Correct Caption  :   ['A picture of a woman seducing a man. The woman is wearing a short skirt. The woman is wearing boos. The woman is wearing socks. The woman has white hair. The woman is wearing a blue sweater. The man is wearing a blue wig. The man is wearing a blue jacket. The man is holding a suite case. There are many other people standing around. There are escalators near the man.']\n",
      "\n",
      "Predicted Caption:  ['a woman is standing in front of the train with 3 luggage on it. the woman is wearing bright pink pants and an orange tank top. she is wearing blue jeans and a white dress shirt. she has on a black purse and has on her']\n",
      "--------------------------------------------------\n",
      "Image Name       : ['test_429.jpg']\n",
      "\n",
      "Correct Caption  :   ['A woman walking is holding a golf pole. She is wearing a white visor, gray windbreaker, pink pants, and white shoes. Behind him is a man carrying a big gray umbrella. He is wearing a white vest, blue windbreaker and white shorts. Beside him is a thin yellow pole with a small yellow flag. The woman is holding a white golf ball in her hand.']\n",
      "\n",
      "Predicted Caption:  ['two men are standing outside on a sunny day. one man is standing in front of a large green tree. he is wearing a black cap , glasses and brown boots. there are men standing on the field. men are standing and walking around the']\n",
      "--------------------------------------------------\n",
      "Image Name       : ['test_430.jpg']\n",
      "\n",
      "Correct Caption  :   ['A picture of a man with blue hair riding a skateboard. The skateboard has four yellow wheels. The man is wearing black shoes. The man is wearing a white shirt. The man is wearing black knee pads. The man is wearing gray shorts. There is a tree to the left of the man. There is a park with a gray sidewalk behind the man. There are many trees and bushes behind the man.']\n",
      "\n",
      "Predicted Caption:  ['a man is balancing on one leg on a skateboard. his arms are out to his sides , and he is wearing elbow <UNK> and a helmet. he is on a paved street with lots of <UNK>. there are trees along the side of the road']\n",
      "--------------------------------------------------\n",
      "Image Name       : ['test_431.jpg']\n",
      "\n",
      "Correct Caption  :   ['Four men are standing together on a tennis court. Three of the men are holding rackets in their hands. One of them is holding a green ball in his hand. Another man can be seen sitting in the background of the photo. A tall fence and a green bush can be seen behind the men with a net on it. One of the men is wearing eyeglasses on his face. Another man is wearing a necklace around his neck.']\n",
      "\n",
      "Predicted Caption:  ['four men are playing tennis in the air and a bunch of soccer seats on the court. a man in a blue shirt and black shorts is standing in the back of a tennis court. a man with a red cap is standing on the court near']\n",
      "--------------------------------------------------\n",
      "Image Name       : ['test_432.jpg']\n",
      "\n",
      "Correct Caption  :   ['A motorcycle is parked at the curb. It has a sharp looking features. The motorcycle has two boxes attached to it. The first one placed behind the seat, it is medium and black. The second box is beside the wheel. It has silver color in front and the rest is black. The handles of the the motorcycle is black. It also have plastic shield in the front.']\n",
      "\n",
      "Predicted Caption:  ['a black and white motorcycle is parked on a street.   the motorcycle has the words \" <UNK> <UNK> \" on it in yellow lettering.   the motorcycle is parked on a paved surface.   a line of dark colored cars is parked along a street']\n",
      "--------------------------------------------------\n",
      "Image Name       : ['test_433.jpg']\n",
      "\n",
      "Correct Caption  :   ['An antique steam locomotive is traveling along a set of tracks.  The locomotive is black and green.  It has a red sign in front with the number \"823\" on it, in yellow.  Smoke is coming out of the smokestack.  A man is behind the locomotive in the background, taking photos of something behind the train.  He is dressed in a red shirt and blue jeans.  Three buildings with gabled roofs are in the background.  Two are brick.  A switch throw is in front of one of the buildings, a single story structure.  It is sunny.']\n",
      "\n",
      "Predicted Caption:  ['a train is smoking on a railroad track. the train is a dark green color with black and red on it. a bunch of trees are on the side of the train tracks. a man is peeking from the side of the train and another man']\n",
      "--------------------------------------------------\n",
      "Image Name       : ['test_434.jpg']\n",
      "\n",
      "Correct Caption  :   ['Inside of a white ceramic toilet bowl with no lid are many clear ice cubes. The light is reflecting off the rim of the toilet seat. The hinge that connects the seat and the toilet is long silver and shiny. Under the toilet are off white ceramic tiles with black grouting between them. The drain of the toilet is covered in ice cubes. ']\n",
      "\n",
      "Predicted Caption:  ['a toilet is sitting in a bathroom. the toilet is white in color. the lid on the toilet is open. the toilet is very clean.']\n",
      "--------------------------------------------------\n",
      "Image Name       : ['test_435.jpg']\n",
      "\n",
      "Correct Caption  :   ['There is a woman wearing a white shirt. She has many gold necklaces around her neck. The woman has dark hair and there are many gold headbands and decorations in her hair. The woman is wearing large gold earrings. There is a water behind the woman with many small waves in it. there is a large white boat in the water. There is a black engine on the black of the boat.']\n",
      "\n",
      "Predicted Caption:  ['a woman in a yellow and red wet suit is standing in the wet of a white and blue boat. the woman is wearing a black wet suit and has long hair in the style of water. there is a white and black horse standing in front']\n",
      "--------------------------------------------------\n",
      "Image Name       : ['test_436.jpg']\n",
      "\n",
      "Correct Caption  :   ['A red fire hydrant with a white top and a black knit cap on top of it sits on a sidewalk at the side of a parking lot.  The hydrant is casting a shadow on the sidewalk where leaves are scattered around it. There is a manhole cover a bit down from the hydrant.  Behind the manhole cover is a small area with small green shrubs and mostly covered by leaves.  At the end of the sidewalk are rows of cars with a store in the far back. A couple of people are near their cars in the parking lot.  At the end of one row of cars is a wooden fence with a brick building behind it. ']\n",
      "\n",
      "Predicted Caption:  ['a person on the side of a car is visible.   the person is wearing a black t - shirt and has blond hair.   the person on the left is wearing black pants and a gray and white jacket.   the person has on grey']\n",
      "--------------------------------------------------\n",
      "Image Name       : ['test_437.jpg']\n",
      "\n",
      "Correct Caption  :   ['There are four men sitting at a table eating and socializing. The man at the far left is wearing a brown long sleeve shirt. The man to his right has on a black and white jacket and a plaid shirt. He is also wearing eye glasses and has a beard on his face. The man next to the man wearing eye glasses is wearing a long sleeve black shirt and is facing the man wearing eye glasses. His face is not visible. The man to the far right is wearing a long sleeve gray shirt. His eyes are squinting in the direction of the other three men probably because of the brightness of the shining sun. It is a very sunny day. It appears the setting is an outdoor area of a restaurant.']\n",
      "\n",
      "Predicted Caption:  ['a group of people are sitting at a long gray table in a restaurant. the table has green and white laptop and pizza on it. some other items that are on the table are ; napkins , plates , wine glasses , wine bottles and cutlery.']\n",
      "--------------------------------------------------\n",
      "Image Name       : ['test_438.jpg']\n",
      "\n",
      "Correct Caption  :   ['A large white bus is positioned near the stop sign on the corner.  No one is in it.  On the sidewalk near the bus are several colorful bicycles parked on the sidewalk.  A blue sign referring to bike rental is near the bikes closest to the street by the stop sign.  Several buildings are hovering in the background. ']\n",
      "\n",
      "Predicted Caption:  ['a large yellow bus is on the road. there are many windows on the side of the bus. there are lights on the bus. there are lights on the bus. there are many seats on the bus. the bus is red and white.']\n",
      "--------------------------------------------------\n",
      "Image Name       : ['test_439.jpg']\n",
      "\n",
      "Correct Caption  :   ['The image is black and white. There is a car with its hood open. On the front bumper, there is a sign that says \"is your camera loaded\". There is also a license plate that says A1400. At the top of the car, there is a sign that says D. Monosson & Son. On one side, there is a flash of a camera, and between the hood and the bumper, there appears to be a camera lens. This car is parked in front of a multilevel building.']\n",
      "\n",
      "Predicted Caption:  ['a man in a gray jacket and jeans is sitting on a metal pole. he is looking at the man that is standing on a street. there is a man walking his bike behind the sign in the mirror. there are a lot of trees in']\n",
      "--------------------------------------------------\n",
      "Image Name       : ['test_440.jpg']\n",
      "\n",
      "Correct Caption  :   ['In the center of this room is a column going half way up and stopping and then begins again with an snit object encased in glass, finishing up almost to the ceiling. The object is fragile and is sitting upon a satin pillow with wire connectors coming out and down out the bottom. These are motion sensor wires, which will indicate if anyone tries to pick up the object. There is a commuter laptop open on one side, as if is keeping track of the monitoring of the security of this object.']\n",
      "\n",
      "Predicted Caption:  ['a flat screen computer monitor sits on a stand on a stand.   it is connected to an <UNK> <UNK>.   it is an apple monitor.   a <UNK> is sitting on the <UNK>.   a keyboard can be seen in the corner of the']\n",
      "--------------------------------------------------\n",
      "Image Name       : ['test_441.jpg']\n",
      "\n",
      "Correct Caption  :   ['This is a picture of a catcher on a baseball field. The catcher is crouched down and holding the mitt in his left hand. His uniform is white and black and he is also wearing a helmet and knee pads. The field has green grass, brown dirt and white lines painted on it. The catcher is a man. He is wearing white shoes and has a bracelet on his right wrist. The helmet the man is wearing is black and his shoes are white. His last name is on the back of his uniform and so is his number.  ']\n",
      "\n",
      "Predicted Caption:  ['a man is standing on a baseball field. he is wearing a blue and white uniform , a black helmet and gloves. he is holding a brown and black bat in his hand. the field has green grass. muddy dirt is seen near the grass']\n",
      "--------------------------------------------------\n",
      "Image Name       : ['test_442.jpg']\n",
      "\n",
      "Correct Caption  :   ['There is a white sink sitting in front of a blue wall. There is a roll of toilet paper sitting on the top of the sink. There is a white bar on the wall next to the sink. There is a white shelf on the wall above the sink. there is a hole in the top of the sink where the faucet should go.  There is a pipe coming out of the wall above the sink.']\n",
      "\n",
      "Predicted Caption:  ['the toilet lid in the bathroom was left open. the toilet is clean. besides the toilet is a empty metal trash can and the roll of toilet paper is hung on the wall next to it. the floor is <UNK>. there are tiles going up']\n",
      "--------------------------------------------------\n",
      "Image Name       : ['test_443.jpg']\n",
      "\n",
      "Correct Caption  :   [\"The bike is leaning on the white wall. The body of the bike is blue with red and linings and white text. The bike is surrounded by shoes and slippers. The seat of the bike is black, and so are the handles and break. There are reflectors on the bike's spokes. The wheels of the bike is black. On the wall there is an umbrella with black handle.\"]\n",
      "\n",
      "Predicted Caption:  ['a bicycle is parked next to a street.   the <UNK> has a black seat.   the bicycle has black handle bars and a metal handle.   the bike is silver and black.   the other vehicle is silver.   all the balls on']\n",
      "--------------------------------------------------\n",
      "Image Name       : ['test_444.jpg']\n",
      "\n",
      "Correct Caption  :   ['The image is of a light blue strainer on a wooden table that is holding two bananas and three peaches. There is a white curtain to the right of the strainer and a yellow squared tiled wall directly behind the wooden table. The handle on the strainer is silver appearing chrome and there are holes in the shape of circles near the bottom of the strainer. The strainer is resting on a cylinder shaped bottom, allowing it to stand on the wooden table. There is one silver screw on to the left of the bananas and one silver screw directly in front of the silver handle on the strainer.']\n",
      "\n",
      "Predicted Caption:  ['a blue bowl has red soup hanging from the fruit. there is a pile of oranges sitting in front of the bananas. there are also six carrots sitting inside of the <UNK>.']\n",
      "--------------------------------------------------\n",
      "Image Name       : ['test_445.jpg']\n",
      "\n",
      "Correct Caption  :   ['A cat is sitting on a wooden stool near the window, its tail hanging down behind it. A dog is lying on the ground next to the cat, in front of the window. There are black bars on the window. Outside is bright, with green grass and trees visible. There are brown bamboo shades on the other half of the window.']\n",
      "\n",
      "Predicted Caption:  ['a cat is sitting on a balcony. the cat is brown and black and white. the cat has long whiskers. the cat is gray and black. the cat is laying down in the grass. the <UNK> is made of metal. the metal is']\n",
      "--------------------------------------------------\n",
      "Image Name       : ['test_446.jpg']\n",
      "\n",
      "Correct Caption  :   ['There are two people in the photo. One person is wearing a red and black jacket. There is snow on the ground. The person wearing the red jacket is also wearing black gloves. She is throwing a white frisbee to a person wearing a black hoodie. The person in the black hoodie has his hands in his pockets. There is a small house in the background. ']\n",
      "\n",
      "Predicted Caption:  ['a man is wearing a yellow jacket with a red stripe on the front of it. he is standing on red and black skis. he is wearing a white helmet and has a black jacket.']\n",
      "--------------------------------------------------\n",
      "Image Name       : ['test_447.jpg']\n",
      "\n",
      "Correct Caption  :   ['There is a large grey elephant standing in a field. There is dirt and grass in the field. There is a large log on the ground next to the elephant. There is a large tree in front of the elephant. There are tall trees behind the elephant. There is tall grass and weeds in front of the elephant. There are white clouds in the sky.']\n",
      "\n",
      "Predicted Caption:  ['there is a large elephant in the field. there are small elephants under the elephant. there is a large body of water behind the elephants. there is weeds around them.']\n",
      "--------------------------------------------------\n",
      "Image Name       : ['test_448.jpg']\n",
      "\n",
      "Correct Caption  :   ['Many people are flying kites in a large open field. Huge billowy white clouds float above the kite flyers in a blue sky. Many of the kites are yellow and orange and have flags hanging from the strings. Beyond the dark green grass field is a city skyline. The sky line has many tall skyscrapers mostly all grey and white colors. There is also a large square like sculpture in front of all the kite flyers. ']\n",
      "\n",
      "Predicted Caption:  ['there is a distant view on a cloudy day of a <UNK> of buildings in the background.   there is a long rectangular building to the right of the buildings.   there is a person sitting at the back of the person wearing green pants and a']\n",
      "--------------------------------------------------\n",
      "Image Name       : ['test_449.jpg']\n",
      "\n",
      "Correct Caption  :   ['The sky is cloudy in the background of a snow speckled mountain top. There are snow dunes and there is a bright yellow sign on a metal pole stuck in one of the dunes. There are two people standing at the bottom of the snow dunes. There is also a ski lift in the background with a light blue sign in front.']\n",
      "\n",
      "Predicted Caption:  ['a person in an orange jacket and black jacket is standing on a snowboard in a snowy field. there are mountains in the distance with snow on the peaks. the sky above is clear and blue and the sun is shining bright. there are pine trees']\n",
      "--------------------------------------------------\n",
      "Image Name       : ['test_450.jpg']\n",
      "\n",
      "Correct Caption  :   ['A Man is standing in ice and snow while holding skiis. The sun is shining behind the man. There is a red pole to the right in the picture and a man in front of the first man. The man is kneeling and crouching. They are both atop of a mountain. The mountain is covered in snow. The clothing they are wearing is white and grey.']\n",
      "\n",
      "Predicted Caption:  ['a skier is standing on top of a mountain.   the skier is looking down at a bunch of skiers below him on a different level.   rocky tops of the mountain with sparse snow fall can be seen.   snow is covering the entire area']\n",
      "--------------------------------------------------\n",
      "Image Name       : ['test_451.jpg']\n",
      "\n",
      "Correct Caption  :   ['The crowd is covering the whole street. The crowds have colorful umbrellas. At the center of the crowd is a bus parked with a sign \"DANCE\" on it. There are white placards with number on them. The scene is taken at night. There are buildings surrounding the crowd. There are some people standing and watching from a building porch.']\n",
      "\n",
      "Predicted Caption:  ['a group of people are walking along a narrow sidewalk. there are two buildings on either side of the road , one is painted with an orange umbrella and one is red. there are trees lining the street all of the way. they are both sitting']\n",
      "--------------------------------------------------\n",
      "Image Name       : ['test_452.jpg']\n",
      "\n",
      "Correct Caption  :   ['There are three woman in the living room of a home. In the living room there are hardwood floors. Two woman are standing up in front of the television. They have game controllers in their hands. They are playing a game together while the third woman sits down on the couch and watches them. They are all smiling and look like they are having a great time with one another. ']\n",
      "\n",
      "Predicted Caption:  ['there are two people having a game of video on the table in front of a white refrigerator. one of the people is the girl in the front has dark brown hair and is wearing a black shirt.    the girl in the white   is standing']\n",
      "--------------------------------------------------\n",
      "Image Name       : ['test_453.jpg']\n",
      "\n",
      "Correct Caption  :   ['A person is standing on top of a hill. There is a lot of snow on the hill and on the trees in front of the person. There is a ski lift in the air next to the man. There are wires hanging from the ski lift. The person is wearing a red jacket and black ski pants. They are holding black ski poles and standing on top of black skis.']\n",
      "\n",
      "Predicted Caption:  ['a person in a red ski suit is standing on skis staring into the distance. he has two black ski poles in his hands tilted backwards. the sun is casting a shadow of him on the snow. there are tall snow covered evergreens behind him and']\n",
      "--------------------------------------------------\n",
      "Image Name       : ['test_454.jpg']\n",
      "\n",
      "Correct Caption  :   ['A model train car is driving around on model train car tracks. The plastic train car has a red roof with blue sides. The front has red and white stripes with two small windows. The black tracks curve around where two train cars in the center. One car is yellow and green and the other car is black. Off in the distance are four lit lights on a model pole.']\n",
      "\n",
      "Predicted Caption:  ['a train is sitting on   track. the train is white and blue in color. the train is on a track. the train is a brown and white with a red stripe down the side of it. there is a tree next to the train']\n",
      "--------------------------------------------------\n",
      "Image Name       : ['test_455.jpg']\n",
      "\n",
      "Correct Caption  :   ['There are two black and white striped zebras standing on the dirt ground. The zebra in the back has its head down. Both zebras are looking down. There are a few scattered rocks in the dirt. There are a lot of trees in the background behind the zebras. There appear to be tracks in the dirt that may have came from a vehicle.']\n",
      "\n",
      "Predicted Caption:  ['this image takes place in a <UNK>. there are two animals and they are zebras facing two <UNK> directions. they are standing on top of dry grass with thin twigs on the bottom. behind the zebras , there are a bunch of trees that are semi']\n",
      "--------------------------------------------------\n",
      "Image Name       : ['test_456.jpg']\n",
      "\n",
      "Correct Caption  :   ['This image is of a city bus. The front of the bus has a large windshield window. There is a marquee display above the window that reads 44 BEALINE. There is a blue and white license plate below the grill of the bus. The license plate reads CR-526-AX. Both front headlights are turned on. The driver is visible through the front windshield window. She has short hair and is wearing a black jacket. The passenger directly in front of her is a man that is wearing a black jacket with white sleeves and he has short hair. The door is open on the bus and there is an older man waiting on the bottom step to get on the bus. He is wearing a black jacket and jeans. He is also carrying a black and white Adidas messenger bag.']\n",
      "\n",
      "Predicted Caption:  ['a bus is going down the road. the bus is white. there is a black car on the bus. the bus is white. there are many passengers on the bus. there are many passengers on the bus. the bus is red. there']\n",
      "--------------------------------------------------\n",
      "Image Name       : ['test_457.jpg']\n",
      "\n",
      "Correct Caption  :   ['There is a large blue clock on the side of a building. The clock has black handles. The numbers on the clock are black. The background of the clock is white. The building the clock is attached to is very tall. The building the clock is attached to has many windows. There is a tall black metal pole near the clock.']\n",
      "\n",
      "Predicted Caption:  ['the sky is <UNK> and bright. the buildings are reflecting the sky as well as the street <UNK> at a building. the clock tower is on the right and a <UNK> is hanging on the top of it. the bottom and numbers are on a green']\n",
      "--------------------------------------------------\n",
      "Image Name       : ['test_458.jpg']\n",
      "\n",
      "Correct Caption  :   ['A zebra stands next to a narrow tree. The tree has some wire around it. The shadow of the zebra is on the ground. There is another zebra next to the wall. There is a fence in a background. There are some rocks on the ground. There is a black stripe on the zebras back. The zebra is looking off to the side. There are shadows on the ground. ']\n",
      "\n",
      "Predicted Caption:  ['a zebra is standing outside. the zebra is black and white. he has hair on his chin. there are trees in the background. the sky is blue.']\n",
      "--------------------------------------------------\n",
      "Image Name       : ['test_459.jpg']\n",
      "\n",
      "Correct Caption  :   [\"The people are standing up on the bus. Some of the seats are occupied on the bus. There's a boy on the front of the bus and a yellow shirt sitting down. There's a woman in a green shirt looking out of the window on the bus. There's a man taking a picture of the top of the bus. The camera he is holding is black. He is wearing a watch on his right wrist.\"]\n",
      "\n",
      "Predicted Caption:  ['there are two people standing on a bench. there is a man in a blue shirt and white shorts standing on the sidewalk next to him. there is a man in a blue shirt and white shorts standing on the sidewalk in front of him.']\n",
      "--------------------------------------------------\n",
      "Image Name       : ['test_460.jpg']\n",
      "\n",
      "Correct Caption  :   ['There is a person snow boarding down a hill. There are tracks in the snow all around the snowboarder. There is a large rock in the snow next to them. There is a green pine tree in front of the snowboarder. The snowboarder is wearing blue ski pants and a blue and yellow jacket. They have a yellow snowboard on their feet.']\n",
      "\n",
      "Predicted Caption:  ['a person is sitting on a snow covered ground with a ski board attached to the feet.   the person is wearing a black helmet , gloves and snowsuit.   the person is also wearing goggles and the snowboard is yellow with a blue design.  ']\n",
      "--------------------------------------------------\n",
      "Image Name       : ['test_461.jpg']\n",
      "\n",
      "Correct Caption  :   ['People surrounding a adult giraffe that is contained behind a fence.  A gentleman with dark hair and eyeglasses is stroking the cheek of the giraffe.  On the opposite side of him, a woman with dark hair and sunglasses is holding out her hand to feed the giraffe.  Behind that lady, is a man in a short sleeved black shirt with a video camera recording the giraffe.']\n",
      "\n",
      "Predicted Caption:  ['a woman and the child she is holding are standing behind a wooden enclosure in which there are two giraffes. one of the giraffes is near the woman and child. he has his neck bent and is appearing to be looking at them.   the woman']\n",
      "--------------------------------------------------\n",
      "Image Name       : ['test_462.jpg']\n",
      "\n",
      "Correct Caption  :   ['There is a white sink hanging from the wall. There is a mirror hanging above the sink. There is a black and white cat sitting on the edge of the sink. There is a red and white toilet next to the sink. There is a roll of toilet paper hanging from a roll next to the sink. There is a red bottle on the back of the toilet.']\n",
      "\n",
      "Predicted Caption:  ['a cat is sitting on top of a blue box. there is a fan behind the cat. there are two silver lights around the cat.']\n",
      "--------------------------------------------------\n",
      "Image Name       : ['test_463.jpg']\n",
      "\n",
      "Correct Caption  :   ['This photo is taken outside on a cloudy day. Part of a blue sky can be seen in between the white clouds. An old dark truck is sitting parked in a parking lot. The truck has a trailer attached to the top of it. Part of a white building can be seen behind the truck. Another old car can be seen parked in the parking lot. Green trees can be seen in front of a mountain in the background. ']\n",
      "\n",
      "Predicted Caption:  ['a black and white dog is sitting outside on the grass. there is a large blue and white <UNK> tied to the side of the truck. there are two blue tires on the side of the truck.']\n",
      "--------------------------------------------------\n",
      "Image Name       : ['test_464.jpg']\n",
      "\n",
      "Correct Caption  :   ['A clock is attached to the stone exterior of a building.  The clock has diamond shaped metal objects as numbers and silver metal hands.  The clock has a black face with gold borders.  A square shaped border is bordering the gold border of the clock.  The square shaped border has red and green stripes on it.  The stone portion of the building has a ridged design on it.  The sky is stark white.']\n",
      "\n",
      "Predicted Caption:  ['the side of the building is ornate , covered in <UNK>. attached to the side of the building is a large metal work clock. the <UNK> on the clock reads <UNK> <UNK> <UNK> building <UNK>. the clock face has roman numerals in brown. the background']\n",
      "--------------------------------------------------\n",
      "Image Name       : ['test_465.jpg']\n",
      "\n",
      "Correct Caption  :   ['There is a white plate sitting on a table. There is food on top of the table. There are small pizza slices sitting on top of the plate. There are black olives slices on top of the pizza. The crust of the pizza is dark brown. There is cheese and lettuce on top of the pizza. There are sliced up onions on the top of the pizza.']\n",
      "\n",
      "Predicted Caption:  ['this is a healthy looking pizza on the table. the pizza appears to have an egg on top of it. the egg is white with a yellow <UNK>. there is a white crust on the edges. there is a pizza pan made of pie on']\n",
      "--------------------------------------------------\n",
      "Image Name       : ['test_466.jpg']\n",
      "\n",
      "Correct Caption  :   ['A supermarket produce stand.  Closest to the camera is a bin of ripe oranges.  Most of the oranges have an oval, dark sticker on them.  Next to the apples are red apples with a tint of green.  The apples seem to take up two bins, then past the second bin of apples is another bin of oranges.  The setting of the store is dark and lights can be seen glowing to the left of the produce stand.']\n",
      "\n",
      "Predicted Caption:  ['a glass display case holds various fruit. there are bananas , apples , lemons , oranges and some <UNK> fruit. on the counter there is a basket with other fruits. next to that there is a red cup with a big white cup. next to']\n",
      "--------------------------------------------------\n",
      "Image Name       : ['test_467.jpg']\n",
      "\n",
      "Correct Caption  :   ['A couple is posing at a formal black tie event. They are both enjoying themselves and smiling. The man is wearing a black tuxedo with a bow tie. He has short combed back brown hair and is wearing square black frame eyeglasses. The woman has on a black silk top with silver and crystal embellishments, she is also wearing a necklace and earrings that are also silver. Her hair is chin length and brown, she is wearing minimal make-up. The wall in the background is painted tan and has a framed painting hung on it.']\n",
      "\n",
      "Predicted Caption:  ['a man and woman are standing in front of each other at a party. they are all smiling. the man is wearing a gray shirt , gray sweater and blue jeans. he is holding a knife in his hand. the man is wearing a brown']\n",
      "--------------------------------------------------\n",
      "Image Name       : ['test_468.jpg']\n",
      "\n",
      "Correct Caption  :   ['There are two grown men standing in the dirt on a baseball field.  Its a clear day.  There are a few trees in the back ground on the other side of the fence.  The fence is decorated with billboards and have a tall yellow pole standing next to it.  The grass is cut short and is very green.  The men are both wearing uniforms, cleats and a baseball cap.  ']\n",
      "\n",
      "Predicted Caption:  ['a baseball player is wearing a helmet and an <UNK> uniform. he is running while looking into the distance to his left. there are two other players behind him. one is the catcher and the other one is an umpire. people in the stands are']\n",
      "--------------------------------------------------\n",
      "Image Name       : ['test_469.jpg']\n",
      "\n",
      "Correct Caption  :   ['A male tennis player is wiping his forehead with his wrist. He seems tired and is holding onto his tennis racket loosely. His shirt is blue and yellow, his hair short and brown. He has a white bracelet on. Near him are white and green advertisement banners that line a wall of a tennis court. Behind the banners are two fully visible red seats made of metal and cloth. Behind those are a white wall and behind the white wall are the basic seats of a sports stadium. Next to the seats is a long hallway leading down from the sports arena.']\n",
      "\n",
      "Predicted Caption:  ['a man is standing on a tennis court playing tennis. he is wearing a short sleeve shirt , white shorts , white headband , and white wristbands on his <UNK>. the man is holding a black racket in his hand. his hair is standing up as']\n",
      "--------------------------------------------------\n",
      "Image Name       : ['test_470.jpg']\n",
      "\n",
      "Correct Caption  :   ['A group of sheep are standing outside. Two faces are showing. The upper part of the face is black and the mouth and snout is white. The horns are gray and curled towards the face. The wool is very thick and white. All the sheep are standing on hay that seems to be in damp dirt. Behind the sheep is very short green and yellowish grass. In the background are dark figures of trees and buildings. ']\n",
      "\n",
      "Predicted Caption:  ['the image is of animals in a field. the animals in the field are sheep.   the sheep are scattered all over the meadow which is a small hill.   a tree casts some shade at the edge of the picture. the sky is blue']\n",
      "--------------------------------------------------\n",
      "Image Name       : ['test_471.jpg']\n",
      "\n",
      "Correct Caption  :   [\"A man is sitting in a restaurant with others while eating pizza. The walls are painted a bright shade of green and a blue picture hangs behind the man. The man is in his late 40's or early 50's. He has silver hair with black eyebrows. He is wearing a short sleeved button up plaid shirt in white, blue and black plaid. On the table in front of him there is a pizza with one slice missing, on the pizza there is prosciutto and basil. An empty glass with a slice of lemon on its edge also sits on the table.\"]\n",
      "\n",
      "Predicted Caption:  ['a man is sitting at a table. he is wearing a black and white striped shirt and a pair of blue jeans. there is a pizza sitting on the table in front of him. he is sitting with food on that appears to be eating it']\n",
      "--------------------------------------------------\n",
      "Image Name       : ['test_472.jpg']\n",
      "\n",
      "Correct Caption  :   ['A large red truck is parked in the middle of the road. The truck appears to be a fire truck, and has a blue light on the top. There is a large brown and yellow brick building on the other side of the road. On the near side, there is a small fence, and small plants growing out of the dirt. Past this, there is a concrete wall and a concrete surface covering the ground.']\n",
      "\n",
      "Predicted Caption:  ['a street has some gravel and behind it are construction workers with white hard hats who are putting up a giant clock. the clock is square and white with black hands and black lines <UNK> numbers. to the right is a white truck with yellow writing on']\n",
      "--------------------------------------------------\n",
      "Image Name       : ['test_473.jpg']\n",
      "\n",
      "Correct Caption  :   [\"A sunset is shown in the background. There are a bunch of cars heading towards the direction of the camera but they are at a traffic light because it is red. There is one car going through the light. It's starting to get dark outside and the streetlights are getting ready to come on. The sky looks beautiful.\"]\n",
      "\n",
      "Predicted Caption:  ['the image is of an intersection of a small town. there are two <UNK> showing a red light. on the left is a line of buildings which contain businesses.   there is a car parked outside one building. three other cars , including a two']\n",
      "--------------------------------------------------\n",
      "Image Name       : ['test_474.jpg']\n",
      "\n",
      "Correct Caption  :   ['There are people walking down a road while holding their bikes.  There are cars parked along the left side of the road.  The trash bins are on the sidewalk on the right side of road.  A blue and green bin is visible.  There is a 20 mph sign on the sidewalk.  A red light is on the traffic signals.   Green trees surround the road.  There is a house peeking out from behind the trees on the left side.']\n",
      "\n",
      "Predicted Caption:  ['cars pedestrians , and scooters or motorcycles are traveling along a busy city intersection.   on one street is a bus , a car , a truck , and some motorcycles waiting for pedestrians to cross the street.   a few scooters are parked on the crosswalk']\n",
      "--------------------------------------------------\n",
      "Image Name       : ['test_475.jpg']\n",
      "\n",
      "Correct Caption  :   ['Two sheep are in a green field.  One of the sheep is standing up and looking to the left.  The other sheep is sitting down in the grass and is also looking to the left.  The field is covered in grass with some brown leaves on it.  Behind the sitting sheep is a metal manhole with a paved cement border.  Both sheep have tan fur and white faces.']\n",
      "\n",
      "Predicted Caption:  ['a tan sheep with black spots is grazing in a green grassy field. it has long white horns and long ears. it has long curved ears. the black eyes are standing up on the dirt of the field. it looks like a <UNK> day and']\n",
      "--------------------------------------------------\n",
      "Image Name       : ['test_476.jpg']\n",
      "\n",
      "Correct Caption  :   ['Two giraffes are bending their necks to look at something in the bright green grass below. One giraffe is standing behind the other giraffe. Each has large brown spots and black hairy tails. Around them they are in a forest filled with large and small trees. The bottoms of the giraffes are off white colored. ']\n",
      "\n",
      "Predicted Caption:  ['a lone giraffe is standing in front of a large brown building. there is a black and white sign with black spots on the giraffe side of the picture. there is a large black pole behind the giraffe.']\n",
      "--------------------------------------------------\n",
      "Image Name       : ['test_477.jpg']\n",
      "\n",
      "Correct Caption  :   ['The image is a black train with smoke coming out of the smoke spout at the top of the front of the train. There is a blue sign on the front of the train and a black number sign below the blue sign with the numbers 60009 on it. The conductor can be seen on the left side window of the train. He is wearing a blue shirt and there are two more train cars behind where he is located. The train car behind the conductor is green and the last visible car is maroon in color. The train is on the tracks and the gravel on the tracks is light brown. There are trees on the right side of the train and atop a grassy hill.']\n",
      "\n",
      "Predicted Caption:  ['a train is on the track.   the train is orange in color. the sky is partly cloudy.   there is a lot of green grass on the ground.   the train has an orange stripe.   the train has writing on the side']\n",
      "--------------------------------------------------\n",
      "Image Name       : ['test_478.jpg']\n",
      "\n",
      "Correct Caption  :   ['The image is of a telephone poll between two streets. The pole has a green and sign on it with white lettering that says \"E Main st 1700\" There is also a no parking sign attached to the pole. There are vertically striped awnings on both sides of the street. One awning covers produce stands, on the opposite side the awning is attached to a multilevel brick building. Behind the produce stand is a brown multilevel building with a brown stone facade and red roof tiles. The road is paved with cobblestones. There are several vehicles parked on the street.']\n",
      "\n",
      "Predicted Caption:  ['a street has no people on it. there is a large building that has columns on its front and a green dome. there are trees growing on the side of the building and they have green leaves. on the other side of the street from the']\n",
      "--------------------------------------------------\n",
      "Image Name       : ['test_479.jpg']\n",
      "\n",
      "Correct Caption  :   ['There are people sunbathing outside on the pier. Some of the people have umbrellas over their chairs. Some people are in the Water swimming with their pets. There are a lot of people on the pier enjoying the Sun. It is a hot sunny day out. There is a flag on a flagpole on the pier to the right. The pier to the left has more people on it.']\n",
      "\n",
      "Predicted Caption:  ['there is a harbor. there is a small red and white boat in the water. there is a small boat on the water. there is a strip of grass in front of the boat.']\n",
      "--------------------------------------------------\n",
      "Image Name       : ['test_480.jpg']\n",
      "\n",
      "Correct Caption  :   ['The small bathroom has an angled ceiling. There is a window in the angled ceiling. There is light coming into the room. There is a white sink below the window. The sink is round. The is a toilet next to the sink. There is a tub next to the toilet. There are some glass panels on the wall above the tub. There is a white shower curtain. There is a blue carpet on the groun. There are bottles on the corner of the tub. ']\n",
      "\n",
      "Predicted Caption:  ['a bathroom with a large illuminated mirror. the toilet is white. there is a small mirror on the wall above the toilet. there is a reflection of the toilet in the glass. there are two large windows next to the sink.']\n",
      "--------------------------------------------------\n",
      "Image Name       : ['test_481.jpg']\n",
      "\n",
      "Correct Caption  :   ['A black and brown bag is sitting on top of some carpet. The carpet is brown and there is a brown wall next to it. There is a cat inside of the bag looking out the top of the bag. There is an orange cat sitting in front of the bag looking down into the bag. The cat inside of the bag has its eye looking out of the bag.']\n",
      "\n",
      "Predicted Caption:  ['a cat is sleeping on a brown leather bag. the bag is on the couch. there are <UNK> feet under the cat.']\n",
      "--------------------------------------------------\n",
      "Image Name       : ['test_482.jpg']\n",
      "\n",
      "Correct Caption  :   ['A male is surfing in the blue ocean.  There is a wave behind him with white foam surfacing on the water.  The male surfer is laying on the surfboard in preparation to ride a big wave.  He is wearing a black wet suit that covers his entire body.  The surfer has dark brown hair and the board is red.  ']\n",
      "\n",
      "Predicted Caption:  ['a man is surfing a wave. he is just about to go over the wave to <UNK> a trick. he has on a black shirt with some trunks. his surfboard is white , red , and black.']\n",
      "--------------------------------------------------\n",
      "Image Name       : ['test_483.jpg']\n",
      "\n",
      "Correct Caption  :   ['A smile is represented on a blue plate utilizing food.  Two eyes are displayed using oranges.  A chili pepper represents a nose and a banana represents a smile.  The circular blue dish is sitting on top of a wooden plank table.  There is a light casted on the left of the plate.  The blue ceramic plate has swirls of white around it.']\n",
      "\n",
      "Predicted Caption:  ['the oranges are in the sun. the sun is reflecting on the orange. there is a lemon behind the oranges. the lemon is in the shade. there is nothing in the background. the background is a grayish color. there are <UNK> shoes towards']\n",
      "--------------------------------------------------\n",
      "Image Name       : ['test_484.jpg']\n",
      "\n",
      "Correct Caption  :   ['A lone soda can sits on a desk. Inside the grey and silver can with tiny writing are small bright red and pink flowers. The can is being used as a vase. Behind the can is a blue white and yellow calculator, a pink notepad and a black plastic corded phone. The point of a white elbow can be seen. The desk is very large.']\n",
      "\n",
      "Predicted Caption:  ['a wine glass is on the table with a blue chair.   the table is wooden and has a sheet glass on it.   the table is wooden and has four circular plates on it.   there is also a black remote on the table.']\n",
      "--------------------------------------------------\n",
      "Image Name       : ['test_485.jpg']\n",
      "\n",
      "Correct Caption  :   ['The plane is parked on the runway. The tail of the plane has a circle on it. The top of the plane is white. Underneath the plane is a grey color. The sun is shining outside. There are other planes parked out. All the planes are getting ready from passengers and for take off. There are baggage carts around the bottom of the Planes.']\n",
      "\n",
      "Predicted Caption:  ['a large <UNK> air <UNK> cargo plane is on the tarmac at an airport. the large plane is gray and has a black nose , and the numbers \" <UNK> \" on the face. the plane has propellers on each of the engines. there is a']\n",
      "--------------------------------------------------\n",
      "Image Name       : ['test_486.jpg']\n",
      "\n",
      "Correct Caption  :   ['A small bedroom is in view. The ceiling is high and angled into three white sections. The window is covered with a white set of curtains covered in little yellow flowers. The walls of the bedroom are painted yellow. There is a lamp and a black alarm clock on the bedside table beside a photo in a frame. The bedframe is brown wood, and the covers are white and yellow. There is a striped pillow on the bed, and a small picture above the headboard. There is a large dresser of brown wood to the right, with multiple small ceramic decorative objects adorning the surface. There is another small framed picture on the wall above the dresser. ']\n",
      "\n",
      "Predicted Caption:  ['this is an image of a bedroom. the bedroom has a small bed. the bed has a wooden desk. the bed has a wooden headboard. the bed has a pink sheet. the window has a pink <UNK>. the bed has a pink headboard']\n",
      "--------------------------------------------------\n",
      "Image Name       : ['test_487.jpg']\n",
      "\n",
      "Correct Caption  :   ['This is a black and white photo of elephants standing in a row. There are ten elephants shown in the picture. There are men standing in front of the elephants. The men are wearing denim, hoodies, and hats on their heads. They are holding hoses and they are spraying the elephants down. There are people in the background behind the elephants, too.']\n",
      "\n",
      "Predicted Caption:  [\"a large elephant is walking on the sidewalk in front of a group of children in a black and white image from the <UNK> 's. on the right there is a small boy in shorts and a white shirt and a <UNK> hat. next to him there\"]\n",
      "--------------------------------------------------\n",
      "Image Name       : ['test_488.jpg']\n",
      "\n",
      "Correct Caption  :   ['Two shoe less young boys are standing on a sandy beach. One of them are wearing turquoise shorts and the other is wearing black shorts. They both have short dark hair. The boy wearing the turquoise shorts is resting his foot on a dirty, white soccer ball while resting his arm on the shoulder of the boy wearing the black shorts. A shadow of the ball is shown in the sand, a small wave is rushing up the shore and there is a small, white boat traveling in water just behind the two young boys.']\n",
      "\n",
      "Predicted Caption:  ['a man is standing on a beach on a sunny day. he is wearing a short sleeve shirt , plaid shorts and tennis shoes. the man is holding a yellow frisbee in his hand. his hair is blowing in the air. a clear blue sky']\n",
      "--------------------------------------------------\n",
      "Image Name       : ['test_489.jpg']\n",
      "\n",
      "Correct Caption  :   ['Two vintage trains cars are on display behind ropes.  The train cars have information signs on poles in front of them.  The car on the left is red and has DD1631 on the front.  The right car has a back door and blue chairs can be seen inside on it.  There are lights on inside left car.  The trains are indoors and there is a low ceiling above it.']\n",
      "\n",
      "Predicted Caption:  ['there is a small yellow building in the background. the picture was taken in black and white. there is a white sign on the wall of the building. there is a mirror on the building in front of the building.']\n",
      "--------------------------------------------------\n",
      "Image Name       : ['test_490.jpg']\n",
      "\n",
      "Correct Caption  :   ['A bride is wearing her white gown and veil while holding a knife in her hand.  She has red hair and a bruise under her right eye.  A wedding cake is on a table  with white frosting and clusters of dark fruit o top.  The scene takes place outdoors at night. Several cars are either parked or driving down the street.']\n",
      "\n",
      "Predicted Caption:  ['a woman with blonde hair and a red and green shirt is standing on the side of a cake. the cake is very colorful. the woman is wearing a fake pink and long striped shirt.']\n",
      "--------------------------------------------------\n",
      "Image Name       : ['test_491.jpg']\n",
      "\n",
      "Correct Caption  :   ['A white topped surface is topped with several dozen long sheaves of wheat in the upper left hand corner of the image. In front of the wheat stands a small sign that says, \"Please Do Not Touch\"  A larger sign in front of the wheat says \"Wheat Weaving.\" Next to this sign is a spool of silver thread. In front of the spool of thread lies a pair of green handled scissors. Next to the scissors and in the foreground lie a couple of woven articles which look to be the same size as a bracelet. The wheat has been already fully woven in these.']\n",
      "\n",
      "Predicted Caption:  ['a blue banana is standing on the top of a white plate. the blue vase has a <UNK> glass vase , and wooden sides. the flowers are painted purple and yellow. on the top of the vase is a purple <UNK>. the base of the']\n",
      "--------------------------------------------------\n",
      "Image Name       : ['test_492.jpg']\n",
      "\n",
      "Correct Caption  :   ['A large black bear is sitting on the side of the road. The bear is sitting on its bottom, with its front paws in front of it. The area where the bear is sitting is full of rocks and dirt, with some green grass and weeds. The roadway in front of the bear is graveled. There are trees surrounding both sides of the road. ']\n",
      "\n",
      "Predicted Caption:  ['a large black bear is walking in a field full of bushes. the bear is looking behind him. his snout is beige , and his eyes , and the rest of his fur is black. the bushes all around are short , with small green or']\n",
      "--------------------------------------------------\n",
      "Image Name       : ['test_493.jpg']\n",
      "\n",
      "Correct Caption  :   ['A woman is skating around a concrete skate park. It looks like an old swimming pool and her shadow is cast below her by the sun. Both of her feet are on the black skateboard. She is wearing a sleeveless short red dress and black sneakers. Her arms and legs are bare, only the back of her head can be seen. Her hair is bleached blond and she has dark roots showing. ']\n",
      "\n",
      "Predicted Caption:  ['a little boy is standing above the ramp. the boy is wearing a helmet. the helmet is white. the boy is wearing a helmet. the helmet is black. the boy is wearing a helmet. the helmet is black. the boy is wearing']\n",
      "--------------------------------------------------\n",
      "Image Name       : ['test_494.jpg']\n",
      "\n",
      "Correct Caption  :   [\"A white truck is on a dirt road. There are a lot of people in the back and a man is sitting in the passenger side. Another white truck is parked beside that truck. It is going in the opposite direction. A man's arm is stretched out of the passenger window. There are bushes and small trees in the background. There appear to be power lines in the air above the trucks.\"]\n",
      "\n",
      "Predicted Caption:  ['this photo was taken on a sunny , cloudless day. the sun is overhead in the sky as is <UNK> from the setting cast from the objects in the photo ; they do not <UNK> long shadows in any direction. the objects in <UNK> are mostly colorful']\n",
      "--------------------------------------------------\n",
      "Image Name       : ['test_495.jpg']\n",
      "\n",
      "Correct Caption  :   ['There are a group of zebras all standing outside together. There appears to be four of them and they are all pretty much looking in separate directions. One of the zebras is looking directly at the camera. They are all huddled pretty closely together. They are standing in a field of grass that has some small bushes and very small trees present as well.']\n",
      "\n",
      "Predicted Caption:  ['two zebras are standing in tall grass and grazing. both zebras have white and black stripes and one is looking on his side. the grass is mostly yellow and some bushes are visible. it is light of day , possibly <UNK> due to the <UNK> of']\n",
      "--------------------------------------------------\n",
      "Image Name       : ['test_496.jpg']\n",
      "\n",
      "Correct Caption  :   ['There is a reflection of a building in the window. The window is dark and has various panes and metal bars. The reflection is of a clock tower. The clock tower has a gold clock with roman numerals. The reflection in the glass made to reflection of the clock face. The tower is made of dark tan brick and has a fence like design at the top. ']\n",
      "\n",
      "Predicted Caption:  ['a very nice looking black clock is <UNK> and <UNK> right in front of a brick wall and over an <UNK>. the clock is black and the roman numerals as well as clock hands are golden. the <UNK> is on a gold <UNK>. to the right']\n",
      "--------------------------------------------------\n",
      "Image Name       : ['test_497.jpg']\n",
      "\n",
      "Correct Caption  :   ['The man is snowboarding during the winter time. From the edge of a large cliff that leads to a range of mountains, he is trying to slide across the snow. His outfit consists of a bright green pants, that are long-sleeved, followed by a jacket with scribble patterns. His head is protected by a beanie.\\n']\n",
      "\n",
      "Predicted Caption:  ['a person is standing on a red and yellow snow board. there is piles of snow under the person. they are wearing a black jacket and a white pair of ski pants.']\n",
      "--------------------------------------------------\n",
      "Image Name       : ['test_498.jpg']\n",
      "\n",
      "Correct Caption  :   [\"A woman is up in the air with her ski boards. The woman's ski boards are yellow. She is also wearing green cargo pants, black hoodie jacket, brown helmet and goggles. Her ski poles are black and white. The sky is blue with white sheets of clouds. The pants have pockets on the side. The goggles are too big on the face.\"]\n",
      "\n",
      "Predicted Caption:  ['a person is wearing a black and white jacket. they are standing on top of a white snowboard. there is a pile of snow under the snowboard. there are tracks in the snow under the person.']\n",
      "--------------------------------------------------\n",
      "Image Name       : ['test_499.jpg']\n",
      "\n",
      "Correct Caption  :   ['Three men are airborne on top of white ski boards. They are jumping in different directions, one ski angled to the left, the other two towards the front. They are wearing thick winter protective clothing and helmets to protect themselves in case of a fall. The sun is glowing against the pile of white snow they are above. There is an expanse of white glowing snow in front of the pile with people wearing dark winter clothing walking and skiing. A large hill in the background displays patches of dark, snow covered trees running down the slope. The sky is heavy and grey with clouds. \\n']\n",
      "\n",
      "Predicted Caption:  [\"i person is making a jump on a snow board on a mountain.   the mountain is covered in snow with tree 's and dirt in the background. the person making the jump is wearing winter gear colored in green and black.   the snowboard is\"]\n",
      "--------------------------------------------------\n",
      "Image Name       : ['test_500.jpg']\n",
      "\n",
      "Correct Caption  :   [\"There's a man standing on a snowboard outside. The snow has lines in it. The sign says Superstar on it. The majority of the sign is black and the letters are white. The symbols on the sign are black. There is an arrow pointing to the left. The snowboard is blue and orange. The tree to the right of the man is filled with snow.\"]\n",
      "\n",
      "Predicted Caption:  ['a person wearing black clothes holds two black poles that are on back. on the ground there are marks of the skis. a person wearing a red coat is on the snowy road. on the back there are homes with roofs covered with snow. on']\n",
      "--------------------------------------------------\n",
      "Image Name       : ['test_501.jpg']\n",
      "\n",
      "Correct Caption  :   ['A white game controller is sitting on top of a small table in a room. It is connected to a game system. Behind the table is a newspaper that is sitting beside a small decorative lamp. A wall is behind the lamp and paper. Near the lamp is a wooden cabinet with drawers and a door. The handles to the door and drawers are black.']\n",
      "\n",
      "Predicted Caption:  ['two cats are sitting on a <UNK> chair.   they are both looking out of a window.   the chair is yellow and white with <UNK> designs.   on top of the desk is a pen and a <UNK> of paper.   a metal canister']\n",
      "--------------------------------------------------\n",
      "Image Name       : ['test_502.jpg']\n",
      "\n",
      "Correct Caption  :   ['A chair is sitting in front of a long white table. The table has two laptops, papers, and numerous cords on top of it. A microphone is hanging on a microphone stand beside the table. A long black cord is running along the wooden floor into a white outlet that is on the wall. Part of a large picture frame can be seen hanging on the white wall.']\n",
      "\n",
      "Predicted Caption:  ['the image is of two laptops that are two <UNK> with white and black. one black and grey and brown in the front of the image is a dark black keyboard with the same black and silver in the same pink each. to the right of both']\n",
      "--------------------------------------------------\n",
      "Image Name       : ['test_503.jpg']\n",
      "\n",
      "Correct Caption  :   ['This is a black and white photo. A man is riding on a black bull with long horns. The bull is pulling a small wooden cart with bags on it. The man is dressed in a white tee shirt and shorts with no shoes. The road is dirt and grass and there is a tree behind the bull. There appear to be small mountains or hills in the distance.']\n",
      "\n",
      "Predicted Caption:  ['there is a man wearing a black jacket. he is holding a red and black umbrella over his head. there is a brown wood fence behind him and trees in front of the fence.']\n",
      "--------------------------------------------------\n",
      "Image Name       : ['test_504.jpg']\n",
      "\n",
      "Correct Caption  :   ['Two dog figurines are standing by a large blue barrel and in front of a light green color wall. Next to the wall are wooden racks stacked one on top of another. Next to those are several red fire extinguishers. There are more blue barrels laying on top of the wooden racks as well as standing up across from the racks.']\n",
      "\n",
      "Predicted Caption:  ['this is an image of a sidewalk in the park. the photo is taken in the daytime. the photo is taken and black and made of concrete. the concrete is concrete. the walls of the <UNK> are light gray in color. there are two']\n",
      "--------------------------------------------------\n",
      "Image Name       : ['test_505.jpg']\n",
      "\n",
      "Correct Caption  :   ['Two women and a man are sitting in a living room of a home. The women are sitting in chairs and the man is sitting on a sofa. There are picture frames on the white walls in the room. Two windows are above the man, one of them is halfway covered up. There is a small black t.v. sitting on a large brown entertainment center.']\n",
      "\n",
      "Predicted Caption:  ['a living room is full of furniture. one couch is white. the other couch is tan. there is a wooden table in the middle of the room.']\n",
      "--------------------------------------------------\n",
      "Image Name       : ['test_506.jpg']\n",
      "\n",
      "Correct Caption  :   ['A picture of a bathroom with a bath tub and toilet. There is a white sink  under a large mirror in the bathroom. There are lights mounted in teh ceiling. There is a black and white shower curtain on the bath tub. There are many white cabinets under the sink. There is a metal handle next to the shower. ']\n",
      "\n",
      "Predicted Caption:  ['a very clean and neat bathroom is shown. the toilet is very clean and <UNK>. the majority of the shower is <UNK> into the wall.']\n",
      "--------------------------------------------------\n",
      "Image Name       : ['test_507.jpg']\n",
      "\n",
      "Correct Caption  :   ['Two black cubs are roaming in an enclosed area.  There are stone walls behind the two cubs.  Green shrubs  are in the front of the enclosure.  The cubs appear to be grazing on the ground.  A tub like structure is in the back of the left side.  The two cubs are on the top level and beneath them is a step to a lower level.']\n",
      "\n",
      "Predicted Caption:  [\"a bear is laying in the grass. the bear is back and has some dirt on it 's back. the bear is laying with it 's head facing the very green grass.\"]\n",
      "--------------------------------------------------\n",
      "Image Name       : ['test_508.jpg']\n",
      "\n",
      "Correct Caption  :   [\"There are two men sitting together. Both of the men are holding skis. The man on the left has a red turtleneck on. The man on the right has a black jacket on. There's a light coming off of the camera. Both of these Keys have black footholds to put your feet up. Both of the men are looking into the camera and smiling. The man on the right is wearing a watch on his left wrist.\"]\n",
      "\n",
      "Predicted Caption:  ['a man and woman are standing beside each other posing. they both are wearing <UNK> on their eyes. the man is wearing a sweater and blue shirt. the woman is wearing a brown jacket and blue jeans. they are all smiling. the man is']\n",
      "--------------------------------------------------\n",
      "Image Name       : ['test_509.jpg']\n",
      "\n",
      "Correct Caption  :   ['The picture is a baseball or softball game. There players are wearing green black and white. There is a pair of legs visible from someone sitting on a bench. The legs are wearing a pair of high green socks with low shoes. There is a baseball glove next to the legs on the bench. there is also another person with his or her leg propped on the bench. It has green socks with a white front and black pants. Someone in the background is standing next to a fence with a baseball bat in their hand. ']\n",
      "\n",
      "Predicted Caption:  ['a small boy is standing on the pitcher wearing a blue shirt , black pants and a black and white baseball cap. a white bat is soaring towards the bat in front of the boy. a baseball ball is soaring towards him on the field near the']\n",
      "--------------------------------------------------\n",
      "Image Name       : ['test_510.jpg']\n",
      "\n",
      "Correct Caption  :   ['A giraffe is standing in the grass with his head halfway down towards the grass. The giraffe is looking at something in the grass and his mouth is open. His left front leg is standing wide and far from his body. The giraffe is young and he has a long neck and long legs. The grass is both, green and dry and there are trees casting shadows on the ground. ']\n",
      "\n",
      "Predicted Caption:  ['a young giraffe is standing in front of trees on a sunny day. the giraffe has a long thin neck and brown spots on a white fur base. the young giraffe is facing , and partially looking at the camera. there is a gate <UNK> <UNK>']\n",
      "--------------------------------------------------\n",
      "Image Name       : ['test_511.jpg']\n",
      "\n",
      "Correct Caption  :   [\"There's a man standing at the top of the hill on skis. The man is wearing a black helmet. The man is also wearing goggles. The coat that the man is wearing is a bright red. The man is holding ski sticks. There are lines in the snow where the man is standing. A man is standing at the top of the hill looking over at the land. The land is covered with snow.\"]\n",
      "\n",
      "Predicted Caption:  ['a person wearing pink snow pants and a pink and black ski jacket is <UNK> onto a snowboard. the snowboard is turned on and has the word <UNK> and the sky is red and white with some white clouds. a pair of people are in the snow']\n",
      "--------------------------------------------------\n",
      "Image Name       : ['test_512.jpg']\n",
      "\n",
      "Correct Caption  :   ['A black tall metal steel pole is in front of a very tall buildings with many windows. The black pole has two street signs on it being held on by silver metal rings. One of the signs is black and has the numbers, 1 and 21. It also has in white writing Wall st. On the other black sign are the numbers 92 and 113 and the white word broadway. Above the street sign pole is a street light and the lamp is round. The light is turned off. ']\n",
      "\n",
      "Predicted Caption:  ['a tall pole. the pole has four signs on it. one sign is dark green with white letters on it. the other sign is white with a red sign on it. the other sign is white with a red sign on it. the pole']\n",
      "--------------------------------------------------\n",
      "Image Name       : ['test_513.jpg']\n",
      "\n",
      "Correct Caption  :   ['There is hitter getting ready to swing at the ball that has just been thrown by the pitcher. The pitcher is wearing a black shirt with gray pants and red socks while the hitter is wearing gray pants, dark blue shirt, and black socks. The umpire and the catcher is squatting down anticipating the play. The field is a mixture of dirt sand green grass. The image was taken through a metal fence. ']\n",
      "\n",
      "Predicted Caption:  ['a baseball player is catching a ball while a second player is sliding to a base. the first player has his right are extended into the air. the ball is near is <UNK> mitt. a second baseball player is white is laying on <UNK> stomach white']\n",
      "--------------------------------------------------\n",
      "Image Name       : ['test_514.jpg']\n",
      "\n",
      "Correct Caption  :   ['A worn wooden building is on the side of a set of train tracks.  The building has many windows with screens over the windows.  Many of the screens are torn or missing.  The paint on the building is severely thinned and peeling.  A small foliage bush is at the front of the building.  Tall mountains are in the far distance.  A large metal structure is suspended in the air above the building and the train tracks.']\n",
      "\n",
      "Predicted Caption:  ['a very small train is on the tracks. the train cars are brown. there are many rocks on the side of the train tracks. the top of the train is metal. there are no lights on the train.']\n",
      "--------------------------------------------------\n",
      "Image Name       : ['test_515.jpg']\n",
      "\n",
      "Correct Caption  :   ['A man and woman are standing outside on a snow covered field. the man is wearing a dark coat, scarf, pants, gloves and eyeglasses. The woman is wearing a dark coat, gray scarf, dark pants and black gloves on her hands. They are standing behind a homemade snowman. There are colorful frisbee rings on the ground surrounding the snowman.']\n",
      "\n",
      "Predicted Caption:  ['a man is snow boarding down a snowy hill. he is wearing a blue and white <UNK> uniform with a pair of blue <UNK> pants. he has white and red socks and is wearing white and blue <UNK>. he is holding a large but in his']\n",
      "--------------------------------------------------\n",
      "Image Name       : ['test_516.jpg']\n",
      "\n",
      "Correct Caption  :   ['A long food banquet table is covered in a white tablecloth with long red cloth fringes.  The table is covered in food on metal platters.  In the center of the table are several raised bowls of food.  Next to the table in the foreground is another identical table with different food items.  Two large windows are on the wall next to the tables.  The windows have white sheer panels and dark blue curtains.  The room the table is in has red walls and hardwood floors.  A tall, green, decorated Christmas Trees  is against the wall next to the windows.  Another plain red table is in front of the Christmas tree with two tall glass bowls filled with oranges on it.']\n",
      "\n",
      "Predicted Caption:  ['a <UNK> of <UNK> is in the middle of the image.   the walls are white.   the table is wooden and has four plates with white plates and tables.   there is a table in front of the table with sheer signs next to the']\n",
      "--------------------------------------------------\n",
      "Image Name       : ['test_517.jpg']\n",
      "\n",
      "Correct Caption  :   ['The woman is sitting on top of a large, white lifeguards chair. The woman has dark hair and a blue headband. The is wearing a colorful, flowered bathing suit. She is wearing sandals with a small kitten heel. The woman holds a large pink umbrella. There is a a stand of green trees in the background. The sky is blue with big white clouds.']\n",
      "\n",
      "Predicted Caption:  ['a large pink umbrella is standing on a pathway. there is a blue canopy on the building in front of the building. there are yellow and black lights on the top of the mirror. there is a person riding a bike on the back of the']\n",
      "--------------------------------------------------\n",
      "Image Name       : ['test_518.jpg']\n",
      "\n",
      "Correct Caption  :   ['A person is in mid air in a jump pose with a snowboard attached to their feet.  The person is wearing a black hat, pants, gloves and red jacket.  The person is in the air above a snow covered steep ski slope.  The sky is white with clouds and a few sections of pastel blue.  The sun is in the background and glowing as a white round and bright circle in the sky with a white haze of clouds over it.  A ornate type graphic in green-yellow and pink lettering is at the bottom of the ski slope.  Trails of narrow white lines are in the sky with the clouds.  Another person can be see in the background at the bottom of the slope in the background.']\n",
      "\n",
      "Predicted Caption:  ['a person is standing on a red and yellow snow board. there is piles of snow under the person. they are wearing a black jacket and a white pair of ski pants.']\n",
      "--------------------------------------------------\n",
      "Image Name       : ['test_519.jpg']\n",
      "\n",
      "Correct Caption  :   ['A woman is looking down at her hand while standing over a motorcycle.  The woman is wearing a sleeveless vest, black helmet and blue jeans with rips on the upper thigh.  The motorcycle is a pale color and is surrounded on both sides by two more motorcycles.  The woman is parked on a paved surface next to a field of grass.']\n",
      "\n",
      "Predicted Caption:  ['there are several motorcycles lined up on the grass. there are people standing around them. there is a large building behind them.']\n",
      "--------------------------------------------------\n",
      "Image Name       : ['test_520.jpg']\n",
      "\n",
      "Correct Caption  :   ['A man is parasailing in the ocean. The man is standing on a flat board. He is holding on to the handles of the sail. The sail has several white cords attached to is. The sail is dark blue. There black stripes on the sail. On top of the black stripes are blue stripes. The water is dark blue. In the distance is a large land mass.']\n",
      "\n",
      "Predicted Caption:  ['a man in a white sleeveless shirt is holding a black surfboard in his hand. the man has short black hair. there is a green wall behind the man.']\n",
      "--------------------------------------------------\n",
      "Image Name       : ['test_521.jpg']\n",
      "\n",
      "Correct Caption  :   [\"A man is pointing at something pink. The pink item is a wristband. The wristband is on his right wrist. There is some some writing on the man's right hand. the man is wearing a green tie. The man is wearing a white button up shirt. the man is wearing a ring. The man has a beard on his face. The man is standing in a room. \"]\n",
      "\n",
      "Predicted Caption:  ['a man is wearing a gray shirt. he has a beard on his face. the man is wearing a blue hat on his head. there is a white door behind him that is on the ground.']\n",
      "--------------------------------------------------\n",
      "Image Name       : ['test_522.jpg']\n",
      "\n",
      "Correct Caption  :   ['A bunch of small green bananas is hanging from a large banana tree. Under the bananas are a slew of large, dead brown leaves. Hanging from the center of the bunch is a long stem with a pod at the end of it that is dripping some type of fluid. Behind the banana tree is a green wall of other trees. The bananas are facing upside down.']\n",
      "\n",
      "Predicted Caption:  ['this is an image of a plant. the plant has large green leafs with holes in them. there is a <UNK> plant in the middle of the leaves. the <UNK> are purple and green. the stem on the plant is <UNK>. the flower on']\n",
      "--------------------------------------------------\n",
      "Image Name       : ['test_523.jpg']\n",
      "\n",
      "Correct Caption  :   ['A stop sign is locating at an intersection on 7th street. There is a street sign and a bunch of pedestrians as well. The pedestrians are all walking across the street and they all have on short sleeve shirts. There are a bunch of palm threes located in the background and the sky is very clear and monotone. ']\n",
      "\n",
      "Predicted Caption:  ['a stop sign is being shown and there is pretty much no other <UNK> or <UNK> features located in this photograph. there is a red stop sign , with <UNK> on the top and bottom <UNK> it to the sign , the writing is white and the borders']\n",
      "--------------------------------------------------\n",
      "Image Name       : ['test_524.jpg']\n",
      "\n",
      "Correct Caption  :   ['A little boy lays back on the bed. A little girl lays next to the boy. The boy has a blanket covering him. There is a white laptop on the boys lap. The laptop is open. The laptop has an Apple logo on the screen. The two kids are watching something on the laptop. The laptop is plugged into the wall. There is a cord attached to the laptop. The kids are resting on pilllows. There is a window in the corner of the pic.']\n",
      "\n",
      "Predicted Caption:  ['a woman is sitting on a white couch. she has a red pillow on her lap. there is a white laptop next to her <UNK> <UNK> and a little girl on her left arm. there is a computer monitor on the bed.']\n",
      "--------------------------------------------------\n",
      "Image Name       : ['test_525.jpg']\n",
      "\n",
      "Correct Caption  :   ['A black and white zebra is standing outside by himself. No other animals appear around him. He is standing on the ground covered in dirt. You can see a tree branch next to him with green leafs. In the back of him you can see the shadow on the ground cast about by a tall tree near him. It appears to be sunny and warm outside.']\n",
      "\n",
      "Predicted Caption:  ['this is an outdoor image of two zebras that look like they are grazing at the <UNK> of zoo. in the background to the right is a child walking towards a <UNK> bank. the area is in front of a large boulder with only two smaller patches']\n",
      "--------------------------------------------------\n",
      "Image Name       : ['test_526.jpg']\n",
      "\n",
      "Correct Caption  :   ['The image is a pencil outlining of a baseball player on a baseball field at  home base. The sketch appears like a comic strip picture that has not been colored in. The baseball player has the baseball bat raised in the air and is looking towards the direction of where the pitcher would be standing. The uniform of the player has the letters \"ARAI\" on the back of the shirt with the number 25. Both the shirt and the pants are striped. The player is also wearing a baseball helmet on his head and gloves on his hands.']\n",
      "\n",
      "Predicted Caption:  ['there is a man in a white and blue uniform. he is wearing a blue helmet on his head. he is swinging a black bat and is wearing white and black gloves on his hands.']\n",
      "--------------------------------------------------\n",
      "Image Name       : ['test_527.jpg']\n",
      "\n",
      "Correct Caption  :   ['A bedroom has a twin bed that is high up off the floor. The bedframe is metal with metal bars. In front of the bed is a chest. The windows have shutters on them that are closed and drapes that are open. A green plant in a pot is in front of one of the windows. There is a rug on the floor. The bed is made and there are two pillows on top.']\n",
      "\n",
      "Predicted Caption:  ['this is a photo of a bedroom. part of a ceiling fan is hanging above a wall. there are two small brown shelves on the back of it. a small gray dresser is sitting against a white painted wall. a brown and gray comforter is']\n",
      "--------------------------------------------------\n",
      "Image Name       : ['test_528.jpg']\n",
      "\n",
      "Correct Caption  :   ['Two men are sitting in front of their laptops. Both of the laptops are black and gray. The man on the right has gray and black hair. The man on the right is wearing a watch on his right wrist. The watch is black. The man on the left is wearing a navy blue shirt. The american flag is stitched on the right shoulder of the dark blue shirt.']\n",
      "\n",
      "Predicted Caption:  ['a man is on front a white laptop. on the laptop is an <UNK> doll and a <UNK>. the keyboard of the laptop is white. two people are sitting talking to a crowd on front. the men are wearing white shirts. both of the']\n",
      "--------------------------------------------------\n",
      "Image Name       : ['test_529.jpg']\n",
      "\n",
      "Correct Caption  :   ['A large plane is flying over a whole bunch of clouds high in the sky. But because it seems so far away it looks very small. It has a wing and a tail visible and is dark in color. The sky is white and blue. The clouds below the plane are fluffy and puffy and white. Far off is a patch of bright blue. The puffy clouds are a light blue color with a twinge of blue and grey to them.']\n",
      "\n",
      "Predicted Caption:  ['the sky is blue and has many clouds in the sky. the <UNK> of the clouds are white. the sky is blue with a little bit of all white clouds. there is a small sail plane in the middle of the photo. the water is']\n",
      "--------------------------------------------------\n",
      "Image Name       : ['test_530.jpg']\n",
      "\n",
      "Correct Caption  :   ['This is an old bus painted blue. There are white curtains in the windows and bicycles attached to the front. there are six windows on the side and one big window in the back. On the back of the bus is a spare tire. The bus is parked or traveling along a road next to a patch of green grass. There are many trees in the background.']\n",
      "\n",
      "Predicted Caption:  ['a bus is parked next to a large outdoor covered bus stop area. the bus is white with blue trim. to the side behind the bus is a large , green , and red bus.']\n",
      "--------------------------------------------------\n",
      "Image Name       : ['test_531.jpg']\n",
      "\n",
      "Correct Caption  :   ['Two light brown cows stand on a muddy path.  They have horns on their heads.  There are several cows on the ground behind them.  There is a thatched roofed building in the back ground. The building behind it had a blue tarp on part of the roof.  The roofs of several structures can be seen in the background.']\n",
      "\n",
      "Predicted Caption:  ['there is a cow in the picture. the cow is white with a black collar. the cow has a long neck. there is a cow eating out of the cow. there is a cow standing beside the cow and a cow also. the cow']\n",
      "--------------------------------------------------\n",
      "Image Name       : ['test_532.jpg']\n",
      "\n",
      "Correct Caption  :   ['Four white fire hydrants sit outside. A small brown dog with a long tail is walking toward them, with its rear facing the camera. There are wooden posts lining a parking lot, and greenish brown grass on a hill in the background. There is a wooden fence post in the foreground, and a wire fence. The sun is casting shadows on the ground. ']\n",
      "\n",
      "Predicted Caption:  ['a woman is standing on the beach. next to the woman is a tall brown building. the woman is wearing an orange shirt and black pants. the woman is wearing a pink vest. the water is blue and green.']\n",
      "--------------------------------------------------\n",
      "Image Name       : ['test_533.jpg']\n",
      "\n",
      "Correct Caption  :   ['A cat stands on a tiled kitchen floor, looking into an open refrigerator. There are white cabinets to the right of the fridge, and the main source of light is coming from the fridge. The door of the fridge has eggs, bottles of drinks and condiments, and there are containers of food in the main part of the fridge where the cat is looking. ']\n",
      "\n",
      "Predicted Caption:  ['this picture is taken inside of a kitchen. the floor is a light hardwood. a white refrigerator is sitting beside a wall in the kitchen. the refrigerator has two door handles on it. bananas , a green plant , a glass and other objects are']\n",
      "--------------------------------------------------\n",
      "Image Name       : ['test_534.jpg']\n",
      "\n",
      "Correct Caption  :   ['A man is taking a photo in a public restroom mirror with a camera. There is a long counter with four white sinks, soap dispensers, and one water knob for each. Above the sink is a long mirror reflecting the back wall. The wall is covered with beige subway tile. The man taking the picture is wearing a gray shirt, and tan pants. ']\n",
      "\n",
      "Predicted Caption:  ['a <UNK> image of a bathroom and hallway is visible. the door to the bathroom is <UNK> and there is a white toilet ball by the wall.   a water bottle is on the wall above the tub.   a red light is in the corner']\n",
      "--------------------------------------------------\n",
      "Image Name       : ['test_535.jpg']\n",
      "\n",
      "Correct Caption  :   ['There is a guy skateboarding. He is skateboarding on a black skateboard with white wheels. He is wearing a white shirt with gray shorts. He has on a pair of red sneakers with black markings and laces. He is in mid jump and has his hands over his heads. There are wooden benches behind the guy on the skateboard. The benches have purple handles. A building with bars and window is behind the benches and is showing the reflection of trees. ']\n",
      "\n",
      "Predicted Caption:  ['a man is skateboarding. the man is wearing blue jeans. the skateboard is in the air. the man is wearing a shirt. the man is wearing a jeans. the man is wearing a jeans. the man is wearing a shirt. the man']\n",
      "--------------------------------------------------\n",
      "Image Name       : ['test_536.jpg']\n",
      "\n",
      "Correct Caption  :   ['A man in a black wetsuit is surfing. The sky above him is a dark shade of blue with a lighter area towards the water. The ocean that he is surfing in is a shade of green with white foam meeting the skyline. The man has his arm outwards for balance and his body bent. His surfboard is white and has a point on the end.']\n",
      "\n",
      "Predicted Caption:  ['a man on a long surfboard is wearing shorts and a white shirt. he is in a bent position trying to surf a big wave.   the surfboard has a green tint and a yellow bill.   the man is wearing black wet trunks and a']\n",
      "--------------------------------------------------\n",
      "Image Name       : ['test_537.jpg']\n",
      "\n",
      "Correct Caption  :   ['A small elephants is bathing in a small man made pond. The water is shallow coming to his under belly and covering his legs. There is water splashing to the right of the elephant. The bottom of his tail is in the water, and his trunk is raised upward as he closes his eyes. The shadow of his turns is cast on the light colored rocks in front of the elephant as the sun shines above.']\n",
      "\n",
      "Predicted Caption:  ['this is an image of an elephant. the elephant is in an enclosure. the elephant is gray. the elephant is gray and brown. the elephant has a long dark. the elephant has white tusks. the other elephant is wearing a black and gray']\n",
      "--------------------------------------------------\n",
      "Image Name       : ['test_538.jpg']\n",
      "\n",
      "Correct Caption  :   ['People are gathered to board a bus.  The bus is yellow with side doors opened for passengers to enter.  The bus has two front windshields that are high up on the front of the bus.  There are street light poles above the walkway.  People entering the bus are wearing jackets and some have hats on.  The sky is blue with white clouds in the distance.']\n",
      "\n",
      "Predicted Caption:  ['there is a large white bus on the street with blue writing on it. there are people standing on the sidewalk next to the bus. there is a large white building in the distance.']\n",
      "--------------------------------------------------\n",
      "Image Name       : ['test_539.jpg']\n",
      "\n",
      "Correct Caption  :   [\"A cat is looking outside of a window. The cat is peeking with it's head tilted to the side. It appears to be focused on something that is moving outside. The cat is white and has black spots all around its body. The tail is black and the cat has on a pink collar. The cat is looking out of a glass door that is behind an open door.\"]\n",
      "\n",
      "Predicted Caption:  ['a black and white cat is sitting in a white chair. the cat is looking up at the camera. there is a black cord and a black strap on the floor in front of the chair. there is a white door on the floor in front']\n",
      "--------------------------------------------------\n",
      "Image Name       : ['test_540.jpg']\n",
      "\n",
      "Correct Caption  :   [\"A single giraffe stands just in front of a series of high boulders which form an enclosure behind it which is higher than it's head.  The giraffe is standing in a depression and a small grass hill rises in front of the animal.  Trees are behind the rocks and cast shadows onto the rocks.  The area in front of the giraffe is grass.\"]\n",
      "\n",
      "Predicted Caption:  ['the giraffe is standing by a   tall rock wall. the wall is as tall as the giraffe. there is a green bucket under the giraffes head on the floor. there is an animal with brown feathers next to the giraffe behind the rocks. the']\n",
      "--------------------------------------------------\n",
      "Image Name       : ['test_541.jpg']\n",
      "\n",
      "Correct Caption  :   ['A bathroom has brown tiles going halfway up the walls and on the floor. The tiles are rectangular. There is a small white toilet attached to the wall and a metal gray flusher. There is a small white sink on another wall. The wall above the tiles is a light yellow color, almost white. The walls outside the bathroom are white.']\n",
      "\n",
      "Predicted Caption:  ['the bathroom is clean. the bathroom is white. the fixtures on the sink are black. the toilet is white. the walls are tiled. the floor is made with tiles too. the floor tiles are smaller than the wall tiles. the mirror is']\n",
      "--------------------------------------------------\n",
      "Image Name       : ['test_542.jpg']\n",
      "\n",
      "Correct Caption  :   ['A bunch of elephants are gathered together outside. Two of the elephants are very close to eachother and the other one is a couple steps away. Two of the elephants look like parents and the smallest one looks like a child. They are in an enclosed area that appears to be a zoo. There is a small body of water in the very front.']\n",
      "\n",
      "Predicted Caption:  ['there are two elephant in a <UNK> like setting. one of the elephants is larger than the other. there are trees surrounding the patch of dirt or dried mud that the elephant are stand in. the trees are both dark and light green. there is']\n",
      "--------------------------------------------------\n",
      "Image Name       : ['test_543.jpg']\n",
      "\n",
      "Correct Caption  :   ['The image is of a train-station. It is an aerial view. There is a train in the station and there are three platforms. All three platforms are crowded with passengers. There is a metal archway that goes above the train tracks. On the outside of the station there are trees. On the right side of the image there are large white buildings in the background. It is daytime. Some of the people at the train station are wearing backpacks, many of the people are wearing white shirts. ']\n",
      "\n",
      "Predicted Caption:  ['a <UNK> of people on display in what looks to be a <UNK>.   a large crowd is in front of the buildings.   people are walking around and there is one male.   two are walking side by each side and facing the street.']\n",
      "--------------------------------------------------\n",
      "Image Name       : ['test_544.jpg']\n",
      "\n",
      "Correct Caption  :   ['The image is of a jet plane. It is gray in color and has two small black wheels below its body. These small black wheels extend to each side of the plane. On the front of the plane there is a propeller that is moving in full motion, as the plane is up in the air. The letters \"TF-FTE\" are on the bottom of the left wing. The tail has a small wing on each side. The sky appears gray and dark.']\n",
      "\n",
      "Predicted Caption:  ['a plane is grey in color. the plane is flying in the air. the plane is a light blue and red. there is writing on the plane.']\n",
      "--------------------------------------------------\n",
      "Image Name       : ['test_545.jpg']\n",
      "\n",
      "Correct Caption  :   [\"Chopped tomato pieces sit on a cutting mat next to a silver chef's knife. There is a glass measuring cup in the background, and two bunches of green broccoli next to the tomatoes. The flash from the camera gives a bright light on the food, and the kitchen counter that everything is sitting on is a creamy white color. \"]\n",
      "\n",
      "Predicted Caption:  ['a pile of vegetables sits on a black counter top. there is a yellow wall behind the counter. on the counter is cucumbers , <UNK> and heads of broccoli.']\n",
      "--------------------------------------------------\n",
      "Image Name       : ['test_546.jpg']\n",
      "\n",
      "Correct Caption  :   [\"The room is a little dark. There are two windows in the room. The two windows are letting in the only light that is coming into the room. The two windows have drapes. There's a cream chair to the left of the room. There are two lamp shades on both sides of the windows. There is a silver kettle on a table closest to the camera.\"]\n",
      "\n",
      "Predicted Caption:  ['a <UNK> <UNK> empty living room is <UNK> here.   a flat screen television is mounted on the wall , opposite a fabric <UNK> sofa strewn with cushions.   a glass coffee table with a vase of flowers is in front of the sofa.   to']\n",
      "--------------------------------------------------\n",
      "Image Name       : ['test_547.jpg']\n",
      "\n",
      "Correct Caption  :   ['The room shows computer desktops on long table. A man with balding head is looking at the his computer. He is wearing a stripe shirt. He is also wearing eyeglasses. In front of him is a woman wearing a white blouse. She is also looking at her computer. The wall is white and there is a green poster. The room is dark except fro the lights coming from the desktops.']\n",
      "\n",
      "Predicted Caption:  ['three large computer screens are lined up on a desk. each screen is   opened to a <UNK> program. the right screen appears to be an <UNK> program , the middle is a <UNK> program and the right screen is <UNK>. none of the screen characters']\n",
      "--------------------------------------------------\n",
      "Image Name       : ['test_548.jpg']\n",
      "\n",
      "Correct Caption  :   ['A vintage ad for Gold Seal floors and walls shows a woman in a red and black party dress entering a bedroom. There is a platform, and a bed on the platform with a ottoman, and a nightstand. A tall window behind the bed has closed curtains. A bookcase on the wall has white books on the shelves. The floors appear to be terrazzo.']\n",
      "\n",
      "Predicted Caption:  ['there is a wooden desk with a white door in it and a picture on a bed. there is a black lamp in front of it. there is a lamp next to the chair with a black lamp on it.']\n",
      "--------------------------------------------------\n",
      "Image Name       : ['test_549.jpg']\n",
      "\n",
      "Correct Caption  :   ['A little brown teddy bear sits on the corner of a couch. The couch is black and made of leather. The bear has a pink bow around its neck. there is a painting on the wall behind the couch. The painting is of a tidal wave. There is a mountain in the background as well. The bear sits alone on the couch. The bear is cute.']\n",
      "\n",
      "Predicted Caption:  ['this is an image of a bedroom. the bedroom has long green leaves. the food is dark brown and white. the picture is sitting on a dark brown desk. the vase is large and <UNK>. the vase is a beige color. there are']\n",
      "--------------------------------------------------\n",
      "Image Name       : ['test_550.jpg']\n",
      "\n",
      "Correct Caption  :   ['This is photo inside a stadium at a soccer game. There are spectators in the background. The ground is covered with green astro-turf. There are two men play soccer. One of the men is wearing a black pair of shorts, white shirt, white socks and black shoes with yellow at the bottom. The other player is wearing a purple pair of shorts, a purple shirt with white writing and purple socks. They are both trying to kick the white ball that has multi-colored swirls. ']\n",
      "\n",
      "Predicted Caption:  ['this picture is taken outside on a sunny day. a brown and white soccer court is standing on a grassy field. two people are wearing red pants and white <UNK> shoes. a white and red kite is sitting on the field near the people. there']\n",
      "--------------------------------------------------\n",
      "Image Name       : ['test_551.jpg']\n",
      "\n",
      "Correct Caption  :   ['There is a baseball game going on. There are batters on the side warming up. They are wearing grey uniforms. They are wearing red helmets. The other team has red and white uniforms. There are many people watching the game. The ground is green. The sky is blue. There are many trees. Many people are playing.']\n",
      "\n",
      "Predicted Caption:  ['a bunch of people are at a <UNK> baseball game. a player is getting ready to get ready to bat. there are not many people in the stadium.']\n",
      "--------------------------------------------------\n",
      "Image Name       : ['test_552.jpg']\n",
      "\n",
      "Correct Caption  :   ['A cow eats grass on the side of a hill. The cow is white. The grass is green. The grass is all over the hill. There are some weeds in the grass. There are  some trees by the grass. There is a rock by the trees. There are many mountains.  There is some snow on the mountains. there is some fog near the top. There is just one cow. ']\n",
      "\n",
      "Predicted Caption:  ['a bunch of cows are grazing on the ground. the ground is covered in dirt and some are brown and white markings. a woman in a blue shirt is walking across a dirt road with her skis. she has on a white hat with a black']\n",
      "--------------------------------------------------\n",
      "Image Name       : ['test_553.jpg']\n",
      "\n",
      "Correct Caption  :   ['A woman has a bunch of bananas o her head. She is seen in the forefront of three village type cottages. There is three other people behind the woman. There appears to be two men and a child as the man is wearing a blue shirt and stands in the doorway of one of the cottages. The child sits on the dirt ground a few feet away from the man in the blue shirt. A man wearing a red shirt is seen a few yards behind the others. Trees protrude from the tops of each cottage. ']\n",
      "\n",
      "Predicted Caption:  ['this photo was taken outdoors outside on a sunny day. the sky is blue with large white clouds in it above the large white window. the building is red in color and behind the people on the left are three wooden tables set in front of the']\n",
      "--------------------------------------------------\n",
      "Image Name       : ['test_554.jpg']\n",
      "\n",
      "Correct Caption  :   ['A little girl is gesturing while standing in a grassy area. The girl has red paint on her cheeks. The girl has short black hair. She is wearing an orange shirt. She is also wearing a short that are a floral print. Behind the girl is a wooden fence. The fence is discolored and gray. On the ground behind the girl is a black bat and a small white plate.']\n",
      "\n",
      "Predicted Caption:  ['a young girl holds a tennis racket. the girl is wearing a <UNK> top and a yellow shorts. her <UNK> hair is in a ponytail. the girl is wearing a white shirt. she is barefoot. the girl is wearing a white shirt. she']\n",
      "--------------------------------------------------\n",
      "Image Name       : ['test_555.jpg']\n",
      "\n",
      "Correct Caption  :   ['Multiple hair styling tools are sitting on a metal grate. A silver pair of shears is laying on top of a smaller pair of thinning shears. The thinning shears are different colors of blues, yellows, and pinks. Next to the shears is a gray comb. The comb has 2 varying ends. One side of the comb has small teeth the other has wider teeth. A golden comb is laying on top of the gray comb. The golden comb is large with large teeth. The metal grate is dark gray.']\n",
      "\n",
      "Predicted Caption:  ['a pair of scissors resting upside down amongst a lot of pencils.   the scissors are <UNK> , orange and plastic.   the pencils are <UNK> , <UNK> and <UNK>.   there appears to be a paper splattered with painted under all the pencils.']\n",
      "--------------------------------------------------\n",
      "Image Name       : ['test_556.jpg']\n",
      "\n",
      "Correct Caption  :   ['Black and white cows are lined up at a feeding station in a green field. The line up shows seven cow rumps and no heads, but the eighth cow is turned, looking at the camera. A farmer is in a green tractor in the distance, directly behind the feeding area. Bushes are to the left, behind the cows. The one cow with a visible face has yellow id tags in her ears. ']\n",
      "\n",
      "Predicted Caption:  ['there are two horses standing in a field. there is grass on the ground around the grass. there are trees behind the grass.']\n",
      "--------------------------------------------------\n",
      "Image Name       : ['test_557.jpg']\n",
      "\n",
      "Correct Caption  :   ['A group of 24 young men are posing on the stairs in front of a building. They are mostly dressed in jackets and ties, although one seems to be wearing a sweater under his jacket.  Two of the men are wearing glasses. The men appear to be Caucasian. Most of the men are standing on the stairs, but a few are sitting on the stones on the side of the stairs. They are in front of a porch.  ']\n",
      "\n",
      "Predicted Caption:  ['three men are posing for some together outside. they are all dressed in business attire. the two men are wearing suits. they are <UNK> in the <UNK> of a rainbow <UNK>. there is a small little boy in the background. he is wearing a']\n",
      "--------------------------------------------------\n",
      "Image Name       : ['test_558.jpg']\n",
      "\n",
      "Correct Caption  :   ['Two young men are seen on a ski slope skiing in a black and white photo. The boy in the foreground is wearing a winter hat with white specks, and white pine trees knitted into the design and a white pom pom on the top. The man is bending his right leg as he holds of his ski poles in the air. The boy on the left side of him is barely visible. ']\n",
      "\n",
      "Predicted Caption:  ['this is an image of some skiers on a slope. the skier in the middle is wearing a maroon , pink and gray jacket. the man has goggles on that are tinted orange. the man has a yellow and black helmet. the man is holding']\n",
      "--------------------------------------------------\n",
      "Image Name       : ['test_559.jpg']\n",
      "\n",
      "Correct Caption  :   [\"A boy is sleeping on the couch with a black cat. The cat's ears are perked up. The boy has short brown hair and is wearing a white and gray shirt. The couch is light brown and there are some wooden bars at the top, where the boy's head is. The surface behind the wooden bars is white. The boy's ear is red.\"]\n",
      "\n",
      "Predicted Caption:  ['a baby is sleeping next to a bed. the bed is a dark gray color and the cat is white. the bed has a purple blanket on top of it. there are also two brown teddy pillows sitting on the bed. behind the bed are']\n",
      "--------------------------------------------------\n",
      "Image Name       : ['test_560.jpg']\n",
      "\n",
      "Correct Caption  :   ['The building is painted burgundy and orange. There is an old sign attach to the wall for a restaurant. The writing on the sign is yellow. There are lights attached to the wall as well. The windows on the building are very big. The windows are reflecting the trees. There is a aqua blue square small sign in the sign on the wall.']\n",
      "\n",
      "Predicted Caption:  ['the sign is on the street. the sign is yellow , orange , and blue. there is a white sign with graffiti on the sign above the sign. the sky is blue. there is a traffic light by the cars. the sign is red']\n",
      "--------------------------------------------------\n",
      "Image Name       : ['test_561.jpg']\n",
      "\n",
      "Correct Caption  :   [\"The desk has laptops on it. Two of the laptops are turned off. There are two desktops to the right of the laptops. The two desktops are on. The desk is made of wood. There is a glass on a coaster to the right of the desktop computer. There's a garbage can underneath the cabinet under the desk. There is a shelf over the desk that has books on it.\"]\n",
      "\n",
      "Predicted Caption:  ['three rolling chairs are lined up on a small wooden table. one of the boys is wearing a white sweater and holding a pink <UNK> in her lap. the other lady has a white mouse on and is looking at the camera. the other person has']\n",
      "--------------------------------------------------\n",
      "Image Name       : ['test_562.jpg']\n",
      "\n",
      "Correct Caption  :   ['A man in a red and black jacket, blue jeans, and a black motorcycle helmet is seen standing on the side of the road near his motorcycle. The man is holding his riding gloves in his right hand just below the license plate on his bike. The man has the face plate of the helmet down obscuring his face. Across the road there is dry grass and bushes on an incline. The road is empty otherwise. ']\n",
      "\n",
      "Predicted Caption:  ['a man is riding a motorcycle down the street. he is wearing a blue <UNK> on his head , a green shirt and black pants. the bike is black and chrome. the street is paved and has a double yellow line and a white line painted']\n",
      "--------------------------------------------------\n",
      "Image Name       : ['test_563.jpg']\n",
      "\n",
      "Correct Caption  :   ['A train is traveling on the railway track that is up on a small hill. The train is dark gray and light gray colors with yellow on its front. The hill has dry yellow as well as green grass. Next to the hill is a fence with wooden posts and green plants are growing on that side of the fence. There are also some green trees. There are some white clouds in the sky.']\n",
      "\n",
      "Predicted Caption:  ['there is a blue train with red doors crossing a bridge with concrete block pillars. on the front of the train are three windows and under the windows is a strip of yellow. the bridge is over a <UNK> moving river. the vegetation is very lush']\n",
      "--------------------------------------------------\n",
      "Image Name       : ['test_564.jpg']\n",
      "\n",
      "Correct Caption  :   ['The surfer is wearing a blue and black wetsuit on a cloudy day.  His surfboard is baby blue and cutting through the wave.  The surfer is focused on riding the wave as the spray from the wave is hitting him.  The surfer is keeping his body bent and low to the surfboard to keep himself on the surfboard.  The spray from the wave is small, so the surfer is coming to the end of the wave.']\n",
      "\n",
      "Predicted Caption:  ['a man is surfing with a child. the child is on a surfboard. the surfboard is white. the kid is having a really good time.']\n",
      "--------------------------------------------------\n",
      "Image Name       : ['test_565.jpg']\n",
      "\n",
      "Correct Caption  :   ['A woman in a white hat with a light brown ribbon walks down a city sidewalk with her purse over her shoulder and carrying a large wooden basket.  There is a railing on the sidewalk and two bicycles are leaning against the railing.  There are a couple of signs and both signs are in the Asian language.  A statue of Colonel Sander from KY Fried Chicken stands in a glass showcase in front of one of the windows.']\n",
      "\n",
      "Predicted Caption:  ['there is s grey building in the background. the signs outside are made of wood. the writing on the signs is white. there is a black umbrella on the side of the bus. there is a black arrow on the street.']\n",
      "--------------------------------------------------\n",
      "Image Name       : ['test_566.jpg']\n",
      "\n",
      "Correct Caption  :   ['A picture of people having a bike race. There are orange cones on and around the street. There are tall buildings behind the bike race. There is a large green tree to the right of the bike race. There is a tall street light to the left of the bike race. There are white lines and words painted on the street. The two men at the lead of the bike race are wearing helmets.']\n",
      "\n",
      "Predicted Caption:  ['this photo is taken outside on a sunny day. a man can be seen walking on a road behind a man. a man is wearing a red cap on his head , and wearing a black helmet. there are buildings in the background of the road']\n",
      "--------------------------------------------------\n",
      "Image Name       : ['test_567.jpg']\n",
      "\n",
      "Correct Caption  :   [\"There's a truck and motioned down the street. The front of the truck is ready. This guy is blue with no clouds. The back and top of the truck is white. Their trees to the left side of the truck. The truck has big black wheels. The headlights on the truck on. There's a puff of black smoke behind the truck.\"]\n",
      "\n",
      "Predicted Caption:  ['there is a large passenger truck. the truck is grey in color. there is a white sign on the side of the truck. there is a red truck parked in front of the building.']\n",
      "--------------------------------------------------\n",
      "Image Name       : ['test_568.jpg']\n",
      "\n",
      "Correct Caption  :   ['There are a bunch of motorcycles sitting in front of a store. There is a large white sign on the store front. There is a large red sign on the store front. The sky above the store is blue. The road in front of the store is gray and paved. There are yellow lines on the road in front of the store. There are people standing around the motorcycles. ']\n",
      "\n",
      "Predicted Caption:  ['a <UNK> of motorcycles sits in front of a building. there are red signs on a pole in front of the building. a person wearing a black jacket is standing in front of the building. there is a red sign on the wall.']\n",
      "--------------------------------------------------\n",
      "Image Name       : ['test_569.jpg']\n",
      "\n",
      "Correct Caption  :   ['A young child is brushing his teeth.  He appears to be about three or four years old.  He looks Asian, with epicanthic folds in his eyes.  He has brown hair and light eyebrows. He is wearing a white t-shirt. The toothbrush is blue and gray.  The sink is white.  A mirror in the background reflects a bathtub or another sink.  Nobody else is visible.']\n",
      "\n",
      "Predicted Caption:  ['a little boy is standing in front of a bathroom wearing a white shirt. the girl is wearing a brown short sleeve shirt with a red and white towel on it. part of a chair is standing behind the girl. part of a maroon piece can']\n",
      "--------------------------------------------------\n",
      "Image Name       : ['test_570.jpg']\n",
      "\n",
      "Correct Caption  :   ['A giraffe stands in an outdoor enclosure. The giraffe is standing in a side view, with its head turned toward the camera. There is a metal fence behind it, with wooden posts. There are tall palm trees with brown trunks, and green leaves and branches. It is a clear sunny day, and blue sky is visible in the background above a tan building. The giraffe is standing on beige dirt or sand and its hooves are dusty. ']\n",
      "\n",
      "Predicted Caption:  ['there is a giraffe and three zebras in the image. the giraffe is <UNK> on vegetation in the higher areas while the zebras are eating on vegetation that is lower. there are trees through the image. some of them are dark green while some are lighter']\n",
      "--------------------------------------------------\n",
      "Image Name       : ['test_571.jpg']\n",
      "\n",
      "Correct Caption  :   [\"A person is in fast motion skiing on the snow. The skis are multicolored. The trees in the background are a blur because the person is moving. The person is wearing a hat and gloves. The hat and gloves are both black. The trees in the background have snow on them. The person is wearing black pants. The hood on the person's jacket is bright red.\"]\n",
      "\n",
      "Predicted Caption:  ['two people are in the snow on a hill. there is a person sitting on the ground. there is a person standing up wearing skis. they are wearing a bright orange jacket and an orange hat.']\n",
      "--------------------------------------------------\n",
      "Image Name       : ['test_572.jpg']\n",
      "\n",
      "Correct Caption  :   ['There is a man surfing in the ocean. He is in the wave. He is on his stomach on his surfboard. He is holding on with his two hands. The wave is big. The surfboard is red. The man is soaking wet. The water is a greenish color. The man has short sleeves on. The Water behind the waves is calm. The man is wearing some sort of paddle on his feet.']\n",
      "\n",
      "Predicted Caption:  ['a man is surfing a wave. he is just about to go over the wave to <UNK> a trick. he has on a black shirt with some trunks. his surfboard is white , red , and black.']\n",
      "--------------------------------------------------\n",
      "Image Name       : ['test_573.jpg']\n",
      "\n",
      "Correct Caption  :   ['The man is sitting on a pink bicycle with a basket on the front.  He is wearing an orange short sleeve t-shirt and blue jean shorts. He also is wearing a pair of thong shoes.  He is sitting on a bicycle on the beach near the blue water.  The sky is clear blue. There is a  boat in the water.  The man is near a white pick up truck that has a license plate on the back of it.  There is a board in sand near the water.']\n",
      "\n",
      "Predicted Caption:  ['a man is walking along the sand on a beach. he is wearing a short sleeve shirt and blue jeans. the horse is brown and has a brown mane. the bridle on the man is wearing a black jacket. a black man is walking away']\n",
      "--------------------------------------------------\n",
      "Image Name       : ['test_574.jpg']\n",
      "\n",
      "Correct Caption  :   ['In the image only the head, neck, and a partial hoof of a Zebra is visible. The Zebra is white and black, and is leaning down to eat from the grass. The Zebra is striped. The grass that the Zebra is eating from is green with various twigs and clumps of dirt scattered across it. The picture was taken while the sun was shining. ']\n",
      "\n",
      "Predicted Caption:  ['there is a zebra in an enclosure. this might be some type of zoo. the zebra on the left is standing up. the zebra has long neck and white ears. the zebra has a black nose. the zebra has two horns on the head']\n",
      "--------------------------------------------------\n",
      "Image Name       : ['test_575.jpg']\n",
      "\n",
      "Correct Caption  :   ['A woman is standing in the middle of a concrete path crouching and holding a tennis racket as she poses for the camera.  She has short blonde hair and is wearing a short-sleeved button-up light blue shirt and a dark blue denim skirt that falls to her knees.  She is wearing black thong sandals and has red painted toenails.  The path is long and winding as it stretches between two areas of dense green shrubbery lining each side.']\n",
      "\n",
      "Predicted Caption:  ['the woman is standing on the tennis court. the tennis court is blue with white lines. the woman is wearing <UNK> on her head. she is wearing white sneakers. she is also wearing black sneakers. the tennis racket is red and white. there']\n",
      "--------------------------------------------------\n",
      "Image Name       : ['test_576.jpg']\n",
      "\n",
      "Correct Caption  :   [\"The image is of a man's forearm outstretched holding some fruit. The man has light skin and blond hairs on his forearm. He is holding out his left hand, he is holding a bushel of miniature bananas in the open palm of his left hand. They are lying across his fingers, there are seven small bananas. The man is standing on sand that has many shoe and paw prints in it.\"]\n",
      "\n",
      "Predicted Caption:  ['a small white dog with black spots is resting on a table.   the box is sitting on a dark grey table.   two <UNK> are on the table in front of the bananas.   inside the hole and <UNK> is a pile of red sauce']\n",
      "--------------------------------------------------\n",
      "Image Name       : ['test_577.jpg']\n",
      "\n",
      "Correct Caption  :   ['Two people are standing on a beachy sand area flying a kite.  There is a woman and a man.  Both are wearing jeans.  The woman has a black long sleeved turtle neck on .  The man is also wearing a lightweight jacket.  In the distance are sandy hills with grass growing on top.  The sky is blue with white clouds in the distance.']\n",
      "\n",
      "Predicted Caption:  ['this is a picture of a man flying a kite.   the kite , which has a long red white tail , is bare , and has no lower colors.   the man has one hand on the ground while the man is wearing no orange and']\n",
      "--------------------------------------------------\n",
      "Image Name       : ['test_578.jpg']\n",
      "\n",
      "Correct Caption  :   ['A woman is posing in a very weird position to take a photograph. She has on a hat that looks like it may be corduroy. She has her hands up, one is an all the way opened palm and the other has her two fingers in the middle pointed downward while the outside fingers are pointed up. She is looking directly at the camera.']\n",
      "\n",
      "Predicted Caption:  ['the woman is <UNK> under her chin. she is holding remotes in her left hand. the remotes are white. the woman is wearing a black long - sleeve shirt. the shirt is a <UNK> - neck shirt. the wires on the remotes are white']\n",
      "--------------------------------------------------\n",
      "Image Name       : ['test_579.jpg']\n",
      "\n",
      "Correct Caption  :   ['A woman is standing on a train platform. She is wearing a scarf on her head, a coat, and a red skirt. She is holding on to a black suitcase. A lot of people are standing across from her on another train platform. They are standing near their luggage. A large building with windows is over a platform.']\n",
      "\n",
      "Predicted Caption:  ['a woman is walking down the sidewalk. her shirt is very <UNK> and has a unique design. her shopping bag is bright pink her hair is short and spiky. there are a lot of motorcycles parked next to the sidewalk she is walking on.']\n",
      "--------------------------------------------------\n",
      "Image Name       : ['test_580.jpg']\n",
      "\n",
      "Correct Caption  :   ['Two zebras with dark brown and white stripes are standing close to each other, and they are leaning their heads on each others backs. The horse on the right is taller than the one on the left, and he has a longer face as well. The one on the left appears more white, and brown, than black and white. There are mountains in the distance behind the dry grass , and the plains. ']\n",
      "\n",
      "Predicted Caption:  ['there are two zebras in a field of grass. there is a boulder on the ground in front of the zebra. there is a fence surrounding the field.']\n",
      "--------------------------------------------------\n",
      "Image Name       : ['test_581.jpg']\n",
      "\n",
      "Correct Caption  :   ['Two black microwaves are sitting on a yellow counter top in a kitchen. A brown shelf is hanging above the microwaves. Objects are sitting on the shelves. A phone outlet is hanging from a white painted wall above the counter top. Two wooden chairs are sitting in front of the counter top. Part of a room can be seen in the background of the photo.']\n",
      "\n",
      "Predicted Caption:  ['a white counter top has a black oven on it. there is a silver laptop sitting on top of the counter top. there is a pack of <UNK> and a glass on the top of the counter.']\n",
      "--------------------------------------------------\n",
      "Image Name       : ['test_582.jpg']\n",
      "\n",
      "Correct Caption  :   ['Brown cows are lying on the green grass. Behind the meadow there is a small rocky mountain. Some parts of the mountain is covered with grass and shrubs. The cow on the front has two long horns and a long tail. On back a cow is stand facing to the right. On back the meadow is covered with dark green vegetation.']\n",
      "\n",
      "Predicted Caption:  ['cows are grazing in the green pasture. the grass on the field is bright green and short. there is a short fence surrounding the cows with black and white poles and black metal poles. one cow is in the center. the cows are standing on']\n",
      "--------------------------------------------------\n",
      "Image Name       : ['test_583.jpg']\n",
      "\n",
      "Correct Caption  :   ['Three men and a woman are standing in a room of a home. They are holding white game controllers in their hands. A blue and brown futon is sitting in front of a window. A tall cabinet is leaning against a wall beside the window. A brown table is sitting near the cabinet with different items on it. A long picture frame can be seen hanging on a wall in the room.']\n",
      "\n",
      "Predicted Caption:  ['two adults are standing inside of a room of a home. the man is standing in front of a large white rug. a brown piano is sitting against a white wall. a black box , a black and white <UNK> is sitting on the floor in']\n",
      "--------------------------------------------------\n",
      "Image Name       : ['test_584.jpg']\n",
      "\n",
      "Correct Caption  :   ['The sky is mostly cloudy and overcast. There is a bench to the right of the walkway. The bench is made of wood. There is a red sculpture made of metal to the left of the bench. Some of the grass is cut short and some is not. There are trees behind the bench the trees directly behind the bench is a reddish wine color. The trees in the distance are tall and bushy.']\n",
      "\n",
      "Predicted Caption:  ['a bench is sitting on a grassy field.   the park is brown in color.   the park has a wooden gate that is painted its spots.   a wooden bench is in the foreground from the bench from the bench.   a bench is']\n",
      "--------------------------------------------------\n",
      "Image Name       : ['test_585.jpg']\n",
      "\n",
      "Correct Caption  :   ['The image is of a seagull flying in the air in the direction of the west. The seagull in the air is white and its wings are spread open. There is another seagull on the ground. The ground is made of sand and the seagull is located near the shoreline of the water. There are waves in the water in front of the seagull on the ground. The clouds are gray and the sun is orange. The sun can be seen in the distance.']\n",
      "\n",
      "Predicted Caption:  ['in this picture there is a man at the beach. the man is standing in the water. the man is holding a surfboard. the man is wearing a black wet suit. the man is wearing black shorts. the man has a black swim suit']\n",
      "--------------------------------------------------\n",
      "Image Name       : ['test_586.jpg']\n",
      "\n",
      "Correct Caption  :   ['The image is of a sign hanging on a black pole. The sign says \"Objazd\" in black lettering. To the left of the lettering is a solid black arrow which is pointing to the left. The sign\\'s background is yellow. It has markings and scratches on it making it look worn. The sign is near the bottom of the picture. The pole does not have a top or bottom. In the background is blue sky with numerous clouds. The clouds are large and puffy. The picture was taken during the daytime since the clouds are out and the sky is blue. ']\n",
      "\n",
      "Predicted Caption:  ['a green pole has signs on it. there is a pole that is red in color. there is a tall light above the pole on the pole. there is a pole on the street in front of the pole.']\n",
      "--------------------------------------------------\n",
      "Image Name       : ['test_587.jpg']\n",
      "\n",
      "Correct Caption  :   ['There is a single person in black on the ocean as they para-ski on a mostly cloudy day. The sail in the air is yellow, with white, and black stripes on it, and is high in the air and far from the skier. Beyond the sand, and near the camera there is a swatch of area where there are small pebbles and small rocks on the sand. There is a red, white, and black kite on the beach on the damp sand near the rock covered ground. rocks.']\n",
      "\n",
      "Predicted Caption:  ['a large body of water with white sand surrounding it. there are people standing in the water. there are several kites in the sky above the water. there is a yellow kite on the beach. there are small waves in the water around the boats']\n",
      "--------------------------------------------------\n",
      "Image Name       : ['test_588.jpg']\n",
      "\n",
      "Correct Caption  :   ['Four elephants are seen in a muddy field on a sunny day. The Elephant nearest the elephant is small and his head, trunk, and front legs are wet. The taller elephants on the right are facing away from the camera, and are fully wet. The fourth elephant is far in the distance behind a wooden post fence. A person in a tan hat is standing near the two wet elephants.']\n",
      "\n",
      "Predicted Caption:  ['a large elephant is standing on a dirt ground.   the grass looks as far as the trunk can see the shadows of the elephants from the elephants.   the animals in the foreground are surrounded by a dark <UNK> bush.   there are two different']\n",
      "--------------------------------------------------\n",
      "Image Name       : ['test_589.jpg']\n",
      "\n",
      "Correct Caption  :   [\"There are two giraffes in the outside wooded area. One of the draft is sitting down. The other draft is standing with his face in the trees. The giraffe sitting down is looking to the right. The giraffe has two furry horns on its head. The top of the horns is a dark brown color. The giraffe is brown and tan. The giraffe's neck is very long. The giraffe ears are white. The eyes of the giraffe are very dark.\"]\n",
      "\n",
      "Predicted Caption:  ['the tall giraffe stands along on the grassy field. in the distance you can see another animal grazing on the grass. a very large tree with <UNK> of green leafs is even further out. it looks to be bright and sunny outside where the animals are']\n",
      "--------------------------------------------------\n",
      "Image Name       : ['test_590.jpg']\n",
      "\n",
      "Correct Caption  :   [\"The picture was taken in black and white. There are planes parked on the grass. There's a big plane and a small plane parked next to each other. The big plane has two propellers under the weight. The windows are on the side of the plane. The windows are circle-shaped. The grass is high. Some of the grass is brown colored.\"]\n",
      "\n",
      "Predicted Caption:  ['a vintage plane is sitting on a runway. there is a lot of trees behind it. there are strips of runway mixed with plants surrounding the plane.']\n",
      "--------------------------------------------------\n",
      "Image Name       : ['test_591.jpg']\n",
      "\n",
      "Correct Caption  :   ['A Caucasian couple are sitting in bed reading a book together. They are both under a yellow bed sheet.The man does not have a shirt on. He also has blue eyes and short brown hair. The woman looks older with reddish-brown hair. The bed frame is made of metal and is black and gold. Above the bed a brown curtain with a funky print hangs.']\n",
      "\n",
      "Predicted Caption:  ['a man is laying on the bed reading a book. the book is in his right hand. the man is wearing a brown belt. the man is laying his head on the bed. the man is wearing a black and white striped shirt. the']\n",
      "--------------------------------------------------\n",
      "Image Name       : ['test_592.jpg']\n",
      "\n",
      "Correct Caption  :   ['This photo takes place inside of a bathroom. A long green curtain hangs inside of a white tub. Part of a window can seen above the tub. A window sits over a white toilet. Two small shelves are on a corner wall near the window. A roll of tissue hanging on a tissue holder near the toilet. The floor is blue in color. A small trash can is on the floor near the toilet.']\n",
      "\n",
      "Predicted Caption:  ['a bathroom with two large window shaped sinks. there is a mirror hanging above the sinks. next to the sink on the wall is a towel rack with a white towel hanging from it.']\n",
      "--------------------------------------------------\n",
      "Image Name       : ['test_593.jpg']\n",
      "\n",
      "Correct Caption  :   ['In this black-and-white image, a man is holding a cell phone to his right ear and looking straight ahead. He has very short, dark hair and has an East Asian appearance. He is standing next to a motorcycle outside a building. He appears to be wearing a robe. The appearance of him is reminiscent of a Buddhist monk.']\n",
      "\n",
      "Predicted Caption:  ['a man in a black suit is sitting in front of a door on a train. he is wearing a red cap , a black jacket and white pants and a black hat. he is holding a silver cellphone in his hands. he has a newspaper']\n",
      "--------------------------------------------------\n",
      "Image Name       : ['test_594.jpg']\n",
      "\n",
      "Correct Caption  :   ['A man is riding a skateboard on a skateboard ramp. The ramp is covered in graffiti. Above the skateboard ramp, there is a metal chain link fence. The man is wearing a black shirt with green writing on it and black pants. He is wearing red and black checkered shoes. He is holding his arm out as he is doing the trick.']\n",
      "\n",
      "Predicted Caption:  ['a man is skateboarding. the man is wearing blue jeans. the skateboard is in the air. the man is wearing a shirt. the man is wearing a jeans. the man is wearing a jeans. the man is wearing a shirt. the man']\n",
      "--------------------------------------------------\n",
      "Image Name       : ['test_595.jpg']\n",
      "\n",
      "Correct Caption  :   ['There is a large amount of snow on the ground. There are trunks that are partially covered with snow. There is a guy snowboarding through the trees. He is wearing a kaki colored puffy jumpsuit. The jumpsuit has a hat attached, but he is not wearing it. He is wearing a black cap with goggles. He is also wearing tan gloves on his hands. His snow board is bright orange and stands out on the white snow. ']\n",
      "\n",
      "Predicted Caption:  ['a man is snowboarding down a hill. he has on a black hat , orange jacket , and some brown pants. there are two whole strings that are just above the <UNK> of the man and are standing on skis. behind them is a wall of']\n",
      "--------------------------------------------------\n",
      "Image Name       : ['test_596.jpg']\n",
      "\n",
      "Correct Caption  :   ['A train with red and white cars is coming around a curving bend of a train track. The tops of the train is silvery white, and four cars are in view. There is a silver door at the front end of the train, and it is juxtaposed by a black metal fence. People are standing alongside the fence, watching the train. Numerous green trees and a giant cherry blossom tree flank the train tracks. There is a long wooden posted fence with wiring, and a wooden track near the cherry blossom tree. ']\n",
      "\n",
      "Predicted Caption:  ['a train is driving on a set of train tracks. there are large green bushes on the ground in front of the tracks. the train is blue with a yellow front and red doors. there are two headlights on the front of the train on the']\n",
      "--------------------------------------------------\n",
      "Image Name       : ['test_597.jpg']\n",
      "\n",
      "Correct Caption  :   ['The man in the picture is wearing a tie. That is black with pictures on it. The picture is of Santa Claus and a snowman. But I also have snow drawing on it. The man is wearing a white button down shirt. He is also wearing a dark-colored blazer. The man has gray hair. The man is wearing silver glasses. The wall behind the man is a green color.']\n",
      "\n",
      "Predicted Caption:  ['a man with curly light brown hair is wearing a bright pink tie.   the man is wearing black pants and a long sleeve collared shirt.   the man has dark brown hair and a black goatee.   the man is wearing black pants and a']\n",
      "--------------------------------------------------\n",
      "Image Name       : ['test_598.jpg']\n",
      "\n",
      "Correct Caption  :   ['The image is a large clock tower. It is made of stone, red bricks, and grey bricks. There are two clocks that are visible on the tower. The clocks are white and black. The time on clock reads, 1:27. Based off of what the clouds in the image look like, it appears to be an overcast day. The trees in the image are bare. There is a lookout area at the top of the tower. Below the tower is a newer red brick building. ']\n",
      "\n",
      "Predicted Caption:  ['this is an outdoor image taken of a white building with a unique design on the sides. the top of the building is designed like a castle or a tower of some sort. it <UNK> out black and round with oval windows and has the white numbers']\n",
      "--------------------------------------------------\n",
      "Image Name       : ['test_599.jpg']\n",
      "\n",
      "Correct Caption  :   ['There are two giraffes standing together. They look to be lower than the foreground, so they are standing in some type of pit. The foreground is green and grassy with sticks scattered on it. The two giraffes are tall and have white ears. They also have brown and white bodies with patterns on them. Behind the two giraffes are tall, green-leafed trees.']\n",
      "\n",
      "Predicted Caption:  ['this is an image of zoo. there are animals in an enclosure. the animals are giraffes. the giraffes are very tall. two giraffes are standing up and one is sitting down. the giraffes are spotted brown and tan. the giraffe is grazing on']\n",
      "--------------------------------------------------\n",
      "Image Name       : ['test_600.jpg']\n",
      "\n",
      "Correct Caption  :   ['This is a light colored bench on the shore. The bench has numerous slats in it.The bench is low to the ground and has rocks on it. There are also sticks and pieces of trash in the rocks. The rocks are light gray and brown in color. The bench is against a cement wall. In the background there is blue water, likely the ocean.']\n",
      "\n",
      "Predicted Caption:  ['a park is on a park. the bench is wooden in color. the bench is black with small white legs. the bench is made of wood.']\n",
      "--------------------------------------------------\n",
      "Image Name       : ['test_601.jpg']\n",
      "\n",
      "Correct Caption  :   [\"A woman and two children are standing in front of elephants. The woman is wearing a black coat. The children are wearing black and white coats and blue jeans. The woman is helping a little boy put food in an elephant's trunk. A blue bag is being held by the woman, as she helps the boy. The little girl is standing near them with her hand out. \"]\n",
      "\n",
      "Predicted Caption:  ['a large elephant is standing outside by itself. there is a crowd of people looking at the elephant over the wood fence. you can see trees with leafs on them off in the distance. the elephant looks <UNK> and sad.']\n",
      "--------------------------------------------------\n",
      "Image Name       : ['test_602.jpg']\n",
      "\n",
      "Correct Caption  :   ['In a small kitchen with white walls, sink, door, and appliances, a younger man with brown hair and dressed in a black t-shirt and sweatpants with a red, white and green design going up the side, is turning a nob on the old gas stove. There is a pot and a baking pan on the stove, and several dish rags are hanging from the door handle. A cluttered rack is above it, full of scissors and other kitchen items. Bottles of flavorings and sauces line the small kitchen window. A large wood cutting board is on the small cabinet next to the stove. More items, that appear to be kitchen related are shoved in between the stove and the cabinet.']\n",
      "\n",
      "Predicted Caption:  ['there is a man in a gray shirt and black pants. the man is holding a white container with a black <UNK> in his hand. there is a silver <UNK> on the counter next to the man with the pizza. there are small silver bottles on']\n",
      "--------------------------------------------------\n",
      "Image Name       : ['test_603.jpg']\n",
      "\n",
      "Correct Caption  :   ['A train is on the tracks with gravel underneath on a gray, dark, stormy looking day. The train in the front has many cars on the back and they appear to be open on the top. In the distance there is another train. The first train looks like a commercial train, the other one looks like it is a passenger train. The sun is on the right side casting shadows to the left. There is a small town, or a large farm in the distance on the right.']\n",
      "\n",
      "Predicted Caption:  ['a long train is turning a curve on a train track.   the train is surrounded by cars.   the train is surrounded by a brown fence and some wires are in the foreground.   in the distance are trees and a few buildings.  ']\n",
      "--------------------------------------------------\n",
      "Image Name       : ['test_604.jpg']\n",
      "\n",
      "Correct Caption  :   [\"The room has a fireplace in it. There are two windows in this room. The sunlight is coming from one of the windows. There is a sheer shade over the window. There are two light fixtures on the walls. Both of the lights are on. There's a small rocking chair on a square rug on the floor. The rocking chair is made of wood. There's a footstool in front of the small rocking chair. There's a picture over a small table by the door on the wall.\"]\n",
      "\n",
      "Predicted Caption:  ['a colorful rug is on the ground. there is a wood dresser next to it. there is a white robe hanging on the wall. there is a table with a vase of flowers on it. there is a table next to the table with a']\n",
      "--------------------------------------------------\n",
      "Image Name       : ['test_605.jpg']\n",
      "\n",
      "Correct Caption  :   ['A road runs through a wooded area.  The road has two lanes, each running in opposite directions, separated by a double yellow stripe.  A sign points the way to two separate routes coming up at an intersection.  A pole is over the sign.  It holds overhead wiring.A car is in the background, heading away from the sign.  A stop sign is in the distance in front of the car.  It is partly cloudy.']\n",
      "\n",
      "Predicted Caption:  ['a road running between two <UNK> of grass. the road is paved and the grass on either side is bright green. there is a white and red sign on the side of the road.']\n",
      "--------------------------------------------------\n",
      "Image Name       : ['test_606.jpg']\n",
      "\n",
      "Correct Caption  :   ['A picture of odd wooden shapes on the ground. There is a large framed mirror behind the objects. The floor under the objects is made out of wood. There are brown nail marks in the wooden floor boards. The wall next to the mirror is white. The wall above the mirror is brown. The floor in the reflection is shiny. ']\n",
      "\n",
      "Predicted Caption:  ['there is a wood table with a roll of paper towels on top of it. there is a white paper next to the banana. there is a silver fork on the table next to the paper. there is a brown basket on the table next to']\n",
      "--------------------------------------------------\n",
      "Image Name       : ['test_607.jpg']\n",
      "\n",
      "Correct Caption  :   ['A couple of women walk on a sidewalk. The women have a dark complexion. There is a cross walk signal to the left of the women. The sidewalk they are walking on is gray. There are green, leafy trees behind them. There is a tall building directly behind them. There is a fence around the building that is behind them. ']\n",
      "\n",
      "Predicted Caption:  ['a woman is walking down the sidewalk. her shirt is very <UNK> and has a unique design. her shopping bag is bright pink her hair is short and spiky. there are a lot of motorcycles parked next to the sidewalk she is standing on.']\n",
      "--------------------------------------------------\n",
      "Image Name       : ['test_608.jpg']\n",
      "\n",
      "Correct Caption  :   ['A clear glass bowl is next the the computer keyboard. In the clear glass bowl is a variety of fresh nuts, dates, and a part of a peeled banana. Outside of the bowl next to it on the desk is a unpeeled small orange. The desk is painted red but the paint has started to chip. You can see part of the keyboard and part of the computer monitor. ']\n",
      "\n",
      "Predicted Caption:  ['a plate is up on a table. there is a sandwich on top of the plate. there is a sandwich on top of the plate. there are pieces of meat and cheese on top of the plate.']\n",
      "--------------------------------------------------\n",
      "Image Name       : ['test_609.jpg']\n",
      "\n",
      "Correct Caption  :   ['A boy is standing on a baseball field holding a bat in his hands. He is wearing a black helmet and a black and white uniform. A catcher is squatting behind the boy. He is wearing a black face mask and a brown baseball glove. The field is surrounded by a gray chain link fence. A silver vehicle is parked outside of the fence.']\n",
      "\n",
      "Predicted Caption:  ['a man in a <UNK> <UNK> <UNK> baseball uniform is seen at bat on a cloudy day. the umpire , and catcher are kneeling behind him. in front of him the pitcher has already thrown the ball which is in the air halfway between home , and']\n",
      "--------------------------------------------------\n",
      "Image Name       : ['test_610.jpg']\n",
      "\n",
      "Correct Caption  :   ['A teddy bear sits on  a small table. The table is blue. The bear is wearing a hat. The bear is wearing overalls. The bear has a tag on its ear. The bear is wearing a tie. There is a bench sitting on the yard. There are trees behind the fence. There are people outside. The bear is inside a car. The bear is little. ']\n",
      "\n",
      "Predicted Caption:  ['a teddy bear is sitting in a trash can. the trash can is green. the bear is holding a plush heart. the heart has white writing on it.']\n",
      "--------------------------------------------------\n",
      "Image Name       : ['test_611.jpg']\n",
      "\n",
      "Correct Caption  :   ['A picture of a man touching a cake. The cake has white frosting on it. The cake also has heart decorations on it. The man touching the cake is wearing a shirt, tie and pants. There are metal bars obscuring the view of the cake. There is another man behind the man touching the cake. There are candles behind the cake.']\n",
      "\n",
      "Predicted Caption:  ['a man in a red shirt and black pants is holding a cell phone. he is being <UNK> with his right hand and he is wearing a white shirt and black pants. the man has black hair and a dark gray beard. there is a <UNK>']\n",
      "--------------------------------------------------\n",
      "Image Name       : ['test_612.jpg']\n",
      "\n",
      "Correct Caption  :   ['A woman is sitting in the drivers seat of a vehicle.  The woman has long red hair and is wearing dark sunglasses.  The woman is parked in front of a large camel.  The camel is standing still on top of some grass.  A person in the back seat is holding a camera in their hands filming the camel .  The hands have a watch on the wrist.  The windshield of the vehicle has two black windshield wipers on it.']\n",
      "\n",
      "Predicted Caption:  ['a grey computer monitor is sitting on a white desk in a room.   the laptop computer is sitting on top of a black table.   the computer screen is sitting in front of a computer screen.   the screen appears to be an old program']\n",
      "--------------------------------------------------\n",
      "Image Name       : ['test_613.jpg']\n",
      "\n",
      "Correct Caption  :   ['Two giraffes behind a cage.  The giraffes heads are hanging over the cage.  The picture is in black and white.  The giraffes are standing next to each other.  The cage is made of iron and very tall.  The giraffes has spot over their body.  The giraffes heads are to the top of the ceiling.  The ceiling is made of concrete.']\n",
      "\n",
      "Predicted Caption:  ['a cat is on a shelf. the shelf is brown in color. there is a lot of food on the top of the shelf. the <UNK> are very big and round.']\n",
      "--------------------------------------------------\n",
      "Image Name       : ['test_614.jpg']\n",
      "\n",
      "Correct Caption  :   ['A person holds on to a Nintendo Wii mote. The Wii mote is red.  The Wii mote is in the right hand. The bottom half of the Wii mote is white. The Wii mote is in the left hand. The person is sitting down. The person is wearing jeans. The person is wearing a blue shirt. The person is sitting near a wall. The two parts of the Wiimote are connected. ']\n",
      "\n",
      "Predicted Caption:  ['a young man is holding up some <UNK> with a head in his right hand. the man is wearing a black t - shirt with a graphic print on it. the man is wearing dark sunglasses. he is holding the handle of a suitcase and inside']\n",
      "--------------------------------------------------\n",
      "Image Name       : ['test_615.jpg']\n",
      "\n",
      "Correct Caption  :   ['A healthy breakfast sits on a dark gray table under a bright light. There is an orange on the left upper side next to a cup of tea and an apple near that. Below the apple there are three old brown bananas. A knife sits in between the apple and tea. There is a bowl of fiber cereal on a plate, and a silver spoon on the plate. ']\n",
      "\n",
      "Predicted Caption:  ['there is a ceramic bowl on the table. inside the bowl are lemons. the bananas are bright red and yellow. the bananas are all in clear. the bananas are bright and yellow.']\n",
      "--------------------------------------------------\n",
      "Image Name       : ['test_616.jpg']\n",
      "\n",
      "Correct Caption  :   ['Four people roller blade down a street. Each person is wearing safety gear: helmet, knee pads and gloves.  Each person also holds two ski poles.  One man wears a red and white jacket.  Two of them wear black and one wears an open blue jacket.  A car and a white house are visible behind them.  A tree sits upon a landscaped median directly to their left.']\n",
      "\n",
      "Predicted Caption:  ['two people are sitting on top of a motorcycle. they are wearing white long sleeve shirts and black pants. they are wearing a red and white jacket and a white pair of shoes. the two people are watching the first man and the other two are']\n",
      "--------------------------------------------------\n",
      "Image Name       : ['test_617.jpg']\n",
      "\n",
      "Correct Caption  :   ['The photo was taken outside. There are two red train cars, a blue cargo car and a white cargo car on the train tracks. The train tracks are black in color. The train tracks are surrounded by a rocky ground. The rocks are gray. Surrounding the rocks are tall green bushes. The bushes are behind the train. In the front are green leaves with yellow and purple flowers.']\n",
      "\n",
      "Predicted Caption:  ['a red and white train on the tracks next to the highway.   there are no <UNK> on the highway.   a building in on the side of the train.   there is orange and white work banners on the side of the street.  ']\n",
      "--------------------------------------------------\n",
      "Image Name       : ['test_618.jpg']\n",
      "\n",
      "Correct Caption  :   ['Two men play tennis on a grey court.  The court is surrounded by a grey netting.  One man has a blue tee shirt.  The other man has a grey tee shirt.  There are two benches in the area.  Both men are wearing shorts.  Both men are holding rackets.  Yellow tennis balls are in the air.  There is a green covered area near the fence.']\n",
      "\n",
      "Predicted Caption:  ['there is a man wearing a blue shirt and white pants standing on a tennis court. he is holding a blue tennis racket. there is a tennis ball in the air in front of him. there is a black fence behind the man.']\n",
      "--------------------------------------------------\n",
      "Image Name       : ['test_619.jpg']\n",
      "\n",
      "Correct Caption  :   ['Three elephants are on an enclosure. The enclosure are circled with grey wires and poles. The big elephnat has a long trunk and small ears. Two stones are in the enclosure the are covered with green powder. Behind the elephants there is a grey building with windows that have red frames and metal roof.']\n",
      "\n",
      "Predicted Caption:  ['some elephants are seen walking together. there are three elephants and none of them all together. one elephant has on a different long coat. they are in a very rocky area.']\n",
      "--------------------------------------------------\n",
      "Image Name       : ['test_620.jpg']\n",
      "\n",
      "Correct Caption  :   ['The sky is a golden yellow color. There is a bird flying in the sky high up. To the left there is a clock tower. The clock on the clock tower has a face that is gold colored. The hands on the clock are black. The water is reflecting the gold light coming from the sky. There are weeping willow trees next to the Clock Tower. The weeping willow trees are also next to the water. The water is calm.']\n",
      "\n",
      "Predicted Caption:  ['a bridge has a large tower on a surface in the clear sky. there are small light poles on the bridge. the bridge is made out of dark light. there is light coming on the tree and <UNK> in the shape of the water. there']\n",
      "--------------------------------------------------\n",
      "Image Name       : ['test_621.jpg']\n",
      "\n",
      "Correct Caption  :   [\"A man sits down in a chair. The man is sitting in a room. There are many wires outside. There are many windows in the room. There are blinds on the windows. There are boats outside. There are many buildings outside. There are clouds in the sky. There is a tv in the room. The man's foot is in a chair. The buildings have many windows.\"]\n",
      "\n",
      "Predicted Caption:  ['a middle aged - man is sitting at the end of a wooden table in front of an apartment building. he is wearing a red and white long sleeved shirt with blue jeans and a dark blue tie. there is a <UNK> controller on the window against']\n",
      "--------------------------------------------------\n",
      "Image Name       : ['test_622.jpg']\n",
      "\n",
      "Correct Caption  :   ['A bear sits on a tree. The bear is alone. the bear is black. The bear has a leg in the air. The tree has bark on it. The tree is brown. There are leaves on the tree. There are many branches on the tree. The bear is small. There is sunlight all over. The bear is laying down. There are many trees. The bear is in the woods. The trees are standing up.']\n",
      "\n",
      "Predicted Caption:  ['this is a picture of a field. there is a bear in the field. the bear is black with a brown snout. there are smaller <UNK> in the background. there are two children standing together. the bear is looking towards the camera. the']\n",
      "--------------------------------------------------\n",
      "Image Name       : ['test_623.jpg']\n",
      "\n",
      "Correct Caption  :   ['The bus is making a right turn at the corner. There are stripes on the side of the bus. The bus is mostly white. The windows are black. There is a silver car by the bus. There is a pole above the bus. There is a traffic light on the pole. There is a colorful sign by the bus. There are many trees by the side of the road. There are many cars on the road. The sky is bright and blue.']\n",
      "\n",
      "Predicted Caption:  ['a large white and red truck is driving on the street. there is a silver pole in the middle of the street. there is a black van parked on the street in front of the building.']\n",
      "--------------------------------------------------\n",
      "Image Name       : ['test_624.jpg']\n",
      "\n",
      "Correct Caption  :   ['A red fire hydrant of the corner of a sidewalk.  A black car is riding along the road.  There is a white truck on the other side of the road.  White lines are painted in the road.  The hydrant has chain on each side.  The edge of the sidewalk is painted red.  There is a tree across the street covered in snow.  There is snow on top of the hill behind the trees.']\n",
      "\n",
      "Predicted Caption:  ['a yellow fire hydrant is on the sidewalk. the fire hydrant is on top of a concrete pathway. the top left of the fire hydrant is yellow. the bottom of the fire hydrant is blue. the hydrant on the bottom shows a black , <UNK>']\n",
      "--------------------------------------------------\n",
      "Image Name       : ['test_625.jpg']\n",
      "\n",
      "Correct Caption  :   ['A small round pizza is on a wooden table.  The pizza has red onions, red sauce, and melted cheese on it.  The pizza also has black olives and spices.  A dark shadow is on the table beneath the pizza.  The background is blurry beyond the pizza.  The pizza also has a red pepperoni curled at the top near a lone slice of red onion.']\n",
      "\n",
      "Predicted Caption:  ['a pizza is on a white plate. the pizza has cheese , pepperoni , and peppers. the peppers are red , yellow and green. the plate is ceramic and is sitting on a wooden table. there is a glass off white plate in the background']\n",
      "--------------------------------------------------\n",
      "Image Name       : ['test_626.jpg']\n",
      "\n",
      "Correct Caption  :   ['This is an enclosure with giraffes. The giraffes are tall and have dark brown and patterned skin. The ground is beige with dirt. There is a grouping of tall trees in the background with brown and green leaves. There is also a zebra laying on the ground. It is black and white. There is a little circle of water for drinking.']\n",
      "\n",
      "Predicted Caption:  ['there are several giraffes eating from a basket full of hay that is suspended in the air. there are many zebras surrounding the giraffes eating off of the ground. there is a large building behind the animals.']\n",
      "--------------------------------------------------\n",
      "Image Name       : ['test_627.jpg']\n",
      "\n",
      "Correct Caption  :   ['The boy is sitting on the bicycle. There is a dog fighting at the boys like. The dog is being playful with the boy the bike is silver and red. The dog is a light tan color. The boy is wearing a yellow black and white T-shirt. The boy is wearing blue jeans. There are trees and trees with flowers in the background. The trees directly behind the boy have red flowers.']\n",
      "\n",
      "Predicted Caption:  ['a woman is walking down a city sidewalk on a sunny day. she is wearing a black cap , gray shirt and white shorts. the woman is holding a white paper and long blue purse in her hands. a woman with glasses is sitting behind her']\n",
      "--------------------------------------------------\n",
      "Image Name       : ['test_628.jpg']\n",
      "\n",
      "Correct Caption  :   ['A small monument with a clock on both sides.  The clock is round and black and white.  The time is noon.  The monument is beige in color.  There is a oval door on the side of the monument.  There are two small windows with balconies on the building.  The sky is clear and blue.  There is a tree on the side of the monument on the right.']\n",
      "\n",
      "Predicted Caption:  ['a tall brick building with two towers on top of a tower towers in <UNK> towers out. the clock face is white and has black hands and a black face. there is a white <UNK> tower with roman numerals on it. there is another building next']\n",
      "--------------------------------------------------\n",
      "Image Name       : ['test_629.jpg']\n",
      "\n",
      "Correct Caption  :   ['A young man of normal weight, with short brown hair and a small goatee, stares at the camera. He has a slight grin on his face, and one eyebrow is upturned. He  is wearing an orange t-shirt and a very wrinkled orange, tan and black checked sleeveless vest, with a pale blue striped tie. Slightly out of focus in the background is another person in a white t-shirt, sitting on a metal chair, and bed with white and beige pillows on it.']\n",
      "\n",
      "Predicted Caption:  ['a man is wearing a gray shirt. he is holding a white remote in his hand. the man is wearing a white shirt. there is a man standing behind the man.']\n",
      "--------------------------------------------------\n",
      "Image Name       : ['test_630.jpg']\n",
      "\n",
      "Correct Caption  :   ['Men, women and children are standing outside on a grassy field. They are flying kites. One kite is blue and red in color. Another kite is pink, green and yellow. A baby stroller is sitting on the grass beside two men. All of the people are dressed warmly. The sky is bright white above all of the people. ']\n",
      "\n",
      "Predicted Caption:  ['a large group of people is standing on a grassy field. all of them is wearing a red hat , and blue hat , and a black and white striped baseball hat. there are a bunch of men in the stands on both sides of the field']\n",
      "--------------------------------------------------\n",
      "Image Name       : ['test_631.jpg']\n",
      "\n",
      "Correct Caption  :   ['This picture is taken outside on a sunny day. Three people are sitting on a grassy field. A man and woman are sitting beside each other. The woman is waving to a man that is standing on a field with a sail above his head. The sail is blue, yellow and white in color. A large body of blue water is in front of the people. Large buildings are seen in the background behind the water.']\n",
      "\n",
      "Predicted Caption:  ['this is an image of a river. the river is small. the water is dark green and blue. the water is a greenish blue. there are people on the beach. the water is in the air. there is a man standing on the']\n",
      "--------------------------------------------------\n",
      "Image Name       : ['test_632.jpg']\n",
      "\n",
      "Correct Caption  :   ['There is some food leftover that is sitting on a  plate. The plate is very small and white and looks almost like a Frisbee or short disk. There is a piece of red pepper on the plate, a small little grape, a celery stick, an orange, and I believe a cucumber. There looks like there was some sauce or something that spilled on the plate as well.']\n",
      "\n",
      "Predicted Caption:  ['on the white plate are two slices of sausages with wooden toppings. on the top right is a plastic knife and fork. the bowl is a yellow color. the bowl is on a white plate.']\n",
      "--------------------------------------------------\n",
      "Image Name       : ['test_633.jpg']\n",
      "\n",
      "Correct Caption  :   [\"The giraffes and zebras are in a place together. All the animals at casting Shadows on the ground. The giraffe's a way taller than the zebras. The zebras are all facing towards the right. The giraffe's closest to the camera facing left. The sky is mostly cloudy with some blue showing. The zebras are black and white. The giraffes are brown and cream colored.\"]\n",
      "\n",
      "Predicted Caption:  ['there is a giraffe and three zebras in the image. the giraffe is <UNK> on vegetation in the higher areas while the zebras are eating on vegetation that is lower. there are trees through the image. some of them are dark green while some are lighter']\n",
      "--------------------------------------------------\n",
      "Image Name       : ['test_634.jpg']\n",
      "\n",
      "Correct Caption  :   ['Someone is balancing themselves on a round metal food with a snowboard. The person is wearing a yellow jacket. The person is also wearing a black hat. The snowboard is multicolored. The person is wearing black pants. The trees in the background have snow on them. There is a ski lift in the background. Some people are riding on the ski lift.']\n",
      "\n",
      "Predicted Caption:  ['a man is wearing a black jacket and pants. he has a black hat on with goggles on it. he is standing on a black snowboard. he is snowboarding down a snowy hill.']\n",
      "--------------------------------------------------\n",
      "Image Name       : ['test_635.jpg']\n",
      "\n",
      "Correct Caption  :   ['A boy is standing outside in the sunlight. He is holding an older, flip-style cell phone and is looking at the screen. The phone is grey in color. He is standing in the shade under a small tree to block the light from hitting the screen of the phone. The leaves of the tree are green with some brown spots on the leaves. The boy does not have a shirt on and has short brown hair.']\n",
      "\n",
      "Predicted Caption:  [\"a man is wearing a green shirt and a straw hat. there is a large pile of weeds in front of the man. there is a large tree trunk to the right of the man. there is a fence around the man 's head.\"]\n",
      "--------------------------------------------------\n",
      "Image Name       : ['test_636.jpg']\n",
      "\n",
      "Correct Caption  :   ['A vase sits on top of a white surface. The vase is half filled up with a clear liquid. The vase has long green stems placed inside of the clear liquid. There are yellow flowers on top of the long green stems. The room the vase with flowers is in is white. There are red spots on the yellow flowers. The wall behind the flowers is white.']\n",
      "\n",
      "Predicted Caption:  ['a glazed vase with decorative flowers is sitting on a blueish white table in front of a blueish white wall. the vase is green and <UNK> and <UNK>. there are some leaves on the vase in the vase.']\n",
      "--------------------------------------------------\n",
      "Image Name       : ['test_637.jpg']\n",
      "\n",
      "Correct Caption  :   ['A book is open on a bed.  There are sheets on the bed with blue stripe.  It is a comforter and a pillow is under it.  The writing in the book is a black print font.  It is turned to chapter 6 on white pages.   A white wall is behind the bed.  The comforter is ruffled and messy.  Shadows are casted on the bed from the light.  Creases are visible in the comforter.']\n",
      "\n",
      "Predicted Caption:  ['a stuffed cat is sitting on top of a red table. the desk is covered in a blue table cloth. there are two cats on the table in front of the bed. there is a small white stuffed animal on the table next to the bed']\n",
      "--------------------------------------------------\n",
      "Image Name       : ['test_638.jpg']\n",
      "\n",
      "Correct Caption  :   ['The photo was taken at a baseball game. There are two players on the field. The field is green grass with brown dirt patches. The team players are wearing a black hat, white green and yellow jerseys saying SURF and white pants. Both players are wearing mitts. The player in the front is throwing the baseball. The baseball is in the air. It is a sunny day.']\n",
      "\n",
      "Predicted Caption:  ['a baseball player is catching a ball while a second player is sliding to a base. the first player has his right are extended into the air to catch the ball. the ball is about to go under a ball. he has just thrown down on']\n",
      "--------------------------------------------------\n",
      "Image Name       : ['test_639.jpg']\n",
      "\n",
      "Correct Caption  :   ['A man stands in a snow covered field while holding a hose. There are two horses in front of the man with the hose. There is a fence in front of the man with the hose. The sky above the scene is gray and cloudy. There are large buckets near the horses. There is a forest off in the distance behind the horses. The hose is yellow. ']\n",
      "\n",
      "Predicted Caption:  ['two people are crouched down in the sand on a dirt road. there is a small dog on the left side by the road. the horse on the left is a <UNK> horse with its heads on. there is a <UNK> shadow on the ground in']\n",
      "--------------------------------------------------\n",
      "Image Name       : ['test_640.jpg']\n",
      "\n",
      "Correct Caption  :   ['There is a semi stuck in the side of the road. The semi is white. The semi has a logo on the side of it. There is writing on the front of it as well. The semi is stuck in dirt and grass. There is a sign by the semi. There are some trees by the side of the semi as well. There are some people standing by the side of the road. there are cars parked on the road. The sky is grey. There are many trees in the distance.']\n",
      "\n",
      "Predicted Caption:  ['this is an image of a street. the street is covered in snow. the snow is white. the <UNK> are black in color. the motorcycle has four wheels on it. there is a bike next to the fire hydrant. the sidewalk is made']\n",
      "--------------------------------------------------\n",
      "Image Name       : ['test_641.jpg']\n",
      "\n",
      "Correct Caption  :   ['A man and woman are riding a motorcycle on a paved road. The man is wearing a short sleeve shirt and blue jeans. The woman is wearing a tank top and blue jeans. Both of them are wearing helmets on their heads. There are two long yellow painted lines on the road. Cars sit parked under a building near the road. Two of the cars are red.']\n",
      "\n",
      "Predicted Caption:  ['a white and black motorcycle is on the street. there are two people standing next to the motorcycle sitting on the motorcycle. the motorcycle in the back has a black seat on it. there is a blue and white cat sitting on the motorcycle.']\n",
      "--------------------------------------------------\n",
      "Image Name       : ['test_642.jpg']\n",
      "\n",
      "Correct Caption  :   ['A paper box sits on the table. There is a donut sitting in the box. The donut sits in the corner of the box. The donut has chocolate on the top. There is a plastic fork in the box. There is chocolate on the box. There is frosting on the box. there is plastic on the top of the box. The table is white. There is one box.']\n",
      "\n",
      "Predicted Caption:  ['a man is making some food. he is wearing a white mask. he is also wearing a pair of jeans. the paper is brown in color.']\n",
      "--------------------------------------------------\n",
      "Image Name       : ['test_643.jpg']\n",
      "\n",
      "Correct Caption  :   ['A white polar beat is swimming inside of the water on his back with his belly facing up. He is white with gray markings on his fur. His mouth is open showing his teeth and it looks like he maybe smiling and enjoying himself swimming. The water is dark blue in color and the wave in the water appears to be white in color.']\n",
      "\n",
      "Predicted Caption:  ['a white polar bear is <UNK>. the bear is in a pile of thin rocks and has a brown nose. there are several pieces of various pieces of bears in the background.']\n",
      "--------------------------------------------------\n",
      "Image Name       : ['test_644.jpg']\n",
      "\n",
      "Correct Caption  :   ['There is a large passenger jet sitting on top of the airport tarmac. There is a red rear wing on the large jetliner. There are windows on the sides of the plane. There is a large towering light behind the jet. The tarmac under the jetliner is wet. There are buildings off in the distance behind the jetliner. There are vehicles pared off in the distance behind the jetliner.']\n",
      "\n",
      "Predicted Caption:  ['a plane is sitting on the runway. the plane is white in color. the plane has a blue tail on it. there is white writing on the tail.']\n",
      "--------------------------------------------------\n",
      "Image Name       : ['test_645.jpg']\n",
      "\n",
      "Correct Caption  :   ['The two dogs stared at each others.  The only thing that separated them were the bike.   The bike was park on the side walk.  The bushes seemed to be high from the view.  It covered the view .  The blonde dog was the tallest of the two dogs.  The black dog was noticeable shorter of the two dogs.  He seems to be walking toward the taller dog.']\n",
      "\n",
      "Predicted Caption:  ['this is an image of a cat. the cat has long black hair. the cat is laying in the house by the cat. the cat is sleeping. the cat is laying down. the cat is laying down. the cat is looking into the']\n",
      "--------------------------------------------------\n",
      "Image Name       : ['test_646.jpg']\n",
      "\n",
      "Correct Caption  :   ['A woman washes dishes as she wears yellow gloves. The woman has dark black hair. The woman is wearing a white mask. The woman is wearing a flower print dress. The woman is standing in a kitchen. There is a crock pot next to the woman on the counter. There are two knives on the side of a cabinet. There are bottles on top of a wooden shelf.']\n",
      "\n",
      "Predicted Caption:  ['a woman in a yellow shirt is wearing a white apron. she has a red visor on her head. she is bending down over a food cart with a white counter in front of <UNK> of food. there is a silver shelf on the wall above']\n",
      "--------------------------------------------------\n",
      "Image Name       : ['test_647.jpg']\n",
      "\n",
      "Correct Caption  :   ['There are three pieces of fabric that looks like that are project of some kind. One fabric has white and brown sheep walking hand grazing in a grassy field. The fabric in the middle is littered with small blue, purple, pink, and white flowers. The last piece of fabric is multi-colored lines with frills on the edge. There are two fabric carrots with leaves on them in on the top of the display. There is also a second place red ribbon attached to the carrots. ']\n",
      "\n",
      "Predicted Caption:  ['a bunch of <UNK> are on a shelf. all of the items are <UNK> by a big dog. the dog is a grayish color. the dog is brown. one of the animals is big. the dog is <UNK> white. the other dog is']\n",
      "--------------------------------------------------\n",
      "Image Name       : ['test_648.jpg']\n",
      "\n",
      "Correct Caption  :   ['On a crowded street, two buses, a motorcycle and a car are driving.  The car is small and black with gray hues.  The buses are blue and white with maroon trim.  Each bus has a large rear windshield and a ladder.  Several people are crossing the street between the vehicles.  A couple - the man in a black jacket, the woman in a red jacket and blue jeans, walk behind the blue bus.  Another man walks near the bumper of the blue bus.  All vehicles are oriented in the direction of a large, brown apartment building with several windows.']\n",
      "\n",
      "Predicted Caption:  ['a bunch of cars in the street. they are all driving the same direction. there is a transit bus in traffic and two motorcycles are in traffic as well.']\n",
      "--------------------------------------------------\n",
      "Image Name       : ['test_649.jpg']\n",
      "\n",
      "Correct Caption  :   ['This image is of a wooden cutting board with various chopped vegetables laid out across it. Toward the top of the cutting board is a row of bright green broccoli florets. Below the broccoli is a row of a lighter green and white vegetable that looks like chopped celery, or perhaps leeks. Some of the celery is completely white. To the right of the image, there is a small pile of minced fresh garlic. ']\n",
      "\n",
      "Predicted Caption:  ['this is an image of a food. the food is vegetables. the veggies on the broccoli are <UNK>. the broccoli and vegetables are on a red thin mat. the broccoli and plate are on the wooden table. the broccoli and clear and glass <UNK>']\n",
      "--------------------------------------------------\n",
      "Image Name       : ['test_650.jpg']\n",
      "\n",
      "Correct Caption  :   ['A brown and white cow is standing behind a fence in an enclosure on a bright sunny day. The gate to the wooden fence is open and the cow is standing in the open doorway looking out. The fence is unfinished, unpainted wood. There is a pillar painted white on the left side of the fence. Behind the cow there is a wood panel on the wall, and the corridor behind the cow is dark. ']\n",
      "\n",
      "Predicted Caption:  ['  two black cows are standing next to each other , eating both of them and are made of wood.   the ground they are standing on is gravel in the background.   one of the animals is a baby and is white and is brown.']\n",
      "--------------------------------------------------\n",
      "Image Name       : ['test_651.jpg']\n",
      "\n",
      "Correct Caption  :   ['A group of sheep are running in some grass. There is one small black sheep and the rest of the sheep are white or off-white in color. The sheep are running through somewhat short green grass. Small flowers are visible in the grass. There is a dirt path as well as trees that are visible in the background. It is daylight outside.']\n",
      "\n",
      "Predicted Caption:  ['the image is of animals in a field. the animals in the field are sheep.   the sheep are scattered all over the meadow which is a small hill.   a tree casts some shade at the edge of the picture. the sky is blue']\n",
      "--------------------------------------------------\n",
      "Image Name       : ['test_652.jpg']\n",
      "\n",
      "Correct Caption  :   ['A small boat with \"PZ4\" written on the rear back is seen anchored in a shallow turquoise body of water. The boat has a black bottom and a white deck with an orange roof on the cabin. An orange and white life preserver is on the top of the boat. A bunch of small white birds are swimming around in the water. There is a full lush bush near the camera at the bottom of the image. A tall rock cliff is visible on the other side of the water. ']\n",
      "\n",
      "Predicted Caption:  ['the boat is in motion on the water. there are many green plush healthy trees in the background. there is a white castle on the edge of the shore. the water is calm and smooth. there is a flag on a pole on the building']\n",
      "--------------------------------------------------\n",
      "Image Name       : ['test_653.jpg']\n",
      "\n",
      "Correct Caption  :   ['A man with short brown hair sitting on a black piece of luggage. He is wearing a long sleeve black shirt with collar and black jeans with white tennis shoes that have a black stripe. He is holding an opened newspaper that he is reading. He is sitting on the piece of luggage in a large terminal with grey, black and yellow tiles on a floor. The floor goes a long way back. There is a train coming in the background on a track that runs in front of the man. Past the tracks is rows of dark windows. To the far left alongside the floor is bright orange cones next to pillars on the wall. ']\n",
      "\n",
      "Predicted Caption:  ['a woman is standing inside a very busy <UNK>. she is wearing a black jacket and black pants. she is standing in front of a large gray suitcase. a black suitcase is standing on the floor. a woman is standing beside her wearing a black']\n",
      "--------------------------------------------------\n",
      "Image Name       : ['test_654.jpg']\n",
      "\n",
      "Correct Caption  :   ['A woman in a black tank top is sitting at a small round table indoors and filling out an application with two large wine glasses on the table. The woman has brown hair, and is making an odd face at her companion. The table behind her is empty. The table next to that has a person in a black shirt sitting at it. On the other side of the room there are two green arm chairs and a short table between them.']\n",
      "\n",
      "Predicted Caption:  ['a woman is sitting on a green chair in front of a black table. a black laptop is sitting on top of the table and a silver object is sitting on top of a silver table. a black table is sitting behind the table in front of']\n",
      "--------------------------------------------------\n",
      "Image Name       : ['test_655.jpg']\n",
      "\n",
      "Correct Caption  :   ['Outside of the older style building is a in ground pool. It is empty and has no water in it. You can see the inside of the pool appears dirty. There is still a metal ladder attached to the side of the pool for people to climb in and out of it. There is also a a few chairs and a table with a umbrella for people to sit at.']\n",
      "\n",
      "Predicted Caption:  ['there is a tan pool in the background. there is a boy sitting on top of a white bench. the boy is wearing a white shirt and jeans.']\n",
      "--------------------------------------------------\n",
      "Image Name       : ['test_656.jpg']\n",
      "\n",
      "Correct Caption  :   ['People are skating and playing in the park.  There is a purple kite flying in the sky.  The sky is blue and full of clouds.  The kite has different color strings hanging from it.  There are house and trees in the background.  People are skating on the pavement.  The grass is green.  There is pond or lake behind the grass in the background.']\n",
      "\n",
      "Predicted Caption:  ['there are colorful kites in the sky. there is a kite in the sky that is white in color. there is a kite in the sky that is orange and black.']\n",
      "--------------------------------------------------\n",
      "Image Name       : ['test_657.jpg']\n",
      "\n",
      "Correct Caption  :   ['This is image is in black and white and shows a royal family traveling down a road in a carriage. The front of the photo shows the back of a man head taking photos. He is behind a gate with is aligned with officers. They all wear the same black uniform with black hats. Not far from them is one royal guard with a tall fuzzy hat. In the street the carriage is being pulled by four white horses. Two of them are being ridden by men in white with black hats. The carriage is black with UK flag waving on top. Behind the carriage a band of people in amour ride on horse. On the opposite a group of spectators watch the show.']\n",
      "\n",
      "Predicted Caption:  ['there are people riding on horses. there are people walking on the sidewalk behind the motorcycles. there are people walking down the sidewalk behind the men. the street buildings are both wet.']\n",
      "--------------------------------------------------\n",
      "Image Name       : ['test_658.jpg']\n",
      "\n",
      "Correct Caption  :   ['The image is a close-up of a bottle of water sitting on a park bench. The bench is sitting outside of a fenced area. On the other side of the fence is a brown field with green grass and green trees in the distance. The bench is silver and has ridges on the seat. A plastic water bottle on the bench has a blue label and cap. The cap is on the bottle. Behind the fence is some dirt. The sky is blue with few clouds. It is a sunny day because there are shadows. ']\n",
      "\n",
      "Predicted Caption:  ['a wooden bench is sitting outside of a concrete wall. a black and white dog is running beside the dog. the dog is sitting on a red bench. a black chain link fence is surrounding the man. a tall gray pole is standing near the']\n",
      "--------------------------------------------------\n",
      "Image Name       : ['test_659.jpg']\n",
      "\n",
      "Correct Caption  :   ['This picture is taken inside of a train station. People are standing on a platform. Tall blue and white poles stand on the platform near benches. There is a large blue and white sign standing on the platform near the people. The ceiling of the station is rounded with windows in a row across the top. Two trains are sitting near the platforms. The trains are purple, orange, blue and white.']\n",
      "\n",
      "Predicted Caption:  ['a commuter train is parked at the station at night. two front of the train are red and silver. the train is on the left and the left. the train is painted yellow and white. there are trees on the side of the platform and']\n",
      "--------------------------------------------------\n",
      "Image Name       : ['test_660.jpg']\n",
      "\n",
      "Correct Caption  :   ['A tower has a green roof that is pointy. Arch windows are on the tower. There are two clocks on front the tower. The clocks have roman numerals color golden. The hands of the clocks are long and golden. People are in the Ferris wheel that has red flags on the top. People are in the round baskets of the Ferris wheel. ']\n",
      "\n",
      "Predicted Caption:  ['a tall tower is made of bricks bricks.   the clocks are closed.   the clocks are closed.   the clocks are on a wooden pole.   the clocks are attached to a metal fence.   the spots are metal and long.  ']\n",
      "--------------------------------------------------\n",
      "Image Name       : ['test_661.jpg']\n",
      "\n",
      "Correct Caption  :   ['The snow is all over the ground. The pole with a traffic light on it is coming out of the ground. The pole is leaning to the left. There are footprints in the snow. There are cars driving on the street. The cars are driving slowly down the snowy Street. The car closest to the camera has their brake lights on. The brake lights are red. Most of the trees if not all are bare.']\n",
      "\n",
      "Predicted Caption:  ['a silver car is on the street. there is a pole on the street in front of the building. there is a tall red light hanging off of the street. there is a pole next to the building.']\n",
      "--------------------------------------------------\n",
      "Image Name       : ['test_662.jpg']\n",
      "\n",
      "Correct Caption  :   ['A ski life is filled with several people, and it is riding high above a snow filled mountain. The ground is covered in snow and batches of thin  leave less tress are scattered about on the mountain. The lift is riding on wires attached to sturdy large dark green poles. A few small evergreen trees are also scattered about on the mountain, under and opposite the lift. The poles are casting a shadow on the ground, and it is a bright sunny day with a deep blue sky.']\n",
      "\n",
      "Predicted Caption:  ['a person in a red ski suit is standing on skis staring into the distance. he has two black ski poles in his hands tilted backwards. the sun is casting a shadow of him on the snow. there are tall snow covered evergreens behind him and']\n",
      "--------------------------------------------------\n",
      "Image Name       : ['test_663.jpg']\n",
      "\n",
      "Correct Caption  :   ['A small, skinny, scruffy dog wearing a red collar is sitting on a wooden rocking chair. The small dog is looking up towards the sky as he sits on the chair. Vertical blinds on a window behind the chair are pulled open and reveals a dimly lit living room. Behind the chair on the left there is a metal table frame with no table top, and a small green plant.']\n",
      "\n",
      "Predicted Caption:  ['a brown and white dog is sitting inside of a car. the dog is a blue color and the dog is sitting on the rocks coming off the ground. the dog is wearing a collar on the neck of it with blue trim.']\n",
      "--------------------------------------------------\n",
      "Image Name       : ['test_664.jpg']\n",
      "\n",
      "Correct Caption  :   ['A woman is a tan lamp shade shaped hat is sitting in a canoe handling greens.  the woman is wearing a long sleeve brown shirt and the canoe is brown and wooden with water stains on the sides.  Inside the canoe are bushels of greens the woman is handling.  The canoe is in a small crowded section of water.  The water is crowded with other canoes .  A green tent with metal poles and yellow cords attached is over one of the canoes in the water.']\n",
      "\n",
      "Predicted Caption:  ['this is a picture of a boat. the boat is in calm water. the boat looks like a large dock. the boat is a raft. the boat is wooden. there are many people on the boat. there is a person with a colorful']\n",
      "--------------------------------------------------\n",
      "Image Name       : ['test_665.jpg']\n",
      "\n",
      "Correct Caption  :   ['A snowboarder is snowboarding while wearing a yellow snow coat.  The sky is blue behind the snowboarder in the sky.  The snowboard the person is using is green, white and black.  The snowboarder is wearing yellow and green gloves.  The snowboarder is also wearing a pair of white and metallic goggles and a blue winter hat.  The person is wearing brown and black pants.']\n",
      "\n",
      "Predicted Caption:  ['a man is snowboarding. he is riding in the air. he is wearing a blue and black jacket. snow suit is hanging from the snow. he is holding his ski poles. in his hands are a plastic ski slope.']\n",
      "--------------------------------------------------\n",
      "Image Name       : ['test_666.jpg']\n",
      "\n",
      "Correct Caption  :   ['Two elephants are standing together outside by a concrete wall. One elephant is considerably smaller then the other one. Right by the elephants there is a large amount of bushes and trees with green leafs. The ground is mostly dirt with patches of green grass throughout. On the grass eating there is about a dozen or so large black crows. ']\n",
      "\n",
      "Predicted Caption:  ['there are four elephants in a zoo area. one of them is larger and the other is a lighter one. they are walking in the middle of a dirt path that has a path on a path.']\n",
      "--------------------------------------------------\n",
      "Image Name       : ['test_667.jpg']\n",
      "\n",
      "Correct Caption  :   ['A handle of yellow bananas are on a tree. The tree has dry leaves and green leaves. The tip of bananas are color black.  Some bananas have black and yellow peels. The bananas has small brown spots on the peel. Sunshine is on some bananas.  Behind the handle of bananas there are branches with green leaves. ']\n",
      "\n",
      "Predicted Caption:  ['a bunch of bananas with a sticker reading \" <UNK> island <UNK> \" on them are seen up close. there are three bananas and the sticker is on the center one. to the right of the bananas are four books. the book on the right has']\n",
      "--------------------------------------------------\n",
      "Image Name       : ['test_668.jpg']\n",
      "\n",
      "Correct Caption  :   ['A soft drink bottle and a vase of flowers are on a tabletop. There is about one-fourth of the cola-colored drink left in the bottle. The vase has pink carnations and another the of pink flowers in it. There is another table against the wall behind the one in the foreground. That table has a salt shaker on it. There are two red chairs in front of it. Both tables are covered with turquoise plastic tablecloths. Hanging on the wall is a decorative Mexican sombrero.']\n",
      "\n",
      "Predicted Caption:  ['this image is of a room with a large flower bed full of different types of flower. the main focus is small but clean. there is a white small vase with a set of white flowers in it above the vase. below the vase there is']\n",
      "--------------------------------------------------\n",
      "Image Name       : ['test_669.jpg']\n",
      "\n",
      "Correct Caption  :   ['This photo was taken in the kitchen. The photo was taken in the daytime. There are three lights hanging from the ceiling. There is a long marble counter in the middle with wood cabinets a silver dishwasher and a double sink on the left. There is a bowl on apples on that long counter. On the left there is a silver stove in the middle with two woos cabinet units on each side. Above the stove is more cabinets. The walls are painted yellow and the door and trimming is white. On the right there are two windows.']\n",
      "\n",
      "Predicted Caption:  ['the kitchen has neutral colored ceramic tiled floors. the cabinets are light wood. the back splash is tiled in a pattern and the cabinet is black. there is a wooden shelf leading into the wall with the <UNK>. there is a <UNK> in the glass']\n",
      "--------------------------------------------------\n",
      "Image Name       : ['test_670.jpg']\n",
      "\n",
      "Correct Caption  :   ['A young man is on one knee on his long skateboard. He is riding his skateboard down a empty city road. He is going at a fast speed because the photo is blurry. The sun is peaking out, but it is lower in the sky. Therefore my guess is it is sunset and its late on in the evening. You can also see blurry trees with green leafs on them. ']\n",
      "\n",
      "Predicted Caption:  ['a person is standing with his foot on his skateboard and watching other skateboarder. he is standing on top of a skating ramp. he is wearing a cap and his clothes are all black. there is a skater on the skating ramp and he is at']\n",
      "--------------------------------------------------\n",
      "Image Name       : ['test_671.jpg']\n",
      "\n",
      "Correct Caption  :   ['An Asian baby is laying on the floor. There is a blue cellphone in front of the baby. The baby appears to be reaching for the cellphone. The floor is hardwood. There is a rug underneath the baby. Beside the baby is a stuffed animal and train toy. The stuffed animal is orange. The baby is wearing a plaid onesy. There is a reflection of the stuffed animal in the hardwood floor.']\n",
      "\n",
      "Predicted Caption:  ['there is a girl holding a red cup on the shelf. the girl has dark brown hair and is wearing a brown dress and striped tie. there is a white wall behind the girl. she is wearing a white <UNK>.']\n",
      "--------------------------------------------------\n",
      "Image Name       : ['test_672.jpg']\n",
      "\n",
      "Correct Caption  :   ['Four men are on a grass field playing soccer in red uniforms. They are running towards the right side, the man in front closest to the ball, his foot resting right next to it. The three other man are racing towards the man with the ball. In teh distance is a group of trees, some pine trees, some bear trees with no leaves on them.']\n",
      "\n",
      "Predicted Caption:  ['six kids are playing soccer in the grass. a boy in a blue shirt and white shorts is kicking the soccer ball. there are two kids wearing orange shirts and a black hat.']\n",
      "--------------------------------------------------\n",
      "Image Name       : ['test_673.jpg']\n",
      "\n",
      "Correct Caption  :   ['The top of a tower with the symbol of David is on the very top point.  An ornate tower has a clock on two sides.  The clocks read 11:58 and the numbers are gold, roman numerals.  The hands of the clock are golden.  An opening above the clock are on all sides.  A bell appears to be in the star of David.  The background is a beautiful, blue sky with no clouds to be seen.']\n",
      "\n",
      "Predicted Caption:  [\"a tower has a clock on it. the tower is made of light brown bricks but some bricks look black as if they were burned. the clock does n't have a face , it is just a ring on the face and black and gold hands on\"]\n",
      "--------------------------------------------------\n",
      "Image Name       : ['test_674.jpg']\n",
      "\n",
      "Correct Caption  :   ['Two men are sitting on a bench. The bench is in front of a building with glass pane windows for walls. There is a drawing of a tree on the wall in the building. One of the men on the bench is sitting on the back of the of the bench with feet on the seat. He has on a tan shirt and tan pant and is talking on the phone. The other man is sitting on the bench seat and wearing a blue shirt with a design and a pair of short pants. There are two rolling suit cases sitting in front of the bench, one is lime green and the other is blue. ']\n",
      "\n",
      "Predicted Caption:  ['a woman is sitting on a park bench holding an orange soda mug. the woman is wearing blue and green striped pants and a dark colored dress. she has short brown hair and is wearing a white shirt , and pink pants. she has a black']\n",
      "--------------------------------------------------\n",
      "Image Name       : ['test_675.jpg']\n",
      "\n",
      "Correct Caption  :   ['A large black dog stands on a field of lush green grass. There is another white dog standing to the left of the black dog. There are sheep behind the two dogs on the field. There is a forest of lush green leafy green trees behind the sheep. There are green plants in front of the two dogs. There is a brown tree trunk sticking out of the ground in front of the forest of green trees.']\n",
      "\n",
      "Predicted Caption:  ['seven sheep are in a field , some are standing and one is laying on the ground. they are all white. there is a fence surrounding the field with wood post. in the field there is grass and several bushes of different sizes and shapes.']\n",
      "--------------------------------------------------\n",
      "Image Name       : ['test_676.jpg']\n",
      "\n",
      "Correct Caption  :   ['A man on a motorcycle races down a race track. The motorcycle rider is wearing a red, white and blue helmet. There are black tires on the motorcycle. There is a white line around the race track. There is a field of green grass behind the motorcycle rider. There is an orange and white sign behind the motorcycle rider. There is metal scaffolding behind the motorcycle rider. ']\n",
      "\n",
      "Predicted Caption:  ['a motorcyclist is riding a track <UNK> to the right.   he is turning a curve on a paved track.   next to the track is a red and white line.   the number <UNK> is on the top of the bike.   people are']\n",
      "--------------------------------------------------\n",
      "Image Name       : ['test_677.jpg']\n",
      "\n",
      "Correct Caption  :   [\"There are several people outside working and shopping at a booth that looks to be at a flea market. Separating the booths are big colorful sheets,in the front there is a man with a brown table with an arrangement of fruits in front of a brown door.Next to him there is a man standing on top of a brown shelf fixing his merchandise.In the back there are some more stuff but there items aren't as visible.In the middle are a large assortment of shoppers and a man walking a white horse.\"]\n",
      "\n",
      "Predicted Caption:  [\"a man is standing outside on a sunny day. he is wearing a short sleeve shirt , plaid shorts , and sunglasses. a woman is sitting behind a large green tree that is carrying a large black bag on it 's shoulder. a large brown and\"]\n",
      "--------------------------------------------------\n",
      "Image Name       : ['test_678.jpg']\n",
      "\n",
      "Correct Caption  :   ['A white toilet is in a bathroom. The sit of the bathroom is down. A roll of paper is on the tank of the toilet. A white used paper is on the floor. Behind the toilet there is a grey pipe that is connected to the wall. The wall of the bathroom is white. An empty bottle of soap is on a counter. On front of the counter there is a poster board.']\n",
      "\n",
      "Predicted Caption:  ['a toilet is sitting in a bathroom. the toilet is white in color. the lid on the toilet is open. the toilet is very clean.']\n",
      "--------------------------------------------------\n",
      "Image Name       : ['test_679.jpg']\n",
      "\n",
      "Correct Caption  :   [\"A large bear is standing up on all four of it's legs. The bear is a dark color that looks like a dark brown or black. The bear is standing on a large rock. Underneath the rock there is a little water that can be seen. Behind the bear there are a lot of trees that look like a forest. On the ground there is grass but the sunlight is shining on it.\"]\n",
      "\n",
      "Predicted Caption:  ['a large brown bear is standing in the water. it is holding a green plant. there is a small bear on the ground behind the bear.']\n",
      "--------------------------------------------------\n",
      "Image Name       : ['test_680.jpg']\n",
      "\n",
      "Correct Caption  :   [\"The cat is eating cat food out of a round Bowl. The bowl is a light blue color with a brown trim around the edge. The bowl is on the floor. The floor is a light tan color. The floor is made of wood. The cat is a grayish color with black stripes. The pause on the couch all right. Under the cat's neck as white as well.\"]\n",
      "\n",
      "Predicted Caption:  ['a cat is sitting on top of a blue box. there is a roll of paper towels on top of the table. there is a silver fork on the table behind the counter.']\n",
      "--------------------------------------------------\n",
      "Image Name       : ['test_681.jpg']\n",
      "\n",
      "Correct Caption  :   ['A horse is galloping in a meadow of hills.  The horse is chestnut brown with a long black mane and tail.  The meadow is full of long green grass and some shorter yellow, dried grass.  Deep green trees are in the back ground.  the sky is gray and cloudy.  A  black and white tall poll with a red and white top is nearby.']\n",
      "\n",
      "Predicted Caption:  ['there are two horses grazing in the wild. one of the horses is much the same size. there is a big bushy bushy horse in the middle. the one in the front has its fur still. the other rider is wearing white and orange.']\n",
      "--------------------------------------------------\n",
      "Image Name       : ['test_682.jpg']\n",
      "\n",
      "Correct Caption  :   ['The two sandwiches are in the white trays. The white trays are on the left on the table. The white trays in the front are both open so that the sandwiches can be seen. On the left are fries in a red and white container. The fries in the container are curly fries. The curly fries are spilling on the tray. The food is on the black tray. The tray is on the wood table. There is sauce in a white container behind the black tray in the front. The floors are made of wood and the photo was taken at a restaurant.']\n",
      "\n",
      "Predicted Caption:  ['fast food is sitting in a white <UNK> package. large french fries are on the right , with a sandwich on the left. there are white onions on the top of the <UNK> on the left. there are some <UNK> and <UNK> as well as a']\n",
      "--------------------------------------------------\n",
      "Image Name       : ['test_683.jpg']\n",
      "\n",
      "Correct Caption  :   ['A mean is on a wooden tray near a small dipping pool on a terrace over looking the sea. On the ray there is a plate of what looks like chicken Parmesan, and two baskets of bread. There is a pat of butter on a plate, sale and pepper shakers, and a sauce of some sort in a small bowl. Near the top there is a pot of tea, and coffee mug. ']\n",
      "\n",
      "Predicted Caption:  ['this is a picture of a wooden table. there is a large white bowl sitting on top of a black table. there is a large glass on the table in front of the block. there are three large white <UNK> under the vase.']\n",
      "--------------------------------------------------\n",
      "Image Name       : ['test_684.jpg']\n",
      "\n",
      "Correct Caption  :   ['In this photo there is a bridge with three oval openings straight in the distance to the left. The photo is of a still and calm body of water. Surrounding the body of water is grass and tree filled land. The sun is setting in the sky and it is the evening. There are more trees on the right side of the photo.']\n",
      "\n",
      "Predicted Caption:  ['this is a picture of a harbor. the sky is reflected in the water. there is a train moving on tracks along the water. there are many rocks in the water. the <UNK> is large and dark. there is a lot of smoke coming']\n",
      "--------------------------------------------------\n",
      "Image Name       : ['test_685.jpg']\n",
      "\n",
      "Correct Caption  :   ['A man is sitting indoors holding up a skateboard over his right shoulder. The man has blond hair, glasses, a pink shirt with a snake on it and a set of headphones around  his neck. On the desk next to the man is a monitor, a mouse, a marker, a pencil and a lighter.  There are large fluorescent lights overhead, and a set of windows the far wall.']\n",
      "\n",
      "Predicted Caption:  ['a man is standing in front of a shelf which has a white container on the right side of his head. the man has curly hair and his eyes are closed is front teeth are out. he is holding up with this right - hand a small']\n",
      "--------------------------------------------------\n",
      "Image Name       : ['test_686.jpg']\n",
      "\n",
      "Correct Caption  :   ['A man and woman sit next to each other in front of a music store. There is a large green cement wall up against the front of the store. There is a yellow fire hydrant in front of the couple in front of the music store. The building the music store is in consist of multiple stories. The sidewalk in front of the music store is gray. There is a tree also in front of the music store. There are bars in the windows of the music store.\\n']\n",
      "\n",
      "Predicted Caption:  ['a large pink and white building is on the ground. there is a woman walking with a pink and white bag in front of her. there is a white and black clock on the front of the building.']\n",
      "--------------------------------------------------\n",
      "Image Name       : ['test_687.jpg']\n",
      "\n",
      "Correct Caption  :   ['Three men are on a baseball field. The batters holds a black bat over the right shoulder. The batter wears red t-shirt and white pants. The catcher is crouched, and he wears blue top with white pants. Behind the catcher, the umpire is looking the game. People are sitting on the bleachers looking the game.']\n",
      "\n",
      "Predicted Caption:  ['this is a game of baseball being played. the man in the white uniform and red hat is <UNK> the ball to the man in the red uniform that is <UNK>. the catcher is ready to go behind the batter and the umpire is also <UNK> to']\n",
      "--------------------------------------------------\n",
      "Image Name       : ['test_688.jpg']\n",
      "\n",
      "Correct Caption  :   ['A person is on a surfboard. The person wears a wet suit color white, red and black. The man has extended arms. The surfboard is on a white wave.  The wave is foamy and has drops splashing. The man is facing to the left. On the background the sky is blue and has white clouds, The body of water is blue and green. ']\n",
      "\n",
      "Predicted Caption:  ['a man in a black wet suit is riding a white surfboard on a man made river in a park. there are people standing on the board in front of him in the ocean. there are two men on the beach in front of him , and']\n",
      "--------------------------------------------------\n",
      "Image Name       : ['test_689.jpg']\n",
      "\n",
      "Correct Caption  :   ['A man is giving a thumbs up sign as he  rides a skateboard down the side of a busy car filled street.  The man is wearing a large false mustache that covers his mouth and a long beard.  The man is wearing a black hard helmet with a strap, a green backpack, a red t-shirt and brown shorts.  The red t-shirt has write lettering on it and a pair of sea green sneakers with white soles and laces.  Tall buildings, traffic lights, street lights and many cars are in the background.  Another person is standing behind the man and is wearing pink sneakers, and green pants.  The man in the foreground has a black camera bag strapped across his chest and is also wearing a black watch.']\n",
      "\n",
      "Predicted Caption:  ['a man is wearing a yellow shirt and a pair of gray pants. there is a man in a blue shirt and white shorts standing on the sidewalk. there is graffiti in front of the man.']\n",
      "--------------------------------------------------\n",
      "Image Name       : ['test_690.jpg']\n",
      "\n",
      "Correct Caption  :   ['There is a red truck in a parking lot. It is next to a white car. There is a lot of chrome on the truck. there are many cars in the parking lot. There are trees at the end of the parking lot. There are signs in the parking lot. The sun is shining on the car. There is a sidewalk by the truck. There is a big windshield in the truck. There is a building in the background.']\n",
      "\n",
      "Predicted Caption:  [\"there 's a red truck parked buy a building. the truck says <UNK> on the front of it. there 's no one in the truck. the trucks wheels are black. the sky is partly cloudy and blue. the building to the left of the\"]\n",
      "--------------------------------------------------\n",
      "Image Name       : ['test_691.jpg']\n",
      "\n",
      "Correct Caption  :   ['Grey and white birds are flying in the air. The sky is blue and have some white clouds. On the background there is brown hills covered with white snow. The bird on the foreground has the wings extended and flies to the right. The bird has a long black beck. The ground is wet and muddy and is covered with stones. ']\n",
      "\n",
      "Predicted Caption:  ['the water is blue and has many clouds in it. near the sky is a <UNK> of people who are taking a close to a sea.   a lone cloud is visible in the background.   it is a sunny day.']\n",
      "--------------------------------------------------\n",
      "Image Name       : ['test_692.jpg']\n",
      "\n",
      "Correct Caption  :   [\"A giraffe with lots of spots on it's back. There is a rock wall behind giraffe. There are a bunch of trees off in the distance. There are animal carvings on the walls behind the giraffe. There is a lawn of grass underneath the giraffe. There is a deer on the side of a rock. The giraffe has two long horns. The giraffe has a long neck. The giraffe has long leg. The giraffe has a long and hairy tail.\\n\\n\\n\"]\n",
      "\n",
      "Predicted Caption:  ['a young giraffe is standing in front of trees on a sunny day. the giraffe has a long thin neck and brown spots on a white fur base. the young giraffe is facing , and partially looking at the camera. there is a gate <UNK> <UNK>']\n",
      "--------------------------------------------------\n",
      "Image Name       : ['test_693.jpg']\n",
      "\n",
      "Correct Caption  :   ['There are two people standing on a dock. The dock is wooden and extends out over a lake. The lake is white toward the back, and dark colored in the front. You can see ripples on the water. One person is sitting on the deck. That person is holding a blue umbrella over his or her head, so it not possible to see if the person is male or female. The person is wearing a green shirt and blue jeans. The legs are draped over the edge of the dock. A girl with long hair is standing beside the sitting person. She has long black hair, and we cannot see her face. She is wearing a black jacket and a pink shirt. She is also wearing black pants and black shoes. One of the shoes is partially off her foot. ']\n",
      "\n",
      "Predicted Caption:  ['a man is walking in an old area with a unique design in the background.   the man is wearing a light blue shirt and a black wet suit.   there is a wooden board and the man appears to be young man in black and white']\n",
      "--------------------------------------------------\n",
      "Image Name       : ['test_694.jpg']\n",
      "\n",
      "Correct Caption  :   [\"The picture was taken in black and white. The left side of the sink has dishes on it. The right side of the sink clear. There's a white Basin in the sink. The basement has dishes in it. There's a glass on the left side edge of the sink. The sink fixtures are silver and made of stainless steel. There are glasses and dishes in the basin. The basement in the sink with the dishes and it is white.\"]\n",
      "\n",
      "Predicted Caption:  ['this is a picture of a kitchen. there is a microwave on a counter in the kitchen. the microwave is white in color. there is a microwave on the wall. there are some containers on the block. there are many items on the counter']\n",
      "--------------------------------------------------\n",
      "Image Name       : ['test_695.jpg']\n",
      "\n",
      "Correct Caption  :   ['An exterior scene of a street, presumably in the commercial district of an English speaking part of the world, is seen. In the foreground is parked an SUV done up in camouflage colors of shades of green. It also has an orange sign on top. Behind it is parked a small blue car. Pedestrians can be seen on either side of the road on the wide sidewalks. Several shops line the street, including one with a large red sign with white lettering reading \"WAREHOUSE\" in the near distance. A blue paper and brown bag lie on the road in front of the SUV. There is a tree further back lining the road.']\n",
      "\n",
      "Predicted Caption:  ['a large orange truck is in the street. there is a black pole in front of the van. there is a white car parked on the street in front of the building.']\n",
      "--------------------------------------------------\n",
      "Image Name       : ['test_696.jpg']\n",
      "\n",
      "Correct Caption  :   ['People are gathered around together in the living room. Most of the people are sitting down. Only two people are standing. The majority of the room has carpet on the floor. The floor closer to the door is made of hard wood. The hardwood floor is an amber color. The light above the table is turned on.']\n",
      "\n",
      "Predicted Caption:  ['people are sitting in a living room of a home. a man and woman are holding white game controllers in their hands. the man is kneeling on a multicolored rug that is on the floor. two other people are sitting in chairs behind them. a']\n",
      "--------------------------------------------------\n",
      "Image Name       : ['test_697.jpg']\n",
      "\n",
      "Correct Caption  :   ['This picture is taken outside on a rainy day. Two women are walking while holding umbrellas above their heads. One woman is wearing a short sleeve blue shirt. She is holding a black umbrella above her head and carrying a white plastic bag in her hand. The other woman is wearing a gray shirt. She is holding a purple umbrella above her head and carrying a polka dot purse on her shoulder. Two other people can be seen in the background, a man and woman, walking under a white umbrella.']\n",
      "\n",
      "Predicted Caption:  ['a man is standing on a street wearing a white and blue backpack on his head. the man is wearing a black top on his head , a red <UNK> hat , a white shirt and brown pants. he is standing in front of a man that']\n",
      "--------------------------------------------------\n",
      "Image Name       : ['test_698.jpg']\n",
      "\n",
      "Correct Caption  :   ['Two men are playing a video game together. They have both have two remote controllers in their hands and one of them is swinging one of the controllers. There are a bunch of people behind them that are watching the two young boys play the game. One boy has a light blue tee on and the other boy has a white hat on.']\n",
      "\n",
      "Predicted Caption:  ['a man is wearing a gray shirt and a red tie. there is a man sitting on a couch in front of the man. he is wearing a white shirt and has black hair.']\n",
      "--------------------------------------------------\n",
      "Image Name       : ['test_699.jpg']\n",
      "\n",
      "Correct Caption  :   ['A woman wearing a white shirt and blue jean pants is holding on to a brown horse that is in front of her. The horse is attached to a carriage that a man is riding in. The man is wearing a suit, shirt tie and black hat on his head. There are people sitting and watching the woman and man with the horse.']\n",
      "\n",
      "Predicted Caption:  [\"this is a photo of a horse and buggy in the park.   the motorcycle is black and white.   the horse is walking down the road and is driving down the road with it 's head open.   the horse is wearing a black helmet\"]\n",
      "--------------------------------------------------\n",
      "Image Name       : ['test_700.jpg']\n",
      "\n",
      "Correct Caption  :   ['There is a big building behind the trees. The building is wide and white. There is a clock tower in the center. THe clock says it is 4 in the afternoon. There are clocks on two sides of the tower. There are many palm trees in front of the building. There is a tile walkway in front of the trees. The ground is wet. There are steps by the walkway.']\n",
      "\n",
      "Predicted Caption:  ['a clock tower sticking out of a building. there are clocks on each side of the tower. there is a flag sticking out of the side of the building. there are people at the entrance of the building. the sky above the building is gray']\n",
      "--------------------------------------------------\n",
      "Image Name       : ['test_701.jpg']\n",
      "\n",
      "Correct Caption  :   ['A couple using an umbrella walk on a sidewalk near the ocean.  The couple are in front of a parked motorcycle.  To the left of the couple is a person wearing a clear plastic rain poncho over blue jeans and a jacket.  The person is standing in front of a metal fence.  The sidewalk is wet and the sky is overcast.  Two sea birds fly over the ocean above the heads of the people.']\n",
      "\n",
      "Predicted Caption:  ['a man walks on a <UNK> <UNK> on a <UNK> sand. the <UNK> is a light green color. the man is leaning forward with his right arm out in the air , and his right foot is looking down. the man is wearing a black collar']\n",
      "--------------------------------------------------\n",
      "Image Name       : ['test_702.jpg']\n",
      "\n",
      "Correct Caption  :   ['The instruction was on the table which help with the use of the phone.  It had colorful pages.  It show you have to use the Nokia phone.  The picture of a girl was shown using the phone.  The phone was a basic one.  It was not an android phone.  The color was silver buttons with a black monitor.  All of the pamphlets were shown on the table.']\n",
      "\n",
      "Predicted Caption:  ['there are books on a table. there is a large white book next to the desk. there is a white and red bag on the desk.']\n",
      "--------------------------------------------------\n",
      "Image Name       : ['test_703.jpg']\n",
      "\n",
      "Correct Caption  :   ['A plane is flying in the blue sky. The wing of the plane is white. The sky has white clouds. Below the plane are cars in a parking lot. Next to one of the parking lots is a brown building. The brown building has many windows and a white roof. There are trees in between parking lots. The trees are green. ']\n",
      "\n",
      "Predicted Caption:  ['a young plane is parked on an airport runway. the plane is white with a propeller on the tail. the propeller is white and red. on the tail of the plane there is a blue and white sign. it has propellers on it that says']\n",
      "--------------------------------------------------\n",
      "Image Name       : ['test_704.jpg']\n",
      "\n",
      "Correct Caption  :   ['A freight train of tanker railcars is sitting on or traveling on a set of tracks.  The tankers are cylindrical, some with a few markings.  Overhead wires used for electric trains are present.  A few signal poles are visible in the foreground.  A few tall buildings are in the distance behind the train. It is a sunny day.']\n",
      "\n",
      "Predicted Caption:  ['a train is coming down the tracks. there is a train on the tracks. there is a train next to the train. there is a tall building to the left of the train. there is a fence by the train. there are wires above']\n",
      "--------------------------------------------------\n",
      "Image Name       : ['test_705.jpg']\n",
      "\n",
      "Correct Caption  :   ['The scissor is made of metal. The roll of tape is to the left of the scissor. The tape is clear. The table is covered with a light blue paper. There is writing on the inside ring of the tape. The scissor is pointy at the tip. The paper that is covering the table is a little wrinkled. The letters inside the tape ring are dark colored.']\n",
      "\n",
      "Predicted Caption:  ['a pair of scissors , and some scissors are sitting on a white table. the table is made of wood. there is a paper on the table.']\n",
      "--------------------------------------------------\n",
      "Image Name       : ['test_706.jpg']\n",
      "\n",
      "Correct Caption  :   ['The elephant stands in the grass. The elephant is small. The elephant has tusks. The tusks are little. The elephant is grey. The elephant is standing by the water. The water is like a river. The grass is mostly yellow. There is a hill on the other side of the water. The water is still. there is wood in the water. The grass is short. There are trees on the other side of the river. ']\n",
      "\n",
      "Predicted Caption:  ['there is a large elephant in the water. there are small waves in the water around the elephants. there is a person standing next to the water wearing a white shirt.']\n",
      "--------------------------------------------------\n",
      "Image Name       : ['test_707.jpg']\n",
      "\n",
      "Correct Caption  :   [\"The image is of a bird. The bird is grey and white. It is standing on the ground and looking across the field area. There is nothing on the ground with the bird other than some grass.  The bird has a white chest and a grey throat and head.  It's wings are black and grey with white stripes.  It has black eyes and it's tail feathers are held upright.\"]\n",
      "\n",
      "Predicted Caption:  ['a tiny bird is standing on the ground.   the bird has a black nose and spots.   the bird is looking forward.   the bird has black eyes and a black nose.   there is a fence side by the grassy area.  ']\n",
      "--------------------------------------------------\n",
      "Image Name       : ['test_708.jpg']\n",
      "\n",
      "Correct Caption  :   ['There is a large empty area. The pavement is made up of concrete squares. The pavement is wet. There are shadows on the concrete. Lights are shining in the air and is reflecting on the wet pavement. In the background is a large crane. The sky is overcast and full of gray clouds. On the left in front of the crane is a partially built building.']\n",
      "\n",
      "Predicted Caption:  ['this is a picture of a city street. the street is very busy. there is a large white and black clock on the street. the building has many windows on it. there is a large building in the background. the building is tan and']\n",
      "--------------------------------------------------\n",
      "Image Name       : ['test_709.jpg']\n",
      "\n",
      "Correct Caption  :   ['A double image of the same athlete.  The athlete is wearing a purple polo shirt and a ball cap that is covering his eyes.  He has on white shorts and white socks on his feet with white sneakers with some black.  On his left knee, he is wearing a black brace.  He has a white cuff on his left wrist.  Both hands is holding a tennis racquet. ']\n",
      "\n",
      "Predicted Caption:  ['there is a man wearing a white shirt. he is holding a red and black tennis racket. there is a green wall behind the man with white writing on it.']\n",
      "--------------------------------------------------\n",
      "Image Name       : ['test_710.jpg']\n",
      "\n",
      "Correct Caption  :   ['A baseball player is wearing a red and white uniform and a blue and red helmet. He is holding a black bat in his hands. A catcher is kneeling on the ground in front of him. He is wearing a red and gray uniform and a red helmet with a mask. A white base is on the ground in front of him. The baseball field is brown with green grass on it.']\n",
      "\n",
      "Predicted Caption:  ['this is a game of baseball being played. the man in the white uniform and red hat is <UNK> the ball to the man in the red uniform that is <UNK>. the catcher is ready to go behind the batter and the umpire is also <UNK> to']\n",
      "--------------------------------------------------\n",
      "Image Name       : ['test_711.jpg']\n",
      "\n",
      "Correct Caption  :   ['A young man is seated looking at someone out of view.  The young man has short dirty blonde hair.  He is eating bread which he is holding in his hand.  He is wearing a grey Hartford sweatshirt.  The writing on the sweatshirt is white and red and also says champions on it.  He is seated at a table that has a beer and a glass sitting on it.  The atmosphere is dark.  There is a dark structure behind the man.  The man is kind of smiling.']\n",
      "\n",
      "Predicted Caption:  ['a little boy is standing in front of a man wearing white and a red and black mask. the boy is holding a white teddy plate and is taking a sandwich. he has a red tie in his hand and is attempting to eat it in his']\n",
      "--------------------------------------------------\n",
      "Image Name       : ['test_712.jpg']\n",
      "\n",
      "Correct Caption  :   ['This is an image of a bay. The bay has a line of boats. The boats are parked. The boats are sail boats. The right boat is black and yellow. There are nets on the mast of the boat. The middle boat is white and black. The left boat is red, white and black. The masts have many different ropes going to the masts.']\n",
      "\n",
      "Predicted Caption:  ['boats are on the shore have ropes. boats on front the water are color white , brown and blue. a boat color yellow and green is on the water. the blue boat is painted yellow color with a white stripe down the side. the sky']\n",
      "--------------------------------------------------\n",
      "Image Name       : ['test_713.jpg']\n",
      "\n",
      "Correct Caption  :   [\"The man lay in the bed and read the black book. He leans his head on the brown head board. The man is wearing a blue tee shirt. The little boy lay next to the man read the blue children's book. He is wearing a green tee shirt.  The man and boy are underneath the whit blanket.  There is a white curtain hanging behind the bed.\"]\n",
      "\n",
      "Predicted Caption:  ['a woman is laying on the couch reading a book. the cat is white and black. her hair is long and nose. she is wearing a black dress and a striped shirt. there is another woman in her clothing sitting on the floor looking at']\n",
      "--------------------------------------------------\n",
      "Image Name       : ['test_714.jpg']\n",
      "\n",
      "Correct Caption  :   ['Three people are outside with farm animals in a large open area.  Two of the three people is females.  They are all three dressed casually in white t-shirts and shorts. The animals they are caring for are goats.  The goats are mostly white with brown or black in their heads.  One goat, however, they are mostly brown with white spots.  The three people are holding a stick trying to herd the goats in the direction they want them to go in. ']\n",
      "\n",
      "Predicted Caption:  ['a bunch of sheep are being <UNK> back to an area. there are a couple of sheep and sheep on the ground. some of the sheep are white and some are standing.']\n",
      "--------------------------------------------------\n",
      "Image Name       : ['test_715.jpg']\n",
      "\n",
      "Correct Caption  :   ['A man is riding a motorcycle through a parking lot. He is wearing pair of tan shorts, a short sleeve black shirt, and a black baseball cap. The motorcycle is red with black decals and slick black tires with white walls. He is driving past a parked Mitsubishi SUV with a man in a green jacket standing next to it. ']\n",
      "\n",
      "Predicted Caption:  ['a man is posing on his phone near an outdoor parking lot of <UNK> doors. it is a very nice warm color and the man is wearing a <UNK> suit. the helmet is white and a <UNK> is hanging from it. the sky is blue and']\n",
      "--------------------------------------------------\n",
      "Image Name       : ['test_716.jpg']\n",
      "\n",
      "Correct Caption  :   ['The truck is parked on the pavement. The pavement is faded in some areas. There is a large white sign with a blue banner across the top at the other end of the pavement. At the front of the photo there is a white and orange U-haul truck. It has large black framed window protruding from the side windows. The window are rolled up and no on sitting in the diver side seat.  ']\n",
      "\n",
      "Predicted Caption:  ['the truck is parked in the parking lot. the trucks are black with white dots. the trucks have black tires and a grill on the front of the cart. the letters on the door is black. the wheels on the helicopter are black. the']\n",
      "--------------------------------------------------\n",
      "Image Name       : ['test_717.jpg']\n",
      "\n",
      "Correct Caption  :   ['A woman is taking an item from the oven that was baking. The individual, whom appears to be a Caucasian female, is wearing a knee length denim skirt, with a long sleeved green shirt. In addition, a brown furry dog is watching intently, the individuals actions. The cabinets in the kitchen are a dull white color, and the floor is a medium toned hardwood. ']\n",
      "\n",
      "Predicted Caption:  ['there is a woman in the kitchen getting ready to eat. there are two glasses behind the counter. there are two glasses on the table. there is a man standing in front of the counter with his legs up and a woman. \\n']\n",
      "--------------------------------------------------\n",
      "Image Name       : ['test_718.jpg']\n",
      "\n",
      "Correct Caption  :   ['There is a sandwich in a container. The container is a plastic tupperware container. The sandwich is made of untoasted slices of bread. There is a luncheon meat slice between the bread. There are slices of banana in the sandwich as well. On the counter, beside the container, is a banana that has been sliced into seven portions. ']\n",
      "\n",
      "Predicted Caption:  ['a toasted sandwich has on a white ceramic plate with a toothpick stuck on it. there is another sandwich next to it and a silver knife. there is a light on the table next to the pot.']\n",
      "--------------------------------------------------\n",
      "Image Name       : ['test_719.jpg']\n",
      "\n",
      "Correct Caption  :   ['Two trees brown tree trunks look as if the bark is peeling. One of the trees have a greenish mold on it. There are leaves of another tree in the background as well as a white wall. A chain link fence is at the bottom of the photo. There is a brown and tan giraffe in the photo that has to small horns on the top of his head. ']\n",
      "\n",
      "Predicted Caption:  ['a giraffe is looking at a camera. the giraffes neck is leaning forward. the giraffe is yellow and white. the giraffe has horns on its head. there is one giraffe. the giraffe is black and white. there are many trees in the distance']\n",
      "--------------------------------------------------\n",
      "Image Name       : ['test_720.jpg']\n",
      "\n",
      "Correct Caption  :   ['A man is holding the string of a flying kite. The man is wearing a gray hat and a gray and light gray jacket. The kite is light green with two eyes, a nose, and mouth and two red spots drawn on it. The kite is a triangle shape and has three green strips hanging from the bottom of the kite. Four other kites can be seen in the sky. The sky is full of white and gray clouds, with a patch of blue. Several trees are seen in the lower portion of the image with a light pole with two lights on it close by.']\n",
      "\n",
      "Predicted Caption:  ['the sky is blue and partly cloudy. there are hardly any clouds in the picture. people are taking pictures. the kites are flying high in the air. the sky is clear and blue. there are no clouds in the sky. there are some']\n",
      "--------------------------------------------------\n",
      "Image Name       : ['test_721.jpg']\n",
      "\n",
      "Correct Caption  :   ['A middle aged woman with long, fine, blue hair and dark brown roots holds up her iPhone as if to take a selfie. She has blue eyes, and she is wearing a blue blouse with rolled up sleeves buttoned to the upper arm of the sleeve, breast pockets, and a blue silk tie in multiple shades of blue. She is standing in front of a plain wall. Her hand holding up the phone has a ring on the ring finger. The back of the phone is covered in an abstract melange of the colors white, red and purple, along with blue.']\n",
      "\n",
      "Predicted Caption:  ['a man is sitting on a white chair. the man is wearing a blue short sleeve shirt and a black tie. there is a white napkin on the counter next to the man.']\n",
      "--------------------------------------------------\n",
      "Image Name       : ['test_722.jpg']\n",
      "\n",
      "Correct Caption  :   ['A man is standing on a grassy field flying a kite in the air. He is wearing a white shirt and gray pants. The kite is blue, green, yellow and orange in color. White strings attached to the kite are being held by the man. Two people are sitting on a blanket near the man. A dog is standing behind the people. Tall trees can be seen at the back of the field. Two tall buildings are standing behind the trees.']\n",
      "\n",
      "Predicted Caption:  ['a man flying a kite flying through the air on a cloudy day. the sky is blue and white. the man is flying a kite. the kite is flying in mid air over the man. the sky is very cloudy. the man is wearing']\n",
      "--------------------------------------------------\n",
      "Image Name       : ['test_723.jpg']\n",
      "\n",
      "Correct Caption  :   ['A bus with a Japanese advertisement on the side, is driving down a city street.  The images on the bus are cartoon like dogs and paw prints on the windows.  There is a bus driver on the right hand side of the bus.  A large stone building is behind the road with windows all along the side.  Green leaves are on trees on the sidewalk.']\n",
      "\n",
      "Predicted Caption:  ['a bus is proceeding through traffic and making a turn in the street. the bus is light blue , dark blue , and has white and golden writing on it. the sun is shining very bright and the sky is very cloudy.']\n",
      "--------------------------------------------------\n",
      "Image Name       : ['test_724.jpg']\n",
      "\n",
      "Correct Caption  :   [\"A black cat is lying on it's right side and a dead bird is in front of it.  The are laying on a side walk.  The cat has green eyes.  There is a crack the length of the sidewalk in the middle. The bird is brown and white.  It looks like the bird was in the cats mouth because it is wet.  The cat has long pointy ears.\"]\n",
      "\n",
      "Predicted Caption:  ['a black cat is sitting on top of a car. there is a black pole behind the cat. there is a white car parked on the street in front of the car.']\n",
      "--------------------------------------------------\n",
      "Image Name       : ['test_725.jpg']\n",
      "\n",
      "Correct Caption  :   ['An elderly man stands in the sun looking at the camera.  He is next to some kind of shelter in a park or on a golf course.  Purple columns supporting the top of the structure can be seen.  He wears a purple striped jacket and dark red tie with some white design on it.  He squints from the sun but does not smile.']\n",
      "\n",
      "Predicted Caption:  ['a man and woman are standing in front of each other outside on a cloudy day. the woman is holding a black and white checkered umbrella above their heads. she is wearing a coat. the man is wearing a brown cap , coat and white shoes']\n",
      "--------------------------------------------------\n",
      "Image Name       : ['test_726.jpg']\n",
      "\n",
      "Correct Caption  :   ['It is am image of a very clean bathroom where the towels are neatly stacked and the shower fittings are golden. The tiles are gleaming and everything seems to be spick and span. The wall on the mirror has a black thick frame and the shower has a glass exterior to avoid the water to be spilled outside.']\n",
      "\n",
      "Predicted Caption:  ['a bathroom with two large sinks shaped sinks. there is a mirror hanging above the sinks. next to the sink on the wall is a towel rack with a white towel hanging from it.']\n",
      "--------------------------------------------------\n",
      "Image Name       : ['test_727.jpg']\n",
      "\n",
      "Correct Caption  :   [\"There's a glass dish on the tablThe glass plate has Pizza on it. Half of the pizza is gone. The pizza has mushrooms on it. The pizza also have a meat on it. The crust of the pizza is golden brown. There's a spatula on the plate. The spatula is made of metal. The light is reflecting off of the back of the spatula.\"]\n",
      "\n",
      "Predicted Caption:  ['a pizza is on a plate. the pizza is cut into triangular. there is a pizza on the plate. the pizza is thing and gold in color. there are all kinds of white cheese on top of the pizza. the crust is black and']\n",
      "--------------------------------------------------\n",
      "Image Name       : ['test_728.jpg']\n",
      "\n",
      "Correct Caption  :   ['A lot of people are skiing on a sunny day at a ski resort. The resort is brown and white and nestled into the valley. In the front there are blue and green umbrellas as if there are stands selling items. On the left of the resort there is a hill with lots of tall pine trees. Toward the camera there is a ski slope which slopes upward on the right. A few people are standing at the bottom of the slope. ']\n",
      "\n",
      "Predicted Caption:  ['there are two people cross country skiing on the white snow. they are dressed for the cold weather. they have skis on their feet and poles in their hands. the sky is blue with big puffy white clouds. off in the distance you can see']\n",
      "--------------------------------------------------\n",
      "Image Name       : ['test_729.jpg']\n",
      "\n",
      "Correct Caption  :   ['Three large brown bears are swimming in a river. The bear on the left has his head tilted to the left and his fur is wet up to the bottom of his ears. The one on the right of him is dry above is shoulders. The final bear is all the way in the water and only a little of his back is showing above the water. There is something in the water behind the first bear that appears to be a rock. Behind there is a green, grassy shore.']\n",
      "\n",
      "Predicted Caption:  ['two brown bears are playing on a big brown stone. the bears looks <UNK>. the stone is surrounded by green grass.']\n",
      "--------------------------------------------------\n",
      "Image Name       : ['test_730.jpg']\n",
      "\n",
      "Correct Caption  :   ['The trees are weighted down with heavy snow. The snow has turned the evergreen trees white. There is a person skiing down a slope. He is wearing a helmet, a black coat, a pair of black pants, snow boots and skis. He also holding ski poles. He is down the slope through his ski lime green ski goggles that match the lime green on both his ski poles and the tips of his skis. ']\n",
      "\n",
      "Predicted Caption:  ['this is an image of a skier. the skier is laying in the snow. the snow is white. the snow has tracks from skiers. the skier is wearing a black and white helmet. the skier is wearing orange goggles. the skis are white']\n",
      "--------------------------------------------------\n",
      "Image Name       : ['test_731.jpg']\n",
      "\n",
      "Correct Caption  :   ['Part of a woman can be seen walking on a sidewalk. A large electrical pole is on the sidewalk in front of her. The sidewalk is near a road. The road has different vehicles on it. Power lines are running through the air across the road. Buildings are sitting on both sides of the road. A row of vehicles are parked in front of a building on the side of the road. A large leafless tree is hovering over the vehicles.']\n",
      "\n",
      "Predicted Caption:  ['a yellow fire hydrant is on the sidewalk next to a street.   the fire hydrant is sitting on top of a small black bottom.   a patch of grass is in the foreground in front of the sidewalk.   many power lines hang above the']\n",
      "--------------------------------------------------\n",
      "Image Name       : ['test_732.jpg']\n",
      "\n",
      "Correct Caption  :   ['A cat is sitting on a DVD player. The cat is looking at the small TV. The TV is black. On the screen there are colorful lines. The cat is stripes of light and dark brown. The cat is wearing a collar with circle pendant. There are wires attached to the DVD player. The player is silver. The TV has a SONY logo on it. ']\n",
      "\n",
      "Predicted Caption:  ['the screen of a laptop with a brown and black cat behind it. the cat has green eyes. the cat is next to a black lamp behind the laptop. there is a red lamp next to the screen. the computer monitor on the screen is']\n",
      "--------------------------------------------------\n",
      "Image Name       : ['test_733.jpg']\n",
      "\n",
      "Correct Caption  :   ['A group of people stand on the top of a hill. There is a lot of grass on the ground. There are some trees as well. There are some people sitting on the ground. There are others standing up. There are no clouds in the sky. There is a lot of sunlight. The sky is blue. The people are talking to each other. there are rocks on the hill. ']\n",
      "\n",
      "Predicted Caption:  ['there are two people walking down the hill. the water is calm and very clean. the picture was taken in the day time. the water is shallow and calm.']\n",
      "--------------------------------------------------\n",
      "Image Name       : ['test_734.jpg']\n",
      "\n",
      "Correct Caption  :   [\"A man is standing on a surfboard and holding kite strings. The man is wearing a black and green wet suit. the man's hair is black.  The surfboard is black with white letters and multicolored images on it. The man's feet are on the surfboard and are above the water. The water is gray and white below the man and is moving and somewhat foamy. The water farther away from the man is green with white caps scattered around. There are dark clouds in the blue sky.\"]\n",
      "\n",
      "Predicted Caption:  ['a man in a black wet suit is riding a white board on a wave on a beach. the water is rocky and peaceful , and there is no <UNK> , and there are people standing around him. the sky above him is blue and it is']\n",
      "--------------------------------------------------\n",
      "Image Name       : ['test_735.jpg']\n",
      "\n",
      "Correct Caption  :   ['Three dirt bikers are riding along a rain covered beach.  They appear to be in a competition, as the bikes have numbers on them.  The bikers are dressed alike - crash helmets, gloves, jackets and pants.  Two bikes are red while the third is blue.  It is a cloudy day.  The edge of the beach is in the background, gentle waves coming ashore.']\n",
      "\n",
      "Predicted Caption:  ['a motorcycle is sitting on the ground. there are two tires on the bottom of the vehicle. there is a person riding a bike behind the horses. they are both wearing helmets on their heads. there is a large black pole behind the first motorcycle']\n",
      "--------------------------------------------------\n",
      "Image Name       : ['test_736.jpg']\n",
      "\n",
      "Correct Caption  :   ['This is an image of appetizers. The appetizers are arranged on a tray. There is celery on the tray. The celery stalks are cut and are light green. There is cauliflower on the tray. The cauliflower is white. There are silver tongs meant to serve the vegetables with. There are small red, round tomatoes behind the celery.']\n",
      "\n",
      "Predicted Caption:  ['this is a picture of some food. the food is multicolored. the veggies are multicolored. the vegetables are various vegetables. the vegetables are sliced up. there are green peppers. there is a cup of fruit at the center of the bowl. the']\n",
      "--------------------------------------------------\n",
      "Image Name       : ['test_737.jpg']\n",
      "\n",
      "Correct Caption  :   ['A woman and a little boy are sitting in bed looking at two cats.  The woman has glasses on and a long sleeved striped shirt.  The boy has short dark hair and is wearing a blue tshirt with a pattern on it and a red collar.  The two cats are lying on the bed next to eachother.  The cat on the left has white, orange, and black fur.  The cat on the right is black and grey striped.  The bed spread is blue colored and has a celestial pattern of suns and moons.  The headboard is made of wood.  Next to the bed is a nightstand made of wood.  On top of the night stand is a lamp, book, and several small items.  There is also a small table to the right of the picture with items on it.  The wall appears to be white.']\n",
      "\n",
      "Predicted Caption:  ['a man is laying on the bed reading a book. the book is in his right hand. the man is wearing a brown belt. the man is wearing a white shirt. he is also wearing a grey sweater. he is also wearing a grey']\n",
      "--------------------------------------------------\n",
      "Image Name       : ['test_738.jpg']\n",
      "\n",
      "Correct Caption  :   ['A black train with a red bumper is either pulling into or out of the station. A large amount of smoke is coming from the engine and obscured the rest of the train. Beside the engine is a small green building with windows on the side beside the train. There is a set of stairs leading to the door on the green building. The railings beside the stairs have been painted white. To the right of the green building is a brick building. The background are bare trees. The sky is a white color.']\n",
      "\n",
      "Predicted Caption:  ['a train is sitting on a track. the train is a freight and is black and yellow. the sky is completely filled with clouds. a blue sky can be seen behind the train.']\n",
      "--------------------------------------------------\n",
      "Image Name       : ['test_739.jpg']\n",
      "\n",
      "Correct Caption  :   ['This is a photo of a dessert. The dessert is a cake that is brow and white and is sliced into triangles. The brown slices are chocolate and are powdered. The white slices are sugar powdered. The cake is on a white plate. The table under the plate is white and plain as well. There are speckles of brown powder on the cake on the edge of the plate.']\n",
      "\n",
      "Predicted Caption:  ['the cake on the cake is <UNK>. the cake is chocolate <UNK>. there are sliced chocolate chocolate cake. the cake is on a white plate. there are two clear drinking glasses on the cake. the cake is on a wooden table. one of']\n",
      "--------------------------------------------------\n",
      "Image Name       : ['test_740.jpg']\n",
      "\n",
      "Correct Caption  :   ['A laptop and a desktop monitor are on a desk.  Both the laptop and monitor are powered on.  The room is dark except for a lone desk lamp emitting a small yellow light.  A black keyboard is on the white desk .  the desk lamp is behind a magazine which has a black mouse on top of it.  The walls in the room are plain and light colored.']\n",
      "\n",
      "Predicted Caption:  ['a computer sitting on a desk shows four separate windows. in front of the computer is a small white and grey keyboard with a white cord <UNK> it to the computer. there is also a remote control , computer mouse , clock , and some books sitting']\n",
      "--------------------------------------------------\n",
      "Image Name       : ['test_741.jpg']\n",
      "\n",
      "Correct Caption  :   ['The image is a portrait of a man. The man is wearing a gray suit jacket. The shirt is blue. He is wearing a patterned necktie. The man has grey and brown hair. He is smiling at the camera. The man is wearing eyeglasses. On his finger, there are two rings. The man is standing behind a blue leather chair. The background is gray.']\n",
      "\n",
      "Predicted Caption:  ['this is a picture of a man. the man is wearing a tie. the goatee is patterned. the man has a hoop on his face. the man has short cut <UNK> hair. the man is wearing a black suit. the man has a']\n",
      "--------------------------------------------------\n",
      "Image Name       : ['test_742.jpg']\n",
      "\n",
      "Correct Caption  :   ['The water is blue, but there a a lot of seaweed floating in the background. There is a dog, or what seems to be a dog, swimming in the water toward the wave. The wave has white suds spraying into the air. There is is surfer surfing the wave. The surfer is wearing a black wet suit. He standing with is knees slightly bent and his arms extended out.']\n",
      "\n",
      "Predicted Caption:  ['a man is surfing on a wave. he has a black <UNK> on and his face is really <UNK> and he is looking back the camera as he <UNK> the wave. the water is <UNK> sand and there are waves in the water behind the man.']\n",
      "--------------------------------------------------\n",
      "Image Name       : ['test_743.jpg']\n",
      "\n",
      "Correct Caption  :   ['Two giraffes are standing on a very dirt covered area. There are small white rocks scattered across the dirt terrain. There are many trees off in the distance and the sky is grey. One giraffe is looking at an animal that is next to a bare gray tree. Both giraffes have brown spots and long necks. The trees in the distance are brown and green.']\n",
      "\n",
      "Predicted Caption:  ['there are two giraffes in this image. the giraffes are standing next to one another. there are green bushes near the giraffes. there are many buildings in this picture. the clouds in the sky are white and the sky is blue. there are boats']\n",
      "--------------------------------------------------\n",
      "Image Name       : ['test_744.jpg']\n",
      "\n",
      "Correct Caption  :   ['A plate of food is on the table. The plate is white and round. The light is reflecting off of the plate. The plate has food on it. There is a sandwich and there are french fries to the right of the sandwich. The sandwich has cheese on it. The sandwich is also a hot dog. The french fries have salt on them. To the right of the plate that is a small container of catch-up. The ketchup is red.']\n",
      "\n",
      "Predicted Caption:  ['a white plate of food is sitting on a table. the table is covered with a white <UNK> table cloth. on the left of the plate is a silver fork. on the right side of the plate is a silver butter knife and silver spoon.']\n",
      "--------------------------------------------------\n",
      "Image Name       : ['test_745.jpg']\n",
      "\n",
      "Correct Caption  :   ['A baseball player is holding a brown bat in his hands. He is wearing a blue and white uniform and a blue helmet. A white base is sitting on the ground in front of him. The field has green grass, brown dirt, and white painted lines on it. Three people can be seen sitting in a dug out watching the man play baseball.']\n",
      "\n",
      "Predicted Caption:  ['a baseball player is holding a bat in his hand.   he is wearing a red helmet on top of his head.   he is swinging a black helmet with blue writing and a white stripe on his head.   the grass is green and behind']\n",
      "--------------------------------------------------\n",
      "Image Name       : ['test_746.jpg']\n",
      "\n",
      "Correct Caption  :   ['A small giraffe is looking to the right inside of a pen.  The pen appears to have an Egyptian theme.  There are two egyptian statues sitting on top of a stone seat.  The bottom of the stone seat has hand painted pictures of people and animals.  The seat is grey. To the right of the statues are egyptian style pictures on the wall.  To the left of the statues is an out crop of grey rocks.  The giraffe is brown and white with spots.  The ground is covered in dirt with small sections of green grass peeking through.  To the right of the giraffe is a tree.  The pen is surrounded by a black fence.  The fence has poles and three wires between each post.']\n",
      "\n",
      "Predicted Caption:  ['a giraffe is standing in a field. there are trees behind the giraffe. there is a wood fence behind the giraffe.']\n",
      "--------------------------------------------------\n",
      "Image Name       : ['test_747.jpg']\n",
      "\n",
      "Correct Caption  :   [\"This image is of a two store commercial building site.On the top,there are two stores that have green awning above them,the left one is Fleet and there it houses a green atm machine.The building on the left is The Java Stop,you can see that it has several beverages in the inside and the glass is covered with white letter.On the outside there are several railings The bottom is similar but both spaces are Bertucci's and on the outside of the rails is snow and bushes with snow on top of them.\"]\n",
      "\n",
      "Predicted Caption:  ['a tall building is passing over the street. there is a sign on the wall that has a clock on it. the street is gray and has very large front windows. there are <UNK> on the front of the building. in the background are trees']\n",
      "--------------------------------------------------\n",
      "Image Name       : ['test_748.jpg']\n",
      "\n",
      "Correct Caption  :   ['A man in a brown shirt, blue jeans and white sneakers is walking on the hardwood floor of a bicycle shop. Behind him on the walls are bicycle tires on a rack and three bicycles on their kickstands on the ground. In front of him are closed cardboard boxes and sporting shirts on hangers. A fitting room is directly ahead of him.']\n",
      "\n",
      "Predicted Caption:  ['there is s people standing around the airport. there is a woman in a black jacket standing in front of her. there is a silver fence behind them.']\n",
      "--------------------------------------------------\n",
      "Image Name       : ['test_749.jpg']\n",
      "\n",
      "Correct Caption  :   ['A group of people are sitting at a long table inside of a restaurant. The table is covered with a red tablecloth. There are white plates, coffee mugs, cutlery and other items on the table. Three long blue poles are standing near the table in the room. The door of the building is white. There are windows on the side of the building. ']\n",
      "\n",
      "Predicted Caption:  ['a family of eight sits at a dining table having dinner. at the head of the table is a <UNK> of children with short glasses. at the base of the children are two people holding their heads. a small boy is sitting at the table.']\n",
      "--------------------------------------------------\n",
      "Image Name       : ['test_750.jpg']\n",
      "\n",
      "Correct Caption  :   [\"The beach is full of many people. A lot of the people are laying down enjoying the sun. Even more people are walking and swimming in the blue ocean water. The sky is crystal clear blue and free from any clouds. You can't see the sun but you can tell it is a sunny beautiful weather kind of day. Besides the sand you can see a green grassy area with trees.\"]\n",
      "\n",
      "Predicted Caption:  ['there are people laying on the sand at the beach. some people are wearing bathing suits. some people are sitting in chairs. there are umbrellas up around the sand and over the chairs of the people. most of the umbrellas are multicolored. all of']\n",
      "--------------------------------------------------\n",
      "Image Name       : ['test_751.jpg']\n",
      "\n",
      "Correct Caption  :   [\"The sky is overcast and grey. There is a horse standing out amongst the cars. There's a green car to the right of the horse. The horse is pulling a black cart. A man is leaning over the cart. The horses standing still. The horse is a white cream color. The horses standing in front of a short tan building. The building has a green roof.\"]\n",
      "\n",
      "Predicted Caption:  ['a car is <UNK> on the street <UNK> street. the car is a <UNK> and the rear of the car is red and black. it is parked outside near the sidewalk. two other cars are on the sidewalk. one of the sidewalks has a sign']\n",
      "--------------------------------------------------\n",
      "Image Name       : ['test_752.jpg']\n",
      "\n",
      "Correct Caption  :   ['On top of a dark brown wood table sits a small plate with a dessert.  The plate is square shaped and white.  The edges come up and the center is lower than the sides.  On top of the plate is a small piece of cake.  The cake has a small orange decoration on top of it and a white frosting.  The cake is brown colored with darker brown at the top and the bottom of the cake.  A silver fork is resting upwards on the left bottom side of the white plate.  There is light focused on the back of the table and is shining onto the plate.  There are crumbs of the cake stuck to the white frosting.  ']\n",
      "\n",
      "Predicted Caption:  ['a slice of pizza sits on a plate. the plate is red and white and has a <UNK> pattern on it. there is a pizza and a knife and fork all on the table.']\n",
      "--------------------------------------------------\n",
      "Image Name       : ['test_753.jpg']\n",
      "\n",
      "Correct Caption  :   ['An airplane starts to fly away. The plane is mostly white. The tail is blue and red. There is writing on the side. There are wheels on the bottom. There is fencing on the side. There are buildings in the distance. There are many trees around the buildings. There are poles in the distance. The sky is blue. there are no clouds. ']\n",
      "\n",
      "Predicted Caption:  ['an airplane is getting ready to take off at a runway. the plane is white , red , and has a yellow tail with a blue stripe. it has a yellow stripe and red small <UNK> on it.']\n",
      "--------------------------------------------------\n",
      "Image Name       : ['test_754.jpg']\n",
      "\n",
      "Correct Caption  :   [\"While one giraffe is seen making it's way through the trees and bushes, the two giraffes in the forefront prefer to stay in the grass covered clearing.  The temperatures look to be quite high from the look of the haze that hangs in the sky and forms a veil over the distant hills. These giraffes have spots of chestnut brown with ragged edges, while their unsides are predominately white.\"]\n",
      "\n",
      "Predicted Caption:  [\"a lone giraffe stands in a zoo enclosure. the enclosure is filled with green grass and one large trunk tree. the giraffe is standing next to a concrete pool and it 's head and neck are down. it is covered with brown spots.\"]\n",
      "--------------------------------------------------\n",
      "Image Name       : ['test_755.jpg']\n",
      "\n",
      "Correct Caption  :   ['This was captured at tennis match.Only one side of the court is visible and on it is a male player with a blue head and wristband, a blue shirt,black shorts,a white bandage on his knee,white socks,and black and white shoes.In his hand,he is holding a black and yellow tennis racket.He is also standing on top of green court with the word Gerfor painted on it in white.Behind him is a man sitting on top of something sponsored by Adidas  with a wall next to him from other companies.The wall separates the crowd of people who range from young women,young males, and adult males who are waiting for the other person to serve.']\n",
      "\n",
      "Predicted Caption:  ['a man in a white t - shirt and white shirt is playing tennis. he is also wearing white wrist bands with a red logo. his tennis racket is red with a <UNK> on the netting part of the racket. he is crouching. he also']\n",
      "--------------------------------------------------\n",
      "Image Name       : ['test_756.jpg']\n",
      "\n",
      "Correct Caption  :   ['In the picture there is a small dog. The small dog is off white in color. The dog is looking straight at the camera. The dog has a fluffy coat of hair. The dog looks happy in the picture. The dog is laying on a dog bed. The dog bed is tan and brown in color. The background in the picture is black. The dog has a small fuzzy tail.']\n",
      "\n",
      "Predicted Caption:  ['a cat is laying on top of a brown rug. the cat is looking to the right and standing looking at the camera. there is a dog laying on the floor. there is a reflection of light on the dogs right. there is a soda']\n",
      "--------------------------------------------------\n",
      "Image Name       : ['test_757.jpg']\n",
      "\n",
      "Correct Caption  :   ['A train in on a set of tracks. The train is white with a red nose. There is 2 reds stripes on the side of the truck. There are 3 letters in capital cursive near the front of the train. There are several utility lines above the train. The trains front is in the shape of a bullet.  There is multicolored gravel om the train tracks. The day is cloudy and overcast. ']\n",
      "\n",
      "Predicted Caption:  ['a train is waiting on the tracks. the train is yellow in color. the train has a lot of windows on it. the windows are white. the windshield is empty. the train is next to a building.']\n",
      "--------------------------------------------------\n",
      "Image Name       : ['test_758.jpg']\n",
      "\n",
      "Correct Caption  :   [\"A black and white cat reclines on a bed.  The cat's eyes are gold.  The left ear of the cat is turned back.  The cat's right back leg is up.  The cat's whiskers are white.  The cat is resting on a light grey comforter.  Behind the cat is a person reading a book in bed.  Only one hand of the person can be seen.  The headboard of the bed is a light red colored wood.\"]\n",
      "\n",
      "Predicted Caption:  ['a <UNK> cat is lying on a blue seat cushion placed on a wooden chair.   the cat is white - gray with a black tail , nose , and ears.   the cat has a green and yellow collar around its neck.    its eyes']\n",
      "--------------------------------------------------\n",
      "Image Name       : ['test_759.jpg']\n",
      "\n",
      "Correct Caption  :   ['A round plate with food is sitting on a wooden surface. A square piece of flat bread is on the plate. On top of the bread is an orange sauce. A pile of greens are on top of the bread. A fork is sitting face down on the plate. Next to the plate is 2 pieces of sliced lemon. There are several seeds in the lemons pieces. There is a coffee cup of next to the plate and the lemons. The cup is filled with a brown beverage.']\n",
      "\n",
      "Predicted Caption:  ['a plate of food is on top of a table. two glasses , one of water and one of orange juice are next to the white plate. one the plate is a pile of potatoes , a couple <UNK> , a piece of cheese and a <UNK>']\n",
      "--------------------------------------------------\n",
      "Image Name       : ['test_760.jpg']\n",
      "\n",
      "Correct Caption  :   ['A blue sky is filled with white clouds. There is a street pole taking up most of the image. On the top of it is a green rectangular street sign with Naples written on it in white writing. Below that street sign is another green street sign with Chrysolite Ave written on it in white. Below that sign is the top of a red Stop sign outlined in white.']\n",
      "\n",
      "Predicted Caption:  ['a bunch of signs are located on street pole. the pole appears to be in a downtown setting. two of the signs are green and one is black and white. the sky is completely filled by a cloud.']\n",
      "--------------------------------------------------\n",
      "Image Name       : ['test_761.jpg']\n",
      "\n",
      "Correct Caption  :   ['A boy is holding on the the handle of a kite while strapped to a wake board. The boy is in mid air. His legs are bent. The wake board is teal blue. The boy is in the air over a large body of water. The water is dark blue. There is water spray coming from the boy and the board.The handle the boy is holding is brown with 3 lines connected to it.']\n",
      "\n",
      "Predicted Caption:  ['a man in a white sleeveless shirt and tan swim shorts is surfing on a white surfboard in a body of water.   the man is riding a large wave.   the body of water has a green tint and a light white foam on the surface']\n",
      "--------------------------------------------------\n",
      "Image Name       : ['test_762.jpg']\n",
      "\n",
      "Correct Caption  :   ['A large boat is docked next to a pier. The boat is white. There is a blue cover over part of the boat. There is a blue line attached to the pole. There are several birds sitting on different parts of the pier. The birds are gray and white. Th posts on the pier are discolored. There are other boats at the dock.']\n",
      "\n",
      "Predicted Caption:  ['there is a boat in the water. there is a flag on the back of the boat. there is a flag on the side of the ship. there is a flag on the top of the boat. there are many white clouds in the sky']\n",
      "--------------------------------------------------\n",
      "Image Name       : ['test_763.jpg']\n",
      "\n",
      "Correct Caption  :   [\"The boat is on the ocean. The boat is a sailboat. The sale is being pushed by the wind. The water and slightly calm and moving along slowly. The sky is partly cloudy but mostly bluish. There are people on the sailboat. The sailboat is the only boat on the water. There's a lighthouse in the far distance. The lighthouse is very tall. There is no lighthouse on at the Lighthouse.\"]\n",
      "\n",
      "Predicted Caption:  ['the sky is partly cloudy and the water is calm. there is a boat <UNK> along carrying people. the boat in the boat is white , red and has a little white on it. the sun is shining brightly on the buildings and there are small']\n",
      "--------------------------------------------------\n",
      "Image Name       : ['test_764.jpg']\n",
      "\n",
      "Correct Caption  :   ['A one car silver, white, and red train is on a track bordered with telephone poles strung with cables. To the left of the track is a dry, plowed field edged with green and yellow grass, and to the right of the tracks are small green bushes and a trees, then a large dry field that is not plowed, and then another field which long strips of green plats growing. Behind the field with the plants sits an expanse of more trees, some dry areas, and a forested mountain range can be seen in the distance. The day is sunny and bright.']\n",
      "\n",
      "Predicted Caption:  ['a red and white train is on the tracks. there are many trees behind the train. there is a gray and white building in the background.']\n",
      "--------------------------------------------------\n",
      "Image Name       : ['test_765.jpg']\n",
      "\n",
      "Correct Caption  :   ['Two small toddler boys are standing outside on a dirt and grass field. Several blow up amusement structures can be seen. One is a boucy one with a yellow front and another looks like a huge yellow and red blow up slide. One of the toddlers, who is dressed in an orange shirt and jeans, is holding a tennis racket in one hand, and a red and yellow ball in the other. Another racket lies on the ground next to him. An adult wearing white shorts and shirt stands near the toddlers, and another child and adult can be seen behind him.']\n",
      "\n",
      "Predicted Caption:  ['there are two men standing on the grass. there is a man in a black shirt standing next to them. there is a chalk board behind them.']\n",
      "--------------------------------------------------\n",
      "Image Name       : ['test_766.jpg']\n",
      "\n",
      "Correct Caption  :   ['Two older women are sitting side by side on a park bench overlooking a body of water.  The woman on the right has grey hair and is wearing a white shirt, blue pants and sunglasses. The woman on the left has a sleeveless top and is wearing a straw hat. Flowers are planted in a stone structure to the left of the women  There are two boats docked in the water nearby. Across the water is a very large building and some smaller ones, as well as other boats.']\n",
      "\n",
      "Predicted Caption:  ['a couple of people are playing <UNK> on a river. the boats are small and blue and white. they are outside on a wooden beach and there are some trees on the side. there is a woman in a blue shirt and white pants standing on']\n",
      "--------------------------------------------------\n",
      "Image Name       : ['test_767.jpg']\n",
      "\n",
      "Correct Caption  :   ['The man is walking at the sidewalk. He is carrying a big umbrella. The umbrella is green. The handle of the umbrella is brown. The man is wearing a suit. The suit jacket is black. The fence is blue. There is graffiti on the fence. The sidewalk is paved and gray. The shirt is white. The sky is white.']\n",
      "\n",
      "Predicted Caption:  ['a person is walking in an office area.   the woman is carrying a umbrella over her right hand.   the umbrella is blue and has black writing on it.   the person is also wearing a black jacket and black pants.   the person']\n",
      "--------------------------------------------------\n",
      "Image Name       : ['test_768.jpg']\n",
      "\n",
      "Correct Caption  :   ['A man in blue shorts and a white shirt is running on a tennis court getting ready to hit a tennis ball coming at him. The sunny sky is casting shadows on the court of his body. Around him is a tall brown post fence enclosing the court. Opposite the fence is a small white house with a black car parked in front of it.']\n",
      "\n",
      "Predicted Caption:  ['a woman is playing tennis on a tennis court. she is wearing a white tank top and a white skirt. the woman is holding a racket in her hands. a green ball is soaring in the air towards the woman. part of a black and']\n",
      "--------------------------------------------------\n",
      "Image Name       : ['test_769.jpg']\n",
      "\n",
      "Correct Caption  :   ['A dog is seen very closely to the camera and through a clear object. The dog is a golden brown color and is standing in what appears to be the kitchen. The floor of the room is tiled with a beige and darker beige design going diagonally across the tiles. There is a wooden cabinet located directly behind the tail of the dog.']\n",
      "\n",
      "Predicted Caption:  ['there is a dog and brown dog laying on the ground. there is a black dog laying on the ground in front of the dog. there is a brown dog laying on the ground behind the dog. there is a red collar around the dog.']\n",
      "--------------------------------------------------\n",
      "Image Name       : ['test_770.jpg']\n",
      "\n",
      "Correct Caption  :   ['A herd of sheep stand in a field. There is a white fence around the herd of sheep. There is green grass and dirt under the sheep. There is a large crowd of people standing around the fence near the sheep. There is a large white building off in the distance in front of the sheep. There are trees in front of the large white building.']\n",
      "\n",
      "Predicted Caption:  ['a group of sheep are in the park. the sheep are all white. the sheep are standing on a green grass field. the ground is made of dirt. there are some <UNK> by the trees. there is a building in the background. there']\n",
      "--------------------------------------------------\n",
      "Image Name       : ['test_771.jpg']\n",
      "\n",
      "Correct Caption  :   ['The clear blue sky in the background reflects off the vibrant white snow. There is a man skiing on the snow. He is wearing a yellow backpack on his back. He has a grey vest over a black long sleeve shirt with black long pants. He snow shoes are yellow and match his yellow skis. He is also wearing a helmet and goggles. The skiers shadow is cast under him on the snow. ']\n",
      "\n",
      "Predicted Caption:  ['a person in a white jacket and black pants is skiing in the white snow. the person has white goggles. the person is holding a ski pole in each hand , and has skis on her feet. there is a lone pole sticking out of the']\n",
      "--------------------------------------------------\n",
      "Image Name       : ['test_772.jpg']\n",
      "\n",
      "Correct Caption  :   ['This photo is taken inside of a bathroom. A large window is sitting above a tub. There is a gray shower rod hanging on a wall above the tub. A white toilet is sitting beside a sink in the bathroom. A silver faucet is hanging over the sink. There is a mirror hanging on a wall above the sink. Part of a light can be seen hanging over the mirror.']\n",
      "\n",
      "Predicted Caption:  ['a white toilet is sitting in a room. there are metal bars on the walls behind and next to the toilet. the toilet seat on the toilet is up. there is a window above the toilet on the lid of the toilet. there is a']\n",
      "--------------------------------------------------\n",
      "Image Name       : ['test_773.jpg']\n",
      "\n",
      "Correct Caption  :   ['The brown bear stands in the yard covered in snow. The bear has a camera on its neck.  The house behind the bear has snow on its roof.  The house has two large windows in the front of it.  There is a large shrub covered in snow in front of the window.  The house has glass windows around the front door.']\n",
      "\n",
      "Predicted Caption:  ['a house is empty of some trees. there is a fire hydrant on the sidewalk that has been placed up on it. the sidewalk across is made of wood and has patches of dirt. there is a sidewalk in front of the gate that has a']\n",
      "--------------------------------------------------\n",
      "Image Name       : ['test_774.jpg']\n",
      "\n",
      "Correct Caption  :   ['A baseball player is holding a bat in his hand while standing on a baseball field. He is wearing a black helmet and a gray and black uniform. A catcher dressed in red and white is squatting behind the player. People are sitting in stands watching the baseball game. A wall separates the field from the people.']\n",
      "\n",
      "Predicted Caption:  ['a man is standing on a baseball field. he is wearing a blue and white uniform , a black helmet and gloves. he is holding a brown and black bat in his hand. the field has green grass. muddy dirt is seen near the grass']\n",
      "--------------------------------------------------\n",
      "Image Name       : ['test_775.jpg']\n",
      "\n",
      "Correct Caption  :   ['A white polar bear is sleeping on the grass. A grass stain blemished the center of his forehead. His black eyes are closed. His black snout is still. His fur has flecks of beige, brown and black in it. Beneath his is green grass with bare patches of dirt in the bald spots. A huge front paw tramps down on weeds.']\n",
      "\n",
      "Predicted Caption:  ['this is a white bear with a black nose and its eyes are closed. it is in the corner of a red , white , and blue <UNK>. it has a white collar with yellow designs on it. it has a brown snout and eyes.']\n",
      "--------------------------------------------------\n",
      "Image Name       : ['test_776.jpg']\n",
      "\n",
      "Correct Caption  :   ['A white refrigerator is against a wall in a kitchen. Someone has positioned two magnets to appear as eyes on the refrigerator so the appliance appears to have a face. There are two white handles in between the magnets to appear as if they are the nose on the  refrigerator. The refrigerator has a bottom drawer for the freezer and the handle is curved upwards. The refrigerator appears to have eyes, a nose, and a smiling mouth. ']\n",
      "\n",
      "Predicted Caption:  ['a very neat photo of a kitchen. the kitchen is very <UNK> and has a fridge and <UNK>. the cabinets are a light yellow color , with black trim and a silver oven. there are also <UNK> on the stove.']\n",
      "--------------------------------------------------\n",
      "Image Name       : ['test_777.jpg']\n",
      "\n",
      "Correct Caption  :   ['This picture is taken inside of a building. People are shopping at different booths and tables that are set up in the building. A man is wearing a black leather jacket and blue jean pants. A clock is hanging from a ceiling above his head. There is a tall brown and white pole standing near the clock in the room.']\n",
      "\n",
      "Predicted Caption:  ['a group of people are in a store shopping.   the floor is made of brown and yellow brick.   there is a lot of different area such as vegetable and <UNK>.   there are shelves sitting in the middle of the floor.   some']\n",
      "--------------------------------------------------\n",
      "Image Name       : ['test_778.jpg']\n",
      "\n",
      "Correct Caption  :   ['This picture is taken inside of a kitchen. A white door is leading into the kitchen. A rug is on the floor in front of the door. The kitchen has white cabinets with black counter tops. A white sink drops inside of the kitchen. White tiles are on a wall behind the sink. A window is hanging above the sink with brown curtains on top of it.']\n",
      "\n",
      "Predicted Caption:  ['there are four glass tables on the table. the chairs near the table are brown. the kitchen floor is brown. the door is white. the door is made of glass. the cabinets are white. there is a curtain by the window that is']\n",
      "--------------------------------------------------\n",
      "Image Name       : ['test_779.jpg']\n",
      "\n",
      "Correct Caption  :   ['This image is taken outside of a busy downtown city streets.On the left,there are a bunch of buildings,street lights,birds,peoples,and red and black banners swinging from the pole.On the other side,the exact same thing is visible but there stores are different.The middle of the road has three cards and a big silver charter bus on the side of the road waiting at a red light.']\n",
      "\n",
      "Predicted Caption:  ['the city streets crowded with lights.   there are lights on poles. there are traffic lights. there are traffic signs. here are red , green , grey and some are red. there are signs on the side.']\n",
      "--------------------------------------------------\n",
      "Image Name       : ['test_780.jpg']\n",
      "\n",
      "Correct Caption  :   ['A bench is sitting on a walkway near a tall pole. A motorcycle is sitting on the other side of the pole. A body of water is seen in front of the bench, pole and motorcycle. Boats are sitting on the water. Different color flags are standing near the boats. Homes can be seen sitting on the other side of the water. Green trees surround the homes.']\n",
      "\n",
      "Predicted Caption:  ['this is a picture of a boat. the boat is in calm and looks like a boat. it has a wooden bucket. the boat is painted white and blue. there are many windows on the <UNK>. there is a small boat in the water']\n",
      "--------------------------------------------------\n",
      "Image Name       : ['test_781.jpg']\n",
      "\n",
      "Correct Caption  :   ['A tall, rusty metal fence with bobbed wire is enclosing a lot.The lot has many small weeds growing and there is a cage inside this lot that encloses two trucks and there are some tall buildings behind this small cage. Trash is lying on the sidewalk in front of the fence. There are two manholes on the sidewalk and the sidewalk appears to be cracked. There is also a sign posted on the bobbed fence.']\n",
      "\n",
      "Predicted Caption:  ['there is a bus driving down the street. it is grey in color. there is a <UNK> on top of the bus on the bus. the sky is filled with white clouds.']\n",
      "--------------------------------------------------\n",
      "Image Name       : ['test_782.jpg']\n",
      "\n",
      "Correct Caption  :   ['The sky is filled with fluffy white clouds. There are airplanes parked on the tarmac. The closest airplane is white and has a blue tail with gold world. The next plane is also white, however it has a blue and red tail and a blue engine. There are also dark brown or black trucks on the tarmac. The truck have yellow stairs placed at the back of the truck.  ']\n",
      "\n",
      "Predicted Caption:  ['this is an image of a runway. there is a plane parked at a <UNK>. the plane is white and red. the tail of the plane is red with white writing. the writing on the plane is red. the runway is made of dark']\n",
      "--------------------------------------------------\n",
      "Image Name       : ['test_783.jpg']\n",
      "\n",
      "Correct Caption  :   ['Two men can be seen standing on a tarmac under an airplane. Both of the men are wearing green reflective vests. The plane has over ten small windows on the side of it. The airplane is blue, black and white in color. There is a large propeller on one of the wings of the plane. The sky above the tarmac is blue with numerous white clouds in them.']\n",
      "\n",
      "Predicted Caption:  ['a large white airplane with a blue stripe near the belly sits on a runway. the <UNK> windows are dark , and there is a blue and yellow line near the windows. the <UNK> of the airplane are covered with grey covers and on the ground appears']\n",
      "--------------------------------------------------\n",
      "Image Name       : ['test_784.jpg']\n",
      "\n",
      "Correct Caption  :   ['A man with dark hair and wearing a black wet suit is standing on a yellow surfboard edged with lime green. He is riding on a large wave with a with lots of white foamy water filling the back of the wave. He is standing very close to the edge of the surfboard, and is tilting. The ocean water is a pale green color with lots of small white cresting waves surrounding the surfer.']\n",
      "\n",
      "Predicted Caption:  ['a man is surfing a wave. he is just about to go over the wave to <UNK> a trick. he has on a black shirt with some trunks. his surfboard is white , red , and black.']\n",
      "--------------------------------------------------\n",
      "Image Name       : ['test_785.jpg']\n",
      "\n",
      "Correct Caption  :   ['The room is dimly lit. The door is closed. There are two windows by the door. The windows are on the left side of the door. The door is white. The door has a chain on it. The chain is black. There are two lights on in the room. There is light coming through the windows. The floor by the door is made of square tiles. The square tiles are two different colors.']\n",
      "\n",
      "Predicted Caption:  ['a room filled with <UNK> decorations is visible in the photo. there are chairs next <UNK> a table with a white floral tablecloth.   a rocking chair is in the middle of the room above a red patterned rug on floor.   there are wood planks']\n",
      "--------------------------------------------------\n",
      "Image Name       : ['test_786.jpg']\n",
      "\n",
      "Correct Caption  :   ['The are two giraffes in the forest. One giraffe is smaller than the other. The giraffes have horns. Their ears are pointy and white. They have brown spots. Their necks are long. Their legs are long. The end of their tail is black. Behind them are trees and bushes. On the ground is grass. The grass are dry. The face of the giraffes are brown. ']\n",
      "\n",
      "Predicted Caption:  ['there is a tall spotted giraffe standing near some trees. the trees has many green leaves on them. the sky above the trees is blue. the ground under the giraffe is filled with dry grass.']\n",
      "--------------------------------------------------\n",
      "Image Name       : ['test_787.jpg']\n",
      "\n",
      "Correct Caption  :   ['There is a dirt road. Across the dirt road there is green trees that are tall and some have fallen onto the ground. In the fore forefront of the photo there are two giraffes. They are tan and brown have they both have two small horns on top of their head. They are playing in the sand. There is no vegetation on this side of the road. ']\n",
      "\n",
      "Predicted Caption:  ['a giraffe is walking towards the right on an open <UNK> plain with a body of water behind it. there are two zebras walking towards the left behind the zebras , one on either side of the giraffe.']\n",
      "--------------------------------------------------\n",
      "Image Name       : ['test_788.jpg']\n",
      "\n",
      "Correct Caption  :   ['The photo was taken outdoors in a dirt field. On the field are a group of goat. The housing structures are behind the animals. The sky is clear in the picture. There are also a few chicken on the field. The buildings are made of clay. The buildings on the right are dome shaped. The picture was taken in the day time.']\n",
      "\n",
      "Predicted Caption:  ['a group of sheep stand on a hill side. the sheep have dirty white fur. the sheep have black faces. the sky above the sheep is light grey. the ground beneath the sheep is dirt with lots of rocks.']\n",
      "--------------------------------------------------\n",
      "Image Name       : ['test_789.jpg']\n",
      "\n",
      "Correct Caption  :   ['In the field are three elephants. The elephant in the middle is large and there are two smaller ones on the sides. The field is grassy as well being filled with small bushes. There are two small white birds in the picture. The grass is dark green. The elephants are looking to the side. The sky is clear and is gray in color. The picture was taken in the day.']\n",
      "\n",
      "Predicted Caption:  ['a small herd of elephants is standing in and around a watering hole filled with murky brown water. a few wet elephants are laying in the dirt beside the water. others are crowded in the small area drinking through their trunks. behind them there are a']\n",
      "--------------------------------------------------\n",
      "Image Name       : ['test_790.jpg']\n",
      "\n",
      "Correct Caption  :   ['This is an outdoor image of a bird sitting on a cobblestone balcony.The bird is small,he has a long sharp pointy black beak,grey feathers,and a blue tail with white lines.Next to he bird is beige crumpled up rocks that are going down a hill.On the side of the rocks,there is a small patch of grass that appears to be about eight inches long.']\n",
      "\n",
      "Predicted Caption:  ['a bird is standing on a rock. the bird is white and black and has a black crown. the wings are a golden yellow color. the bird is pretty small. the bird is small and white. there are small ripples on the feet.']\n",
      "--------------------------------------------------\n",
      "Image Name       : ['test_791.jpg']\n",
      "\n",
      "Correct Caption  :   ['The sky is blue and clear. There is a building that looks like a castle. The building has three peaks at the top. There is a brown fence surrounding the building which is mounted in in a rock wall. The building on top of a hill. The hill is mostly dirt, but has some patches of grass. There is a black clock with a white face black numbers and black clock hands. ']\n",
      "\n",
      "Predicted Caption:  ['a <UNK> shot of a clock protruding from the ground. the clock is very old and the numbers are in roman numerals. the sky is filled with clouds and a building is right in view of the clock.']\n",
      "--------------------------------------------------\n",
      "Image Name       : ['test_792.jpg']\n",
      "\n",
      "Correct Caption  :   ['A crowd is sitting in red chairs at a tennis match. There is a green wall separating the crowd and the tennis player. The tennis player is wearing a white shirt with black stripe and black design as well as white shorts with a black line.He has white, black and red sneakers as well as white socks with a black logo. He is wearing white wrist bands on his wrist as he about to serve the ball. His tennis racket red and black with a white handle. He is playing on a brown, sandy ground with white lines outlining the court.']\n",
      "\n",
      "Predicted Caption:  ['a man is standing on a tennis court playing tennis. he is wearing a blue shirt , white shorts , white headband , and white wristbands on his <UNK>. the man is holding a red , black and white racket in his hand. his hair is']\n",
      "--------------------------------------------------\n",
      "Image Name       : ['test_793.jpg']\n",
      "\n",
      "Correct Caption  :   ['Three men are sitting in a room working on laptops that are on their laps. all of the men are wearing short sleeve shirts. The wall in the room is painted white. There is a black rack with shelves standing in front of the wall. Different objects are sitting on top of two of the shelves. The floor in front of the rack is brown in color.']\n",
      "\n",
      "Predicted Caption:  ['three people are inside the office. one of the people is wearing glasses. there are two white lights in the back. they are both turned on. the ceiling is white. there are many things on the wall.']\n",
      "--------------------------------------------------\n",
      "Image Name       : ['test_794.jpg']\n",
      "\n",
      "Correct Caption  :   ['This is an image of a truck. The truck is for industrial work. The truck is for carrying concrete. The truck has a large white drum on the back. The truck cab is light blue. The truck has large rubber wheels. The wheels are black. The drum on the truck has concrete in it. The truck is on a cracked and damaged gray road. ']\n",
      "\n",
      "Predicted Caption:  ['this is an image of a work truck. the truck is holding cement. the cement is in the <UNK>. the <UNK> is red. the small truck is red. the small truck is red. the cars are stopped at the very top of the']\n",
      "--------------------------------------------------\n",
      "Image Name       : ['test_795.jpg']\n",
      "\n",
      "Correct Caption  :   ['A white porcelain toilet sits with the lid open on a concrete platform over warped linoleum. The pipes running to the toilet are exposed against the yellow walls. Above the toilet are small square cutouts showing a view of the outside. On the opposite side of the room is a black trash can filled with water with a red plastic pot floating on top of it. A smaller blue waste can is on the floor behind it.']\n",
      "\n",
      "Predicted Caption:  ['this is an image of a bathroom. the bathroom is very small. the bathroom has a small toilet in it. the toilet is white. there is a toilet brush above the toilet. the toilet is white. there is a toilet brush to the']\n",
      "--------------------------------------------------\n",
      "Image Name       : ['test_796.jpg']\n",
      "\n",
      "Correct Caption  :   ['A white male in blue swimming trunks is on a small surf board. His left arm is stretched out to his side. He is wearing a white band on his wrist. The background is blue and contains text. The word \"Flow\" can be made out. The surfboard appears to be resting on a column of water, jetting up from below .']\n",
      "\n",
      "Predicted Caption:  ['a man wearing a yellow shirt and blue shorts is standing on a surfboard. there is a large wave in the water. the man is standing on a white and yellow surfboard.']\n",
      "--------------------------------------------------\n",
      "Image Name       : ['test_797.jpg']\n",
      "\n",
      "Correct Caption  :   [\"A woman's hand is reaching for a smart phone turned on on a white counter. She is wearing a ring on her middle finger and two silver bangle bracelets on her wrist. Next to the phone is a pack of cigarettes with the top open and two cigarettes halfway pulled out. A keyfob and two keys are laying on the pack. Beside that is a tall pilsner glass on a square coaster. The glass is half filled with foamy beer. Lastly is a floral pocketbook with a black strap on its side.\"]\n",
      "\n",
      "Predicted Caption:  ['a <UNK> machine is on a table. there is a <UNK> phone and a <UNK>. there is a light <UNK> on the table.']\n",
      "--------------------------------------------------\n",
      "Image Name       : ['test_798.jpg']\n",
      "\n",
      "Correct Caption  :   [\"The woman is holding a banana. The banana is yellow. The woman is wearing a hoodie. The hoodie is dark blue. The woman has blue eyes. The woman is wearing a cap. The cap is green. The woman is wearing a necklace. The woman's mouth is open. The bottom part of the banana is brown. The ceiling is white.\"]\n",
      "\n",
      "Predicted Caption:  ['a man with a goatee is cutting a stick. he is eating some food. the man is selling <UNK>. he is wearing a blue <UNK> with a purple <UNK>. the man is holding the donut in his left hand. he is wearing a white']\n",
      "--------------------------------------------------\n",
      "Image Name       : ['test_799.jpg']\n",
      "\n",
      "Correct Caption  :   ['This picture is taken outside on a cloudy day. Men, women and children are standing on a platform of a train station. A little boy is wearing a green shirt and blue jean pants. A long black train is sitting on a track near the platform. White smoke is coming out of the front of the train. Electrical lines can be seen running across the air above the train.']\n",
      "\n",
      "Predicted Caption:  ['a vintage train sits on a track.   the train tracks are surrounded by a green , metal post fence.   gravel sits under the train tracks. a building is to the right of the train.   the number <UNK> is printed on the side']\n",
      "--------------------------------------------------\n",
      "Image Name       : ['test_800.jpg']\n",
      "\n",
      "Correct Caption  :   ['This image is of a bathroom. There is a white toilet and sink which are situated next to each other on one wall. There is a window above the toilet which has a board over it. There is a mirror over the sink with an arched shaped to it. An empty toilet roll holder is hanging on the wall to the left of the toilet. There is a dirty rag laid flat under the sink which looks as though it has been placed to catch drips from under the sink. The bathroom door is visible and ajar, it has a brass colored door knob. The flooring is tile, mostly beige but with some accent colors included, and the walls are papered with an orange floral patterned paper.']\n",
      "\n",
      "Predicted Caption:  ['the bathroom is clean. the bathroom is white. the sink is square. the walls are tiled. the floor is made with tiles too. the floor tiles are smaller than the wall tiles. the mirror is on the wall over the sink. the']\n",
      "--------------------------------------------------\n",
      "Image Name       : ['test_801.jpg']\n",
      "\n",
      "Correct Caption  :   [\"A cycling race with seven riders leaning to their right as they cross a street. They are a mixture of men and women and all are wearing cycling shorts and shirts which are covered in advertisements. One shirt clearly shows the word Mexico on the shoulders. They are all wearing cycling helmets and protective glasses. Six of the seven helmets are predominantly white but there is one bright yellow one visible. Behind the racers on the street is a white car with it's headlights on. The leaders of the race are wearing the same style of shirt.\"]\n",
      "\n",
      "Predicted Caption:  ['there are two men riding on the motorcycles. the men are wearing green safety vests. the men are wearing hats on their heads. the men are wearing white hats. the men are wearing blue jeans. the men are wearing blue jeans. the men']\n",
      "--------------------------------------------------\n",
      "Image Name       : ['test_802.jpg']\n",
      "\n",
      "Correct Caption  :   ['This is an image of a lunch. The lunch is rice, meat and vegetables. The vegetables are various. The vegetables are green. There is broccoli on the plate. The rice is in a clump. The rice is white. The meat is cooked well done. The meat is pink and dark brown. There are carrot slices on the plate. The slices are orange.']\n",
      "\n",
      "Predicted Caption:  ['a round plate is sitting on a table. the table is dark brown and there is a <UNK> under the plate. the plate has white rice , chopped carrots , <UNK> <UNK> , and a piece of grilled salmon. all the plate is white and round']\n",
      "--------------------------------------------------\n",
      "Image Name       : ['test_803.jpg']\n",
      "\n",
      "Correct Caption  :   ['Cruise ships are at a port.  The boats are docked by a pier and anchored down.  A small red boat with an umbrella is in the ocean in the foreground.  The cruise ships are large and a pier is surrounded by a metal fence.  Buildings can be seen in the background and have pointed roofs.  The sky is blue and no clouds can be seen.']\n",
      "\n",
      "Predicted Caption:  ['a <UNK> boat is in a body of water. there are several boats in the water. there is a small boat in the water. there is a flag flying near the <UNK> of the water. there are white boats in the water. there is']\n",
      "--------------------------------------------------\n",
      "Image Name       : ['test_804.jpg']\n",
      "\n",
      "Correct Caption  :   [\"There is a vase on the table. The vase is tan and black. There's a rock to the left side of the face. There are flowers in the vase. The flowers are bright yellow. The flowers have leaves on them. The leaves are thick and green and healthy. The table that the flowers are on has a tablecloth on it. The tablecloth is red white and blue. The tablecloth is red with white lines and a big blue line on it. There are chairs at the table. There are two chairs all together. To the right of the table are two windows. The wall under the windows is green.\"]\n",
      "\n",
      "Predicted Caption:  ['a large flower arrangement is sitting on a table. the vase is a brownish marble color. the vase is a brownish marble color , with a vase of flowers. the vase is sitting on a table , a sunny , and clear blue carpet. there']\n",
      "--------------------------------------------------\n",
      "Image Name       : ['test_805.jpg']\n",
      "\n",
      "Correct Caption  :   ['A man is sitting at a table in a restaurant. He is wearing a long sleeve brown shirt. The man is looking a gray cellphone that he is holding in his hand. There are clear glasses and white plates on the table, along with a red and white checkered tablecloth. Different picture frames are on walls across from the man. Christmas lights surround some of the frames.']\n",
      "\n",
      "Predicted Caption:  ['a man and woman are sitting at a table. the man is wearing a short sleeve shirt. the man is wearing a short sleeve shirt. the shirt is red a <UNK>. the man is wearing a brown <UNK> shirt. the man is wearing a']\n",
      "--------------------------------------------------\n",
      "Image Name       : ['test_806.jpg']\n",
      "\n",
      "Correct Caption  :   ['A woman is holding a tray. The tray is made of wood. On the tray is pizza. There are chopped tomatoes on top of the pizza. The woman is looking on the pizza. The woman is wearing a knitted blue jacket. The pizza has mushroom on it. The cheese is melted on the pizza. Behind the woman is a stove. The stove is white.']\n",
      "\n",
      "Predicted Caption:  [\"a man 's hand is sitting at a table. there is a pizza on top of the pizza. the pizza is very <UNK> and <UNK>. the man is wearing a scarf and shorts. the pizza is on a round white plate. the pizza has\"]\n",
      "--------------------------------------------------\n",
      "Image Name       : ['test_807.jpg']\n",
      "\n",
      "Correct Caption  :   ['An old, dirty and rusted white toilet is attached to a wall.  The toilet has red, orange and grey stains inside the bowl.  The seat is covered in grey dirt and the exterior of the toilet has white lumpy drippings on it.  Above the toilet is a white sink bowl with a blue backdrop , two water handles and a faucet.  The wall the toilet and sink are attached to is white with dark marks on it including dirt smudges at the base of the wall.  The floor is a dirt floor.']\n",
      "\n",
      "Predicted Caption:  ['a toilet is sitting in a bathroom. the toilet is white in color. the lid on the toilet is open. the toilet is very clean.']\n",
      "--------------------------------------------------\n",
      "Image Name       : ['test_808.jpg']\n",
      "\n",
      "Correct Caption  :   ['A man is in an indoor skateboard and is performing a trick in the air at the top of a ramp. He is doing some variable flip with his board and he is wearing a light blue slate colored shirt, a hat, and some khaki pants with black and white shoes. There are a lot of painted murals and design displays on the wall of the park.']\n",
      "\n",
      "Predicted Caption:  ['a man is skateboarding. the man is wearing blue jeans. the man is in the air. the man is wearing a hoodie. the man is wearing black sneakers. the man is wearing sunglasses. the man is wearing sunglasses. the man is wearing']\n",
      "--------------------------------------------------\n",
      "Image Name       : ['test_809.jpg']\n",
      "\n",
      "Correct Caption  :   ['Building has multiple floors. There is a clock tower at the very top. The building is tan and off white with red letter in the front. On the top level there is metal fence that lines the roof. The window is just below the top level and is next to a large half circle display window above the bottom floor. There is glass awning covering the ground floor although the whole ground floor is not visible in the photo. ']\n",
      "\n",
      "Predicted Caption:  ['a tall building is next to the street. there is a tall light pole on the sidewalk next to the street. there are wires hanging from the pole.']\n",
      "--------------------------------------------------\n",
      "Image Name       : ['test_810.jpg']\n",
      "\n",
      "Correct Caption  :   ['The man standing is looking down. There is someone squatting down next to a motorcycle. The man standing has gray hair. The man is standing by a parked car. The car is white. The mirror on the car is black. There are a bunch of trees in the background. The motorcycle has a big beige bag on yhe back of it.']\n",
      "\n",
      "Predicted Caption:  ['a man is sitting on a white chair. he is wearing a white shirt and a black hat. he is holding a silver <UNK>. there is a black pole in front of the man.']\n",
      "--------------------------------------------------\n",
      "Image Name       : ['test_811.jpg']\n",
      "\n",
      "Correct Caption  :   ['This is an outdoor image taken in a wild area that is full of wild life.In the middle there is paved road and on the side there are trees and dead grass on the side.In the middle of the road,there is a large giraffe walking west and behind him,there are three elephants walking across the road.The first on is on the side in the grass,the second is in the road and the third one is on the right in the grass also walking west.']\n",
      "\n",
      "Predicted Caption:  ['a giraffe is walking in the grass of a wide plain.   the giraffe is in <UNK> road and has some type of dirt on the ground.   the giraffe faces down the ground is facing the opposite side of the road.   the ground is']\n",
      "--------------------------------------------------\n",
      "Image Name       : ['test_812.jpg']\n",
      "\n",
      "Correct Caption  :   ['This is an outdoor image taken of a city street.In the middle of the street,there is a large truck on the side that has a picture of a island on the back with water and a palm tree.To the left of the truck,there is female dressed in all black riding a bicycle and she has a long blond braid going down her back.On the side of the street,there are benches,trees,and people sitting down and walking down the sidewalk.There are also large antique like buildings with several stories.']\n",
      "\n",
      "Predicted Caption:  ['a white truck is sitting outside in the middle of a village area. the truck has a gray sheet over the top of it and a red sign on the side that has yellow writing and a phone number located on it. the truck is parked ,']\n",
      "--------------------------------------------------\n",
      "Image Name       : ['test_813.jpg']\n",
      "\n",
      "Correct Caption  :   ['A crowd of people is sitting in a stand watch a man in red and white ski with two ski poles in his hand.  The man has on a hat and the number sixteen in the middle of his shirt, there is also some writing on his shirt.  There is some writing on the wall by the people in the stands.  There is a pole in the middle of the people.']\n",
      "\n",
      "Predicted Caption:  ['people are skiing on a rather flat ski slope , a little person. they are dressed in black down a ski slope , the top of his skis are over their knees and one ski is still on the bottom of their skis. they both have on']\n",
      "--------------------------------------------------\n",
      "Image Name       : ['test_814.jpg']\n",
      "\n",
      "Correct Caption  :   ['There is a broken phone on the ground. There are three pieces that are big and the phone has many buttons on it. The color of the phone is white and silver. The ground next to the phone is very dark. There are many tiny things on the street. It looks like an older kind of phone. The phone at the bottom of the frame is on its front. The buttons on the phone are dark and light. ']\n",
      "\n",
      "Predicted Caption:  ['a <UNK> is sitting on a metal bench.   there is a large black vehicle seat behind the dog.   a bicycle is sitting on the ground in front of the bench.   the dog is brown with a black patch around the top of it']\n",
      "--------------------------------------------------\n",
      "Image Name       : ['test_815.jpg']\n",
      "\n",
      "Correct Caption  :   ['This is an image of a laptop. The laptop is being cut by knives. The knives have black handles. The knives have silver blades. The laptop is black at the bottom. There are inputs on the back of the laptop. The inputs are different various types. There are two hands holding knives. The one wrist has a silver watch one it. ']\n",
      "\n",
      "Predicted Caption:  ['a table is covered in many <UNK>. there are white papers on top of the desk. there is a black and silver laptop on the desk. there is a black and white sign on the desk.']\n",
      "--------------------------------------------------\n",
      "Image Name       : ['test_816.jpg']\n",
      "\n",
      "Correct Caption  :   ['This is a toy shop. The shop has lots of stuffed animals. The stuffed animals are bears. There are many teddy bears in the window display. The bears are various different colors. The window is framed white. The letters on the window are red with a white and blue border on them. The bear in the front of the window has a red scarf on it.']\n",
      "\n",
      "Predicted Caption:  ['the store has a lot of <UNK> art on them. there is a toy table in front of the window. there are also two chairs. the chairs are in front of a store. the cups are brown and round.']\n",
      "--------------------------------------------------\n",
      "Image Name       : ['test_817.jpg']\n",
      "\n",
      "Correct Caption  :   [\"A man is sitting with his guitar. His left hand is holding the guitar neck. The man is wearing a straw hat. The man's head is down. You cannot see the man's face. There's a bottle on the table in front of the man. The guitar is made of wood. The guitar is a light brown color. There is a television behind the man. The television is not on. The television is gray color. The man is sitting on the side of a fireplace. The fireplace is made of thin brick.\"]\n",
      "\n",
      "Predicted Caption:  ['a woman is standing in a living room holding a white game controller in her hand. she is playing a game on a t.v. that is in front of her. a door is opened near the woman. the door is beside a beige colored sofa']\n",
      "--------------------------------------------------\n",
      "Image Name       : ['test_818.jpg']\n",
      "\n",
      "Correct Caption  :   ['This is a picture of a bedroom. The bedroom is very tidy. The bedroom is decorated fancy. There are many different pictures that are framed on the wall. The pictures have black and gold frames. The bed has a white comforter on it. The bed has a white pillow on it. The headboards and bed frame are dark brown.']\n",
      "\n",
      "Predicted Caption:  ['there are two tables with green <UNK> on them. there is a black and silver laptop on the table in front of the table. there are pink lamps on top of the table.']\n",
      "--------------------------------------------------\n",
      "Image Name       : ['test_819.jpg']\n",
      "\n",
      "Correct Caption  :   ['There are two people kissing in the photograph. One of the men is dressed as a groom the other as a bride. The one dressed like a bride has a veil on his head and is wearing a pink dress. He has whit pearls around his neck and has a blue ring on. The woman has a grey hat on and white sunglasses. They are standing against a white wall with the sun shining down on them. ']\n",
      "\n",
      "Predicted Caption:  ['a woman <UNK> for a photo. the woman is wearing a light pink <UNK> and has long hair. the two girls are wearing glasses. the woman is wearing a wedding ring on her left hand. the hair is blonde. the woman is wearing a']\n",
      "--------------------------------------------------\n",
      "Image Name       : ['test_820.jpg']\n",
      "\n",
      "Correct Caption  :   ['This is a hotel room. There is a patterned comforter on the bed. The comforter is tan and gray. The headboard on the bed is wooden. The headboard is brown. The wall in the room is a dark tan color. There is a small lamp by the bed. The lamp has a white lampshade on it. There is a rolling office chair by a desk with a yellow lamp on it.']\n",
      "\n",
      "Predicted Caption:  ['a bedroom has a large bed inside of it. the bed has a white blanket on it with white pillows and white pillows and a colorful pattern. there is a small window on the side of the bed , the chair has a wooden <UNK> and a']\n",
      "--------------------------------------------------\n",
      "Image Name       : ['test_821.jpg']\n",
      "\n",
      "Correct Caption  :   [\"This picture is of a giraffe. The giraffe is eating some grass. The giraffe has it's mouth full. The giraffe is spotted brown and tan. The giraffes eye is closed. The eye is lined in black. There are brown and tan horns on the giraffe. There is a piece of wood in front of the giraffe. The wood piece is light brown.\"]\n",
      "\n",
      "Predicted Caption:  ['a giraffe is looking at a camera. the giraffes neck is leaning forward. the giraffe is yellow and brown. the giraffe has horns on its head. there is one giraffe. there is a zebra as well. the zebra is looking away. the']\n",
      "--------------------------------------------------\n",
      "Image Name       : ['test_822.jpg']\n",
      "\n",
      "Correct Caption  :   ['The picture was taken inside. The picture was taken in a bathroom. There are lights lined along the ceiling. The floor in the bathroom is tiled. There are urinals on the wall on the right side. The urinals are white in color. The stalls are on the left of the bathroom. There are windows in the bathroom. ']\n",
      "\n",
      "Predicted Caption:  ['the bathroom has many toilets in it. the toilets are in a line by the wall. the wall is made of metal. the wall is white. the wall is white. there are many boxes. the floor is gray. there are many green']\n",
      "--------------------------------------------------\n",
      "Image Name       : ['test_823.jpg']\n",
      "\n",
      "Correct Caption  :   [\"Two black cats lay on a desk; on is reading its grass on the other cat's hind quarters. One the desk area several items: a red notebook, a vup filled with pens, done papers, a basket with Witeout in it, a teddy bear, and a box of envelopes. There is also an LCD computer monitor, as well as a keyboard drawer. The keyboard drawer is slightly open, showing the bottom of a purple mousepad.\"]\n",
      "\n",
      "Predicted Caption:  [\"the cat is sitting on the chair. the cat is looking to the left. the cat is sitting next to a black mouse. the mouth <UNK> to the computer. the mouse has a great wire. under the cat 's chin is white. a\"]\n",
      "--------------------------------------------------\n",
      "Image Name       : ['test_824.jpg']\n",
      "\n",
      "Correct Caption  :   [\"The elephant is in the wild. He has a long trunks. The trunks are brown with touch of white. The elephant's ears are wide and has spots. The elephants body is wrinkled and brown. Behind him are long brown trees. The ground is covered with green and brown grass. The sky is blue with touch of white/gray puffy clouds.\"]\n",
      "\n",
      "Predicted Caption:  ['there are two elephant in the image. the elephant has grey tusks and a grey trunk. there is a small elephant in the front of the two people standing near the elephant. there is a small fence behind the two elephants. one of the elephants']\n",
      "--------------------------------------------------\n",
      "Image Name       : ['test_825.jpg']\n",
      "\n",
      "Correct Caption  :   ['Two men are sitting at a table outdoors. The man on the right is wearing a plaid shirt and a visor. He has his arms out and palms turned up. The man on the left is wearing a t-shirt that says \"BRONX.\" Empty glasses and three bottles are on the table. There is also a cruet of oil. A brick structure, perhaps an oven, is to the left rear of the man on the left. ']\n",
      "\n",
      "Predicted Caption:  ['a man is sitting on a white chair. there is a large black table in front of the table. there is a white table cloth on the table in front of him.']\n",
      "--------------------------------------------------\n",
      "Image Name       : ['test_826.jpg']\n",
      "\n",
      "Correct Caption  :   ['This is an image of a street. The street signs are on a white pole. The pole is metal. The top sign is blue and white with a red slash in the middle of it. The bottom sign is white and black with a red circle and red slash in the middle. The top sign has a white border. The street is concrete with rail road tracks embedded in it.']\n",
      "\n",
      "Predicted Caption:  ['a city street at night is illuminated only by the lights on cars , street lights , and buildings.   on the sidewalk is a large <UNK> sign with an image of a man <UNK> inside a red triangle , and the word \" end \" written below']\n",
      "--------------------------------------------------\n",
      "Image Name       : ['test_827.jpg']\n",
      "\n",
      "Correct Caption  :   ['This picture was taken at a tennis match. The man is wearing a yellow head band and a yellow shirt. The man is holding a black tennis racket. The crowd is behind the man on the court. The man is looking towards to the left. The man is wearing two sleeves on their arms with yellow checks. There is a white logo on the left of the picture.']\n",
      "\n",
      "Predicted Caption:  ['a man is standing on a tennis court playing tennis. he is wearing a blue shirt and white shorts. he is holding a blue , black and white racket in his hands. a black glove is soaring in the air towards the man. there is']\n",
      "--------------------------------------------------\n",
      "Image Name       : ['test_828.jpg']\n",
      "\n",
      "Correct Caption  :   ['This is an image taken in a kitchen.Directly in the middle is a wooden table with a white top.On the ends,there are two wooden chairs and on the sides,there are two computer cars.Behind the table,there is a side by side microwave with several magnets on the front,and an air freshener and bottles on the top.To the left there is a counter with average kitchen supplies including a toaster.The floor is hard wood,the walls are yellow and the drapes over the windows are black.']\n",
      "\n",
      "Predicted Caption:  ['a white desk is in a room. there is a white cabinet with black lamp on it. there is a black lamp next to the bed.']\n",
      "--------------------------------------------------\n",
      "Image Name       : ['test_829.jpg']\n",
      "\n",
      "Correct Caption  :   ['This is a traffic or warning sign. The sign says do not enter. It is red and white. The text of the sign is very bold in white lettering and is centered in the middle of a filled red circle. The circle is inside of a white square. The sign is attached to a metal pole with bolts. Behind the sign a grey sky can be seen along with trees that have orange dying leaves.']\n",
      "\n",
      "Predicted Caption:  ['a stop sign is blocking the view of a street. the stop sign is red and white with the letters <UNK> black arrow. there is a street next to the sign that reads \" crossing <UNK> \" on top of the sign. the signs are both']\n",
      "--------------------------------------------------\n",
      "Image Name       : ['test_830.jpg']\n",
      "\n",
      "Correct Caption  :   ['Four people are sitting around a television set. The two men on the right are playing guitars. The woman on the left has her hand to her mouth. Another woman has blonde hair and is facing away from the camera. A  small coffee table is in the middle. There are two glasses and a paper cup on the table. A floor lamp in the corner is casting bright light into the room.']\n",
      "\n",
      "Predicted Caption:  ['three men are playing some video <UNK>. one man is wearing a plaid shirt. he is also wearing glasses. his hair is brown. a tv is mounted on the wall.']\n",
      "--------------------------------------------------\n",
      "Image Name       : ['test_831.jpg']\n",
      "\n",
      "Correct Caption  :   ['Two men are standing in a living room holding white game controllers in their hands. A white covered sofa is sitting in front of a window in the living room. There are three pillow sitting on the couch. The walls in the room are painted white. Part of a chandelier is hanging in the room. A brown cabinet can be seen sitting against a wall near the sofa.']\n",
      "\n",
      "Predicted Caption:  ['there is a people standing in front of a television. there are two chairs on the table in front of the television. there are pictures hanging on the wall behind the television.']\n",
      "--------------------------------------------------\n",
      "Image Name       : ['test_832.jpg']\n",
      "\n",
      "Correct Caption  :   ['Ann adult Zebra stands on a field facing to the left. The legs on the outside have strips and on the inside are white. The zebra is in an open field. The field is covered with grass that is tall. The zebra has stripes white and black, and the tail of the zebra is long and have a turf on the end. On back the field there are green with green leaves. ']\n",
      "\n",
      "Predicted Caption:  ['a mother zebra and her <UNK> stand close to each other in a <UNK> of trees.   their heads are down in the tall grass which looks brown and dry.   the mother zebra appears to be grazing.   the trees have leaves , but most']\n",
      "--------------------------------------------------\n",
      "Image Name       : ['test_833.jpg']\n",
      "\n",
      "Correct Caption  :   ['This picture is taken inside of a home. A black chair is sitting in front of a desk. There is a laptop sitting on the desk, along with other papers. Part of a wooden table can be seen behind the desk. Two chairs are sitting near the table. There is a white lamp sitting on top of the table near bottles and a book. The walls of the room are painted yellow with white trim. The floor of the room is hardwood.']\n",
      "\n",
      "Predicted Caption:  ['this picture is taken inside of a living room of a home. a small white t.v. is hanging on a wall above a bookshelf. there is a large picture frame hanging near the t.v. on another wall above a bookshelf also. a vase of']\n",
      "--------------------------------------------------\n",
      "Image Name       : ['test_834.jpg']\n",
      "\n",
      "Correct Caption  :   ['A desktop computer is on a desk with the monitor turned on. On the keyboard is a grey bird with a green head and orange cheeks. To the right of the desk is a tray with a blue mouse pad and a white mouse on it. Next to the desk is a grey upholstered chair. To the left of the desk is a blue drapery. In front of the bird are a yellow and blue stuffed bear.']\n",
      "\n",
      "Predicted Caption:  ['a flat screen computer monitor sits on a stand on a stand.   it is connected to an <UNK> <UNK>.   it is an apple monitor.   a <UNK> is sitting on the stand.   a keyboard and mouse are in front of the stand']\n",
      "--------------------------------------------------\n",
      "Image Name       : ['test_835.jpg']\n",
      "\n",
      "Correct Caption  :   ['A Man sitting in a chair working on his laptop. The chair he is sitting in has a red towel drapped over the back and wooden arms. The man has short dark hair, and glasses. He is casually dressed in a sweatshirt, with a yellowish t-shirt underneath and shorts. He is using a plug in keyboard with his lap top, the key board is on a make shift lap table, made from two grey boxes. This allows him to put his keyboard and mouse on his lap. The laptop is on the table in front of him, propped up on a few books so that he can see it. Also on the table are a few other items. ']\n",
      "\n",
      "Predicted Caption:  ['a man is sitting on a white couch. he has a red <UNK> on his lap. there is a black and white cat next to the man.']\n",
      "--------------------------------------------------\n",
      "Image Name       : ['test_836.jpg']\n",
      "\n",
      "Correct Caption  :   ['Passengers are seated in a mass transit bus traveling down the street.  The driver is seated on the left hand side in an enclosure.  He is visible through the reflection from a rear view mirror.  The farebox is next to the enclosure.  A television monitor is behind the driver, and is turned on.  A woman sits on a seat mounted atop the wheel well.  She has placed a white plastic bag on the floor. A passenger seated behind her is resting his or her foot on the well.  The bus has blue vertical poles for standing passengers to use.  Some bus straps are also suspended from the ceiling for passenger use. It is daytime.  ']\n",
      "\n",
      "Predicted Caption:  ['there is a large white and blue bus on the street. there are many people standing on the platform next to the bus. there is a woman in a white jacket walking in front of the woman.']\n",
      "--------------------------------------------------\n",
      "Image Name       : ['test_837.jpg']\n",
      "\n",
      "Correct Caption  :   ['A metal pan has pizza slices on it. The pan is round. There are other pizza pans next to it. The pans are on the table. There are napkins on the table. There is hot sauce on the one pizza. There is a lot of cheese on the pizza. There is a knife on the table. There are other slices of pizza on the other pans. The pizza slices are triangular. The table is made of wood. ']\n",
      "\n",
      "Predicted Caption:  ['the pizza has a thick crust with tomatoes , peppers , and <UNK> on it. the pizza is on a white plate , and it does not have any cheese. the pizza has been cut up into several pieces. the dough of the pizza is very']\n",
      "--------------------------------------------------\n",
      "Image Name       : ['test_838.jpg']\n",
      "\n",
      "Correct Caption  :   ['A guy with short, dark hair is wearing a blue wet suit and black shoes is surfing on a white surf board in a large body of water. The waves behind his surfboard are large, white and foamy. The body of water appears to be dirty and a reflection of the guy and the surfboard is in the water just near the surfboard. The sun is shining brightly into the body of water.']\n",
      "\n",
      "Predicted Caption:  ['a man is surfing on a wave. he has a black <UNK> on and his face is really <UNK> and he is looking back the camera as he <UNK> the wave. the water is <UNK> sand and there are people in the water watching the man.']\n",
      "--------------------------------------------------\n",
      "Image Name       : ['test_839.jpg']\n",
      "\n",
      "Correct Caption  :   ['There is a white and brown cow in a cage. The bars next to the cow are blue in color. The girl next to the cow is wearing the color purple. The girl appears to be smiling. The bottom half of the cow is not visible. Only the top half of the animal is visible to the people. The roof of the structure is blue and there are bars above the ground to support the structure.']\n",
      "\n",
      "Predicted Caption:  ['a large white and tan cow with two black horns. the cow is standing next to a black and white cow with a black nose. the man has a white beard and is wearing a red tie with a blue <UNK> attached to the top of it']\n",
      "--------------------------------------------------\n",
      "Image Name       : ['test_840.jpg']\n",
      "\n",
      "Correct Caption  :   ['A boy is skating down a ramp. The picture has a progression of him starting from the top, then in the middle, then on the bottom. The boy is wearing a white helmet, gray t-shirt and blue jeans. He is slightly heavyset. His shoes are white. Next to the boy on the ramp is a boy on roller blades and he is wearing a blue graphic shirt with blue jeans. his hair is orange.']\n",
      "\n",
      "Predicted Caption:  ['a man is skateboarding. the man is wearing blue jeans. the man is wearing a white hat. the man is wearing a black hat. the man is wearing blue jeans. there is a lot of sunlight coming from the skate ramp.']\n",
      "--------------------------------------------------\n",
      "Image Name       : ['test_841.jpg']\n",
      "\n",
      "Correct Caption  :   ['This is an image of some animals. The animals are elephants. The elephants are very large. The elephants are dark brown. The elephants are in water. The water is shallow and murky brown. There is a long bamboo pole by the elephants. The shore by the elephants is sand. The sand is tan color. The elephants are drinking water.']\n",
      "\n",
      "Predicted Caption:  ['an elephant is walking on the sand. the elephant has short hair. the elephant is grey and dark. the elephant has large tusks. the elephant has his hair is back. the elephant is standing on the dirt. the elephant is shining. the']\n",
      "--------------------------------------------------\n",
      "Image Name       : ['test_842.jpg']\n",
      "\n",
      "Correct Caption  :   ['A man is sitting in a white chair on the beach. The chair is in the sand.  He is wearing a black shirt and dark colored shorts. He is reading. His arm is resting around the top of his head. He has a wedding ring on. Beside the man is a black and white umbrella. To the right of the umbrella is a boy wearing green. He looks like he is playing in the sand. Behind him is another umbrella which is red and white. In front of the boy is the water. In the distance is a building, and beyond that are hills. Also on the beach are gray stones and other white chairs. Behind the chairs are two poles. ']\n",
      "\n",
      "Predicted Caption:  ['a man is sitting on the beach. he is laying down on his <UNK>. the man is wearing a striped shirt. the man is wearing a black and white striped shirt. the man is holding a surfboard. the man is wearing a black and']\n",
      "--------------------------------------------------\n",
      "Image Name       : ['test_843.jpg']\n",
      "\n",
      "Correct Caption  :   ['There are people in the snow in the picture. The trees in the background have a little snow on them. Some people are sitting in the snow. The snow is covering the entire ground. Most of the people have goggles on. Two people are walking together on the snow. The person on the right is carrying ski sticks.']\n",
      "\n",
      "Predicted Caption:  ['a man is wearing a yellow jacket with a red stripe on the front of it. he is standing on red and black skis. he is standing on the snow. there are people behind the man.']\n",
      "--------------------------------------------------\n",
      "Image Name       : ['test_844.jpg']\n",
      "\n",
      "Correct Caption  :   [\"The woman is sitting on a bench. She is carrying a bag. The suitcase is black. The bags are black. The woman is wearing a scarf. The scarf is pink. The jacket is black. An old man is looking at the camera. The man's jacket is yellow. The woman's shoes are black. The woman is wearing eyeglasses. Her pants are gray. Her hair is curly.\"]\n",
      "\n",
      "Predicted Caption:  ['a woman with blond hair and a white cap on her head pushed luggage down a sidewalk.   there are several people standing in the background.   there are two people walking in the image.   two of the people are carrying luggage in their left']\n",
      "--------------------------------------------------\n",
      "Image Name       : ['test_845.jpg']\n",
      "\n",
      "Correct Caption  :   ['There is a big brown and beige building near the street.  It has many windows  all around it.  It has a traffic sign  on the corner near the building. There is street sign on the front of the building.  There is a small car near the building. There is a gray car behind the    maroon car.  The person walks  across the street  near the building. There is a large black sign near the  building.']\n",
      "\n",
      "Predicted Caption:  ['a tall pole has several signs on it. there is a tall light pole on the sidewalk. there is a pole in front of the building. there is a clock on the building. there is a yellow sign on the wall of the building.']\n",
      "--------------------------------------------------\n",
      "Image Name       : ['test_846.jpg']\n",
      "\n",
      "Correct Caption  :   ['A small cell with iron gates is painted a light green on the bottom of its cement walls, and white on top. A lidless white toilet sits against the back wall, and a rusted small white sink is next to the toilet. On the back wall are two empty white shelves, and two metal shelves that fold up are attached to the left wall. The floor is tiled, and the walls and floor are dirty.']\n",
      "\n",
      "Predicted Caption:  ['this is an image of a plain. the bathroom has a wooden desk. there is a small white toilet in the middle of the wall. there is a black luggage with a silver fork and stickers. there is a smaller pair of orange <UNK> on']\n",
      "--------------------------------------------------\n",
      "Image Name       : ['test_847.jpg']\n",
      "\n",
      "Correct Caption  :   ['Three men are standing in a room. One man is leaning over a table in front of a small cake. He is wearing a short sleeve shirt and green pants. The table is white and has brown and gray chairs sitting around it. There is are white coffee mugs and bottles that are also on the table near the man. A gray door can be seen near a wall with a gray door handle on it.']\n",
      "\n",
      "Predicted Caption:  ['a woman in a yellow shirt is wearing a white apron. she has a red visor on her head. she is bending down over a food cart with a white counter in front of <UNK> of food. there is a silver shelf on the wall above']\n",
      "--------------------------------------------------\n",
      "Image Name       : ['test_848.jpg']\n",
      "\n",
      "Correct Caption  :   ['This is a beautiful autumn photo of a family riding a trail on horse back. Both the horses and the human riders are uniformed in matching colors and coats, which made for a beautiful photograph. The trees are evergreens and tall, and grass is brown in preparation for winter. The air is most likely brisk but still mild.']\n",
      "\n",
      "Predicted Caption:  ['two men ride bikes towards a blue and white carriage. the cars on the left is a man in a red coat with black pants , a blue jacket , and yellow boots. the man on the right is wearing a tan colored jacket and is looking']\n",
      "--------------------------------------------------\n",
      "Image Name       : ['test_849.jpg']\n",
      "\n",
      "Correct Caption  :   [\"A blue shower curtain is hanging inside of a white tub. A white toilet can be seen sitting near the tub against a white painted wall. A box of tissues is sitting on top of the toilet's tank. There is a vanity cabinet near the toilet with a white sink in it. A mirror can be seen hanging on a wall above the sink. \"]\n",
      "\n",
      "Predicted Caption:  ['a bathroom with two large windows shaped sinks. there is a mirror hanging above the sinks. next to the sink on the wall is a towel rack with a white towel hanging from it.']\n",
      "--------------------------------------------------\n",
      "Image Name       : ['test_850.jpg']\n",
      "\n",
      "Correct Caption  :   ['The photo is of various fruits. The orange slices are peeled and sectioned. The raspberries are deep red and have small red portions that have fibers protruding from them. There are also small round blueberries in the photo. The fruit is mixed together as a fruit salad. The photo is a close up and does not show what the fruit is in. ']\n",
      "\n",
      "Predicted Caption:  ['a white bowl with black spots is on a table. there are black <UNK> beans in the bowl next to the bowl.   the fruit in the bowl have red peppers.']\n",
      "--------------------------------------------------\n",
      "Image Name       : ['test_851.jpg']\n",
      "\n",
      "Correct Caption  :   ['A man is relaxing on a lounge chair in front of a swimming pool on a warm sunny day.  He is white.  He is wearing a baseball cap and swim trunks.  There are no other people sitting on the chairs, which are white.  Four large white umbrellas provide shade.  The water in the pool is calm and is blue, reflecting the sky.  The side of the pool is made up of blue tiles.  ']\n",
      "\n",
      "Predicted Caption:  ['the image is of many umbrellas on the beach. behind the umbrellas is a large body of water. inside the sand is a beach and there are people on the beach. they are all laying in the sand that are riding the sand in the street']\n",
      "--------------------------------------------------\n",
      "Image Name       : ['test_852.jpg']\n",
      "\n",
      "Correct Caption  :   ['A young woman wearing a black bra mostly covered by a white tank top, and also wearing blue jeans and holding a pink cell phone to her ear is walking along a sidewalk. She is in front of a North Pacific Cellular store and another store in which numerous red shopping carts are lined up along its wall. Both stores have the same exterior of large windows and brown siding, and a white and red trim above the siding. The woman is being photographed at through the interior of a car, as the grey interior of a car window can be seen around the outside edges of the photograph. ']\n",
      "\n",
      "Predicted Caption:  ['a woman is standing outside the airport with her <UNK>. the suitcase has a blue bag on top of it. the woman is wearing sunglasses and holding a plastic bottle of water. she is wearing black <UNK> and a gray sweatshirt. there is a baggage']\n",
      "--------------------------------------------------\n",
      "Image Name       : ['test_853.jpg']\n",
      "\n",
      "Correct Caption  :   ['The image is a transit center. There are many buses parked at the station. The roadway is brown with white lines. The cross walk has white painted stripes. There are shelters over the bus stop. There are blue poles holding the shelter roof up. The roof is dark gray. The bus is orange, white, red, and blue.']\n",
      "\n",
      "Predicted Caption:  ['this photo was taken at a train station. there are two people walking on the sidewalk. there is a large white building to the side of the bus. there are many windows on the bus. the bus is lit up in red. there is']\n",
      "--------------------------------------------------\n",
      "Image Name       : ['test_854.jpg']\n",
      "\n",
      "Correct Caption  :   ['There is a tall building with a clock on each side of the top of the building.  The very top of the building is green in color and it looks like a palace on top.  The building tan and it has a couple of barrier gates at the top of the building.  The design of the building holds a arch in front and a light pole on the top of the building.']\n",
      "\n",
      "Predicted Caption:  ['a building in high in the sky. the building is tan in color. the clock on the tower is big. there are windows at the very top of the building. the sky is bright blue.']\n",
      "--------------------------------------------------\n",
      "Image Name       : ['test_855.jpg']\n",
      "\n",
      "Correct Caption  :   ['There is a train in the picture. There are many train tracks. The train is blue, yellow, and white. There are many poles in this picture. The tracks are brown. There are green bushes near the tracks. In the background there is graffiti on the walls in different colors. The poles are grey and tall. The bushes are short. ']\n",
      "\n",
      "Predicted Caption:  ['a long red and white train is going down some tracks. the tracks are made of metal and are located in the middle of a field. there is neatly cut green grass surrounding the train and tracks. above the train is an empty grey surface and']\n",
      "--------------------------------------------------\n",
      "Image Name       : ['test_856.jpg']\n",
      "\n",
      "Correct Caption  :   ['A woman is sitting on a stone structure with her legs stretched out in front of her. She is holding a blue cellphone to her ear. The woman is wearing sunglasses, a necklace, red sweater, a long black skirt and red boots. She has a large black purse and a plastic bottle of water at her side. Two people are sitting on the ground having a picnic. The trees are bare. ']\n",
      "\n",
      "Predicted Caption:  ['a woman is holding a red frisbee in her hand as she walks as a lady phone. she is wearing a purple tank top and dark colored pants. there are trees lining the sidewalk next to the woman , and there are cars driving and a lot']\n",
      "--------------------------------------------------\n",
      "Image Name       : ['test_857.jpg']\n",
      "\n",
      "Correct Caption  :   ['This is a picture of a man. the man is taking a picture. The man has a hat on. The hat is light brown with a brown designed band. The man has a mustache. The mustache is gray. The man has glasses on. The man is wearing an unusual jacket. The jacket is purple with flower designs on it. The flowers on the shirt are orange, white and red.']\n",
      "\n",
      "Predicted Caption:  ['a man with a <UNK> face and <UNK> is standing around the handle of an umbrella. the man is wearing a white cap , blue jeans , and a black jacket. the man has a white beard and a grey <UNK>. his face are white and']\n",
      "--------------------------------------------------\n",
      "Image Name       : ['test_858.jpg']\n",
      "\n",
      "Correct Caption  :   [\"A young girl in a bright orange t-shirt is standing on a tiny child's skateboard while a woman in a pair of blue jeans and a patterned top kneels with one knee on the floor anf holds the girl steady, her right hand under the girls right arm and her left hand on the girls left hip. They are in a living room on a beige mat with a black border. Behind them is a small table with a telephone, calendar and writing pads. In the far distance is a wooden rocking chair. Both the people in the shot are looking up at something.\"]\n",
      "\n",
      "Predicted Caption:  ['a young boy with short blond hair and wearing glasses is sitting down on the ground is playing with his <UNK> on a tennis game that is in his left hand.   the <UNK> man has a grey <UNK> in his left hand.   the <UNK> also']\n",
      "--------------------------------------------------\n",
      "Image Name       : ['test_859.jpg']\n",
      "\n",
      "Correct Caption  :   ['A large flock of birds is flying over the beach, and the ocean on a cloudy day. A single person holding a yellow surfboard is walking out of the water and onto the sand. A large, curved blue, white, and green kite is flying over ruins on the beach. There is a tall mountain covered in grass jutting out into the sea. ']\n",
      "\n",
      "Predicted Caption:  ['a large body of water with some water on the shore. the water is blue and blue. the sand on the beach is brown. there are people on the beach and walking towards the shore. the water is calm and calm.']\n",
      "--------------------------------------------------\n",
      "Image Name       : ['test_860.jpg']\n",
      "\n",
      "Correct Caption  :   ['In a black and white photograph, a surfer in the middle of riding in on a wave is shown perpendicular to the wave. The surfer is a man and his surfboard and he are fairly high above the wave with his board upright above the water. The wave is large and cresting with a lot of white foam to the right and left side of him. The surfer is wearing a wet suit with a cap.']\n",
      "\n",
      "Predicted Caption:  ['a man is wake boarding on top of the water. he is wearing a green wet suit and standing on top of a white board. the water has many waves and various waves in it. the sky above is blue and cloudless.']\n",
      "--------------------------------------------------\n",
      "Image Name       : ['test_861.jpg']\n",
      "\n",
      "Correct Caption  :   ['Two people are enjoying their time out in the water. A woman is wakeboarding and her board is white, a peach color, yellow, and blue and is in a tie-dye like pattern. She is wearing a pink shirt that is a very bright color, and some short polka dot shorts. A man is wakeboarding far in the background more out into the water.']\n",
      "\n",
      "Predicted Caption:  ['a person is suspended in the air with wake board on his feet. the person is wearing a black wet pants. the shirt is red. he is holding on a harness. he is wearing a helmet. on the water is a person on a']\n",
      "--------------------------------------------------\n",
      "Image Name       : ['test_862.jpg']\n",
      "\n",
      "Correct Caption  :   ['A young  child is sitting on a blue sofa. He is holding his left hand up to his mouth. He is holding a silver clamshell cellphone in his right hand. He is wearing a blue and white striped polo shirt and blue denim overall shorts. There is a stain on the left knee area of the shorts. The child is barefoot.']\n",
      "\n",
      "Predicted Caption:  ['a baby is laying on the ground. the baby is wearing a white shirt. there is a small little girl on the table in front of her.']\n",
      "--------------------------------------------------\n",
      "Image Name       : ['test_863.jpg']\n",
      "\n",
      "Correct Caption  :   ['Outside, an old man lies down against a bare, tan wall. The man has a beard, but little hair on his head, and is dressed almost entirely in red. His shoes are black. His is resting his head with one arm. Next to him is a red metal object attached to the brick ground. There is a white bag next to the man. It is around noon, as the man cast a very short shadow.']\n",
      "\n",
      "Predicted Caption:  ['a picture of a man on a motorcycle wearing a flag helmet. there is a man in a blue shirt in the distance. there are two <UNK> in the picture. they are in a giant field of grass. there is a black motorcycle in front']\n",
      "--------------------------------------------------\n",
      "Image Name       : ['test_864.jpg']\n",
      "\n",
      "Correct Caption  :   ['There is a traffic light in the picture. The green light is bright. THe traffic light is made of metal. The traffic light is black. There are three different lights in the traffic light. There is red on the top. There is yellow in the middle. There is green on the bottom. Green means to go. There is nothing else in the picture. There is just a traffic light. ']\n",
      "\n",
      "Predicted Caption:  ['a black traffic light is on the street next to a street.   the fire hydrant has a green and white line painted on it.   the short windows read <UNK> at the bottom of the image.   the black and white sign has a black']\n",
      "--------------------------------------------------\n",
      "Image Name       : ['test_865.jpg']\n",
      "\n",
      "Correct Caption  :   ['Image of an outdoor farm. The farm has multiple rolling hills on it. There are white sheep and livestock walking around the field. There is a small stone wall down the middle of the farm. There are large green trees with lots of leaves on the hillside. In the distance the sky is covered with a light patch of puffy white clouds that can be seen on the horizon. ']\n",
      "\n",
      "Predicted Caption:  ['seven sheep are in a field. the grass is very green. the sky is clear and blue. the clouds look very wispy in the air.']\n",
      "--------------------------------------------------\n",
      "Image Name       : ['test_866.jpg']\n",
      "\n",
      "Correct Caption  :   ['This is a man on a motorcycle. The man is int he middle of a track. The man is doing a trick. The man is doing a wheelie. The man has a helmet on. The helmet is blue, red, and orange. There are banners on the fence. The banners are white with blue letters. The motorcycle is white and black. The wheels on the bike are black and rubber.']\n",
      "\n",
      "Predicted Caption:  ['a man is riding on a motorcycle. he is in a costume like the <UNK> , with a green face and a santa <UNK> outfit. there is a woman in a white shirt and a <UNK> hat , as well as a woman with a white shirt']\n",
      "--------------------------------------------------\n",
      "Image Name       : ['test_867.jpg']\n",
      "\n",
      "Correct Caption  :   ['A wooden slatted bench sits in front of a brick and stone wall. The frame and arms of the bench are metal. The wall is mostly stone with a brick inlay that has two large openings in the center of it. There is also a brick border along the bottom of the wall. Many stones on the wall are chipped showing a dull gray underneath.']\n",
      "\n",
      "Predicted Caption:  ['a thick <UNK> glass window is on the side of salmon colored <UNK> wall.   the wall has cracks at the base of it near the sidewalk in front of it.   the sidewalk is grey and has stains on it and debris.   a black']\n",
      "--------------------------------------------------\n",
      "Image Name       : ['test_868.jpg']\n",
      "\n",
      "Correct Caption  :   ['This is an image of a train track. The train track has one train on it. There is one empty track. The track is made up of wooden planks and metal rails. The rails are light gray. The plants are dark brown. The train cars are light gray and brown. The cars are filled with coal. The coal is black. There are lots of bright green and yellow plants by the tracks.']\n",
      "\n",
      "Predicted Caption:  ['there are three trains on the tracks. they are silver and there is a person riding on the ground under them. they are standing on top of <UNK>.']\n",
      "--------------------------------------------------\n",
      "Image Name       : ['test_869.jpg']\n",
      "\n",
      "Correct Caption  :   ['This is a picture of a living room. The room has a couch in it. The couch is a dark gray color. There are pillows on the couch. The pillows are white. There is a dog on the couch. The dog is blonde colored. The dogs eyes are black. There is a large flat screen TV in the corner. The TV is black and silver.']\n",
      "\n",
      "Predicted Caption:  ['a living room has wooden floors , white walls , and wooden trim. the beige leather couch has three handles on the back of it. in the middle of the room is a love seat with a white seat and other objects. there is a television']\n",
      "--------------------------------------------------\n",
      "Image Name       : ['test_870.jpg']\n",
      "\n",
      "Correct Caption  :   ['The man is holding a little child that are stand on a surfboard. The surfboard is color white, The child is wearing a wet suit color black. There is a wave formed behind the surfboard. There are ripples in the big ocean. On back there is a man that is in the water. Behind the man there is a big wave color white.']\n",
      "\n",
      "Predicted Caption:  ['there are two people surfing in the water. there are waves in the water behind the water. there is a person surfing on the surfboard. the person wearing a white shirt is in the water.']\n",
      "--------------------------------------------------\n",
      "Image Name       : ['test_871.jpg']\n",
      "\n",
      "Correct Caption  :   ['A orange,blue and red train is sitting on some tracks and next to the tracks is a pile of trash on the ground.Some flowerpots is sitting near the trash. People are sitting on chairs Just behind the pile of trash. A man standing near the tracks is wearing a brown uniform hat, shirt and pants and he is holding a red flag in one hand and a green flag in his other hand. There are some children standing near the tracks behind him.']\n",
      "\n",
      "Predicted Caption:  ['a bunch of people are walking downtown in the rain. they almost all have umbrellas. the picture is in the black and white. a man in a red shirt is walking down the sidewalk.']\n",
      "--------------------------------------------------\n",
      "Image Name       : ['test_872.jpg']\n",
      "\n",
      "Correct Caption  :   ['This picture is taken inside of a bathroom. A small window is hanging above a white tile wall. There is a shower near the window. Two white curtains hang on a rod that is surrounding the shower. A white toilet sits near the shower. Part of a white sink can be seen near the toilet. The floor of the bathroom has large white tiles on it.']\n",
      "\n",
      "Predicted Caption:  ['a bathroom with a large illuminated mirror. the toilet is white. there is a small window on the wall behind the toilet. there is a window above the toilet with the sink closed. there is a window above the toilet with a mirror above it']\n",
      "--------------------------------------------------\n",
      "Image Name       : ['test_873.jpg']\n",
      "\n",
      "Correct Caption  :   ['This is a picture of a group of kids. The kids are standing under an umbrella. The umbrella is purple with a cartoon on it. The girl in the middle has a blue jacket on. The girl has dark blue jeans on. The girl has long brown hair. The girl to the right has a long purple and white jacket on. There is a large red house with green trim in the background.']\n",
      "\n",
      "Predicted Caption:  ['a woman is standing in front of the <UNK> <UNK> with black gloves on her head and a yellow skirt. there are trees around the lady which are also standing on the other side of the fence. some of the people are carrying umbrellas as if they']\n",
      "--------------------------------------------------\n",
      "Image Name       : ['test_874.jpg']\n",
      "\n",
      "Correct Caption  :   ['A traffic in the middle of a city road is directing traffic while in a reflector jacket.  There are people on the corners ready to cross a street.  The car is turning right on a city street.  The traffic light is red signifying to stop.  A store sits on the corner and buildings line up the street.  Cars and buses are driving to the left of the store.']\n",
      "\n",
      "Predicted Caption:  ['a man is riding on the street. he is riding on a skateboard. the man is wearing a white and black shirt. he is holding a stop sign in his right hand. there is a bus parked behind him. there are lights hanging from']\n",
      "--------------------------------------------------\n",
      "Image Name       : ['test_875.jpg']\n",
      "\n",
      "Correct Caption  :   ['The bus is a pastel yellow with a green stripe under the window on the side and over the wheel wells. The front of the bus is unique. The driver side is sunken into the bus while the passenger sides is of normal length. There is small black display with white letter at the top of the front of the bus that says SPECIAL. Next the bus there is a red truck with red grill on the bumper. On the opposite side of the bus there is small vehicle that looks like a toy tractor. it is yellow and gray.  ']\n",
      "\n",
      "Predicted Caption:  ['a double decker bus is parked on the side of the street. the bus says the <UNK> <UNK> tour and is red. it is parked very close to a sidewalk that has a couple of huge urban buildings.']\n",
      "--------------------------------------------------\n",
      "Image Name       : ['test_876.jpg']\n",
      "\n",
      "Correct Caption  :   ['This picture is taken outside at nighttime. A boy can be seen in this photo. He is wearing a short sleeve shirt and pants. A green frisbee is soaring in the air towards the boy. The ground has brown dirt on it. There are gray stones scattered throughout different parts of the ground. Part of a tree trunk is leaning near the boy.']\n",
      "\n",
      "Predicted Caption:  ['a picture of a man in a black outfit. the man is wearing a black hat. the man is wearing a red hat on his head. there is a <UNK> on the man in front of the man. there are trees behind the man.']\n",
      "--------------------------------------------------\n",
      "Image Name       : ['test_877.jpg']\n",
      "\n",
      "Correct Caption  :   ['A painting has a cat walking on a brick sidewalk in front of an apartment building that looks french. There is a brown dark shiny wood door to the left of the cat, and tall bushes, and plants growing on the sides. There is a bike next to the plants, and in between the two apartment doors. There is a black metal pole on a fence in between two cement pole.']\n",
      "\n",
      "Predicted Caption:  ['a quiet city street during the day time. there are two visible visible windows visible in the photo. the bushes outside the street are both standing on both sides. there is a large black and white sign hanging off of one building. to the right']\n",
      "--------------------------------------------------\n",
      "Image Name       : ['test_878.jpg']\n",
      "\n",
      "Correct Caption  :   ['On a wooden board there are pieces of brown bread. On the corner of the board there is a bowl color white with yellow sauce. Somebody is holding a fork with the index finger that push on one bread. The fork is metal color silver. Back the board, there is a black phone on a white table next to a glass.']\n",
      "\n",
      "Predicted Caption:  ['the table is covered with white and blue letters. there is a silver tray sitting on the table. the food is sitting on top of a white plate. there is a sandwich and a fork on the table next to the plate.']\n",
      "--------------------------------------------------\n",
      "Image Name       : ['test_879.jpg']\n",
      "\n",
      "Correct Caption  :   ['This is a photo of a group of people watching a fire. The photo conveys a sense of urgency, hopefully this is not a house burning down. In the distance you can see a painting that looks as though it may be a religous building. The people are all holding umbrellas to protect them from the rain, which is ironic.']\n",
      "\n",
      "Predicted Caption:  ['a man in a white jacket and a colorful hat is standing on a beach holding a large umbrella. the kite is hanging over a wall that has a few white clouds in it. a woman in a blue shirt is walking past the buildings behind them']\n",
      "--------------------------------------------------\n",
      "Image Name       : ['test_880.jpg']\n",
      "\n",
      "Correct Caption  :   ['A woman is on a surfboard holding a row. The surfboard is long and color white and black. The is bend forward holding a black row. The right hand is on the top of the tow, and the left hand is on the middle of the row. The woman has long hair black on the back. The reflection of the woman can be seen in the water.']\n",
      "\n",
      "Predicted Caption:  ['a woman is standing on the beach. she is wearing a pink bikini top and a black bikini. the water is the air and it has brown hair. people are standing at the bar watching the water in the water. the woman is holding onto']\n",
      "--------------------------------------------------\n",
      "Image Name       : ['test_881.jpg']\n",
      "\n",
      "Correct Caption  :   ['A man is standing on a tennis court on a sunny day. He is wearing a yellow shirt, black shorts and a hat. The man is holding a racket in his hands. A tennis ball is soaring in the air in front of him. The court is green with white painted lines on it. Part of a building can be seen behind the court.']\n",
      "\n",
      "Predicted Caption:  ['a man is attempting to hit a tennis ball back over the net. the court is blue and the outer part is green. he has on a blue navy shirt and some short blue navy shorts.']\n",
      "--------------------------------------------------\n",
      "Image Name       : ['test_882.jpg']\n",
      "\n",
      "Correct Caption  :   ['This is an image of a person. The person is crossing the road. The person is carrying some vegetables over her back. The vegetables are bright green. The vegetables are carried on a wooden bar with wires attached to a basket. The pole on her back is dark brown. The crosswalk is light gray with white stripes.']\n",
      "\n",
      "Predicted Caption:  ['a woman is walking on the sidewalk. the woman is wearing a red dress. the woman is wearing a pink vest. the woman is holding a red umbrella above her head. she is wearing a green shirt and a skirt.']\n",
      "--------------------------------------------------\n",
      "Image Name       : ['test_883.jpg']\n",
      "\n",
      "Correct Caption  :   [\"There is a very large light brown stuffed teddy bear sitting in the corner of a room and on a bed. There's a big brown bow wrapped around the teddy bear, and it matches the bears big, brown nose. The teddy bear has small black eyes, and long and fat arms that hang to his side and legs that are in front of him. The bed sheet the bear is sitting on is green, and there's a nearby pillow with a yellow pillowcase that has white polkadots. The walls are painted blue with a painted treed on the right side of the corner and it has 3 large branches with 13 green leaves and 2 red flowers scattered on it. To the left corner of the wall is a green lamp that has 2 white clouds on it and it hangs above and to the left of the sitting teddy bear. At the lower half of the wall there is white bead boarding and a white chair rail.\"]\n",
      "\n",
      "Predicted Caption:  [\"a large brown dog with a collar on it 's ears , and ears of ears. the dog has a long tail , and is looking into the camera. there is a small black dog on the bed. a black bird lies on the floor near\"]\n",
      "--------------------------------------------------\n",
      "Image Name       : ['test_884.jpg']\n",
      "\n",
      "Correct Caption  :   ['A little girl stand on front a gigantic suitcase. The little girl wears a white top with blue jeans, and she is smiling. The gigantic suitcase has several stickers. A red sticker on the suitcase has yellow stars. On the suitcase, there are three oval stickers color white and blue letters. The brown suitcase is outdoors.']\n",
      "\n",
      "Predicted Caption:  ['a plastic bag with the belly of a black frame is on a <UNK> metal flooring.   the <UNK> itself is silver , with black trim.   the cat is grey with <UNK> feet , dark hair , and a red printed button down shirt with a']\n",
      "--------------------------------------------------\n",
      "Image Name       : ['test_885.jpg']\n",
      "\n",
      "Correct Caption  :   ['This is a picture of a bedroom. A large bed is sitting against a painted white wall. There are two large white blankets and four white pillows on the bed. Two slim lamps sit on nightstands that are standing near the bed. Part of a picture frame can be seen hanging over the bed. A long green curtain is hanging on the floor in the room.']\n",
      "\n",
      "Predicted Caption:  ['a large bed is sitting in a room. the headboard is brown. six pillows are sitting in front of the headboard. the comforter of the bed has red roses on it. there are two brown tables sitting on both sides of the bed. lamps']\n",
      "--------------------------------------------------\n",
      "Image Name       : ['test_886.jpg']\n",
      "\n",
      "Correct Caption  :   ['A table with a white lace table cloth is sitting in a room with a white wall. There is a blue glazed vase with etched flowers on it with a flower with green leaves on it sitting on the table. There is a clear glass bowl on a black metal base to the left of the vase, and there is a bear statue on the right of the vase and a clear glass cup. There is another flower on the ground near the table. ']\n",
      "\n",
      "Predicted Caption:  ['there is a small vase sitting on the table. the vase is made of glass. there are flowers in the vase. the flowers are purple. the flowers are multicolored. the paper is very large. the leaves are sitting on a black table.']\n",
      "--------------------------------------------------\n",
      "Image Name       : ['test_887.jpg']\n",
      "\n",
      "Correct Caption  :   ['This is a picture of a street. The street looks to be at a bus station. There are many large buses parked. The buses are public transportation. The buses are painted white. There is black text on the bus. There are people walking by the station. There is a large walkway above the station. The walkway is metal with blue windows.']\n",
      "\n",
      "Predicted Caption:  ['this is an image of a city street. there are train tracks on the road. the rails are metal. there is a large green tree near the bus. there are many big pillars on the electrical. the bridge is made out of wood.']\n",
      "--------------------------------------------------\n",
      "Image Name       : ['test_888.jpg']\n",
      "\n",
      "Correct Caption  :   ['A boy in a white baseball uniform and a blue helmet is has swung a baseball bat and is holding the bat behind him. There is a player in the sane uniform on the left leaning down and walking towards the home base. In the distance there is a fence covered with a blue tarp. There are people standing on the other side of the fence on the left watching the game.']\n",
      "\n",
      "Predicted Caption:  ['a baseball player is holding a bat in his hand.   he is wearing white gloves.   he is wearing a blue helmet on the top of his head.   the catcher is directly behind him with black glove on his hand.   there are']\n",
      "--------------------------------------------------\n",
      "Image Name       : ['test_889.jpg']\n",
      "\n",
      "Correct Caption  :   ['A trailer with gray siding on it and  two windows is sitting on the gravel in between two train tracks. There is a white and blue train on the tracks on the right side of the screen near the trailer. There are traffic lights on the gravel in between the tracks for the trains. There are metal support columns in between the tracks and over the tracks. There is an apartment building in the distance and cars parked near the tracks.']\n",
      "\n",
      "Predicted Caption:  ['a blue sky with some white clouds. a train with a green car and brown doors rides down a railroad.   the railroad is lined with green grass and gray poles with <UNK> arms and lines. the tracks are rusty brown in color and has dirt']\n",
      "--------------------------------------------------\n",
      "Image Name       : ['test_890.jpg']\n",
      "\n",
      "Correct Caption  :   ['A boy is skating on a skating ramp. He has a skate board under his feet but his body is parallel to the ground. His knees are bent and his arms are in the air. His has brownish-red curly hair. He is wearing gray shorts and a black shirt. The skate board is green. The skating ramp is gray. There are trees surrounding the skating ramp.']\n",
      "\n",
      "Predicted Caption:  ['the man on the skateboard is leaning his body or balance. he is in motion riding along the road. he is wearing a gray helmet , a black t - shirt , blue jeans , and blue shoes. he appears to be in the air.']\n",
      "--------------------------------------------------\n",
      "Image Name       : ['test_891.jpg']\n",
      "\n",
      "Correct Caption  :   ['Two boys and two girls are standing in a line bending down. They are opening bananas that are in their hands. One of the boys is wearing a baseball cap, a short sleeve shirt and blue jean shorts. Part of a black door can be seen behind them. A white painted wall is above the door. Cords and other objects are on the ground in front of the children.']\n",
      "\n",
      "Predicted Caption:  ['there are two people standing in front of a television. they are all wearing white shirts and white shirts. there is a man in a blue shirt standing in front of them.']\n",
      "--------------------------------------------------\n",
      "Image Name       : ['test_892.jpg']\n",
      "\n",
      "Correct Caption  :   ['Two skillets and a pot is sitting on top of a stove in this kitchen. The burner under the pot is on. The door of a dishwasher is down with a rack sitting on top of it. The cabinets in the kitchen are white with green counter tops. There are numerous items sitting on top of the counter tops. The floor of the kitchen is hardwood.']\n",
      "\n",
      "Predicted Caption:  ['the kitchen has yellow walls and white cabinets. the appliances are black. the counter is made of white tiles. the cabinets on the left have pictures in red frames on them. the floor of the kitchen is made of brown tiles with black grout.']\n",
      "--------------------------------------------------\n",
      "Image Name       : ['test_893.jpg']\n",
      "\n",
      "Correct Caption  :   ['The airplanes are at the runway and airport. The planes are blue and white. The tail of the planes are white with blue logo on them. The sky is blue with white and gray clouds on them. There are two cones on the ground. The cones are stripe of orange and white. The grass is green. The ground is paved.']\n",
      "\n",
      "Predicted Caption:  ['this is an image of a runway. the runway has lots of yellow and green dry grass next to it. there is a large airplane on the runway. the airplane is white and blue. there are small white clouds in the sky. the sky']\n",
      "--------------------------------------------------\n",
      "Image Name       : ['test_894.jpg']\n",
      "\n",
      "Correct Caption  :   ['A building has a large arch above the doorway. There are windows under the arch and above the doors. The doors themselves are gray and have panels in them. There are two doors. In front of the doors is a bench that has wooden slats. There are gray pipes on each side of the doorway. The building and doorway are made of red brick.']\n",
      "\n",
      "Predicted Caption:  ['the door on the side of the building is pale pink. the window is reflecting the trees in front of the building. the umbrella is across from the building and has <UNK>. the building is beige and has black stains on it.']\n",
      "--------------------------------------------------\n",
      "Image Name       : ['test_895.jpg']\n",
      "\n",
      "Correct Caption  :   ['A cute grey white tan and brown kitten is laying sideways in a white ceramic bathroom sink. He looks very happy. The faucet above him is silver and shiny. On the sides next to the faucet are two small jars, a tube of toothpaste and a wooden square brush with black plastic bristles. The floor of the bathroom is dingy and white. There is a soap dish filled with a dark brown soap.']\n",
      "\n",
      "Predicted Caption:  [\"a striped cat is standing on the floor in front of a toilet. the <UNK> is on the wall behind it. there is a blue <UNK> beside the toilet on the wall. the cat 's ears are on the sides of the toilet. the wall\"]\n",
      "--------------------------------------------------\n",
      "Image Name       : ['test_896.jpg']\n",
      "\n",
      "Correct Caption  :   ['A man is standing in a room of a building. He is wearing a suit and tie, and holding an electronic device in his hand. The carpet in the room is red. A long picture frame is hanging on a wall at the back of the room. A sofa, chair, plant and a table can be seen near the picture frame. A small green lamp sits on top of the table.']\n",
      "\n",
      "Predicted Caption:  [\"a man 's wearing glasses is sitting behind a table. the man is wearing a black shirt and striped pants. there is a silver <UNK> on the table in front of him.\"]\n",
      "--------------------------------------------------\n",
      "Image Name       : ['test_897.jpg']\n",
      "\n",
      "Correct Caption  :   ['This is an image of a plane. The people are sitting in cushioned chairs. The chairs are blue and gray. The man has long black hair. The hair is parted down the middle. The man is Asian. The man has a black suit jacket on. The man has a light blue dress shirt on. The man has black pants on. The man has black shoes on.']\n",
      "\n",
      "Predicted Caption:  ['a person is sitting on a white chair. there are several items on the table next to the person. there is a large window on the wall behind them.']\n",
      "--------------------------------------------------\n",
      "Image Name       : ['test_898.jpg']\n",
      "\n",
      "Correct Caption  :   ['Five lit candles are decorating a square cake. There is a pink candle in each corner and a white one in the center of the cake. The frosting is white. Some chocolate crumbs are visible along the bottom edges of the cake and on the plate. The cake is on a round blue plate. It is on a wood-looking table. ']\n",
      "\n",
      "Predicted Caption:  ['there is a cake sitting on top of a white plate. the white plate is sitting on top of a white table. there is a paper on top of the plate. there are many pieces of paper on the plate.']\n",
      "--------------------------------------------------\n",
      "Image Name       : ['test_899.jpg']\n",
      "\n",
      "Correct Caption  :   ['A fire hydrant is standing on the sidewalk. The hydrant has an orange base and red top. The hydrant is casting a shadow onto the sidewalk. The sidewalk is made of concrete squares. There is a manhole next to the hydrant that is dark gray and metal. On the road there is a white carriage with large wheels.']\n",
      "\n",
      "Predicted Caption:  ['the image is in black and white , except for a purple fire hydrant that is on the ground.   the fire hydrant is surrounded by a green grassy field.   a fire hydrant is in the foreground.   a fire hydrant is near the curb']\n",
      "--------------------------------------------------\n",
      "Image Name       : ['test_900.jpg']\n",
      "\n",
      "Correct Caption  :   [\"In a dark sepia color photograph the top half of a large, very tall clock tower is shown. The tower appears to be at least a few centuries old and could be the Big Ben clock tower in London. The time shown on the clock is eight o'clock, and  the clock face is on two sides of the tower. The tower tapers off high into the sky. Above the clock face are poles and a gable decorated, and in a deep ivory color. \"]\n",
      "\n",
      "Predicted Caption:  ['a large building is shown from the bottom angle. there are some people standing near the clock. the clock is in the middle of the building. the sky is dark.']\n",
      "--------------------------------------------------\n",
      "Image Name       : ['test_901.jpg']\n",
      "\n",
      "Correct Caption  :   ['A bus is in the street that is red and yellow. The bus has the words LOVE written on it in red letters. There are street lights that are visible. The cars are black beneath the bus. There is also a double decker bus to the left of the bus that is red. There are windows on both buses. There is a red building with letters on it in white.']\n",
      "\n",
      "Predicted Caption:  ['a picture of traffic on a street. there is a red sign on the side of the street that has a yellow sign on it. there is a black pole in front of the bus. there are people standing behind the bus.']\n",
      "--------------------------------------------------\n",
      "Image Name       : ['test_902.jpg']\n",
      "\n",
      "Correct Caption  :   ['A group of seven people dressed in ski clothes are standing together with their arms draped around each other. They are on top of a snow covered mountain, and another mountain with snow on it can be seen in the background. All but one of the group is wearing ski shoes, and five are holding their ski poles. Part of a building with a white roof is in the background, as well as part of the poles and cables of a ski lift. Three of the group are wearing red jackets, one is wearing a green jacket, one  is wearing a blue jacket, and two are wearing black jackets.']\n",
      "\n",
      "Predicted Caption:  ['there are five people standing on skis in the snow. there is a person wearing a red jacket on the end of their heads. there is a person in a blue jacket standing next to them. there are many trees on the hill in the distance']\n",
      "--------------------------------------------------\n",
      "Image Name       : ['test_903.jpg']\n",
      "\n",
      "Correct Caption  :   ['A bike is sitting on a stone paved walkway. The bike has an orange wooden crate sitting on the front of it. A small pile of snow is in front of the bike on the walkway. A snow covered road can be seen below the walkway. Part of a vehicle is sitting near the walkway. There are tall buildings standing on the other side of the road. Vehicles are parked in front of the buildings.']\n",
      "\n",
      "Predicted Caption:  ['a man is wearing a black jacket and blue jeans. he is holding a black umbrella. there is a black backpack in front of him.']\n",
      "--------------------------------------------------\n",
      "Image Name       : ['test_904.jpg']\n",
      "\n",
      "Correct Caption  :   ['There are three umbrellas. The umbrellas are blue. The gate is purple. The umbrellas have points on them. There is a shadow on the gate. There is a white umbrella also. There is a grey umbrella. The ceiling is black. There is a shadow on the blue umbrella. There are objects on the floor that are made of wood. ']\n",
      "\n",
      "Predicted Caption:  ['a woman stands by a building. the woman has on a pink shirt and pink pants. the woman is wearing white pants. the woman is wearing two black <UNK>. there is a man standing on the right of the horse. the man is holding']\n",
      "--------------------------------------------------\n",
      "Image Name       : ['test_905.jpg']\n",
      "\n",
      "Correct Caption  :   ['On a beach with grey sand several people are walking about, and some are standing in the waves by the shore. One man is getting ready to throw a white Frisbee. He is wearing grey long swim trunks. Behind him a woman sits in a beach chair set low to the sand. The water is mild, with only a few small waves rolling into the shore. The day is sunny and the sky is a medium blue.']\n",
      "\n",
      "Predicted Caption:  ['a man in a brown and white striped shirt is bending down while standing on a beach. there is a woman in a white shirt and black pants standing in the sand. there is one person in the distance behind them.']\n",
      "--------------------------------------------------\n",
      "Image Name       : ['test_906.jpg']\n",
      "\n",
      "Correct Caption  :   ['A young boy, dressed in knee-high shorts and a red-striped white short-sleeved shirt, zooms around the skateboard apparatus.  He is smart, as he has on both a helmet and white knee protectors.  He wears gloves, to protect his hands, and simple shoes.  He seems to be alone, though in the distance he can see an open concrete lot and beyond that a parking lot and some cars.  ']\n",
      "\n",
      "Predicted Caption:  ['a man is skateboarding. the man is wearing blue jeans. the man is wearing a white hat. the man is wearing blue jeans. the man is wearing a black hat. the man is wearing blue jeans. there is a large building behind the']\n",
      "--------------------------------------------------\n",
      "Image Name       : ['test_907.jpg']\n",
      "\n",
      "Correct Caption  :   ['A horse and cattle eat from the same hay bale.  The animals have torn the bale apart exposing the yellow fibers, which they eat in small amounts at one time.  The horse is rust colored.  The cattle are black with a couple rust colored as well.  Some of the cattle have small flecks of snow and dirt on their backs.  Snow covers the ground in the background.  A fence stretches across the snow covered ground.']\n",
      "\n",
      "Predicted Caption:  ['a cowboy is standing on the ground. the cow is a light brown color and has a black nose. the cow is eating grass. the cow is standing on a long stone surface. the grass is brown and has a white roof. the pattern']\n",
      "--------------------------------------------------\n",
      "Image Name       : ['test_908.jpg']\n",
      "\n",
      "Correct Caption  :   ['An animal is laying down. The animal is brown. There are trees on the mountains that are green. The trees are tall. The mountains are tall with grass on them. The animal has horns on its head. The clouds in the sky are white. There are clouds near the mountains. The animal has a large bone in his back. ']\n",
      "\n",
      "Predicted Caption:  ['a bunch of cows are hanging <UNK> on the ground. the ground is covered in dirt and grass. a large brown cow is standing on the right. the cows are short and brown. there are a bunch of small little <UNK> like cows all around']\n",
      "--------------------------------------------------\n",
      "Image Name       : ['test_909.jpg']\n",
      "\n",
      "Correct Caption  :   ['There is a bamboo fence next to a concrete are brick tan wall. There are plant growing out of the fence. The ground is made of compacted dirt. There is black and white zebra munching on leaves of the plants that are on the fence. Directly behind the zebra there is small pond. there is small amount of water in the pond and there is greenery growing in the pond. The zebras reflection can be seen in the pond. ']\n",
      "\n",
      "Predicted Caption:  ['two zebras are standing next to each other. the zebras are facing each other where one is slightly higher than the other. the zebras are both black and white. the ears of the zebras are white. there is a wooden pole behind the taller zebra']\n",
      "--------------------------------------------------\n",
      "Image Name       : ['test_910.jpg']\n",
      "\n",
      "Correct Caption  :   ['This photo is taken on a baseball field. The field has a white marking painted on it.  A baseball player is swinging a bat towards a white ball that is soaring towards him. He is wearing a black helmet and a black, yellow and white uniform.  People can be seen sitting in the stands behind the player.']\n",
      "\n",
      "Predicted Caption:  ['a baseball player is holding a bat in his hand.   he is wearing a red helmet on top of his head.   he is swinging a black helmet with blue writing and a white stripe on his head.  ']\n",
      "--------------------------------------------------\n",
      "Image Name       : ['test_911.jpg']\n",
      "\n",
      "Correct Caption  :   ['The clouds in the sky are white. The sky is blue. The building is brown. Part of the building is really tall. There are windows on the brown building. There is a tall light pole in the image. There are vans parked that are white near the building. There is a clock on the building. The windows are clear on the building.']\n",
      "\n",
      "Predicted Caption:  ['a church has a lot of arches on it. the arches are white in color. there are bricks on the wall of the church.']\n",
      "--------------------------------------------------\n",
      "Image Name       : ['test_912.jpg']\n",
      "\n",
      "Correct Caption  :   ['The street runs directly beneath the red-and-yellow arch with the \"towne center\" sign at its apex.  A shopping center is far in the distance behind the sign, and between the sign and the buildings is a vast, mostly empty parking lot.  More cars are visible toward the buildings, whereas there are very few in the proximity of the arch/sign.  Just before the red arch is a street sign that says \"end of city street\".  A sidewalk follows the road on its right, and just a few plants hint at a larger bit of decoration that\\'s mostly unseen.  The road is appropriately painted with direction paint - yellow lane lines and brake-here marks on the road that goes off to the left from the arch.  ']\n",
      "\n",
      "Predicted Caption:  ['a long city bus is parked under a large green parking lot. it is dark blue in color with a white stripe down the side and white lines. the road is empty with concrete tracks. there is a brown building to the left of the bus']\n",
      "--------------------------------------------------\n",
      "Image Name       : ['test_913.jpg']\n",
      "\n",
      "Correct Caption  :   ['This is an image of a table. The table has many items on top. The items are strewn throughout the table. The table is covered in a white cloth. There is a tiny pair of scissors on the table. The scissors are metal and silver. The equipment looks to be medical equipment. There is a shoulder bag that is black on the table.']\n",
      "\n",
      "Predicted Caption:  ['there are two white remotes on top of a dark colored table. there is a white wii remote with a white strap on it. there is a white wii <UNK> <UNK> sitting in front of the desk. there is a white <UNK> controller in front of']\n",
      "--------------------------------------------------\n",
      "Image Name       : ['test_914.jpg']\n",
      "\n",
      "Correct Caption  :   ['Three people are sitting in a room. A man wearing a green t-shirt is looking to his right. He is wearing glasses. On the dresser behind him is a flower arrangement. To the right of that is a guitar case leaning against the wall.  A woman with long brown hair, a pink shirt and blue jeans is sitting next to the man. She is holding a toy wheel, perhaps from a video game, in her hands. The man sitting next to her on her left is holding a finger to his ear. A photo collage is on the wall. ']\n",
      "\n",
      "Predicted Caption:  ['a man is sitting on a sofa , using a laptop. he is wearing a long sleeve shirt and dark blue jeans. the man is holding a long teddy bear in his hands that is sitting on the ground. a black and white dog is asleep']\n",
      "--------------------------------------------------\n",
      "Image Name       : ['test_915.jpg']\n",
      "\n",
      "Correct Caption  :   ['A man with black hair is wearing a white shirt and a red tie is eating a waffle with his hand and reading the weekday funny paper of a newspaper. The man is sitting on a wooden chair that has checkered wooden slats on the back. There is a round white and blue plate on the white tablecloth on the table. Their is a window at the end of the table showing a deck outside. ']\n",
      "\n",
      "Predicted Caption:  ['a man in a black shirt is cutting a pizza on a table. he is wearing a black <UNK> and a striped shirt. he is holding a white napkin in his hand , while also has a fork on a brown towel.']\n",
      "--------------------------------------------------\n",
      "Image Name       : ['test_916.jpg']\n",
      "\n",
      "Correct Caption  :   ['A black cat is on the brown desk. The cat is on the border of the desk. A glass with black drink is on back the cat. Behind the cat there is a  laptop open with a blue screen. on the screen of the laptop there is icons color white on the right. Next to the wall there is a black box and a tan horizontal box.']\n",
      "\n",
      "Predicted Caption:  ['a wooden desk is against a wall. there is a computer monitor that is turned on sitting on top of a black printer. a white keyboard is sitting on the desk in front of the monitor. there is a white keyboard under the computer monitor.']\n",
      "--------------------------------------------------\n",
      "Image Name       : ['test_917.jpg']\n",
      "\n",
      "Correct Caption  :   ['Some of the trees in the distance are have green leaves while most of the them do not have leaves and are brown. There is fence in the distance as well. The grass in the photo is brown and is low. There are two large black and white zebras standing in the brown grass field. The zebra closest tot the camera is grazing on the brown grass. ']\n",
      "\n",
      "Predicted Caption:  ['this image takes place in a <UNK>. there are two animals and they are zebras facing two <UNK> directions. they are standing on top of dry grass with thin twigs on the bottom. behind the zebras , there are a bunch of trees that are semi']\n",
      "--------------------------------------------------\n",
      "Image Name       : ['test_918.jpg']\n",
      "\n",
      "Correct Caption  :   ['There is a large man wearing a gray tee shirt and khaki colored shorts standing barefoot on grass and holding a kite handle. The kite is blue and white and is off the ground about a foot and a half. There is a lamppost along side a path behind the man, and lush trees growing behind that. In the distance, there is a building behind the trees and two cars parked along side the street in front of the building.']\n",
      "\n",
      "Predicted Caption:  ['a young girl is running along the grass , trying to get a kite up into the air.   she is wearing a blue top , and is brown haired.   the two people are wearing shorts and <UNK> - shirts.   behind them , watching']\n",
      "--------------------------------------------------\n",
      "Image Name       : ['test_919.jpg']\n",
      "\n",
      "Correct Caption  :   ['Cattle are wading in a body of water. The cows are brown and white. One solid brown cow has large horns. There is a white cow on the bank drinking water alone. There is a small patch of land in the water near the cows that is covered in tall green grass. The water is calm except for a few ripples. There are trees past the cows with only a few brown leaves.']\n",
      "\n",
      "Predicted Caption:  ['a bunch of cows are on display. there is a body of water behind the rocks. there is a building that has a lot of trees in front of the trees. there is a mountain that has a fence that has a fence.']\n",
      "--------------------------------------------------\n",
      "Image Name       : ['test_920.jpg']\n",
      "\n",
      "Correct Caption  :   ['Busses are parked on a grassy field. The bus in the foreground is a red double-decker with the number 229 on it. The back door is open but a white strip of material is across the opening blocking the entrance. To the right is white and red bus that has the name Chalkwell advertised on the back. Next to that is a mostly yellow double-decker.']\n",
      "\n",
      "Predicted Caption:  ['a double decker bus is parked on the side of the street. the bus says the <UNK> <UNK> tour and is red. it is parked very close to a sidewalk that has a couple of huge urban buildings.']\n",
      "--------------------------------------------------\n",
      "Image Name       : ['test_921.jpg']\n",
      "\n",
      "Correct Caption  :   ['A small, round, white plate is sitting on a light wood surface. Brown crumbs left over from a meal are scattered on the plate, and one chopstick sits on the edge of the plate. A black plastic fork is next to the chopstick, as well as some small torn pieces of paper. A used tea bag sits next to the fork.']\n",
      "\n",
      "Predicted Caption:  ['the table has white plates on it. there is some chicken on the plate. there are some glasses on the table. there are <UNK> on the table as well. there are <UNK> on the table. there are two <UNK> on the table. there']\n",
      "--------------------------------------------------\n",
      "Image Name       : ['test_922.jpg']\n",
      "\n",
      "Correct Caption  :   ['This is a photo of three young boys wearing cubs uniforms, how unfortunate. They are ready to play a baseball game, as two of the boys are wearing baseball mitts and one of the boys is even wearing war paint. The boy in front looks very happy, which is to be expected when playing team sports. Go team.']\n",
      "\n",
      "Predicted Caption:  ['a baseball player is holding a bat in his hands. he is wearing a red helmet and a black and white uniform. another player is standing in front of a white base on the ground in front of him. a large home can be seen sitting']\n",
      "--------------------------------------------------\n",
      "Image Name       : ['test_923.jpg']\n",
      "\n",
      "Correct Caption  :   ['There is a woman, in a brown jacket, with a fur collar on it. The woman has black hair with silver streaks in it. There is a big brown bear, in a cage. The woman is kissing the bear on his nose. The bear has fluffy brown hair and a black nose. The bear and the woman are in a building and there is snow on the ground outside. There are trees in the background.']\n",
      "\n",
      "Predicted Caption:  ['a woman in a green sweatshirt , blue jeans , and a black hat , is <UNK> on a wooden bench , as if to <UNK> a <UNK> of some sort. her daughter is fully fully hot and she is wearing a black shirt. she is dressed']\n",
      "--------------------------------------------------\n",
      "Image Name       : ['test_924.jpg']\n",
      "\n",
      "Correct Caption  :   ['This is a picture of a stream. The stream is murky green and brown dirty water. There are animals walking in the stream. The animals are cows. The cows are large. The cows are black. The cow in the front has long horns. The horns are sharp. The horns are gray. There are bright green lush and leafy plants along the side of the stream.']\n",
      "\n",
      "Predicted Caption:  ['there are two elephants in the water. one of the elephants is standing in the water behind a wire fence. the other elephant is a small baby. the other elephant is a lighter color with a dark brown color.']\n",
      "--------------------------------------------------\n",
      "Image Name       : ['test_925.jpg']\n",
      "\n",
      "Correct Caption  :   ['This is a black and white photograph of a very old biplane taking off from a flat field. There is some sort of crop growing in the field, but it is indiscernable. The plane itself says \"America\" on its side. There is a star emblem on its tail as well as underneath the visible wing. The plane is only about 20 feet off the ground. ']\n",
      "\n",
      "Predicted Caption:  ['a plane is flying in the air. the plane is white in color. the plane has a blue tail on it. there is white writing on the tail.']\n",
      "--------------------------------------------------\n",
      "Image Name       : ['test_926.jpg']\n",
      "\n",
      "Correct Caption  :   ['There are three trains in the image. The buildings are short and some are tall. The clouds in the sky are white. There are tall poles near the train. The trains are on the train tracks. The train is red and white. There are windows on the trains. There is a bridge above the trains. There is a fence along the bridge.']\n",
      "\n",
      "Predicted Caption:  ['<UNK> on a train tracks with a nearly cloudless sky is behind a bridge.   the railroad tracks are surrounded by tall green trees and bushes in the background.   the sky is blue with white clouds.   the view appears to be <UNK> winter ,']\n",
      "--------------------------------------------------\n",
      "Image Name       : ['test_927.jpg']\n",
      "\n",
      "Correct Caption  :   ['A flock of white sheep are grazing on both green and brown grass, in a pasture. A rooster is behind the flock, standing in a narrow dirt road. Some of the sheep are also in the road. The dirt road curves around and then straightens out to the left, going all the through to into the background. A few sheep are lying on the green grass, next to a wire mesh fence, and a planted field of green vegetables are behind the grazing sheep.']\n",
      "\n",
      "Predicted Caption:  ['a pack of sheep stand around on an open field. there is a sheep of green grass underneath the sheep. there are some sheep standing beside the giraffe. there is a wooden fence surrounding the field.']\n",
      "--------------------------------------------------\n",
      "Image Name       : ['test_928.jpg']\n",
      "\n",
      "Correct Caption  :   ['Two people stand on the sand holding a big C-kite. The C-kite is color red, orange and green. The men wears black clothes. Shadows are cast on the ground. There are foot prints are on the sand. On front the men there is a body of water. Next to the body there are three people. Behind the body of water there are small hills. ']\n",
      "\n",
      "Predicted Caption:  ['there are people on the beach. one woman is wearing a <UNK>. she is holding a lime green frisbee. she is wearing a black bikini. they are flying a kite. the kite is white. there is a kite in the sky.']\n",
      "--------------------------------------------------\n",
      "CIDEr score of test set:  0.06277697878634352\n",
      "BLEU score of test set:  0.23319887014854587\n",
      "ROUGE-l score of test set:  0.2108616827832371\n",
      "\n",
      "\n"
     ]
    }
   ],
   "source": [
    "warnings.filterwarnings(\"ignore\")\n",
    "model.eval()\n",
    "ref = {}\n",
    "hyp = {}\n",
    "bleu_ = []\n",
    "print('-'*50)\n",
    "for idx, (img, captions, str_cap, img_id) in enumerate(test_loamder):\n",
    "    img = img\n",
    "    ref[idx] = str_cap\n",
    "    a = model.cap_img(img.to(device), dataset.vocab)\n",
    "    s = \"\"\n",
    "    s += a[1]\n",
    "    for i in range(2,len(a)):\n",
    "        if a[i] == '.':\n",
    "            s += a[i]\n",
    "        elif a[i] == \"<EOS>\":\n",
    "            continue\n",
    "        else:\n",
    "            s += \" \"\n",
    "            s += a[i]\n",
    "    hyp[idx] = [s]\n",
    "    bleu_.append(comp_bleu([s],[str_cap]))\n",
    "    print(\"Image Name       :\", img_id)\n",
    "    print()\n",
    "    print(\"Correct Caption  :  \", ref[idx])\n",
    "    print()\n",
    "    print(\"Predicted Caption: \", [hyp[idx][0]])\n",
    "    print('-'*50)\n",
    "print(\"CIDEr score of test set: \", comp_cider(ref,hyp))\n",
    "print(\"BLEU score of test set: \", sum(bleu_)/len(bleu_))\n",
    "print(\"ROUGE-l score of test set: \", comp_rougel(ref,hyp))\n",
    "print()\n",
    "print()"
   ]
  }
 ],
 "metadata": {
  "kaggle": {
   "accelerator": "nvidiaTeslaT4",
   "dataSources": [
    {
     "datasetId": 4771275,
     "sourceId": 8083209,
     "sourceType": "datasetVersion"
    }
   ],
   "dockerImageVersionId": 30683,
   "isGpuEnabled": true,
   "isInternetEnabled": true,
   "language": "python",
   "sourceType": "notebook"
  },
  "kernelspec": {
   "display_name": "Python 3",
   "language": "python",
   "name": "python3"
  },
  "language_info": {
   "codemirror_mode": {
    "name": "ipython",
    "version": 3
   },
   "file_extension": ".py",
   "mimetype": "text/x-python",
   "name": "python",
   "nbconvert_exporter": "python",
   "pygments_lexer": "ipython3",
   "version": "3.10.13"
  },
  "papermill": {
   "default_parameters": {},
   "duration": 34426.91514,
   "end_time": "2024-04-17T13:08:34.398783",
   "environment_variables": {},
   "exception": null,
   "input_path": "__notebook__.ipynb",
   "output_path": "__notebook__.ipynb",
   "parameters": {},
   "start_time": "2024-04-17T03:34:47.483643",
   "version": "2.5.0"
  },
  "widgets": {
   "application/vnd.jupyter.widget-state+json": {
    "state": {
     "03efb9419e094d34a4c810d268854d9b": {
      "model_module": "@jupyter-widgets/controls",
      "model_module_version": "1.5.0",
      "model_name": "HTMLModel",
      "state": {
       "_dom_classes": [],
       "_model_module": "@jupyter-widgets/controls",
       "_model_module_version": "1.5.0",
       "_model_name": "HTMLModel",
       "_view_count": null,
       "_view_module": "@jupyter-widgets/controls",
       "_view_module_version": "1.5.0",
       "_view_name": "HTMLView",
       "description": "",
       "description_tooltip": null,
       "layout": "IPY_MODEL_2bc1a22d37b84e2fb687cfb0a121cbcc",
       "placeholder": "​",
       "style": "IPY_MODEL_b0b1f65ae7264e309ab5c729b2981579",
       "value": " 160/160 [00:00&lt;00:00, 12.3kB/s]"
      }
     },
     "0743dbeeefcb4e9b93118c502489ae48": {
      "model_module": "@jupyter-widgets/base",
      "model_module_version": "1.2.0",
      "model_name": "LayoutModel",
      "state": {
       "_model_module": "@jupyter-widgets/base",
       "_model_module_version": "1.2.0",
       "_model_name": "LayoutModel",
       "_view_count": null,
       "_view_module": "@jupyter-widgets/base",
       "_view_module_version": "1.2.0",
       "_view_name": "LayoutView",
       "align_content": null,
       "align_items": null,
       "align_self": null,
       "border": null,
       "bottom": null,
       "display": null,
       "flex": null,
       "flex_flow": null,
       "grid_area": null,
       "grid_auto_columns": null,
       "grid_auto_flow": null,
       "grid_auto_rows": null,
       "grid_column": null,
       "grid_gap": null,
       "grid_row": null,
       "grid_template_areas": null,
       "grid_template_columns": null,
       "grid_template_rows": null,
       "height": null,
       "justify_content": null,
       "justify_items": null,
       "left": null,
       "margin": null,
       "max_height": null,
       "max_width": null,
       "min_height": null,
       "min_width": null,
       "object_fit": null,
       "object_position": null,
       "order": null,
       "overflow": null,
       "overflow_x": null,
       "overflow_y": null,
       "padding": null,
       "right": null,
       "top": null,
       "visibility": null,
       "width": null
      }
     },
     "084bf0b7a94249a9bd276e2f8cbc69bc": {
      "model_module": "@jupyter-widgets/controls",
      "model_module_version": "1.5.0",
      "model_name": "FloatProgressModel",
      "state": {
       "_dom_classes": [],
       "_model_module": "@jupyter-widgets/controls",
       "_model_module_version": "1.5.0",
       "_model_name": "FloatProgressModel",
       "_view_count": null,
       "_view_module": "@jupyter-widgets/controls",
       "_view_module_version": "1.5.0",
       "_view_name": "ProgressView",
       "bar_style": "success",
       "description": "",
       "description_tooltip": null,
       "layout": "IPY_MODEL_9c9efa1528694939b15687db876205ec",
       "max": 69665,
       "min": 0,
       "orientation": "horizontal",
       "style": "IPY_MODEL_9fbf5cf8ab3e4654886963415c7383c0",
       "value": 69665
      }
     },
     "122464285b464cb59397984537330041": {
      "model_module": "@jupyter-widgets/controls",
      "model_module_version": "1.5.0",
      "model_name": "FloatProgressModel",
      "state": {
       "_dom_classes": [],
       "_model_module": "@jupyter-widgets/controls",
       "_model_module_version": "1.5.0",
       "_model_name": "FloatProgressModel",
       "_view_count": null,
       "_view_module": "@jupyter-widgets/controls",
       "_view_module_version": "1.5.0",
       "_view_name": "ProgressView",
       "bar_style": "success",
       "description": "",
       "description_tooltip": null,
       "layout": "IPY_MODEL_146f6519a979407b91b22f57bcbe712c",
       "max": 160,
       "min": 0,
       "orientation": "horizontal",
       "style": "IPY_MODEL_e0dccb5c01ef4fed89d94dffd715cb7f",
       "value": 160
      }
     },
     "12ec5e4b3e7d424c89cbcfe450f28f58": {
      "model_module": "@jupyter-widgets/base",
      "model_module_version": "1.2.0",
      "model_name": "LayoutModel",
      "state": {
       "_model_module": "@jupyter-widgets/base",
       "_model_module_version": "1.2.0",
       "_model_name": "LayoutModel",
       "_view_count": null,
       "_view_module": "@jupyter-widgets/base",
       "_view_module_version": "1.2.0",
       "_view_name": "LayoutView",
       "align_content": null,
       "align_items": null,
       "align_self": null,
       "border": null,
       "bottom": null,
       "display": null,
       "flex": null,
       "flex_flow": null,
       "grid_area": null,
       "grid_auto_columns": null,
       "grid_auto_flow": null,
       "grid_auto_rows": null,
       "grid_column": null,
       "grid_gap": null,
       "grid_row": null,
       "grid_template_areas": null,
       "grid_template_columns": null,
       "grid_template_rows": null,
       "height": null,
       "justify_content": null,
       "justify_items": null,
       "left": null,
       "margin": null,
       "max_height": null,
       "max_width": null,
       "min_height": null,
       "min_width": null,
       "object_fit": null,
       "object_position": null,
       "order": null,
       "overflow": null,
       "overflow_x": null,
       "overflow_y": null,
       "padding": null,
       "right": null,
       "top": null,
       "visibility": null,
       "width": null
      }
     },
     "146f6519a979407b91b22f57bcbe712c": {
      "model_module": "@jupyter-widgets/base",
      "model_module_version": "1.2.0",
      "model_name": "LayoutModel",
      "state": {
       "_model_module": "@jupyter-widgets/base",
       "_model_module_version": "1.2.0",
       "_model_name": "LayoutModel",
       "_view_count": null,
       "_view_module": "@jupyter-widgets/base",
       "_view_module_version": "1.2.0",
       "_view_name": "LayoutView",
       "align_content": null,
       "align_items": null,
       "align_self": null,
       "border": null,
       "bottom": null,
       "display": null,
       "flex": null,
       "flex_flow": null,
       "grid_area": null,
       "grid_auto_columns": null,
       "grid_auto_flow": null,
       "grid_auto_rows": null,
       "grid_column": null,
       "grid_gap": null,
       "grid_row": null,
       "grid_template_areas": null,
       "grid_template_columns": null,
       "grid_template_rows": null,
       "height": null,
       "justify_content": null,
       "justify_items": null,
       "left": null,
       "margin": null,
       "max_height": null,
       "max_width": null,
       "min_height": null,
       "min_width": null,
       "object_fit": null,
       "object_position": null,
       "order": null,
       "overflow": null,
       "overflow_x": null,
       "overflow_y": null,
       "padding": null,
       "right": null,
       "top": null,
       "visibility": null,
       "width": null
      }
     },
     "1f888f310e224104b0e0582a808be5b5": {
      "model_module": "@jupyter-widgets/base",
      "model_module_version": "1.2.0",
      "model_name": "LayoutModel",
      "state": {
       "_model_module": "@jupyter-widgets/base",
       "_model_module_version": "1.2.0",
       "_model_name": "LayoutModel",
       "_view_count": null,
       "_view_module": "@jupyter-widgets/base",
       "_view_module_version": "1.2.0",
       "_view_name": "LayoutView",
       "align_content": null,
       "align_items": null,
       "align_self": null,
       "border": null,
       "bottom": null,
       "display": null,
       "flex": null,
       "flex_flow": null,
       "grid_area": null,
       "grid_auto_columns": null,
       "grid_auto_flow": null,
       "grid_auto_rows": null,
       "grid_column": null,
       "grid_gap": null,
       "grid_row": null,
       "grid_template_areas": null,
       "grid_template_columns": null,
       "grid_template_rows": null,
       "height": null,
       "justify_content": null,
       "justify_items": null,
       "left": null,
       "margin": null,
       "max_height": null,
       "max_width": null,
       "min_height": null,
       "min_width": null,
       "object_fit": null,
       "object_position": null,
       "order": null,
       "overflow": null,
       "overflow_x": null,
       "overflow_y": null,
       "padding": null,
       "right": null,
       "top": null,
       "visibility": null,
       "width": null
      }
     },
     "2b29d70acaa54e6ab13b7a8fcb16023d": {
      "model_module": "@jupyter-widgets/controls",
      "model_module_version": "1.5.0",
      "model_name": "HTMLModel",
      "state": {
       "_dom_classes": [],
       "_model_module": "@jupyter-widgets/controls",
       "_model_module_version": "1.5.0",
       "_model_name": "HTMLModel",
       "_view_count": null,
       "_view_module": "@jupyter-widgets/controls",
       "_view_module_version": "1.5.0",
       "_view_name": "HTMLView",
       "description": "",
       "description_tooltip": null,
       "layout": "IPY_MODEL_e12fd8592c174e6da095cb997aa1c509",
       "placeholder": "​",
       "style": "IPY_MODEL_bd441002c7c24bb7a08855b293954b89",
       "value": " 346M/346M [00:02&lt;00:00, 203MB/s]"
      }
     },
     "2bc1a22d37b84e2fb687cfb0a121cbcc": {
      "model_module": "@jupyter-widgets/base",
      "model_module_version": "1.2.0",
      "model_name": "LayoutModel",
      "state": {
       "_model_module": "@jupyter-widgets/base",
       "_model_module_version": "1.2.0",
       "_model_name": "LayoutModel",
       "_view_count": null,
       "_view_module": "@jupyter-widgets/base",
       "_view_module_version": "1.2.0",
       "_view_name": "LayoutView",
       "align_content": null,
       "align_items": null,
       "align_self": null,
       "border": null,
       "bottom": null,
       "display": null,
       "flex": null,
       "flex_flow": null,
       "grid_area": null,
       "grid_auto_columns": null,
       "grid_auto_flow": null,
       "grid_auto_rows": null,
       "grid_column": null,
       "grid_gap": null,
       "grid_row": null,
       "grid_template_areas": null,
       "grid_template_columns": null,
       "grid_template_rows": null,
       "height": null,
       "justify_content": null,
       "justify_items": null,
       "left": null,
       "margin": null,
       "max_height": null,
       "max_width": null,
       "min_height": null,
       "min_width": null,
       "object_fit": null,
       "object_position": null,
       "order": null,
       "overflow": null,
       "overflow_x": null,
       "overflow_y": null,
       "padding": null,
       "right": null,
       "top": null,
       "visibility": null,
       "width": null
      }
     },
     "3d650c277a6742c795f901998a820d48": {
      "model_module": "@jupyter-widgets/controls",
      "model_module_version": "1.5.0",
      "model_name": "HBoxModel",
      "state": {
       "_dom_classes": [],
       "_model_module": "@jupyter-widgets/controls",
       "_model_module_version": "1.5.0",
       "_model_name": "HBoxModel",
       "_view_count": null,
       "_view_module": "@jupyter-widgets/controls",
       "_view_module_version": "1.5.0",
       "_view_name": "HBoxView",
       "box_style": "",
       "children": [
        "IPY_MODEL_c3c399a1e67d44d2b3c8267d8c256d24",
        "IPY_MODEL_122464285b464cb59397984537330041",
        "IPY_MODEL_03efb9419e094d34a4c810d268854d9b"
       ],
       "layout": "IPY_MODEL_e69c47153212438d83e8ef9fb551a313"
      }
     },
     "3f3fa62986f04abea93d5f40ed869033": {
      "model_module": "@jupyter-widgets/base",
      "model_module_version": "1.2.0",
      "model_name": "LayoutModel",
      "state": {
       "_model_module": "@jupyter-widgets/base",
       "_model_module_version": "1.2.0",
       "_model_name": "LayoutModel",
       "_view_count": null,
       "_view_module": "@jupyter-widgets/base",
       "_view_module_version": "1.2.0",
       "_view_name": "LayoutView",
       "align_content": null,
       "align_items": null,
       "align_self": null,
       "border": null,
       "bottom": null,
       "display": null,
       "flex": null,
       "flex_flow": null,
       "grid_area": null,
       "grid_auto_columns": null,
       "grid_auto_flow": null,
       "grid_auto_rows": null,
       "grid_column": null,
       "grid_gap": null,
       "grid_row": null,
       "grid_template_areas": null,
       "grid_template_columns": null,
       "grid_template_rows": null,
       "height": null,
       "justify_content": null,
       "justify_items": null,
       "left": null,
       "margin": null,
       "max_height": null,
       "max_width": null,
       "min_height": null,
       "min_width": null,
       "object_fit": null,
       "object_position": null,
       "order": null,
       "overflow": null,
       "overflow_x": null,
       "overflow_y": null,
       "padding": null,
       "right": null,
       "top": null,
       "visibility": null,
       "width": null
      }
     },
     "53350f46aa194662b0801dd4b86d627a": {
      "model_module": "@jupyter-widgets/controls",
      "model_module_version": "1.5.0",
      "model_name": "DescriptionStyleModel",
      "state": {
       "_model_module": "@jupyter-widgets/controls",
       "_model_module_version": "1.5.0",
       "_model_name": "DescriptionStyleModel",
       "_view_count": null,
       "_view_module": "@jupyter-widgets/base",
       "_view_module_version": "1.2.0",
       "_view_name": "StyleView",
       "description_width": ""
      }
     },
     "595cfc33a40c47678d97abe5927e185c": {
      "model_module": "@jupyter-widgets/controls",
      "model_module_version": "1.5.0",
      "model_name": "HTMLModel",
      "state": {
       "_dom_classes": [],
       "_model_module": "@jupyter-widgets/controls",
       "_model_module_version": "1.5.0",
       "_model_name": "HTMLModel",
       "_view_count": null,
       "_view_module": "@jupyter-widgets/controls",
       "_view_module_version": "1.5.0",
       "_view_name": "HTMLView",
       "description": "",
       "description_tooltip": null,
       "layout": "IPY_MODEL_7513c9ca91d141efae5dc293ea175c73",
       "placeholder": "​",
       "style": "IPY_MODEL_ab06375928464cad851f292215e27a4b",
       "value": "model.safetensors: 100%"
      }
     },
     "67e6caadb6204fb28c669d62eb796cb3": {
      "model_module": "@jupyter-widgets/controls",
      "model_module_version": "1.5.0",
      "model_name": "HBoxModel",
      "state": {
       "_dom_classes": [],
       "_model_module": "@jupyter-widgets/controls",
       "_model_module_version": "1.5.0",
       "_model_name": "HBoxModel",
       "_view_count": null,
       "_view_module": "@jupyter-widgets/controls",
       "_view_module_version": "1.5.0",
       "_view_name": "HBoxView",
       "box_style": "",
       "children": [
        "IPY_MODEL_595cfc33a40c47678d97abe5927e185c",
        "IPY_MODEL_8bf5977afaa246628bbd53f43bdcc39a",
        "IPY_MODEL_2b29d70acaa54e6ab13b7a8fcb16023d"
       ],
       "layout": "IPY_MODEL_3f3fa62986f04abea93d5f40ed869033"
      }
     },
     "6e15000e5d6d41ef9ecfcd13487fa82e": {
      "model_module": "@jupyter-widgets/base",
      "model_module_version": "1.2.0",
      "model_name": "LayoutModel",
      "state": {
       "_model_module": "@jupyter-widgets/base",
       "_model_module_version": "1.2.0",
       "_model_name": "LayoutModel",
       "_view_count": null,
       "_view_module": "@jupyter-widgets/base",
       "_view_module_version": "1.2.0",
       "_view_name": "LayoutView",
       "align_content": null,
       "align_items": null,
       "align_self": null,
       "border": null,
       "bottom": null,
       "display": null,
       "flex": null,
       "flex_flow": null,
       "grid_area": null,
       "grid_auto_columns": null,
       "grid_auto_flow": null,
       "grid_auto_rows": null,
       "grid_column": null,
       "grid_gap": null,
       "grid_row": null,
       "grid_template_areas": null,
       "grid_template_columns": null,
       "grid_template_rows": null,
       "height": null,
       "justify_content": null,
       "justify_items": null,
       "left": null,
       "margin": null,
       "max_height": null,
       "max_width": null,
       "min_height": null,
       "min_width": null,
       "object_fit": null,
       "object_position": null,
       "order": null,
       "overflow": null,
       "overflow_x": null,
       "overflow_y": null,
       "padding": null,
       "right": null,
       "top": null,
       "visibility": null,
       "width": null
      }
     },
     "73cf6bbb71ae413d800980dcd488e5d4": {
      "model_module": "@jupyter-widgets/controls",
      "model_module_version": "1.5.0",
      "model_name": "HBoxModel",
      "state": {
       "_dom_classes": [],
       "_model_module": "@jupyter-widgets/controls",
       "_model_module_version": "1.5.0",
       "_model_name": "HBoxModel",
       "_view_count": null,
       "_view_module": "@jupyter-widgets/controls",
       "_view_module_version": "1.5.0",
       "_view_name": "HBoxView",
       "box_style": "",
       "children": [
        "IPY_MODEL_c88deb2b549747df89f2e6c095a5bc30",
        "IPY_MODEL_084bf0b7a94249a9bd276e2f8cbc69bc",
        "IPY_MODEL_79c6ce8adc2e4d4a80bc93a918242f0b"
       ],
       "layout": "IPY_MODEL_0743dbeeefcb4e9b93118c502489ae48"
      }
     },
     "7513c9ca91d141efae5dc293ea175c73": {
      "model_module": "@jupyter-widgets/base",
      "model_module_version": "1.2.0",
      "model_name": "LayoutModel",
      "state": {
       "_model_module": "@jupyter-widgets/base",
       "_model_module_version": "1.2.0",
       "_model_name": "LayoutModel",
       "_view_count": null,
       "_view_module": "@jupyter-widgets/base",
       "_view_module_version": "1.2.0",
       "_view_name": "LayoutView",
       "align_content": null,
       "align_items": null,
       "align_self": null,
       "border": null,
       "bottom": null,
       "display": null,
       "flex": null,
       "flex_flow": null,
       "grid_area": null,
       "grid_auto_columns": null,
       "grid_auto_flow": null,
       "grid_auto_rows": null,
       "grid_column": null,
       "grid_gap": null,
       "grid_row": null,
       "grid_template_areas": null,
       "grid_template_columns": null,
       "grid_template_rows": null,
       "height": null,
       "justify_content": null,
       "justify_items": null,
       "left": null,
       "margin": null,
       "max_height": null,
       "max_width": null,
       "min_height": null,
       "min_width": null,
       "object_fit": null,
       "object_position": null,
       "order": null,
       "overflow": null,
       "overflow_x": null,
       "overflow_y": null,
       "padding": null,
       "right": null,
       "top": null,
       "visibility": null,
       "width": null
      }
     },
     "79c6ce8adc2e4d4a80bc93a918242f0b": {
      "model_module": "@jupyter-widgets/controls",
      "model_module_version": "1.5.0",
      "model_name": "HTMLModel",
      "state": {
       "_dom_classes": [],
       "_model_module": "@jupyter-widgets/controls",
       "_model_module_version": "1.5.0",
       "_model_name": "HTMLModel",
       "_view_count": null,
       "_view_module": "@jupyter-widgets/controls",
       "_view_module_version": "1.5.0",
       "_view_name": "HTMLView",
       "description": "",
       "description_tooltip": null,
       "layout": "IPY_MODEL_e2446dc553cf41ef89eaade02dd60800",
       "placeholder": "​",
       "style": "IPY_MODEL_53350f46aa194662b0801dd4b86d627a",
       "value": " 69.7k/69.7k [00:00&lt;00:00, 3.34MB/s]"
      }
     },
     "8821a380ddf2497db049f137336d63aa": {
      "model_module": "@jupyter-widgets/controls",
      "model_module_version": "1.5.0",
      "model_name": "ProgressStyleModel",
      "state": {
       "_model_module": "@jupyter-widgets/controls",
       "_model_module_version": "1.5.0",
       "_model_name": "ProgressStyleModel",
       "_view_count": null,
       "_view_module": "@jupyter-widgets/base",
       "_view_module_version": "1.2.0",
       "_view_name": "StyleView",
       "bar_color": null,
       "description_width": ""
      }
     },
     "8bf5977afaa246628bbd53f43bdcc39a": {
      "model_module": "@jupyter-widgets/controls",
      "model_module_version": "1.5.0",
      "model_name": "FloatProgressModel",
      "state": {
       "_dom_classes": [],
       "_model_module": "@jupyter-widgets/controls",
       "_model_module_version": "1.5.0",
       "_model_name": "FloatProgressModel",
       "_view_count": null,
       "_view_module": "@jupyter-widgets/controls",
       "_view_module_version": "1.5.0",
       "_view_name": "ProgressView",
       "bar_style": "success",
       "description": "",
       "description_tooltip": null,
       "layout": "IPY_MODEL_6e15000e5d6d41ef9ecfcd13487fa82e",
       "max": 346293852,
       "min": 0,
       "orientation": "horizontal",
       "style": "IPY_MODEL_8821a380ddf2497db049f137336d63aa",
       "value": 346293852
      }
     },
     "9c9efa1528694939b15687db876205ec": {
      "model_module": "@jupyter-widgets/base",
      "model_module_version": "1.2.0",
      "model_name": "LayoutModel",
      "state": {
       "_model_module": "@jupyter-widgets/base",
       "_model_module_version": "1.2.0",
       "_model_name": "LayoutModel",
       "_view_count": null,
       "_view_module": "@jupyter-widgets/base",
       "_view_module_version": "1.2.0",
       "_view_name": "LayoutView",
       "align_content": null,
       "align_items": null,
       "align_self": null,
       "border": null,
       "bottom": null,
       "display": null,
       "flex": null,
       "flex_flow": null,
       "grid_area": null,
       "grid_auto_columns": null,
       "grid_auto_flow": null,
       "grid_auto_rows": null,
       "grid_column": null,
       "grid_gap": null,
       "grid_row": null,
       "grid_template_areas": null,
       "grid_template_columns": null,
       "grid_template_rows": null,
       "height": null,
       "justify_content": null,
       "justify_items": null,
       "left": null,
       "margin": null,
       "max_height": null,
       "max_width": null,
       "min_height": null,
       "min_width": null,
       "object_fit": null,
       "object_position": null,
       "order": null,
       "overflow": null,
       "overflow_x": null,
       "overflow_y": null,
       "padding": null,
       "right": null,
       "top": null,
       "visibility": null,
       "width": null
      }
     },
     "9fbf5cf8ab3e4654886963415c7383c0": {
      "model_module": "@jupyter-widgets/controls",
      "model_module_version": "1.5.0",
      "model_name": "ProgressStyleModel",
      "state": {
       "_model_module": "@jupyter-widgets/controls",
       "_model_module_version": "1.5.0",
       "_model_name": "ProgressStyleModel",
       "_view_count": null,
       "_view_module": "@jupyter-widgets/base",
       "_view_module_version": "1.2.0",
       "_view_name": "StyleView",
       "bar_color": null,
       "description_width": ""
      }
     },
     "ab06375928464cad851f292215e27a4b": {
      "model_module": "@jupyter-widgets/controls",
      "model_module_version": "1.5.0",
      "model_name": "DescriptionStyleModel",
      "state": {
       "_model_module": "@jupyter-widgets/controls",
       "_model_module_version": "1.5.0",
       "_model_name": "DescriptionStyleModel",
       "_view_count": null,
       "_view_module": "@jupyter-widgets/base",
       "_view_module_version": "1.2.0",
       "_view_name": "StyleView",
       "description_width": ""
      }
     },
     "b0b1f65ae7264e309ab5c729b2981579": {
      "model_module": "@jupyter-widgets/controls",
      "model_module_version": "1.5.0",
      "model_name": "DescriptionStyleModel",
      "state": {
       "_model_module": "@jupyter-widgets/controls",
       "_model_module_version": "1.5.0",
       "_model_name": "DescriptionStyleModel",
       "_view_count": null,
       "_view_module": "@jupyter-widgets/base",
       "_view_module_version": "1.2.0",
       "_view_name": "StyleView",
       "description_width": ""
      }
     },
     "b2281bb7fc2f42168ffadd15f89717c5": {
      "model_module": "@jupyter-widgets/controls",
      "model_module_version": "1.5.0",
      "model_name": "DescriptionStyleModel",
      "state": {
       "_model_module": "@jupyter-widgets/controls",
       "_model_module_version": "1.5.0",
       "_model_name": "DescriptionStyleModel",
       "_view_count": null,
       "_view_module": "@jupyter-widgets/base",
       "_view_module_version": "1.2.0",
       "_view_name": "StyleView",
       "description_width": ""
      }
     },
     "bd441002c7c24bb7a08855b293954b89": {
      "model_module": "@jupyter-widgets/controls",
      "model_module_version": "1.5.0",
      "model_name": "DescriptionStyleModel",
      "state": {
       "_model_module": "@jupyter-widgets/controls",
       "_model_module_version": "1.5.0",
       "_model_name": "DescriptionStyleModel",
       "_view_count": null,
       "_view_module": "@jupyter-widgets/base",
       "_view_module_version": "1.2.0",
       "_view_name": "StyleView",
       "description_width": ""
      }
     },
     "c3c399a1e67d44d2b3c8267d8c256d24": {
      "model_module": "@jupyter-widgets/controls",
      "model_module_version": "1.5.0",
      "model_name": "HTMLModel",
      "state": {
       "_dom_classes": [],
       "_model_module": "@jupyter-widgets/controls",
       "_model_module_version": "1.5.0",
       "_model_name": "HTMLModel",
       "_view_count": null,
       "_view_module": "@jupyter-widgets/controls",
       "_view_module_version": "1.5.0",
       "_view_name": "HTMLView",
       "description": "",
       "description_tooltip": null,
       "layout": "IPY_MODEL_12ec5e4b3e7d424c89cbcfe450f28f58",
       "placeholder": "​",
       "style": "IPY_MODEL_d62386d18376405383634ee1d7250f27",
       "value": "preprocessor_config.json: 100%"
      }
     },
     "c88deb2b549747df89f2e6c095a5bc30": {
      "model_module": "@jupyter-widgets/controls",
      "model_module_version": "1.5.0",
      "model_name": "HTMLModel",
      "state": {
       "_dom_classes": [],
       "_model_module": "@jupyter-widgets/controls",
       "_model_module_version": "1.5.0",
       "_model_name": "HTMLModel",
       "_view_count": null,
       "_view_module": "@jupyter-widgets/controls",
       "_view_module_version": "1.5.0",
       "_view_name": "HTMLView",
       "description": "",
       "description_tooltip": null,
       "layout": "IPY_MODEL_1f888f310e224104b0e0582a808be5b5",
       "placeholder": "​",
       "style": "IPY_MODEL_b2281bb7fc2f42168ffadd15f89717c5",
       "value": "config.json: 100%"
      }
     },
     "d62386d18376405383634ee1d7250f27": {
      "model_module": "@jupyter-widgets/controls",
      "model_module_version": "1.5.0",
      "model_name": "DescriptionStyleModel",
      "state": {
       "_model_module": "@jupyter-widgets/controls",
       "_model_module_version": "1.5.0",
       "_model_name": "DescriptionStyleModel",
       "_view_count": null,
       "_view_module": "@jupyter-widgets/base",
       "_view_module_version": "1.2.0",
       "_view_name": "StyleView",
       "description_width": ""
      }
     },
     "e0dccb5c01ef4fed89d94dffd715cb7f": {
      "model_module": "@jupyter-widgets/controls",
      "model_module_version": "1.5.0",
      "model_name": "ProgressStyleModel",
      "state": {
       "_model_module": "@jupyter-widgets/controls",
       "_model_module_version": "1.5.0",
       "_model_name": "ProgressStyleModel",
       "_view_count": null,
       "_view_module": "@jupyter-widgets/base",
       "_view_module_version": "1.2.0",
       "_view_name": "StyleView",
       "bar_color": null,
       "description_width": ""
      }
     },
     "e12fd8592c174e6da095cb997aa1c509": {
      "model_module": "@jupyter-widgets/base",
      "model_module_version": "1.2.0",
      "model_name": "LayoutModel",
      "state": {
       "_model_module": "@jupyter-widgets/base",
       "_model_module_version": "1.2.0",
       "_model_name": "LayoutModel",
       "_view_count": null,
       "_view_module": "@jupyter-widgets/base",
       "_view_module_version": "1.2.0",
       "_view_name": "LayoutView",
       "align_content": null,
       "align_items": null,
       "align_self": null,
       "border": null,
       "bottom": null,
       "display": null,
       "flex": null,
       "flex_flow": null,
       "grid_area": null,
       "grid_auto_columns": null,
       "grid_auto_flow": null,
       "grid_auto_rows": null,
       "grid_column": null,
       "grid_gap": null,
       "grid_row": null,
       "grid_template_areas": null,
       "grid_template_columns": null,
       "grid_template_rows": null,
       "height": null,
       "justify_content": null,
       "justify_items": null,
       "left": null,
       "margin": null,
       "max_height": null,
       "max_width": null,
       "min_height": null,
       "min_width": null,
       "object_fit": null,
       "object_position": null,
       "order": null,
       "overflow": null,
       "overflow_x": null,
       "overflow_y": null,
       "padding": null,
       "right": null,
       "top": null,
       "visibility": null,
       "width": null
      }
     },
     "e2446dc553cf41ef89eaade02dd60800": {
      "model_module": "@jupyter-widgets/base",
      "model_module_version": "1.2.0",
      "model_name": "LayoutModel",
      "state": {
       "_model_module": "@jupyter-widgets/base",
       "_model_module_version": "1.2.0",
       "_model_name": "LayoutModel",
       "_view_count": null,
       "_view_module": "@jupyter-widgets/base",
       "_view_module_version": "1.2.0",
       "_view_name": "LayoutView",
       "align_content": null,
       "align_items": null,
       "align_self": null,
       "border": null,
       "bottom": null,
       "display": null,
       "flex": null,
       "flex_flow": null,
       "grid_area": null,
       "grid_auto_columns": null,
       "grid_auto_flow": null,
       "grid_auto_rows": null,
       "grid_column": null,
       "grid_gap": null,
       "grid_row": null,
       "grid_template_areas": null,
       "grid_template_columns": null,
       "grid_template_rows": null,
       "height": null,
       "justify_content": null,
       "justify_items": null,
       "left": null,
       "margin": null,
       "max_height": null,
       "max_width": null,
       "min_height": null,
       "min_width": null,
       "object_fit": null,
       "object_position": null,
       "order": null,
       "overflow": null,
       "overflow_x": null,
       "overflow_y": null,
       "padding": null,
       "right": null,
       "top": null,
       "visibility": null,
       "width": null
      }
     },
     "e69c47153212438d83e8ef9fb551a313": {
      "model_module": "@jupyter-widgets/base",
      "model_module_version": "1.2.0",
      "model_name": "LayoutModel",
      "state": {
       "_model_module": "@jupyter-widgets/base",
       "_model_module_version": "1.2.0",
       "_model_name": "LayoutModel",
       "_view_count": null,
       "_view_module": "@jupyter-widgets/base",
       "_view_module_version": "1.2.0",
       "_view_name": "LayoutView",
       "align_content": null,
       "align_items": null,
       "align_self": null,
       "border": null,
       "bottom": null,
       "display": null,
       "flex": null,
       "flex_flow": null,
       "grid_area": null,
       "grid_auto_columns": null,
       "grid_auto_flow": null,
       "grid_auto_rows": null,
       "grid_column": null,
       "grid_gap": null,
       "grid_row": null,
       "grid_template_areas": null,
       "grid_template_columns": null,
       "grid_template_rows": null,
       "height": null,
       "justify_content": null,
       "justify_items": null,
       "left": null,
       "margin": null,
       "max_height": null,
       "max_width": null,
       "min_height": null,
       "min_width": null,
       "object_fit": null,
       "object_position": null,
       "order": null,
       "overflow": null,
       "overflow_x": null,
       "overflow_y": null,
       "padding": null,
       "right": null,
       "top": null,
       "visibility": null,
       "width": null
      }
     }
    },
    "version_major": 2,
    "version_minor": 0
   }
  }
 },
 "nbformat": 4,
 "nbformat_minor": 5
}
