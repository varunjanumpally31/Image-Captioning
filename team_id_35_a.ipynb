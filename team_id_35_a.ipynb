{
 "cells": [
  {
   "cell_type": "markdown",
   "id": "217b8441",
   "metadata": {
    "papermill": {
     "duration": 0.005086,
     "end_time": "2024-04-16T21:33:56.508422",
     "exception": false,
     "start_time": "2024-04-16T21:33:56.503336",
     "status": "completed"
    },
    "tags": []
   },
   "source": [
    "# **Building Image Captioning Model using CNN Encoder and RNN Decoder**"
   ]
  },
  {
   "cell_type": "markdown",
   "id": "d97354d4",
   "metadata": {
    "papermill": {
     "duration": 0.00452,
     "end_time": "2024-04-16T21:33:56.517753",
     "exception": false,
     "start_time": "2024-04-16T21:33:56.513233",
     "status": "completed"
    },
    "tags": []
   },
   "source": [
    "# Importing all the libraries"
   ]
  },
  {
   "cell_type": "code",
   "execution_count": 1,
   "id": "38471188",
   "metadata": {
    "execution": {
     "iopub.execute_input": "2024-04-16T21:33:56.527981Z",
     "iopub.status.busy": "2024-04-16T21:33:56.527700Z",
     "iopub.status.idle": "2024-04-16T21:34:23.396573Z",
     "shell.execute_reply": "2024-04-16T21:34:23.395500Z"
    },
    "papermill": {
     "duration": 26.876759,
     "end_time": "2024-04-16T21:34:23.399076",
     "exception": false,
     "start_time": "2024-04-16T21:33:56.522317",
     "status": "completed"
    },
    "tags": []
   },
   "outputs": [
    {
     "name": "stdout",
     "output_type": "stream",
     "text": [
      "Collecting git+https://github.com/salaniz/pycocoevalcap\r\n",
      "  Cloning https://github.com/salaniz/pycocoevalcap to /tmp/pip-req-build-zndykp1w\r\n",
      "  Running command git clone --filter=blob:none --quiet https://github.com/salaniz/pycocoevalcap /tmp/pip-req-build-zndykp1w\r\n",
      "  Resolved https://github.com/salaniz/pycocoevalcap to commit a24f74c408c918f1f4ec34e9514bc8a76ce41ffd\r\n",
      "  Preparing metadata (setup.py) ... \u001b[?25ldone\r\n",
      "\u001b[?25hCollecting pycocotools>=2.0.2 (from pycocoevalcap==1.2)\r\n",
      "  Downloading pycocotools-2.0.7-cp310-cp310-manylinux_2_17_x86_64.manylinux2014_x86_64.whl.metadata (1.1 kB)\r\n",
      "Requirement already satisfied: matplotlib>=2.1.0 in /opt/conda/lib/python3.10/site-packages (from pycocotools>=2.0.2->pycocoevalcap==1.2) (3.7.5)\r\n",
      "Requirement already satisfied: numpy in /opt/conda/lib/python3.10/site-packages (from pycocotools>=2.0.2->pycocoevalcap==1.2) (1.26.4)\r\n",
      "Requirement already satisfied: contourpy>=1.0.1 in /opt/conda/lib/python3.10/site-packages (from matplotlib>=2.1.0->pycocotools>=2.0.2->pycocoevalcap==1.2) (1.2.0)\r\n",
      "Requirement already satisfied: cycler>=0.10 in /opt/conda/lib/python3.10/site-packages (from matplotlib>=2.1.0->pycocotools>=2.0.2->pycocoevalcap==1.2) (0.12.1)\r\n",
      "Requirement already satisfied: fonttools>=4.22.0 in /opt/conda/lib/python3.10/site-packages (from matplotlib>=2.1.0->pycocotools>=2.0.2->pycocoevalcap==1.2) (4.47.0)\r\n",
      "Requirement already satisfied: kiwisolver>=1.0.1 in /opt/conda/lib/python3.10/site-packages (from matplotlib>=2.1.0->pycocotools>=2.0.2->pycocoevalcap==1.2) (1.4.5)\r\n",
      "Requirement already satisfied: packaging>=20.0 in /opt/conda/lib/python3.10/site-packages (from matplotlib>=2.1.0->pycocotools>=2.0.2->pycocoevalcap==1.2) (21.3)\r\n",
      "Requirement already satisfied: pillow>=6.2.0 in /opt/conda/lib/python3.10/site-packages (from matplotlib>=2.1.0->pycocotools>=2.0.2->pycocoevalcap==1.2) (9.5.0)\r\n",
      "Requirement already satisfied: pyparsing>=2.3.1 in /opt/conda/lib/python3.10/site-packages (from matplotlib>=2.1.0->pycocotools>=2.0.2->pycocoevalcap==1.2) (3.1.1)\r\n",
      "Requirement already satisfied: python-dateutil>=2.7 in /opt/conda/lib/python3.10/site-packages (from matplotlib>=2.1.0->pycocotools>=2.0.2->pycocoevalcap==1.2) (2.9.0.post0)\r\n",
      "Requirement already satisfied: six>=1.5 in /opt/conda/lib/python3.10/site-packages (from python-dateutil>=2.7->matplotlib>=2.1.0->pycocotools>=2.0.2->pycocoevalcap==1.2) (1.16.0)\r\n",
      "Downloading pycocotools-2.0.7-cp310-cp310-manylinux_2_17_x86_64.manylinux2014_x86_64.whl (426 kB)\r\n",
      "\u001b[2K   \u001b[90m━━━━━━━━━━━━━━━━━━━━━━━━━━━━━━━━━━━━━━━━\u001b[0m \u001b[32m426.2/426.2 kB\u001b[0m \u001b[31m2.8 MB/s\u001b[0m eta \u001b[36m0:00:00\u001b[0m\r\n",
      "\u001b[?25hBuilding wheels for collected packages: pycocoevalcap\r\n",
      "  Building wheel for pycocoevalcap (setup.py) ... \u001b[?25l-\b \bdone\r\n",
      "\u001b[?25h  Created wheel for pycocoevalcap: filename=pycocoevalcap-1.2-py3-none-any.whl size=104312245 sha256=02c1467a2508769f3037123c8a7141a7e84f2621b6adf2fef588b4221b88f113\r\n",
      "  Stored in directory: /tmp/pip-ephem-wheel-cache-t0sex1om/wheels/43/54/73/3e2c6d4ace7657958cde52ac6fd47b342cd4aae5a7aa4fcbf9\r\n",
      "Successfully built pycocoevalcap\r\n",
      "Installing collected packages: pycocotools, pycocoevalcap\r\n",
      "Successfully installed pycocoevalcap-1.2 pycocotools-2.0.7\r\n"
     ]
    }
   ],
   "source": [
    "#installing pycocoevalcap from github for CIDEr and ROUGE-L metrics\n",
    "!pip install git+https://github.com/salaniz/pycocoevalcap"
   ]
  },
  {
   "cell_type": "code",
   "execution_count": 2,
   "id": "f2ce226a",
   "metadata": {
    "_cell_guid": "b1076dfc-b9ad-4769-8c92-a6c4dae69d19",
    "_uuid": "8f2839f25d086af736a60e9eeb907d3b93b6e0e5",
    "execution": {
     "iopub.execute_input": "2024-04-16T21:34:23.413291Z",
     "iopub.status.busy": "2024-04-16T21:34:23.412963Z",
     "iopub.status.idle": "2024-04-16T21:34:36.542384Z",
     "shell.execute_reply": "2024-04-16T21:34:36.541181Z"
    },
    "papermill": {
     "duration": 13.139665,
     "end_time": "2024-04-16T21:34:36.545240",
     "exception": false,
     "start_time": "2024-04-16T21:34:23.405575",
     "status": "completed"
    },
    "tags": []
   },
   "outputs": [],
   "source": [
    "import numpy as np\n",
    "import pandas as pd\n",
    "import torch\n",
    "import torch.nn as nn\n",
    "from torchvision import models\n",
    "import os\n",
    "import pandas as pd\n",
    "import spacy\n",
    "from torch.nn.utils.rnn import pad_sequence\n",
    "from torch.utils.data import DataLoader, Dataset\n",
    "from PIL import Image\n",
    "import torchvision.transforms as transforms\n",
    "import torch.optim as optim\n",
    "import statistics\n",
    "from tqdm import tqdm\n",
    "import pycocoevalcap\n",
    "from pycocoevalcap.rouge.rouge import Rouge\n",
    "from pycocoevalcap.cider.cider import Cider\n",
    "from torchmetrics.text import BLEUScore"
   ]
  },
  {
   "cell_type": "code",
   "execution_count": 3,
   "id": "56c16273",
   "metadata": {
    "execution": {
     "iopub.execute_input": "2024-04-16T21:34:36.568159Z",
     "iopub.status.busy": "2024-04-16T21:34:36.567637Z",
     "iopub.status.idle": "2024-04-16T21:34:36.572053Z",
     "shell.execute_reply": "2024-04-16T21:34:36.571186Z"
    },
    "papermill": {
     "duration": 0.017154,
     "end_time": "2024-04-16T21:34:36.573882",
     "exception": false,
     "start_time": "2024-04-16T21:34:36.556728",
     "status": "completed"
    },
    "tags": []
   },
   "outputs": [],
   "source": [
    "import warnings\n",
    "warnings.filterwarnings(\"ignore\")"
   ]
  },
  {
   "cell_type": "markdown",
   "id": "32163ad6",
   "metadata": {
    "papermill": {
     "duration": 0.006946,
     "end_time": "2024-04-16T21:34:36.586683",
     "exception": false,
     "start_time": "2024-04-16T21:34:36.579737",
     "status": "completed"
    },
    "tags": []
   },
   "source": [
    "# Data Preprocessing and Data Loading"
   ]
  },
  {
   "cell_type": "code",
   "execution_count": 4,
   "id": "775937ff",
   "metadata": {
    "execution": {
     "iopub.execute_input": "2024-04-16T21:34:36.599870Z",
     "iopub.status.busy": "2024-04-16T21:34:36.599373Z",
     "iopub.status.idle": "2024-04-16T21:34:37.789558Z",
     "shell.execute_reply": "2024-04-16T21:34:37.788744Z"
    },
    "papermill": {
     "duration": 1.199277,
     "end_time": "2024-04-16T21:34:37.791908",
     "exception": false,
     "start_time": "2024-04-16T21:34:36.592631",
     "status": "completed"
    },
    "tags": []
   },
   "outputs": [],
   "source": [
    "spacy_eng = spacy.load(\"en_core_web_sm\")\n",
    "\n",
    "class vocabularry:\n",
    "    def __init__(self, fr_th):\n",
    "        self.int_to_str = {0: \"<PAD>\", 1: \"<SOS>\", 2: \"<EOS>\", 3: \"<UNK>\"}\n",
    "        self.str_to_int = {\"<PAD>\": 0, \"<SOS>\": 1, \"<EOS>\": 2, \"<UNK>\": 3}\n",
    "        self.fr_th = fr_th\n",
    "\n",
    "    def __len__(self):\n",
    "        return len(self.int_to_str)\n",
    "\n",
    "    @staticmethod\n",
    "    def tok_eng(text):\n",
    "        return [tok.text.lower() for tok in spacy_eng.tokenizer(text)]\n",
    "\n",
    "    def build_vocabularry(self, sen_lst):\n",
    "        frequ = {}\n",
    "        idx = 4\n",
    "\n",
    "        for sent in sen_lst:\n",
    "            for word in self.tok_eng(sent):\n",
    "                if word not in frequ:\n",
    "                    frequ[word] = 1\n",
    "\n",
    "                else:\n",
    "                    frequ[word] += 1\n",
    "\n",
    "                if frequ[word] == self.fr_th:\n",
    "                    self.str_to_int[word] = idx\n",
    "                    self.int_to_str[idx] = word\n",
    "                    idx += 1\n",
    "\n",
    "    def numriclise(self, text):\n",
    "        tokenized_text = self.tok_eng(text)\n",
    "\n",
    "        return [\n",
    "            self.str_to_int[token] if token in self.str_to_int else self.str_to_int[\"<UNK>\"]\n",
    "            for token in tokenized_text\n",
    "        ]\n",
    "\n",
    "\n",
    "class ImgCapDataset(Dataset):\n",
    "    def __init__(self, root_dir, cap_file, trans=None, fr_th=5):\n",
    "        self.root_dir = root_dir\n",
    "        self.df = pd.read_csv(cap_file)\n",
    "        self.trans = trans\n",
    "        self.imgs = self.df[\"filename\"]\n",
    "        self.caps = self.df[\"caption\"]\n",
    "        self.vocab = vocabularry(fr_th)\n",
    "        self.vocab.build_vocabularry(self.caps.tolist())\n",
    "\n",
    "    def __len__(self):\n",
    "        return len(self.df)\n",
    "\n",
    "    def __getitem__(self, index):\n",
    "        cap = self.caps[index]\n",
    "        img_id = self.imgs[index]\n",
    "        img = Image.open(os.path.join(self.root_dir, img_id)).convert(\"RGB\")\n",
    "        if self.trans is not None:\n",
    "            img = self.trans(img)\n",
    "\n",
    "        numriclised_cap = [self.vocab.str_to_int[\"<SOS>\"]]\n",
    "        numriclised_cap += self.vocab.numriclise(cap)\n",
    "        numriclised_cap.append(self.vocab.str_to_int[\"<EOS>\"])\n",
    "\n",
    "        return img, torch.tensor(numriclised_cap), cap, img_id\n",
    "\n",
    "\n",
    "class mycoll:\n",
    "    def __init__(self, pad_idx):\n",
    "        self.pad_idx = pad_idx\n",
    "\n",
    "    def __call__(self, batch):\n",
    "        imgs = [item[0].unsqueeze(0) for item in batch]\n",
    "        imgs = torch.cat(imgs, dim=0)\n",
    "        targets = [item[1] for item in batch]\n",
    "        targets = pad_sequence(targets, batch_first=False, padding_value=self.pad_idx)\n",
    "        caps = [item[2] for item in batch]\n",
    "        img_ids = [item[3] for item in batch]\n",
    "        return imgs, targets, caps, img_ids\n",
    "\n",
    "\n",
    "def get_loamder(\n",
    "    root_folder,\n",
    "    annot_file,\n",
    "    trans,\n",
    "    batch_size=32,\n",
    "    num_workers=4,\n",
    "    shuffle=True,\n",
    "    pin_memory=True,\n",
    "):\n",
    "    dataset = ImgCapDataset(root_folder, annot_file, trans=trans)\n",
    "\n",
    "    pad_idx = dataset.vocab.str_to_int[\"<PAD>\"]\n",
    "\n",
    "    loamder = DataLoader(\n",
    "        dataset=dataset,\n",
    "        batch_size=batch_size,\n",
    "        num_workers=num_workers,\n",
    "        shuffle=shuffle,\n",
    "        pin_memory=pin_memory,\n",
    "        collate_fn=mycoll(pad_idx=pad_idx),\n",
    "    )\n",
    "\n",
    "    return loamder, dataset"
   ]
  },
  {
   "cell_type": "code",
   "execution_count": 5,
   "id": "72ac2507",
   "metadata": {
    "execution": {
     "iopub.execute_input": "2024-04-16T21:34:37.805153Z",
     "iopub.status.busy": "2024-04-16T21:34:37.804866Z",
     "iopub.status.idle": "2024-04-16T21:34:40.099284Z",
     "shell.execute_reply": "2024-04-16T21:34:40.098503Z"
    },
    "papermill": {
     "duration": 2.303554,
     "end_time": "2024-04-16T21:34:40.101584",
     "exception": false,
     "start_time": "2024-04-16T21:34:37.798030",
     "status": "completed"
    },
    "tags": []
   },
   "outputs": [],
   "source": [
    "# Transforms used for training data\n",
    "train_transform = transforms.Compose(\n",
    "    [\n",
    "        transforms.Resize((300, 300)),\n",
    "        transforms.RandomCrop((224, 224)),\n",
    "        transforms.ToTensor(),\n",
    "        transforms.Normalize(mean = [0.485, 0.456, 0.406], std = [0.229, 0.224, 0.225]),\n",
    "    ]\n",
    ")\n",
    "# Transforms used for testing data\n",
    "transform = transforms.Compose(\n",
    "    [\n",
    "        transforms.Resize((224, 224)),\n",
    "        transforms.ToTensor(),\n",
    "        transforms.Normalize(mean = [0.485, 0.456, 0.406], std = [0.229, 0.224, 0.225]),\n",
    "    ]\n",
    ")\n",
    "# Loading Datasets\n",
    "train_loamder, dataset = get_loamder(\n",
    "    root_folder=\"/kaggle/input/image-captioning/custom_captions_dataset/train\",\n",
    "    annot_file=\"/kaggle/input/image-captioning/custom_captions_dataset/train.csv\",\n",
    "    trans=train_transform,\n",
    "    num_workers=2,\n",
    ")\n",
    "\n",
    "val_loamder, val_dataset = get_loamder(root_folder=\"/kaggle/input/image-captioning/custom_captions_dataset/val\",\n",
    "    annot_file=\"/kaggle/input/image-captioning/custom_captions_dataset/val.csv\",\n",
    "    trans=transform,batch_size=1,shuffle=False,\n",
    "    num_workers=2,)\n",
    "\n",
    "test_loamder, test_dataset = get_loamder(root_folder=\"/kaggle/input/image-captioning/custom_captions_dataset/test\",\n",
    "    annot_file=\"/kaggle/input/image-captioning/custom_captions_dataset/test.csv\",\n",
    "    trans=transform,batch_size=1,shuffle=False,\n",
    "    num_workers=2,)"
   ]
  },
  {
   "cell_type": "markdown",
   "id": "5d62451d",
   "metadata": {
    "papermill": {
     "duration": 0.006328,
     "end_time": "2024-04-16T21:34:40.114529",
     "exception": false,
     "start_time": "2024-04-16T21:34:40.108201",
     "status": "completed"
    },
    "tags": []
   },
   "source": [
    "# Building the Image Captioning Model Class"
   ]
  },
  {
   "cell_type": "code",
   "execution_count": 6,
   "id": "1dbd5aa0",
   "metadata": {
    "execution": {
     "iopub.execute_input": "2024-04-16T21:34:40.129426Z",
     "iopub.status.busy": "2024-04-16T21:34:40.129069Z",
     "iopub.status.idle": "2024-04-16T21:34:40.145701Z",
     "shell.execute_reply": "2024-04-16T21:34:40.144632Z"
    },
    "papermill": {
     "duration": 0.026476,
     "end_time": "2024-04-16T21:34:40.147741",
     "exception": false,
     "start_time": "2024-04-16T21:34:40.121265",
     "status": "completed"
    },
    "tags": []
   },
   "outputs": [],
   "source": [
    "# Class Implementation of CNN based encoder for the Image Captioning model\n",
    "class image_encoder(nn.Module):\n",
    "    def __init__(self, emb_size):\n",
    "        super(image_encoder, self).__init__()\n",
    "        self.res_nett_50 = models.resnet50(weights='DEFAULT')\n",
    "        self.res_nett_50.fc = nn.Linear(self.res_nett_50.fc.in_features, emb_size)\n",
    "        self.RELUU = nn.ReLU()\n",
    "        self.dr = nn.Dropout(0.5)\n",
    "\n",
    "    def forward(self, imgs):\n",
    "        feat_encoderr = self.res_nett_50(imgs)\n",
    "        return self.dr(self.RELUU(feat_encoderr))\n",
    "\n",
    "# Class Implementation of RNN based decoder for the Image Captioning model\n",
    "class cap_decoder(nn.Module):\n",
    "    def __init__(self, emb_size, hid_size, voc_size, num_layers):\n",
    "        super(cap_decoder, self).__init__()\n",
    "        self.emb = nn.Embedding(voc_size, emb_size)\n",
    "        self.lstm = nn.LSTM(emb_size, hid_size, num_layers)\n",
    "        self.linear = nn.Linear(hid_size, voc_size)\n",
    "        self.dr = nn.Dropout(0.5)\n",
    "\n",
    "    def forward(self, feat_encoderr, captions):\n",
    "        embeddings = self.dr(self.emb(captions))\n",
    "        embeddings = torch.cat((feat_encoderr.unsqueeze(0), embeddings), dim=0)\n",
    "        hid, _ = self.lstm(embeddings)\n",
    "        out = self.linear(hid)\n",
    "        return out\n",
    "\n",
    "# Class Implementation of Image Captioning model using image_encoder, cap_decoder classes\n",
    "class Image_Captioner(nn.Module):\n",
    "    def __init__(self, emb_size, hid_size, voc_size, num_layers):\n",
    "        super(Image_Captioner, self).__init__()\n",
    "        self.cap_encoder = image_encoder(emb_size)\n",
    "        self.cap_decoder = cap_decoder(emb_size, hid_size, voc_size, num_layers)\n",
    "\n",
    "    def forward(self, imgs, captions):\n",
    "        feat_encoderr = self.cap_encoder(imgs)\n",
    "        out = self.cap_decoder(feat_encoderr, captions)\n",
    "        return out\n",
    "\n",
    "    def cap_img(self, image, vocab, m_len=50):\n",
    "        res_cap = []\n",
    "\n",
    "        with torch.no_grad():\n",
    "            x = self.cap_encoder(image).unsqueeze(0)\n",
    "            sts = None\n",
    "\n",
    "            for _ in range(m_len):\n",
    "                hid, sts = self.cap_decoder.lstm(x, sts)\n",
    "                out = self.cap_decoder.linear(hid.squeeze(0))\n",
    "                predi = out.argmax(1)\n",
    "                res_cap.append(predi.item())\n",
    "                x = self.cap_decoder.emb(predi).unsqueeze(0)\n",
    "\n",
    "                if vocab.int_to_str[predi.item()] == \"<EOS>\":\n",
    "                    break\n",
    "\n",
    "        return [vocab.int_to_str[idx] for idx in res_cap]"
   ]
  },
  {
   "cell_type": "code",
   "execution_count": 7,
   "id": "eb97c6c6",
   "metadata": {
    "execution": {
     "iopub.execute_input": "2024-04-16T21:34:40.163262Z",
     "iopub.status.busy": "2024-04-16T21:34:40.161973Z",
     "iopub.status.idle": "2024-04-16T21:34:40.167056Z",
     "shell.execute_reply": "2024-04-16T21:34:40.166109Z"
    },
    "papermill": {
     "duration": 0.0146,
     "end_time": "2024-04-16T21:34:40.169192",
     "exception": false,
     "start_time": "2024-04-16T21:34:40.154592",
     "status": "completed"
    },
    "tags": []
   },
   "outputs": [],
   "source": [
    "# Function to save model checkpoints\n",
    "def sve_ckpt(st, filename):\n",
    "    torch.save(st, filename)"
   ]
  },
  {
   "cell_type": "markdown",
   "id": "f9be9a26",
   "metadata": {
    "papermill": {
     "duration": 0.006063,
     "end_time": "2024-04-16T21:34:40.181713",
     "exception": false,
     "start_time": "2024-04-16T21:34:40.175650",
     "status": "completed"
    },
    "tags": []
   },
   "source": [
    "# Training the Image Captioning model"
   ]
  },
  {
   "cell_type": "code",
   "execution_count": 8,
   "id": "d4ca9ff6",
   "metadata": {
    "execution": {
     "iopub.execute_input": "2024-04-16T21:34:40.197221Z",
     "iopub.status.busy": "2024-04-16T21:34:40.196428Z",
     "iopub.status.idle": "2024-04-17T02:40:41.366755Z",
     "shell.execute_reply": "2024-04-17T02:40:41.365601Z"
    },
    "papermill": {
     "duration": 18364.455842,
     "end_time": "2024-04-17T02:40:44.645215",
     "exception": false,
     "start_time": "2024-04-16T21:34:40.189373",
     "status": "completed"
    },
    "tags": []
   },
   "outputs": [
    {
     "name": "stderr",
     "output_type": "stream",
     "text": [
      "Downloading: \"https://download.pytorch.org/models/resnet50-11ad3fa6.pth\" to /root/.cache/torch/hub/checkpoints/resnet50-11ad3fa6.pth\n",
      "100%|██████████| 97.8M/97.8M [00:00<00:00, 163MB/s]\n",
      "                                                 \r"
     ]
    },
    {
     "name": "stdout",
     "output_type": "stream",
     "text": [
      "CIDEr score of validation set for epoch 1:  0.00018743027402933385\n",
      "BLEU score of validation set for epoch 1:  0.04845521201027152\n",
      "ROUGE-l score of validation set for epoch 1:  0.06013898561582912\n"
     ]
    },
    {
     "name": "stderr",
     "output_type": "stream",
     "text": [
      "                                                 \r"
     ]
    },
    {
     "name": "stdout",
     "output_type": "stream",
     "text": [
      "CIDEr score of validation set for epoch 2:  0.004306340142536144\n",
      "BLEU score of validation set for epoch 2:  0.19007045763542768\n",
      "ROUGE-l score of validation set for epoch 2:  0.215630505038662\n"
     ]
    },
    {
     "name": "stderr",
     "output_type": "stream",
     "text": [
      "                                                 \r"
     ]
    },
    {
     "name": "stdout",
     "output_type": "stream",
     "text": [
      "CIDEr score of validation set for epoch 3:  0.007745061190899408\n",
      "BLEU score of validation set for epoch 3:  0.17459248341954695\n",
      "ROUGE-l score of validation set for epoch 3:  0.15933326724701352\n"
     ]
    },
    {
     "name": "stderr",
     "output_type": "stream",
     "text": [
      "                                                 \r"
     ]
    },
    {
     "name": "stdout",
     "output_type": "stream",
     "text": [
      "CIDEr score of validation set for epoch 4:  0.010752358922430169\n",
      "BLEU score of validation set for epoch 4:  0.19333760553762222\n",
      "ROUGE-l score of validation set for epoch 4:  0.2029049441080632\n"
     ]
    },
    {
     "name": "stderr",
     "output_type": "stream",
     "text": [
      "                                                 \r"
     ]
    },
    {
     "name": "stdout",
     "output_type": "stream",
     "text": [
      "CIDEr score of validation set for epoch 5:  0.005532305086798671\n",
      "BLEU score of validation set for epoch 5:  0.15414297401838115\n",
      "ROUGE-l score of validation set for epoch 5:  0.15049188180515732\n"
     ]
    },
    {
     "name": "stderr",
     "output_type": "stream",
     "text": [
      "                                                 \r"
     ]
    },
    {
     "name": "stdout",
     "output_type": "stream",
     "text": [
      "CIDEr score of validation set for epoch 6:  0.009788645418118304\n",
      "BLEU score of validation set for epoch 6:  0.20454287928987855\n",
      "ROUGE-l score of validation set for epoch 6:  0.21146834415840712\n"
     ]
    },
    {
     "name": "stderr",
     "output_type": "stream",
     "text": [
      "                                                 \r"
     ]
    },
    {
     "name": "stdout",
     "output_type": "stream",
     "text": [
      "CIDEr score of validation set for epoch 7:  0.009411744164050715\n",
      "BLEU score of validation set for epoch 7:  0.19743227969213187\n",
      "ROUGE-l score of validation set for epoch 7:  0.2127400889930783\n"
     ]
    },
    {
     "name": "stderr",
     "output_type": "stream",
     "text": [
      "                                                 \r"
     ]
    },
    {
     "name": "stdout",
     "output_type": "stream",
     "text": [
      "CIDEr score of validation set for epoch 8:  0.008133851644076357\n",
      "BLEU score of validation set for epoch 8:  0.19719207310068557\n",
      "ROUGE-l score of validation set for epoch 8:  0.20844370693805023\n"
     ]
    },
    {
     "name": "stderr",
     "output_type": "stream",
     "text": [
      "                                                 \r"
     ]
    },
    {
     "name": "stdout",
     "output_type": "stream",
     "text": [
      "CIDEr score of validation set for epoch 9:  0.0098453551283924\n",
      "BLEU score of validation set for epoch 9:  0.19935944803890007\n",
      "ROUGE-l score of validation set for epoch 9:  0.20768076727466486\n"
     ]
    },
    {
     "name": "stderr",
     "output_type": "stream",
     "text": [
      "                                                 \r"
     ]
    },
    {
     "name": "stdout",
     "output_type": "stream",
     "text": [
      "CIDEr score of validation set for epoch 10:  0.01233480783278915\n",
      "BLEU score of validation set for epoch 10:  0.20002001055258367\n",
      "ROUGE-l score of validation set for epoch 10:  0.21239821804363654\n"
     ]
    },
    {
     "name": "stderr",
     "output_type": "stream",
     "text": [
      "                                                 \r"
     ]
    },
    {
     "name": "stdout",
     "output_type": "stream",
     "text": [
      "CIDEr score of validation set for epoch 11:  0.010478286941899326\n",
      "BLEU score of validation set for epoch 11:  0.19861581964500988\n",
      "ROUGE-l score of validation set for epoch 11:  0.20669744637508605\n"
     ]
    },
    {
     "name": "stderr",
     "output_type": "stream",
     "text": [
      "                                                 \r"
     ]
    },
    {
     "name": "stdout",
     "output_type": "stream",
     "text": [
      "CIDEr score of validation set for epoch 12:  0.02016299555527264\n",
      "BLEU score of validation set for epoch 12:  0.20853822625854523\n",
      "ROUGE-l score of validation set for epoch 12:  0.21951013701546826\n"
     ]
    },
    {
     "name": "stderr",
     "output_type": "stream",
     "text": [
      "                                                 \r"
     ]
    },
    {
     "name": "stdout",
     "output_type": "stream",
     "text": [
      "CIDEr score of validation set for epoch 13:  0.015897401190310082\n",
      "BLEU score of validation set for epoch 13:  0.20698821452499444\n",
      "ROUGE-l score of validation set for epoch 13:  0.2155940693000596\n"
     ]
    },
    {
     "name": "stderr",
     "output_type": "stream",
     "text": [
      "                                                 \r"
     ]
    },
    {
     "name": "stdout",
     "output_type": "stream",
     "text": [
      "CIDEr score of validation set for epoch 14:  0.01802158373284801\n",
      "BLEU score of validation set for epoch 14:  0.18608130884264992\n",
      "ROUGE-l score of validation set for epoch 14:  0.20980884963759364\n"
     ]
    },
    {
     "name": "stderr",
     "output_type": "stream",
     "text": [
      "                                                 \r"
     ]
    },
    {
     "name": "stdout",
     "output_type": "stream",
     "text": [
      "CIDEr score of validation set for epoch 15:  0.028665731846018432\n",
      "BLEU score of validation set for epoch 15:  0.18571792357506714\n",
      "ROUGE-l score of validation set for epoch 15:  0.21342229790022668\n"
     ]
    },
    {
     "name": "stderr",
     "output_type": "stream",
     "text": [
      "                                                 \r"
     ]
    },
    {
     "name": "stdout",
     "output_type": "stream",
     "text": [
      "CIDEr score of validation set for epoch 16:  0.022716252879004\n",
      "BLEU score of validation set for epoch 16:  0.20109199561980054\n",
      "ROUGE-l score of validation set for epoch 16:  0.2178264944034904\n"
     ]
    },
    {
     "name": "stderr",
     "output_type": "stream",
     "text": [
      "                                                 \r"
     ]
    },
    {
     "name": "stdout",
     "output_type": "stream",
     "text": [
      "CIDEr score of validation set for epoch 17:  0.02616943553352921\n",
      "BLEU score of validation set for epoch 17:  0.1984676660566953\n",
      "ROUGE-l score of validation set for epoch 17:  0.21767010134315135\n"
     ]
    },
    {
     "name": "stderr",
     "output_type": "stream",
     "text": [
      "                                                 \r"
     ]
    },
    {
     "name": "stdout",
     "output_type": "stream",
     "text": [
      "CIDEr score of validation set for epoch 18:  0.03015514851103447\n",
      "BLEU score of validation set for epoch 18:  0.19505067808683035\n",
      "ROUGE-l score of validation set for epoch 18:  0.21633615352608682\n"
     ]
    },
    {
     "name": "stderr",
     "output_type": "stream",
     "text": [
      "                                                 \r"
     ]
    },
    {
     "name": "stdout",
     "output_type": "stream",
     "text": [
      "CIDEr score of validation set for epoch 19:  0.02726466619709935\n",
      "BLEU score of validation set for epoch 19:  0.19886692899602207\n",
      "ROUGE-l score of validation set for epoch 19:  0.22035072971749475\n"
     ]
    },
    {
     "name": "stderr",
     "output_type": "stream",
     "text": [
      "                                                 \r"
     ]
    },
    {
     "name": "stdout",
     "output_type": "stream",
     "text": [
      "CIDEr score of validation set for epoch 20:  0.03388810254536412\n",
      "BLEU score of validation set for epoch 20:  0.18935198133642023\n",
      "ROUGE-l score of validation set for epoch 20:  0.21478205395646938\n"
     ]
    },
    {
     "name": "stderr",
     "output_type": "stream",
     "text": [
      "                                                 \r"
     ]
    },
    {
     "name": "stdout",
     "output_type": "stream",
     "text": [
      "CIDEr score of validation set for epoch 21:  0.028972117201505807\n",
      "BLEU score of validation set for epoch 21:  0.20076031191865215\n",
      "ROUGE-l score of validation set for epoch 21:  0.21813730282279808\n"
     ]
    },
    {
     "name": "stderr",
     "output_type": "stream",
     "text": [
      "                                                 \r"
     ]
    },
    {
     "name": "stdout",
     "output_type": "stream",
     "text": [
      "CIDEr score of validation set for epoch 22:  0.035253113439786085\n",
      "BLEU score of validation set for epoch 22:  0.1988548738163272\n",
      "ROUGE-l score of validation set for epoch 22:  0.2188987955349932\n"
     ]
    },
    {
     "name": "stderr",
     "output_type": "stream",
     "text": [
      "                                                 \r"
     ]
    },
    {
     "name": "stdout",
     "output_type": "stream",
     "text": [
      "CIDEr score of validation set for epoch 23:  0.036431727341953594\n",
      "BLEU score of validation set for epoch 23:  0.2005389498393632\n",
      "ROUGE-l score of validation set for epoch 23:  0.2201648131752309\n"
     ]
    },
    {
     "name": "stderr",
     "output_type": "stream",
     "text": [
      "                                                 \r"
     ]
    },
    {
     "name": "stdout",
     "output_type": "stream",
     "text": [
      "CIDEr score of validation set for epoch 24:  0.03505289500629626\n",
      "BLEU score of validation set for epoch 24:  0.19581085915827875\n",
      "ROUGE-l score of validation set for epoch 24:  0.21891545838507084\n"
     ]
    },
    {
     "name": "stderr",
     "output_type": "stream",
     "text": [
      "                                                 \r"
     ]
    },
    {
     "name": "stdout",
     "output_type": "stream",
     "text": [
      "CIDEr score of validation set for epoch 25:  0.03633778193454243\n",
      "BLEU score of validation set for epoch 25:  0.1990465772742835\n",
      "ROUGE-l score of validation set for epoch 25:  0.2218468979765781\n"
     ]
    },
    {
     "name": "stderr",
     "output_type": "stream",
     "text": [
      "                                                 \r"
     ]
    },
    {
     "name": "stdout",
     "output_type": "stream",
     "text": [
      "CIDEr score of validation set for epoch 26:  0.039073699513915115\n",
      "BLEU score of validation set for epoch 26:  0.20498304200150963\n",
      "ROUGE-l score of validation set for epoch 26:  0.22220362032837673\n"
     ]
    },
    {
     "name": "stderr",
     "output_type": "stream",
     "text": [
      "                                                 \r"
     ]
    },
    {
     "name": "stdout",
     "output_type": "stream",
     "text": [
      "CIDEr score of validation set for epoch 27:  0.03840222098471804\n",
      "BLEU score of validation set for epoch 27:  0.20364236140089115\n",
      "ROUGE-l score of validation set for epoch 27:  0.22130400013222484\n"
     ]
    },
    {
     "name": "stderr",
     "output_type": "stream",
     "text": [
      "                                                 \r"
     ]
    },
    {
     "name": "stdout",
     "output_type": "stream",
     "text": [
      "CIDEr score of validation set for epoch 28:  0.053996402649119334\n",
      "BLEU score of validation set for epoch 28:  0.1948450700154461\n",
      "ROUGE-l score of validation set for epoch 28:  0.21853092410860586\n"
     ]
    },
    {
     "name": "stderr",
     "output_type": "stream",
     "text": [
      "                                                 \r"
     ]
    },
    {
     "name": "stdout",
     "output_type": "stream",
     "text": [
      "CIDEr score of validation set for epoch 29:  0.05013996917997247\n",
      "BLEU score of validation set for epoch 29:  0.21063570722043673\n",
      "ROUGE-l score of validation set for epoch 29:  0.2251819072872243\n"
     ]
    },
    {
     "name": "stderr",
     "output_type": "stream",
     "text": [
      "                                                 \r"
     ]
    },
    {
     "name": "stdout",
     "output_type": "stream",
     "text": [
      "CIDEr score of validation set for epoch 30:  0.044983883013558955\n",
      "BLEU score of validation set for epoch 30:  0.20998028019245274\n",
      "ROUGE-l score of validation set for epoch 30:  0.22288354584128356\n"
     ]
    },
    {
     "name": "stderr",
     "output_type": "stream",
     "text": [
      "                                                 \r"
     ]
    },
    {
     "name": "stdout",
     "output_type": "stream",
     "text": [
      "CIDEr score of validation set for epoch 31:  0.057369560785250594\n",
      "BLEU score of validation set for epoch 31:  0.19563471761107076\n",
      "ROUGE-l score of validation set for epoch 31:  0.21991342177605655\n"
     ]
    },
    {
     "name": "stderr",
     "output_type": "stream",
     "text": [
      "                                                 \r"
     ]
    },
    {
     "name": "stdout",
     "output_type": "stream",
     "text": [
      "CIDEr score of validation set for epoch 32:  0.05843335394153964\n",
      "BLEU score of validation set for epoch 32:  0.19581919148199833\n",
      "ROUGE-l score of validation set for epoch 32:  0.2204818717471519\n"
     ]
    },
    {
     "name": "stderr",
     "output_type": "stream",
     "text": [
      "                                                 \r"
     ]
    },
    {
     "name": "stdout",
     "output_type": "stream",
     "text": [
      "CIDEr score of validation set for epoch 33:  0.05866921294485941\n",
      "BLEU score of validation set for epoch 33:  0.20027834773541134\n",
      "ROUGE-l score of validation set for epoch 33:  0.22285633285534068\n"
     ]
    },
    {
     "name": "stderr",
     "output_type": "stream",
     "text": [
      "                                                 \r"
     ]
    },
    {
     "name": "stdout",
     "output_type": "stream",
     "text": [
      "CIDEr score of validation set for epoch 34:  0.055787123120938156\n",
      "BLEU score of validation set for epoch 34:  0.2005011949665553\n",
      "ROUGE-l score of validation set for epoch 34:  0.22104748961772444\n"
     ]
    },
    {
     "name": "stderr",
     "output_type": "stream",
     "text": [
      "                                                 \r"
     ]
    },
    {
     "name": "stdout",
     "output_type": "stream",
     "text": [
      "CIDEr score of validation set for epoch 35:  0.051200957127646\n",
      "BLEU score of validation set for epoch 35:  0.2152599513611459\n",
      "ROUGE-l score of validation set for epoch 35:  0.226704176334573\n"
     ]
    },
    {
     "name": "stderr",
     "output_type": "stream",
     "text": [
      "                                                 \r"
     ]
    },
    {
     "name": "stdout",
     "output_type": "stream",
     "text": [
      "CIDEr score of validation set for epoch 36:  0.05368221857800532\n",
      "BLEU score of validation set for epoch 36:  0.20198032996963303\n",
      "ROUGE-l score of validation set for epoch 36:  0.2230038675716577\n"
     ]
    },
    {
     "name": "stderr",
     "output_type": "stream",
     "text": [
      "                                                 \r"
     ]
    },
    {
     "name": "stdout",
     "output_type": "stream",
     "text": [
      "CIDEr score of validation set for epoch 37:  0.05299619168307618\n",
      "BLEU score of validation set for epoch 37:  0.2122852659905349\n",
      "ROUGE-l score of validation set for epoch 37:  0.223047442541818\n"
     ]
    },
    {
     "name": "stderr",
     "output_type": "stream",
     "text": [
      "                                                 \r"
     ]
    },
    {
     "name": "stdout",
     "output_type": "stream",
     "text": [
      "CIDEr score of validation set for epoch 38:  0.05342849368634433\n",
      "BLEU score of validation set for epoch 38:  0.20814781987706857\n",
      "ROUGE-l score of validation set for epoch 38:  0.22481625375757616\n"
     ]
    },
    {
     "name": "stderr",
     "output_type": "stream",
     "text": [
      "                                                 \r"
     ]
    },
    {
     "name": "stdout",
     "output_type": "stream",
     "text": [
      "CIDEr score of validation set for epoch 39:  0.05898528397389939\n",
      "BLEU score of validation set for epoch 39:  0.20078387247751925\n",
      "ROUGE-l score of validation set for epoch 39:  0.22046750796647308\n"
     ]
    },
    {
     "name": "stderr",
     "output_type": "stream",
     "text": [
      "                                                 \r"
     ]
    },
    {
     "name": "stdout",
     "output_type": "stream",
     "text": [
      "CIDEr score of validation set for epoch 40:  0.05631682971048067\n",
      "BLEU score of validation set for epoch 40:  0.20244910590888157\n",
      "ROUGE-l score of validation set for epoch 40:  0.22168297343916182\n"
     ]
    },
    {
     "name": "stderr",
     "output_type": "stream",
     "text": [
      "                                                 \r"
     ]
    },
    {
     "name": "stdout",
     "output_type": "stream",
     "text": [
      "CIDEr score of validation set for epoch 41:  0.06135306433791413\n",
      "BLEU score of validation set for epoch 41:  0.21537482829412039\n",
      "ROUGE-l score of validation set for epoch 41:  0.22691336859353964\n"
     ]
    },
    {
     "name": "stderr",
     "output_type": "stream",
     "text": [
      "                                                 \r"
     ]
    },
    {
     "name": "stdout",
     "output_type": "stream",
     "text": [
      "CIDEr score of validation set for epoch 42:  0.07391802880303716\n",
      "BLEU score of validation set for epoch 42:  0.208089901138925\n",
      "ROUGE-l score of validation set for epoch 42:  0.22198896629510556\n"
     ]
    },
    {
     "name": "stderr",
     "output_type": "stream",
     "text": [
      "                                                 \r"
     ]
    },
    {
     "name": "stdout",
     "output_type": "stream",
     "text": [
      "CIDEr score of validation set for epoch 43:  0.05923040072033245\n",
      "BLEU score of validation set for epoch 43:  0.2150881353548032\n",
      "ROUGE-l score of validation set for epoch 43:  0.22742792006226617\n"
     ]
    },
    {
     "name": "stderr",
     "output_type": "stream",
     "text": [
      "                                                 \r"
     ]
    },
    {
     "name": "stdout",
     "output_type": "stream",
     "text": [
      "CIDEr score of validation set for epoch 44:  0.06538076184760688\n",
      "BLEU score of validation set for epoch 44:  0.2148850593754301\n",
      "ROUGE-l score of validation set for epoch 44:  0.22573589954590204\n"
     ]
    },
    {
     "name": "stderr",
     "output_type": "stream",
     "text": [
      "                                                 \r"
     ]
    },
    {
     "name": "stdout",
     "output_type": "stream",
     "text": [
      "CIDEr score of validation set for epoch 45:  0.06675828426279012\n",
      "BLEU score of validation set for epoch 45:  0.21272008336172785\n",
      "ROUGE-l score of validation set for epoch 45:  0.2260481546852273\n"
     ]
    },
    {
     "name": "stderr",
     "output_type": "stream",
     "text": [
      "                                                 \r"
     ]
    },
    {
     "name": "stdout",
     "output_type": "stream",
     "text": [
      "CIDEr score of validation set for epoch 46:  0.06368171343093594\n",
      "BLEU score of validation set for epoch 46:  0.2051009847361685\n",
      "ROUGE-l score of validation set for epoch 46:  0.2239272933720339\n"
     ]
    },
    {
     "name": "stderr",
     "output_type": "stream",
     "text": [
      "                                                 \r"
     ]
    },
    {
     "name": "stdout",
     "output_type": "stream",
     "text": [
      "CIDEr score of validation set for epoch 47:  0.06564631323363222\n",
      "BLEU score of validation set for epoch 47:  0.20945464465255212\n",
      "ROUGE-l score of validation set for epoch 47:  0.22588625900148931\n"
     ]
    },
    {
     "name": "stderr",
     "output_type": "stream",
     "text": [
      "                                                 \r"
     ]
    },
    {
     "name": "stdout",
     "output_type": "stream",
     "text": [
      "CIDEr score of validation set for epoch 48:  0.06627934431523852\n",
      "BLEU score of validation set for epoch 48:  0.2055140836726742\n",
      "ROUGE-l score of validation set for epoch 48:  0.22184676622947141\n"
     ]
    },
    {
     "name": "stderr",
     "output_type": "stream",
     "text": [
      "                                                 \r"
     ]
    },
    {
     "name": "stdout",
     "output_type": "stream",
     "text": [
      "CIDEr score of validation set for epoch 49:  0.06940507916348553\n",
      "BLEU score of validation set for epoch 49:  0.2048011368639466\n",
      "ROUGE-l score of validation set for epoch 49:  0.22256679613783656\n"
     ]
    },
    {
     "name": "stderr",
     "output_type": "stream",
     "text": [
      "                                                 \r"
     ]
    },
    {
     "name": "stdout",
     "output_type": "stream",
     "text": [
      "CIDEr score of validation set for epoch 50:  0.07138027081175591\n",
      "BLEU score of validation set for epoch 50:  0.20420638426500137\n",
      "ROUGE-l score of validation set for epoch 50:  0.2241098214960416\n"
     ]
    },
    {
     "name": "stderr",
     "output_type": "stream",
     "text": [
      "                                                 \r"
     ]
    },
    {
     "name": "stdout",
     "output_type": "stream",
     "text": [
      "CIDEr score of validation set for epoch 51:  0.069768849080049\n",
      "BLEU score of validation set for epoch 51:  0.20711730605915624\n",
      "ROUGE-l score of validation set for epoch 51:  0.22465209061252572\n"
     ]
    },
    {
     "name": "stderr",
     "output_type": "stream",
     "text": [
      "                                                 \r"
     ]
    },
    {
     "name": "stdout",
     "output_type": "stream",
     "text": [
      "CIDEr score of validation set for epoch 52:  0.07389441885776865\n",
      "BLEU score of validation set for epoch 52:  0.20455604378354536\n",
      "ROUGE-l score of validation set for epoch 52:  0.22215216687353\n"
     ]
    },
    {
     "name": "stderr",
     "output_type": "stream",
     "text": [
      "                                                 \r"
     ]
    },
    {
     "name": "stdout",
     "output_type": "stream",
     "text": [
      "CIDEr score of validation set for epoch 53:  0.06524901540062969\n",
      "BLEU score of validation set for epoch 53:  0.20225491981019844\n",
      "ROUGE-l score of validation set for epoch 53:  0.22223354358317993\n"
     ]
    },
    {
     "name": "stderr",
     "output_type": "stream",
     "text": [
      "                                                 \r"
     ]
    },
    {
     "name": "stdout",
     "output_type": "stream",
     "text": [
      "CIDEr score of validation set for epoch 54:  0.07006402458249204\n",
      "BLEU score of validation set for epoch 54:  0.21013705773095956\n",
      "ROUGE-l score of validation set for epoch 54:  0.2229271487678481\n"
     ]
    },
    {
     "name": "stderr",
     "output_type": "stream",
     "text": [
      "                                                 \r"
     ]
    },
    {
     "name": "stdout",
     "output_type": "stream",
     "text": [
      "CIDEr score of validation set for epoch 55:  0.06831426249659542\n",
      "BLEU score of validation set for epoch 55:  0.2090161890460323\n",
      "ROUGE-l score of validation set for epoch 55:  0.22057869018710885\n"
     ]
    },
    {
     "name": "stderr",
     "output_type": "stream",
     "text": [
      "                                                 \r"
     ]
    },
    {
     "name": "stdout",
     "output_type": "stream",
     "text": [
      "CIDEr score of validation set for epoch 56:  0.06756025695354985\n",
      "BLEU score of validation set for epoch 56:  0.1997489056829437\n",
      "ROUGE-l score of validation set for epoch 56:  0.22147175460610916\n"
     ]
    },
    {
     "name": "stderr",
     "output_type": "stream",
     "text": [
      "                                                 \r"
     ]
    },
    {
     "name": "stdout",
     "output_type": "stream",
     "text": [
      "CIDEr score of validation set for epoch 57:  0.0738557603131039\n",
      "BLEU score of validation set for epoch 57:  0.2094369275560878\n",
      "ROUGE-l score of validation set for epoch 57:  0.22184892648523546\n"
     ]
    },
    {
     "name": "stderr",
     "output_type": "stream",
     "text": [
      "                                                 \r"
     ]
    },
    {
     "name": "stdout",
     "output_type": "stream",
     "text": [
      "CIDEr score of validation set for epoch 58:  0.0615501824550322\n",
      "BLEU score of validation set for epoch 58:  0.21248346363882442\n",
      "ROUGE-l score of validation set for epoch 58:  0.22275956848456802\n"
     ]
    },
    {
     "name": "stderr",
     "output_type": "stream",
     "text": [
      "                                                 \r"
     ]
    },
    {
     "name": "stdout",
     "output_type": "stream",
     "text": [
      "CIDEr score of validation set for epoch 59:  0.07033718412391449\n",
      "BLEU score of validation set for epoch 59:  0.20799826705669808\n",
      "ROUGE-l score of validation set for epoch 59:  0.22235187061491718\n"
     ]
    },
    {
     "name": "stderr",
     "output_type": "stream",
     "text": [
      "                                                 \r"
     ]
    },
    {
     "name": "stdout",
     "output_type": "stream",
     "text": [
      "CIDEr score of validation set for epoch 60:  0.08459039877393323\n",
      "BLEU score of validation set for epoch 60:  0.2011000199045791\n",
      "ROUGE-l score of validation set for epoch 60:  0.22161910532641846\n"
     ]
    },
    {
     "name": "stderr",
     "output_type": "stream",
     "text": [
      "                                                 \r"
     ]
    },
    {
     "name": "stdout",
     "output_type": "stream",
     "text": [
      "CIDEr score of validation set for epoch 61:  0.07191762346637584\n",
      "BLEU score of validation set for epoch 61:  0.20953149115592912\n",
      "ROUGE-l score of validation set for epoch 61:  0.2229280902702796\n"
     ]
    },
    {
     "name": "stderr",
     "output_type": "stream",
     "text": [
      "                                                 \r"
     ]
    },
    {
     "name": "stdout",
     "output_type": "stream",
     "text": [
      "CIDEr score of validation set for epoch 62:  0.06935982233124864\n",
      "BLEU score of validation set for epoch 62:  0.21631636812246305\n",
      "ROUGE-l score of validation set for epoch 62:  0.22379770627872844\n"
     ]
    },
    {
     "name": "stderr",
     "output_type": "stream",
     "text": [
      "                                                 \r"
     ]
    },
    {
     "name": "stdout",
     "output_type": "stream",
     "text": [
      "CIDEr score of validation set for epoch 63:  0.06831461896411188\n",
      "BLEU score of validation set for epoch 63:  0.21904140370198966\n",
      "ROUGE-l score of validation set for epoch 63:  0.22557318733625353\n"
     ]
    },
    {
     "name": "stderr",
     "output_type": "stream",
     "text": [
      "                                                 \r"
     ]
    },
    {
     "name": "stdout",
     "output_type": "stream",
     "text": [
      "CIDEr score of validation set for epoch 64:  0.0728226802473268\n",
      "BLEU score of validation set for epoch 64:  0.2148904608090405\n",
      "ROUGE-l score of validation set for epoch 64:  0.22602509435383944\n"
     ]
    },
    {
     "name": "stderr",
     "output_type": "stream",
     "text": [
      "                                                 \r"
     ]
    },
    {
     "name": "stdout",
     "output_type": "stream",
     "text": [
      "CIDEr score of validation set for epoch 65:  0.06375481849786956\n",
      "BLEU score of validation set for epoch 65:  0.2180767105247463\n",
      "ROUGE-l score of validation set for epoch 65:  0.22460329930165782\n"
     ]
    },
    {
     "name": "stderr",
     "output_type": "stream",
     "text": [
      "                                                 \r"
     ]
    },
    {
     "name": "stdout",
     "output_type": "stream",
     "text": [
      "CIDEr score of validation set for epoch 66:  0.07733886657491884\n",
      "BLEU score of validation set for epoch 66:  0.2049944157912504\n",
      "ROUGE-l score of validation set for epoch 66:  0.22242430617923356\n"
     ]
    },
    {
     "name": "stderr",
     "output_type": "stream",
     "text": [
      "                                                 \r"
     ]
    },
    {
     "name": "stdout",
     "output_type": "stream",
     "text": [
      "CIDEr score of validation set for epoch 67:  0.06325835107064585\n",
      "BLEU score of validation set for epoch 67:  0.21663470463886322\n",
      "ROUGE-l score of validation set for epoch 67:  0.22570664943094582\n"
     ]
    },
    {
     "name": "stderr",
     "output_type": "stream",
     "text": [
      "                                                 \r"
     ]
    },
    {
     "name": "stdout",
     "output_type": "stream",
     "text": [
      "CIDEr score of validation set for epoch 68:  0.07003513589613836\n",
      "BLEU score of validation set for epoch 68:  0.21640183557741477\n",
      "ROUGE-l score of validation set for epoch 68:  0.22490021692442677\n"
     ]
    },
    {
     "name": "stderr",
     "output_type": "stream",
     "text": [
      "                                                 \r"
     ]
    },
    {
     "name": "stdout",
     "output_type": "stream",
     "text": [
      "CIDEr score of validation set for epoch 69:  0.07729900897532435\n",
      "BLEU score of validation set for epoch 69:  0.21513792739671125\n",
      "ROUGE-l score of validation set for epoch 69:  0.22252357820405966\n"
     ]
    },
    {
     "name": "stderr",
     "output_type": "stream",
     "text": [
      "                                                 \r"
     ]
    },
    {
     "name": "stdout",
     "output_type": "stream",
     "text": [
      "CIDEr score of validation set for epoch 70:  0.06910524302185708\n",
      "BLEU score of validation set for epoch 70:  0.20446209444065852\n",
      "ROUGE-l score of validation set for epoch 70:  0.21908764494633254\n"
     ]
    },
    {
     "name": "stderr",
     "output_type": "stream",
     "text": [
      "                                                 \r"
     ]
    },
    {
     "name": "stdout",
     "output_type": "stream",
     "text": [
      "CIDEr score of validation set for epoch 71:  0.06961720634862889\n",
      "BLEU score of validation set for epoch 71:  0.21462590478180493\n",
      "ROUGE-l score of validation set for epoch 71:  0.22133747968225664\n"
     ]
    },
    {
     "name": "stderr",
     "output_type": "stream",
     "text": [
      "                                                 \r"
     ]
    },
    {
     "name": "stdout",
     "output_type": "stream",
     "text": [
      "CIDEr score of validation set for epoch 72:  0.07516232116531243\n",
      "BLEU score of validation set for epoch 72:  0.21212854339353776\n",
      "ROUGE-l score of validation set for epoch 72:  0.22358026853254057\n"
     ]
    },
    {
     "name": "stderr",
     "output_type": "stream",
     "text": [
      "                                                 \r"
     ]
    },
    {
     "name": "stdout",
     "output_type": "stream",
     "text": [
      "CIDEr score of validation set for epoch 73:  0.05960520538349158\n",
      "BLEU score of validation set for epoch 73:  0.21243146916565409\n",
      "ROUGE-l score of validation set for epoch 73:  0.22125500642097912\n"
     ]
    },
    {
     "name": "stderr",
     "output_type": "stream",
     "text": [
      "                                                 \r"
     ]
    },
    {
     "name": "stdout",
     "output_type": "stream",
     "text": [
      "CIDEr score of validation set for epoch 74:  0.07663422493306062\n",
      "BLEU score of validation set for epoch 74:  0.2093140441436029\n",
      "ROUGE-l score of validation set for epoch 74:  0.2201003217085794\n"
     ]
    },
    {
     "name": "stderr",
     "output_type": "stream",
     "text": [
      "                                                 \r"
     ]
    },
    {
     "name": "stdout",
     "output_type": "stream",
     "text": [
      "CIDEr score of validation set for epoch 75:  0.07891403152127932\n",
      "BLEU score of validation set for epoch 75:  0.20993425626322246\n",
      "ROUGE-l score of validation set for epoch 75:  0.22399227895574703\n"
     ]
    },
    {
     "name": "stderr",
     "output_type": "stream",
     "text": [
      "                                                 \r"
     ]
    },
    {
     "name": "stdout",
     "output_type": "stream",
     "text": [
      "CIDEr score of validation set for epoch 76:  0.07616213384454834\n",
      "BLEU score of validation set for epoch 76:  0.21189711833488142\n",
      "ROUGE-l score of validation set for epoch 76:  0.2218123301682036\n"
     ]
    },
    {
     "name": "stderr",
     "output_type": "stream",
     "text": [
      "                                                 \r"
     ]
    },
    {
     "name": "stdout",
     "output_type": "stream",
     "text": [
      "CIDEr score of validation set for epoch 77:  0.08623373426665797\n",
      "BLEU score of validation set for epoch 77:  0.2175364447514557\n",
      "ROUGE-l score of validation set for epoch 77:  0.22606842272317507\n"
     ]
    },
    {
     "name": "stderr",
     "output_type": "stream",
     "text": [
      "                                                 \r"
     ]
    },
    {
     "name": "stdout",
     "output_type": "stream",
     "text": [
      "CIDEr score of validation set for epoch 78:  0.06121989040495505\n",
      "BLEU score of validation set for epoch 78:  0.2187494341053975\n",
      "ROUGE-l score of validation set for epoch 78:  0.226366994938357\n"
     ]
    },
    {
     "name": "stderr",
     "output_type": "stream",
     "text": [
      "                                                 \r"
     ]
    },
    {
     "name": "stdout",
     "output_type": "stream",
     "text": [
      "CIDEr score of validation set for epoch 79:  0.07701250937797405\n",
      "BLEU score of validation set for epoch 79:  0.21955102015666694\n",
      "ROUGE-l score of validation set for epoch 79:  0.22505995711265908\n"
     ]
    },
    {
     "name": "stderr",
     "output_type": "stream",
     "text": [
      "                                                 \r"
     ]
    },
    {
     "name": "stdout",
     "output_type": "stream",
     "text": [
      "CIDEr score of validation set for epoch 80:  0.07342432153406954\n",
      "BLEU score of validation set for epoch 80:  0.216036664371489\n",
      "ROUGE-l score of validation set for epoch 80:  0.2239278105762067\n"
     ]
    },
    {
     "name": "stderr",
     "output_type": "stream",
     "text": [
      "                                                 \r"
     ]
    },
    {
     "name": "stdout",
     "output_type": "stream",
     "text": [
      "CIDEr score of validation set for epoch 81:  0.07247279534923236\n",
      "BLEU score of validation set for epoch 81:  0.21862489926524414\n",
      "ROUGE-l score of validation set for epoch 81:  0.22554507370122293\n"
     ]
    },
    {
     "name": "stderr",
     "output_type": "stream",
     "text": [
      "                                                 \r"
     ]
    },
    {
     "name": "stdout",
     "output_type": "stream",
     "text": [
      "CIDEr score of validation set for epoch 82:  0.07605164809440455\n",
      "BLEU score of validation set for epoch 82:  0.21580885810270906\n",
      "ROUGE-l score of validation set for epoch 82:  0.22522896117454902\n"
     ]
    },
    {
     "name": "stderr",
     "output_type": "stream",
     "text": [
      "                                                 \r"
     ]
    },
    {
     "name": "stdout",
     "output_type": "stream",
     "text": [
      "CIDEr score of validation set for epoch 83:  0.07668124771470619\n",
      "BLEU score of validation set for epoch 83:  0.2133705886238994\n",
      "ROUGE-l score of validation set for epoch 83:  0.2221798945002416\n"
     ]
    },
    {
     "name": "stderr",
     "output_type": "stream",
     "text": [
      "                                                 \r"
     ]
    },
    {
     "name": "stdout",
     "output_type": "stream",
     "text": [
      "CIDEr score of validation set for epoch 84:  0.07622930814886501\n",
      "BLEU score of validation set for epoch 84:  0.20822597836194814\n",
      "ROUGE-l score of validation set for epoch 84:  0.22199247611720638\n"
     ]
    },
    {
     "name": "stderr",
     "output_type": "stream",
     "text": [
      "                                                 \r"
     ]
    },
    {
     "name": "stdout",
     "output_type": "stream",
     "text": [
      "CIDEr score of validation set for epoch 85:  0.07532907340079165\n",
      "BLEU score of validation set for epoch 85:  0.20816784313196982\n",
      "ROUGE-l score of validation set for epoch 85:  0.22130834531683496\n"
     ]
    },
    {
     "name": "stderr",
     "output_type": "stream",
     "text": [
      "                                                 \r"
     ]
    },
    {
     "name": "stdout",
     "output_type": "stream",
     "text": [
      "CIDEr score of validation set for epoch 86:  0.08612061596888805\n",
      "BLEU score of validation set for epoch 86:  0.21856333568963432\n",
      "ROUGE-l score of validation set for epoch 86:  0.2246117133064307\n"
     ]
    },
    {
     "name": "stderr",
     "output_type": "stream",
     "text": [
      "                                                 \r"
     ]
    },
    {
     "name": "stdout",
     "output_type": "stream",
     "text": [
      "CIDEr score of validation set for epoch 87:  0.07343726163295565\n",
      "BLEU score of validation set for epoch 87:  0.21647809385978256\n",
      "ROUGE-l score of validation set for epoch 87:  0.22641462408499022\n"
     ]
    },
    {
     "name": "stderr",
     "output_type": "stream",
     "text": [
      "                                                 \r"
     ]
    },
    {
     "name": "stdout",
     "output_type": "stream",
     "text": [
      "CIDEr score of validation set for epoch 88:  0.07897974183087464\n",
      "BLEU score of validation set for epoch 88:  0.21956853757531924\n",
      "ROUGE-l score of validation set for epoch 88:  0.22537884586452384\n"
     ]
    },
    {
     "name": "stderr",
     "output_type": "stream",
     "text": [
      "                                                 \r"
     ]
    },
    {
     "name": "stdout",
     "output_type": "stream",
     "text": [
      "CIDEr score of validation set for epoch 89:  0.07259208644265158\n",
      "BLEU score of validation set for epoch 89:  0.21707364292939618\n",
      "ROUGE-l score of validation set for epoch 89:  0.2262042497804256\n"
     ]
    },
    {
     "name": "stderr",
     "output_type": "stream",
     "text": [
      "                                                 \r"
     ]
    },
    {
     "name": "stdout",
     "output_type": "stream",
     "text": [
      "CIDEr score of validation set for epoch 90:  0.07841762052369558\n",
      "BLEU score of validation set for epoch 90:  0.2190820285107795\n",
      "ROUGE-l score of validation set for epoch 90:  0.22633013480083122\n"
     ]
    },
    {
     "name": "stderr",
     "output_type": "stream",
     "text": [
      "                                                 \r"
     ]
    },
    {
     "name": "stdout",
     "output_type": "stream",
     "text": [
      "CIDEr score of validation set for epoch 91:  0.06485462140514767\n",
      "BLEU score of validation set for epoch 91:  0.21572076510017774\n",
      "ROUGE-l score of validation set for epoch 91:  0.22088516400741678\n"
     ]
    },
    {
     "name": "stderr",
     "output_type": "stream",
     "text": [
      "                                                 \r"
     ]
    },
    {
     "name": "stdout",
     "output_type": "stream",
     "text": [
      "CIDEr score of validation set for epoch 92:  0.07027485146281544\n",
      "BLEU score of validation set for epoch 92:  0.2239001355169392\n",
      "ROUGE-l score of validation set for epoch 92:  0.2255845747062894\n"
     ]
    },
    {
     "name": "stderr",
     "output_type": "stream",
     "text": [
      "                                                 \r"
     ]
    },
    {
     "name": "stdout",
     "output_type": "stream",
     "text": [
      "CIDEr score of validation set for epoch 93:  0.07504545691741472\n",
      "BLEU score of validation set for epoch 93:  0.22169104495160105\n",
      "ROUGE-l score of validation set for epoch 93:  0.22619211486884214\n"
     ]
    },
    {
     "name": "stderr",
     "output_type": "stream",
     "text": [
      "                                                 \r"
     ]
    },
    {
     "name": "stdout",
     "output_type": "stream",
     "text": [
      "CIDEr score of validation set for epoch 94:  0.0822290615655618\n",
      "BLEU score of validation set for epoch 94:  0.2151298115596502\n",
      "ROUGE-l score of validation set for epoch 94:  0.22523118101490708\n"
     ]
    },
    {
     "name": "stderr",
     "output_type": "stream",
     "text": [
      "                                                 \r"
     ]
    },
    {
     "name": "stdout",
     "output_type": "stream",
     "text": [
      "CIDEr score of validation set for epoch 95:  0.06783174404925045\n",
      "BLEU score of validation set for epoch 95:  0.2215626730569333\n",
      "ROUGE-l score of validation set for epoch 95:  0.22406090765335784\n"
     ]
    },
    {
     "name": "stderr",
     "output_type": "stream",
     "text": [
      "                                                 \r"
     ]
    },
    {
     "name": "stdout",
     "output_type": "stream",
     "text": [
      "CIDEr score of validation set for epoch 96:  0.07616876283967018\n",
      "BLEU score of validation set for epoch 96:  0.22213385351190254\n",
      "ROUGE-l score of validation set for epoch 96:  0.2244913979397166\n"
     ]
    },
    {
     "name": "stderr",
     "output_type": "stream",
     "text": [
      "                                                 \r"
     ]
    },
    {
     "name": "stdout",
     "output_type": "stream",
     "text": [
      "CIDEr score of validation set for epoch 97:  0.06600392024309121\n",
      "BLEU score of validation set for epoch 97:  0.23175382428695734\n",
      "ROUGE-l score of validation set for epoch 97:  0.2279406105378623\n"
     ]
    },
    {
     "name": "stderr",
     "output_type": "stream",
     "text": [
      "                                                 \r"
     ]
    },
    {
     "name": "stdout",
     "output_type": "stream",
     "text": [
      "CIDEr score of validation set for epoch 98:  0.0833481416533477\n",
      "BLEU score of validation set for epoch 98:  0.22584200220553688\n",
      "ROUGE-l score of validation set for epoch 98:  0.2275233355506798\n"
     ]
    },
    {
     "name": "stderr",
     "output_type": "stream",
     "text": [
      "                                                 \r"
     ]
    },
    {
     "name": "stdout",
     "output_type": "stream",
     "text": [
      "CIDEr score of validation set for epoch 99:  0.07018450976695262\n",
      "BLEU score of validation set for epoch 99:  0.21635767189535965\n",
      "ROUGE-l score of validation set for epoch 99:  0.2222593658459049\n"
     ]
    },
    {
     "name": "stderr",
     "output_type": "stream",
     "text": [
      "                                                 \r"
     ]
    },
    {
     "name": "stdout",
     "output_type": "stream",
     "text": [
      "CIDEr score of validation set for epoch 100:  0.07135875366100641\n",
      "BLEU score of validation set for epoch 100:  0.21678117724253904\n",
      "ROUGE-l score of validation set for epoch 100:  0.22144090154541943\n"
     ]
    },
    {
     "name": "stderr",
     "output_type": "stream",
     "text": [
      "                                                 \r"
     ]
    },
    {
     "name": "stdout",
     "output_type": "stream",
     "text": [
      "CIDEr score of validation set for epoch 101:  0.07602044162530198\n",
      "BLEU score of validation set for epoch 101:  0.22137468795579548\n",
      "ROUGE-l score of validation set for epoch 101:  0.2257393013384912\n"
     ]
    },
    {
     "name": "stderr",
     "output_type": "stream",
     "text": [
      "                                                 \r"
     ]
    },
    {
     "name": "stdout",
     "output_type": "stream",
     "text": [
      "CIDEr score of validation set for epoch 102:  0.0734975623807697\n",
      "BLEU score of validation set for epoch 102:  0.2175831445732157\n",
      "ROUGE-l score of validation set for epoch 102:  0.22160346329869132\n"
     ]
    },
    {
     "name": "stderr",
     "output_type": "stream",
     "text": [
      "                                                 \r"
     ]
    },
    {
     "name": "stdout",
     "output_type": "stream",
     "text": [
      "CIDEr score of validation set for epoch 103:  0.06881952866231923\n",
      "BLEU score of validation set for epoch 103:  0.2205656172092866\n",
      "ROUGE-l score of validation set for epoch 103:  0.22488601727033913\n"
     ]
    },
    {
     "name": "stderr",
     "output_type": "stream",
     "text": [
      "                                                 \r"
     ]
    },
    {
     "name": "stdout",
     "output_type": "stream",
     "text": [
      "CIDEr score of validation set for epoch 104:  0.07588169961816937\n",
      "BLEU score of validation set for epoch 104:  0.2246712373344899\n",
      "ROUGE-l score of validation set for epoch 104:  0.2254028195991689\n"
     ]
    },
    {
     "name": "stderr",
     "output_type": "stream",
     "text": [
      "                                                 \r"
     ]
    },
    {
     "name": "stdout",
     "output_type": "stream",
     "text": [
      "CIDEr score of validation set for epoch 105:  0.08184162055522345\n",
      "BLEU score of validation set for epoch 105:  0.2229975431549105\n",
      "ROUGE-l score of validation set for epoch 105:  0.22664230887427156\n"
     ]
    },
    {
     "name": "stderr",
     "output_type": "stream",
     "text": [
      "                                                 \r"
     ]
    },
    {
     "name": "stdout",
     "output_type": "stream",
     "text": [
      "CIDEr score of validation set for epoch 106:  0.06241958740982986\n",
      "BLEU score of validation set for epoch 106:  0.2216490212745224\n",
      "ROUGE-l score of validation set for epoch 106:  0.22197506342491388\n"
     ]
    },
    {
     "name": "stderr",
     "output_type": "stream",
     "text": [
      "                                                 \r"
     ]
    },
    {
     "name": "stdout",
     "output_type": "stream",
     "text": [
      "CIDEr score of validation set for epoch 107:  0.07785044411836506\n",
      "BLEU score of validation set for epoch 107:  0.22073046391412426\n",
      "ROUGE-l score of validation set for epoch 107:  0.22319174868175334\n"
     ]
    },
    {
     "name": "stderr",
     "output_type": "stream",
     "text": [
      "                                                 \r"
     ]
    },
    {
     "name": "stdout",
     "output_type": "stream",
     "text": [
      "CIDEr score of validation set for epoch 108:  0.07049144379195461\n",
      "BLEU score of validation set for epoch 108:  0.2251709821681004\n",
      "ROUGE-l score of validation set for epoch 108:  0.22492284199820334\n"
     ]
    },
    {
     "name": "stderr",
     "output_type": "stream",
     "text": [
      "                                                 \r"
     ]
    },
    {
     "name": "stdout",
     "output_type": "stream",
     "text": [
      "CIDEr score of validation set for epoch 109:  0.0674966972903431\n",
      "BLEU score of validation set for epoch 109:  0.22370076781607576\n",
      "ROUGE-l score of validation set for epoch 109:  0.22382349183837452\n"
     ]
    },
    {
     "name": "stderr",
     "output_type": "stream",
     "text": [
      "                                                 \r"
     ]
    },
    {
     "name": "stdout",
     "output_type": "stream",
     "text": [
      "CIDEr score of validation set for epoch 110:  0.0834440818916367\n",
      "BLEU score of validation set for epoch 110:  0.22318821821301973\n",
      "ROUGE-l score of validation set for epoch 110:  0.22669346114953295\n"
     ]
    },
    {
     "name": "stderr",
     "output_type": "stream",
     "text": [
      "                                                 \r"
     ]
    },
    {
     "name": "stdout",
     "output_type": "stream",
     "text": [
      "CIDEr score of validation set for epoch 111:  0.07459909594231165\n",
      "BLEU score of validation set for epoch 111:  0.22397827377966367\n",
      "ROUGE-l score of validation set for epoch 111:  0.2261283401576451\n"
     ]
    },
    {
     "name": "stderr",
     "output_type": "stream",
     "text": [
      "                                                 \r"
     ]
    },
    {
     "name": "stdout",
     "output_type": "stream",
     "text": [
      "CIDEr score of validation set for epoch 112:  0.07066834230417152\n",
      "BLEU score of validation set for epoch 112:  0.22814207610806617\n",
      "ROUGE-l score of validation set for epoch 112:  0.22551730645214613\n"
     ]
    },
    {
     "name": "stderr",
     "output_type": "stream",
     "text": [
      "                                                 \r"
     ]
    },
    {
     "name": "stdout",
     "output_type": "stream",
     "text": [
      "CIDEr score of validation set for epoch 113:  0.06668413415209463\n",
      "BLEU score of validation set for epoch 113:  0.22718457898703928\n",
      "ROUGE-l score of validation set for epoch 113:  0.22320045779345365\n"
     ]
    },
    {
     "name": "stderr",
     "output_type": "stream",
     "text": [
      "                                                 \r"
     ]
    },
    {
     "name": "stdout",
     "output_type": "stream",
     "text": [
      "CIDEr score of validation set for epoch 114:  0.07465036087721678\n",
      "BLEU score of validation set for epoch 114:  0.21574607985426145\n",
      "ROUGE-l score of validation set for epoch 114:  0.22099488973539597\n"
     ]
    },
    {
     "name": "stderr",
     "output_type": "stream",
     "text": [
      "                                                 \r"
     ]
    },
    {
     "name": "stdout",
     "output_type": "stream",
     "text": [
      "CIDEr score of validation set for epoch 115:  0.06680102261825453\n",
      "BLEU score of validation set for epoch 115:  0.22634430216176407\n",
      "ROUGE-l score of validation set for epoch 115:  0.22468583726553265\n"
     ]
    },
    {
     "name": "stderr",
     "output_type": "stream",
     "text": [
      "                                                 \r"
     ]
    },
    {
     "name": "stdout",
     "output_type": "stream",
     "text": [
      "CIDEr score of validation set for epoch 116:  0.07255849397923737\n",
      "BLEU score of validation set for epoch 116:  0.2221658070863128\n",
      "ROUGE-l score of validation set for epoch 116:  0.22406194831691775\n"
     ]
    },
    {
     "name": "stderr",
     "output_type": "stream",
     "text": [
      "                                                 \r"
     ]
    },
    {
     "name": "stdout",
     "output_type": "stream",
     "text": [
      "CIDEr score of validation set for epoch 117:  0.06971815362455067\n",
      "BLEU score of validation set for epoch 117:  0.22615567700549502\n",
      "ROUGE-l score of validation set for epoch 117:  0.22429480299689658\n"
     ]
    },
    {
     "name": "stderr",
     "output_type": "stream",
     "text": [
      "                                                 \r"
     ]
    },
    {
     "name": "stdout",
     "output_type": "stream",
     "text": [
      "CIDEr score of validation set for epoch 118:  0.06032150379647805\n",
      "BLEU score of validation set for epoch 118:  0.22538797330298718\n",
      "ROUGE-l score of validation set for epoch 118:  0.22300821450041794\n"
     ]
    },
    {
     "name": "stderr",
     "output_type": "stream",
     "text": [
      "                                                 \r"
     ]
    },
    {
     "name": "stdout",
     "output_type": "stream",
     "text": [
      "CIDEr score of validation set for epoch 119:  0.07048026129219076\n",
      "BLEU score of validation set for epoch 119:  0.21763442395739968\n",
      "ROUGE-l score of validation set for epoch 119:  0.22092105643343316\n"
     ]
    },
    {
     "name": "stderr",
     "output_type": "stream",
     "text": [
      "                                                 \r"
     ]
    },
    {
     "name": "stdout",
     "output_type": "stream",
     "text": [
      "CIDEr score of validation set for epoch 120:  0.06656376007899689\n",
      "BLEU score of validation set for epoch 120:  0.23036414405319203\n",
      "ROUGE-l score of validation set for epoch 120:  0.22697913098776304\n"
     ]
    },
    {
     "name": "stderr",
     "output_type": "stream",
     "text": [
      "                                                 \r"
     ]
    },
    {
     "name": "stdout",
     "output_type": "stream",
     "text": [
      "CIDEr score of validation set for epoch 121:  0.06976542530484023\n",
      "BLEU score of validation set for epoch 121:  0.21513573387989687\n",
      "ROUGE-l score of validation set for epoch 121:  0.22276183668697636\n"
     ]
    },
    {
     "name": "stderr",
     "output_type": "stream",
     "text": [
      "                                                 \r"
     ]
    },
    {
     "name": "stdout",
     "output_type": "stream",
     "text": [
      "CIDEr score of validation set for epoch 122:  0.07687764324209642\n",
      "BLEU score of validation set for epoch 122:  0.2173776769499643\n",
      "ROUGE-l score of validation set for epoch 122:  0.2199420126671744\n"
     ]
    },
    {
     "name": "stderr",
     "output_type": "stream",
     "text": [
      "                                                 \r"
     ]
    },
    {
     "name": "stdout",
     "output_type": "stream",
     "text": [
      "CIDEr score of validation set for epoch 123:  0.06462272411214927\n",
      "BLEU score of validation set for epoch 123:  0.22276098108869494\n",
      "ROUGE-l score of validation set for epoch 123:  0.2243646922607178\n"
     ]
    },
    {
     "name": "stderr",
     "output_type": "stream",
     "text": [
      "                                                 \r"
     ]
    },
    {
     "name": "stdout",
     "output_type": "stream",
     "text": [
      "CIDEr score of validation set for epoch 124:  0.06626785556527298\n",
      "BLEU score of validation set for epoch 124:  0.2251236188440435\n",
      "ROUGE-l score of validation set for epoch 124:  0.2207665552611663\n"
     ]
    },
    {
     "name": "stderr",
     "output_type": "stream",
     "text": [
      "                                                 \r"
     ]
    },
    {
     "name": "stdout",
     "output_type": "stream",
     "text": [
      "CIDEr score of validation set for epoch 125:  0.07631361565008261\n",
      "BLEU score of validation set for epoch 125:  0.2202650701299671\n",
      "ROUGE-l score of validation set for epoch 125:  0.22294341692533204\n"
     ]
    },
    {
     "name": "stderr",
     "output_type": "stream",
     "text": [
      "                                                 \r"
     ]
    },
    {
     "name": "stdout",
     "output_type": "stream",
     "text": [
      "CIDEr score of validation set for epoch 126:  0.06729937978484235\n",
      "BLEU score of validation set for epoch 126:  0.2219944339816313\n",
      "ROUGE-l score of validation set for epoch 126:  0.22126337078442773\n"
     ]
    },
    {
     "name": "stderr",
     "output_type": "stream",
     "text": [
      "                                                 \r"
     ]
    },
    {
     "name": "stdout",
     "output_type": "stream",
     "text": [
      "CIDEr score of validation set for epoch 127:  0.07208606863139638\n",
      "BLEU score of validation set for epoch 127:  0.22546272894561273\n",
      "ROUGE-l score of validation set for epoch 127:  0.22411052240476767\n"
     ]
    },
    {
     "name": "stderr",
     "output_type": "stream",
     "text": [
      "                                                 \r"
     ]
    },
    {
     "name": "stdout",
     "output_type": "stream",
     "text": [
      "CIDEr score of validation set for epoch 128:  0.07091705590781305\n",
      "BLEU score of validation set for epoch 128:  0.21785279905672597\n",
      "ROUGE-l score of validation set for epoch 128:  0.22089750331525013\n"
     ]
    },
    {
     "name": "stderr",
     "output_type": "stream",
     "text": [
      "                                                 \r"
     ]
    },
    {
     "name": "stdout",
     "output_type": "stream",
     "text": [
      "CIDEr score of validation set for epoch 129:  0.06431653342965818\n",
      "BLEU score of validation set for epoch 129:  0.2286550919045389\n",
      "ROUGE-l score of validation set for epoch 129:  0.22390145048333224\n"
     ]
    },
    {
     "name": "stderr",
     "output_type": "stream",
     "text": [
      "                                                 \r"
     ]
    },
    {
     "name": "stdout",
     "output_type": "stream",
     "text": [
      "CIDEr score of validation set for epoch 130:  0.06486290246871136\n",
      "BLEU score of validation set for epoch 130:  0.2192229679485401\n",
      "ROUGE-l score of validation set for epoch 130:  0.22311074463986938\n"
     ]
    },
    {
     "name": "stderr",
     "output_type": "stream",
     "text": [
      "                                                 \r"
     ]
    },
    {
     "name": "stdout",
     "output_type": "stream",
     "text": [
      "CIDEr score of validation set for epoch 131:  0.07245829628116643\n",
      "BLEU score of validation set for epoch 131:  0.22131805232603963\n",
      "ROUGE-l score of validation set for epoch 131:  0.2223005787004422\n"
     ]
    },
    {
     "name": "stderr",
     "output_type": "stream",
     "text": [
      "                                                 \r"
     ]
    },
    {
     "name": "stdout",
     "output_type": "stream",
     "text": [
      "CIDEr score of validation set for epoch 132:  0.07088794312521506\n",
      "BLEU score of validation set for epoch 132:  0.22572219401920887\n",
      "ROUGE-l score of validation set for epoch 132:  0.2214306496759843\n"
     ]
    },
    {
     "name": "stderr",
     "output_type": "stream",
     "text": [
      "                                                 \r"
     ]
    },
    {
     "name": "stdout",
     "output_type": "stream",
     "text": [
      "CIDEr score of validation set for epoch 133:  0.06297705111117659\n",
      "BLEU score of validation set for epoch 133:  0.2227383556561131\n",
      "ROUGE-l score of validation set for epoch 133:  0.22079292042589405\n"
     ]
    },
    {
     "name": "stderr",
     "output_type": "stream",
     "text": [
      "                                                 \r"
     ]
    },
    {
     "name": "stdout",
     "output_type": "stream",
     "text": [
      "CIDEr score of validation set for epoch 134:  0.07161852372800906\n",
      "BLEU score of validation set for epoch 134:  0.22296928805937172\n",
      "ROUGE-l score of validation set for epoch 134:  0.22277698949413505\n"
     ]
    },
    {
     "name": "stderr",
     "output_type": "stream",
     "text": [
      "                                                 \r"
     ]
    },
    {
     "name": "stdout",
     "output_type": "stream",
     "text": [
      "CIDEr score of validation set for epoch 135:  0.06189189887804242\n",
      "BLEU score of validation set for epoch 135:  0.22559470088510572\n",
      "ROUGE-l score of validation set for epoch 135:  0.22017763715177074\n"
     ]
    },
    {
     "name": "stderr",
     "output_type": "stream",
     "text": [
      "                                                 \r"
     ]
    },
    {
     "name": "stdout",
     "output_type": "stream",
     "text": [
      "CIDEr score of validation set for epoch 136:  0.06779809326571237\n",
      "BLEU score of validation set for epoch 136:  0.22797989517983924\n",
      "ROUGE-l score of validation set for epoch 136:  0.2243695321555537\n"
     ]
    },
    {
     "name": "stderr",
     "output_type": "stream",
     "text": [
      "                                                 \r"
     ]
    },
    {
     "name": "stdout",
     "output_type": "stream",
     "text": [
      "CIDEr score of validation set for epoch 137:  0.06469634416727048\n",
      "BLEU score of validation set for epoch 137:  0.22392019241148445\n",
      "ROUGE-l score of validation set for epoch 137:  0.22182226168989413\n"
     ]
    },
    {
     "name": "stderr",
     "output_type": "stream",
     "text": [
      "                                                 \r"
     ]
    },
    {
     "name": "stdout",
     "output_type": "stream",
     "text": [
      "CIDEr score of validation set for epoch 138:  0.06986779573533987\n",
      "BLEU score of validation set for epoch 138:  0.22107564795139123\n",
      "ROUGE-l score of validation set for epoch 138:  0.22179978135819808\n"
     ]
    },
    {
     "name": "stderr",
     "output_type": "stream",
     "text": [
      "                                                 \r"
     ]
    },
    {
     "name": "stdout",
     "output_type": "stream",
     "text": [
      "CIDEr score of validation set for epoch 139:  0.0712289485363949\n",
      "BLEU score of validation set for epoch 139:  0.2246265522796015\n",
      "ROUGE-l score of validation set for epoch 139:  0.22207808288444733\n"
     ]
    },
    {
     "name": "stderr",
     "output_type": "stream",
     "text": [
      "                                                 \r"
     ]
    },
    {
     "name": "stdout",
     "output_type": "stream",
     "text": [
      "CIDEr score of validation set for epoch 140:  0.06908673353445391\n",
      "BLEU score of validation set for epoch 140:  0.2202492946471889\n",
      "ROUGE-l score of validation set for epoch 140:  0.2201674118628231\n"
     ]
    },
    {
     "name": "stderr",
     "output_type": "stream",
     "text": [
      "                                                 \r"
     ]
    },
    {
     "name": "stdout",
     "output_type": "stream",
     "text": [
      "CIDEr score of validation set for epoch 141:  0.07628686000962198\n",
      "BLEU score of validation set for epoch 141:  0.22388808316370004\n",
      "ROUGE-l score of validation set for epoch 141:  0.22212253065672127\n"
     ]
    },
    {
     "name": "stderr",
     "output_type": "stream",
     "text": [
      "                                                 \r"
     ]
    },
    {
     "name": "stdout",
     "output_type": "stream",
     "text": [
      "CIDEr score of validation set for epoch 142:  0.0671534313359573\n",
      "BLEU score of validation set for epoch 142:  0.2276570262023997\n",
      "ROUGE-l score of validation set for epoch 142:  0.22320256083480694\n"
     ]
    },
    {
     "name": "stderr",
     "output_type": "stream",
     "text": [
      "                                                 \r"
     ]
    },
    {
     "name": "stdout",
     "output_type": "stream",
     "text": [
      "CIDEr score of validation set for epoch 143:  0.06938966062762658\n",
      "BLEU score of validation set for epoch 143:  0.22100599441799407\n",
      "ROUGE-l score of validation set for epoch 143:  0.21986020497373523\n"
     ]
    },
    {
     "name": "stderr",
     "output_type": "stream",
     "text": [
      "                                                 \r"
     ]
    },
    {
     "name": "stdout",
     "output_type": "stream",
     "text": [
      "CIDEr score of validation set for epoch 144:  0.0643424610972536\n",
      "BLEU score of validation set for epoch 144:  0.22091707847269162\n",
      "ROUGE-l score of validation set for epoch 144:  0.21911571373634905\n"
     ]
    },
    {
     "name": "stderr",
     "output_type": "stream",
     "text": [
      "                                                 \r"
     ]
    },
    {
     "name": "stdout",
     "output_type": "stream",
     "text": [
      "CIDEr score of validation set for epoch 145:  0.07282565269965992\n",
      "BLEU score of validation set for epoch 145:  0.22233597916666858\n",
      "ROUGE-l score of validation set for epoch 145:  0.21840981819746808\n"
     ]
    },
    {
     "name": "stderr",
     "output_type": "stream",
     "text": [
      "                                                 \r"
     ]
    },
    {
     "name": "stdout",
     "output_type": "stream",
     "text": [
      "CIDEr score of validation set for epoch 146:  0.07619661532439889\n",
      "BLEU score of validation set for epoch 146:  0.22348862417807938\n",
      "ROUGE-l score of validation set for epoch 146:  0.22332418867783585\n"
     ]
    },
    {
     "name": "stderr",
     "output_type": "stream",
     "text": [
      "                                                 \r"
     ]
    },
    {
     "name": "stdout",
     "output_type": "stream",
     "text": [
      "CIDEr score of validation set for epoch 147:  0.07808250989996854\n",
      "BLEU score of validation set for epoch 147:  0.22377032958609536\n",
      "ROUGE-l score of validation set for epoch 147:  0.22269663424985958\n"
     ]
    },
    {
     "name": "stderr",
     "output_type": "stream",
     "text": [
      "                                                 \r"
     ]
    },
    {
     "name": "stdout",
     "output_type": "stream",
     "text": [
      "CIDEr score of validation set for epoch 148:  0.07233735336613689\n",
      "BLEU score of validation set for epoch 148:  0.2225389648030756\n",
      "ROUGE-l score of validation set for epoch 148:  0.21939737900077633\n"
     ]
    },
    {
     "name": "stderr",
     "output_type": "stream",
     "text": [
      "                                                 \r"
     ]
    },
    {
     "name": "stdout",
     "output_type": "stream",
     "text": [
      "CIDEr score of validation set for epoch 149:  0.07162871009385373\n",
      "BLEU score of validation set for epoch 149:  0.22775673364426255\n",
      "ROUGE-l score of validation set for epoch 149:  0.22131779760683773\n"
     ]
    },
    {
     "name": "stderr",
     "output_type": "stream",
     "text": [
      "                                                 \r"
     ]
    },
    {
     "name": "stdout",
     "output_type": "stream",
     "text": [
      "CIDEr score of validation set for epoch 150:  0.06949162237258102\n",
      "BLEU score of validation set for epoch 150:  0.23178673888664705\n",
      "ROUGE-l score of validation set for epoch 150:  0.22283241871012419\n"
     ]
    },
    {
     "name": "stderr",
     "output_type": "stream",
     "text": [
      "                                                 \r"
     ]
    },
    {
     "name": "stdout",
     "output_type": "stream",
     "text": [
      "CIDEr score of validation set for epoch 151:  0.06777314573943195\n",
      "BLEU score of validation set for epoch 151:  0.23033561587262796\n",
      "ROUGE-l score of validation set for epoch 151:  0.22238048897439744\n"
     ]
    },
    {
     "name": "stderr",
     "output_type": "stream",
     "text": [
      "                                                 \r"
     ]
    },
    {
     "name": "stdout",
     "output_type": "stream",
     "text": [
      "CIDEr score of validation set for epoch 152:  0.0698124949393142\n",
      "BLEU score of validation set for epoch 152:  0.22330936789709532\n",
      "ROUGE-l score of validation set for epoch 152:  0.22067216734780185\n"
     ]
    },
    {
     "name": "stderr",
     "output_type": "stream",
     "text": [
      "                                                 \r"
     ]
    },
    {
     "name": "stdout",
     "output_type": "stream",
     "text": [
      "CIDEr score of validation set for epoch 153:  0.07774326624611404\n",
      "BLEU score of validation set for epoch 153:  0.23065061892095332\n",
      "ROUGE-l score of validation set for epoch 153:  0.22458989342391095\n"
     ]
    },
    {
     "name": "stderr",
     "output_type": "stream",
     "text": [
      "                                                 \r"
     ]
    },
    {
     "name": "stdout",
     "output_type": "stream",
     "text": [
      "CIDEr score of validation set for epoch 154:  0.07074938870449807\n",
      "BLEU score of validation set for epoch 154:  0.22864792545854723\n",
      "ROUGE-l score of validation set for epoch 154:  0.22391072787330207\n"
     ]
    },
    {
     "name": "stderr",
     "output_type": "stream",
     "text": [
      "                                                 \r"
     ]
    },
    {
     "name": "stdout",
     "output_type": "stream",
     "text": [
      "CIDEr score of validation set for epoch 155:  0.06991178003884617\n",
      "BLEU score of validation set for epoch 155:  0.23292880910635783\n",
      "ROUGE-l score of validation set for epoch 155:  0.2238790299663142\n"
     ]
    },
    {
     "name": "stderr",
     "output_type": "stream",
     "text": [
      "                                                 \r"
     ]
    },
    {
     "name": "stdout",
     "output_type": "stream",
     "text": [
      "CIDEr score of validation set for epoch 156:  0.06822077494345259\n",
      "BLEU score of validation set for epoch 156:  0.2264297361981656\n",
      "ROUGE-l score of validation set for epoch 156:  0.22031004215073868\n"
     ]
    },
    {
     "name": "stderr",
     "output_type": "stream",
     "text": [
      "                                                 \r"
     ]
    },
    {
     "name": "stdout",
     "output_type": "stream",
     "text": [
      "CIDEr score of validation set for epoch 157:  0.0762421602747906\n",
      "BLEU score of validation set for epoch 157:  0.2286501675602686\n",
      "ROUGE-l score of validation set for epoch 157:  0.2207594883459894\n"
     ]
    },
    {
     "name": "stderr",
     "output_type": "stream",
     "text": [
      "                                                 \r"
     ]
    },
    {
     "name": "stdout",
     "output_type": "stream",
     "text": [
      "CIDEr score of validation set for epoch 158:  0.06591121213039826\n",
      "BLEU score of validation set for epoch 158:  0.2298758426256848\n",
      "ROUGE-l score of validation set for epoch 158:  0.22119620105461557\n"
     ]
    },
    {
     "name": "stderr",
     "output_type": "stream",
     "text": [
      "                                                 \r"
     ]
    },
    {
     "name": "stdout",
     "output_type": "stream",
     "text": [
      "CIDEr score of validation set for epoch 159:  0.07069694757324409\n",
      "BLEU score of validation set for epoch 159:  0.22124667951043933\n",
      "ROUGE-l score of validation set for epoch 159:  0.21865305986198513\n"
     ]
    },
    {
     "name": "stderr",
     "output_type": "stream",
     "text": [
      "                                                 \r"
     ]
    },
    {
     "name": "stdout",
     "output_type": "stream",
     "text": [
      "CIDEr score of validation set for epoch 160:  0.06707471389490464\n",
      "BLEU score of validation set for epoch 160:  0.22249057218452117\n",
      "ROUGE-l score of validation set for epoch 160:  0.21896725193993347\n"
     ]
    },
    {
     "name": "stderr",
     "output_type": "stream",
     "text": [
      "                                                 \r"
     ]
    },
    {
     "name": "stdout",
     "output_type": "stream",
     "text": [
      "CIDEr score of validation set for epoch 161:  0.07018958719464684\n",
      "BLEU score of validation set for epoch 161:  0.22627341078944926\n",
      "ROUGE-l score of validation set for epoch 161:  0.22198492549375487\n"
     ]
    },
    {
     "name": "stderr",
     "output_type": "stream",
     "text": [
      "                                                 \r"
     ]
    },
    {
     "name": "stdout",
     "output_type": "stream",
     "text": [
      "CIDEr score of validation set for epoch 162:  0.061789229110737455\n",
      "BLEU score of validation set for epoch 162:  0.22772401856848218\n",
      "ROUGE-l score of validation set for epoch 162:  0.22038774869443517\n"
     ]
    },
    {
     "name": "stderr",
     "output_type": "stream",
     "text": [
      "                                                 \r"
     ]
    },
    {
     "name": "stdout",
     "output_type": "stream",
     "text": [
      "CIDEr score of validation set for epoch 163:  0.07038717719410546\n",
      "BLEU score of validation set for epoch 163:  0.22978669104518776\n",
      "ROUGE-l score of validation set for epoch 163:  0.22231550943135803\n"
     ]
    },
    {
     "name": "stderr",
     "output_type": "stream",
     "text": [
      "                                                 \r"
     ]
    },
    {
     "name": "stdout",
     "output_type": "stream",
     "text": [
      "CIDEr score of validation set for epoch 164:  0.07499623720589738\n",
      "BLEU score of validation set for epoch 164:  0.22930763681058872\n",
      "ROUGE-l score of validation set for epoch 164:  0.22022602183297257\n"
     ]
    },
    {
     "name": "stderr",
     "output_type": "stream",
     "text": [
      "                                                 \r"
     ]
    },
    {
     "name": "stdout",
     "output_type": "stream",
     "text": [
      "CIDEr score of validation set for epoch 165:  0.07272297054378062\n",
      "BLEU score of validation set for epoch 165:  0.22312139627232314\n",
      "ROUGE-l score of validation set for epoch 165:  0.21880671795441103\n"
     ]
    },
    {
     "name": "stderr",
     "output_type": "stream",
     "text": [
      "                                                 \r"
     ]
    },
    {
     "name": "stdout",
     "output_type": "stream",
     "text": [
      "CIDEr score of validation set for epoch 166:  0.06299843833360172\n",
      "BLEU score of validation set for epoch 166:  0.2247559971048843\n",
      "ROUGE-l score of validation set for epoch 166:  0.21980372284735125\n"
     ]
    },
    {
     "name": "stderr",
     "output_type": "stream",
     "text": [
      "                                                 \r"
     ]
    },
    {
     "name": "stdout",
     "output_type": "stream",
     "text": [
      "CIDEr score of validation set for epoch 167:  0.06958815723735588\n",
      "BLEU score of validation set for epoch 167:  0.22636594257148152\n",
      "ROUGE-l score of validation set for epoch 167:  0.22296140201566794\n"
     ]
    },
    {
     "name": "stderr",
     "output_type": "stream",
     "text": [
      "                                                 \r"
     ]
    },
    {
     "name": "stdout",
     "output_type": "stream",
     "text": [
      "CIDEr score of validation set for epoch 168:  0.06787504356786302\n",
      "BLEU score of validation set for epoch 168:  0.22890598580303226\n",
      "ROUGE-l score of validation set for epoch 168:  0.2203865981251149\n"
     ]
    },
    {
     "name": "stderr",
     "output_type": "stream",
     "text": [
      "                                                 \r"
     ]
    },
    {
     "name": "stdout",
     "output_type": "stream",
     "text": [
      "CIDEr score of validation set for epoch 169:  0.05959316121007722\n",
      "BLEU score of validation set for epoch 169:  0.22062152907907978\n",
      "ROUGE-l score of validation set for epoch 169:  0.21562405110899127\n"
     ]
    },
    {
     "name": "stderr",
     "output_type": "stream",
     "text": [
      "                                                 \r"
     ]
    },
    {
     "name": "stdout",
     "output_type": "stream",
     "text": [
      "CIDEr score of validation set for epoch 170:  0.07049163929564206\n",
      "BLEU score of validation set for epoch 170:  0.22683942194049858\n",
      "ROUGE-l score of validation set for epoch 170:  0.2179702040375932\n"
     ]
    },
    {
     "name": "stderr",
     "output_type": "stream",
     "text": [
      "                                                 \r"
     ]
    },
    {
     "name": "stdout",
     "output_type": "stream",
     "text": [
      "CIDEr score of validation set for epoch 171:  0.06545832986079915\n",
      "BLEU score of validation set for epoch 171:  0.22578464392803996\n",
      "ROUGE-l score of validation set for epoch 171:  0.22009795474864496\n"
     ]
    },
    {
     "name": "stderr",
     "output_type": "stream",
     "text": [
      "                                                 \r"
     ]
    },
    {
     "name": "stdout",
     "output_type": "stream",
     "text": [
      "CIDEr score of validation set for epoch 172:  0.06627915760368826\n",
      "BLEU score of validation set for epoch 172:  0.22981053768252524\n",
      "ROUGE-l score of validation set for epoch 172:  0.22024250715767932\n"
     ]
    },
    {
     "name": "stderr",
     "output_type": "stream",
     "text": [
      "                                                 \r"
     ]
    },
    {
     "name": "stdout",
     "output_type": "stream",
     "text": [
      "CIDEr score of validation set for epoch 173:  0.07582545473028171\n",
      "BLEU score of validation set for epoch 173:  0.2285666611586081\n",
      "ROUGE-l score of validation set for epoch 173:  0.21882500907811372\n"
     ]
    },
    {
     "name": "stderr",
     "output_type": "stream",
     "text": [
      "                                                 \r"
     ]
    },
    {
     "name": "stdout",
     "output_type": "stream",
     "text": [
      "CIDEr score of validation set for epoch 174:  0.06796456449272018\n",
      "BLEU score of validation set for epoch 174:  0.2267729756515867\n",
      "ROUGE-l score of validation set for epoch 174:  0.2181142538908295\n"
     ]
    },
    {
     "name": "stderr",
     "output_type": "stream",
     "text": [
      "                                                 \r"
     ]
    },
    {
     "name": "stdout",
     "output_type": "stream",
     "text": [
      "CIDEr score of validation set for epoch 175:  0.07046430440532364\n",
      "BLEU score of validation set for epoch 175:  0.2287303238790128\n",
      "ROUGE-l score of validation set for epoch 175:  0.2200695911879714\n"
     ]
    },
    {
     "name": "stderr",
     "output_type": "stream",
     "text": [
      "                                                 \r"
     ]
    },
    {
     "name": "stdout",
     "output_type": "stream",
     "text": [
      "CIDEr score of validation set for epoch 176:  0.06985011215958359\n",
      "BLEU score of validation set for epoch 176:  0.23559367455774427\n",
      "ROUGE-l score of validation set for epoch 176:  0.22267033881351833\n"
     ]
    },
    {
     "name": "stderr",
     "output_type": "stream",
     "text": [
      "                                                 \r"
     ]
    },
    {
     "name": "stdout",
     "output_type": "stream",
     "text": [
      "CIDEr score of validation set for epoch 177:  0.06962704561455074\n",
      "BLEU score of validation set for epoch 177:  0.2299917596884576\n",
      "ROUGE-l score of validation set for epoch 177:  0.2179985845724902\n"
     ]
    },
    {
     "name": "stderr",
     "output_type": "stream",
     "text": [
      "                                                 \r"
     ]
    },
    {
     "name": "stdout",
     "output_type": "stream",
     "text": [
      "CIDEr score of validation set for epoch 178:  0.07215488399463732\n",
      "BLEU score of validation set for epoch 178:  0.22787494123490018\n",
      "ROUGE-l score of validation set for epoch 178:  0.21851955757725375\n"
     ]
    },
    {
     "name": "stderr",
     "output_type": "stream",
     "text": [
      "                                                 \r"
     ]
    },
    {
     "name": "stdout",
     "output_type": "stream",
     "text": [
      "CIDEr score of validation set for epoch 179:  0.06604393398686216\n",
      "BLEU score of validation set for epoch 179:  0.2298642444541485\n",
      "ROUGE-l score of validation set for epoch 179:  0.2195281549362915\n"
     ]
    },
    {
     "name": "stderr",
     "output_type": "stream",
     "text": [
      "                                                 \r"
     ]
    },
    {
     "name": "stdout",
     "output_type": "stream",
     "text": [
      "CIDEr score of validation set for epoch 180:  0.06614230830362858\n",
      "BLEU score of validation set for epoch 180:  0.22338102447030472\n",
      "ROUGE-l score of validation set for epoch 180:  0.21650998873385996\n"
     ]
    },
    {
     "name": "stderr",
     "output_type": "stream",
     "text": [
      "                                                 \r"
     ]
    },
    {
     "name": "stdout",
     "output_type": "stream",
     "text": [
      "CIDEr score of validation set for epoch 181:  0.0700697837523838\n",
      "BLEU score of validation set for epoch 181:  0.22480207346586498\n",
      "ROUGE-l score of validation set for epoch 181:  0.21761424051345732\n"
     ]
    },
    {
     "name": "stderr",
     "output_type": "stream",
     "text": [
      "                                                 \r"
     ]
    },
    {
     "name": "stdout",
     "output_type": "stream",
     "text": [
      "CIDEr score of validation set for epoch 182:  0.06366043111096038\n",
      "BLEU score of validation set for epoch 182:  0.2250761905992165\n",
      "ROUGE-l score of validation set for epoch 182:  0.2168229420732136\n"
     ]
    },
    {
     "name": "stderr",
     "output_type": "stream",
     "text": [
      "                                                 \r"
     ]
    },
    {
     "name": "stdout",
     "output_type": "stream",
     "text": [
      "CIDEr score of validation set for epoch 183:  0.06288868606280983\n",
      "BLEU score of validation set for epoch 183:  0.22868481970813773\n",
      "ROUGE-l score of validation set for epoch 183:  0.21793639481839103\n"
     ]
    },
    {
     "name": "stderr",
     "output_type": "stream",
     "text": [
      "                                                 \r"
     ]
    },
    {
     "name": "stdout",
     "output_type": "stream",
     "text": [
      "CIDEr score of validation set for epoch 184:  0.07326796477626289\n",
      "BLEU score of validation set for epoch 184:  0.2267523960212352\n",
      "ROUGE-l score of validation set for epoch 184:  0.21662265563048272\n"
     ]
    },
    {
     "name": "stderr",
     "output_type": "stream",
     "text": [
      "                                                 \r"
     ]
    },
    {
     "name": "stdout",
     "output_type": "stream",
     "text": [
      "CIDEr score of validation set for epoch 185:  0.06697285101010313\n",
      "BLEU score of validation set for epoch 185:  0.2232017645648785\n",
      "ROUGE-l score of validation set for epoch 185:  0.2182567470495828\n"
     ]
    },
    {
     "name": "stderr",
     "output_type": "stream",
     "text": [
      "                                                 \r"
     ]
    },
    {
     "name": "stdout",
     "output_type": "stream",
     "text": [
      "CIDEr score of validation set for epoch 186:  0.05920723216286917\n",
      "BLEU score of validation set for epoch 186:  0.22394782521301215\n",
      "ROUGE-l score of validation set for epoch 186:  0.21888482387911828\n"
     ]
    },
    {
     "name": "stderr",
     "output_type": "stream",
     "text": [
      "                                                 \r"
     ]
    },
    {
     "name": "stdout",
     "output_type": "stream",
     "text": [
      "CIDEr score of validation set for epoch 187:  0.06422008173369653\n",
      "BLEU score of validation set for epoch 187:  0.2259179579786145\n",
      "ROUGE-l score of validation set for epoch 187:  0.2148317766051163\n"
     ]
    },
    {
     "name": "stderr",
     "output_type": "stream",
     "text": [
      "                                                 \r"
     ]
    },
    {
     "name": "stdout",
     "output_type": "stream",
     "text": [
      "CIDEr score of validation set for epoch 188:  0.066711471794839\n",
      "BLEU score of validation set for epoch 188:  0.22606046745948882\n",
      "ROUGE-l score of validation set for epoch 188:  0.21792414898566925\n"
     ]
    },
    {
     "name": "stderr",
     "output_type": "stream",
     "text": [
      "                                                 \r"
     ]
    },
    {
     "name": "stdout",
     "output_type": "stream",
     "text": [
      "CIDEr score of validation set for epoch 189:  0.07616232683833593\n",
      "BLEU score of validation set for epoch 189:  0.2235663412602758\n",
      "ROUGE-l score of validation set for epoch 189:  0.21636083078429613\n"
     ]
    },
    {
     "name": "stderr",
     "output_type": "stream",
     "text": [
      "                                                 \r"
     ]
    },
    {
     "name": "stdout",
     "output_type": "stream",
     "text": [
      "CIDEr score of validation set for epoch 190:  0.06579912224366517\n",
      "BLEU score of validation set for epoch 190:  0.22486174973830517\n",
      "ROUGE-l score of validation set for epoch 190:  0.2148635979194407\n"
     ]
    },
    {
     "name": "stderr",
     "output_type": "stream",
     "text": [
      "                                                 \r"
     ]
    },
    {
     "name": "stdout",
     "output_type": "stream",
     "text": [
      "CIDEr score of validation set for epoch 191:  0.05932309140169929\n",
      "BLEU score of validation set for epoch 191:  0.22622200610592616\n",
      "ROUGE-l score of validation set for epoch 191:  0.21839228326391877\n"
     ]
    },
    {
     "name": "stderr",
     "output_type": "stream",
     "text": [
      "                                                 \r"
     ]
    },
    {
     "name": "stdout",
     "output_type": "stream",
     "text": [
      "CIDEr score of validation set for epoch 192:  0.06266091734221592\n",
      "BLEU score of validation set for epoch 192:  0.22068831209146494\n",
      "ROUGE-l score of validation set for epoch 192:  0.21562415068302537\n"
     ]
    },
    {
     "name": "stderr",
     "output_type": "stream",
     "text": [
      "                                                 \r"
     ]
    },
    {
     "name": "stdout",
     "output_type": "stream",
     "text": [
      "CIDEr score of validation set for epoch 193:  0.05886848223635592\n",
      "BLEU score of validation set for epoch 193:  0.22507266908584764\n",
      "ROUGE-l score of validation set for epoch 193:  0.21814158022144878\n"
     ]
    },
    {
     "name": "stderr",
     "output_type": "stream",
     "text": [
      "                                                 \r"
     ]
    },
    {
     "name": "stdout",
     "output_type": "stream",
     "text": [
      "CIDEr score of validation set for epoch 194:  0.07292195009599807\n",
      "BLEU score of validation set for epoch 194:  0.22740519052247338\n",
      "ROUGE-l score of validation set for epoch 194:  0.21873648419429162\n"
     ]
    },
    {
     "name": "stderr",
     "output_type": "stream",
     "text": [
      "                                                 \r"
     ]
    },
    {
     "name": "stdout",
     "output_type": "stream",
     "text": [
      "CIDEr score of validation set for epoch 195:  0.0644406743409542\n",
      "BLEU score of validation set for epoch 195:  0.22602885965716654\n",
      "ROUGE-l score of validation set for epoch 195:  0.21647434056428078\n"
     ]
    },
    {
     "name": "stderr",
     "output_type": "stream",
     "text": [
      "                                                 \r"
     ]
    },
    {
     "name": "stdout",
     "output_type": "stream",
     "text": [
      "CIDEr score of validation set for epoch 196:  0.06720284342863132\n",
      "BLEU score of validation set for epoch 196:  0.22680043318677087\n",
      "ROUGE-l score of validation set for epoch 196:  0.21525884690797326\n"
     ]
    },
    {
     "name": "stderr",
     "output_type": "stream",
     "text": [
      "                                                 \r"
     ]
    },
    {
     "name": "stdout",
     "output_type": "stream",
     "text": [
      "CIDEr score of validation set for epoch 197:  0.056526151566495424\n",
      "BLEU score of validation set for epoch 197:  0.22849796951529874\n",
      "ROUGE-l score of validation set for epoch 197:  0.2190186538915296\n"
     ]
    },
    {
     "name": "stderr",
     "output_type": "stream",
     "text": [
      "                                                 \r"
     ]
    },
    {
     "name": "stdout",
     "output_type": "stream",
     "text": [
      "CIDEr score of validation set for epoch 198:  0.07362421135510733\n",
      "BLEU score of validation set for epoch 198:  0.22528123609518858\n",
      "ROUGE-l score of validation set for epoch 198:  0.21546836521677648\n"
     ]
    },
    {
     "name": "stderr",
     "output_type": "stream",
     "text": [
      "                                                 \r"
     ]
    },
    {
     "name": "stdout",
     "output_type": "stream",
     "text": [
      "CIDEr score of validation set for epoch 199:  0.06745739692882316\n",
      "BLEU score of validation set for epoch 199:  0.22502977480859856\n",
      "ROUGE-l score of validation set for epoch 199:  0.21723292183280965\n"
     ]
    },
    {
     "name": "stderr",
     "output_type": "stream",
     "text": [
      "                                                 \r"
     ]
    },
    {
     "name": "stdout",
     "output_type": "stream",
     "text": [
      "CIDEr score of validation set for epoch 200:  0.06247174240524556\n",
      "BLEU score of validation set for epoch 200:  0.22875084295272277\n",
      "ROUGE-l score of validation set for epoch 200:  0.21622446728696876\n"
     ]
    },
    {
     "name": "stderr",
     "output_type": "stream",
     "text": [
      "                                                 \r"
     ]
    },
    {
     "name": "stdout",
     "output_type": "stream",
     "text": [
      "CIDEr score of validation set for epoch 201:  0.0637279382406175\n",
      "BLEU score of validation set for epoch 201:  0.22762414014723004\n",
      "ROUGE-l score of validation set for epoch 201:  0.2161556710598433\n"
     ]
    },
    {
     "name": "stderr",
     "output_type": "stream",
     "text": [
      "                                                 \r"
     ]
    },
    {
     "name": "stdout",
     "output_type": "stream",
     "text": [
      "CIDEr score of validation set for epoch 202:  0.07147937200794428\n",
      "BLEU score of validation set for epoch 202:  0.22589850678388226\n",
      "ROUGE-l score of validation set for epoch 202:  0.21753116138568068\n"
     ]
    },
    {
     "name": "stderr",
     "output_type": "stream",
     "text": [
      "                                                 \r"
     ]
    },
    {
     "name": "stdout",
     "output_type": "stream",
     "text": [
      "CIDEr score of validation set for epoch 203:  0.06509919703415865\n",
      "BLEU score of validation set for epoch 203:  0.2281107697020586\n",
      "ROUGE-l score of validation set for epoch 203:  0.21393618693986413\n"
     ]
    },
    {
     "name": "stderr",
     "output_type": "stream",
     "text": [
      "                                                 \r"
     ]
    },
    {
     "name": "stdout",
     "output_type": "stream",
     "text": [
      "CIDEr score of validation set for epoch 204:  0.061473595147457365\n",
      "BLEU score of validation set for epoch 204:  0.2301702980817459\n",
      "ROUGE-l score of validation set for epoch 204:  0.21806317546689769\n"
     ]
    },
    {
     "name": "stderr",
     "output_type": "stream",
     "text": [
      "                                                 \r"
     ]
    },
    {
     "name": "stdout",
     "output_type": "stream",
     "text": [
      "CIDEr score of validation set for epoch 205:  0.0675268775197794\n",
      "BLEU score of validation set for epoch 205:  0.2249095057812667\n",
      "ROUGE-l score of validation set for epoch 205:  0.21617756643053285\n"
     ]
    },
    {
     "name": "stderr",
     "output_type": "stream",
     "text": [
      "                                                 \r"
     ]
    },
    {
     "name": "stdout",
     "output_type": "stream",
     "text": [
      "CIDEr score of validation set for epoch 206:  0.05826627297887984\n",
      "BLEU score of validation set for epoch 206:  0.22503920237289596\n",
      "ROUGE-l score of validation set for epoch 206:  0.21502987491383518\n"
     ]
    },
    {
     "name": "stderr",
     "output_type": "stream",
     "text": [
      "                                                 \r"
     ]
    },
    {
     "name": "stdout",
     "output_type": "stream",
     "text": [
      "CIDEr score of validation set for epoch 207:  0.06466516093643469\n",
      "BLEU score of validation set for epoch 207:  0.22585945705839888\n",
      "ROUGE-l score of validation set for epoch 207:  0.21459313919176987\n"
     ]
    },
    {
     "name": "stderr",
     "output_type": "stream",
     "text": [
      "                                                 \r"
     ]
    },
    {
     "name": "stdout",
     "output_type": "stream",
     "text": [
      "CIDEr score of validation set for epoch 208:  0.05889328611957817\n",
      "BLEU score of validation set for epoch 208:  0.22516329346193162\n",
      "ROUGE-l score of validation set for epoch 208:  0.2146407587208382\n"
     ]
    },
    {
     "name": "stderr",
     "output_type": "stream",
     "text": [
      "                                                 \r"
     ]
    },
    {
     "name": "stdout",
     "output_type": "stream",
     "text": [
      "CIDEr score of validation set for epoch 209:  0.06526641166806481\n",
      "BLEU score of validation set for epoch 209:  0.23199663361353332\n",
      "ROUGE-l score of validation set for epoch 209:  0.21693642723909562\n"
     ]
    },
    {
     "name": "stderr",
     "output_type": "stream",
     "text": [
      "                                                 \r"
     ]
    },
    {
     "name": "stdout",
     "output_type": "stream",
     "text": [
      "CIDEr score of validation set for epoch 210:  0.06422037518031601\n",
      "BLEU score of validation set for epoch 210:  0.22800463645145036\n",
      "ROUGE-l score of validation set for epoch 210:  0.21475138066596935\n"
     ]
    },
    {
     "name": "stderr",
     "output_type": "stream",
     "text": [
      "                                                 \r"
     ]
    },
    {
     "name": "stdout",
     "output_type": "stream",
     "text": [
      "CIDEr score of validation set for epoch 211:  0.07203862293360833\n",
      "BLEU score of validation set for epoch 211:  0.22659155294933134\n",
      "ROUGE-l score of validation set for epoch 211:  0.21360382958270072\n"
     ]
    },
    {
     "name": "stderr",
     "output_type": "stream",
     "text": [
      "                                                 \r"
     ]
    },
    {
     "name": "stdout",
     "output_type": "stream",
     "text": [
      "CIDEr score of validation set for epoch 212:  0.06549552623361865\n",
      "BLEU score of validation set for epoch 212:  0.2284899575727594\n",
      "ROUGE-l score of validation set for epoch 212:  0.21622019914270618\n"
     ]
    },
    {
     "name": "stderr",
     "output_type": "stream",
     "text": [
      "                                                 \r"
     ]
    },
    {
     "name": "stdout",
     "output_type": "stream",
     "text": [
      "CIDEr score of validation set for epoch 213:  0.061117378547775505\n",
      "BLEU score of validation set for epoch 213:  0.22709407493763506\n",
      "ROUGE-l score of validation set for epoch 213:  0.2165103018151082\n"
     ]
    },
    {
     "name": "stderr",
     "output_type": "stream",
     "text": [
      "                                                 \r"
     ]
    },
    {
     "name": "stdout",
     "output_type": "stream",
     "text": [
      "CIDEr score of validation set for epoch 214:  0.06492719931097883\n",
      "BLEU score of validation set for epoch 214:  0.23150189330330784\n",
      "ROUGE-l score of validation set for epoch 214:  0.21424718801649015\n"
     ]
    },
    {
     "name": "stderr",
     "output_type": "stream",
     "text": [
      "                                                 \r"
     ]
    },
    {
     "name": "stdout",
     "output_type": "stream",
     "text": [
      "CIDEr score of validation set for epoch 215:  0.058757787545263035\n",
      "BLEU score of validation set for epoch 215:  0.22905842333797752\n",
      "ROUGE-l score of validation set for epoch 215:  0.21428130538551005\n"
     ]
    },
    {
     "name": "stderr",
     "output_type": "stream",
     "text": [
      "                                                 \r"
     ]
    },
    {
     "name": "stdout",
     "output_type": "stream",
     "text": [
      "CIDEr score of validation set for epoch 216:  0.05605351854749877\n",
      "BLEU score of validation set for epoch 216:  0.23017363966492854\n",
      "ROUGE-l score of validation set for epoch 216:  0.21323310801722156\n"
     ]
    },
    {
     "name": "stderr",
     "output_type": "stream",
     "text": [
      "                                                 \r"
     ]
    },
    {
     "name": "stdout",
     "output_type": "stream",
     "text": [
      "CIDEr score of validation set for epoch 217:  0.0651233364779598\n",
      "BLEU score of validation set for epoch 217:  0.22634142452032768\n",
      "ROUGE-l score of validation set for epoch 217:  0.21318747876525396\n"
     ]
    },
    {
     "name": "stderr",
     "output_type": "stream",
     "text": [
      "                                                 \r"
     ]
    },
    {
     "name": "stdout",
     "output_type": "stream",
     "text": [
      "CIDEr score of validation set for epoch 218:  0.0643080448282283\n",
      "BLEU score of validation set for epoch 218:  0.23045866767310755\n",
      "ROUGE-l score of validation set for epoch 218:  0.21566745082669397\n"
     ]
    },
    {
     "name": "stderr",
     "output_type": "stream",
     "text": [
      "                                                 \r"
     ]
    },
    {
     "name": "stdout",
     "output_type": "stream",
     "text": [
      "CIDEr score of validation set for epoch 219:  0.061816946721844145\n",
      "BLEU score of validation set for epoch 219:  0.22556950304146273\n",
      "ROUGE-l score of validation set for epoch 219:  0.2121623514407528\n"
     ]
    },
    {
     "name": "stderr",
     "output_type": "stream",
     "text": [
      "                                                 \r"
     ]
    },
    {
     "name": "stdout",
     "output_type": "stream",
     "text": [
      "CIDEr score of validation set for epoch 220:  0.0654241905989732\n",
      "BLEU score of validation set for epoch 220:  0.22686674500604892\n",
      "ROUGE-l score of validation set for epoch 220:  0.214856555164892\n"
     ]
    },
    {
     "name": "stderr",
     "output_type": "stream",
     "text": [
      "                                                 \r"
     ]
    },
    {
     "name": "stdout",
     "output_type": "stream",
     "text": [
      "CIDEr score of validation set for epoch 221:  0.06576444709298582\n",
      "BLEU score of validation set for epoch 221:  0.22176752508617692\n",
      "ROUGE-l score of validation set for epoch 221:  0.2137910198804915\n"
     ]
    },
    {
     "name": "stderr",
     "output_type": "stream",
     "text": [
      "                                                 \r"
     ]
    },
    {
     "name": "stdout",
     "output_type": "stream",
     "text": [
      "CIDEr score of validation set for epoch 222:  0.05826095903940185\n",
      "BLEU score of validation set for epoch 222:  0.22630625382205077\n",
      "ROUGE-l score of validation set for epoch 222:  0.21402497288014366\n"
     ]
    },
    {
     "name": "stderr",
     "output_type": "stream",
     "text": [
      "                                                 \r"
     ]
    },
    {
     "name": "stdout",
     "output_type": "stream",
     "text": [
      "CIDEr score of validation set for epoch 223:  0.06642292412815742\n",
      "BLEU score of validation set for epoch 223:  0.2273623995378566\n",
      "ROUGE-l score of validation set for epoch 223:  0.21332364678060028\n"
     ]
    },
    {
     "name": "stderr",
     "output_type": "stream",
     "text": [
      "                                                 \r"
     ]
    },
    {
     "name": "stdout",
     "output_type": "stream",
     "text": [
      "CIDEr score of validation set for epoch 224:  0.07188313136804692\n",
      "BLEU score of validation set for epoch 224:  0.23064128011927781\n",
      "ROUGE-l score of validation set for epoch 224:  0.21517647879382404\n"
     ]
    },
    {
     "name": "stderr",
     "output_type": "stream",
     "text": [
      "                                                 \r"
     ]
    },
    {
     "name": "stdout",
     "output_type": "stream",
     "text": [
      "CIDEr score of validation set for epoch 225:  0.05940431121262187\n",
      "BLEU score of validation set for epoch 225:  0.22372351151134967\n",
      "ROUGE-l score of validation set for epoch 225:  0.21034464464241684\n"
     ]
    },
    {
     "name": "stderr",
     "output_type": "stream",
     "text": [
      "                                                 \r"
     ]
    },
    {
     "name": "stdout",
     "output_type": "stream",
     "text": [
      "CIDEr score of validation set for epoch 226:  0.06187762113237856\n",
      "BLEU score of validation set for epoch 226:  0.2224783207162876\n",
      "ROUGE-l score of validation set for epoch 226:  0.21432800707491229\n"
     ]
    },
    {
     "name": "stderr",
     "output_type": "stream",
     "text": [
      "                                                 \r"
     ]
    },
    {
     "name": "stdout",
     "output_type": "stream",
     "text": [
      "CIDEr score of validation set for epoch 227:  0.057371641001842076\n",
      "BLEU score of validation set for epoch 227:  0.22000706193222413\n",
      "ROUGE-l score of validation set for epoch 227:  0.21243980447945648\n"
     ]
    },
    {
     "name": "stderr",
     "output_type": "stream",
     "text": [
      "                                                 \r"
     ]
    },
    {
     "name": "stdout",
     "output_type": "stream",
     "text": [
      "CIDEr score of validation set for epoch 228:  0.056047637392367365\n",
      "BLEU score of validation set for epoch 228:  0.22661837465454673\n",
      "ROUGE-l score of validation set for epoch 228:  0.2121718614291405\n"
     ]
    },
    {
     "name": "stderr",
     "output_type": "stream",
     "text": [
      "                                                 \r"
     ]
    },
    {
     "name": "stdout",
     "output_type": "stream",
     "text": [
      "CIDEr score of validation set for epoch 229:  0.0643815206635004\n",
      "BLEU score of validation set for epoch 229:  0.22196513081208682\n",
      "ROUGE-l score of validation set for epoch 229:  0.21182596934156447\n"
     ]
    },
    {
     "name": "stderr",
     "output_type": "stream",
     "text": [
      "                                                 \r"
     ]
    },
    {
     "name": "stdout",
     "output_type": "stream",
     "text": [
      "CIDEr score of validation set for epoch 230:  0.06723864028378818\n",
      "BLEU score of validation set for epoch 230:  0.2316286598084136\n",
      "ROUGE-l score of validation set for epoch 230:  0.21516613503823875\n"
     ]
    },
    {
     "name": "stderr",
     "output_type": "stream",
     "text": [
      "                                                 \r"
     ]
    },
    {
     "name": "stdout",
     "output_type": "stream",
     "text": [
      "CIDEr score of validation set for epoch 231:  0.06246206835442864\n",
      "BLEU score of validation set for epoch 231:  0.22455949835276456\n",
      "ROUGE-l score of validation set for epoch 231:  0.2129762152929612\n"
     ]
    },
    {
     "name": "stderr",
     "output_type": "stream",
     "text": [
      "                                                 \r"
     ]
    },
    {
     "name": "stdout",
     "output_type": "stream",
     "text": [
      "CIDEr score of validation set for epoch 232:  0.06575765052814088\n",
      "BLEU score of validation set for epoch 232:  0.23241796184342992\n",
      "ROUGE-l score of validation set for epoch 232:  0.21514160846235683\n"
     ]
    },
    {
     "name": "stderr",
     "output_type": "stream",
     "text": [
      "                                                 \r"
     ]
    },
    {
     "name": "stdout",
     "output_type": "stream",
     "text": [
      "CIDEr score of validation set for epoch 233:  0.06126553393065975\n",
      "BLEU score of validation set for epoch 233:  0.22456696039768642\n",
      "ROUGE-l score of validation set for epoch 233:  0.21146645779629533\n"
     ]
    },
    {
     "name": "stderr",
     "output_type": "stream",
     "text": [
      "                                                 \r"
     ]
    },
    {
     "name": "stdout",
     "output_type": "stream",
     "text": [
      "CIDEr score of validation set for epoch 234:  0.05946909459527236\n",
      "BLEU score of validation set for epoch 234:  0.23099616557767272\n",
      "ROUGE-l score of validation set for epoch 234:  0.21489952484703337\n"
     ]
    },
    {
     "name": "stderr",
     "output_type": "stream",
     "text": [
      "                                                 \r"
     ]
    },
    {
     "name": "stdout",
     "output_type": "stream",
     "text": [
      "CIDEr score of validation set for epoch 235:  0.056764974172721375\n",
      "BLEU score of validation set for epoch 235:  0.22503816142449862\n",
      "ROUGE-l score of validation set for epoch 235:  0.21051854819092514\n"
     ]
    },
    {
     "name": "stderr",
     "output_type": "stream",
     "text": [
      "                                                 \r"
     ]
    },
    {
     "name": "stdout",
     "output_type": "stream",
     "text": [
      "CIDEr score of validation set for epoch 236:  0.061191945646460036\n",
      "BLEU score of validation set for epoch 236:  0.22891507783400616\n",
      "ROUGE-l score of validation set for epoch 236:  0.21327395618464143\n"
     ]
    },
    {
     "name": "stderr",
     "output_type": "stream",
     "text": [
      "                                                 \r"
     ]
    },
    {
     "name": "stdout",
     "output_type": "stream",
     "text": [
      "CIDEr score of validation set for epoch 237:  0.07392243592269836\n",
      "BLEU score of validation set for epoch 237:  0.22883939225239933\n",
      "ROUGE-l score of validation set for epoch 237:  0.2145653327949572\n"
     ]
    },
    {
     "name": "stderr",
     "output_type": "stream",
     "text": [
      "                                                 \r"
     ]
    },
    {
     "name": "stdout",
     "output_type": "stream",
     "text": [
      "CIDEr score of validation set for epoch 238:  0.06191201746543722\n",
      "BLEU score of validation set for epoch 238:  0.22987992022074286\n",
      "ROUGE-l score of validation set for epoch 238:  0.2157382767080995\n"
     ]
    },
    {
     "name": "stderr",
     "output_type": "stream",
     "text": [
      "                                                 \r"
     ]
    },
    {
     "name": "stdout",
     "output_type": "stream",
     "text": [
      "CIDEr score of validation set for epoch 239:  0.06385344899311082\n",
      "BLEU score of validation set for epoch 239:  0.22430002918352726\n",
      "ROUGE-l score of validation set for epoch 239:  0.20914329978671498\n"
     ]
    },
    {
     "name": "stderr",
     "output_type": "stream",
     "text": [
      "                                                 \r"
     ]
    },
    {
     "name": "stdout",
     "output_type": "stream",
     "text": [
      "CIDEr score of validation set for epoch 240:  0.06586684197917814\n",
      "BLEU score of validation set for epoch 240:  0.22464269515664473\n",
      "ROUGE-l score of validation set for epoch 240:  0.20912278264430414\n"
     ]
    },
    {
     "name": "stderr",
     "output_type": "stream",
     "text": [
      "                                                 \r"
     ]
    },
    {
     "name": "stdout",
     "output_type": "stream",
     "text": [
      "CIDEr score of validation set for epoch 241:  0.05848743838647611\n",
      "BLEU score of validation set for epoch 241:  0.22128375919327045\n",
      "ROUGE-l score of validation set for epoch 241:  0.20756119564142256\n"
     ]
    },
    {
     "name": "stderr",
     "output_type": "stream",
     "text": [
      "                                                 \r"
     ]
    },
    {
     "name": "stdout",
     "output_type": "stream",
     "text": [
      "CIDEr score of validation set for epoch 242:  0.059822901207998096\n",
      "BLEU score of validation set for epoch 242:  0.22124156200013914\n",
      "ROUGE-l score of validation set for epoch 242:  0.20960259726421107\n"
     ]
    },
    {
     "name": "stderr",
     "output_type": "stream",
     "text": [
      "                                                 \r"
     ]
    },
    {
     "name": "stdout",
     "output_type": "stream",
     "text": [
      "CIDEr score of validation set for epoch 243:  0.06571165099080484\n",
      "BLEU score of validation set for epoch 243:  0.22886991265464188\n",
      "ROUGE-l score of validation set for epoch 243:  0.21267385885011425\n"
     ]
    },
    {
     "name": "stderr",
     "output_type": "stream",
     "text": [
      "                                                 \r"
     ]
    },
    {
     "name": "stdout",
     "output_type": "stream",
     "text": [
      "CIDEr score of validation set for epoch 244:  0.06416285419896565\n",
      "BLEU score of validation set for epoch 244:  0.22480728338181138\n",
      "ROUGE-l score of validation set for epoch 244:  0.21077466737353825\n"
     ]
    },
    {
     "name": "stderr",
     "output_type": "stream",
     "text": [
      "                                                 \r"
     ]
    },
    {
     "name": "stdout",
     "output_type": "stream",
     "text": [
      "CIDEr score of validation set for epoch 245:  0.05934933932241557\n",
      "BLEU score of validation set for epoch 245:  0.22690069933503623\n",
      "ROUGE-l score of validation set for epoch 245:  0.212581264375774\n"
     ]
    },
    {
     "name": "stderr",
     "output_type": "stream",
     "text": [
      "                                                 \r"
     ]
    },
    {
     "name": "stdout",
     "output_type": "stream",
     "text": [
      "CIDEr score of validation set for epoch 246:  0.06535869212183631\n",
      "BLEU score of validation set for epoch 246:  0.22953381711749032\n",
      "ROUGE-l score of validation set for epoch 246:  0.2102503668909219\n"
     ]
    },
    {
     "name": "stderr",
     "output_type": "stream",
     "text": [
      "                                                 \r"
     ]
    },
    {
     "name": "stdout",
     "output_type": "stream",
     "text": [
      "CIDEr score of validation set for epoch 247:  0.05771287003641307\n",
      "BLEU score of validation set for epoch 247:  0.22195457276616473\n",
      "ROUGE-l score of validation set for epoch 247:  0.21433385067203192\n"
     ]
    },
    {
     "name": "stderr",
     "output_type": "stream",
     "text": [
      "                                                 \r"
     ]
    },
    {
     "name": "stdout",
     "output_type": "stream",
     "text": [
      "CIDEr score of validation set for epoch 248:  0.04960045008913694\n",
      "BLEU score of validation set for epoch 248:  0.2290889263619722\n",
      "ROUGE-l score of validation set for epoch 248:  0.2133047704790323\n"
     ]
    },
    {
     "name": "stderr",
     "output_type": "stream",
     "text": [
      "                                                 \r"
     ]
    },
    {
     "name": "stdout",
     "output_type": "stream",
     "text": [
      "CIDEr score of validation set for epoch 249:  0.06017432493598591\n",
      "BLEU score of validation set for epoch 249:  0.22944550093186597\n",
      "ROUGE-l score of validation set for epoch 249:  0.21179397156719554\n"
     ]
    },
    {
     "name": "stderr",
     "output_type": "stream",
     "text": [
      "                                                 \r"
     ]
    },
    {
     "name": "stdout",
     "output_type": "stream",
     "text": [
      "CIDEr score of validation set for epoch 250:  0.06038069899251968\n",
      "BLEU score of validation set for epoch 250:  0.22936642605119265\n",
      "ROUGE-l score of validation set for epoch 250:  0.21188566109328785\n"
     ]
    },
    {
     "name": "stderr",
     "output_type": "stream",
     "text": [
      "                                                 \r"
     ]
    },
    {
     "name": "stdout",
     "output_type": "stream",
     "text": [
      "CIDEr score of validation set for epoch 251:  0.06529906267675573\n",
      "BLEU score of validation set for epoch 251:  0.22593072142543558\n",
      "ROUGE-l score of validation set for epoch 251:  0.21308623419481437\n"
     ]
    },
    {
     "name": "stderr",
     "output_type": "stream",
     "text": [
      "                                                 \r"
     ]
    },
    {
     "name": "stdout",
     "output_type": "stream",
     "text": [
      "CIDEr score of validation set for epoch 252:  0.053393738808688244\n",
      "BLEU score of validation set for epoch 252:  0.22113881697107882\n",
      "ROUGE-l score of validation set for epoch 252:  0.20887360649542072\n"
     ]
    },
    {
     "name": "stderr",
     "output_type": "stream",
     "text": [
      "                                                 \r"
     ]
    },
    {
     "name": "stdout",
     "output_type": "stream",
     "text": [
      "CIDEr score of validation set for epoch 253:  0.06543500943086623\n",
      "BLEU score of validation set for epoch 253:  0.22669303410609762\n",
      "ROUGE-l score of validation set for epoch 253:  0.212347302571539\n"
     ]
    },
    {
     "name": "stderr",
     "output_type": "stream",
     "text": [
      "                                                 \r"
     ]
    },
    {
     "name": "stdout",
     "output_type": "stream",
     "text": [
      "CIDEr score of validation set for epoch 254:  0.05956169970940648\n",
      "BLEU score of validation set for epoch 254:  0.2221947555591689\n",
      "ROUGE-l score of validation set for epoch 254:  0.21016894968708705\n"
     ]
    },
    {
     "name": "stderr",
     "output_type": "stream",
     "text": [
      "                                                 \r"
     ]
    },
    {
     "name": "stdout",
     "output_type": "stream",
     "text": [
      "CIDEr score of validation set for epoch 255:  0.05918553278899834\n",
      "BLEU score of validation set for epoch 255:  0.2301608923370763\n",
      "ROUGE-l score of validation set for epoch 255:  0.21297638107127342\n"
     ]
    },
    {
     "name": "stderr",
     "output_type": "stream",
     "text": [
      "                                                 \r"
     ]
    },
    {
     "name": "stdout",
     "output_type": "stream",
     "text": [
      "CIDEr score of validation set for epoch 256:  0.06406556950007507\n",
      "BLEU score of validation set for epoch 256:  0.22568515834573805\n",
      "ROUGE-l score of validation set for epoch 256:  0.21281137471238165\n"
     ]
    },
    {
     "name": "stderr",
     "output_type": "stream",
     "text": [
      "                                                 \r"
     ]
    },
    {
     "name": "stdout",
     "output_type": "stream",
     "text": [
      "CIDEr score of validation set for epoch 257:  0.061395881758914375\n",
      "BLEU score of validation set for epoch 257:  0.22900133168947023\n",
      "ROUGE-l score of validation set for epoch 257:  0.21185970861150044\n"
     ]
    },
    {
     "name": "stderr",
     "output_type": "stream",
     "text": [
      "                                                 \r"
     ]
    },
    {
     "name": "stdout",
     "output_type": "stream",
     "text": [
      "CIDEr score of validation set for epoch 258:  0.06167836888947283\n",
      "BLEU score of validation set for epoch 258:  0.22326052954334796\n",
      "ROUGE-l score of validation set for epoch 258:  0.21069205708977892\n"
     ]
    },
    {
     "name": "stderr",
     "output_type": "stream",
     "text": [
      "                                                 \r"
     ]
    },
    {
     "name": "stdout",
     "output_type": "stream",
     "text": [
      "CIDEr score of validation set for epoch 259:  0.054500981578632014\n",
      "BLEU score of validation set for epoch 259:  0.22430462725106115\n",
      "ROUGE-l score of validation set for epoch 259:  0.2071757962279532\n"
     ]
    },
    {
     "name": "stderr",
     "output_type": "stream",
     "text": [
      "                                                 \r"
     ]
    },
    {
     "name": "stdout",
     "output_type": "stream",
     "text": [
      "CIDEr score of validation set for epoch 260:  0.05980617754609827\n",
      "BLEU score of validation set for epoch 260:  0.22618683031366363\n",
      "ROUGE-l score of validation set for epoch 260:  0.21043646619456596\n"
     ]
    },
    {
     "name": "stderr",
     "output_type": "stream",
     "text": [
      "                                                 \r"
     ]
    },
    {
     "name": "stdout",
     "output_type": "stream",
     "text": [
      "CIDEr score of validation set for epoch 261:  0.06273556924952463\n",
      "BLEU score of validation set for epoch 261:  0.2232771381857878\n",
      "ROUGE-l score of validation set for epoch 261:  0.20997264007610345\n"
     ]
    },
    {
     "name": "stderr",
     "output_type": "stream",
     "text": [
      "                                                 \r"
     ]
    },
    {
     "name": "stdout",
     "output_type": "stream",
     "text": [
      "CIDEr score of validation set for epoch 262:  0.05378372254581183\n",
      "BLEU score of validation set for epoch 262:  0.2268124826749133\n",
      "ROUGE-l score of validation set for epoch 262:  0.21082944313539506\n"
     ]
    },
    {
     "name": "stderr",
     "output_type": "stream",
     "text": [
      "                                                 \r"
     ]
    },
    {
     "name": "stdout",
     "output_type": "stream",
     "text": [
      "CIDEr score of validation set for epoch 263:  0.06261800043069561\n",
      "BLEU score of validation set for epoch 263:  0.2244345324899584\n",
      "ROUGE-l score of validation set for epoch 263:  0.20945339909357819\n"
     ]
    },
    {
     "name": "stderr",
     "output_type": "stream",
     "text": [
      "                                                 \r"
     ]
    },
    {
     "name": "stdout",
     "output_type": "stream",
     "text": [
      "CIDEr score of validation set for epoch 264:  0.055807030003924514\n",
      "BLEU score of validation set for epoch 264:  0.22388692992128015\n",
      "ROUGE-l score of validation set for epoch 264:  0.2089688663651285\n"
     ]
    },
    {
     "name": "stderr",
     "output_type": "stream",
     "text": [
      "                                                 \r"
     ]
    },
    {
     "name": "stdout",
     "output_type": "stream",
     "text": [
      "CIDEr score of validation set for epoch 265:  0.0581793177235349\n",
      "BLEU score of validation set for epoch 265:  0.2266155573013721\n",
      "ROUGE-l score of validation set for epoch 265:  0.21036006702665005\n"
     ]
    },
    {
     "name": "stderr",
     "output_type": "stream",
     "text": [
      "                                                 \r"
     ]
    },
    {
     "name": "stdout",
     "output_type": "stream",
     "text": [
      "CIDEr score of validation set for epoch 266:  0.06169050085699858\n",
      "BLEU score of validation set for epoch 266:  0.22656965561715164\n",
      "ROUGE-l score of validation set for epoch 266:  0.20938578317445894\n"
     ]
    },
    {
     "name": "stderr",
     "output_type": "stream",
     "text": [
      "                                                 \r"
     ]
    },
    {
     "name": "stdout",
     "output_type": "stream",
     "text": [
      "CIDEr score of validation set for epoch 267:  0.059809824840290605\n",
      "BLEU score of validation set for epoch 267:  0.21939214544856123\n",
      "ROUGE-l score of validation set for epoch 267:  0.20874836927245136\n"
     ]
    },
    {
     "name": "stderr",
     "output_type": "stream",
     "text": [
      "                                                 \r"
     ]
    },
    {
     "name": "stdout",
     "output_type": "stream",
     "text": [
      "CIDEr score of validation set for epoch 268:  0.05240143113573425\n",
      "BLEU score of validation set for epoch 268:  0.22273034252025517\n",
      "ROUGE-l score of validation set for epoch 268:  0.2093705337675142\n"
     ]
    },
    {
     "name": "stderr",
     "output_type": "stream",
     "text": [
      "                                                 \r"
     ]
    },
    {
     "name": "stdout",
     "output_type": "stream",
     "text": [
      "CIDEr score of validation set for epoch 269:  0.05610770650877114\n",
      "BLEU score of validation set for epoch 269:  0.22267471897921842\n",
      "ROUGE-l score of validation set for epoch 269:  0.20914407439182445\n"
     ]
    },
    {
     "name": "stderr",
     "output_type": "stream",
     "text": [
      "                                                 \r"
     ]
    },
    {
     "name": "stdout",
     "output_type": "stream",
     "text": [
      "CIDEr score of validation set for epoch 270:  0.06108050459259169\n",
      "BLEU score of validation set for epoch 270:  0.2260839649319578\n",
      "ROUGE-l score of validation set for epoch 270:  0.21103214412518498\n"
     ]
    },
    {
     "name": "stderr",
     "output_type": "stream",
     "text": [
      "                                                 \r"
     ]
    },
    {
     "name": "stdout",
     "output_type": "stream",
     "text": [
      "CIDEr score of validation set for epoch 271:  0.0608855775179807\n",
      "BLEU score of validation set for epoch 271:  0.2245658346457726\n",
      "ROUGE-l score of validation set for epoch 271:  0.20802131681389494\n"
     ]
    },
    {
     "name": "stderr",
     "output_type": "stream",
     "text": [
      "                                                 \r"
     ]
    },
    {
     "name": "stdout",
     "output_type": "stream",
     "text": [
      "CIDEr score of validation set for epoch 272:  0.0561260143432912\n",
      "BLEU score of validation set for epoch 272:  0.2238394502802884\n",
      "ROUGE-l score of validation set for epoch 272:  0.2088607204231765\n"
     ]
    },
    {
     "name": "stderr",
     "output_type": "stream",
     "text": [
      "                                                 \r"
     ]
    },
    {
     "name": "stdout",
     "output_type": "stream",
     "text": [
      "CIDEr score of validation set for epoch 273:  0.04997980590340229\n",
      "BLEU score of validation set for epoch 273:  0.21877874847280993\n",
      "ROUGE-l score of validation set for epoch 273:  0.20573444995307744\n"
     ]
    },
    {
     "name": "stderr",
     "output_type": "stream",
     "text": [
      "                                                 \r"
     ]
    },
    {
     "name": "stdout",
     "output_type": "stream",
     "text": [
      "CIDEr score of validation set for epoch 274:  0.0575476329321677\n",
      "BLEU score of validation set for epoch 274:  0.22546490217311935\n",
      "ROUGE-l score of validation set for epoch 274:  0.20884660419046563\n"
     ]
    },
    {
     "name": "stderr",
     "output_type": "stream",
     "text": [
      "                                                 \r"
     ]
    },
    {
     "name": "stdout",
     "output_type": "stream",
     "text": [
      "CIDEr score of validation set for epoch 275:  0.06008935712083809\n",
      "BLEU score of validation set for epoch 275:  0.22210717052378814\n",
      "ROUGE-l score of validation set for epoch 275:  0.20816937414053058\n"
     ]
    },
    {
     "name": "stderr",
     "output_type": "stream",
     "text": [
      "                                                 \r"
     ]
    },
    {
     "name": "stdout",
     "output_type": "stream",
     "text": [
      "CIDEr score of validation set for epoch 276:  0.05863817668570206\n",
      "BLEU score of validation set for epoch 276:  0.22373706406084762\n",
      "ROUGE-l score of validation set for epoch 276:  0.20735426805564042\n"
     ]
    },
    {
     "name": "stderr",
     "output_type": "stream",
     "text": [
      "                                                 \r"
     ]
    },
    {
     "name": "stdout",
     "output_type": "stream",
     "text": [
      "CIDEr score of validation set for epoch 277:  0.05124697202613241\n",
      "BLEU score of validation set for epoch 277:  0.22366193252793823\n",
      "ROUGE-l score of validation set for epoch 277:  0.20603716290245036\n"
     ]
    },
    {
     "name": "stderr",
     "output_type": "stream",
     "text": [
      "                                                 \r"
     ]
    },
    {
     "name": "stdout",
     "output_type": "stream",
     "text": [
      "CIDEr score of validation set for epoch 278:  0.05161944234535007\n",
      "BLEU score of validation set for epoch 278:  0.22162493856783255\n",
      "ROUGE-l score of validation set for epoch 278:  0.20860831083783604\n"
     ]
    },
    {
     "name": "stderr",
     "output_type": "stream",
     "text": [
      "                                                 \r"
     ]
    },
    {
     "name": "stdout",
     "output_type": "stream",
     "text": [
      "CIDEr score of validation set for epoch 279:  0.04858238752838429\n",
      "BLEU score of validation set for epoch 279:  0.22679969613404893\n",
      "ROUGE-l score of validation set for epoch 279:  0.2083772616548935\n"
     ]
    },
    {
     "name": "stderr",
     "output_type": "stream",
     "text": [
      "                                                 \r"
     ]
    },
    {
     "name": "stdout",
     "output_type": "stream",
     "text": [
      "CIDEr score of validation set for epoch 280:  0.05139982412934011\n",
      "BLEU score of validation set for epoch 280:  0.22104375359619993\n",
      "ROUGE-l score of validation set for epoch 280:  0.20693200825013525\n"
     ]
    },
    {
     "name": "stderr",
     "output_type": "stream",
     "text": [
      "                                                 \r"
     ]
    },
    {
     "name": "stdout",
     "output_type": "stream",
     "text": [
      "CIDEr score of validation set for epoch 281:  0.05034445427588937\n",
      "BLEU score of validation set for epoch 281:  0.22241325968144024\n",
      "ROUGE-l score of validation set for epoch 281:  0.20424452301806834\n"
     ]
    },
    {
     "name": "stderr",
     "output_type": "stream",
     "text": [
      "                                                 \r"
     ]
    },
    {
     "name": "stdout",
     "output_type": "stream",
     "text": [
      "CIDEr score of validation set for epoch 282:  0.04852615528704953\n",
      "BLEU score of validation set for epoch 282:  0.22429615671423522\n",
      "ROUGE-l score of validation set for epoch 282:  0.20553633915706201\n"
     ]
    },
    {
     "name": "stderr",
     "output_type": "stream",
     "text": [
      "                                                 \r"
     ]
    },
    {
     "name": "stdout",
     "output_type": "stream",
     "text": [
      "CIDEr score of validation set for epoch 283:  0.059891329534197874\n",
      "BLEU score of validation set for epoch 283:  0.22749500837222325\n",
      "ROUGE-l score of validation set for epoch 283:  0.20835806379858865\n"
     ]
    },
    {
     "name": "stderr",
     "output_type": "stream",
     "text": [
      "                                                 \r"
     ]
    },
    {
     "name": "stdout",
     "output_type": "stream",
     "text": [
      "CIDEr score of validation set for epoch 284:  0.05850340237494258\n",
      "BLEU score of validation set for epoch 284:  0.22265121441070643\n",
      "ROUGE-l score of validation set for epoch 284:  0.2097290830432392\n"
     ]
    },
    {
     "name": "stderr",
     "output_type": "stream",
     "text": [
      "                                                 \r"
     ]
    },
    {
     "name": "stdout",
     "output_type": "stream",
     "text": [
      "CIDEr score of validation set for epoch 285:  0.05096579368014272\n",
      "BLEU score of validation set for epoch 285:  0.22122239371309801\n",
      "ROUGE-l score of validation set for epoch 285:  0.20573911629941138\n"
     ]
    },
    {
     "name": "stderr",
     "output_type": "stream",
     "text": [
      "                                                 \r"
     ]
    },
    {
     "name": "stdout",
     "output_type": "stream",
     "text": [
      "CIDEr score of validation set for epoch 286:  0.0511314526219745\n",
      "BLEU score of validation set for epoch 286:  0.21934705818796543\n",
      "ROUGE-l score of validation set for epoch 286:  0.20668981144883733\n"
     ]
    },
    {
     "name": "stderr",
     "output_type": "stream",
     "text": [
      "                                                 \r"
     ]
    },
    {
     "name": "stdout",
     "output_type": "stream",
     "text": [
      "CIDEr score of validation set for epoch 287:  0.05340731338338542\n",
      "BLEU score of validation set for epoch 287:  0.2245447821398295\n",
      "ROUGE-l score of validation set for epoch 287:  0.20891586573679063\n"
     ]
    },
    {
     "name": "stderr",
     "output_type": "stream",
     "text": [
      "                                                 \r"
     ]
    },
    {
     "name": "stdout",
     "output_type": "stream",
     "text": [
      "CIDEr score of validation set for epoch 288:  0.05820377303096344\n",
      "BLEU score of validation set for epoch 288:  0.22458994778928526\n",
      "ROUGE-l score of validation set for epoch 288:  0.20529947870669057\n"
     ]
    },
    {
     "name": "stderr",
     "output_type": "stream",
     "text": [
      "                                                 \r"
     ]
    },
    {
     "name": "stdout",
     "output_type": "stream",
     "text": [
      "CIDEr score of validation set for epoch 289:  0.045542667873381536\n",
      "BLEU score of validation set for epoch 289:  0.21852836664175382\n",
      "ROUGE-l score of validation set for epoch 289:  0.20536536576009706\n"
     ]
    },
    {
     "name": "stderr",
     "output_type": "stream",
     "text": [
      "                                                 \r"
     ]
    },
    {
     "name": "stdout",
     "output_type": "stream",
     "text": [
      "CIDEr score of validation set for epoch 290:  0.054508896310534176\n",
      "BLEU score of validation set for epoch 290:  0.22575538841752535\n",
      "ROUGE-l score of validation set for epoch 290:  0.20678755919373532\n"
     ]
    },
    {
     "name": "stderr",
     "output_type": "stream",
     "text": [
      "                                                 \r"
     ]
    },
    {
     "name": "stdout",
     "output_type": "stream",
     "text": [
      "CIDEr score of validation set for epoch 291:  0.06268167420825109\n",
      "BLEU score of validation set for epoch 291:  0.22643765185646572\n",
      "ROUGE-l score of validation set for epoch 291:  0.2106579721626112\n"
     ]
    },
    {
     "name": "stderr",
     "output_type": "stream",
     "text": [
      "                                                 \r"
     ]
    },
    {
     "name": "stdout",
     "output_type": "stream",
     "text": [
      "CIDEr score of validation set for epoch 292:  0.05587512863151671\n",
      "BLEU score of validation set for epoch 292:  0.2240260011205414\n",
      "ROUGE-l score of validation set for epoch 292:  0.2080075140835485\n"
     ]
    },
    {
     "name": "stderr",
     "output_type": "stream",
     "text": [
      "                                                 \r"
     ]
    },
    {
     "name": "stdout",
     "output_type": "stream",
     "text": [
      "CIDEr score of validation set for epoch 293:  0.06296799433709083\n",
      "BLEU score of validation set for epoch 293:  0.22698366282169113\n",
      "ROUGE-l score of validation set for epoch 293:  0.20746336512405175\n"
     ]
    },
    {
     "name": "stderr",
     "output_type": "stream",
     "text": [
      "                                                 \r"
     ]
    },
    {
     "name": "stdout",
     "output_type": "stream",
     "text": [
      "CIDEr score of validation set for epoch 294:  0.06481297587218836\n",
      "BLEU score of validation set for epoch 294:  0.22294714400420718\n",
      "ROUGE-l score of validation set for epoch 294:  0.20629244276647266\n"
     ]
    },
    {
     "name": "stderr",
     "output_type": "stream",
     "text": [
      "                                                 \r"
     ]
    },
    {
     "name": "stdout",
     "output_type": "stream",
     "text": [
      "CIDEr score of validation set for epoch 295:  0.05543577311800768\n",
      "BLEU score of validation set for epoch 295:  0.22353486768137387\n",
      "ROUGE-l score of validation set for epoch 295:  0.20698633927162927\n"
     ]
    },
    {
     "name": "stderr",
     "output_type": "stream",
     "text": [
      "                                                 \r"
     ]
    },
    {
     "name": "stdout",
     "output_type": "stream",
     "text": [
      "CIDEr score of validation set for epoch 296:  0.05291506877591479\n",
      "BLEU score of validation set for epoch 296:  0.22444914583358952\n",
      "ROUGE-l score of validation set for epoch 296:  0.2079058100332403\n"
     ]
    },
    {
     "name": "stderr",
     "output_type": "stream",
     "text": [
      "                                                 \r"
     ]
    },
    {
     "name": "stdout",
     "output_type": "stream",
     "text": [
      "CIDEr score of validation set for epoch 297:  0.0525633227021643\n",
      "BLEU score of validation set for epoch 297:  0.22081048264075662\n",
      "ROUGE-l score of validation set for epoch 297:  0.20524460034771053\n"
     ]
    },
    {
     "name": "stderr",
     "output_type": "stream",
     "text": [
      "                                                 \r"
     ]
    },
    {
     "name": "stdout",
     "output_type": "stream",
     "text": [
      "CIDEr score of validation set for epoch 298:  0.05690311634189152\n",
      "BLEU score of validation set for epoch 298:  0.22120092059490537\n",
      "ROUGE-l score of validation set for epoch 298:  0.2053246275656473\n"
     ]
    },
    {
     "name": "stderr",
     "output_type": "stream",
     "text": [
      "                                                 \r"
     ]
    },
    {
     "name": "stdout",
     "output_type": "stream",
     "text": [
      "CIDEr score of validation set for epoch 299:  0.056357483459394\n",
      "BLEU score of validation set for epoch 299:  0.2238893462345004\n",
      "ROUGE-l score of validation set for epoch 299:  0.20658581660703665\n"
     ]
    },
    {
     "name": "stderr",
     "output_type": "stream",
     "text": [
      "                                                 \r"
     ]
    },
    {
     "name": "stdout",
     "output_type": "stream",
     "text": [
      "CIDEr score of validation set for epoch 300:  0.05621605964931168\n",
      "BLEU score of validation set for epoch 300:  0.21955924175274075\n",
      "ROUGE-l score of validation set for epoch 300:  0.20633162304753447\n"
     ]
    }
   ],
   "source": [
    "warnings.filterwarnings(\"ignore\")\n",
    "# comp_cider function is used to calculate CIDEr metric score\n",
    "def comp_cider(ref, hyp):\n",
    "    scorer = Cider()\n",
    "    score, _ = scorer.compute_score(ref, hyp)\n",
    "    return score\n",
    "# comp_bleu function is defined to calculate BLEU metric score\n",
    "def comp_bleu(ref, hyp):\n",
    "    scorer = BLEUScore(n_gram=1)\n",
    "    score = scorer(ref, hyp)\n",
    "    return score.numpy()\n",
    "# comp_rougel function is utilized to calculate ROUGE-L metric score\n",
    "def comp_rougel(ref, hyp):\n",
    "    scorer = Rouge()\n",
    "    score, _ = scorer.compute_score(ref, hyp)\n",
    "    return score\n",
    "\n",
    "torch.backends.cudnn.benchmark = True\n",
    "device = torch.device(\"cuda\" if torch.cuda.is_available() else \"cpu\")\n",
    "save_model = False\n",
    "\n",
    "emb_size = 512 # Embedding size\n",
    "hid_size = 512 # Hidden size\n",
    "voc_size = len(dataset.vocab) # size of the vocabulary\n",
    "num_layers = 2 # number of LSTM layers in the RNN based Encoder\n",
    "l_r = 3e-4 # Learning Rate\n",
    "n_epoc = 300 # number of epochs\n",
    "\n",
    "step = 0\n",
    "# Creating an instance of the model\n",
    "model = Image_Captioner(emb_size, hid_size, voc_size, num_layers).to(device)\n",
    "criterion = nn.CrossEntropyLoss(ignore_index=dataset.vocab.str_to_int[\"<PAD>\"])\n",
    "optimiz = optim.Adam(model.parameters(), lr=l_r)\n",
    "# For fine tuning the RESNET-50 model used in the CNN-Encoder\n",
    "for name, params in model.cap_encoder.res_nett_50.named_parameters():\n",
    "    if \"fc.weight\" in name or \"fc.bias\" in name:\n",
    "        params.requires_grad = True\n",
    "    else:\n",
    "        params.requires_grad = False\n",
    "\n",
    "# Training the model for 300 epochs\n",
    "for epoch in range(1,n_epoc+1):\n",
    "    model.train()\n",
    "\n",
    "    for idx, (imgs, captions, str_cap, img_ids) in tqdm(\n",
    "        enumerate(train_loamder), total=len(train_loamder), leave=False\n",
    "    ):\n",
    "        imgs = imgs.to(device)\n",
    "        captions = captions.to(device)\n",
    "\n",
    "        out = model(imgs, captions[:-1])\n",
    "        loss = criterion(\n",
    "            out.reshape(-1, out.shape[2]), captions.reshape(-1)\n",
    "        )\n",
    "\n",
    "        step += 1\n",
    "\n",
    "        optimiz.zero_grad()\n",
    "        loss.backward(loss)\n",
    "        optimiz.step()\n",
    "    # Saving the model after completing training for 300 epochs\n",
    "    if epoch == 300:\n",
    "        save_model = True\n",
    "    if save_model:\n",
    "        checkpoint = {\n",
    "            \"state_dict\": model.state_dict(),\n",
    "            \"optimizer\": optimiz.state_dict(),\n",
    "            \"step\": step,\n",
    "        }\n",
    "        sve_ckpt(checkpoint,filename=f\"{epoch}_my_ckpt.pth.tar\")\n",
    "    model.eval()\n",
    "    ref = {}\n",
    "    hyp = {}\n",
    "    bleu_ = []\n",
    "    for idx, (img, captions, str_cap, img_id) in enumerate(val_loamder):\n",
    "        img = img\n",
    "        ref[idx] = str_cap\n",
    "        a = model.cap_img(img.to(device), dataset.vocab)\n",
    "        s = \"\"\n",
    "        s += a[1]\n",
    "        for i in range(2,len(a)):\n",
    "            if a[i] == '.':\n",
    "                s += a[i]\n",
    "            elif a[i] == \"<EOS>\":\n",
    "                continue\n",
    "            else:\n",
    "                s += \" \"\n",
    "                s += a[i]\n",
    "        hyp[idx] = [s]\n",
    "        bleu_.append(comp_bleu([s],[str_cap]))\n",
    "    print(f\"CIDEr score of validation set for epoch {epoch}: \", comp_cider(ref,hyp))\n",
    "    print(f\"BLEU score of validation set for epoch {epoch}: \", sum(bleu_)/len(bleu_))\n",
    "    print(f\"ROUGE-l score of validation set for epoch {epoch}: \", comp_rougel(ref,hyp))"
   ]
  },
  {
   "cell_type": "markdown",
   "id": "5bef7062",
   "metadata": {
    "papermill": {
     "duration": 4.440758,
     "end_time": "2024-04-17T02:40:53.641016",
     "exception": false,
     "start_time": "2024-04-17T02:40:49.200258",
     "status": "completed"
    },
    "tags": []
   },
   "source": [
    "# Testing the Image Captioning Model"
   ]
  },
  {
   "cell_type": "code",
   "execution_count": 9,
   "id": "279b9e94",
   "metadata": {
    "execution": {
     "iopub.execute_input": "2024-04-17T02:41:02.483332Z",
     "iopub.status.busy": "2024-04-17T02:41:02.482680Z",
     "iopub.status.idle": "2024-04-17T02:41:33.262174Z",
     "shell.execute_reply": "2024-04-17T02:41:33.261079Z"
    },
    "papermill": {
     "duration": 39.725604,
     "end_time": "2024-04-17T02:41:37.775223",
     "exception": false,
     "start_time": "2024-04-17T02:40:58.049619",
     "status": "completed"
    },
    "tags": []
   },
   "outputs": [
    {
     "name": "stdout",
     "output_type": "stream",
     "text": [
      "Correct Caption: A large building with bars on the windows in front of it. There is people walking in front of the building. There is a street in front of the building with many cars on it. \n",
      "Predicted Caption: a car is passing through an intersection at <UNK> street. two overhead street lights are showing green.   a white sign is showing on the street. two white lines are hanging on the street. two trucks are parked on the street.\n",
      "Correct Caption: A person is skiing through the snow. There is loose snow all around them from him jumping. The person is wearing a yellow snow suit. The person is holding two ski poles in their hands. \n",
      "Predicted Caption: a man is skiing down a hill. his ski rod is in the air and there are a bunch of mountains in the distance. the sky is very clear and the clouds are extremely low.\n",
      "Correct Caption: There is a bed in a room against a wall. There is a brown blanket on top of the bed. There is a small brown book shelf next to the bed. There is a picture hanging on the wall above the shelf. \n",
      "Predicted Caption: a bedroom has a large bed by the wall. there are many pillows on the bed. a table is in the middle of the room. there is a picture on the wall. there is a picture on the wall. there is a picture on\n",
      "Correct Caption: A black and red train is on the tracks and has steam coming out off of it. There is another train next to the first train that is orange. There is an overpass over the train tracks with cars on it. \n",
      "Predicted Caption: a train is on the tracks. the train is blue in color. there is a british flag on the side of the train. there is gravel next to the tracks.\n",
      "Correct Caption: A white and yellow public transportation bus with \"122\" on front is stopped with it's doors open. There is a gray car on the street beside the bus. Behind the car there is a  building with an \"Urban Outfitters\" on the first floor.\n",
      "Predicted Caption: a bus is going down the road. the bus is white in color. the sky is clear and blue. there are a lot of bright green trees.\n",
      "Correct Caption: A large white house with a brown door sits behind some grass. There are four sheep grazing on the grass in front of the house. The house ahs a gray roof. \n",
      "Predicted Caption: this is a residential street with some grass.   two <UNK> are walking by the tall grasses.   one of the horses is a baby <UNK> of a black horse.   the other horse is a light horse with a black mane.   the horse\n",
      "Correct Caption: A man in a red and yellow t-shirt is holding a Wii remote in each of his hands. Behind him there is a fireplace which has been painted white. In front of him a light which is on and illuminating the room. \n",
      "Predicted Caption: two people are standing. the man is old. he has gray hair. he is wearing a striped shirt. he is also wearing glasses. his hair is brown. a tv is mounted on the wall.\n",
      "Correct Caption: There are three men riding bicycles. Two of the men are wearing yellow and the third man has a blue shirt. The two men are way ahead of the third man. The men are bicycling in the bicycle lane. The cars are on the left side of the men.\n",
      "Predicted Caption: two people are sitting on a motorcycle. the motorcycle is red and is parked on the sidewalk. there is a man in a blue shirt and white shorts. he is wearing a hat while the man in front of them is wearing a brown backpack on\n",
      "Correct Caption: TWO CELL PHONES ON THE TABLE.THEY BOTH ARE DARK IN COLOR A ND ARE BLACBERRYS.THERE ARE THREE CUTTING KNIVES.ONE KNIFE IS BETWEEN THE TWO PHONES.THERE IS A THIRD PHONE WITH A KNIFE LYING OVER IT.\n",
      "Predicted Caption: the laptop is turned on. the laptop is black and gold. the screen is black. the screen on the phone are glowing white. the floor is made of tiny.\n",
      "Correct Caption: A painted mannequin head sits on a table. It is a feminine head with arched eyebrows a small nose, big eyes and it is wearing a black top hat and a brown wig. To the right of the head is a metal sculpture clock with a white face.\n",
      "Predicted Caption: a black and white clock is standing on the side of a building. the clock is black and gold. under the clock is a painted mural of two <UNK>.\n",
      "Correct Caption: A white and yellow train is on the tracks. There is a large yellow door on the front of the train. There is a platform next to the train. \n",
      "Predicted Caption: a train is on the tracks. the train is blue in color. there is a british flag on the side of the train. there is gravel next to the tracks.\n",
      "Correct Caption: A man is sitting on the back of an elephant. They are walking through a very high swamp area. They are being seen from in between the perspective of two logs of a tree.\n",
      "Predicted Caption: a medium sized bird is standing on a dark dirt ground. the bird looks like a <UNK> but has a white <UNK> and white accents on the tops of the wings. the eyes are black , the beak is black , and the legs are also black\n",
      "Correct Caption: There is a black place mat on top of a wood table. There is a white plate on the mat with food on it. There is a fork on the mat next to the plate. There is an orange towel next to the plate. \n",
      "Predicted Caption: a plate of food sits on top of a table. <UNK> are two sandwiches and a bowl of mushrooms on the table. there is a clear container with lemon towels on it. there is a glass of water near the food. there is a fork\n",
      "Correct Caption: A goat has its head turned back and it's looking at something. The goat is white but has a black nose and mouth and black ears. The horns of the goat are pointed upwards and has black tops. The goat is standing in green grass.\n",
      "Predicted Caption: this is a picture of some animals. the animals in the middle are white. the one goat is standing up. the other goat is facing forward. the other goat is white with brown spots. the brown cow is white with black stripes. the\n",
      "Correct Caption: A woman is walking her dog. She is on a skateboard while she is holding the leash of her dog. She is wearing a gray hoodie and some black shorts.\n",
      "Predicted Caption: a man is skateboarding. he is on the street. he is wearing a striped shirt. he is wearing a black shirt. the shirt is black. there are tall buildings in the background.\n",
      "Correct Caption: There are some portable bathrooms sitting near a railroad track. There are some trains sitting on the track. The portable bathrooms are blue with a white roof and the trains are yellow.\n",
      "Predicted Caption: a train with the front car car is parked on the tracks.   the train is white with black spots and a silver and red tail.   there are yellow flowers with a yellow background.   the train has four poles on its back.  \n",
      "Correct Caption: A very white bathroom has a very white sink and toilet. The shower curtain that hangs from the ceiling is also white. There is one wall that is all mirrored. The door is made of glass and the faucet is silver. The floor is made of black tile. \n",
      "Predicted Caption: the image is of a bathroom. the ceiling , walls , and ceiling surround the white toilet. the wall behind the counter is a <UNK> blue color. the toilet bowl is white and there is a mirror above the sink. there is a window above\n",
      "Correct Caption: A man is in a black wetsuit. The man is riding a white surfboard. There is a large wave in the water the man is surfing on. \n",
      "Predicted Caption: there is a male surfing in the water. a large wave is about to <UNK> over him. the surfboard is white with a little black on it. the man has short hair. the sand is beige. there are two people swimming in the water\n",
      "Correct Caption: A pizza is on a brown wooden tray. The tray is placed on the stove top. The pizza has melted cheese and spinach on top of it. The stove is white with black burners.\n",
      "Predicted Caption: a pizza is sitting on a white plate , with one slice cut and <UNK> over to show the bottom of the pie. it is burned in a silver wrapping. there is a white napkin on the top of the <UNK> , and a glass of tea\n",
      "Correct Caption: a flood is occuring. there is a lot of water on the road. the hydrant on the sidewalk is red. the garage doors are red in color . there are some pieces of grass growing.\n",
      "Predicted Caption: a black and white fire hydrant is on the sidewalk. there is a black car on the street next to the fire hydrant. the hydrant has a metal basket on it. there is a <UNK> on the ground next to the fire hydrant. there is\n",
      "Correct Caption: there are four airplanes in the sky. There is a small hill under them. There is a field of grass under the airplanes. There are smoke trails coming out from behind the airplanes. \n",
      "Predicted Caption: several kites are flying in the air. the sky is clear and blue. the planes are flying in a t formation. 4 of the middle planes are have white trails coming from them. two of the planes on the left have arched blue trails coming\n",
      "Correct Caption: There is a large white airplane that is in the sky. There is a silver fence under the airplane. There are light poles on both sides of a fence under the plane. \n",
      "Predicted Caption: the picture is an image seen from across a bay or harbor. the sky looks slightly overcast. based off of the sky and the <UNK> of the trees , it is likely late fall. the structure in the image appears to be a parking garage at\n",
      "Correct Caption: A young lady is having a very fun time by herself. This young lady has on very short jean shorts, a turquoise top and some shades on. She is surfing a fake wave on a plastic board and having so much fun.\n",
      "\n",
      "Predicted Caption: a woman is sitting on a bench. the woman is wearing a black shirt and carrying a bag on her head. there is a dog jumping on her back on the woman.\n",
      "Correct Caption: A man is jumping in the air. The man is holding a green frisbee in his hand. There are trees behind the man. \n",
      "Predicted Caption: a man in a blue shirt and gray shorts is catching a frisbee. the man is jumping and throwing a frisbee. he has brown hair and is wearing a black shirt and white shorts. he is holding the frisbee in one of his hands.\n",
      "Correct Caption: A tennis player has just forehand swung to hit a ball. The player has on a light blue shirt and headband. He has on brown nike shorts and white shoes.\n",
      "Predicted Caption: a man is standing on a tennis court. he is wearing a black and white shirt , white shorts , white and white shoes and black and white shoes. the man is holding a black and white racket in his hand , while hitting a green tennis\n",
      "Correct Caption: There is a vase on a table.  The vase has a white enamel base and three flower holders.  In the vase is an assortment of artificial fall colored leaves and berries.  The colors depicted are different shades of orange.  The table appears to be in the backyard of a house.  Behind the vase is a picket fence, a sidewalk, some monkey grass, and some pink flowers.  On the other side of the fence the eaves of the neighboring house are seen. \n",
      "Predicted Caption: a blue vase is sitting on a table. the table is made of wood. there is a vase with a vase on it. the vase is black and white. the vase is sitting on top of a table.\n",
      "Correct Caption: A person is standing on the beach. They are flying a large yellow and red kite. There are small waves in the water. The person is wearing a black wet suit. \n",
      "Predicted Caption: a picture of a person standing on a beach while flying a kite. the sky above the beach is hazy blue. there are many waves running along the <UNK> of the beach. there is a time <UNK> on the bottom right of the picture. there\n",
      "Correct Caption: A white plate of food. There is rice under a pile of broccoli. There are onions cut up on top of the broccoli. \n",
      "Predicted Caption: a white plate sits on a table. there is lots of food on top of the plate. there are pieces of meat and cut up peppers and broccoli next to some brown rice.\n",
      "Correct Caption: A stop sign is on a piece of wood and attached to a round sign that is white, with a red border around the outside. Below the stop sign there are two signs in Russian. The signs are attached to a rusty metal fence. \n",
      "Predicted Caption: the tunnel is black. there is a sign with yellow texts and a sign on it that says <UNK>. underneath the sign there is a sign saying \" two way <UNK> road \". behind the sign there is a building.\n",
      "Correct Caption: a man is playing tennis. he is wearing  a sweatband in his hair. his hair is brown in color. his hair is very long. his uniform is white. he is also wearing white shorts.\n",
      "Predicted Caption: a tennis play leans <UNK> forward , preparing to <UNK> a <UNK>.   the player is black.   he has long hair.   he is wearing a blue and white shirt , blue shorts , white socks , and black and yellow sneakers.   his\n",
      "Correct Caption: Four sailboats with masts but no sails are lined up along the shore of a lake.  A hill rises beyond them in the sun.  Part of the hill is bare rock and dirt and part has low green bushes.  The sky is very blue beyond the hill. \n",
      "Predicted Caption: a large body of water is on the shore. the boat is black in color. the water is blue and green. there are many ropes and trees on the side of the water. there is a person standing near the water. there are some\n",
      "Correct Caption: A man is standing outside flying a black and white kite. He is wearing a white hat on his head, a suit coat, and dark colored pants. A shadow of the man can be seen beside him on the ground. The sky is clear and blue. Tall trees are seen below the sky. \n",
      "Predicted Caption: a man in a green and white striped shirt is flying a kite. the man in the blue shirt is wearing a brown hat. there is a large wave in the water behind him. there is a white bird with orange hair hanging from the top\n",
      "Correct Caption: Five off white sheep are standing on a rocky grassy hill. The stones are medium sized and are grey and white. Beyond the sheep is a bright blue body of water and a set of beautiful grass covered mountains and a blue sky.\n",
      "Predicted Caption: a bunch of cows are outside feeding. the day looks like it is <UNK> to be over. the trees have a bunch of brown and <UNK> leaves. there are five cows in the photograph.\n",
      "Correct Caption: A large white truck sits in a parking space in a small parking lot. The trailer of the truck has a cover on it. On the other side of the parking lot are a few more cars. The other cars are parked next to a building that looks to be made of brick. There are a few bare plants in the front of the building.\n",
      "Predicted Caption: a white truck is driving on a street. there is a white ladder in front of the truck. there is a black lamp post behind the truck.\n",
      "Correct Caption: there is a big yellow sign. the sign is a warning sign. the sign is shaped like a diamond. there is a light above the sign.\n",
      "Predicted Caption: a silver pole that has a sign that says stop is attached on it. there is a street light on top of the pole. the sign has a black sign on it.\n",
      "Correct Caption: An image of a peeled large banana dominates the picture. Three men are walking down the street.  The man in the front is by himself while two other men are in close proximity.  Two buses are parked along the side of the street.\n",
      "Predicted Caption: there is a person who is wearing a blue shirt making a hand while another sandwich. the person is wearing a blue shirt and has a silver bag. there is a person standing behind them wearing a black jacket.\n",
      "Correct Caption: the scene takes place outdoors in a winter snowy landscape, three persons and a child are interacting. A man is leading a child into the ski lift provider. they are standing by the entrance about to enter, a man in a green jacket seems to the entrance attendant. a building with woodside panelling is above the people. a man is standing in the foreground, wearing an orange jacket. the ground is filled with snow, the people are wearing winter clothes. there are signs above the man and child. \n",
      "Predicted Caption: a person is standing in the middle of the street. there is a large white and black dog laying on the seat of the truck. there is a person wearing a black helmet on the other side of the motorcycle. there is a man in a\n",
      "Correct Caption: A large white cow is grazing in the grass. The cow is in a field with weeds and grass. There are trees behind the cow. \n",
      "Predicted Caption: a large black and white cow is standing in a field. the cow has a black tag on its back. there is a tall tree to the left of the cow. there are many trees behind the cow and horses.\n",
      "Correct Caption: there is a big mountain. there are a lot of trees on the mountain. there are two girls walking along the trail. the trail is made of dirt. they are holding umbrellas in their hands.\n",
      "Predicted Caption: a bunch of cows are outside feeding. the day looks like it is <UNK> to be over. the trees have a bunch of brown and <UNK> leaves. there are five cows in the photograph.\n",
      "Correct Caption: There is a large strip of grass along a road, with buildings, people, buses, trees and flags. The grass is very green and has something more overgrown like bushes that run along the road. The strip of road that is showing to the right of the picture is black. There are two large buses on the road. One bus is red with yellow words on it and the other is black. There are people in both buses, and along the grass and road. There are large trees running by the roads and buildings in the middle and back of the picture. There are two buildings showing. One building is on a street corner and is white with many stories. The other is to the left and is grey with many stories. There are two flag poles and one of them has a flag hanging on it.\n",
      "Predicted Caption: this photo is taken outside on a cloudy day. a bus is sitting on a road driving past a row of vehicles that are sitting at a light. buildings can be seen on both sides of the road. vehicles are parked near sidewalks that are in\n",
      "Correct Caption: A menu is see hanging on the wall. The menu is over the kitchen area. There is a range top that has a couple of things on it. On the counter is some fish and chicken. \n",
      "Predicted Caption: this is a photo of a modern kitchen. there is a stainless steel fridge , with french doors and <UNK> below. the center island has a dark countertop. there is a gas stove top on the island. beyond the island is the sink with steel\n",
      "Correct Caption: An elephant relaxes in the water. A man lays on the back of the elephant. A few other men stand around the elephant and look at it. The water is a brown color. The men are all wearing swim trunks. The sun is reflecting on the water.\n",
      "Predicted Caption: there are two big elephants. people are on top of the elephants riding them threw the water. on the side of the river you can see many trees with green leafs on them.\n",
      "Correct Caption: a boy is playing frisbee. the frisbee is white in color. the shorts are red in color. his shirt is black and red. he is wearing white shoes.\n",
      "Predicted Caption: three people are playing soccer on a grassy field. one is wearing a blue short sleeve shirt , and dark pants. the other is wearing a red and black long sleeve shirt and black shorts. the other boy is wearing a black cap and blue shorts\n",
      "Correct Caption: A bunch of planes are in formation in the air. One plane is way farther away from the rest. The sky is a pretty blue color and a couple of clouds are seen.\n",
      "Predicted Caption: a plane is flying in the sky. the plane is white in color. the sky is very cloudy. the sky is blue.\n",
      "Correct Caption: A person with a black shirt on is jumping on a skateboard. There is a boy in a red jacket standing in front of him. There is a black fence behind the people. \n",
      "Predicted Caption: a person is wearing a black and white striped shirt. they are jumping in the air. there is a black skateboard under the man. there is a white building behind the man.\n",
      "Correct Caption: There are many boats in the water. There are small waves in the water around the boats. There is a bird flying in the air above the water. There is a hill on the other side of the water. \n",
      "Predicted Caption: a bird is flying in the air. it is flying over a body of water that has some water in it. there are some trees in the sky. there are some trees in the sky. there is a small <UNK> in the distance.\n",
      "Correct Caption: In this image, a downtown business district in an English speaking country is depicted. The image shows a narrow street with sidewalks on both sides, with customers walking up and down the sidewalks and going in and out of stores. The narrow street does not have any cars driving down it, but instead there is a train or streetcar running on rails. The train is white on the top and red on the bottom with a large glass windshield in front and smaller glass windows on the sides. It is coming up to an intersection. At the intersection, there is a sign that indicates only bicycles are allowed on the cross street. All the people in the picture are wearing lightweight jackets, so it must be fall or spring, as there is no snow or rain. There is a store called Dreams, and a sign advertising beds, though it is difficult to tell if they are beds for sale or rooms for rent. If I had to guess, I'd say this is an English speaking country in Europe. \n",
      "Predicted Caption: a blue and white bus is parked on a road beside a sidewalk. a red bus can be seen parked behind it. a man is walking across the street on another sidewalk. a tall gray pole and a tall green tree are standing on the sidewalk\n",
      "Correct Caption: A bus is on the street. It is currently getting ready to pick some people up and drop some off. The bus is white, purple, and red on the top. The building has a lot of moss on it.\n",
      "Predicted Caption: there is a large white bus on the street with blue writing on the side of it. there is a silver car behind the bus. there is a white crosswalk under the bus on the street.\n",
      "Correct Caption: A young boy is walking with a horse. The young boy has on a black sweater with a blue shirt tied around his waist. The horse is a dark brown color and looks very friendly.\n",
      "Predicted Caption: there are two horses in a field. there is a field with trees behind them. there is a white horse in the field. there is a yellow fence behind them.\n",
      "Correct Caption: a sign is on a pole. the pole is green in color. there is an arrow on the sign. the arrow is white in color. there is writing on the sign.\n",
      "Predicted Caption: a street has the road closed. there are several street signs on the pole. the light is on top of the pole. the street is gray and has lines on it. some people are walking on the sidewalk. the street is gray and made\n",
      "Correct Caption: A vintage pick-up truck is parked at the sidewalk. The truck is beige with black roof. At the sidewalk is a black parking meter. The parking meter is attached to silver pole with blue painted letters on it.\n",
      "Predicted Caption: a truck is sitting outside. the truck is white in color. it has a black painted top on it. it is brown in color.\n",
      "Correct Caption: A man wearing striped swim shorts is standing on sand. There is also a black and white dog standing on the sand. There is a white frisbee in the air above the sand. \n",
      "Predicted Caption: a woman in a black shirt and white shorts is standing on a surfboard. there is a black dog in front of her. the frisbee is in a blue sky.\n",
      "Correct Caption: There are plates and bowls on top of a table. The table is wooden and there are small bowls in the middle. There is food on the plates. There are knives and forks on top of the plate. \n",
      "Predicted Caption: there is a table with two white plates on it. there are two glasses on the table. there are also two glasses on the table. there is a large black table to the left of the table.\n",
      "Correct Caption: A group of people have gather around the skateboarding ramp to watch other skateboarder's skate on it. There is one person in the ramp. It looks like that person fell down off of their board.\n",
      "Predicted Caption: a lot of people are in an airport. there is a bright yellow <UNK> in the middle. there are a lot of people sitting in seats. a lot of people have their luggage out.\n",
      "Correct Caption: a bunch of donuts are being displayed. the top row of donuts are all glazed types. there is a person waiting in a grey shirt.\n",
      "Predicted Caption: this image is of a produce stand.   there is a black cutting board with chocolate <UNK> on it that looks like a <UNK> <UNK>.   the pizza is sitting on a round white plate that is more than the rest of the white cutting board.\n",
      "Correct Caption: A bag of potato chips is sitting on a couple of tan napkins on an oval plate. There are two half sandwiches on the plate with the chips. The sandwiches have black grill marks on the tops. There is a yellow mug on the table next to the plate.\n",
      "Predicted Caption: a white plate sits on a cherry wood table near a clear glass with brown liquid. under that glass is a white napkin. on the plate are two toasted bread with grill marks on top and another bread underneath. a <UNK> pickle sits next to the\n",
      "Correct Caption: there is a big motorcycle in the parking lot. it looks just like a race car. it is blue and gray in  color. the seats are very big. the wheels are very spaced apart. it doesn't look like a motorcycle.\n",
      "Predicted Caption: a black and white motorcycle is parked on a street. there is a white bike sitting on top of the motorcycle. there is a black motorcycle parked in front of the motorcycle.\n",
      "Correct Caption: A large splash is in front of a wave in the water. There is a large white and black surf board in the water. There is a black dog that is riding on top of the surf board.\n",
      "Predicted Caption: there is a woman wearing a black wet suit. she is standing in top of a white surf board. there is another person in the water behind her. there are small waves in the water.\n",
      "Correct Caption: A black parking meter with a white sign on it. There is a car parked in front of the parking meter. There is a shadow of a tree on top of the car. \n",
      "Predicted Caption: there is a sign on the pole that is written in another language. the letters on the pole are symbols. there are two rectangular poles next to the pole. the pole is made of metal. there are some white lines in the shade. there\n",
      "Correct Caption: brown baby bears are walking in the grass. There is a large log above them next to two large rocks. \n",
      "Predicted Caption: there are two horses in the water. one of the bear is on the top of the trunk. the other bear is looking down. the bear is hugging the bears. the <UNK> bear is black and white. the other side of the <UNK> is\n",
      "Correct Caption: There are four jets flying in the sky together. Each jet is leaving a trail of puffy white smoke behind the other one. The sky is a bright blue. \n",
      "Predicted Caption: eight planes are flying in the air. the sky is is clear and blue. the planes are flying in a t formation. 4 of the middle planes are have white trails coming from them. two of the planes on the left have arched blue trails\n",
      "Correct Caption: The tall large building is in the city. On the front of the building are many windows. It also has a clocks telling the time of different countries. The sky is blue but mostly cloudy. \n",
      "Predicted Caption: a red and white stop sign is on top of a pole. the pole is black and is very rusted. the sky is a light blue color and has a bunch of clouds.\n",
      "Correct Caption: A plate with a colorful rim on it is sitting on a table. There is a piece of chicken on the plate with salad next to it. There is also a pile of french fries on the plate. \n",
      "Predicted Caption: a plate of food sits on a table. the table is wooden and is composed of gray slats of wood. the plate is white with a brown trim. behind the plate is a brown , round plate. on the right side is a white plate\n",
      "Correct Caption: A display window is seen with women's underwear on white mannequins inside in a mall. Beside the window there is a toy table with chairs around it which three plastic bears are sitting. There is a toy teapot with slots for coins so children can ride with the bears.\n",
      "Predicted Caption: there are several stuffed animals on a shelf. there is a small bear wearing a white robe. there is a larger bear wearing a white robe with a red stripe down the side of it.\n",
      "Correct Caption: A piece of wood is sitting on a counter. There is a knife with a black handle on top of the wood. There is a white plate of food behind the wood. \n",
      "Predicted Caption: a cup of coffee with <UNK> in it sit 's in a white ceramic cup on a white saucer on a green table.   beside the cup , on the saucer is a spoon.   on the other side is a blue <UNK> of some type of\n",
      "Correct Caption: A tall brick tower has two clocks on separate sides of the tower walls.  The clocks on the tower have roman numerals and gold clock hands.  The center of the clock is burgundy and the outer part of the clock is blue.  The tower has a narrowing tiled and reddish steeple at the tower top. Black metal grills cover arched window openings under the clock.  Full view of the clock is obstructed by stray green leaves on thin brown branches.  The sky is white with clouds.\n",
      "Predicted Caption: a clock is in a round like area.   the clock has black hands and numbers.   the clock has black hands and a white border.   the clock has black hands and a clock on top of it.   the clock has black hands\n",
      "Correct Caption: A person is jumping in the air on a snowboard. There is a ski lift behind them. There are trees next to the ski lift. There is a lot of snow on the ground under them. \n",
      "Predicted Caption: a snowboarder is in the air. the snowboarder is wearing a black jacket. the skier is wearing a black jacket. there is white writing on the side of the picture. there are other ski poles in the background.\n",
      "Correct Caption: a woman is playing some tennis. her hat is white in color. she is wearing a skirt. the skirt is white in color.\n",
      "Predicted Caption: a man is standing on a tennis court. he is wearing a black and white shirt , white shorts , white and white shoes and black and white shoes. the man is holding a black and white racket in his hand. a green tennis ball is\n",
      "Correct Caption: a kitchen that is empty isn't being used by anyone. the counters are clean and empty. the grill is black and has nothing on it.\n",
      "Predicted Caption: there are two glass tables on the table. they have green <UNK> on them. there is a table next to the chairs.\n",
      "Correct Caption: A brown teddy bear is sitting in a window sill. There is a book on its lap. There is a white bar in front of the bear. There is a window behind the bear. \n",
      "Predicted Caption: a brown and white cat is sitting inside of a brown suitcase. the suitcase is black and has a black nose. there is a red collar around the neck of the cat.\n",
      "Correct Caption: A woman in a white shirt and red skirt is playing tennis. She is swinging a tennis racket a ball. There is a black fence behind the woman.\n",
      "Predicted Caption: a man is playing tennis on a tennis court. he is wearing a blue and white shirt , brown shorts , gray socks and plaid shoes. a black and white net is on his head. a large chain link fence can be seen behind the man\n",
      "Correct Caption: Three caucasian men are standing against a white wall. They are all wearing black shirts. The man on the far left is holding a white video game controller in his right hand. He has brown hair, and a brown beard and mustache. His shirt has long sleeves. The man in the middle has dark hair that is thinning around his temples. His arms are crossed across his chest, and his right hand is covering his mouth. The man on the far right is wearing a black sweatshirt with gray lettering. He also has a white video game controller in his right hand. He has brown hair, and brown facial hair. \n",
      "Predicted Caption: two men are drinking wine at the camera. one of the men is wearing a black jacket. the man on the left is wearing a gray shirt. the man in the gray jacket is wearing a black shirt. there is a man in a blue\n",
      "Correct Caption: A man is wearing a black wet suit. He is carrying a large white surf board. There are large boulders next to the man.\n",
      "Predicted Caption: there is a man on his leg. he is standing on top of a surfboard. the surfboard is white and the man is not wearing a shirt. the man is wearing shorts that is black and white. the man is wearing shorts that is light\n",
      "Correct Caption: The vanity in this fancy, large bathroom is very long and is made of medium stained wood. The lighting above the vanity are three hanging, glass covered globes. The counter of the vanity has a sink as well as a vase filled with purple flowers. The walls are white and the tiles are all made of stone. The shower is also tiled with stone like tiles and is very large and open.\n",
      "Predicted Caption: a bathroom with a large illuminated mirror. the toilet is white. there is a white sink under the sink. there is a brown cabinet next to the toilet and a white towel hanging on the wall next to the toilet.\n",
      "Correct Caption: A woman is holding an umbrella. The woman is coming out of the train station. The picture is in black and white. There are tall buildings in the near distance.\n",
      "Predicted Caption: a person is sitting on a bench. the bench is black in color. the man is wearing jeans. the man is holding a black skateboard.\n",
      "Correct Caption: An old fashioned bus is seen on the street. The bus is red on the bottom and beige on the top. A chain link fence is on the right side of the bus, and behind the fence is a large green metal crane. The sky above is gray and cloudy.\n",
      "Predicted Caption: two double decker buses sitting on the side of a road. there are two traffic lights on a silver pole. there are many lights hanging from the pole. one is blue in color.\n",
      "Correct Caption: there is a toilet in a bathroom. the toilet is white. there are tiles on the floor. the tiles are white and green. there is a bucket next to the toilet.\n",
      "Predicted Caption: a toilet is in a bathroom. the toilet is white and there is a white shelf right above it. there is a white sink in front of the toilet.\n",
      "Correct Caption: a bird is eating out of a hand. the hand is white in color. the bird is eating corn. the corn is yellow. the bird is a pigeon.\n",
      "Predicted Caption: a bird is sitting on a bench. the bird is small and black. the bird is <UNK> and has long claws. the bird is looking at the camera. the bird is brown and white.\n",
      "Correct Caption: A baby is sleeping on a covered mattress. His shirt is black white and blue. The mattress cover has designs all over it. There is a doll with a blue and purple hoody nearby.\n",
      "Predicted Caption: a little girl is sitting on the couch. she has a book in her lap. she also is sitting on a bed that has <UNK> and <UNK> on it.\n",
      "Correct Caption: There is a bush that is shaped into a person. It is in front of a red building. There is houses behind the bush in the distance. \n",
      "Predicted Caption: there is a brown and red chair on the ground. there are two cats on the ground next to the chair. there is one larger cat and a smaller kitten standing next to it.\n",
      "Correct Caption: A young child is attempting to ski. However, no ski poles are being held by the blonde haired child. The child is wearing a yellow vest over a light blue jacket along with pink gloves. The bottom half of the outfit is black pants and grey and red skiis. There is a smooth surface of snow featured.\n",
      "Predicted Caption: a little girl is holding both of her skis behind her as she walks over a snowy area. she is wearing a bright red jacket with pink flowers in her hand. she is also wearing a black coat and black pants. her boots are light blue\n",
      "Correct Caption: A green pasture is depicted in this image.  The pasture has a lake running through it with clear, calm water.  Grass on both sides of the water is tall and a fence can be seen at the front of the image.  The grass around the fence is really tall.  Cows are on the far side of the lake.\n",
      "Predicted Caption: a large white van is grazing on rocks. there are small rocks under the bridge. there is a hill behind the rocks. there is a hill in front of the fence.\n",
      "Correct Caption: A hand is reaching for a black and silver mouse. There is a laptop next to the mouse on the desk. There is a speaker next to the laptop.\n",
      "Predicted Caption: there is a console on the desk. the light on the console is shining blue. the console is grey. the picture is very blurry.\n",
      "Correct Caption: A yellow hydrant is near street. The hydrant has blue and red accents on it. There are a bunch of trees on a sidewalk overlooking some parked cars and a motorcycle. \n",
      "Predicted Caption: the image is taken on a street corner. there is a red fire hydrant directly on the right. in the back is a white car parked. there is a gray car parked along with a red <UNK> <UNK> on the <UNK> to the left of the\n",
      "Correct Caption: Two giraffes are standing together but facing opposite directions. The both have brown patches laid out in different patterns. Some of the spots have smooth edges and some have irregular edges. There are small and large patches, with the smaller patches on their heads and upper part of their necks. Both animals have short furry manes running down the length of their necks. They also have short horns on the top of their heads. They are standing near the wooden fence of their pen surrounded by trees with many green leaves.\n",
      "Predicted Caption: two giraffes are in the <UNK>.   a small brown and white spotted giraffe is standing by the back of the open tree.   the ground is covered in dirt , grass and grass.   the sky is blue and has no clouds.\n",
      "Correct Caption: a stand is selling fruit. most of the fruit is oranges. there are bags of oranges next to the pile. the truck is bright yellow.\n",
      "Predicted Caption: a bunch of fruit are on a shelf. the fruits are a light red color. they all have black lights on. the box is black. there is a wall behind the plate. there are signs on the pole. there are signs on the\n",
      "Correct Caption: There is a train on the train tracks. The train is black with white numbers on the front of it. In the distance you can see trees with green leads and a black metal fence.\n",
      "Predicted Caption: a train is on the train tracks. there are clouds in the sky above the train. there is a <UNK> of smoke coming out from the train. there is a man standing on the tracks next to the train.\n",
      "Correct Caption: A kitchen sink and dishwasher is shown. The tiles on the wall are white and have some red ones. There is fruit sitting on the table and the area is pretty tidy.\n",
      "Predicted Caption: a white microwave is hanging over a white oven in a kitchen. the cabinets of the kitchen are wooden and brown. there is a white refrigerator sitting under another cabinet in the kitchen. a white oven is built into a cabinet beside the refrigerator. a\n",
      "Correct Caption: A man wearing blue trunks is surfing. He is facing towards the wave. His face is not visible, and his body is turned to the side. He is using a white surfboard and only the front of which is visible.\n",
      "Predicted Caption: there is a male surfing in the water. a large wave is about to <UNK> over him. the surfboard is white with a little black on it. the man has short hair. the sand is beige. there are two people swimming in the water\n",
      "Correct Caption: A person is standing on top of a white surfboard. There are three small hooks on the bottom of the surfboard. There is a large white splash in the water from the man. \n",
      "Predicted Caption: the woman is surfing on the water. she is wearing a black wet suit. the shirt is black. the girl is wearing a black wet suit. she is also wearing red swim trunks. the water is blue and green. the water is crashing\n",
      "Correct Caption: There is a boy in the foreground of the picture. He has his back to the camera. He is wearing a blue short-sleeved shirt, blue shorts, blue socks, and white sneakers. He is standing in a green grassy field. The day is sunny and the sky is bright blue. The boy is getting a kite up into the air. The kite is black, white, red, orange, yellow, green, blue, and purple. In the distance there is a fence separating the grassy area from a hill. Behind the hill is an orange spherical hot air balloon. The hot air balloon's basket cannot be seen.\n",
      "Predicted Caption: a large <UNK> woman is standing on a grassy field. she is wearing a black jacket and white pants. the girl is holding a black and white kite in her hand. the kite is black and yellow and there is a kite sticking out of the\n",
      "Correct Caption: A dark street with a wire fence surrounding a building. There is a light in the distance. A sign on a pole is halfway on the sidewalk.There is a microwave and other debris on the walk.\n",
      "Predicted Caption: a highway is empty of any cars. there is a sign next to the highway that shows that the two left lanes go straight , while the right late <UNK> right. there is a speed limit on the right lane of <UNK>. there is a small\n",
      "Correct Caption: A blue car is parked in a parking space. There is a blue and gray building behind the car. There is a white surfboard strapped to the top of the car. \n",
      "Predicted Caption: a black truck is driving on a street. there are black tires on the front of the truck. there is a black pole next to the truck.\n",
      "Correct Caption: the keyboard is very old fashioned. the buttons stick up straight. the color of the typewriter is dark black. the letters are labeled in white. it's sitting on a wooden table.\n",
      "Predicted Caption: there is a blue and white toilet with a white and blue toilet in the corner. there is a white toilet in the corner next to the wall.\n",
      "Correct Caption: There is sand and a little bit of water on the ground. There is a bunch of trees behind a building on the other side of the water. There is a blue building behind the water. \n",
      "Predicted Caption: a boat is on the ocean top. the ship is very long and very well too. there is a person standing on the back of the boat. the water is blue and is very calm.\n",
      "Correct Caption: a train is sitting on some tracks. the train is yellow in color. the train has some black numbers on it. the train has black wheels.\n",
      "Predicted Caption: there is a train on the track. the train is yellow and blue. there are many windows on the side. the train is sitting on a track. there is a tree to the side. there is a lot of trees in front of the\n",
      "Correct Caption: A man is sitting on his surfboard. He is on the beach surrounded by other surfboards and some glass bottles of beer. The ocean is in the background and the horizon is very bright but cloudy.\n",
      "Predicted Caption: a woman is walking on a beach. she is wearing a black bikini. the woman is holding two <UNK> in each of her hands. the woman has dark blonde hair. she is wearing a green shirt and blue jeans. the woman is holding a\n",
      "Correct Caption: A couple of people are sitting in a vehicle. The car looks very retro and vintage. There is a woman and man in the front. On the woman's lap is a small brown dog.\n",
      "Predicted Caption: there is a yellow and black dog laying on the ground. there is a brown dog in front of it. there is a green post under the dog.\n",
      "Correct Caption: A square slice of pizza is on a round green plate. There are mushrooms, black olives, and tomatoes on the pizza. There is purple and white cabbage on the plate next to the slice of pizza.\n",
      "Predicted Caption: there are three slices of pizza on a plate. the pieces on the pizza are brown. there is a big plastic bag on top of the pizza. there are some spices on the pizza. the <UNK> are very pale in color.\n",
      "Correct Caption: This photo is taken inside of a living room of a home. A brown and black dog is sitting on a red leather couch. A red and white tie is hanging around the dog's neck. There is a colorful area rug on the floor. Different objects can be seen on top of a brown cabinet behind the dog.\n",
      "Predicted Caption: there is a dog and a dog. the dog is brown and white. the dog is wearing a black collar. the dog has floppy ears on it.\n",
      "Correct Caption: A plane sitting near a body of water. The plane is vintage and it is white, red, and black. There are a lot of clouds in the sky and there is a little box near the plane.\n",
      "Predicted Caption: there is a small plane resting on the <UNK> of a <UNK> , where the skies are currently cloudy , with the <UNK> of gray clouds. several pieces of trash , <UNK> and small buildings are surrounding the <UNK>. the red plane consists of two wings ,\n",
      "Correct Caption: A woman in a black jacket and jeans is sitting on a cement bench. There is a white dog with a red harness on that is next to the woman. The woman has dark hair. \n",
      "Predicted Caption: a woman is sitting on a bench. the woman is wearing a black jacket. there is a dog jumping up on the woman. the dog has its mouth open.\n",
      "Correct Caption: a tennis racket is being held up. the logo is red in color. the rim of the racket is black in color. thee is a man in the background.\n",
      "Predicted Caption: a man in a white shirt and shorts is standing on a tennis court. the man is swinging a tennis racket at a green tennis ball. there is a man standing behind him wearing a white shirt and white pants.\n",
      "Correct Caption: There is a rectangular parachute in the top right of the image. The parachute is printed with what looks like a television channel 'stand-by' pattern. The sky behind the parachute is a deep blue color. There are some wispy clouds close to the ground. A person is looking into the distance from the ground with their hand shielding their eyes from the sun. This person is wearing a dark t-shirt and what looks to be denim shorts. It is difficult to ascertain the gender of this person, but they are probably male. The ground is sandy and covered in grey rocks and pebbles. Green grass and woodlands lie behind the sandy ground, and some low buildings or houses can be seen in the distance (lower right corner of the frame).\n",
      "Predicted Caption: a woman is standing on a beach flying a kite in the air. she is wearing a black jacket and blue jean pants. the woman is holding two long strings in her hands that are reaching up to the kite. the kite is black and yellow\n",
      "Correct Caption: a train is waiting on  track. the train is very bright and is yellow in color. there is a smaller train next to it. a man is riding on the smaller train. the small train is red and black. it has its own set of tracks.\n",
      "Predicted Caption: this is an image of a train track. the train is moving along the tracks. the train is yellow and white. the train has large windows on the front. the train cars are light brown. there is gravel in between the tracks. the\n",
      "Correct Caption: Bowls sitting on a white and brown cloth. There is broccoli and rice in the front bowl and the back bowl has tomatoes and broccoli in it. There is a fruit cup next to the bowl. \n",
      "Predicted Caption: some food is displayed in a to go container. there is chicken , rice , <UNK> , and carrots. the food looks <UNK> prepared. there are <UNK> seeds on top of the chicken.\n",
      "Correct Caption: A woman is bent over on the tennis court. She is dressed in white. She has a tennis racket in her hands. The tennis court is green with white lines on it. \n",
      "Predicted Caption: two men are playing tennis on a tennis court. one of the men is wearing a red short sleeve shirt and white shorts. the other man is wearing a white short sleeve shirt and white shorts. both of the men are holding rackets in their hands\n",
      "Correct Caption: On a small rectangular, white plate, chopped carrots and peppers are covered in a brown sauce. A shine is on all of the vegetables.The plate is on a black surface and a part of a silver spoon is behind it. \n",
      "Predicted Caption: a slice of pizza sits on top of a white plate. the pizza has cheese and red sauce on top of it. there are leaves on top of the pizza.\n",
      "Correct Caption: A bridge over the water. The water has small waves in it. There is a train on the bridge going over the water. The train is white and green. There is buildings and trees next to the water. \n",
      "Predicted Caption: a train with a yellow front car. the train is on a train track. there is a bridge next to the train. there is a tall red light pole next to the train.\n",
      "Correct Caption: A person is sitting on a bench. There is a black bag sitting on the bench. The person is wearing a straw hat. There is a large tree in front of the person.\n",
      "Predicted Caption: two women are sitting on a bench. the bench is made out of wood. the bench is green in color and has metal arms.\n",
      "Correct Caption: A man with his face painted red and white has a red and white small umbrella attached to his head. He has a phone in his hand, which he is holding by his ear. He also has a red and white scarf around his neck and a red and white cape. His shirt and pants are black. Behind the man are people gathered on the street, standing around. \n",
      "Predicted Caption: there are people standing on the street. there is a man wearing a blue jacket and white pants. he has a hat on and is holding a cell phone. there is a building behind them.\n",
      "Correct Caption: A grey train with many cars and a yellow front is riding down the tracks. The tracks are in an isolated location with a field on the right and bushes and trees on the left. The trees are bare of leaves. The sky above is blue with puffy white clouds scattered throughout it. The train is about to pass an exchange box.\n",
      "Predicted Caption: a train is on the track.   the train is green , yellow and white.   there is a red and black sign above the train tracks.   there is a bare tree to the right of the train.   there is a bare tree\n",
      "Correct Caption: A white station wagon is parked near a field at night.  There is a palm tree in the field in front of the tree. Across from the tree are three houses with windows in the front illuminated. In the field there is a patch of concrete with a bench sitting on it which is lit up by a park light.\n",
      "Predicted Caption: a street is next to the street. there is a large tree to the right of the tree. there are many trees and bushes next to the street. the street has green trees on it.\n",
      "Correct Caption: a baseball player is on a field which is brown in color and is about to take a swing for a white ball which is coming straight for him. the uniform is white and blue in color and the field also contains a grassy area which is green in color.\n",
      "Predicted Caption: a baseball player is holding a bat in his hand.   he is wearing white gloves.   he is wearing a blue helmet on the top of his head.   the catcher is directly behind him with black glove on his hand.   there are\n",
      "Correct Caption: there is a person doing a jump on a snowboard. the rider is wearing a blue jump suit. the snowboard is white in color.\n",
      "Predicted Caption: a person in a green coat is skiing. the ground is covered in snow. there are several trees on the hill. there are a few clouds in the sky.\n",
      "Correct Caption: A woman is wearing a dark colored shirt and skirt and is holding a tennis racket. There is another lady behind her swinging a tennis racket. They are standing on a blue tennis court.\n",
      "Predicted Caption: a woman is standing on a tennis court playing tennis. she is wearing a white headband , white tank top , black skirt and a black <UNK>. a white and blue <UNK> is on her racket. a black and gray tennis racket is on the court\n",
      "Correct Caption: A bunch of people are on a tennis court goofing off. There are two men and two ladies. The men both have on shorts and the ladies both have on pants.\n",
      "Predicted Caption: two guys are trying to catch a white frisbee. one guy has on a blue shirt and black shorts. the second guy has on a green shirt with white shorts. three other people are watching the guys catching the frisbee. a woman with long black\n",
      "Correct Caption: There is someone standing at a desk in a small bedroom. There's a bed against the wall that is messy, not made. Above the desk is a window and a shelf with lots of things on it.There's a couple shelves above the bed with things on it too.\n",
      "Predicted Caption: two people are sitting in chairs in a room. one of the men is wearing a black shirt and blue jean pants. there is a white and red chair sitting in the middle of the room. there is a black table in front of them on\n",
      "Correct Caption: A herd of elephants is walking along the banks of a river. A baby elephant is trailing the herd, while an adult emerges from the river.  There are buildings withe terraces nearby.  Several people are gathered on the terrace looking at the elephants.  Most are standing, while one man chooses to sit.  It is a partly sunny day.\n",
      "Predicted Caption: a group of elephants are walking across a wide green field. there are large rocks and <UNK> of dried grass in the front of the fence. the fence is made of wood and chicken with a lot of legs. the elephant is walking in a puddle\n",
      "Correct Caption: A boy is in silhouette against a blue sky. He is doing a trick on a skateboard and is in the air with his knees bent. His long hair is wild and in the air. The boy is suspended in the air over the skateboard but is not touching it. There is a fence beside the boy and palm trees on either side of the fencing.  A couple of white clouds show low in the sky and the foreground is dark in shadow.\n",
      "Predicted Caption: the image is in black and white. there is a skateboarder lying on the ground facing upward. his hands are crossed over his <UNK> and his left foot is crossed over his right foot. he is wearing dark clothing and his skateboard is out of arms\n",
      "Correct Caption: A woman is walking on the sidewalk and on the phone. She is holding a black phone to her ears and has sunglasses on her head. There are a bunch of people in the background behind her.\n",
      "Predicted Caption: a man and woman are walking on a sidewalk holding an umbrella over their head. the woman is wearing a long sleeve shirt , pants , a purse and large white bag. the man is wearing a jacket , pants and a large black bag. other\n",
      "Correct Caption: A large white bottom boat has an orange cover with small white framed windows. It is sitting in a very blue sea. There are black numbers on top of an orange cover. One person wearing a blue shirt is hanging out a window.\n",
      "Predicted Caption: a small black and white dog is standing in the water. there is a green and yellow life <UNK> <UNK> on the top of the boat. there is a white and red small <UNK> on the ground next to the bird.\n",
      "Correct Caption: There is a bald white man with a goatee and beard. He is handing a styrofoam plate with something white on it to an unseen person with his left hand. In his right hand he is holding a large butcher knife. The blade is red and sticky looking.It has unidentified white chunks hanging from it. O the coffee table in front of the man are several more plates holding triangular shaped food - maybe pizza or cake. There is also a water bottle. There are more people sitting across from the man, but only there legs are visible.\n",
      "Predicted Caption: two women are sitting at a table. the table is made out of wooden brown wood. there is a man sitting at the table. the table is brown in color. there are plates , glasses , napkins and other objects on the table. a\n",
      "Correct Caption: A metal street meter with the road behind it. There is a white car parked on the road and many cars behind a fence in the background. \n",
      "Predicted Caption: this photo is taken outside in front of a parking meter. the meter is standing on a sidewalk in front of a road. there are cars lined up on the side of the road. a small suv is seen sitting on the roadway. a large\n",
      "Correct Caption: There are lines of purple trees. There is a puddle of water in front of the trees. There are people on the grass in front of the trees. \n",
      "Predicted Caption: a bunch of cows are outside feeding. the day looks like it is <UNK> to be over. the trees have a bunch of brown and <UNK> leaves. there are five cows in the photograph.\n",
      "Correct Caption: ARIAL VIEW FROM A PLANE OF A CITY BELOW. THE CITY IS  LINED WITH WATER AROUND IT. THERE ARE MANY WINDING ROADS AND MANMADE LAKES.\n",
      "Predicted Caption: this is an image of a city scene. the ground is covered in sand. the sand is gray and made of bricks. the airplane is small and light gray. the person is leaning forward with one hand. the umbrella has a black top on\n",
      "Correct Caption: There is a plate sitting on top of a green cloth. There is a carton of milk sitting next to the plate on the table. There is a hot dog on the plate. \n",
      "Predicted Caption: a <UNK> is on a bun in aluminum foil. there is <UNK> on the <UNK> and a lot of it. there is a <UNK> of hot dogs. on top is a container with a <UNK> going on it. there is a black sauce. the\n",
      "Correct Caption: A crowd of people stand on a wet and sandy beach. There are men, women and children in the crowd. There are many buildings off in the distance. The sky above the beach is gray and blue.\n",
      "Predicted Caption: a bunch of people are outside together on their night. they are all focused on their <UNK>. the sky is blue with some clouds.\n",
      "Correct Caption: A lone giraffe stands in a grassy overgrown field on a clear day.  The filed is dry and brown, with patches of green bushes throughout. Behind the giraffe there is a short thick bushy tree. And in front of the giraffe there are some branches of bushes.\n",
      "Predicted Caption: there are two large giraffes in a field. there are trees lined up behind the giraffes. there are green bushes behind them.\n",
      "Correct Caption: a restaurant is sitting outside. there are umbrellas above the door. there is chinese writing on the signs. the doors are red in color.\n",
      "Predicted Caption: a store store with a lot of <UNK> in it.   there is a clock on the side of the doors.   the white bag is made of wood.   a black and white cat is standing on the back of the truck. there is\n",
      "Correct Caption: It is a bright, sunny winter day. We are standing at the bottom of a snow-covered mountain and looking up toward the top. There is a ski lift at the top left of the picture, and many skiers can be seen at different spots on the mountain. In the foreground, one large skiier jumps up and the picture is snapped as he is sailing through the air on his skiis. We are looking into the sun and as the picture is snapped, the sun makes a bright starburst in the middle of the picture. \n",
      "Predicted Caption: a person is standing on skis and holding ski poles. the person is wearing a red and black jacket and grey pants. this person is also wearing a blue helmet and black goggles. there is snow covering the ground all around , and there are mountains\n",
      "Correct Caption: The people are waiting at a train platform. The train is yellow and blue and has a white number 2 on it. There are dotted warning lines on the platform. There is a large metal pole next to the people. The man has a gray hat on and a tan heavy jacket. The other man has on a puffy black jacket. The man has a grey and black bicycle.\n",
      "Predicted Caption: a woman is standing in front of the train. the woman is wearing glasses. the front of the train is yellow , blue , and has red and red on it. people are holding food on to the side of the train. on the side\n",
      "Correct Caption: A small infant has their hand on a mouse. The mouse is for a laptop. Just half of the keyboard of the laptop is being shown and it all is on top of a wooden table.\n",
      "Predicted Caption: there is a wooden desk with a computer monitor on it. there is a black laptop sitting on top of the table. there is a white mouse next to the laptop. there is a white keyboard in front of the computer. there is a white\n",
      "Correct Caption: An orange cat is curled up on a blue blanket. There is a red and white hat on top of the cat. There is a blue pillow in front of the cat. The cat has one eye open. \n",
      "Predicted Caption: this is an image of a white cat. the cat has white fur on it 's paws. the cat is sitting down. the cat is sitting down. the cat is sitting down. the cat is sitting down. the cat is brown and white\n",
      "Correct Caption: A bird is walking in the grass. The bird has no hair on its neck. The body of the bird is white with black and brown spots. The bird has a dark colored eye and white hair on its head. \n",
      "Predicted Caption: this is an image of a polar bear. the polar bear is holding a polar bear. the polar bear has a black nose. the bear has a black nose. the duck has a white face , black beak. the duck is standing on a\n",
      "Correct Caption: A blue car is sitting in a driveway. There is a pink surfboard on the roof. The driveway is surrounded by plants. There is a black shadow under the car. The car is very long.\n",
      "Predicted Caption: there is a large red building with a window on the front of it. there are trees in front of the building. there is a white car parked on the street in front of the building.\n",
      "Correct Caption: A bride and a groom are cutting a cake. There is a tall white cake on a table. There are purple flowers behind the couple. \n",
      "Predicted Caption: a group of people surround a wooden table in a restaurant.   all of the people are in front of a man with a women in a vase and <UNK>.   the man is watching the man with his hands.   a man with a picture\n",
      "Correct Caption: a pile of vegetables are on the plate. the plate is blue in color. there are some shredded orange carrots. there is also some yellow pasta.\n",
      "Predicted Caption: a large white bowl with a mixture of vegetables. there are slices of carrot in the mixture. there is broccoli in the mixture. there are <UNK> beans in the mixture. there is rice underneath the mixture.\n",
      "Correct Caption: A tennis player stands on the court. The man has just hit the tennis ball. THe man holds a tennis racket. The man wears a colorful shirt. There are a few people watch the game. The sky is blue and sunny. There is a ferris wheel behind the stands. There is a tree by the ferris wheel. The court is blue. There are tall buildings in the background. \n",
      "Predicted Caption: a man is standing on a tennis court playing tennis. he is wearing a short sleeve white shirt , white shorts , white headband , and white wristbands on his <UNK>. the man is holding a black racket in his hand. his hair is standing up\n",
      "Correct Caption: An island kitchen featuring wood cabinetry with black drawer handles is neatly organized.   Three stainless steel pots rest side by side on a gas range on the island area with silver handled cooking utensils in them.  A pink dish containing some green leafy vegetable and other items also rest on the counter of the island.   In the corner is a pot holder with several pots and pans hung from it.  To the right of the pot holders is a large gas oven with range hood.  Along  the far wall are wooden cabinets and bottles resting on the counter beneath them.  \n",
      "Predicted Caption: there is a kitchen that has wooden cabinets in it. there is a white stove with a sink on it. there is a silver faucet on the counter in front of the sink.\n",
      "Correct Caption: A little girls in a white dress and white stockings holding a yellow and white tennis racket stands on a green air grate in front of a white tarp. The wind from the grate blows her hair all around her face. She is smiling at the camera as she stands on the grate.\n",
      "Predicted Caption: a woman is playing tennis on a tennis court. she is wearing a white tank top and a white skirt. the woman is holding a racket in her hand. the court is brown in color. there is a wall in the back of the court\n",
      "Correct Caption: Five people at the beach are carrying surfboards. The people are wearing black wetsuits. Four of the surfboards are white, while the other one is yellow. \n",
      "Predicted Caption: the image is of two young men playing frisbee. one woman is standing on a dock and is wearing a tank , and has a red <UNK> pack on her head. the frisbee is white , black , with black trim around it 's head and mouth\n",
      "Correct Caption: A living room is empty excepts for a white refrigerator on wooden slats so it doesn't scratch the hardwood floors. the kitchen is closed off excepts for a counter which shows the dark room behind the walls. Windows on the wall opposite the kitchen fill the room with light.\n",
      "Predicted Caption: the image is of two laptops that are turned on <UNK> in a room. both of the suitcases have light brown <UNK> and each legs are white.   the headboard show \" <UNK> <UNK> of this is a 5 <UNK>. to the right of the <UNK>\n",
      "Correct Caption: A pile of donuts are seen. There are six donuts total. All are chocolate of some sort. Three are chocolate cake and one of them has vanilla frosting, while the others have chocolate, and sprinkles. The other three are covered with milk chocolate. The one in the middle has white filling inside. \n",
      "Predicted Caption: there are two drinks on the table. there is a donut with two <UNK> in it. there is a cake next to the cake.\n",
      "Correct Caption: A flower container sits off to the right side. Two bags that are ink and denim blue are above the plates of food. The bowl in the middle contains a salad. The bottom bowl contains various cuts of vegetables, such as cucumbers and tomatoes and cheeses. To the left of the bowls are two oranges and one red apple. All items are sitting on a black table.\n",
      "Predicted Caption: there is a wicker basket of food on the table. the table cloth has blue and purple flowers on it. there is a pile of oranges , lettuce , and tall sticks in the middle of the table. there are many items sitting on top of\n",
      "Correct Caption:  a man in a baseball uniform standing on the field putting gloves him with a bat under his arms with the blue baseball helmets is uniform has black and red  writing on but the number 38  he has black and white baseball cleats and brown hair... the field is light and dark green trimmed very well... there is a white base on the ground in the drawer with 2 white squares outlined on the both sides of the home plate.\n",
      "Predicted Caption: a baseball player is standing on a baseball field. he is wearing a gray uniform with red writing. his cap is black with a logo on it. he has on a black helmet and gloves. he is holding a white baseball glove on his hand\n",
      "Correct Caption: A snowboarder is shown in midair after making a jump in front of a white brick wall.  Snow has been pushed up to the wall by what looks like it was a bulldozer.  The snowboarder casts a shadow on the wall.  He is dressed mostly in black and gray, with some bright orange accents, the only color in the picture.  The entire image is white and gray.\n",
      "Predicted Caption: a person in a green coat and black pants is skiing in the white snow. the person has white goggles. the person is holding a ski pole in each hand , and has skis on her feet. there is a lone pole sticking out of the\n",
      "Correct Caption: A red and white stop sign is mounted on a yellow pole on sidewalk.  Under the stop sign is a triangular \"caution\" traffic sign.  A bicycle is parked behind the yellow pole of the stop sign.  A white wall building with a red roof is directly behind the stop sign as well.  Three human silhouettes and the silhouette of a shopping cart are on the triangular caution sign.\n",
      "Predicted Caption: a stop sign is standing tilted by the street. the sign is on a metal pole. the sign is black and white and it looks like a <UNK> day. there is nothing and <UNK> in the back. there is a stop sign on the left\n",
      "Correct Caption: There are three elephants in front of a wooden fence. One elephant is large, the other is a baby and the third is slightly smaller than the large one. Al elephants are a light brownish-gray color. Behind the enclosure are trees with green leaves.\n",
      "Predicted Caption: there are two elephants standing in a field. there is a large log on the ground in front of the elephants. there are sticks on the ground in front of them. there is grass on the ground in front of them. there is a large\n",
      "Correct Caption: A black cat lays on the keyboard of a laptop. the cat is yawnin as it lays down. The cat has a long tail. The laptop is turned on. The laptop is on the desk. There is a bookshelf on the wall, which is filled with many things. There are books on the floor. There are other items next to the wall. \n",
      "Predicted Caption: a black cat is sleeping on a laptop computer. the laptop is open and turned on and is on. there is a white laptop sitting on the table in front of the cat. there is a white door on the wall behind the cat.\n",
      "Correct Caption: two girls are sitting on a bench. the bench is wood and brown. they are looking at a baby. the baby is blonde and little.\n",
      "Predicted Caption: there are two people standing on a sidewalk next to a child. there is a man in a blue shirt and white shorts standing on the platform. the man is wearing a red shirt and blue jean pants.\n",
      "Correct Caption: A man in a black button down shirt, and a gray tie is seen standing in front of a tan building in a city. The building has a picture of a man on the front and Korean letters on either side of the image. A large concrete platform is in front of the building and two men are walking on the platform. A blue and white public transport bus is on the side of the building.\n",
      "Predicted Caption: a woman is walking on the sidewalk. she is very busy looking through the street. she is wearing sunglasses and a black hat. there is a bus parked behind the <UNK>.\n",
      "Correct Caption: A white and blue fire hydrant is sitting on the corner of a rural street. The house in the background is brick and has blue doors and window decorations. It appears to be fall according to the colors of the leaves on the trees.\n",
      "Predicted Caption: a large black and white bird is standing on the grass. there is a tall tree to the right of the bear. there are trees and bushes behind the bird.\n",
      "Correct Caption: A large brown building has a clock tower. The clock tower contains two clocks. The clocks have a white face with black hands and numbers. The numbers are roman numerals. The clock tower also has a flag. The flag is blue on a white pole. The building is huge with many windows. The sky is overcast with clouds.\n",
      "Predicted Caption: a large brick building stands tall. there is a man standing in front of the building. there is a large white and black clock on the top of the building.\n",
      "Correct Caption: the table is full of snack foods. there is a big black tray on the side. the tray is full of small plastic cups. the cups are full of shredded cheese and hot sauce. there is another tray of hot sauce next to it.\n",
      "Predicted Caption: this is a picture of some food. the food is spread out in different bowls on the table. the bowls are all square shaped and white. there is a person sitting at the table. the person is wearing a red shirt. there is a\n",
      "Correct Caption: The man is bending over the table. On the table is a birthday cake. The candles are lit. The man is trying to blow the candles out. The man seems to be holding his infant in his other arm while doing this. This is taking place inside a house, in the kitchen area.\n",
      "Predicted Caption: a woman is smiling at the camera. she is putting some seasoning on the top of her pizza. she is at a restaurant that barely has any other people eating.\n",
      "Correct Caption: There is a zebra standing on a gravel type road. The zebra appears to be standing near a tree. There are a lot of trees ad bushes to the right of the zebra. It is very sunny outside which is evident by the shadows cast by the trees.\n",
      "Predicted Caption: there is a zebra eating some grass. the zebra has stripes. the stripes are black and white. the zebra has a shadow.\n",
      "Correct Caption: There is a man in a white uniform wearing a black cap pitching a baseball. There is a man standing behind him wearing a black shirt and gray pants. There is a player in a white uniform that is swinging a baseball bat about to hit the baseball. Behind that man is another man in a black shirt and gray pants who is crouched down wearing a helmet and face guard. \n",
      "Predicted Caption: a baseball player is standing on a baseball field. he is wearing a gray uniform with red writing. his cap is black with a logo on it. he has on a black helmet and gloves. he is holding a white baseball glove on his hand\n",
      "Correct Caption: Modern fire engines park along a tree lined street.  The truck at the front of the procession is a ladder truck, with the long, white ladder and bucket on top of the rig.  The sky is deep blue, and it seems like a grassy park like area.  Two people can be seen in the distance, side by side.\n",
      "Predicted Caption: a large truck is parked on the street to do some work. attached to the truck is a long crane with a white bucket where a person would stand. the bucket is next to a tall wooden telephone pole connected by wires to others.\n",
      "Correct Caption: An open laptop sits on a rustic wooden table. A lamp sits on the left of the laptop shining light on the table. A bunch of small glasses are on the table near a brown wall. In the distance a shelf with liquor is on a white wall. A table in front of the shelf is covered with empty, upturned glasses.\n",
      "Predicted Caption: a person is sitting at a laptop. there is a laptop on the table in front of the laptop. the person is wearing glasses. the person is wearing a blazer. the person is wearing a blazer. there is a black cord and a white\n",
      "Correct Caption: A picture of a tooth brush holder. The holder is red and in the shape of a bird. There are three toothbrushes inside of the holder. There are different colored bristles on each toothbrush. There is a keyboard beside the holder and a calendar is under the holder.\n",
      "Predicted Caption: there is a paper <UNK> to the wall. the table is wood and has a white , <UNK> sheet on it. there is a plastic bag on the table. to the right of the picture there is a white plastic bag.\n",
      "Correct Caption: There are two giraffes behind a fence. The fence is silver. There is man in a blue floral print shirt standing in front of the fence. The man is wearing a black cap. \n",
      "Predicted Caption: a man with glasses and a white baseball cap. he is wearing an orange shirt and is standing in a zoo. in the enclosure there are two tall giraffes with brown spots. beyond the giraffes are lush green trees and a cloudy sky.\n",
      "Correct Caption: The clock is lit up because it is night time. The sky is very dark. On top of the clock is a baseball team sign. The face of the clock is white. The letters and clock hands are black. Around the circle of the face is yellow.\n",
      "Predicted Caption: the face of the clock is white with black numbers. there <UNK> <UNK> around. the trees and ground in the background are covered with snow. the board with words on it are lit up with red lights to the right.\n",
      "Correct Caption: A man in a taupe tank top and black shorts is doing a trick with a skateboard. He is in the air, and holding the skateboard with one hand. In front of him is a black and white wall with a cartoon face painted on it. The sky above is mostly clear with one long wispy cloud.\n",
      "Predicted Caption: a person is wearing a black jacket and pants. they are jumping in the air. there is a black helmet on the ground. there are several people sitting in the stands.\n",
      "Correct Caption: A teenage girl sits on a low brick wall and texts.  She is dressed in a cool summer top and bluejeans.  She has slipped off her shoes to be more comfortable.  The wind is blowing her long hair.  She has put her purple backpack on the wall next to her.  She enjoys the shade of a nearby tree.\n",
      "Predicted Caption: a woman is sitting on a bench. she is wearing a tank top and shorts. the woman is holding a black and white racket in her hand. there is a large wooden pole beside the man. the woman is wearing blue jeans and a gray\n",
      "Correct Caption: This photo is taken outside on a sunny day. Two men can be seen on a sidewalk near a brick building. A large black trash can is near one of the men. Large green trees line the sidewalk. A road is beside the sidewalk and across from it is a large building. Vehicles are lined up on the street in front of the building.\n",
      "Predicted Caption: a man and woman are walking on a sidewalk holding an umbrella over their head. the woman is wearing a long sleeve shirt , pants , a purse and large white bag. the man is wearing a jacket , pants and a large black bag. other\n",
      "Correct Caption: A white airplane with a blue tail on it. There is a black and yellow sign on the ground in front of the plane. There is a orange and white flag hanging from the plane. \n",
      "Predicted Caption: this is an image of a runway. the runway has lots of yellow and green dry grass next to it. there is a large airplane on the runway. the airplane is red and white. the tail on the plane is red and white. the\n",
      "Correct Caption: There are three buildings in a line and a tall clock tower across the street from the houses. The photo is in black and white. There are large gray clouds covering the sky.\n",
      "Predicted Caption: a large brick building stands tall. there is a man standing in front of the building. there is a large white and black clock on the top of the building.\n",
      "Correct Caption: This is a street corner. There are two street signs on a pole, with black text on a white background with a black rim. The one on top says \"Sandridge JMI School\" and the one on the bottom says \"HOSDB.\" They are both pointing in the same direction, indicated with a black arrow on the sign. Behind the street corner is a building with a shingled overhang supported by dark green columns. There are three or four hanging baskets with flowers hanging from the underside of the overhang. The building is brick and two stories, with two windows flanking a dark sign with pale text reading \"GREEN MAN Good Food.\" Behind the sign is a large amount of green climbing vine which obscures the sign for the next shop. There are the tops of two standing signs just visible in the foreground of the picture, and a couple of benches sitting on the sidewalk in front of the building.\n",
      "Predicted Caption: a picture of a truck parked next to a brick building. the building is made of brick and has a white door. there is a brown door on the building. the door on the building is brown. there are many windows on the building.\n",
      "Correct Caption: A commercial garage for buses is shown on a cloudy day. There are three buses in the parking lot, two of which are near the garage doors as if they were entering the garage. There are four garage bays that are empty with their doors open. There is a small cart in front of the door farthest right. On top of the building there is a blue sign with white writing.\n",
      "Predicted Caption: a bus is on the road. the road is gray and has white lines on it. there are some people sitting on the sidewalk.\n",
      "Correct Caption: A large black bear is standing on a field. There is grass and dirt behind the bear. The bear has brown eyes and brown fur around its mouth. \n",
      "Predicted Caption: a large black bear is standing on the grass near a bunch of tall rocks. the bear has a large body of water and a large body of water. there are several small white rocks inside the rocks. there is a small bear in the water\n",
      "Correct Caption: A woman is wearing a pink shirt. She is standing in the water. There is a wave behind the woman. She is holding a white surfboard. \n",
      "Predicted Caption: a woman is paddle boarding on the water. she is wearing a black wet suit and holding a white surfboard in his hand. there is a person sitting on top of the surfboard. the surfboard is black and has a black design on it.\n",
      "Correct Caption: A young woman is walking between rows of buses.  The woman is wearing a red hoodie and black pants.  She is looking away from the camera.  The woman has dark hair.  The buses seem to be stopped at a red traffic light.\n",
      "Predicted Caption: a woman is smiling at the camera. she is standing in front of a school bus. the bus is a bright yellow color , the lady has on sunglasses , her shirt is red , and her pants are white.\n",
      "Correct Caption: A cake shaped like a high school track is half eaten and below it is written in blue frosting is \"Thank You Coaches\". On the table near the cake is a tray of cookies, cupcakes, a cobbler, and a dessert bar. beneath the cake there is a beige table runner with plums on it. \n",
      "Predicted Caption: a bunch of <UNK> are on the table. there is a potato <UNK> , a pair of orange scissors , measuring spoons , a <UNK> , and a lighter. the table is made of wood. the table is brown in color.\n",
      "Correct Caption: There are many people at a market. The middle aisle has fruit. There are green watermelons. There are also yellow bananas. The man on the left is wearing a striped shirt and blue jeans. \n",
      "Predicted Caption: a bunch of people are at a airport. they are all busy on the fridge. there are people behind the counter.\n",
      "Correct Caption: There are several people sitting around a table. There is a lady standing in front of the table. There is a white sign behind the table. There is a picture in a frame on the wall next to the sign.\n",
      "Predicted Caption: a group of people are standing in a <UNK> <UNK> outdoors. a man in a suit is standing between two men and talking to each other. there are two large lights hanging on a wall behind the man. a man in a suit is sitting behind\n",
      "Correct Caption: A brick building has a window with white metal bars over it. There are two cameras on the building, one on one wall and another behind the corner. Under the camera there is a street sign that says Playhouse Yard. There is another building to the right of the brick building.\n",
      "Predicted Caption: there is a sign on the pole that is written in white. the sign has a black arrow on it. the sign is black. there is a green light post behind the sign. there is a blue sign on it.\n",
      "Correct Caption: A group of people is standing outside at an amusement park that looks like Six Flags as there are large roller coasters in the background. It looks like a nice day with a sunny sky and no clouds. The group consists of 6 men, most of whom appear to be on the spectrum from overweight to obese. Their ages appear to range from 45 - 70 years old. Three gentleman are standing in front and three others are standing in back. They are wearing laynards with colorful badges around their necks. Four guys are wearing glasses and one is wearing sunglasses. Most are in casual, vacation attire, except for one guy who is wearing a tie. There are a couple other people in the background who appear to be in in line for something.\n",
      "Predicted Caption: a group of people are standing outside. there are boxes and a bag on a pole in the middle of the field. a little girl wearing a red jacket and black pants is standing in front of the man. tall trees can be seen standing near\n",
      "Correct Caption: A woman is smiling in the camera. In front of the woman is a small brown bear figurine with a laptop. The laptop has an Apple logo on it.\n",
      "Predicted Caption: a young girl who appears to be from <UNK> <UNK> , sits resting her head on her <UNK> while leaning on a soft red surface.   smaller gold hoop earrings <UNK> beneath her wet looking black hair.   the girl is looking <UNK> at her black colored\n",
      "Correct Caption: There are a lot of people standing on the beach. There are waves in the water. There are a lot of surf boards surrounding the people. \n",
      "Predicted Caption: the sun is setting and it is giving pink tint to the sky although the sky is very clear. in the distance over the water there is a rather large ship. people are sitting on the sand in front of the water. there is also a\n",
      "Correct Caption: A doll is dressed up in a black suit with a silver vest. There is a green couch with red throw pillows on it behind him. There is a gold table in front of the couch.\n",
      "Predicted Caption: the woman is holding a phone.   the girl is wearing a <UNK> print.   the <UNK> hair is dark brown.   the <UNK> is silver.   she is wearing a purple shirt with a pink design.   the man is holding the umbrella\n",
      "Correct Caption: The fire hydrant is red orange. It has two silver chains. Behind the hydrant is a wooden fence. Inside the fence is the foggy area of the forest.\n",
      "Predicted Caption: there is a bird on the pole. the bird is long and tan. the bird is long and has black and tan tiger stripes on its wings. the white bird is holding an orange , black beak and a black nose. the bird has a\n",
      "Correct Caption: Someone is taking a picture from inside the airplane bathroom. The bathroom is very small and close. The person has on an olive green top and a carrying bag.\n",
      "Predicted Caption: a woman is standing in front of a large mirror. there are two large lights on either side of the mirror. there is a white sink in front of the mirror on the counter.\n",
      "Correct Caption: There is a white desk against a yellow wall. There is a computer on top of the desk. There is a black keyboard in front of the computer. There are bottles on the desk.\n",
      "Predicted Caption: this photo is taken inside of a cubicle. the cubicle is purple and gray in color. a white desk is connected to the wall of the cubicle. a black computer monitor , a computer monitor , a cellphone , mouse , a cellphone , a cellphone\n",
      "Correct Caption: A large double deck bus is driving on the street. There are people standing next to the bus. There is a large red building behind the bus. \n",
      "Predicted Caption: a bus is on the road. the bus is red in color. the side of the bus is white. there is a man in a blue shirt by the bus.\n",
      "Correct Caption: Three rocks sit in a semi-circle on top of a rock ledge.  The rocks each have something painted on them.  The largest one in the middle has a stop sign.  On the right is a light blue circle rimmed in red, with a black line through the center.  On the left is some red lettering in Russian.  Lush trees are in the background.\n",
      "Predicted Caption: there is a very large pile of fresh green trees on a partly sunny day. the day looks to be clear and <UNK>. in the background there is a white brick building. it has a round , square clock on one side and red <UNK> behind\n",
      "Correct Caption: There is a clock tower in front of the building. The clock tower is gray in color and it has a total of four facings. The hands are black and the face plate is white. The building behind it is brown in color. The building has long rows of windows on the second story. It has patches of checkered patterns in different spots along the face and at the end of the windows on the second floor. The sky is clear and blue. You can see a tree with no leaves on the right side of the picture.\n",
      "Predicted Caption: a tall brick building has many trees surrounding it. there is a black sign with the words \" <UNK> \" on the sign. there is a white sign on the black building. there is a black street pole attached to the building.\n",
      "Correct Caption: A person wearing a white tennis outfit is wearing a white visor. They are swinging a tennis racket. There is a person in a yellow shirt. \n",
      "Predicted Caption: a woman is wearing a white tennis dress that is very short. her legs and arms are very <UNK>. her hair is blonde and her tank is a tank top. she has a white visor on her head and she is holding a black tennis racket\n",
      "Correct Caption: A small brown dog is running down the beach, very near the shore, looking at another dog. The other dog is black, and is running through the water right near the shore. You can see waves coming into the shore.\n",
      "Predicted Caption: two dogs are playing on a grassy field. one of the dog is standing up and looking into the water. the water is calm near them. both of the horses are brown. they have long curved necks. around the horses are short green and\n",
      "Correct Caption: There are two yellow lights hanging from a black wire. There are two green trees under it. There is a tan building next to the trees. There are several signs next to the building. \n",
      "Predicted Caption: there are traffic lights hanging from the pole. two traffic lights are red. off in the distance you can see trees with green leafs. the trees are surrounding a house.\n",
      "Correct Caption: This is a photo inside of a pub.  A sandwich on a roll wrapped in a napkind is sitting directly in front of the camera.  Bottles of beer line the counter top.  A man in a striped shirt stands behind the bar.\n",
      "Predicted Caption: a cup of coffee with <UNK> in it sit 's in a white ceramic cup on a white saucer on a green table.   beside the cup , on the saucer is a spoon.   on the other side is a blue <UNK> of some type of\n",
      "Correct Caption: a bathroom is set up. the tub is white in color. the tub has legs on it. the light is turned on. the mirror is very small.\n",
      "Predicted Caption: this photo is taken inside of a bathroom. two white towels are hanging on racks inside of a large shower. white curtains are hanging outside of the shower. a white counter is sitting beside the soap dish on the counter. a white door is built\n",
      "Correct Caption: An adult and a kid is on the snow. The adult is teaching the kid how to ski. The kid is wearing an orange jacket and black leggings. He is also wearing a helmet. The adult is wearing a yellow green jacket and black pants. There are bare trees visible.\n",
      "Predicted Caption: a man in a red snow jacket and black pants is posing on a ski slope with his skis and poles.   he is smiling at the camera and has a ski jacket.   it is a sunny day.\n",
      "Correct Caption: White cabinets are in a kitchen. There is a window above the sink with white curtains. There is a white microwave on the counter. \n",
      "Predicted Caption: a kitchen with a breakfast <UNK> and bar is displayed. the countertops are marble and the cabinets are slate blue. there is a microwave above the stove , and a stainless steel sink.\n",
      "Correct Caption: Many people are walking with raised umbrellas on a city street.  The umbrellas are a variety of colors.  The people are walking on a sidewalk lined with businesses in stone buildings.  The businesses and stores have awnings and several flag poles attached to the front of the businesses.  The flags are American flags.  To the right of the umbrellas is a city street lined with vehicles including one white van. On the sidewalk are also black traffic lights and street signs.  One street sign has a black and white arrow on it and the other sign is blue with white type.\n",
      "Predicted Caption: there are several people walking down a street. there are people walking on the sidewalk in front of the building. there are cars driving on the street in front of the buildings. there is a man in a blue shirt and a white hat on the\n",
      "Correct Caption: A large ornate old cruise ship is seen docked at a port. In front of the ship there is a banner which reads \"Brunel's ss Great Britain\" to the left of the ship there is another ship, this one rusty which is flying lags of various countries. To the right there are some warehouses. The sky above is blue with a few fluffy clouds.\n",
      "Predicted Caption: there is a large oil ship sitting in the water. the ship is black and white. there is a green marker sitting in the water. near the giant oil ship is a smaller white and red boat.\n",
      "Correct Caption: Two red, blue, yellow, and cream candle holders sits on a white shelf next to a small plate. On the table below thee are plates shaped like flowers. The wall behind the shelf is cinder block painted white. On the left of the shelf there is an unpainted wooden bookcase.\n",
      "Predicted Caption: this is a picture of a table with a blue base on it. the blue vase is sitting on a table in front of a white wall. there is a vase on the table in front of the vase. there is a large blue vase on\n",
      "Correct Caption: A large sun hangs in the sky, with a long group of people riding horses below it. They are on a beach, and the reflection of the sun is prominent in the water. You can see footprints in the sand near the foreground of the picture, and tire tracks are imprinted there as well. The sea is rather choppy, and you can see waves forming and crashing down. There are probably 30 horses in the picture, and 10 or 15 riders. \n",
      "Predicted Caption: a beautiful scene of a downtown area. there is a beach at the edge of the beach. the sky is very cloudy and dark. there is a person standing to the side of the beach.\n",
      "Correct Caption: There are books sitting on a bed. There are white blankets on the bed. There is a lamp next to the bed. The book on the bottom of the pile is white and green. \n",
      "Predicted Caption: there is a <UNK> and it is empty of people. the majority of the pictures are white and various. there is a person standing with their arms out on the sidewalk. the person is wearing a white t - shirt with a pair of black pants\n",
      "Correct Caption: A cat is inside of a sink. The cat is brown and striped with black and is looking at the camera. The cat has a collar on and the eyes are big and yellow.\n",
      "\n",
      "Predicted Caption: this is an image of a pet. the pet is a cat. the cat is white with black and brown stripes on it. the cat has white paws on it. the white faucet is facing the camera. the cat is sitting between the food\n",
      "Correct Caption: Its the inside of a very large cathedral. It is massive and beautiful. There are a large amount of rows of seats on both sides. The beams on the inside on both sides are white and large. There are gold candle items hanging from the ceiling.\n",
      "Predicted Caption: this is an image of a river. the tower is made of stone. the clock is made of dark brown bricks. the clock is black. the clock is square with black numbers. the lid of the clock is black. the wall is tiled\n",
      "Correct Caption: Lots of dark colored cows stand on top of a hill. There are trees behind them and long tall grass under them. They have green and yellow tags in their ears. \n",
      "Predicted Caption: there are several horses standing in a field. there is grass on the field. there is a patch of dirt in front of the cows.\n",
      "Correct Caption: A pole holds a red sign on it. There are cars lining the street. There is a black fence behind the sign. There are white clouds in the sky.\n",
      "Predicted Caption: a stop sign is red with white letters. under the stop sign is a sign saying \" two way traffic \" , this sign is white with black letters. the two signs are on the same pole. behind the sign are trees and a house.\n",
      "Correct Caption: The man is wearing a white shirt. He has brown hair. He is holding a frisbee. The frisbee is green. It has black graphics on it. He is also wearing black shorts. \n",
      "Predicted Caption: a man is standing in a restaurant. he is wearing a striped shirt and shorts. the man is holding a white wii <UNK> in his hand. his hair is long and his hair is <UNK> back. there is a white rug in front of him\n",
      "Correct Caption: The rain is coming down heavy outside on the street. There is a person crossing the street at the corner. Someone is holding an umbrella with big flowers on it. The sky is cloudy and grey.\n",
      "Predicted Caption: there is a person holding a sandwich. the person is wearing a blue dress with a red heart. there is a man in a yellow shirt pushing a dog.\n",
      "Correct Caption: There is a woman sitting at the table. There is a black remote on the table. There is a white plate with a white cup on top of the plate. There is a spoon on the plate.\n",
      "Predicted Caption: there is a man and a woman. the man is wearing a light blue shirt with the hood on it. the man is wearing a long sleeve black shirt. the man is wearing a white chef shirt. there is a pizza in front of the\n",
      "Correct Caption: A very detailed and neat bathroom. There are wooden accents in a majority white room. The bathroom is vintage and is black on the outside.\n",
      "Predicted Caption: this is a bathroom. the ceiling is white. the walls are a sea foam green. the walls look like small one <UNK> tiles. the shower is a <UNK> small. the walls are white and <UNK> the mirror is white. there is a mirror\n",
      "Correct Caption: A clock sits on the ground. There is a white face with golden hands. There is an ornate black and gold design around the face of the clock which more than doubles the side of the clock. The clock sits on a black surface that appears to be the street. People are standing around the clock and five pairs of shoes are visible. \n",
      "Predicted Caption: a gold clock hangs from two gold chains attached to a ceiling. the clock face is white and there are black words <UNK> roman numerals. the top of the clock is silver and black. behind the clock is a clock sculpture in a clock wall.\n",
      "Correct Caption: There are brown and white cows in a field. There is tall grass and yellow flowers in the field. There are trees in the distance around the field. \n",
      "Predicted Caption: there are five cows in a field. one of the cows is standing and is brown. the cows are standing on the grass. behind the cows are many sheep and bushes.\n",
      "Correct Caption: A gray train is riding on it's tracks. Three train cars with red stickers labeled \"Ringling Bros. and Barnum Bailey\". All around the train tracks there is tall over grown grass, and gavel beside the road near the train tracks. Behind the tracks are a number of trees.\n",
      "Predicted Caption: a locomotive is heading towards the right down the track.   the yellow and white train with red stripes on the front and head.   there are boarding lights on the platform.   the train tracks are lined with tracks and lines.   a fence\n",
      "Correct Caption: There is a silver laptop with black buttons on it sitting on a couch. There is a dog laying on the couch next to the laptop. The dog is white and has black spots on its ears. \n",
      "Predicted Caption: a dog is laying on the top of a book bed. the dog is brown and tan. the dog has a light brown colored collar. the dog has a light blue collar. the dog has his eyes closed. the dog has a light blue\n",
      "Correct Caption: there is a big yellow bus that is parked. the bus is two stories. there is an ad on the side of the bus. there are four black tires. there is a white bus next to the yellow one. the buses are parked on green grass.\n",
      "Predicted Caption: there is a large yellow bus on the side of the street. there is a large brown building with windows on it behind the bus. there is a brown building in front of the building.\n",
      "Correct Caption: The cement side of this building has a silhouette of a man painted in black, to resemble a shadow next to the electrical box on the outside.  On the ground by his feet is a silhouette of a cat.  The man holds a red umbrella in his outstretched hand, to protect the cat from rain.  A bowler hat is on his head and he wears a calf length raincoat.  Graffiti is written over the black silhouette of the man, as well as a few places on the wall.  Some is spray painted onto the electrical box.\n",
      "Predicted Caption: a person is standing in a walkway in between two buildings. there are many people standing on the sidewalk next to the person. on the wall there is a large clock that has blue and green leaves on it.\n",
      "Correct Caption: The blue water is off to the side of the park. There are a lot of people standing by the water. Some people are sitting down on park benches underneath the trees. Each tree has leafs that are changing color due to the fall weather.\n",
      "Predicted Caption: a large tree in a small town has a lot of trees and <UNK>.   there are branches on the tree with small tree branches.   the tree is still and there is no one on the ground.   the ground may be dirt of dirt\n",
      "Correct Caption: A man wearing a blue baseball shirt, white pants and a blue hard hat is holding a black bat. He is wearing white gloves on his hands. He is standing on top of dirt. \n",
      "Predicted Caption: a man is standing on a baseball field. he is wearing a red and white uniform , black helmet and a black belt. the man 's name is on his uniform. the man is holding a brown bat in his hands. he is wearing a\n",
      "Correct Caption: The counter top in a bathroom of a hotel room is made of marble and has two white inset sinks. there is a basket of toiletries on the left, and a box of Kleenex on the right. There is a glass shelf behind the counter with a small bottle in front of a card, and two glasses turned upside down. There is a mirror with a decorative frame on the wall behind the sink.\n",
      "Predicted Caption: a bathroom with two large bowl shaped sinks. there is a mirror hanging above the sinks. on the wall there is a mirror above the sink.\n",
      "Correct Caption: A sign is shown on a sidewalk. The sign is triangular, red and white, and has two people walking on it. There are a couple of cars parked on the street near the sidewalk.\n",
      "Predicted Caption: a street is very empty. there is a lot of white smoke on the <UNK>. there are some white clouds in the sky. there are trees in the road. the buses are parked. there are cars parked in front of the building.\n",
      "Correct Caption: There are tables that have vegetables on them. There is a pile of raddishes, a pile of carrots, a pile of peas and some potatoes. There is a lady standing there with an apron on. \n",
      "Predicted Caption: there is a man and woman standing inside of a market. the woman is wearing a <UNK> yellow top with her <UNK> straps showing. the man is wearing a white shirt. there are large bunches of bananas hanging from the ceiling. there are many baskets\n",
      "Correct Caption: A person in a black suit is sitting on a surf board in the middle of the ocean.  The ocean has a lot of waves that are white.  The man is sitting waiting on a wave to roll by.  The water is very choppy.\n",
      "Predicted Caption: a man in a black wet suit is on a surfboard riding a big wave in the ocean. he is balanced on the board so that he can ride the wave to the shore without falling off. the expression on his face is shows how much he\n",
      "Correct Caption: There is a white and red truck parked on the street. There is graffiti on the side of the van. There is a building behind it.\n",
      "Predicted Caption: there is a large white building with a brick wall in front of it. there are many trucks parked in front of the brick building. there is a large white truck in a parking stall in front of the building. the truck has large black tires\n",
      "Correct Caption: Some people are gaming together in a room. They all have there own computers and are focused on the game they are playing. They all appear to have some snacks and drinks next to them.\n",
      "Predicted Caption: two men are drinking wine at an event.   both men are of asian <UNK> and are holding wine glasses with red wine.   the man on the left is wearing a black jacket and plaid blue shirt.   the other man next to him is\n",
      "Correct Caption: A man in a yellow rain coat is walking on the sidewalk. There is a woman standing next to him carrying a blue and white umbrella. There is a lady and a little boy crossing the street. \n",
      "Predicted Caption: a man and woman are walking on a sidewalk holding an umbrella over their head. the woman is wearing a long sleeve shirt , pants , a purse and a white bag. the man is wearing a jacket , pants and a large black bag. other\n",
      "Correct Caption: People are in the water at the beach.  A man is entering the water carrying a white surfboard with a red edge.  He is wearing a blue and white bathing suit.  A bit further down the beach, a couple is standing in the shallow water together looking down at something.  Low waives roll in towards the shore.\n",
      "Predicted Caption: a man is surfing on a wave. he is just about to <UNK> over the river. he has on a black hat , black shirt , black , and yellow board on his feet. the water is murky and is <UNK> and very clean.\n",
      "Correct Caption: A wooden table that has a silver trophy in the middle of it. In front of the trophy are several bowls and dishes containing food. There is a loaf of bread on a block of wood at the front of the table. \n",
      "Predicted Caption: a table has many items on it. there is a glass of water. there is a glass on the table behind the vase. there is a glass vase on the table.\n",
      "Correct Caption: A cat is positioned in front of an apple computer and keyboard.  It's fur is blackish brown.  His eyes are green.  A white mouse is sitting on the black mouse pad.  A router is positioned against the wall on the computer desk.\n",
      "Predicted Caption: there is a cat sitting on top of a desk. there is a silver laptop sitting next to it. the cat is wearing a black collar. there is a white cord and a cat sitting on top of the desk. the computer is turned on\n",
      "Correct Caption: A brown sectional couch in a room with colorful pillows on it. There is a brown leather ottoman in front of the couch. There is a tan and brown rug under the ottoman. There is a fireplace on the wall. Behind the couch is a window and a door that has blue curtains on them.\n",
      "Predicted Caption: a living room is shown from <UNK> view. a wooden table is sitting in the middle of two orange couches. the couches have red and golden pillows. a picture is hanging over the television set.\n",
      "Correct Caption: A lone dark grey plane is flying through a cloudy sky. The sky is completely overcast. The plane has four propellers. Two propellers on each wing. It has a top tail and two side tails.\n",
      "Predicted Caption: an airplane flies alone in a cloudy , grey sky. the airplane has a blue belly with a surrounding red stripe. lights are visible on the underside. the tail <UNK> are also blue , with a blue edge. it is a sunny day.\n",
      "Correct Caption: The sky is partly cloudy. The water is calm and clear. The train is in motion above the water on the bridge. The train is a royal blue color.\n",
      "Predicted Caption: there is a train traveling a long a bridge. the bridge is narrow. the bridge is above the river. the bridge is made of stone. the water is still. sunlight is reflecting on the water. the bridge is leaving a shadow on the\n",
      "Correct Caption: There is a man in a white baseball uniform with green trim that plays for the Spartans and is #14. He is wearing white Nike cleats with green socks and a green hat as well. He has a brown leather baseball glove on his left hand, and has just thrown the baseball, which is in the air, from his right hand. The man is white and has medium length hair. He is standing on the dirt part of the baseball field with neatly trimmed green grass behind him. \n",
      "Predicted Caption: two new <UNK> <UNK> baseball players are standing on the baseball field. the one on the left is on the grass , just outside the <UNK>. he is wearing a red baseball cap and a red helmet on his head. just on the right of him\n",
      "Correct Caption: There is a bed with purple blankets on it. There is one purple pillow and one pink pillow on the bed. There is a blanket on the wall behind the bed. There is a book on top of the bed. \n",
      "Predicted Caption: a little girl is hugging the wii. she is sitting next to a piano. the teddy bear is black. the girl is looking up at the camera. there is a reflection of <UNK> items on the table. the girl is wearing a bracelet.\n",
      "Correct Caption: Three elephants are in the water. They are all walking in the same direction. They all have very long tusks showing that are not in the water.\n",
      "Predicted Caption: there are six elephants in the water. the water is calm. the elephants are trying to cross the river. behind the elephants is the river bank with many trees.\n",
      "Correct Caption: A bald man and a woman with short brown hair sit at a dark brown wood table. On the table there are 4 wine glasses, and a wine bottle. The man appears to be pouring something into one of the glasses. there is also a brown beer bottle on the table. \n",
      "Predicted Caption: a bottle of wine is seen. a wine glass is sitting in front of a white plate on the wall. a black laptop is sitting behind the keyboard. a black and white keyboard is sitting on the table. a black and white plate is sitting\n",
      "Correct Caption: This is an image of zebras in the wild. The zebras have black and white stripes. The long and beige grasses are visible. Beside the zebra is a small, bare tree.\n",
      "Predicted Caption: two black and white striped zebras are standing on <UNK> grass outdoors.   the zebras are standing next to each other but they are facing opposite direction.   they are so close their <UNK> are touching.   both zebras have black and <UNK> fur and a\n",
      "Correct Caption: a bunch of zebras are roaming in the grass. the grass is yellow in color. there are three zebras. they all have stripes.\n",
      "Predicted Caption: there are two zebras in a field. there is a boulder in the field. there is a striped fence in the field. there are tall weeds in the field.\n",
      "Correct Caption: The room is an image of a bathroom. It has a white sink and a silver metal faucet. On the sink is a bottle of hand soap. The bottle is orange and white with orange pump lid on it. On the other side is an orange cup that is full of toothbrushes. The wall is made of tiles. On the wall is a mirror with wooden frame.\n",
      "Predicted Caption: a woman is standing in front of a large mirror. there are two large lights on either side of the mirror. there is a white sink in front of the mirror on the counter.\n",
      "Correct Caption: People are playing frisbee outside in the park. A man has his shirt off and he is reaching out to catch the frisbee. Others are running around to position themselves to be catching the frisbee later. The grass is green and there is shade from a nearby tree. There is a stone fence along the park and trees are behind it. There is also a stone pillar by the fence. \n",
      "Predicted Caption: a group of people are playing with a red frisbee outside on a sunny day. most of them are wearing shirts and pants. they are standing on a green grassy field. the sky is blue with sparse white clouds. behind the trees is a clear\n",
      "Correct Caption: The woman is reaching up to catch the frisbee. There is a man to the right that is catching a yellow frisbee as he bends down. The trees and the grass are green around and under the people's feet. Three of the people playing are wearing green shirts.\n",
      "Predicted Caption: three people are playing frisbee on a ball field.   there is a large <UNK> sitting on the right with red and blue flowers hanging up from it to the closest of it.   there is a woman wearing a red short sleeve shirt and white shorts\n",
      "Correct Caption: there are people playing tennis. one of the players is wearing a blue shirt. his shorts are white in color. he is holding a black racket. the stands are filled with people.\n",
      "Predicted Caption: a group of soccer players stand on a field. there is a large goal behind the players. the ground is covered in green grass. there is a large crowd watching the game. the stadium appears to be blue.\n",
      "Correct Caption: There are three elephants outside. People are on top of the elephants riding them over the field. There is green grass, green bushes, and trees with green leafs by the field. Off in the distance you can see mountains. The sky is blue, but also cloudy. \n",
      "Predicted Caption: there are several elephants standing on a field. there is tall grass and weeds all around them. there is a pond of water in front of them and large trees behind them.\n",
      "Correct Caption: There are several long boats in the water. There is a woman wearing a white hat. There are several bananas and fruits in the boat. There is a man on the dock.\n",
      "Predicted Caption: this is an image of a river scene. there are people that are loading and <UNK> boats. there is a woman who is wearing a white tank top and green shorts. the woman is wearing a white shirt and has black hair. there are people\n",
      "Correct Caption: A sign is on a pole near the street. The pole is black and the sign is white and red. A bunch of cars are parked on both sides of the street. The sky is filled with cloud.\n",
      "Predicted Caption: a street has the road closed. the street light is green and on the left side of the street are a gray brick building. a white car is driving down the street. there are other cars parked on the street.\n",
      "Correct Caption: a bird is on a rock. the bird is brown and red. the bird is very small. the bird has very jagged feet. the bird has black eyes.\n",
      "Predicted Caption: a bird is on a <UNK>. the bird is white and black and has a black crown. the wings are a golden yellow color. the bird is pretty small. the bird is pretty small. the bird is pretty small. it is pretty small\n",
      "Correct Caption: There is a table full of food and drinks. There are white plates, silverware, and white cups and saucers. One of the cups holds coffee. There are two clear vessels with silver lids and black handles. Several people can be seen sitting around the table.\n",
      "Predicted Caption: there is a table with two white plates on it. there are plates on top of the plates. there is a glass on top of a white plate in front of the table. there is a white bowl on the table with red sauce on it\n",
      "Correct Caption: A large elephant is walking on a field. The elephant has large white trunks on the mouth of it. There is a large tree next to the elephant. \n",
      "Predicted Caption: there is a large tan colored elephant standing facing the left. the front legs and trunk of the elephant are separated by a fence. the fence <UNK> are gray in color. to the left of the elephant 's head is another elephant looking down at the\n",
      "Correct Caption: A teenage boy sits at a table in a restaurant. He has short black hair and is wearing a short sleeve t-shirt. He is putting food up to his mouth. A large circular white plate with a black stripe around it sits before him. French fries and a foot-long hot dog with chili are on the plate. A full glass with a straw  and utensils also sit on the wooden table. A white shopping bag is visible beside the boy in the booth he sits in. \n",
      "Predicted Caption: a man is sitting at a table. he is holding a sandwich. the pizza is large and has a few large white paper on it. there are some white papers on the table.\n",
      "Correct Caption: An average sized cat is standing in the tub. The tub is white and is not filled with water. The shower curtain is clear and on the right side. The washcloth is dark colored and hanging from the tub. The tub has a silver drain and stopped. The cat is standing in the middle of the tub while facing the wall.\n",
      "Predicted Caption: a black and white cat is standing on the white toilet seat in the bathroom. the body of the cat is black , and the chest and paws are white. the cat 's tail is hanging on the mirror. the cat is black and has a\n",
      "Correct Caption: A gray and black cat is standing on a counter. The counter is white and brown. There is a coffee mug sitting on top of the counter in front of the cat. \n",
      "Predicted Caption: there is a cat in front of a laptop and it. the cat is gray with black stripes. the cat is stripes on the cat 's face. the cat is laying on a laptop. the cat is brown and black. the cat has a\n",
      "Correct Caption: A man is skiing down the mountain. There is a log of white fluffy snow. The man is wearing a red hat and blue snowsuit. He is holding ski poles in his hands. He gas black gloves on his hands and sunglasses on his face. Behind the man are trees that are covered in snow.\n",
      "Predicted Caption: a man is skiing down a hill. his ski rod is in the air and there are a bunch of mountains in the distance. the sky is very clear and the clouds are extremely low.\n",
      "Correct Caption: A man stands in the snow. He is holding a black pole. There are trees behind the man. There are tracks in the snow. The man is wearing a dark colored cap. \n",
      "Predicted Caption: a man is snowboarding down a hill. he has on a black hat , orange jacket , and some brown pants. there are a whole bunch of mountains way far in the background.\n",
      "Correct Caption: The head and neck of a giraffe is seen behind a small knoll which is partially grassy area and partially rocky. There are two wooden poles in the grassy area, as well as two light green rectangles which may be steps. There is a strip of black material suspended between the poles. The giraffe is seen in profile. Its mouth is closed. There is grass and rocks visible behind the giraffe's head, as well as some dirt pathways and more grass. A number of tree trunks are seen rising upward from the grass behind the giraffe. \n",
      "Predicted Caption: two giraffes are in an enclosure.   a chain link fence <UNK> the animals.   the giraffes have golden manes.   the enclosure is <UNK> by a metal fence.   the giraffes are standing next to each other.   they are eating hay.\n",
      "Correct Caption: There are two clocks at a tower near a larger building behind it.  The two clocks are black with white faces.  The numbers are roman numerals and the right clock reads 12:15 while the left clock reads 11:40.  The tower has detailed architecture which makes it appear very old.  There are ornate golden decorations also visible on the clock tower.\n",
      "Predicted Caption: a <UNK> shot of a clock protruding from the ground. the clock is very old and the numbers are in roman numerals. the sky is filled with clouds and a building is right in view of the clock.\n",
      "Correct Caption: A bed covered in white blankets and pillows sits in the corner. There is a silver laptop sitting on the bed. The apple logo on the screen is lit up. There is a poster hanging on the wall. The walls of the room are white as well. The laptop on the bed is open. There is nobody in the room.\n",
      "Predicted Caption: a bed is freshly made. the bedspread is plaid. the colors are brown and blue. there are curtains on the window. there is a wooden desk next to the bed.\n",
      "Correct Caption: two legs are riding on a skateboard. the skateboard is in the air. the skateboard is black in color. there is another person skateboarding in the background. the skate park is surrounded by mountains. there is a grey rail next to the ramp.\n",
      "Predicted Caption: a person is wearing a black and white shirt. they are jumping in the air. there is a black fence behind them. they are both smoking.\n",
      "Correct Caption: There are two people dressed in winter gear on snowboards in mid air. The hill is covered in white snow. There are people standing on top of the hill in the back round. You can also see trees covered with snow. The sky is cloudy and looks cold. \n",
      "Predicted Caption: a man in a green and black jacket and green pants is standing on top of a mountain. there are trees behind the man. the man is wearing a red and black jacket and dark pants.\n",
      "Correct Caption: There is a cake in a white box. The box is sitting on a table. There is an empty white plate sitting next to the cake. There is a person holding a knife cutting the cake. \n",
      "Predicted Caption: a wine glass is filled with white <UNK> on a white counter top. on the pastries there is a white tablecloth. on the right side of the <UNK> is a white microwave. the wall behind the table is made of a brown stone. the brown\n",
      "Correct Caption: This is a large, black and red train. A jet of steam comes out the side and hits the ground. the train has three headlights on the front as well as an identification number. the door to the front car is slid open and a man stands at the rear of the car doing something. There are trees in the background behind he train.\n",
      "Predicted Caption: the train is on the tracks. the train is green and yellow. there is a red and yellow traffic sign. there is a large tree on the side of the train. the train has green lights on the front of it.\n",
      "Correct Caption: Black cabinets are above a kitchen cabinet that isn't finished. There is a ladder leaning against the wall. There is a white door on the hall leading into the kitchen.\n",
      "Predicted Caption: the kitchen is very clean. the stove is white. the refrigerator is by the window. the cabinets are a <UNK> in color. the microwave is white in color.\n",
      "Correct Caption: The image is a black and white photo. A young boy is sitting in the space between the poles of two parking meters off the ground. His arms are wrapped around the two meters and his feet are tucked behind the main bar supporting the two meters. He is smiling with his mouth wide open. He is dressed in warm weather clothing including dark shorts, a striped t-shirt, tennis shoes, and socks. His hair appears to be light colored. To the boy's left there is an older model car parked in a parking space. In the distance behind him there are several older model cars parked in a parking lot. The area is surrounded by mature trees. The concrete of the parking area in the foreground is stained from previous vehicles' fluid leakage. From the content of the photo and the models of vehicles, it appears this is a vintage photograph.\n",
      "Predicted Caption: the image is of a motorcycle parked on the side of a street. the motorcycle is covered with a green grassy type material.   this green material covers the windshield and <UNK> along with the area under the seat.   there are two headlights on the\n",
      "Correct Caption: a bunch of cars are in a parking lot. there is  black motorcycle that are parked. the motorcycle is clean and shiny. there is a white building in the background. the sky is blue in color.\n",
      "Predicted Caption: there is a motorcycle parked on the sidewalk. the motorcycle on the ground is rubber. the motorcycle is black. there is a bike rack on the back of the motorcycle. the motorcycle bike is on the street. the motorcycle to the left is parked\n",
      "Correct Caption: A tall brown and white cake is sitting on a table. There are red and yellow flower petals around the cake. There is a white plate on the table with a fork on top of it. \n",
      "Predicted Caption: a table is covered in many vases. there are many different vases on the table. there are candles with <UNK> on it. there are <UNK> on the table. there are <UNK> on the table. there are <UNK> on the table. there are <UNK>\n",
      "Correct Caption: This photo is taken outside on a sunny day. A woman is walking on a sidewalk while looking at her phone. She has a large black purse on her shoulder. A tall red fire hydrant is sitting on the sidewalk beside the woman. There is a gray car on the road in front of the woman. A gray fence can be seen across the street, surrounded by vehicles.\n",
      "Predicted Caption: there is a bike parked in the window. the truck is orange in color. the truck has black wheels. there is a yellow fire hydrant in the parking lot. there are large windows in the background.\n",
      "Correct Caption: a yellow taxi got into an accident. he hit a tree and crashed. there is a cop car next to him. The man is talking with the cop. there is a store right next to the accident.\n",
      "Predicted Caption: this image is of a bus stop.   the sky is blue , and there are white clouds visible lower in the sky.   there are trees in the background.   pine trees , and then a lighter green three.   the trees have leaves\n",
      "Correct Caption: A surfer is wearing a black wet suit. He is standing on top of a white surfboard. There are large waves in the water behind the man. The sky is blue. \n",
      "Predicted Caption: a man is surfing in the <UNK>. there is a large wave in the water with people standing behind him. there is a small wave in the water. there is a large wave in the water under the wave.\n",
      "Correct Caption: A batter is swinging his bat to hit the baseball. He is wearing a black helmet and a white uniform. The catcher is behind him with a red mask on his face, and behind him is the umpire with a black helmet. There is green grass on the field.\n",
      "Predicted Caption: a baseball player is standing on a baseball field. he is wearing a gray uniform with red writing. his cap is black with a logo on it. the player has a black glove on his left hand. the player wearing a blue helmet and blue\n",
      "Correct Caption: The plate is colorful. At the center of the plate is a white, creamy dip. On the plate, there is  cucumber, broccoli, carrots, tomatoes and red peppers. Beside the plate is a knife with black handle.\n",
      "Predicted Caption: a plate of food sits on a table. the table is wooden and is composed of beige slats of wood. the plate is round and white with a <UNK> rim and a circular <UNK> in the center. the meal that has been prepared consists of rice\n",
      "Correct Caption: A child in a blue and black coat and black pants is stanind on a snow board apparently watching an older man in a white coat who is walking off.  Snow covers the ground and is well tracked.  To the right of the boy on the board is a line of people waiting.\n",
      "Predicted Caption: a woman is standing in the snow on black and silver ski boots. she is wearing black pants and a gray and red top. her skis are in a green and white snow face. she has ski poles in her hands. she is wearing white\n",
      "Correct Caption: A gray cat is sitting on a closed toilet and looking down at an orange cat. The orange cat is looking up at the gray cat. The toilet seat and lid are light wood. The toilet itself is white and so are the tiles on the floor. The toilet paper roll hangs on a metallic holder.\n",
      "Predicted Caption: a cat is staring back at the camera. the cat is brown and white. the cat is sitting on top of someone 's leg. there is a blue carpet to the right of the cat. there is a wall behind the dog. the cat\n",
      "Correct Caption: A white airplane is taking off from the ground. There is blue writing on the side of the airplane. There are white vans on the ground below it.\n",
      "Predicted Caption: a plane is flying in the sky. the plane is white in color. the plane has a blue tail. the sky is very cloudy and not clear.\n",
      "Correct Caption: Two people are skiing on snow. One of the people is wearing a white coat and orange pants. They are holding black ski poles. There is a person standing behind them also in the snow. \n",
      "Predicted Caption: a man is walking on a beach. he is flying a kite. the kite is black in color. there is a large wave under the man.\n",
      "Correct Caption: A boy is sitting at a small dock. The boat has small wooden benches on it. Above the boat is a bridge that has people walking on it.\n",
      "Predicted Caption: this is an image of a river. the river is small. the river is orange in color. the water is light brown. there is a large silver <UNK>. there is a large red clock on the train. the train is pulling up toward\n",
      "Correct Caption: There is a man in a brown shirt standing on the grass. There is a yellow frisbee in front of the man. There are trees behind the man. \n",
      "Predicted Caption: a woman in a blue shirt and dark pants is holding a baseball frisbee in her hand. she is wearing a black shirt and dark pants. there is a red and yellow net in front of her.\n",
      "Correct Caption: An abandoned train is shown on the tracks. There are some graffiti words on the train. The color of the writings are green, yellow, black, white, and a gray color. \n",
      "Predicted Caption: a train with the letters <UNK> is on a train track during the day.   the front car is green and the passenger train is red with yellow stripes.   the letters on side of the train are yellow with a number 2 on the front.\n",
      "Correct Caption: Two people are playing tennis. They are wearing white uniforms. The woman is wearing a tennis skort. She is swinging her racket. The dirt under her is light brown.\n",
      "Predicted Caption: a man is playing tennis on a tennis court. he is wearing a blue and white shirt , brown shorts , gray socks and plaid shoes. a black and white net is on his head. a large chain link fence can be seen behind the man\n",
      "Correct Caption: A wooden desk with a laptop on top of it. There is a silver keyboard in front of the laptop and a mouse next to the keyboard. There are wires coming off of the laptop. There is a wall behind the desk and there is a blue note stuck to the wall. \n",
      "Predicted Caption: a desk with a computer and keyboard is visible in the image.   it seems to be an office area.   there is a painting on a green wall.   a lamp is behind the computer and there are four windows in the drawer.  \n",
      "Correct Caption: There are people on the tennis court. There are bushes and trees behind them. They are all wearing white shirts and holding tennis rackets.\n",
      "Predicted Caption: four people are playing soccer on a ball. one of the men is about to kick the ball. a man in a white shirt is walking towards the ball. there are two men playing a game of video game on the field.\n",
      "Correct Caption: three birds are perched onto a handrail. the handrail is made out of wood. the wood is dark brown in color. the birds have white necks.\n",
      "Predicted Caption: two birds are working on a <UNK>. the birds are brown and white and have a long tail. the two birds have on light green shirts. behind them is a body of water. the sky is blue with white clouds in it.\n",
      "Correct Caption: A bicycle is parked at a metal bicycle stand. There is a gold color lock attached to the bicycle stand. The bike is leaning onto the side of it. There is a black and gray bag attached to the bicycle. Behind the bicycle is a road with a large bus on it. The bus is white and blue and has an orange digital sign on the front.\n",
      "Predicted Caption: a red and gold bus is parked on the side of a street. there are buildings across the street. there are people walking on the sidewalk next to the <UNK>.\n",
      "Correct Caption: A black vehicle with rain on it.  The inside of the car has black interior  A bird is sitting by the window.  The bird is white on top and with wings and tail are light blue.  The bird is looking into the mirror.  There is a bush on side of the car with purple flowers on it.\n",
      "Predicted Caption: a side mirror is of a car in a train. the car is black in color. the side of the train is painted a white color. the car has two small cracks on the side. the car mirror is black with white text. the\n",
      "Correct Caption: A large barn is surrounded by wooden and metal fences. In front of the barn is a paved street. The roof of the barn is grey and the walls are painted white. The doors are bright white. There are many pastures surrounding the barn.\n",
      "Predicted Caption: a woman is sitting on a beach. she has a red <UNK> hat on her head. she is holding a black camera and someone is holding a yellow bag in his hand. there is a woman sitting on the ground next to the woman and two\n",
      "Correct Caption: A single red bench sits on the brick patio near the water. There is a short wall at the end of the patio, looking out over the water. The water spans as far as the eye can see, and is a bright blue. The sky is light blue above the water. There are dark shadows cast on the patio from unseen objects as well as from the bench.\n",
      "Predicted Caption: the image is of a man and a woman.   the man is holding a skateboard.   the man is wearing shorts and a tank top with a t shirt underneath.   he is also wearing a hat , dark suit and has a brown <UNK>\n",
      "Correct Caption: There is a white and yellow train with red doors next to a red and yellow train. They are on top of the railroad tracks. There is a brick walkway next to the trains. \n",
      "Predicted Caption: a train is on the tracks. the train is blue in color. there is a british flag on the side of the train. there is gravel next to the tracks.\n",
      "Correct Caption: A man is standing on a field. The turf is green. It is night time. He is dressed in pants and a long sleeve shirt. He also has a winter hat on. He just got done throwing a Frisbee in the air. In back of him is a white brick wall and a blue trash can. \n",
      "Predicted Caption: a man in a black shirt with red shorts is standing on the side of a tennis court. he is holding a white and black tennis racket in one hand. there are several people sitting in the stands watching the game. there are several people sitting\n",
      "Correct Caption: A bricked sidewalk is showing little action. The gray brick sidewalk lines a red brick building. The building contains a street light at the top of the wall. There is also a sign on the wall that reads Copper Alley Nite Club Now Open, with a black double door for its entrance. On the sidewalk is a pole that has a no parking sign. There are two bicycles parked against the silver pole.\n",
      "Predicted Caption: a stop sign is standing tilted slightly with a two front <UNK>. the sign is on a black metal pole that comes up above the sign. the sign is black and white with a blue stripe going across it. the next to the left is <UNK>\n",
      "Correct Caption: A man with skis is skiing up a hill with ski poles. The slope is white and smooth and the sky is cloudy and grey. There are skinny pine trees in front of the skis. The skier is wearing a black jacket and a red and black backpack. His ski pants are grey. \n",
      "Predicted Caption: a man in a red snow jacket and black pants is posing on a ski slope with his skis and poles.   he is smiling at the camera and has a ski jacket.   it is a sunny day.\n",
      "Correct Caption: The back of a stop sign on a pole is at the intersection of 13th Street and an unknown avenue at dusk. Six power lines run from a building in the distance. The windows on the building are small and high privacy windows.\n",
      "Predicted Caption: the sky is clear and blue. there is a sign with yellow and white letters. the pole and the light is on a pole. there is a traffic light on the pole with the light blue sky. there is a fence in the background.\n",
      "Correct Caption: There is a black bear sitting in a green chair. There is a woman in a blue shirt and a man in a pink shirt kneeling behind the chair. There is a silver fence behind them. \n",
      "Predicted Caption: a man in a white t - shirt and blue jeans , and tan shorts is sitting on a black and tan man , riding a frisbee , as if he is <UNK> in the mirror on a skateboard. the man is bending down on a set of\n",
      "Correct Caption: The picture is of a baseball team and the coaches together. They have old style uniforms on. In front of the row of players there are baseball bats on the ground. The picture was taken out in a open field.\n",
      "Predicted Caption: the image is a black and white photo of <UNK> boys sitting on stairs in front of a house. the boys are dressed in old style pants and shirts with boots. the boy on the bottom row that is sitting on the right has two baseball <UNK>\n",
      "Correct Caption: a plane is flying in the sky. the plane is very white in color. there is a logo on the tail. the logo is in the shape of a leaf.\n",
      "Predicted Caption: this image is of a gray plane in the air that has a fly shaped <UNK> outlined on the side of the plane near the cockpit. the tail has a read and white emblem with the letters \" <UNK> \" in an oval shaped circle. the small\n",
      "Correct Caption: Four people wearing old-fashioned clothing stand posing in front of the camera. They are in a large building with a bright ceiling, and there is a black train behind them. There are two men on either side of two women. The man on the far left has a black suit, black shoes, and a black top hat. The woman to his right is wearing a white, pink, and green dress, with a white hat, and a broach pinned to her chest. She is holding a white satchel in her white-gloved hands. The woman next to her is also wearing white gloves and holding a white satchel. This woman has a green dress on, with lace on the trim. The man next to her is wearing a checkered vest underneath a dark long coat and dark pants. He has a black top hat. \n",
      "Predicted Caption: there are people standing around an airport belt. there are suitcases on top of the belt. there is a black umbrella open next to the women on the cart. there is a man in a blue shirt standing in front of it.\n",
      "Correct Caption: a bunch of birds are on the ocean shore. the shore is very shallow. the birds are white in color. you can see their reflections in the wet sand.\n",
      "Predicted Caption: a <UNK>   boat streaks from a blue <UNK> beach.   the boat has a yellow <UNK> attached to its edge.   the body of water is color blue and the sky is light blue and has a white stripe down the side.   the water\n",
      "Correct Caption: There are wooden cabinets on the wall above a wooden counter. There is a window above the counter with white curtains on it. There are red peppers hanging from a white planter on the ceiling.\n",
      "Predicted Caption: this photo is taken inside of a kitchen of a home. the floor of the kitchen is a light hardwood type of floor. there is a rug sitting on the floor. a brown chair is sitting against a white painted wall. there is a brown\n",
      "Correct Caption: Two men are jumping in the air trying to catch a frisbee. The frisbee is white. There is a house behind them with some trees in front of it.\n",
      "Predicted Caption: a man in a black shirt and red shorts is catching a frisbee. the man is jumping and throwing a yellow frisbee. he has a red frisbee on his head. there is another man behind him with his hands behind him.\n",
      "Correct Caption: A cat is lounging on a flat screen TV.  The cat has white paws.  The TV is mounted on the wall.  A bed is reflected on the screen of the TV.\n",
      "Predicted Caption: a black and white cat is sitting inside of a brown suitcase. the suitcase has a black and red checkered <UNK> on it. it is sitting on top of white carpet and has a white wall behind the cat.\n",
      "Correct Caption: There is a man in a yellow shirt riding on top of a brown horse. There is rope in his hands and he is trying to rope a white cow. There is a wood fence behind the man.\n",
      "Predicted Caption: a cowboy is sitting on a beach.   the horse is walking in the air.   the horse is walking in the air.   the horse is walking in the air.   the horse is standing up in the middle of the road.  \n",
      "Correct Caption: There are several people sitting on bicycles. They are on a beach and there is water behind them. A lady in a yellow shirt is standing next to a bike. \n",
      "Predicted Caption: two people are riding on top of horses. one of the people is wearing a black shirt with a gray beard. there are white <UNK> behind the bikes.\n",
      "Correct Caption: A wooden table is next to a white stove. On the table are an apple, a pomegranate, a plastic container with brown food items, a container with cooking utensils and several other food related items. The tiles behind the table are beige and brown. \n",
      "Predicted Caption: this is a picture of a table with a blue and white vase. it has a round one in the middle. on the top is a round white plate with double dots on it. there is a white mug in front of the bottle. there\n",
      "Correct Caption: A girl in a purple and black shirt sits at a table in front of a plate. On the round yellow plate there is a slice of pizza with macaroni on top of it, and a long handled silver fork. the table is wooden with a white pebbled section n the middle. Near the camera there is a green water bottle. \n",
      "Predicted Caption: two people are at a table with a pot of food covered in a bread top sitting on it. the lady is wearing a black jacket with a striped shirt and is sitting right in front of the plate. a person is sitting next to her ,\n",
      "Correct Caption: This image is of a bench sitting along what appears to be a paved walkway.  There is a area of grass behind the bench that has small red flowers blooming in it.  In the background are trees and 2 bright red double decker buses.  you can also see some city building in the far distance.\n",
      "Predicted Caption: a train is on the bridge. the train is yellow and green. there is a yellow line on the bridge. there is a brown building on the other side of the train. there is a yellow wall next to the signal.\n",
      "Correct Caption: A young man flying through the air on a skateboard. The skateboard is gray in color. The young man on the skateboard is wearing gray pants and a white shirt. There is a crowd watching the young man on the skate board. There is a wall separating the man from the crowd. \n",
      "Predicted Caption: a man in baggy gray jeans , and a black t - shirt with gold letters on it stands on a black skateboard with pink wheels on a shiny skateboard ramp. the ramp is wavy and has large <UNK> and <UNK> in it. the man has his\n",
      "Correct Caption: A plane that is red and blue is flying in the air. There are several white clouds behind the plane. There is a white stripe on the plane. \n",
      "Predicted Caption: three jet planes are flying directly behind one another.   they are white with red and blue stripes on the tails and wings.   a cockpit is visible on the front of each jet surrounded by a glass <UNK>.   all three jets are <UNK> to\n",
      "Correct Caption: A man is in a blue shirt and jean overalls. He is wearing a white and black hat on his head. There is a white refrigerator in front of him. There are white trucks behind him. \n",
      "Predicted Caption: a woman in a yellow shirt is wearing a white apron. she has a red visor on her head. she is bending down over a food cart with a white counter in front of <UNK> of food. there is a silver microwave on top of the\n",
      "Correct Caption: There is a large brown dog standing next to a woman. The woman is holding a blue frisbee in her hand. There is also another person standing next to the dog. \n",
      "Predicted Caption: two women are standing on a grassy field on a sunny day. one of the women is wearing a white <UNK> top and blue jean shorts. the other woman is wearing a white shirt and green shorts. she is holding a blue frisbee in her hand\n",
      "Correct Caption: a little girl is eating a slice of pizza. she is holding it in her hands. the pizza is pepperoni. The table is blue and there is a red plate on the table beside a plastic white fork. the kid is wearing a bib which is white in color and there is a mess on top of the table. \n",
      "Predicted Caption: a young child sits on a chair covered in a <UNK> or <UNK> pie. the pizza is <UNK> in front of the pizza. the pizza is just barely poking up as well. the pizza is just barely large and <UNK> in shape. to the left\n",
      "Correct Caption: A man is wearing a black cap and jumping off of a skateboard. The skateboard is green and red. There is a red brick building behind the person.\n",
      "Predicted Caption: two people are being shown <UNK> their <UNK> outside. a lady in a white tank top is in full <UNK> attire , running with her dog on a leash. a man with a navy <UNK> jacket is riding on a bike through an intersection. some cars\n",
      "Correct Caption: a kite is in the sky. the kite is light blue in color. people are flying the kites. the sky is very blue and has wispy clouds in the sky.\n",
      "Predicted Caption: a picture of a person standing on a beach while flying a kite. the sky above the beach is hazy blue. there are many waves running along the <UNK> of the beach. there is a time <UNK> on the bottom right of the picture. there\n",
      "Correct Caption: A little girl with a brown hat on and she has long hair underneath the hat.  She is wearing a blue and pink top that is a little off her shoulder .  She is eating a piece of cake out of her hands her fingers have cartoon character wrapped around them and a person in black clothing is sitting on the right side of her.\n",
      "Predicted Caption: the baby is holding a fork. the baby is wearing a red crown on its head. someone is holding the sandwich. the girl has blonde hair. the mans piece is on a table. the person holding the left is wearing a white shirt.\n",
      "Correct Caption: Some planes sit on the ground. The ground is covered in mostly green grass. The plane in the front is mostly silver with some red and black signs. There is a black plane and a red plane behind it. Many tall trees are behind the planes. The sky above is blue. There are no clouds in the sky. \n",
      "Predicted Caption: there is a yellow and blue airplane in the sky. there are large trees on the sides of the runway. there is a yellow sky above the plane.\n",
      "Correct Caption: A hot rod truck sits in a parking lot.  A surfboard is resting on top.  The truck is antique looking.  It has fancy wheels with fenders.  The hood has exhaust pipes sticking out.  The truck bed is covered up.  The truck is painted black.  A modern conventional car is parked nearby.\n",
      "Predicted Caption: a white truck is driving on a street. there is a white truck in front of the truck. there is a black truck parked in front of the truck.\n",
      "Correct Caption: A person stands, wearing a wetsuit, on a surfboard surfing in the waves of the ocean. While another surfer sits on the surfboard looking on at the surfer. Two heads can be seen bobbing in the distance behind the ocean wave. A concrete pillar is in the foreground of the beach.\n",
      "Predicted Caption: a man in green shorts is walking on the beach. he is holding a white surfboard under his arm. the board has a yellow line in the back of it. the sky is blue with white clouds. there are rocks on the shore. the\n",
      "Correct Caption: A man in an elaborate blue, red and gold eastern style costume is standing in front of a stand on which two large brown bears are on four paws and appear to be kissing the man on his cheeks. Behind them is a cloth with has small bears and trees painted on it. A large large with rope on it is in front of them.\n",
      "Predicted Caption: a bear is laying on top of a large gray boulder. the bear is a black and white polar bear. the bear is lying on its side in front of a white <UNK> water.   the bear is laying on its side in the snow.\n",
      "Correct Caption: A red fire hydrant is in the dirt. There are green bushes all around the hydrant. There is a brown leaf on the ground in front of the hydrant. \n",
      "Predicted Caption: a fire hydrant sits in a field of grass. the fire hydrant is blue and yellow. it 's tank is bright and the hydrant is casting a shadow of a large white dog. the car is in the middle of the road. there are two\n",
      "Correct Caption: Two people are sitting next to each other at the table. On the table are drinks and many dishes of various foods. In the middle of the table is a cutting board with a whole pizza on it. \n",
      "Predicted Caption: there are pizza on the white plate. the plates are on the wooden , brown counter. a man wearing white chef attire is standing behind the counter and holding a wine glass. the people have a silver spoon on their lap. there are some white\n",
      "Correct Caption: A parade is going down the street in a town in a residential area. There are there police officers on motorcycles in the front, and behind them there is a police car. People are standing on the sidewalk watching as the parade goes by.\n",
      "Predicted Caption: there are several motorcycles lined up on the grass. there is a large building behind them. there is a brown building in the distance.\n",
      "Correct Caption: A man in a black t-shirt, black leather vest, and blue jeans is sitting on a dark red Kawasaki motorcycle with a USA flag on the back. The rider is wearing a helmet with a design painted on it, and looking off to his left. On the left of him there is a white car in front. And there is a gray car behind him. There are two trucks and two cars going the opposite direction on the left of the street.\n",
      "Predicted Caption: a white and black motorcycle is on the street. there are two blue cars on the street. there is a brown building behind the motorcycle.\n",
      "Correct Caption: There is a large gray plane with people standing next to it. There is a person in a blue shirt next to the plane. There are cars next to the plane. \n",
      "Predicted Caption: the image is of a plane flying in the sky on a cloudy day.   the plane has a large white body with a small blue wing <UNK>.   on the side of the airplane 's body there is writing that say <UNK> in blue.  \n",
      "Correct Caption: A white and brown building is in front of a brick sidewalk. There is a person standing behind a silver table. There is a yellow cart in front of the window on the building. \n",
      "Predicted Caption: a woman stands on a sidewalk while holding an umbrella. there is a black purse and a silver bag on the sidewalk in front of the building. there is a person wearing a white shirt standing next to the building.\n",
      "Correct Caption: An old steam locomotive is chugging down the tracks through a wooded area. There is a steamstack on it that has smoke billowing from it. The train has many open windows and it is filled with people.\n",
      "Predicted Caption: a group of people are standing on a set of dirt. there are large weeds and bushes in front of the trees. there are some trees and bushes in the background.\n",
      "Correct Caption: A flat screen computer is positioned on a contemporary desk.  There is a flexible desk lamp to the side.  On the opposite side is a set of speakers.  On the front left edge is a large pair of headphones hanging from the corner.  An ergonomic office chair is in front of the computer and facing a red wall.\n",
      "Predicted Caption: a desk with a computer and keyboard is visible in the image.   it seems to be an office area.   there is a painting on a green wall.   a lamp is on the wall above the desk.   there is a clock on\n",
      "Correct Caption: There is a wood fence with bushes and trees in front of them. There is a large brown cow behind the fence. The cow is standing in a field of grass. The sky is blue and there are no clouds in the sky. \n",
      "Predicted Caption: there are two horses out in the wild. the horse in the background is a reddish brown color. the horse in the front is a bright white. the horse in the front is a dark brown color. the horse in the front is a bright\n",
      "Correct Caption: There is a black steel fence with a white and black sign on the front of it. There is a yellow and orange building behind the fence. There is a brick building next to them. \n",
      "Predicted Caption: a stop sign is standing in the middle of the street. the stop sign is white and says <UNK> av. the sign is on a metal pole that is in a <UNK>. there are two people crossing the road in front of the two <UNK>.\n",
      "Correct Caption: Two birds stand next to each other.  The birds seem to be of the same species, only male and female.  One bird has an elaborate growth coming from the top of its head.  Its head is black with white stripes.  The other bird's head does not have a growth or any stripes.  The birds are standing on flat ground next to some green grass.\n",
      "Predicted Caption: two birds are perched on <UNK> in a lake. the birds are white and fluffy and are sticking out of the water. one bird is <UNK> , while it 's has a white long neck. the very very green trees are in the background. they\n",
      "Correct Caption: There are two zebras standing on dirt. They are both facing away in the same direction. There are several bushes on the ground next to them. \n",
      "Predicted Caption: two zebras are standing in an enclosure. one is an adult , and the adult has a small mane with a dark top. he is standing on grey dirt and there is a small bit of green vegetation in the enclosure. a pen with a wire\n",
      "Correct Caption: The image contains a bed with an intricately carved headboard and foot board.  A flowery blanket covers the bed along with two pillows.  A blue piece of material is draped over the foot board.  Two gold-framed mirrors of differing sizes are standing against the wall.\n",
      "Predicted Caption: this is an image of a bedroom. the bedroom is very <UNK>. the bed is made. the bed has a gray comforter on it. the comforter is very <UNK>. there is a large metal headboard on the bed. the rug is black.\n",
      "Correct Caption: a train is on the tracks. the train is red in color. the tracks are black in color. there is nobody on the platform. there is a sign above the platform.\n",
      "Predicted Caption: a train is driving on a set of train tracks. there are many green trees on the side of the tracks. the train is gray. there is a large windshield on the train. there is a gray and black train on the platform.\n",
      "Correct Caption: A rear view mirror on a car. It is black around the rim. There is a white and gray dog in the reflection of the mirror. There is a large tree in front of them.\n",
      "Predicted Caption: a side mirror is of a house in a home. the cat is white with black spots on it 's back. the cat is walking away from the camera. the cat has black and white stripes on it. the windshield of the car is open\n",
      "Correct Caption: There is a man sitting at a table wearing a green shirt and a gray jacket. There is a pizza on the table in front of him on a wood serving board. There is a salad and a sandwich on a plate on the table. \n",
      "Predicted Caption: a woman is sitting on a wooden chair in a room. she is wearing a black sleeve sleeve shirt. a white paper is sitting on the table in front of her. a black and white wall is sitting on top of it. a black and\n",
      "Correct Caption: A man is presenting a woman with some desert. There is some cheesecake and icecream with a candle. They are in a very nice restaurant and they are both smiling.\n",
      "Predicted Caption: a family of eight sits at a dining table having dinner. at the head of the table is a gray haired man in glasses with a long sleeve blue shirt. to his left are three girls , tow young , one a <UNK>. at the other\n",
      "Correct Caption: The sun's rays are shinning through the trees in the back ground. The trees are tall and they produce a lot of shade. There is a white table in the foreground. On the white table is a zip lock bag. In the bag is three or four rolls of what appears to be some kind of processed meat. The meat are in rolls such as what you would expect bologna or sausage to be.\n",
      "Predicted Caption: a black pole is standing beside an old parking meter. attached to the pole are parking signs. the meter machine is green with orange border at front. on the bottom is a drawing of <UNK>. the sign is attached to a pole that has a\n",
      "Correct Caption: The room is being finished. There are bare walls. There is no sheetrock. The bath tub is white. It is just sitting in place. The wood beams are thin. \n",
      "Predicted Caption: a white toilet is sitting in a room. there is a white sink in front of the toilet. the toilet seat is down and it 's reflection on top of a white wooden floor. there is a white bath tub and shower next to the toilet\n",
      "Correct Caption: A person is riding on a skateboard. The skateboard is black with yellow wheels. The person's shoes are black with green socks. Pants are black. Two hands are hanging by the side of the body. The ground is nicely tiled with a sort of brick.\n",
      "Predicted Caption: a man in baggy gray jeans , and a black t - shirt with gold letters on it stands on a black skateboard with pink wheels on a shiny skateboard. the ramp is wavy and has large <UNK> and <UNK> in it. the man has his arms\n",
      "Correct Caption: A white polar bear is relaxing in water. The water is blue and calm. The polar bears back paw is sticking out of the water. The paw has black padding. The water is enclosed by a rock like wall. The polar bear has closed eyes. The mouth is in a frown. \n",
      "Predicted Caption: a polar bear is walking on top of grey stones. the stones are large. the polar bear has dirty fur and its feet are so dirty that they look dark brown. there are many trees behind the polar bear and they have no leaves with the\n",
      "Correct Caption: There is a road that has sheep standing on it. There is a person riding a bicycle going down the road in front of them. There is tall grass and trees around the road. \n",
      "Predicted Caption: a picture of a man in a blue outfit riding on the back of a horse. the horse has brown hair. the horse is wearing a red cloth on it 's back. there is a field of green grass beneath the horse. there is a\n",
      "Correct Caption: three kids are all standing outside in the grass. they are all holding bats and balls. the bat is red in color. the ball is white.\n",
      "Predicted Caption: there are people standing on the grass. there is a woman in a white shirt standing on a skateboard. there are people standing next to the crowd watching them.\n",
      "Correct Caption: A lady is holding her phone and sitting with her legs crossed. She has a gray flip phone. She is wearing a brown tank with some short white shorts. She has blond hair and sunglasses on the top of her hair and she is in a building that has a lot of wooden furniture.\n",
      "Predicted Caption: a woman is sitting on a wooden bench in front of a black table. two chairs are sitting on top of the table. she is wearing a black shirt and white pants. she is sitting in a chair that has a black backpack on it.\n",
      "Correct Caption: A large swimming pool is free of people swimming. The light blue pool is decorated on the bottom with three blue triangles and a curvy stripe. People stand around the pool by a few white tents set up on the far end of the pool. A set of stairs leads into the pool. The stairs have a metal railing.\n",
      "Predicted Caption: a lake is next to a large body of water. there are people sitting in the water watching the game. there is a small boy in a blue shirt sitting on a bench behind them.\n",
      "Correct Caption: The view is an industrial area of a city and is under construction. To the right is a business with a yellow and blue billboard. In addition there is a flagpole with an American flag adjacent to the building. There are several vehicles in a parking lot in front of the business. To the left is a construction site that is fenced and barricaded off from the street. A tall, blue crane stretches into the blue, cloudy sky. In the foreground a stop sign with a sticker under the silver letters stands on a street corner. The sign casts a dark shadow on the sidewalk behind it.\n",
      "Predicted Caption: this is an image of a street. the street has many cars in it. the street signs are light brown. there are trees in the background. the signs are red and white in color. the street sign is white and there are two blocks\n",
      "Correct Caption: A room with a lot of machine in it.  Some of the machines are silver and some of white.  The floor is black and shiny.  The wall in the room are white.  There is writing on top of the silver machines and black dials on top of the white machines.\n",
      "Predicted Caption: the image is of a business which is very busy and filled with people. two large sinks are the main focus in the image and behind the sinks is a low white wall separating the sink area from the rest of the room.   the sink on\n",
      "Correct Caption: Two children are posing for a camera in the snow.  The boy is standing on skis with a blue helmet and a snow jacket.  The girl has a graphic designed ski jacket and blue helmet.  There is a ski lift on the right side of the mountain.  Trees and mountains are seen in the distance.\n",
      "Predicted Caption: a man is wearing a red jacket and white pants. there is a black helmet and goggles on his head. he is holding ski poles in his hands. there is a <UNK> on his right hand.\n",
      "Correct Caption: there is a plane in the air. it is a green military plane. it has really shorts wings. the tail wings are also small. it has propellers on the front. it is being surrounded by clouds. the sky is very blue.\n",
      "Predicted Caption: a jet plane is flying in the air. the plane is a military plane. a plane is <UNK> and black. a plane is flying high up in the clouds. the sky is mostly cloudy and overcast. the nose of the plane has a sharp\n",
      "Correct Caption: A cat is black and white. It has a pink mouth and white whiskers. It is looking up. The cat is laying in green grass. The ears of the cat are pointing up.\n",
      "Predicted Caption: a furry cat has blue and green eyes. the nose is red and the whiskers are white. she is sitting on the blue backpack on the carpet. the carpet is black.\n",
      "Correct Caption: Many narrow kayaks sit in the water. They are all bright colors.The water is still and flat. Next to the water is a fence. There is a bridge over part of the water. There are many trees next to the water. A tree branch covers some of the boats. There are the reflections of many trees in the water. The sky above is clear.\n",
      "Predicted Caption: a large red boat is on the water. there is a person sitting on the water in front of the water. there is small waves in the water.\n",
      "Correct Caption: A group of animals is gathered in a field. There are elephants and rhinoceroses standing together near a watering hole. There are both younger and older animals here together. Some of the elephants are caked with mud after being in the water.  The rhinoceroses are walking toward the water while the elephants are facing the direction the rhinos are walking from. The elephants have large flapped ears and long trunks. The water hole is surrounded by tall green grass and trees with many green leaves on them.\n",
      "Predicted Caption: there are several elephants standing on a field. there is tall grass and weeds all around them. there is a pond of water in front of them and large trees behind them.\n",
      "Correct Caption: A man is taking a selfie in the mirror. He has on a black suit with a orange shirt. His tie is green and white. The bathroom has very dim lighting.\n",
      "Predicted Caption: a room is visible from the window. the door is open and the <UNK> are shiny and black. there are two small circular windows on the opposite wall. under the sink is a mirror with a sink and drawers. there is a shelf above the\n",
      "Correct Caption: A woman in a blue shirt is standing on the sidewalk. There is a hot dog in her hands and she is taking a bite out of it. There are people walking on the sidewalk behind her. \n",
      "Predicted Caption: a woman is standing in the women 's <UNK> food. she is wearing a white shirt , pink pants , and brown boots. the woman is holding a silver spoon on her left hand. the woman is wearing a white short sleeve shirt and blue shorts\n",
      "Correct Caption: A hot dog is sitting on a white piece of paper. There are chopped onions on top of the hot dog. There is mustard on top of the hot dog. \n",
      "Predicted Caption: there is a hot dog on a bun covered in toppings. the hot dog is inside of a foam container. there are hot peppers on the hot dog. there is another hot dog in a container beside the <UNK> hot dog. sitting on top is\n",
      "Correct Caption: a toilet is in the ground. the toilet is bright white. there is a bowl in water in front of the toilet. the bathroom is made of cement.\n",
      "Predicted Caption: the toilet stall is very clean. they are of a square metal bowl over the toilet. it has a round button in the middle that you <UNK> to flush the toilet. the toilet lid is down. so the left of the toilet is a roll\n",
      "Correct Caption: there is a motorcycle on a road. there are white lines on a road. a man is riding the motorcycle. the man is wearing red and black. he is also wearing a helmet. there are many people on the sidewalk.\n",
      "Predicted Caption: a person is riding a motorcycle down a paved road. the road is gray and has white lines dividing the lanes. the person is wearing a black helmet and black clothing. there is a package in the back of the motorcycle. there is another motorcycle\n",
      "Correct Caption: A man is wearing a t shirt and jeans. He is jumping off of a skateboard. The man is wearing a white cap. There is a skating ramp behind the man. \n",
      "Predicted Caption: a person is standing in the middle of a street. there is a fire hydrant on the ground on the side of the street that is <UNK> water into the air. the person is standing on the sidewalk wearing a helmet. the helmet is black and\n",
      "Correct Caption: Two donkeys are pulling a carriage. The donkies are wearing reigns. The reigns are black in color. There is a man pulling on the reigns. He is wearing a cowboy hat and blue jeans.\n",
      "Predicted Caption: two men are sitting in a carriage being pulled down the road by two horses. the man on the left is wearing a red sweatshirt. the man on the right is wearing a red and gray striped shirt and has a red helmet on his head.\n",
      "Correct Caption: A white cat with black paws is standing on top of a parked car and standing at the camera. On the windshield of the car is the reflection of a building and the fluffy clouds in the sky. Behind the car there are two buildings and a gray car parked on the street.\n",
      "Predicted Caption: there is a white car parked in a parking garage. there are at least five or six cars parked together. the white car has black wheels. there are pillars in the windows. the car is black in color. there is a car parked on\n",
      "Correct Caption: a woman is on the phone. her phone is white. her hat has a bow on it. she is smiling at somebody. she is wearing neutral colors.\n",
      "Predicted Caption: the woman is holding a frisbee. the girl has long hair. the girl is wearing a white shirt. the shirt is a <UNK>. the <UNK> is attached by black <UNK>. the girl is wearing a white shirt. the shirt has long sleeves.\n",
      "Correct Caption: A person is wearing a tan jacket. They have a brown backpack on their back and a gray scarf. They are holding a cell phone in their hands. There is a silver train in front of the person.\n",
      "Predicted Caption: a woman in a neon green vest is standing in front of a train platform. there is a white and black train on the platform. there is a white building in front of the bus.\n",
      "Correct Caption: There is a large elephant standing in the grass. There is a giraffe in front of the elephant. There are trees behind a fence in front of the animals. \n",
      "Predicted Caption: there are two elephants standing in a field. there is a large log on the ground in front of the elephants. there are sticks on the ground in front of them. there is grass on the ground in front of them. there is a tree\n",
      "Correct Caption: The sky is gray and cloudy. The clock tower is visible. The tower has compass on its top, and has two clock faces. Below of the tower is row of trees and a field. On the field a person is walking.\n",
      "Predicted Caption: a large red brick building is standing behind some grass. there is a tall tower coming off of the building with a clock on the side of it. there is a black street lamp in front of the building.\n",
      "Correct Caption: a man is getting ready to ski down a mountain. he is wearing a really yellow jacket. his hat is red in color. there are two ski sticks in the ground. his skis are pointed forward. he is a happy man.\n",
      "Predicted Caption: two people are sitting on a snowy hill. they are both snowboarders. they are both wearing goggles. one snowboard is red , the other is blue. the man on the left is wearing a blue jacket. they are both smiling.\n",
      "Correct Caption: A bed with a colorful quilt on it. The headboard on the bed is wooden. Next to the bed is a small table with a small lamp on it. \n",
      "Predicted Caption: a <UNK> bed is open and has a black and white floral bedspread in a <UNK> room. there is a wicker chest at the foot of the bed. a red blanket is sitting on the edge of the bed. a black lamp is on the left\n",
      "Correct Caption: A man is being shown laying on the side of a mountain. He has ski equipment. Behind him are very tall and sharp mountains and clouds in a very clear blue sky.\n",
      "Predicted Caption: a man is skiing down a hill. his ski rod is in the air and there are a bunch of mountains in the distance. the sky is very clear and the clouds are extremely low.\n",
      "Correct Caption: Two octagon-shaped waffles are in a pile on a floral bordered plate. There is a neat square of butter on top of the waffles. The waffles are slightly browned. Next to the plate is a bottle of syrup with a light colored label. The counter beneath the plate is a dark granite.\n",
      "Predicted Caption: a white plate is sitting on top of a black table. there is a sandwich on top of the plate. there is a glass on the table behind the plate. there is a pile of meat sitting on top of the plate. there is a\n",
      "Correct Caption: The square sign is black white and blue. It has a white triangle has a icon of a person walking across the crosswalk. The sign is on top of a silver pole. Behind the sign is a stop sign and a paved street.\n",
      "Predicted Caption: a stop sign is shown. the sign is red with white writing and some has graffiti <UNK> some gray writing on it. there are a bunch of houses in the back and some cars are parked in front of them.\n",
      "Correct Caption: A bunch of cars are driving in a snow storm. A couple of cars that are parked near the sidewalks are completely covered in snow. The signs are all covered and so are the houses.\n",
      "Predicted Caption: a black car is on the street. there is a pole next to the pole. there is a white car parked on the street.\n",
      "Correct Caption: I see a wooden table with broccoli, onions and carrots on top of it. There is also a sharp kitchen knife next to the carrots. The broccoli carrots and onions appears to be chopped.\n",
      "Predicted Caption: there is a plate on the table. the plate has food on it. there is broccoli and vegetables on the plate. there 's a fork to the right of the plate. the food has a long green plate with a yellow <UNK>. the food\n",
      "Correct Caption: A sheep is laying down in some hay. There is a hand of a person reaching in and petting the sheep. The person is wearing a blue jacket. The sheep is looking up. \n",
      "Predicted Caption: two baby lambs are eating hay.   the lambs are white and have short , curly hair.   they are standing on ground covered by hay and eating out of a cage of hay.   the cage is large , black and iron.   it\n",
      "Correct Caption: There are two red trolleys on the tracks. There is a fence next to the trolleys. There is a building behind the trolley. \n",
      "Predicted Caption: a train is sitting on some tracks. the train is white and blue in color. the train is on a brown track. the sky is blue and has clouds in it.\n",
      "Correct Caption: A man is walking by an MBTA commuter rail coach.  The coach has a purple stripe and a \"T\" logo, signifying transit.  He is wearing sunglasses, a t shirt, pants and sneakers.  He is carrying a red bag over is shoulder.  A yellow tactile warning strip runs along the side of the train.\n",
      "Predicted Caption: a man is standing on the train. he is holding a white camera. the man is wearing a red hat on his head. he is looking down. the man has a yellow and red backpack.\n",
      "Correct Caption: A note is hanging on the wall above a range top. The walls have white tiles and all the cabinets in the kitchen are white. The refrigerator has a bunch of gray magnets on it.\n",
      "Predicted Caption: a kitchen with white cabinets on it. there is a black stove with a picture hanging above it. there is a white sink.\n",
      "Correct Caption: There are two people waking in snow shoes in the snow wearing black snow suits. There are trees next to the people on both sides. There are tracks in the snow. \n",
      "Predicted Caption: a man is riding his snowboard on top of a mountain. he is wearing a black jacket and black pants and grey gloves. he is holding ski poles in his hands. he is wearing a black helmet on his head. there is a <UNK> on\n",
      "Correct Caption: A woman is wearing a grey tie and holding up a bottle of beer. She is having a good time dancing at a party. The woman has dark brown hair. There is a picture on the wall behind the woman's head.\n",
      "Predicted Caption: a woman is standing in front of a table and holding a <UNK> in his hands. the woman has short hair that is brown. there is a white refrigerator in the corner of the woman at the table. the wall behind the woman is standing on\n",
      "Correct Caption: A contrail is the only mark on this bright blue sky above a distinctive building. The building is made of different sized grey, tan stones. A peak of a rooftop in one area of the building can be seen. The roof is shingled with rust colored shingles. Behind the roof is a square tower with a black round clock. The tower is topped with a flag resting without a breeze.\n",
      "Predicted Caption: a tall red brick building has a clock on its front.   the clock has black hands and a white border.   the back of the clock has black hands and a clock on it.   the clock has black hands and a clock on the\n",
      "Correct Caption: There are several benches on the ground. There are trees and bushes behind the benches. There is a person walking on the sidewalk in front of the benches. \n",
      "Predicted Caption: a bench is sitting on the ground. the bench is made of wood. the bench is small and gray. it is sitting on top of the rock. there is a brick wall to the right of the bench.\n",
      "Correct Caption: An open door of a bathroom. The toilet is cleaned and the lid is closed. The wall appears to have very nice and neat wallpaper on it. The light is on and the overall appearance of the doorway and room is very clean.\n",
      "Predicted Caption: this is an image of a bathroom. the bathroom is very small. the bathroom is very plain. the wall is white above and brown. there is a white toilet across the room. the toilet is white. there is also a silver metal faucet\n",
      "Correct Caption: A white cup of tea with a tea bag inside sits on a saucer with a spoon on it. Beside the saucer there is a small container of cream, and a pair of silver over sized sunglasses. Next tot eh glasses there is a black flip phone. Closest to the camera there is a black leather portfolio open with pages of paper clipped inside.\n",
      "Predicted Caption: there is a white desk in a room. there is a blue <UNK> on the desk. there is a large black bag on the desk. there is food on the desk that is sitting on top of the desk.\n",
      "Correct Caption: A black steam locomotive is riding on train tracks. It is black and green and yellow. There is steam coming from the stack. Around the locomotive is green grass. A few people are walking by the train.\n",
      "Predicted Caption: a train is smoking on a railroad track. the train is a dark green color with black and red on it. a bunch of trees are on the side of the train tracks. a man is peeking from the side of the train and another man\n",
      "Correct Caption: Inside of a white bowl is some yogurt, blueberries and almonds.  A silver spoon is inside the bowl and used for eating with.  The juice from the blueberries is making the white yogurt tinted blue.  The almonds are whole and there are more berries than anything else in the bowl.  The bowl is round and is sitting on a wooden table.  Residue of the food can be seen on the insides of the bowl.\n",
      "Predicted Caption: a white plate is sitting on a table. there is a jar next to the plate. there is food on top of the plate. there is a glass of water on top of the plate. the plate is round. the table is round.\n",
      "Correct Caption: A person is skiing down a hill. There are trees on the other side of the hill. The person has a red jacket on. There are many tracks in the snow in front of the person.\n",
      "Predicted Caption: a person is going down a hill on skis. the hill is covered with snow. the snow is very white in color. the snow has a black line on the back of it.\n",
      "Correct Caption: Tug boats are docked at the shore. Three men are on the pavement wearing jackets. Two are standing and one is sitting on a green park bench. There are two green metal park benches which are curved into a half circle.\n",
      "Predicted Caption: there are several <UNK> to a wooden fence. there is a large body of water behind the water. there are several birds that are sitting on the sides of the water.\n",
      "Correct Caption: There is a white desk with various items on top of it. There is a computer monitor that is turned on. There is a black keyboard in front of the computer. There is a black mouse and several black wires. \n",
      "Predicted Caption: this is an image of a work desk. the desk has lots of stuff on it. the desk is very cluttered. the desk has white and red and black books on it. the books are spread about. the computer monitor is black. the\n",
      "Correct Caption: A kite is flying hair in the air. It is flying over a building. The sky is gray and cloudy. The kite is red and green in color. \n",
      "Predicted Caption: this is an image of a street. the street has a large , tall pole over the street. the building is made up of gray and brown bricks. there is a large white cross on the building with red lights on it. there is a\n",
      "Correct Caption: This image shows a bird perched on a wood stand to the right of a corn cob. The corn cop has about 1/3 of its kernels still attached to it. The cob has been attached to the wood below it at a ninety degree angle, so it is standing straight up. The bird has black plumage on its head and shoulders, and dark blue feathers on its wings and tail. The bird's beak is slightly curved upwards and it has a small crest of feathers on its head. Its eyes are shiny and black, and its feet are thin and black.\n",
      "Predicted Caption: a black bird is perched on the top of a branch. the bird is a parrot , only <UNK> and being being held by a person. the bird is a <UNK> color and has black and tan stripes. the bird is standing on top of a\n",
      "Correct Caption: A pizza sits on a yellow plate. There are cut up tomatoes on top of the pizza. There is spinach on top of the pizza. \n",
      "Predicted Caption: a pizza pie sits on a table , ready to eat. the pie has been sliced and is on a serving circle.   there is a topping on a pan.   the topping is white and black.\n",
      "Correct Caption: Two people are walking down the street. They are huddled under a clear umbrella. There is a man wearing an orange vest and a woman carrying a black bag.\n",
      "Predicted Caption: a man is standing in the rain 's hands. he is wearing glasses that is red. he is wearing a hat , a black jacket , blue jeans , and a black belt. the man is holding a black bag on his lap. the other\n",
      "Correct Caption: A girl is pointing at a fuzzy teddy bear. She is crouched down and wearing a sweater. The bear is sitting on the ground and facing the girl. \n",
      "Predicted Caption: a black and white photo of a young man and woman by a tree , the man is looking down and giving the lady a <UNK>. he is wearing a light blue jacket , blue jeans , and a blue jacket. a woman with blond hair ,\n",
      "Correct Caption: A multi-colored train traveling down tracks. The train has a single headlight on it's engine. There is smoke billowing out of the train engine's smoke stack. The train track is on top of a hillside. There are plants to the left of the train,. There are large gray clouds above the train. The sky above the train is partially blue. \n",
      "Predicted Caption: a train is on the train tracks. there are clouds in the sky above the train. there is a <UNK> of smoke coming out from the train. there is a man standing on the tracks next to the train.\n",
      "Correct Caption: A man is shaving in the bathroom. He is looking into a very big mirror. He has on a white tank and the door is open.\n",
      "Predicted Caption: there is a man standing in front of a white counter. there is a white sink in front of the counter. there is a white sink in front of the counter.\n",
      "Correct Caption: The dog is a husky. His nose is black. His fur is combination of white, beige and gray. There is a stuffed elephant toy on his head. The elephant is gray with white tusks. The dog is looking sad and lying on the carpeted floor. Behind the dog are the feet of brown chairs and table, they are made of wood. The dog has whiskers.\n",
      "Predicted Caption: a dog is laying on the carpet. the dog is brown and white. the dog has floppy ears. the dog 's eyes are open. the dog is looking into the camera. the dog is wearing a collar. the dog is mostly white with\n",
      "Correct Caption: A man is walking with his surfboard and sun on the beach. They are walking towards the water. The man has a black and white shirt on and some blue shorts. His son has no shirt on and plaid shorts.\n",
      "Predicted Caption: a woman is standing on a beach with two little girls. the girls are wearing shirts and shorts. they are playing <UNK> a green kite that is flying in the air. surfboards can be seen sitting behind the girls on the beach. there is a\n",
      "Correct Caption: a sign is on a pole. the pole is silver. there is a light on the pole. the light is red in color. the cars are going down the road.\n",
      "Predicted Caption: the sky is partly cloudy. the clouds are big and fluffy. there are cars driving along the street. there are also shops and <UNK>. some of the trees are green and some are gray. there is a large building to the left of the\n",
      "Correct Caption: a blonde haired woman with a white top and shorts is waiting to hit the tennis ball that is in the air. there is a bald man with brown shorts with a stripe on the side holding a tennis racket waiting for the ball to come to him/. The court is made up of green and white with white lines. there is a long net separating the man from the other player.\n",
      "Predicted Caption: a woman is playing tennis on a tennis court. she is wearing a white tank top and a white skirt. the woman is holding a racket in her hand. the court is brown in color. there is a wall in the back of the court\n",
      "Correct Caption: There are women standing in a kitchen wearing white. There is a large sink behind them. There are ovens next to the women. One of the women is holding a basket. \n",
      "Predicted Caption: a <UNK> store employee <UNK> a <UNK> to a customer. the employee is a middle aged man wearing a green collared shirt. the customer is a middle aged man wearing a white collared shirt and blue jeans. the <UNK> store looks like a small shop with\n",
      "Correct Caption: A black and white photo of a foreign scene. The scene appears to be somewhere in Asia. There is a person wearing a big triangular hat in the foreground.\n",
      "\n",
      "Predicted Caption: there are several blue motorcycles parked in a row on the street. there are people all around the motorcycles standing on the street. there is a black fence behind the motorcycles.\n",
      "Correct Caption: The half eaten sandwich is on the plate. The sandwich has meat in between. The plate is white. Behind the plate is a bowl of salad. The bowl is blue. There are two glasses of water behind the bowl.\n",
      "Predicted Caption: a plate of food sits in front of a person at a bar. they have a crisp sandwich with grilled <UNK> , fresh chips , and a pickle. they have a beverage to their right , placed on a napkin. to the left of their food\n",
      "Correct Caption: A tennis match is about to begin on an outdoor court. It is a clear day with a blue sky and small fluffy clouds. In the background there are white outbuildings with gray, metal roofs surrounded by trees. Nearer to the court, on a grassy slope,there are several rows of spectators dressed casually and for mild weather. The spectators sit on the ground or in chairs. In the foreground is the tennis court. The playing surface is natural grass with white lines that shows wear in some areas where play is frequent. The court is surrounded on the spectator side by a low green carrier. To the left of the spectator side, the court is surrounded by a higher, dark barrier. People wait along this barrier to enter the court to retrieve balls. On the court two players are present along with one official or coach. One player is warming up by tossing the ball in the air to hit. The other is standing next to the official. A full court net separates them. Because of the time of day, and direction of the sun, people cast shadows across the court.\n",
      "Predicted Caption: a woman is jumping on a tennis court , swinging a racket towards a ball that is soaring in her direction. the woman is wearing a white tank top and black skirt. a woman is sitting on the side of the court behind a green tarp.\n",
      "Correct Caption: A red and yellow train moves along the track.  One side of the track is lined with trees.  There is a single light near the window on the front of the train.\n",
      "Predicted Caption: there is a train traveling on the tracks. the train is blue and white with a solid thin red stripe , running the length of each of it 's cars above the windows. there is a white door on the front of the train. the train\n",
      "Correct Caption: A paper plate is filled with a salad. The salad has large, soggy pieces of lettuce. They all have salad dressing on top of them. There is a toasted piece of bread in front of the lettuce. The paper plate is white.\n",
      "Predicted Caption: a plate is full of assorted food. most of it appears to be vegetables. the plate is white. the plate sits on the table. there are some brown olives on the plate. there is some broccoli on the plate. there is a potato\n",
      "Correct Caption: A brown and white spotted bird is standing on a fence. The fence under the bird is steel. There is a field of grass behind the bird. \n",
      "Predicted Caption: a seagull is sitting on a large flat area. the bird is looking to the left. the bird is brown and white. the bird has its eyes open.\n",
      "Correct Caption: a plane is flying in the air. the plane is all white in color. the plane is very pointy. the sky is very blue. the clouds are very fluffy.\n",
      "Predicted Caption: a jet plane is flying in the air. the plane is a military plane. a plane is <UNK> and black. a plane is flying high up in the clouds. the sky is mostly cloudy and overcast. the nose of the plane has a sharp\n",
      "Correct Caption: There are three old people in the picture. At the center is a classic and shiny tricycle. At the front of the tricycle is an old man holding a plaque.\n",
      "Predicted Caption: there is a bike parked outside of a store. the bike is a small motorcycle. the bike is red and black. there is a helmet on the handlebars of the bike. it is dark outside. the sky is clear and blue. the store\n",
      "Correct Caption: A man is wearing a gray shirt and jeans. He is jumping in the air on top of a black skateboard. There is a black skateboard ramp on the side of him. There are small clouds in the sky above him. \n",
      "Predicted Caption: a person is wearing a black and white jacket. they are holding a black snowboard and holding a black skateboard in one hand. there is snow in the ground next to them. there are tracks in the snow in front of the person.\n",
      "Correct Caption: there is a big gray building. the building has a clock on it. the clock is made of glass. the clock has big hands.\n",
      "Predicted Caption: a tall brick building stands tall. there is a clock on the side of the building. there is a black street light in front of the building. there is a clock on the building.\n",
      "Correct Caption: A piece of food sitting on a white towel. There is a bottle of alcohol behind the piece of food. There is a remote control near the bottle of alcohol. There is a cap for the bottle next to the towel with food.\n",
      "Predicted Caption: a slice of pizza sits on top of a white plate. the plate on the plate is a round pastry. the plate is sitting on top of a white table. there is a glass of water sitting behind the plate.\n",
      "Correct Caption: There is a bird in a tree and the bird has a fish in its mouth. The bird has a white breast and belly with brown wings and a yellow eye. The fish is silver with darker spots on its back. \n",
      "Predicted Caption: the owl is mostly white. the <UNK> feathers have specks of black and tan. the <UNK> beak is black and small. the owl feet have sharp claws on them. the owl is perched in a black structure. the <UNK> eyes are black. the\n",
      "Correct Caption: Colorful boats with teal canopies are lined up on a murky river on a gray, overcast day. The boats have oars in front sitting in the water. Behind the boats small buildings can be seen lining the river.\n",
      "Predicted Caption: there are many boats on a body of water. there is a large body of water under the water. there are many buildings off in the distance. there is a bridge in the distance.\n",
      "Correct Caption: There is a pool of water with a splash in it. There is a brown dog in the water. There are people standing next to the pool. There is trees behind the people. \n",
      "Predicted Caption: a large green pool is in a field. there are people sitting in the stands around the pool. there is a person sitting on the ground in front of them.\n",
      "Correct Caption: A bathroom with a white sink in it and a bar of soap on top of the sink. There is a bath with shelves on the side of the wall. There are bottles inside of the shelves. The shower curtain has orange circles on them. \n",
      "Predicted Caption: a bathroom with a white toilet in it. there is a roll of toilet paper on an orange wall. there is a white bath tub with a white towel on the side of it.\n",
      "Correct Caption: three men are talking. they all have bears on their face. there is a blue shirt on the man. the shirt has flowers on it.\n",
      "Predicted Caption: this is an image of a woman cooking. the woman is in the kitchen. the woman has dirty blonde colored hair. the woman 's hair is on the left side. the man is wearing a white shirt. the shirt has red <UNK>. the\n",
      "Correct Caption: A white dinner plate with spaghetti shaped noodles and three tiny meatballs sit on a table that has pink back chairs next to it. There are vegetables on the past in the dinner plate. Next to the pasta plate is a black bowl with chunks of sliced orange carrots. \n",
      "Against the wall of the room is a radiator painted white and above that a shelf and window. \n",
      "Predicted Caption: a plate of food sits on a table. the table is wooden and is composed of gray slats of wood. the plate is white with a brown trim. there is a white plate on the table. the table is made of wood. there are\n",
      "Correct Caption: A brown door on a house has some stickers on it. Next to the door on both sides is red toilets. There are plants growing out of the toilets. There are some dead leaves scattered around on the porch.\n",
      "Predicted Caption: a picture of a man holding a boy. the man is sitting on the bench wearing a shirt. there is a tree behind the man. there are large gray and black flowers on the bench. there is a plant behind the man.\n",
      "Correct Caption: A train is opening it's doors. The train is currently parked at a train station. The train is blue, the doors are red, and it has white stripes on it. There is a long yellow line near the train area.\n",
      "Predicted Caption: a train is on the tracks. the train is yellow and blue. there are wires above the train. there is a metal pole by the train. there is gravel in the sky.\n",
      "Correct Caption: There are people standing on the beach. There is water in front of them. There is kites in the sky above the water. There are clouds in the sky.\n",
      "Predicted Caption: many people are standing on a ski slope. they are wearing skis on their feet and ski poles in their hands. the sky is a bright blue with some white clouds. there are many poles set up in the snow.\n",
      "Correct Caption: A white toilet sits next to a white wall. There is a white sink on the wall. The tile on the floor is black and white. \n",
      "Predicted Caption: a bathroom with white tile on the wall. there is a white toilet on the ground. there is a white sink next to the toilet and a mirror hanging on the wall above the sink.\n",
      "Correct Caption: RED AND YELLOW TRAIN ON THE TRACKS WITH TWO LARGE WINDOWS IN THE FRONT.NUMBER ON THE FRONT IS IN BLACK NUMBERS. THERE IS ASLO A SQUARE BOX WITH THE INITALOS OF DB OUTLINED IN RED.THERE ARE MANY WIRES CONNECTING THE OTHER BRIDGES RUNNING ALONG THE TRACKS. A GRAY BRICK BUILDINGIS ON THE SIDE OF THE TRAIN WITH A WHITE ELECTICAL BOX ON THE GROUND.\n",
      "Predicted Caption: there are two trains on the tracks. they are silver , red and yellow. there are wires above the tracks. there is a large building behind the trains.\n",
      "Correct Caption: a man is standing on the sidewalk. he has a cut on his arm. his arm is bleeding. he is smiling at something off camera.\n",
      "Predicted Caption: a man in a blue shirt is sitting on a bench. the man is wearing blue sandals on his <UNK>. the man behind him is wearing a black shirt.\n",
      "Correct Caption: There are black cows walking along the street. There is a man riding a brown horse down the street next to them. There is a white car on the street in front of them.\n",
      "Predicted Caption: the image is of an old - green animal. the animal is a black and white mane with a black head. the mane of the horse is slightly open and has a black nose and the legs of the horse are carrying a metal face. the\n",
      "Correct Caption: A man stands in front of a group of white sinks which are mounted on a wall. The wall is maroon square tiles.  A mirror covers the wall.  The man is wearing black dress pants and a white shirt and he is adjusting his tie while looking into the mirror.  Next to the man is a partition all with a large yellow trash bin.  The floor is tan tile and the room is a bathroom with stalls on the far side.\n",
      "Predicted Caption: two people are standing in front of a couch. there is a man in a blue shirt and white shorts. the man is wearing a white shirt and has a brown beard and white shoes. there is a couch in front of him on the counter\n",
      "Correct Caption: A large orange truck is parked next to the brick building. The word Allied is on the back of the truck behind the cab.  There is snow on the hood of the truck.  The ground is covered with snow and footprints.   A red and white stop sign is next to the driveway.  The trees have no leaves but do not have snow on them and the sky is clear and blue.\n",
      "Predicted Caption: a green truck is driving on the street. there is headlights on the van. there is a yellow license plate on the back of the truck. there is a black fence behind the truck.\n",
      "Correct Caption: On the white table, there is a monitor with black frame. Beside the monitor is a laptop that has a stand underneath it. In front of the monitor is a silver keyboard with white keypads. In front of the monitor is a cellphone, mp3 player and a hard drive. Beside the keyboard is a mouse on a mouse pad. Behind the laptop is a lamp and behind the lamp is a white curtains.\n",
      "Predicted Caption: there is a wooden desk with a computer monitor on it. there is a brown laptop sitting next to it. there is a white keyboard in front of the computer. there is a white keyboard next to the keyboard.\n",
      "Correct Caption: There are three giraffes in a pen. The pen is surrounded by a rope fence. The giraffe in front is eating food out of a net hanging from the tree. \n",
      "Predicted Caption: a giraffe stands in a chain - link fenced enclosure. behind the enclosure , several tall , slender , white trees stand against a clear , blue sky.   <UNK> among the slender white trees are several shorter trees with green leaves , along with <UNK> bushes\n",
      "Correct Caption: Three people are all together drinking wine. One lady has the glass up to her lips and is preparing to drink. A lady is talking and looking at someone and a man is smiling and looking at the same person.\n",
      "Predicted Caption: a woman is standing in front of a table with glasses on it. the woman is wearing a black and white striped shirt. there is a man standing in front of the women. there is a red and white sign on the table.\n",
      "Correct Caption: a young black man is jumping off of a skateboard, he is wearing a white tank top and blue jeans with green shoes. there is another white guy holding a skateboard watching dressed in a black shirt and pants. with one other black kid watching the both of them.\n",
      "Predicted Caption: a man in black is a short brown t - shirt and blue jeans is seen on a skateboard on a crosswalk on a bright sunny day. the man is wearing a black and white jacket , black pants and a white t - shirt. a woman\n",
      "Correct Caption: There is a brick building with a white glass door. There are two white chairs on the porch of the house. There is a gray cat sitting on the porch. There is grass in front of the porch. \n",
      "Predicted Caption: this picture is taken outside on a sunny day. a group of people are standing on a sidewalk in front of a building. there is a large truck parked in a row on the road. the vehicles are parked in front of a building. some\n",
      "Correct Caption: This photo is taken outside on a sunny day. A red and black motorcycle is sitting on a brick paved sidewalk in front of a bench. There are numerous cars lined up on the street across from the motorcycle.A brown brick building is surrounded by large green trees in the background. Two people can be seen walking past some of the vehicles.\n",
      "Predicted Caption: this photo is taken outside on a sunny day. a man is sitting on top of a white cart. he is wearing a black short sleeve shirt and plaid bottoms. a large red bag is sitting across from the man. another man is walking beside\n",
      "Correct Caption: A person is surfing a large wave during the day. The spray from the wave is large and white, the wave is a light green. The person is wearing a pink and black long wetsuit. The hair on the person's head is very dark. Under the surfer is a white and blue surfboard. The sky above the surfer is blue. The bare hands of the surfer are a little tan and dark.\n",
      "Predicted Caption: there is a male surfing in the water. a large wave is about to <UNK> over him. the surfboard is white with a little black on it. the man has short hair. the sand is beige. there are two people swimming in the water\n",
      "Correct Caption: There is a person standing on top of a tennis court. The person is wearing a white shirt and blue shorts. The person is wearing a white hat and dark colored shoes. They are holding a blue tennis racket in their hand. There is a green fence behind them. There is a bush behind the fence. There are cars parked in a lot behind the bush.\n",
      "Predicted Caption: a man in a white shirt and shorts is standing on a tennis court. the man is swinging a tennis racket at a green tennis ball. there is a man standing behind him wearing a white shirt and white pants.\n",
      "Correct Caption: A stuffed bunny rabbit sits on a windowsill. The stuffed critter has a black button nose, two deep set eyes, and two multicolored buttons going down its torso. It is \"wearing\" a black and white plaid jumper. This same black and white plaid fabric is used to represent the underside of the bunny's floppy ears and the underside of its feet and paws. The windowsill is of a rustic marble look, and the window panes behind the bunny are rectangular and feature dirty glass and dirty white window frames. The black box surrounding the tableau says 'left behind\" along with some writing underneath that.\n",
      "Predicted Caption: a teddy bear is sitting in a trash can. the trash can is green. the bear is holding it in his left hand. the bear is black. the bear 's nose is black. the bear is alone.\n",
      "Correct Caption: There is a train on the train tracks. The train is blue with a yellow front and red doors on the side of it. There are black poles on the platform next to the train. There is a cement bridge over top of the train tracks. There is empty tracks on the other side of the platform. There is a white building in the distance.\n",
      "Predicted Caption: a train is driving on a set of train tracks. there are many green trees on the side of the tracks. the train is gray. there is a large windshield on the train. there is a gray and black train on the platform.\n",
      "Correct Caption: A man in a straw hat holding up his tiger neck tie. The man is wearing a black watch. There is a pink and brown stripe around the rim. There are people standing behind the man in the straw hat. There is a white umbrella above the man in the hat and tie. The man in the straw hat is wearing a white shirt. The man in the hat is wearing glasses.\n",
      "Predicted Caption: a man is standing in an office like area with a white umbrella in his hand. there is a bushy white and black dog located directly behind him. the man has dark blue jeans , a green and beige striped polo shirt , and brown shoes.\n",
      "Correct Caption: There are four birds on a small boat. These birds are gray with black beaks. The boat is white with blue in the inside. It is tied to a narrow dock. On the dock, there are three birds resting. They are few inches apart for each other. The water is gray and calm. On the other side of the dock is a bigger boat with paddle inside of it.\n",
      "Predicted Caption: there are two boats in the water. one boat is yellow. the water is calm. there is a bird in the middle. the water is calm. there is a dock along the beach. there are buildings to the left of the boats.\n",
      "Correct Caption: A man is suspended in the air with his skateboard doing tricks. He is bald, wearing a white shirt with red logo on it. He is also wearing jeans and black shoes. Underneath him is a big gray, cemented ramps. The skate park has few people skateboarding. Farther down the skate park are trees and beyond the trees is a mountain.\n",
      "Predicted Caption: the image is of a man on a skateboard going down a small hill on a skateboard.   the rider is wearing black pants and a black t - shirt.   his board is black.   the man is wearing a grey t - shirt and\n",
      "Correct Caption: A picture of a woman seducing a man. The woman is wearing a short skirt. The woman is wearing boos. The woman is wearing socks. The woman has white hair. The woman is wearing a blue sweater. The man is wearing a blue wig. The man is wearing a blue jacket. The man is holding a suite case. There are many other people standing around. There are escalators near the man.\n",
      "Predicted Caption: a bunch of people are walking in a town. they are all <UNK>. there are a lot of people on the sidewalk. the sky above the people is blue with big white puffy clouds.\n",
      "Correct Caption: A woman walking is holding a golf pole. She is wearing a white visor, gray windbreaker, pink pants, and white shoes. Behind him is a man carrying a big gray umbrella. He is wearing a white vest, blue windbreaker and white shorts. Beside him is a thin yellow pole with a small yellow flag. The woman is holding a white golf ball in her hand.\n",
      "Predicted Caption: a man in a red shirt and gray pants is holding a baseball bat. he is wearing a red helmet and a black and white uniform. there is a tall fence behind him.\n",
      "Correct Caption: A picture of a man with blue hair riding a skateboard. The skateboard has four yellow wheels. The man is wearing black shoes. The man is wearing a white shirt. The man is wearing black knee pads. The man is wearing gray shorts. There is a tree to the left of the man. There is a park with a gray sidewalk behind the man. There are many trees and bushes behind the man.\n",
      "Predicted Caption: the man is wearing a light blue helmet.   he is also wearing a gray and black plaid shirt.   he is wearing tan pants and black tennis shoes.   the man is riding a skateboard on a paved surface.   the man is riding\n",
      "Correct Caption: Four men are standing together on a tennis court. Three of the men are holding rackets in their hands. One of them is holding a green ball in his hand. Another man can be seen sitting in the background of the photo. A tall fence and a green bush can be seen behind the men with a net on it. One of the men is wearing eyeglasses on his face. Another man is wearing a necklace around his neck.\n",
      "Predicted Caption: a man wearing a blue shirt and blue shorts is standing on a tennis court. he is holding a blue and black tennis racket. there is a tennis ball in the air. there is a white and black net under the ball.\n",
      "Correct Caption: A motorcycle is parked at the curb. It has a sharp looking features. The motorcycle has two boxes attached to it. The first one placed behind the seat, it is medium and black. The second box is beside the wheel. It has silver color in front and the rest is black. The handles of the the motorcycle is black. It also have plastic shield in the front.\n",
      "Predicted Caption: there is a person riding on a white and black motorcycle. the person is wearing a white helmet. there are cars parked behind him. there is a black helmet on the back of the motorcycle.\n",
      "Correct Caption: An antique steam locomotive is traveling along a set of tracks.  The locomotive is black and green.  It has a red sign in front with the number \"823\" on it, in yellow.  Smoke is coming out of the smokestack.  A man is behind the locomotive in the background, taking photos of something behind the train.  He is dressed in a red shirt and blue jeans.  Three buildings with gabled roofs are in the background.  Two are brick.  A switch throw is in front of one of the buildings, a single story structure.  It is sunny.\n",
      "Predicted Caption: a train is on the train tracks. there are clouds in the sky above the train. there is a <UNK> of smoke coming out from the train. there is a man standing on the tracks next to the train.\n",
      "Correct Caption: Inside of a white ceramic toilet bowl with no lid are many clear ice cubes. The light is reflecting off the rim of the toilet seat. The hinge that connects the seat and the toilet is long silver and shiny. Under the toilet are off white ceramic tiles with black grouting between them. The drain of the toilet is covered in ice cubes. \n",
      "Predicted Caption: a toilet is in a bathroom. the toilet is white and there is a white shelf right above it. there is a white toilet next to the toilet and a mirror hanging on the wall above the toilet.\n",
      "Correct Caption: There is a woman wearing a white shirt. She has many gold necklaces around her neck. The woman has dark hair and there are many gold headbands and decorations in her hair. The woman is wearing large gold earrings. There is a water behind the woman with many small waves in it. there is a large white boat in the water. There is a black engine on the black of the boat.\n",
      "Predicted Caption: there is a woman wearing a black dress. there is a tattoo of scissor next to the woman. the person is wearing a black shirt. they are both wearing sunglasses.\n",
      "Correct Caption: A red fire hydrant with a white top and a black knit cap on top of it sits on a sidewalk at the side of a parking lot.  The hydrant is casting a shadow on the sidewalk where leaves are scattered around it. There is a manhole cover a bit down from the hydrant.  Behind the manhole cover is a small area with small green shrubs and mostly covered by leaves.  At the end of the sidewalk are rows of cars with a store in the far back. A couple of people are near their cars in the parking lot.  At the end of one row of cars is a wooden fence with a brick building behind it. \n",
      "Predicted Caption: a parking lot is empty of any cars. it has white lines drawn on it to <UNK> the parking <UNK>. there is a red fire hydrant in the middle of the parking lot that is surrounded by four yellow metal poles. there is a shadow on\n",
      "Correct Caption: There are four men sitting at a table eating and socializing. The man at the far left is wearing a brown long sleeve shirt. The man to his right has on a black and white jacket and a plaid shirt. He is also wearing eye glasses and has a beard on his face. The man next to the man wearing eye glasses is wearing a long sleeve black shirt and is facing the man wearing eye glasses. His face is not visible. The man to the far right is wearing a long sleeve gray shirt. His eyes are squinting in the direction of the other three men probably because of the brightness of the shining sun. It is a very sunny day. It appears the setting is an outdoor area of a restaurant.\n",
      "Predicted Caption: this photo is taken inside of an eating area of in a building. four men can be seen sitting at a table in a row eating from white plates. one of the men is wearing eyeglasses on his eyes. other people can be seen surrounding the\n",
      "Correct Caption: A large white bus is positioned near the stop sign on the corner.  No one is in it.  On the sidewalk near the bus are several colorful bicycles parked on the sidewalk.  A blue sign referring to bike rental is near the bikes closest to the street by the stop sign.  Several buildings are hovering in the background. \n",
      "Predicted Caption: a bus is on the road. the road is gray and has white lines on it. there are two people in front.\n",
      "Correct Caption: The image is black and white. There is a car with its hood open. On the front bumper, there is a sign that says \"is your camera loaded\". There is also a license plate that says A1400. At the top of the car, there is a sign that says D. Monosson & Son. On one side, there is a flash of a camera, and between the hood and the bumper, there appears to be a camera lens. This car is parked in front of a multilevel building.\n",
      "Predicted Caption: there is a red and black sign. there is a red light attached to a black pole next to it. there are black tires on the pole.\n",
      "Correct Caption: In the center of this room is a column going half way up and stopping and then begins again with an snit object encased in glass, finishing up almost to the ceiling. The object is fragile and is sitting upon a satin pillow with wire connectors coming out and down out the bottom. These are motion sensor wires, which will indicate if anyone tries to pick up the object. There is a commuter laptop open on one side, as if is keeping track of the monitoring of the security of this object.\n",
      "Predicted Caption: this is an image of a bedroom. the bedroom has a large brown and white <UNK>. the toilet seat is down. there is a white toilet next to the bed. the wall is made of wood. the light is bright. there is a\n",
      "Correct Caption: This is a picture of a catcher on a baseball field. The catcher is crouched down and holding the mitt in his left hand. His uniform is white and black and he is also wearing a helmet and knee pads. The field has green grass, brown dirt and white lines painted on it. The catcher is a man. He is wearing white shoes and has a bracelet on his right wrist. The helmet the man is wearing is black and his shoes are white. His last name is on the back of his uniform and so is his number.  \n",
      "Predicted Caption: a man is standing on a baseball field. he is wearing a red and white uniform , black helmet and a black belt. the man 's name is on his uniform. the man is holding a brown bat in his hands. he is wearing a\n",
      "Correct Caption: There is a white sink sitting in front of a blue wall. There is a roll of toilet paper sitting on the top of the sink. There is a white bar on the wall next to the sink. There is a white shelf on the wall above the sink. there is a hole in the top of the sink where the faucet should go.  There is a pipe coming out of the wall above the sink.\n",
      "Predicted Caption: a white toilet is on the wall. there is a shower next to the toilet. there is a stack of white towels on a counter in front of the white toilet. there is a white towel draped over the side of the shower.\n",
      "Correct Caption: The bike is leaning on the white wall. The body of the bike is blue with red and linings and white text. The bike is surrounded by shoes and slippers. The seat of the bike is black, and so are the handles and break. There are reflectors on the bike's spokes. The wheels of the bike is black. On the wall there is an umbrella with black handle.\n",
      "Predicted Caption: there is a bike leaning up against a bench. the bench is made of wood. the seat of the motorcycle is brown. the handle of the motorcycle is black. the motorcycle on the motorcycle is white. the grass is mostly yellow and brown.\n",
      "Correct Caption: The image is of a light blue strainer on a wooden table that is holding two bananas and three peaches. There is a white curtain to the right of the strainer and a yellow squared tiled wall directly behind the wooden table. The handle on the strainer is silver appearing chrome and there are holes in the shape of circles near the bottom of the strainer. The strainer is resting on a cylinder shaped bottom, allowing it to stand on the wooden table. There is one silver screw on to the left of the bananas and one silver screw directly in front of the silver handle on the strainer.\n",
      "Predicted Caption: an orange platter is sitting on a white table. there are fruits on top of the platter. there are bananas , strawberries and apples.\n",
      "Correct Caption: A cat is sitting on a wooden stool near the window, its tail hanging down behind it. A dog is lying on the ground next to the cat, in front of the window. There are black bars on the window. Outside is bright, with green grass and trees visible. There are brown bamboo shades on the other half of the window.\n",
      "Predicted Caption: a cat is sitting on a blue bench. the cat is sitting on top of it 's head. the cat is gray and black. the cat is gray and black. there is another cat sitting on the bench. the cat is brown and white\n",
      "Correct Caption: There are two people in the photo. One person is wearing a red and black jacket. There is snow on the ground. The person wearing the red jacket is also wearing black gloves. She is throwing a white frisbee to a person wearing a black hoodie. The person in the black hoodie has his hands in his pockets. There is a small house in the background. \n",
      "Predicted Caption: a man and woman are standing on skis outside on snow filled ground. the man is wearing a blue and white jacket , black pants , gloves and a hat. the woman is wearing a red , pink , pink and yellow shirt. there are trees\n",
      "Correct Caption: There is a large grey elephant standing in a field. There is dirt and grass in the field. There is a large log on the ground next to the elephant. There is a large tree in front of the elephant. There are tall trees behind the elephant. There is tall grass and weeds in front of the elephant. There are white clouds in the sky.\n",
      "Predicted Caption: there are two elephants standing in a field. there is a large log on the ground in front of the elephants. there are sticks on the ground in front of them. there is grass on the ground in front of them. there is a large\n",
      "Correct Caption: Many people are flying kites in a large open field. Huge billowy white clouds float above the kite flyers in a blue sky. Many of the kites are yellow and orange and have flags hanging from the strings. Beyond the dark green grass field is a city skyline. The sky line has many tall skyscrapers mostly all grey and white colors. There is also a large square like sculpture in front of all the kite flyers. \n",
      "Predicted Caption: a large body of water with white sand surrounding it. there are people standing in the water. there are several kites in the sky above the boats. the sky above the sailboat is hazy blue. there are large leafy trees in the distance.\n",
      "Correct Caption: The sky is cloudy in the background of a snow speckled mountain top. There are snow dunes and there is a bright yellow sign on a metal pole stuck in one of the dunes. There are two people standing at the bottom of the snow dunes. There is also a ski lift in the background with a light blue sign in front.\n",
      "Predicted Caption: a person is skiing. down a mountain full of snow. there are mountains in the background covered with patches of snow. the sky is clear and white above the skier and the sun is shining brightly.\n",
      "Correct Caption: A Man is standing in ice and snow while holding skiis. The sun is shining behind the man. There is a red pole to the right in the picture and a man in front of the first man. The man is kneeling and crouching. They are both atop of a mountain. The mountain is covered in snow. The clothing they are wearing is white and grey.\n",
      "Predicted Caption: a person in a green coat and black pants is skiing in the white snow. the person has white goggles. the person is holding a ski pole in each hand , and has skis on her feet. there is a lone pole sticking out of the\n",
      "Correct Caption: The crowd is covering the whole street. The crowds have colorful umbrellas. At the center of the crowd is a bus parked with a sign \"DANCE\" on it. There are white placards with number on them. The scene is taken at night. There are buildings surrounding the crowd. There are some people standing and watching from a building porch.\n",
      "Predicted Caption: a large city bus is sitting behind a red car on a road near other vehicles. a tall leafless tree is standing near sidewalks near the bus. the bus is white in color. people are sitting on the road. two other vehicles are parked on\n",
      "Correct Caption: There are three woman in the living room of a home. In the living room there are hardwood floors. Two woman are standing up in front of the television. They have game controllers in their hands. They are playing a game together while the third woman sits down on the couch and watches them. They are all smiling and look like they are having a great time with one another. \n",
      "Predicted Caption: a woman in a yellow and black striped sweater is standing in front of a table. there is a white table cloth on top of the table. there is a black table in front of the woman on the table.\n",
      "Correct Caption: A person is standing on top of a hill. There is a lot of snow on the hill and on the trees in front of the person. There is a ski lift in the air next to the man. There are wires hanging from the ski lift. The person is wearing a red jacket and black ski pants. They are holding black ski poles and standing on top of black skis.\n",
      "Predicted Caption: a man in a green coat and black pants is skiing in the white snow. the man on the board is wearing a blue hat and a black beanie. there is a fence behind the man and tall trees to the left of the sheep.\n",
      "Correct Caption: A model train car is driving around on model train car tracks. The plastic train car has a red roof with blue sides. The front has red and white stripes with two small windows. The black tracks curve around where two train cars in the center. One car is yellow and green and the other car is black. Off in the distance are four lit lights on a model pole.\n",
      "Predicted Caption: there is a silver <UNK> like an image of a person. the person is sitting on a white and gray bench. there are several people standing in front of the box and watching the person. there are people sitting in chairs behind the person.\n",
      "Correct Caption: There are two black and white striped zebras standing on the dirt ground. The zebra in the back has its head down. Both zebras are looking down. There are a few scattered rocks in the dirt. There are a lot of trees in the background behind the zebras. There appear to be tracks in the dirt that may have came from a vehicle.\n",
      "Predicted Caption: there is a zebra eating some grass. the zebra has stripes. the stripes are black and white. the zebra has a shadow.\n",
      "Correct Caption: This image is of a city bus. The front of the bus has a large windshield window. There is a marquee display above the window that reads 44 BEALINE. There is a blue and white license plate below the grill of the bus. The license plate reads CR-526-AX. Both front headlights are turned on. The driver is visible through the front windshield window. She has short hair and is wearing a black jacket. The passenger directly in front of her is a man that is wearing a black jacket with white sleeves and he has short hair. The door is open on the bus and there is an older man waiting on the bottom step to get on the bus. He is wearing a black jacket and jeans. He is also carrying a black and white Adidas messenger bag.\n",
      "Predicted Caption: a bus is parked outside near a tent. the bus is white , black and has a purple <UNK> on the window. the sky is very cloudy. there are some trees as well behind the bus.\n",
      "Correct Caption: There is a large blue clock on the side of a building. The clock has black handles. The numbers on the clock are black. The background of the clock is white. The building the clock is attached to is very tall. The building the clock is attached to has many windows. There is a tall black metal pole near the clock.\n",
      "Predicted Caption: a clock tower sits in a <UNK> surrounded by trees in a public area. the tower is made of dark gray brick and has several round dark railing , with small round rectangle , and <UNK> growing on the tower. it looks like a castle or old\n",
      "Correct Caption: A zebra stands next to a narrow tree. The tree has some wire around it. The shadow of the zebra is on the ground. There is another zebra next to the wall. There is a fence in a background. There are some rocks on the ground. There is a black stripe on the zebras back. The zebra is looking off to the side. There are shadows on the ground. \n",
      "Predicted Caption: there is a zebra eating some grass. the zebra has stripes. the stripes are black and white. the zebra has a shadow.\n",
      "Correct Caption: The people are standing up on the bus. Some of the seats are occupied on the bus. There's a boy on the front of the bus and a yellow shirt sitting down. There's a woman in a green shirt looking out of the window on the bus. There's a man taking a picture of the top of the bus. The camera he is holding is black. He is wearing a watch on his right wrist.\n",
      "Predicted Caption: a whole line of people are standing around a luggage belt waiting for their luggage. the belt is silver and on top is a large white blue and red sign. there are many bags on the belt. there are many bags behind the belt.\n",
      "Correct Caption: There is a person snow boarding down a hill. There are tracks in the snow all around the snowboarder. There is a large rock in the snow next to them. There is a green pine tree in front of the snowboarder. The snowboarder is wearing blue ski pants and a blue and yellow jacket. They have a yellow snowboard on their feet.\n",
      "Predicted Caption: a man is skiing down a hill. his ski rod is in the air and there are a bunch of mountains in the distance. the sky is very clear and the clouds are extremely low.\n",
      "Correct Caption: People surrounding a adult giraffe that is contained behind a fence.  A gentleman with dark hair and eyeglasses is stroking the cheek of the giraffe.  On the opposite side of him, a woman with dark hair and sunglasses is holding out her hand to feed the giraffe.  Behind that lady, is a man in a short sleeved black shirt with a video camera recording the giraffe.\n",
      "Predicted Caption: a woman <UNK> as a young woman <UNK> through a wedding ring. the woman is wearing glasses and a bright red <UNK> coat. her hair is blonde and <UNK> back. the statue is being <UNK> and it is a dark brown color. there is a\n",
      "Correct Caption: There is a white sink hanging from the wall. There is a mirror hanging above the sink. There is a black and white cat sitting on the edge of the sink. There is a red and white toilet next to the sink. There is a roll of toilet paper hanging from a roll next to the sink. There is a red bottle on the back of the toilet.\n",
      "Predicted Caption: a small brownish - shaped black and white stripes is in a green and white sink. the <UNK> of the toilet is down and the tub is on the wall. there is a small wooden shelf on the wall above the toilet.\n",
      "Correct Caption: This photo is taken outside on a cloudy day. Part of a blue sky can be seen in between the white clouds. An old dark truck is sitting parked in a parking lot. The truck has a trailer attached to the top of it. Part of a white building can be seen behind the truck. Another old car can be seen parked in the parking lot. Green trees can be seen in front of a mountain in the background. \n",
      "Predicted Caption: a large black and white truck is parked on the street. there is a large building behind the truck. there is a black lamp behind the truck.\n",
      "Correct Caption: A clock is attached to the stone exterior of a building.  The clock has diamond shaped metal objects as numbers and silver metal hands.  The clock has a black face with gold borders.  A square shaped border is bordering the gold border of the clock.  The square shaped border has red and green stripes on it.  The stone portion of the building has a ridged design on it.  The sky is stark white.\n",
      "Predicted Caption: a clock is being displayed on a building. under the clock is a sign that says <UNK> square. the clock is in roman numerals and the surrounding of it is wooden.\n",
      "Correct Caption: There is a white plate sitting on a table. There is food on top of the table. There are small pizza slices sitting on top of the plate. There are black olives slices on top of the pizza. The crust of the pizza is dark brown. There is cheese and lettuce on top of the pizza. There are sliced up onions on the top of the pizza.\n",
      "Predicted Caption: a pizza is sitting on a white plate , with one slice cut and <UNK> over to show the bottom of the pie. it is burned in a silver wrapping. there is a white napkin on the top of the <UNK> , and a glass of water\n",
      "Correct Caption: A supermarket produce stand.  Closest to the camera is a bin of ripe oranges.  Most of the oranges have an oval, dark sticker on them.  Next to the apples are red apples with a tint of green.  The apples seem to take up two bins, then past the second bin of apples is another bin of oranges.  The setting of the store is dark and lights can be seen glowing to the left of the produce stand.\n",
      "Predicted Caption: a bunch of apples are sitting in a pile. the apples are half yellow half red. the stems are very long. there are a lot of apples with spots on them. some of the apples are upside down. the apples are very dirty.\n",
      "Correct Caption: A couple is posing at a formal black tie event. They are both enjoying themselves and smiling. The man is wearing a black tuxedo with a bow tie. He has short combed back brown hair and is wearing square black frame eyeglasses. The woman has on a black silk top with silver and crystal embellishments, she is also wearing a necklace and earrings that are also silver. Her hair is chin length and brown, she is wearing minimal make-up. The wall in the background is painted tan and has a framed painting hung on it.\n",
      "Predicted Caption: two men are drinking wine at an event.   both men are of asian <UNK> and are holding wine glasses with red wine.   the man on the left is wearing a black jacket and plaid blue shirt.   the other man next to him is\n",
      "Correct Caption: There are two grown men standing in the dirt on a baseball field.  Its a clear day.  There are a few trees in the back ground on the other side of the fence.  The fence is decorated with billboards and have a tall yellow pole standing next to it.  The grass is cut short and is very green.  The men are both wearing uniforms, cleats and a baseball cap.  \n",
      "Predicted Caption: a baseball player is standing on a baseball field. he is wearing a gray uniform with red writing. his cap is black with a logo on it. the player has a black glove on his left hand. the player wearing a blue shirt and white\n",
      "Correct Caption: A male tennis player is wiping his forehead with his wrist. He seems tired and is holding onto his tennis racket loosely. His shirt is blue and yellow, his hair short and brown. He has a white bracelet on. Near him are white and green advertisement banners that line a wall of a tennis court. Behind the banners are two fully visible red seats made of metal and cloth. Behind those are a white wall and behind the white wall are the basic seats of a sports stadium. Next to the seats is a long hallway leading down from the sports arena.\n",
      "Predicted Caption: a man is wearing a black shirt and blue shorts. he is standing on a tennis court. he is holding a blue tennis racket. the man is wearing a white headband on his head.\n",
      "Correct Caption: A group of sheep are standing outside. Two faces are showing. The upper part of the face is black and the mouth and snout is white. The horns are gray and curled towards the face. The wool is very thick and white. All the sheep are standing on hay that seems to be in damp dirt. Behind the sheep is very short green and yellowish grass. In the background are dark figures of trees and buildings. \n",
      "Predicted Caption: three white sheep are grazing in a green meadow. behind them is a hill of green grass with a <UNK> fence along the left side. in the back of the meadow is another white sheep also grazing. a tree bare of leaves sits between the sheep\n",
      "Correct Caption: A man is sitting in a restaurant with others while eating pizza. The walls are painted a bright shade of green and a blue picture hangs behind the man. The man is in his late 40's or early 50's. He has silver hair with black eyebrows. He is wearing a short sleeved button up plaid shirt in white, blue and black plaid. On the table in front of him there is a pizza with one slice missing, on the pizza there is prosciutto and basil. An empty glass with a slice of lemon on its edge also sits on the table.\n",
      "Predicted Caption: a man is sitting at a table. he is wearing a striped shirt. there is a large pizza on the table. the table is covered with a red table cloth.\n",
      "Correct Caption: A large red truck is parked in the middle of the road. The truck appears to be a fire truck, and has a blue light on the top. There is a large brown and yellow brick building on the other side of the road. On the near side, there is a small fence, and small plants growing out of the dirt. Past this, there is a concrete wall and a concrete surface covering the ground.\n",
      "Predicted Caption: a <UNK> of train is seen on the tracks.   the train is red , blue , white , and white   and has a solid yellow line next to it.   to the left of the train is a tall red brick building with a black\n",
      "Correct Caption: A sunset is shown in the background. There are a bunch of cars heading towards the direction of the camera but they are at a traffic light because it is red. There is one car going through the light. It's starting to get dark outside and the streetlights are getting ready to come on. The sky looks beautiful.\n",
      "Predicted Caption: this is an image of a street. the street has large trees in it. the road has many green trees. the road is very low. there is a white sign on the pole. the sign is black. there is a street light on\n",
      "Correct Caption: There are people walking down a road while holding their bikes.  There are cars parked along the left side of the road.  The trash bins are on the sidewalk on the right side of road.  A blue and green bin is visible.  There is a 20 mph sign on the sidewalk.  A red light is on the traffic signals.   Green trees surround the road.  There is a house peeking out from behind the trees on the left side.\n",
      "Predicted Caption: this image was taken outside on a road. there are two yellow and white signs on the top of the road. one of the homes is red , one is green and yellow. there are two yellow parallel lines painted on the road. the sky\n",
      "Correct Caption: Two sheep are in a green field.  One of the sheep is standing up and looking to the left.  The other sheep is sitting down in the grass and is also looking to the left.  The field is covered in grass with some brown leaves on it.  Behind the sitting sheep is a metal manhole with a paved cement border.  Both sheep have tan fur and white faces.\n",
      "Predicted Caption: a <UNK> sheep with shaggy , dirty fur is standing in a bright green field. there are two baby lamb near her hind legs. one is partially hidden , the other is behind her , looking toward the camera. there is a mesh wire fence <UNK>\n",
      "Correct Caption: Two giraffes are bending their necks to look at something in the bright green grass below. One giraffe is standing behind the other giraffe. Each has large brown spots and black hairy tails. Around them they are in a forest filled with large and small trees. The bottoms of the giraffes are off white colored. \n",
      "Predicted Caption: a giraffe is looking at the camera. the giraffe is very tall. the spots are very wide. the sun is shining on the giraffe.\n",
      "Correct Caption: The image is a black train with smoke coming out of the smoke spout at the top of the front of the train. There is a blue sign on the front of the train and a black number sign below the blue sign with the numbers 60009 on it. The conductor can be seen on the left side window of the train. He is wearing a blue shirt and there are two more train cars behind where he is located. The train car behind the conductor is green and the last visible car is maroon in color. The train is on the tracks and the gravel on the tracks is light brown. There are trees on the right side of the train and atop a grassy hill.\n",
      "Predicted Caption: a train is on the tracks. the train is blue in color. there is a british flag on the side of the train. there is gravel next to the tracks.\n",
      "Correct Caption: The image is of a telephone poll between two streets. The pole has a green and sign on it with white lettering that says \"E Main st 1700\" There is also a no parking sign attached to the pole. There are vertically striped awnings on both sides of the street. One awning covers produce stands, on the opposite side the awning is attached to a multilevel brick building. Behind the produce stand is a brown multilevel building with a brown stone facade and red roof tiles. The road is paved with cobblestones. There are several vehicles parked on the street.\n",
      "Predicted Caption: there is a sign on the pole that is written in another language. the letters on the pole are symbols. there are many light poles on the pole. there are lights in front of the pole.\n",
      "Correct Caption: There are people sunbathing outside on the pier. Some of the people have umbrellas over their chairs. Some people are in the Water swimming with their pets. There are a lot of people on the pier enjoying the Sun. It is a hot sunny day out. There is a flag on a flagpole on the pier to the right. The pier to the left has more people on it.\n",
      "Predicted Caption: there are three boats in the water. the first boat is yellow and the front of the boat is black. there are many ropes in the water. there is a dock near the camera that is near the beach. the water in front is very\n",
      "Correct Caption: The small bathroom has an angled ceiling. There is a window in the angled ceiling. There is light coming into the room. There is a white sink below the window. The sink is round. The is a toilet next to the sink. There is a tub next to the toilet. There are some glass panels on the wall above the tub. There is a white shower curtain. There is a blue carpet on the groun. There are bottles on the corner of the tub. \n",
      "Predicted Caption: the image is of a bathroom. the toilet lid and seat are open. on top of the toilet 's tank there is an <UNK> roll of toilet paper. above the toilet there is a rack hanging from the wall with towels on it. on the\n",
      "Correct Caption: A black and brown bag is sitting on top of some carpet. The carpet is brown and there is a brown wall next to it. There is a cat inside of the bag looking out the top of the bag. There is an orange cat sitting in front of the bag looking down into the bag. The cat inside of the bag has its eye looking out of the bag.\n",
      "Predicted Caption: this is an image of a pet. the pet is a cat. the cat is striped. the cat is gray and black. the cat has white fur on it 's chin. the cat has white fur on it 's chin. the cat is\n",
      "Correct Caption: A male is surfing in the blue ocean.  There is a wave behind him with white foam surfacing on the water.  The male surfer is laying on the surfboard in preparation to ride a big wave.  He is wearing a black wet suit that covers his entire body.  The surfer has dark brown hair and the board is red.  \n",
      "Predicted Caption: a man is surfing. the surfboard has a picture underneath it. the water is white and blue. the man is wearing no shirt. the man is also wearing a shirt. the man is wearing a wetsuit. the wetsuit is black. the wetsuit\n",
      "Correct Caption: A smile is represented on a blue plate utilizing food.  Two eyes are displayed using oranges.  A chili pepper represents a nose and a banana represents a smile.  The circular blue dish is sitting on top of a wooden plank table.  There is a light casted on the left of the plate.  The blue ceramic plate has swirls of white around it.\n",
      "Predicted Caption: this is a picture of some silverware. the food is in a little different. the <UNK> are different colors. the <UNK> are yellow. there are green apples and yellow peppers. there are green and yellow peppers. there is a banana with holes in\n",
      "Correct Caption: A lone soda can sits on a desk. Inside the grey and silver can with tiny writing are small bright red and pink flowers. The can is being used as a vase. Behind the can is a blue white and yellow calculator, a pink notepad and a black plastic corded phone. The point of a white elbow can be seen. The desk is very large.\n",
      "Predicted Caption: there is a paper <UNK> to the wall. the table is wood and has a white tray on it. there are two <UNK> on the table. there is a plastic bag on top of the cups. there is a yellow <UNK> on the table next\n",
      "Correct Caption: The plane is parked on the runway. The tail of the plane has a circle on it. The top of the plane is white. Underneath the plane is a grey color. The sun is shining outside. There are other planes parked out. All the planes are getting ready from passengers and for take off. There are baggage carts around the bottom of the Planes.\n",
      "Predicted Caption: a plane is sitting on the runway. the plane is white in color. the plane has writing on it. the writing is red in color.\n",
      "Correct Caption: A small bedroom is in view. The ceiling is high and angled into three white sections. The window is covered with a white set of curtains covered in little yellow flowers. The walls of the bedroom are painted yellow. There is a lamp and a black alarm clock on the bedside table beside a photo in a frame. The bedframe is brown wood, and the covers are white and yellow. There is a striped pillow on the bed, and a small picture above the headboard. There is a large dresser of brown wood to the right, with multiple small ceramic decorative objects adorning the surface. There is another small framed picture on the wall above the dresser. \n",
      "Predicted Caption: this is an image of a bedroom. the bedroom is very <UNK>. the bed is made. the wall is very plain. the wall is very plain. there is a small light on the ceiling. there is a picture on the wall above the\n",
      "Correct Caption: This is a black and white photo of elephants standing in a row. There are ten elephants shown in the picture. There are men standing in front of the elephants. The men are wearing denim, hoodies, and hats on their heads. They are holding hoses and they are spraying the elephants down. There are people in the background behind the elephants, too.\n",
      "Predicted Caption: there are two elephants standing beside each other. a fence is surrounding the elephants on all sides. the building behind the elephants is painted blue. one of the elephants is shorter than the other.\n",
      "Correct Caption: Two shoe less young boys are standing on a sandy beach. One of them are wearing turquoise shorts and the other is wearing black shorts. They both have short dark hair. The boy wearing the turquoise shorts is resting his foot on a dirty, white soccer ball while resting his arm on the shoulder of the boy wearing the black shorts. A shadow of the ball is shown in the sand, a small wave is rushing up the shore and there is a small, white boat traveling in water just behind the two young boys.\n",
      "Predicted Caption: a woman is standing on a beach. she is wearing a black bikini. she is holding white sticks. the arms are <UNK> in her hands. she is holding her arms out to her right hand. she is wearing a black wet suit. she\n",
      "Correct Caption: Two vintage trains cars are on display behind ropes.  The train cars have information signs on poles in front of them.  The car on the left is red and has DD1631 on the front.  The right car has a back door and blue chairs can be seen inside on it.  There are lights on inside left car.  The trains are indoors and there is a low ceiling above it.\n",
      "Predicted Caption: there is a train parked on the tracks. the train is green and yellow. there is a red and yellow line on the side of the train. there is a metal pole next to the train. there is a blue wall behind the train.\n",
      "Correct Caption: A bride is wearing her white gown and veil while holding a knife in her hand.  She has red hair and a bruise under her right eye.  A wedding cake is on a table  with white frosting and clusters of dark fruit o top.  The scene takes place outdoors at night. Several cars are either parked or driving down the street.\n",
      "Predicted Caption: a woman is standing in front of a cake with bananas on top of it. the bananas are in a little <UNK>. the woman is wearing a white <UNK> dress coat. she is also wearing a black dress. she is smiling and looking at the\n",
      "Correct Caption: A white topped surface is topped with several dozen long sheaves of wheat in the upper left hand corner of the image. In front of the wheat stands a small sign that says, \"Please Do Not Touch\"  A larger sign in front of the wheat says \"Wheat Weaving.\" Next to this sign is a spool of silver thread. In front of the spool of thread lies a pair of green handled scissors. Next to the scissors and in the foreground lie a couple of woven articles which look to be the same size as a bracelet. The wheat has been already fully woven in these.\n",
      "Predicted Caption: there are several stuffed birds on a shelf. there is a light brown donut in front of the white table. there are books sitting on a table. there is a large brown table behind the table.\n",
      "Correct Caption: A large black bear is sitting on the side of the road. The bear is sitting on its bottom, with its front paws in front of it. The area where the bear is sitting is full of rocks and dirt, with some green grass and weeds. The roadway in front of the bear is graveled. There are trees surrounding both sides of the road. \n",
      "Predicted Caption: there is a black bear climbing up a hill. the bear has a brown nose and fuzzy ears. there are branches above the bear with green leaves on it. there is a wood fence behind the bear.\n",
      "Correct Caption: A woman is skating around a concrete skate park. It looks like an old swimming pool and her shadow is cast below her by the sun. Both of her feet are on the black skateboard. She is wearing a sleeveless short red dress and black sneakers. Her arms and legs are bare, only the back of her head can be seen. Her hair is bleached blond and she has dark roots showing. \n",
      "Predicted Caption: a woman is standing on a tennis court playing tennis. she is wearing a white headband , white tank top , black skirt and a black <UNK>. a white and blue <UNK> is standing in front of her. a green tennis ball is soaring towards the\n",
      "Correct Caption: A white truck is on a dirt road. There are a lot of people in the back and a man is sitting in the passenger side. Another white truck is parked beside that truck. It is going in the opposite direction. A man's arm is stretched out of the passenger window. There are bushes and small trees in the background. There appear to be power lines in the air above the trucks.\n",
      "Predicted Caption: a man wearing a yellow sweater is sitting in front of a tan car. there is a white and red bus on the street. there is a white building behind the bus.\n",
      "Correct Caption: There are a group of zebras all standing outside together. There appears to be four of them and they are all pretty much looking in separate directions. One of the zebras is looking directly at the camera. They are all huddled pretty closely together. They are standing in a field of grass that has some small bushes and very small trees present as well.\n",
      "Predicted Caption: two zebras are standing next to each other. the zebra 's heads are touching each other. the zebras are both black and white. the zebra on the left has a black and white tail. the zebra on the left has his head slightly open.\n",
      "Correct Caption: There is a reflection of a building in the window. The window is dark and has various panes and metal bars. The reflection is of a clock tower. The clock tower has a gold clock with roman numerals. The reflection in the glass made to reflection of the clock face. The tower is made of dark tan brick and has a fence like design at the top. \n",
      "Predicted Caption: a tall brick building has two large clocks on the side of it.   the bricks of the building are white , grey and <UNK>.   the front two of the clocks are yellow with black numbers on it.   the sky is blue and partly\n",
      "Correct Caption: The man is snowboarding during the winter time. From the edge of a large cliff that leads to a range of mountains, he is trying to slide across the snow. His outfit consists of a bright green pants, that are long-sleeved, followed by a jacket with scribble patterns. His head is protected by a beanie.\n",
      "\n",
      "Predicted Caption: a person is standing on a red and yellow snow board. there is piles of snow under the person. they are wearing a black jacket and a white helmet. there are tracks in the snow under them.\n",
      "Correct Caption: A woman is up in the air with her ski boards. The woman's ski boards are yellow. She is also wearing green cargo pants, black hoodie jacket, brown helmet and goggles. Her ski poles are black and white. The sky is blue with white sheets of clouds. The pants have pockets on the side. The goggles are too big on the face.\n",
      "Predicted Caption: a person in a white and black wet suit is standing on top of a ski slope. the person is holding two ski poles in their hands. there are ski poles covered in trees and ski poles in the background behind the trees. there is a\n",
      "Correct Caption: Three men are airborne on top of white ski boards. They are jumping in different directions, one ski angled to the left, the other two towards the front. They are wearing thick winter protective clothing and helmets to protect themselves in case of a fall. The sun is glowing against the pile of white snow they are above. There is an expanse of white glowing snow in front of the pile with people wearing dark winter clothing walking and skiing. A large hill in the background displays patches of dark, snow covered trees running down the slope. The sky is heavy and grey with clouds. \n",
      "\n",
      "Predicted Caption: a person is going down a hill on skis. the hill is covered with snow. the snow is very white in color. the snow has a black line on the back of it.\n",
      "Correct Caption: There's a man standing on a snowboard outside. The snow has lines in it. The sign says Superstar on it. The majority of the sign is black and the letters are white. The symbols on the sign are black. There is an arrow pointing to the left. The snowboard is blue and orange. The tree to the right of the man is filled with snow.\n",
      "Predicted Caption: a person wearing a white jacket and black ski pants and is jumping on the snow. they have yellow skis on their feet. they are holding black ski poles.\n",
      "Correct Caption: A white game controller is sitting on top of a small table in a room. It is connected to a game system. Behind the table is a newspaper that is sitting beside a small decorative lamp. A wall is behind the lamp and paper. Near the lamp is a wooden cabinet with drawers and a door. The handles to the door and drawers are black.\n",
      "Predicted Caption: a white laptop is on the wall. there is a black cord plugged into the computer. there is a silver laptop sitting on the desk in front of the chair. there is a white door on the desk.\n",
      "Correct Caption: A chair is sitting in front of a long white table. The table has two laptops, papers, and numerous cords on top of it. A microphone is hanging on a microphone stand beside the table. A long black cord is running along the wooden floor into a white outlet that is on the wall. Part of a large picture frame can be seen hanging on the white wall.\n",
      "Predicted Caption: a white desk is against a white wall. on the desk is a white mouse with a white towel hanging from it. there is a white keyboard with a red label on it. there is a black keyboard resting on the desk in front of the\n",
      "Correct Caption: This is a black and white photo. A man is riding on a black bull with long horns. The bull is pulling a small wooden cart with bags on it. The man is dressed in a white tee shirt and shorts with no shoes. The road is dirt and grass and there is a tree behind the bull. There appear to be small mountains or hills in the distance.\n",
      "Predicted Caption: there is a man wearing a black jacket and is holding a brown frisbee in his hand. he is wearing a black <UNK> suit. he is laying down on the ground in front of him. he is standing next to a large rock wall.\n",
      "Correct Caption: Two dog figurines are standing by a large blue barrel and in front of a light green color wall. Next to the wall are wooden racks stacked one on top of another. Next to those are several red fire extinguishers. There are more blue barrels laying on top of the wooden racks as well as standing up across from the racks.\n",
      "Predicted Caption: a picture of a parked truck in a garage. the old bed has a yellow base. there is a <UNK> on the tire. there is a door on the front of the truck. there are windows on the side of the building. there is\n",
      "Correct Caption: Two women and a man are sitting in a living room of a home. The women are sitting in chairs and the man is sitting on a sofa. There are picture frames on the white walls in the room. Two windows are above the man, one of them is halfway covered up. There is a small black t.v. sitting on a large brown entertainment center.\n",
      "Predicted Caption: a living room is visible from <UNK> living. two <UNK> are hanging over a wooden desk. one chair is a dark brown and white dog. it is a dark hardwood couch. the sofa is a light brown color. there is a fireplace in the\n",
      "Correct Caption: A picture of a bathroom with a bath tub and toilet. There is a white sink  under a large mirror in the bathroom. There are lights mounted in teh ceiling. There is a black and white shower curtain on the bath tub. There are many white cabinets under the sink. There is a metal handle next to the shower. \n",
      "Predicted Caption: this picture is taken inside of a bathroom. a gray and white cabinet hangs above a sink. there is a soap <UNK> that is sitting on a tray , a toothbrush in a small brown cup , and a tube on <UNK> , sitting on top of\n",
      "Correct Caption: Two black cubs are roaming in an enclosed area.  There are stone walls behind the two cubs.  Green shrubs  are in the front of the enclosure.  The cubs appear to be grazing on the ground.  A tub like structure is in the back of the left side.  The two cubs are on the top level and beneath them is a step to a lower level.\n",
      "Predicted Caption: two bears walk in the forest. both bears are black. one bear is in the lead. there is mostly dirt on the ground. there are some bushes next to the bears. there are some trees around the bears as well. there are some\n",
      "Correct Caption: There are two men sitting together. Both of the men are holding skis. The man on the left has a red turtleneck on. The man on the right has a black jacket on. There's a light coming off of the camera. Both of these Keys have black footholds to put your feet up. Both of the men are looking into the camera and smiling. The man on the right is wearing a watch on his left wrist.\n",
      "Predicted Caption: a man in a white shirt and tie is holding a wine bottle and <UNK> into a wine glass being held by a girl looking at a camera. the man and woman are standing next to each other. the ground is made of metal. there is\n",
      "Correct Caption: The picture is a baseball or softball game. There players are wearing green black and white. There is a pair of legs visible from someone sitting on a bench. The legs are wearing a pair of high green socks with low shoes. There is a baseball glove next to the legs on the bench. there is also another person with his or her leg propped on the bench. It has green socks with a white front and black pants. Someone in the background is standing next to a fence with a baseball bat in their hand. \n",
      "Predicted Caption: this picture is taken outside on a sunny day. a man is sitting outside on a grassy field. he is wearing a short sleeve shirt , dark pants , a white t - shirt , black pants and a laptop on his arm. a woman is\n",
      "Correct Caption: A giraffe is standing in the grass with his head halfway down towards the grass. The giraffe is looking at something in the grass and his mouth is open. His left front leg is standing wide and far from his body. The giraffe is young and he has a long neck and long legs. The grass is both, green and dry and there are trees casting shadows on the ground. \n",
      "Predicted Caption: a giraffe is looking at the camera. the giraffe is very tall. the spots are very wide. the sun is shining on the giraffe.\n",
      "Correct Caption: There's a man standing at the top of the hill on skis. The man is wearing a black helmet. The man is also wearing goggles. The coat that the man is wearing is a bright red. The man is holding ski sticks. There are lines in the snow where the man is standing. A man is standing at the top of the hill looking over at the land. The land is covered with snow.\n",
      "Predicted Caption: a man is skiing down a hill. his ski rod is in the air and there are a bunch of mountains in the distance. the sky is very clear and the clouds are extremely low.\n",
      "Correct Caption: A black tall metal steel pole is in front of a very tall buildings with many windows. The black pole has two street signs on it being held on by silver metal rings. One of the signs is black and has the numbers, 1 and 21. It also has in white writing Wall st. On the other black sign are the numbers 92 and 113 and the white word broadway. Above the street sign pole is a street light and the lamp is round. The light is turned off. \n",
      "Predicted Caption: the street signs are attached to a black pole. the texts are black in color. the street is clear and there are street lights in the street.\n",
      "Correct Caption: There is hitter getting ready to swing at the ball that has just been thrown by the pitcher. The pitcher is wearing a black shirt with gray pants and red socks while the hitter is wearing gray pants, dark blue shirt, and black socks. The umpire and the catcher is squatting down anticipating the play. The field is a mixture of dirt sand green grass. The image was taken through a metal fence. \n",
      "Predicted Caption: a silver fence with a green tree in front of it. there is a large , brown pole that has many people sitting in front of it. there is a green field of trees behind the field.\n",
      "Correct Caption: A worn wooden building is on the side of a set of train tracks.  The building has many windows with screens over the windows.  Many of the screens are torn or missing.  The paint on the building is severely thinned and peeling.  A small foliage bush is at the front of the building.  Tall mountains are in the far distance.  A large metal structure is suspended in the air above the building and the train tracks.\n",
      "Predicted Caption: a picture of a man standing next to a brick wall. the man is holding a yellow umbrella. the man is holding a yellow leash. the man is <UNK> on the handle of the horse. there is a large body of water behind the man\n",
      "Correct Caption: A man and woman are standing outside on a snow covered field. the man is wearing a dark coat, scarf, pants, gloves and eyeglasses. The woman is wearing a dark coat, gray scarf, dark pants and black gloves on her hands. They are standing behind a homemade snowman. There are colorful frisbee rings on the ground surrounding the snowman.\n",
      "Predicted Caption: a man in a red snow jacket and black pants is posing on a ski slope with his skis and poles.   he is smiling at the camera and has a <UNK>.   his helmet is white and behind him are mountains and clouds.\n",
      "Correct Caption: A long food banquet table is covered in a white tablecloth with long red cloth fringes.  The table is covered in food on metal platters.  In the center of the table are several raised bowls of food.  Next to the table in the foreground is another identical table with different food items.  Two large windows are on the wall next to the tables.  The windows have white sheer panels and dark blue curtains.  The room the table is in has red walls and hardwood floors.  A tall, green, decorated Christmas Trees  is against the wall next to the windows.  Another plain red table is in front of the Christmas tree with two tall glass bowls filled with oranges on it.\n",
      "Predicted Caption: a table is filled with assorted items.   there is a small vase in the middle with yellow <UNK> in it. there are drinks around the table. the plates are sitting on top of a table. the table has green plant in it. the\n",
      "Correct Caption: The woman is sitting on top of a large, white lifeguards chair. The woman has dark hair and a blue headband. The is wearing a colorful, flowered bathing suit. She is wearing sandals with a small kitten heel. The woman holds a large pink umbrella. There is a a stand of green trees in the background. The sky is blue with big white clouds.\n",
      "Predicted Caption: a woman is sitting on a bench. the woman is wearing a black jacket. there is a dog jumping up on the woman. the woman is wearing blue jeans. the woman is holding an umbrella. the woman is also wearing a black shirt.\n",
      "Correct Caption: A person is in mid air in a jump pose with a snowboard attached to their feet.  The person is wearing a black hat, pants, gloves and red jacket.  The person is in the air above a snow covered steep ski slope.  The sky is white with clouds and a few sections of pastel blue.  The sun is in the background and glowing as a white round and bright circle in the sky with a white haze of clouds over it.  A ornate type graphic in green-yellow and pink lettering is at the bottom of the ski slope.  Trails of narrow white lines are in the sky with the clouds.  Another person can be see in the background at the bottom of the slope in the background.\n",
      "Predicted Caption: a person is skiing. down a mountain full of snow. there are mountains in the background covered with patches of snow. the sky is clear and white above the skier and the sun is shining brightly.\n",
      "Correct Caption: A woman is looking down at her hand while standing over a motorcycle.  The woman is wearing a sleeveless vest, black helmet and blue jeans with rips on the upper thigh.  The motorcycle is a pale color and is surrounded on both sides by two more motorcycles.  The woman is parked on a paved surface next to a field of grass.\n",
      "Predicted Caption: there is a person riding a white motorcycle. the person is wearing a black helmet. the person is wearing a red helmet. there are people sitting on the motorcycle. there are people sitting in chairs on the other side of the street watching the person\n",
      "Correct Caption: A man is parasailing in the ocean. The man is standing on a flat board. He is holding on to the handles of the sail. The sail has several white cords attached to is. The sail is dark blue. There black stripes on the sail. On top of the black stripes are blue stripes. The water is dark blue. In the distance is a large land mass.\n",
      "Predicted Caption: a man is standing on a beach on a sunny day. he is wearing a short sleeve shirt , plaid shorts and tennis shoes. the man is holding a surfboard in his hand. his hair is blowing in the air. a clear blue sky can\n",
      "Correct Caption: A man is pointing at something pink. The pink item is a wristband. The wristband is on his right wrist. There is some some writing on the man's right hand. the man is wearing a green tie. The man is wearing a white button up shirt. the man is wearing a ring. The man has a beard on his face. The man is standing in a room. \n",
      "Predicted Caption: there is a man wearing a white shirt. he is also holding a toothbrush. there is a white and black dog laying on the table.\n",
      "Correct Caption: A bunch of small green bananas is hanging from a large banana tree. Under the bananas are a slew of large, dead brown leaves. Hanging from the center of the bunch is a long stem with a pod at the end of it that is dripping some type of fluid. Behind the banana tree is a green wall of other trees. The bananas are facing upside down.\n",
      "Predicted Caption: this is an image of a plant. the plant has large green leafs with holes in them. there is a <UNK> plant in the middle of the leaves. the <UNK> are purple and green. the stem is red , white and blue. there are\n",
      "Correct Caption: A stop sign is locating at an intersection on 7th street. There is a street sign and a bunch of pedestrians as well. The pedestrians are all walking across the street and they all have on short sleeve shirts. There are a bunch of palm threes located in the background and the sky is very clear and monotone. \n",
      "Predicted Caption: there is a sign next to the road. the sign on top is a white circle with a red stripe going around it. there is a blue stripe above the sign. there is a gray car on the street. there is a brown building behind\n",
      "Correct Caption: A little boy lays back on the bed. A little girl lays next to the boy. The boy has a blanket covering him. There is a white laptop on the boys lap. The laptop is open. The laptop has an Apple logo on the screen. The two kids are watching something on the laptop. The laptop is plugged into the wall. There is a cord attached to the laptop. The kids are resting on pilllows. There is a window in the corner of the pic.\n",
      "Predicted Caption: a person is sitting on a white chair. there is a white table next to the man. the table is made of wood. there is a white and black lamp on top of the table.\n",
      "Correct Caption: A black and white zebra is standing outside by himself. No other animals appear around him. He is standing on the ground covered in dirt. You can see a tree branch next to him with green leafs. In the back of him you can see the shadow on the ground cast about by a tall tree near him. It appears to be sunny and warm outside.\n",
      "Predicted Caption: two zebras are standing next to each other. the zebra 's heads are touching each other. the zebras are both black and white. the zebra on the left has a black and white tail. the zebra on the left has his head slightly open.\n",
      "Correct Caption: The image is a pencil outlining of a baseball player on a baseball field at  home base. The sketch appears like a comic strip picture that has not been colored in. The baseball player has the baseball bat raised in the air and is looking towards the direction of where the pitcher would be standing. The uniform of the player has the letters \"ARAI\" on the back of the shirt with the number 25. Both the shirt and the pants are striped. The player is also wearing a baseball helmet on his head and gloves on his hands.\n",
      "Predicted Caption: a baseball player is holding a brown bat in his hands. he is wearing a blue and red shirt and a black helmet. there is a catcher squatting behind the player holding a white baseball glove on his hand , and wearing a black helmet and face\n",
      "Correct Caption: A bedroom has a twin bed that is high up off the floor. The bedframe is metal with metal bars. In front of the bed is a chest. The windows have shutters on them that are closed and drapes that are open. A green plant in a pot is in front of one of the windows. There is a rug on the floor. The bed is made and there are two pillows on top.\n",
      "Predicted Caption: a living room is shown from <UNK> view. a wooden table is sitting in the middle of two orange couches. the couches have red and golden pillows. a picture is hanging over the television set.\n",
      "Correct Caption: Two men are sitting in front of their laptops. Both of the laptops are black and gray. The man on the right has gray and black hair. The man on the right is wearing a watch on his right wrist. The watch is black. The man on the left is wearing a navy blue shirt. The american flag is stitched on the right shoulder of the dark blue shirt.\n",
      "Predicted Caption: a man is standing in an office like area with a white keyboard in his hand. there is a bushy white and black dog located directly behind him. the man has dark colored hair and he is wearing a striped button down shirt with a white t\n",
      "Correct Caption: A large plane is flying over a whole bunch of clouds high in the sky. But because it seems so far away it looks very small. It has a wing and a tail visible and is dark in color. The sky is white and blue. The clouds below the plane are fluffy and puffy and white. Far off is a patch of bright blue. The puffy clouds are a light blue color with a twinge of blue and grey to them.\n",
      "Predicted Caption: the image is of two kites flying air <UNK> sails. one of the trees have the <UNK> of a <UNK>. the colors of the field are black and white. the sky is a deep blue with some white clouds. in the distance are a bunch\n",
      "Correct Caption: This is an old bus painted blue. There are white curtains in the windows and bicycles attached to the front. there are six windows on the side and one big window in the back. On the back of the bus is a spare tire. The bus is parked or traveling along a road next to a patch of green grass. There are many trees in the background.\n",
      "Predicted Caption: there are two buses driving down the street. there is a man on a bike. the man is wearing black. the man is wearing a cargo shirt. the bus is in the air.\n",
      "Correct Caption: Two light brown cows stand on a muddy path.  They have horns on their heads.  There are several cows on the ground behind them.  There is a thatched roofed building in the back ground. The building behind it had a blue tarp on part of the roof.  The roofs of several structures can be seen in the background.\n",
      "Predicted Caption: several brown cows are standing in a green , grassy field.   the horse in the field is brown and have white on his head.   the horse on the horse has a white one on its head.   the horse on the left is a\n",
      "Correct Caption: Four white fire hydrants sit outside. A small brown dog with a long tail is walking toward them, with its rear facing the camera. There are wooden posts lining a parking lot, and greenish brown grass on a hill in the background. There is a wooden fence post in the foreground, and a wire fence. The sun is casting shadows on the ground. \n",
      "Predicted Caption: a beautiful area is <UNK> and has the sun <UNK> out from a window. the sky is very cloudy and all a <UNK> pale blue color. the clouds are still white in the sky.\n",
      "Correct Caption: A cat stands on a tiled kitchen floor, looking into an open refrigerator. There are white cabinets to the right of the fridge, and the main source of light is coming from the fridge. The door of the fridge has eggs, bottles of drinks and condiments, and there are containers of food in the main part of the fridge where the cat is looking. \n",
      "Predicted Caption: there is a brown and white dog looking out of a window on a large tan wooden table. the cat is sitting on top of a brown rug. there is a blue and white cat sitting on the chair and a black purse sitting on the chair\n",
      "Correct Caption: A man is taking a photo in a public restroom mirror with a camera. There is a long counter with four white sinks, soap dispensers, and one water knob for each. Above the sink is a long mirror reflecting the back wall. The wall is covered with beige subway tile. The man taking the picture is wearing a gray shirt, and tan pants. \n",
      "Predicted Caption: a large white tub sits inside of a room. there is a white shelf next to the mirror with a large white sink on it. there is a mirror hanging above the sink.\n",
      "Correct Caption: There is a guy skateboarding. He is skateboarding on a black skateboard with white wheels. He is wearing a white shirt with gray shorts. He has on a pair of red sneakers with black markings and laces. He is in mid jump and has his hands over his heads. There are wooden benches behind the guy on the skateboard. The benches have purple handles. A building with bars and window is behind the benches and is showing the reflection of trees. \n",
      "Predicted Caption: there is a black and white bus on the street. there are people standing on the sidewalk next to the railing. there is a man in a blue shirt and white shorts standing on the platform. in front of him is a man in a white\n",
      "Correct Caption: A man in a black wetsuit is surfing. The sky above him is a dark shade of blue with a lighter area towards the water. The ocean that he is surfing in is a shade of green with white foam meeting the skyline. The man has his arm outwards for balance and his body bent. His surfboard is white and has a point on the end.\n",
      "Predicted Caption: a man is surfing on a wave. the wave is n't that big and he looks like he is doing a good <UNK>. there are some waves closer to the camera. the sky is very clear.\n",
      "Correct Caption: A small elephants is bathing in a small man made pond. The water is shallow coming to his under belly and covering his legs. There is water splashing to the right of the elephant. The bottom of his tail is in the water, and his trunk is raised upward as he closes his eyes. The shadow of his turns is cast on the light colored rocks in front of the elephant as the sun shines above.\n",
      "Predicted Caption: a gray , baby elephant is holding a stick in his hose , moving it towards his mouth. he is <UNK> to <UNK> trying to eat the stick. he is standing on a rock but there is mud with other white sticks in the backdrop the elephant\n",
      "Correct Caption: People are gathered to board a bus.  The bus is yellow with side doors opened for passengers to enter.  The bus has two front windshields that are high up on the front of the bus.  There are street light poles above the walkway.  People entering the bus are wearing jackets and some have hats on.  The sky is blue with white clouds in the distance.\n",
      "Predicted Caption: there is a white and blue bus on the street. there is a brown building behind the bus. there is a man on the bus.\n",
      "Correct Caption: A cat is looking outside of a window. The cat is peeking with it's head tilted to the side. It appears to be focused on something that is moving outside. The cat is white and has black spots all around its body. The tail is black and the cat has on a pink collar. The cat is looking out of a glass door that is behind an open door.\n",
      "Predicted Caption: there is a brown and black dog in a red and white <UNK> on a large white table. the dog is looking off the side of the photo. the floor is covered in a white color , and has a red <UNK> on the rim. the\n",
      "Correct Caption: A single giraffe stands just in front of a series of high boulders which form an enclosure behind it which is higher than it's head.  The giraffe is standing in a depression and a small grass hill rises in front of the animal.  Trees are behind the rocks and cast shadows onto the rocks.  The area in front of the giraffe is grass.\n",
      "Predicted Caption: the giraffe is surrounded by trees. the giraffe has long neck and white ears. it has long mane at the <UNK>. the mane is brown and short.\n",
      "Correct Caption: A bathroom has brown tiles going halfway up the walls and on the floor. The tiles are rectangular. There is a small white toilet attached to the wall and a metal gray flusher. There is a small white sink on another wall. The wall above the tiles is a light yellow color, almost white. The walls outside the bathroom are white.\n",
      "Predicted Caption: this is a bathroom. the ceiling is white. the walls are a sea foam green. the walls look like small one <UNK> tiles. the shower is a <UNK> small. the walls are white and <UNK> the mirror is white. there is a mirror\n",
      "Correct Caption: A bunch of elephants are gathered together outside. Two of the elephants are very close to eachother and the other one is a couple steps away. Two of the elephants look like parents and the smallest one looks like a child. They are in an enclosed area that appears to be a zoo. There is a small body of water in the very front.\n",
      "Predicted Caption: there are two elephants standing in a field. there is a large log on the ground in front of the elephants. there are sticks on the ground in front of them. there is grass on the ground in front of them. there is a large\n",
      "Correct Caption: The image is of a train-station. It is an aerial view. There is a train in the station and there are three platforms. All three platforms are crowded with passengers. There is a metal archway that goes above the train tracks. On the outside of the station there are trees. On the right side of the image there are large white buildings in the background. It is daytime. Some of the people at the train station are wearing backpacks, many of the people are wearing white shirts. \n",
      "Predicted Caption: a bus is next to a gate. the station is very bright and <UNK>. there are people standing on the platform. there is a metal railing around metal train cars. there is a large white building in the background.\n",
      "Correct Caption: The image is of a jet plane. It is gray in color and has two small black wheels below its body. These small black wheels extend to each side of the plane. On the front of the plane there is a propeller that is moving in full motion, as the plane is up in the air. The letters \"TF-FTE\" are on the bottom of the left wing. The tail has a small wing on each side. The sky appears gray and dark.\n",
      "Predicted Caption: a plane is flying in the sky. the plane is white in color. the plane has a blue tail. the sky is very cloudy and not clear.\n",
      "Correct Caption: Chopped tomato pieces sit on a cutting mat next to a silver chef's knife. There is a glass measuring cup in the background, and two bunches of green broccoli next to the tomatoes. The flash from the camera gives a bright light on the food, and the kitchen counter that everything is sitting on is a creamy white color. \n",
      "Predicted Caption: a pile of vegetables sits on top of lettuce. there are six carrots and five tomatoes. they are sitting next to broccoli and green peppers.\n",
      "Correct Caption: The room is a little dark. There are two windows in the room. The two windows are letting in the only light that is coming into the room. The two windows have drapes. There's a cream chair to the left of the room. There are two lamp shades on both sides of the windows. There is a silver kettle on a table closest to the camera.\n",
      "Predicted Caption: a living room is shown from <UNK> view. a wooden table is sitting in the middle of two orange couches. the couches have red and golden pillows. a picture is hanging over the television set.\n",
      "Correct Caption: The room shows computer desktops on long table. A man with balding head is looking at the his computer. He is wearing a stripe shirt. He is also wearing eyeglasses. In front of him is a woman wearing a white blouse. She is also looking at her computer. The wall is white and there is a green poster. The room is dark except fro the lights coming from the desktops.\n",
      "Predicted Caption: a laptop is sitting on a desk in front of a computer screen. the computer monitor is turned on. there is a laptop computer and electronic equipment on the desk in front of the computer monitor. there are two desk on the desk. to the\n",
      "Correct Caption: A vintage ad for Gold Seal floors and walls shows a woman in a red and black party dress entering a bedroom. There is a platform, and a bed on the platform with a ottoman, and a nightstand. A tall window behind the bed has closed curtains. A bookcase on the wall has white books on the shelves. The floors appear to be terrazzo.\n",
      "Predicted Caption: this photo is taken inside of a home. there is a large white door that is opened , and hanging from a window. there is a large window on the wall above a large white microwave. a curtain is sitting on a large black table in\n",
      "Correct Caption: A little brown teddy bear sits on the corner of a couch. The couch is black and made of leather. The bear has a pink bow around its neck. there is a painting on the wall behind the couch. The painting is of a tidal wave. There is a mountain in the background as well. The bear sits alone on the couch. The bear is cute.\n",
      "Predicted Caption: this is a picture of some silverware. the drawer is made up of gray metal. the drawer is light brown. there is a <UNK> <UNK> on the edge of the counter. the <UNK> is on a white wall. the wall behind the is green\n",
      "Correct Caption: This is photo inside a stadium at a soccer game. There are spectators in the background. The ground is covered with green astro-turf. There are two men play soccer. One of the men is wearing a black pair of shorts, white shirt, white socks and black shoes with yellow at the bottom. The other player is wearing a purple pair of shorts, a purple shirt with white writing and purple socks. They are both trying to kick the white ball that has multi-colored swirls. \n",
      "Predicted Caption: six kids are playing soccer in the grass. a boy in a blue shirt and blue shorts is kicking the white soccer ball. there are three kids wearing orange shirts.\n",
      "Correct Caption: There is a baseball game going on. There are batters on the side warming up. They are wearing grey uniforms. They are wearing red helmets. The other team has red and white uniforms. There are many people watching the game. The ground is green. The sky is blue. There are many trees. Many people are playing.\n",
      "Predicted Caption: this is an outdoor image of some men. the men are playing frisbee. the man is holding a frisbee. the man is wearing a red and white hat. the man is wearing black shoes. the man is wearing a white hat. the man\n",
      "Correct Caption: A cow eats grass on the side of a hill. The cow is white. The grass is green. The grass is all over the hill. There are some weeds in the grass. There are  some trees by the grass. There is a rock by the trees. There are many mountains.  There is some snow on the mountains. there is some fog near the top. There is just one cow. \n",
      "Predicted Caption: there are two horses out in the wild. the horse in the background is a reddish brown color. the horse in the front is a bright white. the horse in the front is a dark brown color. the green <UNK> has white sheep on its\n",
      "Correct Caption: A woman has a bunch of bananas o her head. She is seen in the forefront of three village type cottages. There is three other people behind the woman. There appears to be two men and a child as the man is wearing a blue shirt and stands in the doorway of one of the cottages. The child sits on the dirt ground a few feet away from the man in the blue shirt. A man wearing a red shirt is seen a few yards behind the others. Trees protrude from the tops of each cottage. \n",
      "Predicted Caption: a large tan building has a wooden back on it. there is a person standing in front of the building. there is a white and black dog laying on the grass behind the dog.\n",
      "Correct Caption: A little girl is gesturing while standing in a grassy area. The girl has red paint on her cheeks. The girl has short black hair. She is wearing an orange shirt. She is also wearing a short that are a floral print. Behind the girl is a wooden fence. The fence is discolored and gray. On the ground behind the girl is a black bat and a small white plate.\n",
      "Predicted Caption: a little boy is playing on a grassy field. he is wearing a short sleeve shirt and black shorts. a yellow frisbee is flying in the air in front of the boy. a dog is sitting on the grass near the boy. the boy is\n",
      "Correct Caption: Multiple hair styling tools are sitting on a metal grate. A silver pair of shears is laying on top of a smaller pair of thinning shears. The thinning shears are different colors of blues, yellows, and pinks. Next to the shears is a gray comb. The comb has 2 varying ends. One side of the comb has small teeth the other has wider teeth. A golden comb is laying on top of the gray comb. The golden comb is large with large teeth. The metal grate is dark gray.\n",
      "Predicted Caption: a pair of scissors resting upside down amongst a lot of pencils.   the scissors are silver.   there is a design on a table.   there are <UNK> decorations and a <UNK> is on the table as well.   there are some small <UNK>\n",
      "Correct Caption: Black and white cows are lined up at a feeding station in a green field. The line up shows seven cow rumps and no heads, but the eighth cow is turned, looking at the camera. A farmer is in a green tractor in the distance, directly behind the feeding area. Bushes are to the left, behind the cows. The one cow with a visible face has yellow id tags in her ears. \n",
      "Predicted Caption: there are two horses standing back to back. the horses are standing on the grass. most of the grass is white with some black patches. behind the fence is some sand. behind the horses there are homes. behind the horses is a hill.\n",
      "Correct Caption: A group of 24 young men are posing on the stairs in front of a building. They are mostly dressed in jackets and ties, although one seems to be wearing a sweater under his jacket.  Two of the men are wearing glasses. The men appear to be Caucasian. Most of the men are standing on the stairs, but a few are sitting on the stones on the side of the stairs. They are in front of a porch.  \n",
      "Predicted Caption: the image is a black and white photo of <UNK> boys sitting on stairs in front of a house. the boys are dressed in old style pants and shirts with boots. the man on the left is wearing a black jacket and blue jeans , and has\n",
      "Correct Caption: Two young men are seen on a ski slope skiing in a black and white photo. The boy in the foreground is wearing a winter hat with white specks, and white pine trees knitted into the design and a white pom pom on the top. The man is bending his right leg as he holds of his ski poles in the air. The boy on the left side of him is barely visible. \n",
      "Predicted Caption: the image is of a young boy who is slightly smiling at the photographer as he sits on snow.   he is dressed in a white and grey winter suit , a red shirt , black pants and a gray and black helmet.   the helmet is\n",
      "Correct Caption: A boy is sleeping on the couch with a black cat. The cat's ears are perked up. The boy has short brown hair and is wearing a white and gray shirt. The couch is light brown and there are some wooden bars at the top, where the boy's head is. The surface behind the wooden bars is white. The boy's ear is red.\n",
      "Predicted Caption: a man is laying on the bed. there is a white pillow laying next to the cat. there is a white pillow under his head. he is sitting on a white couch. there is a black lamp behind the man.\n",
      "Correct Caption: The building is painted burgundy and orange. There is an old sign attach to the wall for a restaurant. The writing on the sign is yellow. There are lights attached to the wall as well. The windows on the building are very big. The windows are reflecting the trees. There is a aqua blue square small sign in the sign on the wall.\n",
      "Predicted Caption: there is a sign on top of a restaurant that is covered in white letters. the top of the stop is red , white and black. the back of the clock is black. the line on the clock is black. there is a white and\n",
      "Correct Caption: The desk has laptops on it. Two of the laptops are turned off. There are two desktops to the right of the laptops. The two desktops are on. The desk is made of wood. There is a glass on a coaster to the right of the desktop computer. There's a garbage can underneath the cabinet under the desk. There is a shelf over the desk that has books on it.\n",
      "Predicted Caption: a silver laptop rests atop a very messy desk.   a second black keyboard and white mouse are resting in front of the laptop.   a bottle of <UNK> is on the wall.   a blue <UNK> box sits on the back of the monitor in\n",
      "Correct Caption: A man in a red and black jacket, blue jeans, and a black motorcycle helmet is seen standing on the side of the road near his motorcycle. The man is holding his riding gloves in his right hand just below the license plate on his bike. The man has the face plate of the helmet down obscuring his face. Across the road there is dry grass and bushes on an incline. The road is empty otherwise. \n",
      "Predicted Caption: a person is sitting on top of a motorcycle. they are wearing a red helmet. the motorcycle is black. there are trees next to the street behind them.\n",
      "Correct Caption: A train is traveling on the railway track that is up on a small hill. The train is dark gray and light gray colors with yellow on its front. The hill has dry yellow as well as green grass. Next to the hill is a fence with wooden posts and green plants are growing on that side of the fence. There are also some green trees. There are some white clouds in the sky.\n",
      "Predicted Caption: a silver train with white stripes on the front of it.   the train is sitting on railroad tracks.   there is a yellow line on the side of the train.   there is grass and weeds next to the train.   there is grass\n",
      "Correct Caption: The surfer is wearing a blue and black wetsuit on a cloudy day.  His surfboard is baby blue and cutting through the wave.  The surfer is focused on riding the wave as the spray from the wave is hitting him.  The surfer is keeping his body bent and low to the surfboard to keep himself on the surfboard.  The spray from the wave is small, so the surfer is coming to the end of the wave.\n",
      "Predicted Caption: a man is wearing a black wet suit. he is standing in a very small snow park with waves. the man is in black and black. the man is in the air trying to hit the surf. he is wearing a white t - shirt\n",
      "Correct Caption: A woman in a white hat with a light brown ribbon walks down a city sidewalk with her purse over her shoulder and carrying a large wooden basket.  There is a railing on the sidewalk and two bicycles are leaning against the railing.  There are a couple of signs and both signs are in the Asian language.  A statue of Colonel Sander from KY Fried Chicken stands in a glass showcase in front of one of the windows.\n",
      "Predicted Caption: this is a picture of a city street. there is a sign on the side of the road with a sign on it. there is a sign on the pole that says \" <UNK> <UNK> <UNK> <UNK> <UNK> <UNK> <UNK>. it is square. it looks\n",
      "Correct Caption: A picture of people having a bike race. There are orange cones on and around the street. There are tall buildings behind the bike race. There is a large green tree to the right of the bike race. There is a tall street light to the left of the bike race. There are white lines and words painted on the street. The two men at the lead of the bike race are wearing helmets.\n",
      "Predicted Caption: the street is busy with vehicles. on the sidewalk , a man wearing a white shirt , red cap and blue jeans is standing. few steps beside the man is a sign saying \" road construction , \" and beside that sign is a sign. in\n",
      "Correct Caption: There's a truck and motioned down the street. The front of the truck is ready. This guy is blue with no clouds. The back and top of the truck is white. Their trees to the left side of the truck. The truck has big black wheels. The headlights on the truck on. There's a puff of black smoke behind the truck.\n",
      "Predicted Caption: a truck is driving down a road. the road is gray and has yellow lines on it. there are two cars parked on the road.\n",
      "Correct Caption: There are a bunch of motorcycles sitting in front of a store. There is a large white sign on the store front. There is a large red sign on the store front. The sky above the store is blue. The road in front of the store is gray and paved. There are yellow lines on the road in front of the store. There are people standing around the motorcycles. \n",
      "Predicted Caption: a busy city scene with people walking and people on vehicles. the city appears to be in another country , possibly <UNK>. a man is riding a motorcycle with his headlights.\n",
      "Correct Caption: A young child is brushing his teeth.  He appears to be about three or four years old.  He looks Asian, with epicanthic folds in his eyes.  He has brown hair and light eyebrows. He is wearing a white t-shirt. The toothbrush is blue and gray.  The sink is white.  A mirror in the background reflects a bathtub or another sink.  Nobody else is visible.\n",
      "Predicted Caption: a baby is holding a baby <UNK> his teeth. he is wearing striped shirt and has black hair. the toddler is pointing his face. he is holding a toothbrush. a hand is standing behind him. his hand is holding a white plastic game.\n",
      "Correct Caption: A giraffe stands in an outdoor enclosure. The giraffe is standing in a side view, with its head turned toward the camera. There is a metal fence behind it, with wooden posts. There are tall palm trees with brown trunks, and green leaves and branches. It is a clear sunny day, and blue sky is visible in the background above a tan building. The giraffe is standing on beige dirt or sand and its hooves are dusty. \n",
      "Predicted Caption: a giraffe stands in the zoo. the giraffe is surrounded by a metal fence. the giraffe is spotted brown. the grass is very green and <UNK>.\n",
      "Correct Caption: A person is in fast motion skiing on the snow. The skis are multicolored. The trees in the background are a blur because the person is moving. The person is wearing a hat and gloves. The hat and gloves are both black. The trees in the background have snow on them. The person is wearing black pants. The hood on the person's jacket is bright red.\n",
      "Predicted Caption: a person is wearing a blue jacket and skiing down a hill. the person has a white helmet on and is holding two ski poles. there are people behind them skiing down a hill.\n",
      "Correct Caption: There is a man surfing in the ocean. He is in the wave. He is on his stomach on his surfboard. He is holding on with his two hands. The wave is big. The surfboard is red. The man is soaking wet. The water is a greenish color. The man has short sleeves on. The Water behind the waves is calm. The man is wearing some sort of paddle on his feet.\n",
      "Predicted Caption: a man is surfing in the <UNK>. there is a large wave in the water with people standing on it. there is a wave crashing up on the water. there is a wave in the wave. there is a wave crashing into the wave.\n",
      "Correct Caption: The man is sitting on a pink bicycle with a basket on the front.  He is wearing an orange short sleeve t-shirt and blue jean shorts. He also is wearing a pair of thong shoes.  He is sitting on a bicycle on the beach near the blue water.  The sky is clear blue. There is a  boat in the water.  The man is near a white pick up truck that has a license plate on the back of it.  There is a board in sand near the water.\n",
      "Predicted Caption: the man is sitting down on the bench. he is wearing a gray shirt and blue jeans. he is holding an orange frisbee in his hands. he is wearing a black shirt. there is water in the grass next to him. there are tall\n",
      "Correct Caption: In the image only the head, neck, and a partial hoof of a Zebra is visible. The Zebra is white and black, and is leaning down to eat from the grass. The Zebra is striped. The grass that the Zebra is eating from is green with various twigs and clumps of dirt scattered across it. The picture was taken while the sun was shining. \n",
      "Predicted Caption: two zebras are standing next to each other. the zebra 's heads are touching each other. the zebras are both black and white. the zebra on the left has a black and white tail. the zebra on the left has his head slightly open.\n",
      "Correct Caption: A woman is standing in the middle of a concrete path crouching and holding a tennis racket as she poses for the camera.  She has short blonde hair and is wearing a short-sleeved button-up light blue shirt and a dark blue denim skirt that falls to her knees.  She is wearing black thong sandals and has red painted toenails.  The path is long and winding as it stretches between two areas of dense green shrubbery lining each side.\n",
      "Predicted Caption: a man in a white shirt and blue shorts is standing on a tennis court. he is holding a red and white tennis racket in one hand. in his other hand , he is holding a white tennis ball.\n",
      "Correct Caption: The image is of a man's forearm outstretched holding some fruit. The man has light skin and blond hairs on his forearm. He is holding out his left hand, he is holding a bushel of miniature bananas in the open palm of his left hand. They are lying across his fingers, there are seven small bananas. The man is standing on sand that has many shoe and paw prints in it.\n",
      "Predicted Caption: a brown stuffed bear is sitting on a red table. there is a black knife on the table in front of the person. there is a pile of ice water behind the banana.\n",
      "Correct Caption: Two people are standing on a beachy sand area flying a kite.  There is a woman and a man.  Both are wearing jeans.  The woman has a black long sleeved turtle neck on .  The man is also wearing a lightweight jacket.  In the distance are sandy hills with grass growing on top.  The sky is blue with white clouds in the distance.\n",
      "Predicted Caption: a man is standing on a beach flying a kite in the air. the man is wearing a short sleeve shirt and black shorts. the kite is blue with white writing on it. there is a large wave under the man. the man is standing\n",
      "Correct Caption: A woman is posing in a very weird position to take a photograph. She has on a hat that looks like it may be corduroy. She has her hands up, one is an all the way opened palm and the other has her two fingers in the middle pointed downward while the outside fingers are pointed up. She is looking directly at the camera.\n",
      "Predicted Caption: a woman is sitting at a brown wooden table. she is leaning on a wooden wall and above that the wall is painted yellow. the woman is wearing a gray sweater that has two buttons by the neck. she is wearing glasses on her face and\n",
      "Correct Caption: A woman is standing on a train platform. She is wearing a scarf on her head, a coat, and a red skirt. She is holding on to a black suitcase. A lot of people are standing across from her on another train platform. They are standing near their luggage. A large building with windows is over a platform.\n",
      "Predicted Caption: a woman is walking on a sidewalk. she is wearing a black jacket. there is a large black bag in front of her with her hands in her hands. she is wearing a black jacket. there is another woman sitting on a bench behind the\n",
      "Correct Caption: Two zebras with dark brown and white stripes are standing close to each other, and they are leaning their heads on each others backs. The horse on the right is taller than the one on the left, and he has a longer face as well. The one on the left appears more white, and brown, than black and white. There are mountains in the distance behind the dry grass , and the plains. \n",
      "Predicted Caption: two zebras are standing next to each other. the zebra 's heads are touching each other. the zebras are both black and white. the zebra on the left has a black and white tail. the zebra on the left has his head slightly open.\n",
      "Correct Caption: Two black microwaves are sitting on a yellow counter top in a kitchen. A brown shelf is hanging above the microwaves. Objects are sitting on the shelves. A phone outlet is hanging from a white painted wall above the counter top. Two wooden chairs are sitting in front of the counter top. Part of a room can be seen in the background of the photo.\n",
      "Predicted Caption: a white desk is against a wall. there is a white refrigerator next to the refrigerator. there is wooden cabinets above the white cabinet.\n",
      "Correct Caption: Brown cows are lying on the green grass. Behind the meadow there is a small rocky mountain. Some parts of the mountain is covered with grass and shrubs. The cow on the front has two long horns and a long tail. On back a cow is stand facing to the right. On back the meadow is covered with dark green vegetation.\n",
      "Predicted Caption: a bunch of cows are grazing in a field. they are all wearing white short , black , one dark gray and black and white. the field is mostly dry and brown.\n",
      "Correct Caption: Three men and a woman are standing in a room of a home. They are holding white game controllers in their hands. A blue and brown futon is sitting in front of a window. A tall cabinet is leaning against a wall beside the window. A brown table is sitting near the cabinet with different items on it. A long picture frame can be seen hanging on a wall in the room.\n",
      "Predicted Caption: two people are standing in front of a couch. there is a man in a blue shirt and white shorts. the woman next to him is wearing a blue shirt and white pants.\n",
      "Correct Caption: The sky is mostly cloudy and overcast. There is a bench to the right of the walkway. The bench is made of wood. There is a red sculpture made of metal to the left of the bench. Some of the grass is cut short and some is not. There are trees behind the bench the trees directly behind the bench is a reddish wine color. The trees in the distance are tall and bushy.\n",
      "Predicted Caption: a wooden bench is sitting in some wet spots. there is a black pole with a park on it. there is a black bird on the ground.\n",
      "Correct Caption: The image is of a seagull flying in the air in the direction of the west. The seagull in the air is white and its wings are spread open. There is another seagull on the ground. The ground is made of sand and the seagull is located near the shoreline of the water. There are waves in the water in front of the seagull on the ground. The clouds are gray and the sun is orange. The sun can be seen in the distance.\n",
      "Predicted Caption: a body of water with some small waves in it. there is a giant bridge in front of the water. there are small waves in the water.\n",
      "Correct Caption: The image is of a sign hanging on a black pole. The sign says \"Objazd\" in black lettering. To the left of the lettering is a solid black arrow which is pointing to the left. The sign's background is yellow. It has markings and scratches on it making it look worn. The sign is near the bottom of the picture. The pole does not have a top or bottom. In the background is blue sky with numerous clouds. The clouds are large and puffy. The picture was taken during the daytime since the clouds are out and the sky is blue. \n",
      "Predicted Caption: the sky is clear and blue. there is a sign with yellow and white letters. the pole is a light blue color and is on the right side. there is a gray and red sign on the side of the road. there are four buildings\n",
      "Correct Caption: There is a single person in black on the ocean as they para-ski on a mostly cloudy day. The sail in the air is yellow, with white, and black stripes on it, and is high in the air and far from the skier. Beyond the sand, and near the camera there is a swatch of area where there are small pebbles and small rocks on the sand. There is a red, white, and black kite on the beach on the damp sand near the rock covered ground. rocks.\n",
      "Predicted Caption: a person is standing on the beach. they are holding a black umbrella. the person is holding a surfboard in their hand. there are several people standing on the sand. there is a person sitting on the sand.\n",
      "Correct Caption: Four elephants are seen in a muddy field on a sunny day. The Elephant nearest the elephant is small and his head, trunk, and front legs are wet. The taller elephants on the right are facing away from the camera, and are fully wet. The fourth elephant is far in the distance behind a wooden post fence. A person in a tan hat is standing near the two wet elephants.\n",
      "Predicted Caption: two elephants are standing in the water. they are touching their trunks together. there is grass on the ground behind them.\n",
      "Correct Caption: There are two giraffes in the outside wooded area. One of the draft is sitting down. The other draft is standing with his face in the trees. The giraffe sitting down is looking to the right. The giraffe has two furry horns on its head. The top of the horns is a dark brown color. The giraffe is brown and tan. The giraffe's neck is very long. The giraffe ears are white. The eyes of the giraffe are very dark.\n",
      "Predicted Caption: a giraffe is in the zoo. the giraffe is surrounded by a metal fence. the giraffe is spotted brown. the grass is very green and <UNK>.\n",
      "Correct Caption: The picture was taken in black and white. There are planes parked on the grass. There's a big plane and a small plane parked next to each other. The big plane has two propellers under the weight. The windows are on the side of the plane. The windows are circle-shaped. The grass is high. Some of the grass is brown colored.\n",
      "Predicted Caption: there is a small plane resting on the <UNK> of a <UNK> , where the skies are currently cloudy , with the <UNK> of gray clouds. several pieces of trash , <UNK> and small buildings are surrounding the <UNK>. the red plane consists of two wings ,\n",
      "Correct Caption: A Caucasian couple are sitting in bed reading a book together. They are both under a yellow bed sheet.The man does not have a shirt on. He also has blue eyes and short brown hair. The woman looks older with reddish-brown hair. The bed frame is made of metal and is black and gold. Above the bed a brown curtain with a funky print hangs.\n",
      "Predicted Caption: a woman is sitting on a wooden bench in front of a black table. the woman is holding a white remote in her hand and standing beside a black umbrella. there is a black and white dog sitting on a table behind the chair.\n",
      "Correct Caption: This photo takes place inside of a bathroom. A long green curtain hangs inside of a white tub. Part of a window can seen above the tub. A window sits over a white toilet. Two small shelves are on a corner wall near the window. A roll of tissue hanging on a tissue holder near the toilet. The floor is blue in color. A small trash can is on the floor near the toilet.\n",
      "Predicted Caption: this is a bathroom. the ceiling is white. the walls are a sea foam green. the walls look like small one <UNK> tiles. the shower is dirty and <UNK>. there is a small little <UNK> bar i i the sink. there is a\n",
      "Correct Caption: In this black-and-white image, a man is holding a cell phone to his right ear and looking straight ahead. He has very short, dark hair and has an East Asian appearance. He is standing next to a motorcycle outside a building. He appears to be wearing a robe. The appearance of him is reminiscent of a Buddhist monk.\n",
      "Predicted Caption: a man and woman are standing outside eating night. there are three men and one man standing in the picture. the man is wearing a sweater and a hat on his head. a woman is standing in the back of the woman. she is wearing\n",
      "Correct Caption: A man is riding a skateboard on a skateboard ramp. The ramp is covered in graffiti. Above the skateboard ramp, there is a metal chain link fence. The man is wearing a black shirt with green writing on it and black pants. He is wearing red and black checkered shoes. He is holding his arm out as he is doing the trick.\n",
      "Predicted Caption: a man is jumping over a skateboard outside on a sunny day. he is wearing a short sleeve shirt , pants , sunglasses , and checkered print shoes. the skateboard has a brown bottom and four wheels on it. the skateboard is soaring in the air\n",
      "Correct Caption: There is a large amount of snow on the ground. There are trunks that are partially covered with snow. There is a guy snowboarding through the trees. He is wearing a kaki colored puffy jumpsuit. The jumpsuit has a hat attached, but he is not wearing it. He is wearing a black cap with goggles. He is also wearing tan gloves on his hands. His snow board is bright orange and stands out on the white snow. \n",
      "Predicted Caption: a woman is standing in the snow on black and silver ski boots. she is wearing black pants and a gray and red top. her skis are in a green and white snow <UNK>. she is holding two ski poles in her hands. she is\n",
      "Correct Caption: A train with red and white cars is coming around a curving bend of a train track. The tops of the train is silvery white, and four cars are in view. There is a silver door at the front end of the train, and it is juxtaposed by a black metal fence. People are standing alongside the fence, watching the train. Numerous green trees and a giant cherry blossom tree flank the train tracks. There is a long wooden posted fence with wiring, and a wooden track near the cherry blossom tree. \n",
      "Predicted Caption: a red and white train is on the tracks. there are wires above the train. there is a hill with trees and grass on it next to the tracks.\n",
      "Correct Caption: The man in the picture is wearing a tie. That is black with pictures on it. The picture is of Santa Claus and a snowman. But I also have snow drawing on it. The man is wearing a white button down shirt. He is also wearing a dark-colored blazer. The man has gray hair. The man is wearing silver glasses. The wall behind the man is a green color.\n",
      "Predicted Caption: a man is wearing a white collared shirt and a red tie. the man has short dark colored hair. there is a white door behind the man. a window is on the wall behind the man.\n",
      "Correct Caption: The image is a large clock tower. It is made of stone, red bricks, and grey bricks. There are two clocks that are visible on the tower. The clocks are white and black. The time on clock reads, 1:27. Based off of what the clouds in the image look like, it appears to be an overcast day. The trees in the image are bare. There is a lookout area at the top of the tower. Below the tower is a newer red brick building. \n",
      "Predicted Caption: a tall brick building with pointed towers. there is a clock on the tallest tower. there is a chalk board in front of the building.\n",
      "Correct Caption: There are two giraffes standing together. They look to be lower than the foreground, so they are standing in some type of pit. The foreground is green and grassy with sticks scattered on it. The two giraffes are tall and have white ears. They also have brown and white bodies with patterns on them. Behind the two giraffes are tall, green-leafed trees.\n",
      "Predicted Caption: a giraffe is in the zoo. the giraffe is surrounded by a metal fence. the giraffe is spotted brown. the grass is very green and <UNK>.\n",
      "Correct Caption: This is a light colored bench on the shore. The bench has numerous slats in it.The bench is low to the ground and has rocks on it. There are also sticks and pieces of trash in the rocks. The rocks are light gray and brown in color. The bench is against a cement wall. In the background there is blue water, likely the ocean.\n",
      "Predicted Caption: a white bench is in the middle of the woods. the bench is made of wood and has two <UNK>. on the right side of the bench there is a bush with a red roof. on the right side of the fence there is a building\n",
      "Correct Caption: A woman and two children are standing in front of elephants. The woman is wearing a black coat. The children are wearing black and white coats and blue jeans. The woman is helping a little boy put food in an elephant's trunk. A blue bag is being held by the woman, as she helps the boy. The little girl is standing near them with her hand out. \n",
      "Predicted Caption: there is a boy standing beside an elephant. the elephant has a large white face with a large white face. the elephant has large ears. the elephant has large floppy ears. the elephant has large floppy ears. there is a large body of water\n",
      "Correct Caption: In a small kitchen with white walls, sink, door, and appliances, a younger man with brown hair and dressed in a black t-shirt and sweatpants with a red, white and green design going up the side, is turning a nob on the old gas stove. There is a pot and a baking pan on the stove, and several dish rags are hanging from the door handle. A cluttered rack is above it, full of scissors and other kitchen items. Bottles of flavorings and sauces line the small kitchen window. A large wood cutting board is on the small cabinet next to the stove. More items, that appear to be kitchen related are shoved in between the stove and the cabinet.\n",
      "Predicted Caption: a woman in a yellow shirt is wearing a white apron. she has a red visor on her head. she is bending down over a food cart with a white counter in front of <UNK> of food. there is a silver shelf on the wall above\n",
      "Correct Caption: A train is on the tracks with gravel underneath on a gray, dark, stormy looking day. The train in the front has many cars on the back and they appear to be open on the top. In the distance there is another train. The first train looks like a commercial train, the other one looks like it is a passenger train. The sun is on the right side casting shadows to the left. There is a small town, or a large farm in the distance on the right.\n",
      "Predicted Caption: a train is on the tracks. the train is yellow and blue. the sky is blue and clear. the train is not moving in the sky. the white train is pulling a shadow of the train. the train is black. there is a\n",
      "Correct Caption: The room has a fireplace in it. There are two windows in this room. The sunlight is coming from one of the windows. There is a sheer shade over the window. There are two light fixtures on the walls. Both of the lights are on. There's a small rocking chair on a square rug on the floor. The rocking chair is made of wood. There's a footstool in front of the small rocking chair. There's a picture over a small table by the door on the wall.\n",
      "Predicted Caption: this picture is taken inside of a living room of a home. a sofa is sitting in front of a window. there is a white rug sitting on a brown rug in the corner of the room. a red chair is sitting against a white painted\n",
      "Correct Caption: A road runs through a wooded area.  The road has two lanes, each running in opposite directions, separated by a double yellow stripe.  A sign points the way to two separate routes coming up at an intersection.  A pole is over the sign.  It holds overhead wiring.A car is in the background, heading away from the sign.  A stop sign is in the distance in front of the car.  It is partly cloudy.\n",
      "Predicted Caption: two long curved grey highway lanes <UNK> around a <UNK>.   a metal side barrier fence borders the highway lane.   there are two yellow parallel lines painted on the highway dividing the highway into two separate lanes.   two black traffic lights are on the\n",
      "Correct Caption: A picture of odd wooden shapes on the ground. There is a large framed mirror behind the objects. The floor under the objects is made out of wood. There are brown nail marks in the wooden floor boards. The wall next to the mirror is white. The wall above the mirror is brown. The floor in the reflection is shiny. \n",
      "Predicted Caption: there is a wooden table in a room. there are pictures on top of the table. there is a book on a pole. there is a large picture of food on the table.\n",
      "Correct Caption: A couple of women walk on a sidewalk. The women have a dark complexion. There is a cross walk signal to the left of the women. The sidewalk they are walking on is gray. There are green, leafy trees behind them. There is a tall building directly behind them. There is a fence around the building that is behind them. \n",
      "Predicted Caption: there are two people standing on the street. there is a person with a yellow jacket and a red helmet on. there is a person standing next to them.\n",
      "Correct Caption: A clear glass bowl is next the the computer keyboard. In the clear glass bowl is a variety of fresh nuts, dates, and a part of a peeled banana. Outside of the bowl next to it on the desk is a unpeeled small orange. The desk is painted red but the paint has started to chip. You can see part of the keyboard and part of the computer monitor. \n",
      "Predicted Caption: a stainless steel tray with many different types of food in their bowls or on the tray itself. there are 3 different white , ceramic bowls.   all three have some sort of <UNK> meat and sauce.   a spoon is in one of the bowl\n",
      "Correct Caption: A boy is standing on a baseball field holding a bat in his hands. He is wearing a black helmet and a black and white uniform. A catcher is squatting behind the boy. He is wearing a black face mask and a brown baseball glove. The field is surrounded by a gray chain link fence. A silver vehicle is parked outside of the fence.\n",
      "Predicted Caption: a man in a green shirt is swinging a bat at a baseball. there is a catcher squatting down wearing a white uniform. behind the catcher is a man in a black shirt and gray pants.\n",
      "Correct Caption: A teddy bear sits on  a small table. The table is blue. The bear is wearing a hat. The bear is wearing overalls. The bear has a tag on its ear. The bear is wearing a tie. There is a bench sitting on the yard. There are trees behind the fence. There are people outside. The bear is inside a car. The bear is little. \n",
      "Predicted Caption: a red and tan teddy bear wearing a white collar. there is a person standing in front of the bench. there is a person wearing a white jacket. there is a person standing next to her wearing a black jacket.\n",
      "Correct Caption: A picture of a man touching a cake. The cake has white frosting on it. The cake also has heart decorations on it. The man touching the cake is wearing a shirt, tie and pants. There are metal bars obscuring the view of the cake. There is another man behind the man touching the cake. There are candles behind the cake.\n",
      "Predicted Caption: a man is standing in front of a shelf which has a white container on the right side. the man has curly hair and his eyes are closed is front teeth are out. he is holding up with both sides stretched open. the room is dark\n",
      "Correct Caption: A woman is sitting in the drivers seat of a vehicle.  The woman has long red hair and is wearing dark sunglasses.  The woman is parked in front of a large camel.  The camel is standing still on top of some grass.  A person in the back seat is holding a camera in their hands filming the camel .  The hands have a watch on the wrist.  The windshield of the vehicle has two black windshield wipers on it.\n",
      "Predicted Caption: there is a young person sitting in an <UNK>. the person is wearing a black jacket. the person is wearing a black jacket. there is a person sitting on the seat of the cell phone. there are people behind the women.\n",
      "Correct Caption: Two giraffes behind a cage.  The giraffes heads are hanging over the cage.  The picture is in black and white.  The giraffes are standing next to each other.  The cage is made of iron and very tall.  The giraffes has spot over their body.  The giraffes heads are to the top of the ceiling.  The ceiling is made of concrete.\n",
      "Predicted Caption: there are two giraffes standing by tge tree. the giraffe on the left is looking at tge camera. the giraffe on tge right has its head down. the giraffes are brown and white. there are dogs along with tge giraffes. there is a big\n",
      "Correct Caption: A person holds on to a Nintendo Wii mote. The Wii mote is red.  The Wii mote is in the right hand. The bottom half of the Wii mote is white. The Wii mote is in the left hand. The person is sitting down. The person is wearing jeans. The person is wearing a blue shirt. The person is sitting near a wall. The two parts of the Wiimote are connected. \n",
      "Predicted Caption: a man is laying down while holding a cell phone. he is wearing glasses that have a black bag. he has a beard that is dark brown. the man 's hair on top of his head is <UNK>. the man is wearing a black shirt\n",
      "Correct Caption: A healthy breakfast sits on a dark gray table under a bright light. There is an orange on the left upper side next to a cup of tea and an apple near that. Below the apple there are three old brown bananas. A knife sits in between the apple and tea. There is a bowl of fiber cereal on a plate, and a silver spoon on the plate. \n",
      "Predicted Caption: this is a picture of some food. the food is spread out in different bowls on the table. the bowls are all square shaped and white. there is a person sitting at the table. the person is wearing a red shirt. there is a\n",
      "Correct Caption: Four people roller blade down a street. Each person is wearing safety gear: helmet, knee pads and gloves.  Each person also holds two ski poles.  One man wears a red and white jacket.  Two of them wear black and one wears an open blue jacket.  A car and a white house are visible behind them.  A tree sits upon a landscaped median directly to their left.\n",
      "Predicted Caption: there are four people in the photo riding on horses. the people in the photo are wearing orange shirts. they are holding on white snow covered trees. the sky above them is blue. there are two people riding on one of the horses. they\n",
      "Correct Caption: The photo was taken outside. There are two red train cars, a blue cargo car and a white cargo car on the train tracks. The train tracks are black in color. The train tracks are surrounded by a rocky ground. The rocks are gray. Surrounding the rocks are tall green bushes. The bushes are behind the train. In the front are green leaves with yellow and purple flowers.\n",
      "Predicted Caption: a train is on some tracks. the train is green in color. the grass is very green. there is water next to the train.\n",
      "Correct Caption: Two men play tennis on a grey court.  The court is surrounded by a grey netting.  One man has a blue tee shirt.  The other man has a grey tee shirt.  There are two benches in the area.  Both men are wearing shorts.  Both men are holding rackets.  Yellow tennis balls are in the air.  There is a green covered area near the fence.\n",
      "Predicted Caption: a man is playing with a frisbee. he is wearing blue shorts. he has on a white tee shirt. he is also wearing white sneakers.\n",
      "Correct Caption: Three elephants are on an enclosure. The enclosure are circled with grey wires and poles. The big elephnat has a long trunk and small ears. Two stones are in the enclosure the are covered with green powder. Behind the elephants there is a grey building with windows that have red frames and metal roof.\n",
      "Predicted Caption: there are two elephants standing in a zoo enclosure.   one elephant is larger and the other elephant is a small baby.   the two elephants are facing each other , but the baby elephant is standing more in the background.   there are logs standing\n",
      "Correct Caption: The sky is a golden yellow color. There is a bird flying in the sky high up. To the left there is a clock tower. The clock on the clock tower has a face that is gold colored. The hands on the clock are black. The water is reflecting the gold light coming from the sky. There are weeping willow trees next to the Clock Tower. The weeping willow trees are also next to the water. The water is calm.\n",
      "Predicted Caption: a view of the <UNK> building in <UNK> is visible.   big ben can be seen in the distance and two clocks on either side of the tower are there.   the water is at the top of a hill near a bridge.   there is\n",
      "Correct Caption: A man sits down in a chair. The man is sitting in a room. There are many wires outside. There are many windows in the room. There are blinds on the windows. There are boats outside. There are many buildings outside. There are clouds in the sky. There is a tv in the room. The man's foot is in a chair. The buildings have many windows.\n",
      "Predicted Caption: a fireplace shows a fireplace made of wood.   a very large , square mirror is <UNK> the front of the display.   a small black microwave is set on the wall.   a tall , glass and tall glass is covered by the wall above\n",
      "Correct Caption: A bear sits on a tree. The bear is alone. the bear is black. The bear has a leg in the air. The tree has bark on it. The tree is brown. There are leaves on the tree. There are many branches on the tree. The bear is small. There is sunlight all over. The bear is laying down. There are many trees. The bear is in the woods. The trees are standing up.\n",
      "Predicted Caption: this is a picture of a bear. the bear is walking in the water. the bear has a brown nose and fuzzy ears.   the bear is laying in the water. the water is brown and brown in color. the sand is in the\n",
      "Correct Caption: The bus is making a right turn at the corner. There are stripes on the side of the bus. The bus is mostly white. The windows are black. There is a silver car by the bus. There is a pole above the bus. There is a traffic light on the pole. There is a colorful sign by the bus. There are many trees by the side of the road. There are many cars on the road. The sky is bright and blue.\n",
      "Predicted Caption: this is an image of a city street. the street is very busy. the street is made up of gray and brown bricks. there is a white and red fire hydrant on the street. the street light is painted red. there are trees lining\n",
      "Correct Caption: A red fire hydrant of the corner of a sidewalk.  A black car is riding along the road.  There is a white truck on the other side of the road.  White lines are painted in the road.  The hydrant has chain on each side.  The edge of the sidewalk is painted red.  There is a tree across the street covered in snow.  There is snow on top of the hill behind the trees.\n",
      "Predicted Caption: there is a fire hydrant on the ground. the hydrant is painted white. it has a black painted design on it. the fire hydrant is yellow and black. there is a black ladder on the front of the hydrant. there are two people sitting\n",
      "Correct Caption: A small round pizza is on a wooden table.  The pizza has red onions, red sauce, and melted cheese on it.  The pizza also has black olives and spices.  A dark shadow is on the table beneath the pizza.  The background is blurry beyond the pizza.  The pizza also has a red pepperoni curled at the top near a lone slice of red onion.\n",
      "Predicted Caption: a pizza is sitting on a white plate , with one slice cut and <UNK> over to show the bottom of the pie. it is burned in a silver wrapping. there is a white napkin on the top of the <UNK> , and a glass of tea\n",
      "Correct Caption: This is an enclosure with giraffes. The giraffes are tall and have dark brown and patterned skin. The ground is beige with dirt. There is a grouping of tall trees in the background with brown and green leaves. There is also a zebra laying on the ground. It is black and white. There is a little circle of water for drinking.\n",
      "Predicted Caption: a group of giraffes stand in an open area , zoo setting. two large giraffes stand under a tree , in the shade and one is eating a leaf. smaller giraffes stand in a <UNK> line on a path that seems well work from a tree.\n",
      "Correct Caption: The boy is sitting on the bicycle. There is a dog fighting at the boys like. The dog is being playful with the boy the bike is silver and red. The dog is a light tan color. The boy is wearing a yellow black and white T-shirt. The boy is wearing blue jeans. There are trees and trees with flowers in the background. The trees directly behind the boy have red flowers.\n",
      "Predicted Caption: a man in a red t - shirt and black pants is standing on a short gray <UNK> holding a black and yellow dog <UNK> on a leash. the man is wearing a black backpack , while his shorts are black with a blue <UNK> around the man\n",
      "Correct Caption: A small monument with a clock on both sides.  The clock is round and black and white.  The time is noon.  The monument is beige in color.  There is a oval door on the side of the monument.  There are two small windows with balconies on the building.  The sky is clear and blue.  There is a tree on the side of the monument on the right.\n",
      "Predicted Caption: the clock is very high. it is near the top of the building. the face of the clock is black. the face of the clock is white. the numbers on the clock are black. the sky is lit up around the clock. the\n",
      "Correct Caption: A young man of normal weight, with short brown hair and a small goatee, stares at the camera. He has a slight grin on his face, and one eyebrow is upturned. He  is wearing an orange t-shirt and a very wrinkled orange, tan and black checked sleeveless vest, with a pale blue striped tie. Slightly out of focus in the background is another person in a white t-shirt, sitting on a metal chair, and bed with white and beige pillows on it.\n",
      "Predicted Caption: a man is standing in a room. he is holding a cell phone in his hand. he has short cut cut colored hair. there is a <UNK> on a stand behind him. the walls behind the man are yellow. the man has a white\n",
      "Correct Caption: Men, women and children are standing outside on a grassy field. They are flying kites. One kite is blue and red in color. Another kite is pink, green and yellow. A baby stroller is sitting on the grass beside two men. All of the people are dressed warmly. The sky is bright white above all of the people. \n",
      "Predicted Caption: a bunch of people are outside on a grassy field. they are holding baseball players. they are all holding red signs. there is a large crowd coming from the trees.\n",
      "Correct Caption: This picture is taken outside on a sunny day. Three people are sitting on a grassy field. A man and woman are sitting beside each other. The woman is waving to a man that is standing on a field with a sail above his head. The sail is blue, yellow and white in color. A large body of blue water is in front of the people. Large buildings are seen in the background behind the water.\n",
      "Predicted Caption: a large body of water with white sand surrounding it. there are people standing in the water. there are several kites in the sky above the water. there is a yellow kite sitting on the sand on the beach. behind the water is a hill\n",
      "Correct Caption: There is some food leftover that is sitting on a  plate. The plate is very small and white and looks almost like a Frisbee or short disk. There is a piece of red pepper on the plate, a small little grape, a celery stick, an orange, and I believe a cucumber. There looks like there was some sauce or something that spilled on the plate as well.\n",
      "Predicted Caption: there is a square shaped white plate on a table. there is salad and a roll on the plate. behind the plate is a round shaped white plate. there is two glasses on the table.\n",
      "Correct Caption: The giraffes and zebras are in a place together. All the animals at casting Shadows on the ground. The giraffe's a way taller than the zebras. The zebras are all facing towards the right. The giraffe's closest to the camera facing left. The sky is mostly cloudy with some blue showing. The zebras are black and white. The giraffes are brown and cream colored.\n",
      "Predicted Caption: there are two giraffes in this image. the giraffes are standing next to one another. there are green bushes behind the giraffes. there are many clouds in the sky. the front of the giraffes are tall. there are trees in the back ground in\n",
      "Correct Caption: Someone is balancing themselves on a round metal food with a snowboard. The person is wearing a yellow jacket. The person is also wearing a black hat. The snowboard is multicolored. The person is wearing black pants. The trees in the background have snow on them. There is a ski lift in the background. Some people are riding on the ski lift.\n",
      "Predicted Caption: a man is snowboarding down a hill. he is going down a <UNK> course and the flags are red and some are blue. he is right next to a blue one. he has on a white and black jacket with black pants and a black hat\n",
      "Correct Caption: A boy is standing outside in the sunlight. He is holding an older, flip-style cell phone and is looking at the screen. The phone is grey in color. He is standing in the shade under a small tree to block the light from hitting the screen of the phone. The leaves of the tree are green with some brown spots on the leaves. The boy does not have a shirt on and has short brown hair.\n",
      "Predicted Caption: a picture of a man holding a boy. the man is wearing a striped shirt. the shirt is white. the man is asian. the man has black hair. the man is sitting outdoors. the man is wearing a shirt. the man has\n",
      "Correct Caption: A vase sits on top of a white surface. The vase is half filled up with a clear liquid. The vase has long green stems placed inside of the clear liquid. There are yellow flowers on top of the long green stems. The room the vase with flowers is in is white. There are red spots on the yellow flowers. The wall behind the flowers is white.\n",
      "Predicted Caption: this image is of a vase on a dark wood shelf. the vase is tall and <UNK>. there are flowers , but also and flowers on the flowers. the vase has a gold , red , and blue flower , almost <UNK> into the center.\n",
      "Correct Caption: A book is open on a bed.  There are sheets on the bed with blue stripe.  It is a comforter and a pillow is under it.  The writing in the book is a black print font.  It is turned to chapter 6 on white pages.   A white wall is behind the bed.  The comforter is ruffled and messy.  Shadows are casted on the bed from the light.  Creases are visible in the comforter.\n",
      "Predicted Caption: a woman is lying on a couch and holding a cell phone. the <UNK> is white and she is wearing a black shirt. there is a person sitting on the floor wearing black pants. there is a blanket in front of her on the couch.\n",
      "Correct Caption: The photo was taken at a baseball game. There are two players on the field. The field is green grass with brown dirt patches. The team players are wearing a black hat, white green and yellow jerseys saying SURF and white pants. Both players are wearing mitts. The player in the front is throwing the baseball. The baseball is in the air. It is a sunny day.\n",
      "Predicted Caption: a baseball player is standing on a baseball field. he is wearing a gray uniform with red writing. his cap is black with a logo on it. he has on a black helmet and gloves. he is holding a white baseball glove on his hand\n",
      "Correct Caption: A man stands in a snow covered field while holding a hose. There are two horses in front of the man with the hose. There is a fence in front of the man with the hose. The sky above the scene is gray and cloudy. There are large buckets near the horses. There is a forest off in the distance behind the horses. The hose is yellow. \n",
      "Predicted Caption: the image is of a field in a field.   the sheep is facing the camera and is rather <UNK> by a large black fence.   he is wearing a black and white helmet , a black and white uniform and a black and white uniform.\n",
      "Correct Caption: There is a semi stuck in the side of the road. The semi is white. The semi has a logo on the side of it. There is writing on the front of it as well. The semi is stuck in dirt and grass. There is a sign by the semi. There are some trees by the side of the semi as well. There are some people standing by the side of the road. there are cars parked on the road. The sky is grey. There are many trees in the distance.\n",
      "Predicted Caption: a large black and red truck is driving on the street. there is a white truck in front of the truck. there is a black truck behind the truck.\n",
      "Correct Caption: A man and woman are riding a motorcycle on a paved road. The man is wearing a short sleeve shirt and blue jeans. The woman is wearing a tank top and blue jeans. Both of them are wearing helmets on their heads. There are two long yellow painted lines on the road. Cars sit parked under a building near the road. Two of the cars are red.\n",
      "Predicted Caption: a person is sitting on top of a motorcycle. they are wearing a red helmet. the motorcycle is black. there are trees next to the street behind them.\n",
      "Correct Caption: A paper box sits on the table. There is a donut sitting in the box. The donut sits in the corner of the box. The donut has chocolate on the top. There is a plastic fork in the box. There is chocolate on the box. There is frosting on the box. there is plastic on the top of the box. The table is white. There is one box.\n",
      "Predicted Caption: a plastic container has some soup in it. there is a <UNK> machine that is sitting on top of a table. there is a white plastic bag on top of the table.\n",
      "Correct Caption: A white polar beat is swimming inside of the water on his back with his belly facing up. He is white with gray markings on his fur. His mouth is open showing his teeth and it looks like he maybe smiling and enjoying himself swimming. The water is dark blue in color and the wave in the water appears to be white in color.\n",
      "Predicted Caption: a polar bear is standing on a rocky cliff.   his fur is clean and looks soft to touch.   he is looking down and seems <UNK>.   it is a sunny day.\n",
      "Correct Caption: There is a large passenger jet sitting on top of the airport tarmac. There is a red rear wing on the large jetliner. There are windows on the sides of the plane. There is a large towering light behind the jet. The tarmac under the jetliner is wet. There are buildings off in the distance behind the jetliner. There are vehicles pared off in the distance behind the jetliner.\n",
      "Predicted Caption: a plane is taking off on the runway. the plane is blue in color with a white underside and red letters and logo. the letters on the plane say <UNK> and the logo looks like a <UNK> face with only one eye. the grass around the\n",
      "Correct Caption: The two dogs stared at each others.  The only thing that separated them were the bike.   The bike was park on the side walk.  The bushes seemed to be high from the view.  It covered the view .  The blonde dog was the tallest of the two dogs.  The black dog was noticeable shorter of the two dogs.  He seems to be walking toward the taller dog.\n",
      "Predicted Caption: a woman in a red t - shirt , blue jeans , and blue shorts , and pants is sitting on a brown leather bench with his head on top of the bike. the sidewalk is dark brown with light brown lining. there is a woman sitting\n",
      "Correct Caption: A woman washes dishes as she wears yellow gloves. The woman has dark black hair. The woman is wearing a white mask. The woman is wearing a flower print dress. The woman is standing in a kitchen. There is a crock pot next to the woman on the counter. There are two knives on the side of a cabinet. There are bottles on top of a wooden shelf.\n",
      "Predicted Caption: a woman in a white shirt is wearing a red necklace. she is standing in front of a counter. there is a dessert on a silver tray.\n",
      "Correct Caption: There are three pieces of fabric that looks like that are project of some kind. One fabric has white and brown sheep walking hand grazing in a grassy field. The fabric in the middle is littered with small blue, purple, pink, and white flowers. The last piece of fabric is multi-colored lines with frills on the edge. There are two fabric carrots with leaves on them in on the top of the display. There is also a second place red ribbon attached to the carrots. \n",
      "Predicted Caption: on a <UNK> , a <UNK> prepared banana , <UNK> <UNK> prepared are placed.   the main meal is a green pepper.   a <UNK> <UNK> is perched upon a <UNK> sauce.   a <UNK> is <UNK> in the <UNK> of some sort.   it\n",
      "Correct Caption: On a crowded street, two buses, a motorcycle and a car are driving.  The car is small and black with gray hues.  The buses are blue and white with maroon trim.  Each bus has a large rear windshield and a ladder.  Several people are crossing the street between the vehicles.  A couple - the man in a black jacket, the woman in a red jacket and blue jeans, walk behind the blue bus.  Another man walks near the bumper of the blue bus.  All vehicles are oriented in the direction of a large, brown apartment building with several windows.\n",
      "Predicted Caption: a blue and white bus is parked on a road beside a sidewalk. a red bus can be seen parked behind it. a man is walking across the street on another sidewalk. a tall gray pole and a tall green tree are standing on the sidewalk\n",
      "Correct Caption: This image is of a wooden cutting board with various chopped vegetables laid out across it. Toward the top of the cutting board is a row of bright green broccoli florets. Below the broccoli is a row of a lighter green and white vegetable that looks like chopped celery, or perhaps leeks. Some of the celery is completely white. To the right of the image, there is a small pile of minced fresh garlic. \n",
      "Predicted Caption: this is a picture of some food. the food is vegetables. the veggies on the top are broccoli. the broccoli has light green <UNK> with dark green heads. the broccoli is laying on top of some water <UNK>. the water <UNK> are small and\n",
      "Correct Caption: A brown and white cow is standing behind a fence in an enclosure on a bright sunny day. The gate to the wooden fence is open and the cow is standing in the open doorway looking out. The fence is unfinished, unpainted wood. There is a pillar painted white on the left side of the fence. Behind the cow there is a wood panel on the wall, and the corridor behind the cow is dark. \n",
      "Predicted Caption: a brown horse is standing in a field. there is a brown building behind the cow. there are tall weeds and a fence around the tree.\n",
      "Correct Caption: A group of sheep are running in some grass. There is one small black sheep and the rest of the sheep are white or off-white in color. The sheep are running through somewhat short green grass. Small flowers are visible in the grass. There is a dirt path as well as trees that are visible in the background. It is daylight outside.\n",
      "Predicted Caption: there are several sheep sitting in the grass. there is one white sheep with black legs and a black head standing up. there are trees behind them in the distance.\n",
      "Correct Caption: A small boat with \"PZ4\" written on the rear back is seen anchored in a shallow turquoise body of water. The boat has a black bottom and a white deck with an orange roof on the cabin. An orange and white life preserver is on the top of the boat. A bunch of small white birds are swimming around in the water. There is a full lush bush near the camera at the bottom of the image. A tall rock cliff is visible on the other side of the water. \n",
      "Predicted Caption: a large white and blue sail boat sits on the shore of a large body of water. another similar boat is on the shore in the background. the ground is covered in sand and dirt , and there are deep tracks to the side of the boat\n",
      "Correct Caption: A man with short brown hair sitting on a black piece of luggage. He is wearing a long sleeve black shirt with collar and black jeans with white tennis shoes that have a black stripe. He is holding an opened newspaper that he is reading. He is sitting on the piece of luggage in a large terminal with grey, black and yellow tiles on a floor. The floor goes a long way back. There is a train coming in the background on a track that runs in front of the man. Past the tracks is rows of dark windows. To the far left alongside the floor is bright orange cones next to pillars on the wall. \n",
      "Predicted Caption: a bunch of people are outside. they are all waiting on their luggage. there are two people waiting for safety. the people are getting ready to go all.\n",
      "Correct Caption: A woman in a black tank top is sitting at a small round table indoors and filling out an application with two large wine glasses on the table. The woman has brown hair, and is making an odd face at her companion. The table behind her is empty. The table next to that has a person in a black shirt sitting at it. On the other side of the room there are two green arm chairs and a short table between them.\n",
      "Predicted Caption: a girl is smiling and holding her hand while looking at a piece of <UNK> cake. her dress is pink and has a red floral pattern on it. she has a blue watch on her shoulder. she is also wearing a white <UNK> outfit.\n",
      "Correct Caption: Outside of the older style building is a in ground pool. It is empty and has no water in it. You can see the inside of the pool appears dirty. There is still a metal ladder attached to the side of the pool for people to climb in and out of it. There is also a a few chairs and a table with a umbrella for people to sit at.\n",
      "Predicted Caption: a park is in the middle of the woods. the building is very tall and very well looking.\n",
      "Correct Caption: People are skating and playing in the park.  There is a purple kite flying in the sky.  The sky is blue and full of clouds.  The kite has different color strings hanging from it.  There are house and trees in the background.  People are skating on the pavement.  The grass is green.  There is pond or lake behind the grass in the background.\n",
      "Predicted Caption: a large white plane is flying high in the sky , <UNK> during the sun. the <UNK> of the plane is <UNK> with two <UNK> <UNK> in white clouds. the sky is blue with several white clouds visible. on the horizon   there is a tree\n",
      "Correct Caption: This is image is in black and white and shows a royal family traveling down a road in a carriage. The front of the photo shows the back of a man head taking photos. He is behind a gate with is aligned with officers. They all wear the same black uniform with black hats. Not far from them is one royal guard with a tall fuzzy hat. In the street the carriage is being pulled by four white horses. Two of them are being ridden by men in white with black hats. The carriage is black with UK flag waving on top. Behind the carriage a band of people in amour ride on horse. On the opposite a group of spectators watch the show.\n",
      "Predicted Caption: this photo is taken outside on a rainy day. many people are walking on <UNK> streets past buildings. the buildings appear to be really old. some of the people are holding umbrellas over their heads. one woman is wearing a jacket , black purse and\n",
      "Correct Caption: The image is a close-up of a bottle of water sitting on a park bench. The bench is sitting outside of a fenced area. On the other side of the fence is a brown field with green grass and green trees in the distance. The bench is silver and has ridges on the seat. A plastic water bottle on the bench has a blue label and cap. The cap is on the bottle. Behind the fence is some dirt. The sky is blue with few clouds. It is a sunny day because there are shadows. \n",
      "Predicted Caption: a blue sky with a lot of smoke coming out of it.   there is a large window in the back of the area. there are some trees in the back.   there are some trees in the background.   there are no other vehicles\n",
      "Correct Caption: This picture is taken inside of a train station. People are standing on a platform. Tall blue and white poles stand on the platform near benches. There is a large blue and white sign standing on the platform near the people. The ceiling of the station is rounded with windows in a row across the top. Two trains are sitting near the platforms. The trains are purple, orange, blue and white.\n",
      "Predicted Caption: there is a train on the tracks. there are doors on the train. the train is yellow. there is a train on the tracks. there is a <UNK> on the train. there is a <UNK> in the middle of the train. there is\n",
      "Correct Caption: A tower has a green roof that is pointy. Arch windows are on the tower. There are two clocks on front the tower. The clocks have roman numerals color golden. The hands of the clocks are long and golden. People are in the Ferris wheel that has red flags on the top. People are in the round baskets of the Ferris wheel. \n",
      "Predicted Caption: a clock tower sits in a <UNK> surrounded by trees in a public area. the tower is made of dark gray brick and has a round clock on each side. the clock face is white and black with black hands. the hands of the clock are\n",
      "Correct Caption: The snow is all over the ground. The pole with a traffic light on it is coming out of the ground. The pole is leaning to the left. There are footprints in the snow. There are cars driving on the street. The cars are driving slowly down the snowy Street. The car closest to the camera has their brake lights on. The brake lights are red. Most of the trees if not all are bare.\n",
      "Predicted Caption: a street has a white car driving down it. there is a large red light attached to a pole that has a street on the front of it. there are trees in front of the building.\n",
      "Correct Caption: A ski life is filled with several people, and it is riding high above a snow filled mountain. The ground is covered in snow and batches of thin  leave less tress are scattered about on the mountain. The lift is riding on wires attached to sturdy large dark green poles. A few small evergreen trees are also scattered about on the mountain, under and opposite the lift. The poles are casting a shadow on the ground, and it is a bright sunny day with a deep blue sky.\n",
      "Predicted Caption: the mountain side is dusted with snow. the trees are evergreen and are dark green in color. there is a person riding a snowboard. the ski lift is very thick. the sky is a deep blue.\n",
      "Correct Caption: A small, skinny, scruffy dog wearing a red collar is sitting on a wooden rocking chair. The small dog is looking up towards the sky as he sits on the chair. Vertical blinds on a window behind the chair are pulled open and reveals a dimly lit living room. Behind the chair on the left there is a metal table frame with no table top, and a small green plant.\n",
      "Predicted Caption: a white bench is sitting in front of a building. there is a blue and green sign on the side of the walkway. there is a black car on the street next to the bench.\n",
      "Correct Caption: A woman is a tan lamp shade shaped hat is sitting in a canoe handling greens.  the woman is wearing a long sleeve brown shirt and the canoe is brown and wooden with water stains on the sides.  Inside the canoe are bushels of greens the woman is handling.  The canoe is in a small crowded section of water.  The water is crowded with other canoes .  A green tent with metal poles and yellow cords attached is over one of the canoes in the water.\n",
      "Predicted Caption: a picture of a diorama parked near a building. there is a large body of water behind the smoke stack. there is a large body of water behind the water. there is a bird sitting on the dock. the boat is near the larger.\n",
      "Correct Caption: A snowboarder is snowboarding while wearing a yellow snow coat.  The sky is blue behind the snowboarder in the sky.  The snowboard the person is using is green, white and black.  The snowboarder is wearing yellow and green gloves.  The snowboarder is also wearing a pair of white and metallic goggles and a blue winter hat.  The person is wearing brown and black pants.\n",
      "Predicted Caption: in this picture there is a man in a red jacket swinging a baseball bat. there is a man standing in the distance behind him. there is a white and red kite on the ground in front of the man.\n",
      "Correct Caption: Two elephants are standing together outside by a concrete wall. One elephant is considerably smaller then the other one. Right by the elephants there is a large amount of bushes and trees with green leafs. The ground is mostly dirt with patches of green grass throughout. On the grass eating there is about a dozen or so large black crows. \n",
      "Predicted Caption: there are two horses standing next to a large green bush. both of them are facing each other over a smaller rock. one of the elephants is looking down the camera. the rock is <UNK> up into the wall. a lot of trees are in\n",
      "Correct Caption: A handle of yellow bananas are on a tree. The tree has dry leaves and green leaves. The tip of bananas are color black.  Some bananas have black and yellow peels. The bananas has small brown spots on the peel. Sunshine is on some bananas.  Behind the handle of bananas there are branches with green leaves. \n",
      "Predicted Caption: a bunch of apples are sitting in a pile. the apples are half yellow half red. the stems are very long. there are a lot of apples with spots on them. some of the apples are upside down. the apples are very dirty.\n",
      "Correct Caption: A soft drink bottle and a vase of flowers are on a tabletop. There is about one-fourth of the cola-colored drink left in the bottle. The vase has pink carnations and another the of pink flowers in it. There is another table against the wall behind the one in the foreground. That table has a salt shaker on it. There are two red chairs in front of it. Both tables are covered with turquoise plastic tablecloths. Hanging on the wall is a decorative Mexican sombrero.\n",
      "Predicted Caption: there is a white toilet on top of brown cement. there are blue flowers in the bathroom. there is a white toilet next to the toilet. there is a white towel draped over the side of the toilet.\n",
      "Correct Caption: This photo was taken in the kitchen. The photo was taken in the daytime. There are three lights hanging from the ceiling. There is a long marble counter in the middle with wood cabinets a silver dishwasher and a double sink on the left. There is a bowl on apples on that long counter. On the left there is a silver stove in the middle with two woos cabinet units on each side. Above the stove is more cabinets. The walls are painted yellow and the door and trimming is white. On the right there are two windows.\n",
      "Predicted Caption: a kitchen with white cabinets on it. there is a black stove with a picture hanging above it. there is a white sink.\n",
      "Correct Caption: A young man is on one knee on his long skateboard. He is riding his skateboard down a empty city road. He is going at a fast speed because the photo is blurry. The sun is peaking out, but it is lower in the sky. Therefore my guess is it is sunset and its late on in the evening. You can also see blurry trees with green leafs on them. \n",
      "Predicted Caption: the image is of a man and a woman.   the man is wearing a black shirt with black pants.   the man has his hand on the board and holding the handle of his board.   the man is wearing an orange and white shirt\n",
      "Correct Caption: An Asian baby is laying on the floor. There is a blue cellphone in front of the baby. The baby appears to be reaching for the cellphone. The floor is hardwood. There is a rug underneath the baby. Beside the baby is a stuffed animal and train toy. The stuffed animal is orange. The baby is wearing a plaid onesy. There is a reflection of the stuffed animal in the hardwood floor.\n",
      "Predicted Caption: there are two young girls laying on the grass. the baby is wearing a pink shirt. the shirt is a little bit of the same color. the smaller of the four legs is a light brown color. the smaller three girls are all white.\n",
      "Correct Caption: Four men are on a grass field playing soccer in red uniforms. They are running towards the right side, the man in front closest to the ball, his foot resting right next to it. The three other man are racing towards the man with the ball. In teh distance is a group of trees, some pine trees, some bear trees with no leaves on them.\n",
      "Predicted Caption: three kids are outside playing soccer. they all have on green jerseys and different color shorts. there is a black net to the right of the frisbee. a little brown frisbee is in the air. a guy and girl are playing the frisbee. the\n",
      "Correct Caption: The top of a tower with the symbol of David is on the very top point.  An ornate tower has a clock on two sides.  The clocks read 11:58 and the numbers are gold, roman numerals.  The hands of the clock are golden.  An opening above the clock are on all sides.  A bell appears to be in the star of David.  The background is a beautiful, blue sky with no clouds to be seen.\n",
      "Predicted Caption: a tall brick building has two large clocks on the side of it.   the bricks of the building are white , grey and <UNK>.   the front two of the clocks are yellow with black writing on the top.   the bricks on the top\n",
      "Correct Caption: Two men are sitting on a bench. The bench is in front of a building with glass pane windows for walls. There is a drawing of a tree on the wall in the building. One of the men on the bench is sitting on the back of the of the bench with feet on the seat. He has on a tan shirt and tan pant and is talking on the phone. The other man is sitting on the bench seat and wearing a blue shirt with a design and a pair of short pants. There are two rolling suit cases sitting in front of the bench, one is lime green and the other is blue. \n",
      "Predicted Caption: a man is sitting on a white bench. he is wearing a gray hat on his head. there is a large blue <UNK> behind the man. the man is wearing dark sunglasses. there is a wall behind the man with the blue jeans.\n",
      "Correct Caption: A large black dog stands on a field of lush green grass. There is another white dog standing to the left of the black dog. There are sheep behind the two dogs on the field. There is a forest of lush green leafy green trees behind the sheep. There are green plants in front of the two dogs. There is a brown tree trunk sticking out of the ground in front of the forest of green trees.\n",
      "Predicted Caption: animals are in a field. the field is made of really dry grass and is growing. next to the sheep are two sheep. one of the animals is white. the other sheep is white. they are standing on a hill.\n",
      "Correct Caption: A man on a motorcycle races down a race track. The motorcycle rider is wearing a red, white and blue helmet. There are black tires on the motorcycle. There is a white line around the race track. There is a field of green grass behind the motorcycle rider. There is an orange and white sign behind the motorcycle rider. There is metal scaffolding behind the motorcycle rider. \n",
      "Predicted Caption: a motorcyclist is riding a track <UNK> to the right.   he is turning a curve on a paved track.   next to the track is a red and white line.   a black motorcycle is in front of the motorcycle.   green safety line\n",
      "Correct Caption: There are several people outside working and shopping at a booth that looks to be at a flea market. Separating the booths are big colorful sheets,in the front there is a man with a brown table with an arrangement of fruits in front of a brown door.Next to him there is a man standing on top of a brown shelf fixing his merchandise.In the back there are some more stuff but there items aren't as visible.In the middle are a large assortment of shoppers and a man walking a white horse.\n",
      "Predicted Caption: a man is sitting on a bench outside on a sunny day.   a black and white dog is sitting on the bench.   the man is wearing a white t - shirt , tan pants , and a black cap.   a white sign is\n",
      "Correct Caption: A white toilet is in a bathroom. The sit of the bathroom is down. A roll of paper is on the tank of the toilet. A white used paper is on the floor. Behind the toilet there is a grey pipe that is connected to the wall. The wall of the bathroom is white. An empty bottle of soap is on a counter. On front of the counter there is a poster board.\n",
      "Predicted Caption: a white toilet is on the wall. there is a silver railing next to the toilet. there is a white sink next to the toilet and a black box on the wall. the white wall is under the toilet. there is a white box next\n",
      "Correct Caption: A large bear is standing up on all four of it's legs. The bear is a dark color that looks like a dark brown or black. The bear is standing on a large rock. Underneath the rock there is a little water that can be seen. Behind the bear there are a lot of trees that look like a forest. On the ground there is grass but the sunlight is shining on it.\n",
      "Predicted Caption: a large brown bear is standing in the water. it is holding a green plant. there is a large rock around the bear.\n",
      "Correct Caption: The cat is eating cat food out of a round Bowl. The bowl is a light blue color with a brown trim around the edge. The bowl is on the floor. The floor is a light tan color. The floor is made of wood. The cat is a grayish color with black stripes. The pause on the couch all right. Under the cat's neck as white as well.\n",
      "Predicted Caption: there is a cat in a white sink. the cat is a cat. the cat is white with black stripes on it. there is a white keyboard in front of the cat. there is a black lamp behind the cat. there is a plant\n",
      "Correct Caption: A horse is galloping in a meadow of hills.  The horse is chestnut brown with a long black mane and tail.  The meadow is full of long green grass and some shorter yellow, dried grass.  Deep green trees are in the back ground.  the sky is gray and cloudy.  A  black and white tall poll with a red and white top is nearby.\n",
      "Predicted Caption: a sheep is standing on a rock. there are power poles next to the rocks. there is a small field of green grass under the sheep.\n",
      "Correct Caption: The two sandwiches are in the white trays. The white trays are on the left on the table. The white trays in the front are both open so that the sandwiches can be seen. On the left are fries in a red and white container. The fries in the container are curly fries. The curly fries are spilling on the tray. The food is on the black tray. The tray is on the wood table. There is sauce in a white container behind the black tray in the front. The floors are made of wood and the photo was taken at a restaurant.\n",
      "Predicted Caption: this image is a picture of a food sitting on a dark brown counter.   the <UNK> is white and <UNK>.   there is a small piece of food on the top of the plate.   the food is on top of a brown counter top\n",
      "Correct Caption: A mean is on a wooden tray near a small dipping pool on a terrace over looking the sea. On the ray there is a plate of what looks like chicken Parmesan, and two baskets of bread. There is a pat of butter on a plate, sale and pepper shakers, and a sauce of some sort in a small bowl. Near the top there is a pot of tea, and coffee mug. \n",
      "Predicted Caption: this is a picture of a kitchen. the door is made up of gray tile. the refrigerator is white and brown. there are cabinets above the white dish. there is a coffee maker on the counter. the microwave is white. there is a\n",
      "Correct Caption: In this photo there is a bridge with three oval openings straight in the distance to the left. The photo is of a still and calm body of water. Surrounding the body of water is grass and tree filled land. The sun is setting in the sky and it is the evening. There are more trees on the right side of the photo.\n",
      "Predicted Caption: there is a bird on a trash can. it is daytime outside and there are may clouds in the sky. in front of the bird , is a silver fence. next to the fence is the beach. the bird is facing the water and is\n",
      "Correct Caption: A man is sitting indoors holding up a skateboard over his right shoulder. The man has blond hair, glasses, a pink shirt with a snake on it and a set of headphones around  his neck. On the desk next to the man is a monitor, a mouse, a marker, a pencil and a lighter.  There are large fluorescent lights overhead, and a set of windows the far wall.\n",
      "Predicted Caption: a woman is wearing a pink shirt and dark pants. she is standing in front of a television that is turned on. there is a man standing on the other side of the room.\n",
      "Correct Caption: A man and woman sit next to each other in front of a music store. There is a large green cement wall up against the front of the store. There is a yellow fire hydrant in front of the couple in front of the music store. The building the music store is in consist of multiple stories. The sidewalk in front of the music store is gray. There is a tree also in front of the music store. There are bars in the windows of the music store.\n",
      "\n",
      "Predicted Caption: a hydrant is sitting by the grass. the pole is in a parking lot. there is a lot of trees in front of the building. the person is wearing a helmet. the person is wearing black sunglasses. the person is wearing jeans. the\n",
      "Correct Caption: Three men are on a baseball field. The batters holds a black bat over the right shoulder. The batter wears red t-shirt and white pants. The catcher is crouched, and he wears blue top with white pants. Behind the catcher, the umpire is looking the game. People are sitting on the bleachers looking the game.\n",
      "Predicted Caption: a baseball game is in <UNK> and a batter hit the baseball.   there is a catcher and umpire behind the batter.   all three are by home plate.   the field has manicured green <UNK> and brown dirt.   on the dirt is a\n",
      "Correct Caption: A person is on a surfboard. The person wears a wet suit color white, red and black. The man has extended arms. The surfboard is on a white wave.  The wave is foamy and has drops splashing. The man is facing to the left. On the background the sky is blue and has white clouds, The body of water is blue and green. \n",
      "Predicted Caption: the water is in motion on top of a large body of water. the water is mostly cloudy and the <UNK> of the water is white. the water is a greenish color. a man is <UNK> his head on the surfboard trying to <UNK> a big\n",
      "Correct Caption: A man is giving a thumbs up sign as he  rides a skateboard down the side of a busy car filled street.  The man is wearing a large false mustache that covers his mouth and a long beard.  The man is wearing a black hard helmet with a strap, a green backpack, a red t-shirt and brown shorts.  The red t-shirt has write lettering on it and a pair of sea green sneakers with white soles and laces.  Tall buildings, traffic lights, street lights and many cars are in the background.  Another person is standing behind the man and is wearing pink sneakers, and green pants.  The man in the foreground has a black camera bag strapped across his chest and is also wearing a black watch.\n",
      "Predicted Caption: the man on the skateboard is on his skateboard. he is wearing a striped shirt. he is also wearing a gray helmet. the helmet is black with yellow lines. the man is riding the skateboard. the man has black shorts on. the lines\n",
      "Correct Caption: There is a red truck in a parking lot. It is next to a white car. There is a lot of chrome on the truck. there are many cars in the parking lot. There are trees at the end of the parking lot. There are signs in the parking lot. The sun is shining on the car. There is a sidewalk by the truck. There is a big windshield in the truck. There is a building in the background.\n",
      "Predicted Caption: there is a truck parked in the grass. the truck is orange and black. there is a fire truck by the truck. the truck is parked in a parking lot. there is a wall next to the truck that has a door parked. there\n",
      "Correct Caption: Grey and white birds are flying in the air. The sky is blue and have some white clouds. On the background there is brown hills covered with white snow. The bird on the foreground has the wings extended and flies to the right. The bird has a long black beck. The ground is wet and muddy and is covered with stones. \n",
      "Predicted Caption: a body of water with some small waves in it. there is a giant mountain in the water. there are small waves in the water. there are small waves in the water in the blue sky.\n",
      "Correct Caption: A giraffe with lots of spots on it's back. There is a rock wall behind giraffe. There are a bunch of trees off in the distance. There are animal carvings on the walls behind the giraffe. There is a lawn of grass underneath the giraffe. There is a deer on the side of a rock. The giraffe has two long horns. The giraffe has a long neck. The giraffe has long leg. The giraffe has a long and hairy tail.\n",
      "\n",
      "\n",
      "\n",
      "Predicted Caption: a giraffe is looking at the camera. the giraffe is very tall. the spots are very wide. the sun is shining on the giraffe.\n",
      "Correct Caption: There are two people standing on a dock. The dock is wooden and extends out over a lake. The lake is white toward the back, and dark colored in the front. You can see ripples on the water. One person is sitting on the deck. That person is holding a blue umbrella over his or her head, so it not possible to see if the person is male or female. The person is wearing a green shirt and blue jeans. The legs are draped over the edge of the dock. A girl with long hair is standing beside the sitting person. She has long black hair, and we cannot see her face. She is wearing a black jacket and a pink shirt. She is also wearing black pants and black shoes. One of the shoes is partially off her foot. \n",
      "Predicted Caption: a person is sitting on a bench. the bench is black. the person is wearing jeans. there is a lot of water in front of the person. there is a white and red umbrella in the back of the bench.\n",
      "Correct Caption: The picture was taken in black and white. The left side of the sink has dishes on it. The right side of the sink clear. There's a white Basin in the sink. The basement has dishes in it. There's a glass on the left side edge of the sink. The sink fixtures are silver and made of stainless steel. There are glasses and dishes in the basin. The basement in the sink with the dishes and it is white.\n",
      "Predicted Caption: a very clean and neat pizza is on the wall. the stove is black. there is a silver faucet on the stove. there is a pizza on the counter. the rack is made of wood. the reflection of the table is brown.\n",
      "Correct Caption: An exterior scene of a street, presumably in the commercial district of an English speaking part of the world, is seen. In the foreground is parked an SUV done up in camouflage colors of shades of green. It also has an orange sign on top. Behind it is parked a small blue car. Pedestrians can be seen on either side of the road on the wide sidewalks. Several shops line the street, including one with a large red sign with white lettering reading \"WAREHOUSE\" in the near distance. A blue paper and brown bag lie on the road in front of the SUV. There is a tree further back lining the road.\n",
      "Predicted Caption: a city of santa <UNK> bus is on the street outside of a brick and glass office building. the bus is blue with white stripes on the side and red letters on the side. to the right of the bus there is a <UNK> silver line on\n",
      "Correct Caption: People are gathered around together in the living room. Most of the people are sitting down. Only two people are standing. The majority of the room has carpet on the floor. The floor closer to the door is made of hard wood. The hardwood floor is an amber color. The light above the table is turned on.\n",
      "Predicted Caption: people are sitting in a living room of a home. a man and woman are holding white game controllers in their hands. the man is kneeling on a multicolored rug that is on the floor. two other people are sitting behind them on a blue couch\n",
      "Correct Caption: This picture is taken outside on a rainy day. Two women are walking while holding umbrellas above their heads. One woman is wearing a short sleeve blue shirt. She is holding a black umbrella above her head and carrying a white plastic bag in her hand. The other woman is wearing a gray shirt. She is holding a purple umbrella above her head and carrying a polka dot purse on her shoulder. Two other people can be seen in the background, a man and woman, walking under a white umbrella.\n",
      "Predicted Caption: a woman is standing in the rain 's umbrella. she is wearing a pink jacket. the umbrella is blue. she is wearing a black jacket. there is a man in a pink polo shirt standing in front of her. there is a blue wall\n",
      "Correct Caption: Two men are playing a video game together. They have both have two remote controllers in their hands and one of them is swinging one of the controllers. There are a bunch of people behind them that are watching the two young boys play the game. One boy has a light blue tee on and the other boy has a white hat on.\n",
      "Predicted Caption: two people are standing. the man is old. he has gray hair. he is wearing a gray sweater and black pants. beside him is a younger woman with brown hair. in front of them is a projector. under the projector is a black\n",
      "Correct Caption: A woman wearing a white shirt and blue jean pants is holding on to a brown horse that is in front of her. The horse is attached to a carriage that a man is riding in. The man is wearing a suit, shirt tie and black hat on his head. There are people sitting and watching the woman and man with the horse.\n",
      "Predicted Caption: a group of people are walking outside on a sidewalk. the sidewalk has large concrete <UNK> items sitting on a brick wall. the woman on the left is wearing a black jacket and blue jeans. the woman on the left is wearing a pink jacket and\n",
      "Correct Caption: There is a big building behind the trees. The building is wide and white. There is a clock tower in the center. THe clock says it is 4 in the afternoon. There are clocks on two sides of the tower. There are many palm trees in front of the building. There is a tile walkway in front of the trees. The ground is wet. There are steps by the walkway.\n",
      "Predicted Caption: a large red brick building is standing behind some grass. there is a tall tower coming off of the building with a clock on the side of it. there is a black street lamp in front of the building.\n",
      "Correct Caption: A couple using an umbrella walk on a sidewalk near the ocean.  The couple are in front of a parked motorcycle.  To the left of the couple is a person wearing a clear plastic rain poncho over blue jeans and a jacket.  The person is standing in front of a metal fence.  The sidewalk is wet and the sky is overcast.  Two sea birds fly over the ocean above the heads of the people.\n",
      "Predicted Caption: two people are riding beside a horse. the horse is in front is a man and child walking. the man on the phone is wearing a pink shirt and pants. the man on the left is wearing a pink shirt and blue jeans. the man\n",
      "Correct Caption: The instruction was on the table which help with the use of the phone.  It had colorful pages.  It show you have to use the Nokia phone.  The picture of a girl was shown using the phone.  The phone was a basic one.  It was not an android phone.  The color was silver buttons with a black monitor.  All of the pamphlets were shown on the table.\n",
      "Predicted Caption: a bunch of equipment is seen all. there are <UNK> and <UNK>. they are all sitting on top of chocolate colored books. there is a menu on the wall as well.\n",
      "Correct Caption: A plane is flying in the blue sky. The wing of the plane is white. The sky has white clouds. Below the plane are cars in a parking lot. Next to one of the parking lots is a brown building. The brown building has many windows and a white roof. There are trees in between parking lots. The trees are green. \n",
      "Predicted Caption: this is an image of a city scene. the ground is covered in snow. the trees are <UNK>. the snow is white. there is a large metal pole in the snow. the snow is large and black. there is a yellow sign on\n",
      "Correct Caption: A freight train of tanker railcars is sitting on or traveling on a set of tracks.  The tankers are cylindrical, some with a few markings.  Overhead wires used for electric trains are present.  A few signal poles are visible in the foreground.  A few tall buildings are in the distance behind the train. It is a sunny day.\n",
      "Predicted Caption: a train is on the tracks. the train is blue in color. there is a british flag on the side of the train. there is gravel next to the tracks.\n",
      "Correct Caption: The scissor is made of metal. The roll of tape is to the left of the scissor. The tape is clear. The table is covered with a light blue paper. There is writing on the inside ring of the tape. The scissor is pointy at the tip. The paper that is covering the table is a little wrinkled. The letters inside the tape ring are dark colored.\n",
      "Predicted Caption: there is a white and black toilet with a blue flower decoration on the ground. there is a black <UNK> basket on the ground next to it. there is a white <UNK> basket and a <UNK> basket on a shelf next to it. there are <UNK>\n",
      "Correct Caption: The elephant stands in the grass. The elephant is small. The elephant has tusks. The tusks are little. The elephant is grey. The elephant is standing by the water. The water is like a river. The grass is mostly yellow. There is a hill on the other side of the water. The water is still. there is wood in the water. The grass is short. There are trees on the other side of the river. \n",
      "Predicted Caption: there is a large elephant in the field. there are small elephants under the elephant. there is a large body of water behind the elephants. there is weeds around them.\n",
      "Correct Caption: The image is of a bird. The bird is grey and white. It is standing on the ground and looking across the field area. There is nothing on the ground with the bird other than some grass.  The bird has a white chest and a grey throat and head.  It's wings are black and grey with white stripes.  It has black eyes and it's tail feathers are held upright.\n",
      "Predicted Caption: a medium sized bird is standing on a dark dirt ground. the bird looks like a <UNK> but has a white <UNK> and white accents on the tops of the wings. the eyes are black , the beak is black , and the legs are also black\n",
      "Correct Caption: There is a large empty area. The pavement is made up of concrete squares. The pavement is wet. There are shadows on the concrete. Lights are shining in the air and is reflecting on the wet pavement. In the background is a large crane. The sky is overcast and full of gray clouds. On the left in front of the crane is a partially built building.\n",
      "Predicted Caption: two boats are in the water. the photo is in black and white and a giant building is near the edge of the pier. there are a bunch of buildings located in the background. the sun is shining very brightly.\n",
      "Correct Caption: A double image of the same athlete.  The athlete is wearing a purple polo shirt and a ball cap that is covering his eyes.  He has on white shorts and white socks on his feet with white sneakers with some black.  On his left knee, he is wearing a black brace.  He has a white cuff on his left wrist.  Both hands is holding a tennis racquet. \n",
      "Predicted Caption: a man is standing on a tennis court playing tennis. he is wearing a short sleeve shirt , shorts and white shoes. the man is swinging a racket towards a green ball that is soaring towards it. the court is red , green and white in\n",
      "Correct Caption: A baseball player is wearing a red and white uniform and a blue and red helmet. He is holding a black bat in his hands. A catcher is kneeling on the ground in front of him. He is wearing a red and gray uniform and a red helmet with a mask. A white base is on the ground in front of him. The baseball field is brown with green grass on it.\n",
      "Predicted Caption: a baseball player is standing on a baseball field. he is wearing a gray uniform with red writing. his cap is black with a logo on it. the player has a black glove on his left hand. the player wearing a blue helmet on his\n",
      "Correct Caption: A young man is seated looking at someone out of view.  The young man has short dirty blonde hair.  He is eating bread which he is holding in his hand.  He is wearing a grey Hartford sweatshirt.  The writing on the sweatshirt is white and red and also says champions on it.  He is seated at a table that has a beer and a glass sitting on it.  The atmosphere is dark.  There is a dark structure behind the man.  The man is kind of smiling.\n",
      "Predicted Caption: a man is sitting at a table. the man is wearing a suit and a black hat. the man is wearing a striped shirt. there is a glass on the table in front of him.\n",
      "Correct Caption: This is an image of a bay. The bay has a line of boats. The boats are parked. The boats are sail boats. The right boat is black and yellow. There are nets on the mast of the boat. The middle boat is white and black. The left boat is red, white and black. The masts have many different ropes going to the masts.\n",
      "Predicted Caption: there is a large <UNK> of a large boat on the water. the boat is next to the water. there is a person on the water. there are many ropes and wires hanging from the top of the ship. there are many buildings off in\n",
      "Correct Caption: The man lay in the bed and read the black book. He leans his head on the brown head board. The man is wearing a blue tee shirt. The little boy lay next to the man read the blue children's book. He is wearing a green tee shirt.  The man and boy are underneath the whit blanket.  There is a white curtain hanging behind the bed.\n",
      "Predicted Caption: a man is sitting on a white couch. there is a white pillow on top of the man. there is a black lamp behind him. there is a white lamp next to the man.\n",
      "Correct Caption: Three people are outside with farm animals in a large open area.  Two of the three people is females.  They are all three dressed casually in white t-shirts and shorts. The animals they are caring for are goats.  The goats are mostly white with brown or black in their heads.  One goat, however, they are mostly brown with white spots.  The three people are holding a stick trying to herd the goats in the direction they want them to go in. \n",
      "Predicted Caption: a herd of sheep are in a field. there are sheep with <UNK> on it. there are people standing around. there is a crowd of sheep. there is a crowd of sheep off in the distance.\n",
      "Correct Caption: A man is riding a motorcycle through a parking lot. He is wearing pair of tan shorts, a short sleeve black shirt, and a black baseball cap. The motorcycle is red with black decals and slick black tires with white walls. He is driving past a parked Mitsubishi SUV with a man in a green jacket standing next to it. \n",
      "Predicted Caption: a man is carrying a yellow motorcycle. he has glasses on. he has his hand on. the motorcycle has black <UNK> and the number he is wearing is black. behind him , behind the sidewalk he is wearing a black shirt and gray pants.\n",
      "Correct Caption: The truck is parked on the pavement. The pavement is faded in some areas. There is a large white sign with a blue banner across the top at the other end of the pavement. At the front of the photo there is a white and orange U-haul truck. It has large black framed window protruding from the side windows. The window are rolled up and no on sitting in the diver side seat.  \n",
      "Predicted Caption: a large black and white truck is parked on the street. there is a pole that is gray and has a black tail on it. there is a tall building behind the truck.\n",
      "Correct Caption: A woman is taking an item from the oven that was baking. The individual, whom appears to be a Caucasian female, is wearing a knee length denim skirt, with a long sleeved green shirt. In addition, a brown furry dog is watching intently, the individuals actions. The cabinets in the kitchen are a dull white color, and the floor is a medium toned hardwood. \n",
      "Predicted Caption: a woman in a red and white checkered shirt is standing in a kitchen. she is wearing a black and white striped shirt and has brownish blonde hair. there are <UNK> hanging from the ceiling. behind the mirror is a counter with a shelf hanging from\n",
      "Correct Caption: There is a sandwich in a container. The container is a plastic tupperware container. The sandwich is made of untoasted slices of bread. There is a luncheon meat slice between the bread. There are slices of banana in the sandwich as well. On the counter, beside the container, is a banana that has been sliced into seven portions. \n",
      "Predicted Caption: a white bowl is sitting on top of a black table. there is a sandwich on top of the plate. there is a glass on the table behind the plate. there is a white napkin and a fork on the table next to the plate.\n",
      "Correct Caption: Two trees brown tree trunks look as if the bark is peeling. One of the trees have a greenish mold on it. There are leaves of another tree in the background as well as a white wall. A chain link fence is at the bottom of the photo. There is a brown and tan giraffe in the photo that has to small horns on the top of his head. \n",
      "Predicted Caption: a giraffe is looking at the camera. the giraffe is very tall. the spots are very wide. the sun is shining on the giraffe.\n",
      "Correct Caption: A man is holding the string of a flying kite. The man is wearing a gray hat and a gray and light gray jacket. The kite is light green with two eyes, a nose, and mouth and two red spots drawn on it. The kite is a triangle shape and has three green strips hanging from the bottom of the kite. Four other kites can be seen in the sky. The sky is full of white and gray clouds, with a patch of blue. Several trees are seen in the lower portion of the image with a light pole with two lights on it close by.\n",
      "Predicted Caption: the image is of three men flying in the sky. the kites are attached to black and white kites. the one in the front is smaller with a black and white kite. the other kite is black and white with a black border. the hands\n",
      "Correct Caption: A middle aged woman with long, fine, blue hair and dark brown roots holds up her iPhone as if to take a selfie. She has blue eyes, and she is wearing a blue blouse with rolled up sleeves buttoned to the upper arm of the sleeve, breast pockets, and a blue silk tie in multiple shades of blue. She is standing in front of a plain wall. Her hand holding up the phone has a ring on the ring finger. The back of the phone is covered in an abstract melange of the colors white, red and purple, along with blue.\n",
      "Predicted Caption: a woman with light brown hair is wearing a white shirt and has dark blond hair. there is a woman standing in front of her with her head turned to the woman. she is wearing a blue shirt and has on sunglasses.\n",
      "Correct Caption: A man is standing on a grassy field flying a kite in the air. He is wearing a white shirt and gray pants. The kite is blue, green, yellow and orange in color. White strings attached to the kite are being held by the man. Two people are sitting on a blanket near the man. A dog is standing behind the people. Tall trees can be seen at the back of the field. Two tall buildings are standing behind the trees.\n",
      "Predicted Caption: people are standing on a beach flying kites.   a man is standing on the beach.   there are small waves in the water.   the sky is partly cloudy and blue.   there is a kite in the sky.   the sky is\n",
      "Correct Caption: A bus with a Japanese advertisement on the side, is driving down a city street.  The images on the bus are cartoon like dogs and paw prints on the windows.  There is a bus driver on the right hand side of the bus.  A large stone building is behind the road with windows all along the side.  Green leaves are on trees on the sidewalk.\n",
      "Predicted Caption: a bus is going down the road. the bus is white in color. the sky is clear and blue. there are a lot of bright green trees.\n",
      "Correct Caption: A black cat is lying on it's right side and a dead bird is in front of it.  The are laying on a side walk.  The cat has green eyes.  There is a crack the length of the sidewalk in the middle. The bird is brown and white.  It looks like the bird was in the cats mouth because it is wet.  The cat has long pointy ears.\n",
      "Predicted Caption: a black and white cat is standing in front of a window. there is a red and white cat sitting on the shelf in front of the cat. there is a red and white cooler sitting on the floor in front of the cat.\n",
      "Correct Caption: An elderly man stands in the sun looking at the camera.  He is next to some kind of shelter in a park or on a golf course.  Purple columns supporting the top of the structure can be seen.  He wears a purple striped jacket and dark red tie with some white design on it.  He squints from the sun but does not smile.\n",
      "Predicted Caption: a man is standing in the doorway of an umbrella shop. the man is wearing a black shirt and blue pants. both of the man is <UNK>. he is wearing a hat on his head. he also has a hat on. he is standing\n",
      "Correct Caption: It is am image of a very clean bathroom where the towels are neatly stacked and the shower fittings are golden. The tiles are gleaming and everything seems to be spick and span. The wall on the mirror has a black thick frame and the shower has a glass exterior to avoid the water to be spilled outside.\n",
      "Predicted Caption: a bathroom with a white toilet in it. there is a roll of toilet paper on an orange wall. there is a white bath tub with a white towel on the side of it.\n",
      "Correct Caption: There's a glass dish on the tablThe glass plate has Pizza on it. Half of the pizza is gone. The pizza has mushrooms on it. The pizza also have a meat on it. The crust of the pizza is golden brown. There's a spatula on the plate. The spatula is made of metal. The light is reflecting off of the back of the spatula.\n",
      "Predicted Caption: a pizza pie sits on a table , ready to eat. the pie has been sliced and is on a serving circle.   there is a topping on a pan.   the topping is white and black.\n",
      "Correct Caption: A lot of people are skiing on a sunny day at a ski resort. The resort is brown and white and nestled into the valley. In the front there are blue and green umbrellas as if there are stands selling items. On the left of the resort there is a hill with lots of tall pine trees. Toward the camera there is a ski slope which slopes upward on the right. A few people are standing at the bottom of the slope. \n",
      "Predicted Caption: a mountain of snow and evergreen trees.   the evergreen tree 's are beautiful with their green branches covered in the <UNK> white snow.   the people are standing on the ground and watching the <UNK> of the trees.   the skiers are wearing green jackets\n",
      "Correct Caption: Three large brown bears are swimming in a river. The bear on the left has his head tilted to the left and his fur is wet up to the bottom of his ears. The one on the right of him is dry above is shoulders. The final bear is all the way in the water and only a little of his back is showing above the water. There is something in the water behind the first bear that appears to be a rock. Behind there is a green, grassy shore.\n",
      "Predicted Caption: a large brown bear is standing in the water. it is holding a green plant. there is a large rock around the bear.\n",
      "Correct Caption: The trees are weighted down with heavy snow. The snow has turned the evergreen trees white. There is a person skiing down a slope. He is wearing a helmet, a black coat, a pair of black pants, snow boots and skis. He also holding ski poles. He is down the slope through his ski lime green ski goggles that match the lime green on both his ski poles and the tips of his skis. \n",
      "Predicted Caption: a man is skiing down a hill. his ski rod is in the air and there are a bunch of mountains in the distance. the sky is very clear and the clouds are extremely low.\n",
      "Correct Caption: Part of a woman can be seen walking on a sidewalk. A large electrical pole is on the sidewalk in front of her. The sidewalk is near a road. The road has different vehicles on it. Power lines are running through the air across the road. Buildings are sitting on both sides of the road. A row of vehicles are parked in front of a building on the side of the road. A large leafless tree is hovering over the vehicles.\n",
      "Predicted Caption: the image is taken on a street corner. there is a traffic light on the top of the traffic light. the picture is a black and white stop sign with a black arrow on it. the sun is shining very brightly and there are small trees\n",
      "Correct Caption: A cat is sitting on a DVD player. The cat is looking at the small TV. The TV is black. On the screen there are colorful lines. The cat is stripes of light and dark brown. The cat is wearing a collar with circle pendant. There are wires attached to the DVD player. The player is silver. The TV has a SONY logo on it. \n",
      "Predicted Caption: a man is sitting in a black chair. the man is wearing a black suit and a white shirt. there is a black and white cat laying on the man. there is a white picture hanging on the wall. there is a black lamp in\n",
      "Correct Caption: A group of people stand on the top of a hill. There is a lot of grass on the ground. There are some trees as well. There are some people sitting on the ground. There are others standing up. There are no clouds in the sky. There is a lot of sunlight. The sky is blue. The people are talking to each other. there are rocks on the hill. \n",
      "Predicted Caption: a large black and white cow is standing on top of a large gray and black cow.   the cow is standing in the snow.   the cow has a white stripe and a black head and a black head.   there is a mountain behind\n",
      "Correct Caption: A man is standing on a surfboard and holding kite strings. The man is wearing a black and green wet suit. the man's hair is black.  The surfboard is black with white letters and multicolored images on it. The man's feet are on the surfboard and are above the water. The water is gray and white below the man and is moving and somewhat foamy. The water farther away from the man is green with white caps scattered around. There are dark clouds in the blue sky.\n",
      "Predicted Caption: a person on two skis is in the air over what looks to be a ramp. the person is above water , so it appears that they have been water skiing. the person is looking over their left shoulder , and is wearing a red helmet and\n",
      "Correct Caption: Three dirt bikers are riding along a rain covered beach.  They appear to be in a competition, as the bikes have numbers on them.  The bikers are dressed alike - crash helmets, gloves, jackets and pants.  Two bikes are red while the third is blue.  It is a cloudy day.  The edge of the beach is in the background, gentle waves coming ashore.\n",
      "Predicted Caption: two people are riding on their motorcycles. they are in the middle of some vast desert area and are the only two people as well as vehicles seen on the road and in the picture. the sun is shining very brightly and it seems to be a\n",
      "Correct Caption: This is an image of appetizers. The appetizers are arranged on a tray. There is celery on the tray. The celery stalks are cut and are light green. There is cauliflower on the tray. The cauliflower is white. There are silver tongs meant to serve the vegetables with. There are small red, round tomatoes behind the celery.\n",
      "Predicted Caption: there is a <UNK> like vegetables on the table. there are carrots and broccoli on the broccoli. the carrots are green and healthy. the broccoli is on a silver plate. there is a spoon on the plate. the tray is white with a black\n",
      "Correct Caption: A woman and a little boy are sitting in bed looking at two cats.  The woman has glasses on and a long sleeved striped shirt.  The boy has short dark hair and is wearing a blue tshirt with a pattern on it and a red collar.  The two cats are lying on the bed next to eachother.  The cat on the left has white, orange, and black fur.  The cat on the right is black and grey striped.  The bed spread is blue colored and has a celestial pattern of suns and moons.  The headboard is made of wood.  Next to the bed is a nightstand made of wood.  On top of the night stand is a lamp, book, and several small items.  There is also a small table to the right of the picture with items on it.  The wall appears to be white.\n",
      "Predicted Caption: a woman is sitting on a couch and is using a laptop. the laptop is a black and white polar bear. two of the people are wearing white shirts and standing in front of a brown couch. they are playing on a couch. the floor\n",
      "Correct Caption: A black train with a red bumper is either pulling into or out of the station. A large amount of smoke is coming from the engine and obscured the rest of the train. Beside the engine is a small green building with windows on the side beside the train. There is a set of stairs leading to the door on the green building. The railings beside the stairs have been painted white. To the right of the green building is a brick building. The background are bare trees. The sky is a white color.\n",
      "Predicted Caption: the image is of a train station area where a train is driving on the right side of the tracks. there is a sign with yellow background that has a black colored number 4 on its triangular shape point. the train is blue and yellow in color\n",
      "Correct Caption: This is a photo of a dessert. The dessert is a cake that is brow and white and is sliced into triangles. The brown slices are chocolate and are powdered. The white slices are sugar powdered. The cake is on a white plate. The table under the plate is white and plain as well. There are speckles of brown powder on the cake on the edge of the plate.\n",
      "Predicted Caption: this is an image of a table. the food appears to be an asian style. the egg is white with a brown trim. the green banana has black handles on it. the green vegetables are <UNK> on top of a white plate. the cake\n",
      "Correct Caption: A laptop and a desktop monitor are on a desk.  Both the laptop and monitor are powered on.  The room is dark except for a lone desk lamp emitting a small yellow light.  A black keyboard is on the white desk .  the desk lamp is behind a magazine which has a black mouse on top of it.  The walls in the room are plain and light colored.\n",
      "Predicted Caption: there is a wooden desk with a computer monitor on it. there is a brown laptop sitting next to it. there is a white keyboard in front of the computer. there is a black keyboard next to the chair.\n",
      "Correct Caption: The image is a portrait of a man. The man is wearing a gray suit jacket. The shirt is blue. He is wearing a patterned necktie. The man has grey and brown hair. He is smiling at the camera. The man is wearing eyeglasses. On his finger, there are two rings. The man is standing behind a blue leather chair. The background is gray.\n",
      "Predicted Caption: a man is standing in front of a man that has a green and red ribbon on it. there is a white and brown dog on the counter. the man is wearing a blue shirt and has curly hair.\n",
      "Correct Caption: The water is blue, but there a a lot of seaweed floating in the background. There is a dog, or what seems to be a dog, swimming in the water toward the wave. The wave has white suds spraying into the air. There is is surfer surfing the wave. The surfer is wearing a black wet suit. He standing with is knees slightly bent and his arms extended out.\n",
      "Predicted Caption: a man in a black wet suit is on a surfboard riding a big wave in the ocean. he is balanced on the board so that he can ride the wave to the shore without falling off. the expression on his face is shows how much he\n",
      "Correct Caption: Two giraffes are standing on a very dirt covered area. There are small white rocks scattered across the dirt terrain. There are many trees off in the distance and the sky is grey. One giraffe is looking at an animal that is next to a bare gray tree. Both giraffes have brown spots and long necks. The trees in the distance are brown and green.\n",
      "Predicted Caption: there are two giraffes in this image. the giraffes are standing next to one another. there are green bushes behind the giraffes. there are many buildings in this picture. the clouds in the sky are white and the sky is blue. there are boats\n",
      "Correct Caption: A plate of food is on the table. The plate is white and round. The light is reflecting off of the plate. The plate has food on it. There is a sandwich and there are french fries to the right of the sandwich. The sandwich has cheese on it. The sandwich is also a hot dog. The french fries have salt on them. To the right of the plate that is a small container of catch-up. The ketchup is red.\n",
      "Predicted Caption: food is on top of a white plate. there is a sandwich that has cooked onions , meat and green peppers in between two slices of <UNK> white bread. there is a white bowl of red sauce on the plate near the plate and plate. there\n",
      "Correct Caption: A baseball player is holding a brown bat in his hands. He is wearing a blue and white uniform and a blue helmet. A white base is sitting on the ground in front of him. The field has green grass, brown dirt, and white painted lines on it. Three people can be seen sitting in a dug out watching the man play baseball.\n",
      "Predicted Caption: a baseball player is standing on a baseball field. he is wearing a gray uniform with red writing. his cap is black with a logo on it. he has on a black helmet and gloves. he is holding a white baseball glove on his hand\n",
      "Correct Caption: A small giraffe is looking to the right inside of a pen.  The pen appears to have an Egyptian theme.  There are two egyptian statues sitting on top of a stone seat.  The bottom of the stone seat has hand painted pictures of people and animals.  The seat is grey. To the right of the statues are egyptian style pictures on the wall.  To the left of the statues is an out crop of grey rocks.  The giraffe is brown and white with spots.  The ground is covered in dirt with small sections of green grass peeking through.  To the right of the giraffe is a tree.  The pen is surrounded by a black fence.  The fence has poles and three wires between each post.\n",
      "Predicted Caption: a giraffe is standing in the middle of a zoo display. it is looking towards the east. there are two zebras on the right side of the image. there are two striped leaves on the wall. one giraffe is facing left forward and its head\n",
      "Correct Caption: This image is of a two store commercial building site.On the top,there are two stores that have green awning above them,the left one is Fleet and there it houses a green atm machine.The building on the left is The Java Stop,you can see that it has several beverages in the inside and the glass is covered with white letter.On the outside there are several railings The bottom is similar but both spaces are Bertucci's and on the outside of the rails is snow and bushes with snow on top of them.\n",
      "Predicted Caption: there is a sign next to the road. the sign on the top is a <UNK> red color. the sign is on a silver pole. the sign is black and white. the letters on the sign is white. there is an arrow pointing to\n",
      "Correct Caption: A man in a brown shirt, blue jeans and white sneakers is walking on the hardwood floor of a bicycle shop. Behind him on the walls are bicycle tires on a rack and three bicycles on their kickstands on the ground. In front of him are closed cardboard boxes and sporting shirts on hangers. A fitting room is directly ahead of him.\n",
      "Predicted Caption: people are standing outside in a wooded area. a man is standing in front of a door that is in front of the window. he is wearing a blue and white jacket. a black and gray striped bag and dark pants is sitting on the back\n",
      "Correct Caption: A group of people are sitting at a long table inside of a restaurant. The table is covered with a red tablecloth. There are white plates, coffee mugs, cutlery and other items on the table. Three long blue poles are standing near the table in the room. The door of the building is white. There are windows on the side of the building. \n",
      "Predicted Caption: the image is of a birthday party being held in a <UNK> station.   she is wearing a black <UNK> with a white collared shirt underneath.   she has light brown hair that is pulled back into a pony pattern.   she is wearing a white\n",
      "Correct Caption: The beach is full of many people. A lot of the people are laying down enjoying the sun. Even more people are walking and swimming in the blue ocean water. The sky is crystal clear blue and free from any clouds. You can't see the sun but you can tell it is a sunny beautiful weather kind of day. Besides the sand you can see a green grassy area with trees.\n",
      "Predicted Caption: the sun is setting and it is giving pink tint to the sky although the sky is very clear. in the distance over the water there is a rather large ship. at the bottom there are houses and houses. on the ground there are mountains that\n",
      "Correct Caption: The sky is overcast and grey. There is a horse standing out amongst the cars. There's a green car to the right of the horse. The horse is pulling a black cart. A man is leaning over the cart. The horses standing still. The horse is a white cream color. The horses standing in front of a short tan building. The building has a green roof.\n",
      "Predicted Caption: a large truck is parked on the street. the truck has an end of a window on the front. there are two cars parked on the street in front of the truck. there is a truck parked behind the truck. there is a blue sky\n",
      "Correct Caption: On top of a dark brown wood table sits a small plate with a dessert.  The plate is square shaped and white.  The edges come up and the center is lower than the sides.  On top of the plate is a small piece of cake.  The cake has a small orange decoration on top of it and a white frosting.  The cake is brown colored with darker brown at the top and the bottom of the cake.  A silver fork is resting upwards on the left bottom side of the white plate.  There is light focused on the back of the table and is shining onto the plate.  There are crumbs of the cake stuck to the white frosting.  \n",
      "Predicted Caption: a white plate sits on a cherry wood table near a clear glass with brown liquid. under that glass is a white napkin. on the plate are two toasted bread with grill marks on top and another bread underneath. a <UNK> pickle sits next to the\n",
      "Correct Caption: An airplane starts to fly away. The plane is mostly white. The tail is blue and red. There is writing on the side. There are wheels on the bottom. There is fencing on the side. There are buildings in the distance. There are many trees around the buildings. There are poles in the distance. The sky is blue. there are no clouds. \n",
      "Predicted Caption: a plane is taking off on the runway. the plane is blue in color with a white underside and red letters and logo. the letters on the plane say <UNK> and the logo looks like a <UNK> face with only one eye. the grass around the\n",
      "Correct Caption: While one giraffe is seen making it's way through the trees and bushes, the two giraffes in the forefront prefer to stay in the grass covered clearing.  The temperatures look to be quite high from the look of the haze that hangs in the sky and forms a veil over the distant hills. These giraffes have spots of chestnut brown with ragged edges, while their unsides are predominately white.\n",
      "Predicted Caption: there are two giraffes in this image. the giraffes are standing next to one another. there are green bushes behind the giraffes. there are many buildings in front of the buildings. there are many clouds in the sky. the sky is sunny. there\n",
      "Correct Caption: This was captured at tennis match.Only one side of the court is visible and on it is a male player with a blue head and wristband, a blue shirt,black shorts,a white bandage on his knee,white socks,and black and white shoes.In his hand,he is holding a black and yellow tennis racket.He is also standing on top of green court with the word Gerfor painted on it in white.Behind him is a man sitting on top of something sponsored by Adidas  with a wall next to him from other companies.The wall separates the crowd of people who range from young women,young males, and adult males who are waiting for the other person to serve.\n",
      "Predicted Caption: a man is playing tennis on a tennis court. he is wearing a blue and white shirt , brown shorts , gray socks and plaid shoes. a black and white net is on his head. a large chain link fence can be seen behind the man\n",
      "Correct Caption: In the picture there is a small dog. The small dog is off white in color. The dog is looking straight at the camera. The dog has a fluffy coat of hair. The dog looks happy in the picture. The dog is laying on a dog bed. The dog bed is tan and brown in color. The background in the picture is black. The dog has a small fuzzy tail.\n",
      "Predicted Caption: a small tan fluffy dog has pointed ears. his nose is black as well as his eyes. the dog has long hair that is light tan. behind the dog is a tan blurry <UNK>.\n",
      "Correct Caption: A train in on a set of tracks. The train is white with a red nose. There is 2 reds stripes on the side of the truck. There are 3 letters in capital cursive near the front of the train. There are several utility lines above the train. The trains front is in the shape of a bullet.  There is multicolored gravel om the train tracks. The day is cloudy and overcast. \n",
      "Predicted Caption: a train is on the tracks. the train is blue in color. there is a british flag on the side of the train. there is gravel next to the tracks.\n",
      "Correct Caption: A black and white cat reclines on a bed.  The cat's eyes are gold.  The left ear of the cat is turned back.  The cat's right back leg is up.  The cat's whiskers are white.  The cat is resting on a light grey comforter.  Behind the cat is a person reading a book in bed.  Only one hand of the person can be seen.  The headboard of the bed is a light red colored wood.\n",
      "Predicted Caption: a black cat lays <UNK> on the inside of a suitcase lid. the suitcase is grey and lies open on top of a bed. the bed has white sheets , a grey blanket , and a red wooden headboard. the cat 's yellow eyes look away\n",
      "Correct Caption: A round plate with food is sitting on a wooden surface. A square piece of flat bread is on the plate. On top of the bread is an orange sauce. A pile of greens are on top of the bread. A fork is sitting face down on the plate. Next to the plate is 2 pieces of sliced lemon. There are several seeds in the lemons pieces. There is a coffee cup of next to the plate and the lemons. The cup is filled with a brown beverage.\n",
      "Predicted Caption: a plate of food is on the table. sliced sausage are four. the egg is cooked. there are green sliced apples. the plate is white. beside the other plate is another white plate. the second plate is empty. the utensils are silver\n",
      "Correct Caption: A blue sky is filled with white clouds. There is a street pole taking up most of the image. On the top of it is a green rectangular street sign with Naples written on it in white writing. Below that street sign is another green street sign with Chrysolite Ave written on it in white. Below that sign is the top of a red Stop sign outlined in white.\n",
      "Predicted Caption: a clear blue sky with one <UNK> of cloud in the lower corner near the street signs. street signs hung on a long , gray , pole with tiny holes running down both sides. the signs were in a cross shape from each other pointing to the\n",
      "Correct Caption: A boy is holding on the the handle of a kite while strapped to a wake board. The boy is in mid air. His legs are bent. The wake board is teal blue. The boy is in the air over a large body of water. The water is dark blue. There is water spray coming from the boy and the board.The handle the boy is holding is brown with 3 lines connected to it.\n",
      "Predicted Caption: a person is <UNK> on a wave. the board is black in color. the man has a black hat on. the man has a white shirt on.\n",
      "Correct Caption: A large boat is docked next to a pier. The boat is white. There is a blue cover over part of the boat. There is a blue line attached to the pole. There are several birds sitting on different parts of the pier. The birds are gray and white. Th posts on the pier are discolored. There are other boats at the dock.\n",
      "Predicted Caption: this is an image of a bird. the bird is a bird. the bird is white. the duck is flying. the duck has its wings spread open. the bird has long black legs. the duck is flying. the water is in the\n",
      "Correct Caption: The boat is on the ocean. The boat is a sailboat. The sale is being pushed by the wind. The water and slightly calm and moving along slowly. The sky is partly cloudy but mostly bluish. There are people on the sailboat. The sailboat is the only boat on the water. There's a lighthouse in the far distance. The lighthouse is very tall. There is no lighthouse on at the Lighthouse.\n",
      "Predicted Caption: a large white and blue sail boat sits on the shore of a large body of water. another similar boat is on the shore in the background. the ground is covered in sand and dirt , and there are deep tracks to the side of the boat\n",
      "Correct Caption: A one car silver, white, and red train is on a track bordered with telephone poles strung with cables. To the left of the track is a dry, plowed field edged with green and yellow grass, and to the right of the tracks are small green bushes and a trees, then a large dry field that is not plowed, and then another field which long strips of green plats growing. Behind the field with the plants sits an expanse of more trees, some dry areas, and a forested mountain range can be seen in the distance. The day is sunny and bright.\n",
      "Predicted Caption: a passenger truck is parked on a dirt road in a rural or <UNK> area.   the truck has the word \" <UNK> \" on the side in black lettering.   the truck has black writing and a white stripe on the side.   the truck\n",
      "Correct Caption: Two small toddler boys are standing outside on a dirt and grass field. Several blow up amusement structures can be seen. One is a boucy one with a yellow front and another looks like a huge yellow and red blow up slide. One of the toddlers, who is dressed in an orange shirt and jeans, is holding a tennis racket in one hand, and a red and yellow ball in the other. Another racket lies on the ground next to him. An adult wearing white shorts and shirt stands near the toddlers, and another child and adult can be seen behind him.\n",
      "Predicted Caption: three people are standing outside of a glass. they are wearing sunglasses and a white <UNK> shirt. one woman is wearing a blue shirt and holding a hot dog in her hand.\n",
      "Correct Caption: Two older women are sitting side by side on a park bench overlooking a body of water.  The woman on the right has grey hair and is wearing a white shirt, blue pants and sunglasses. The woman on the left has a sleeveless top and is wearing a straw hat. Flowers are planted in a stone structure to the left of the women  There are two boats docked in the water nearby. Across the water is a very large building and some smaller ones, as well as other boats.\n",
      "Predicted Caption: a woman is standing under an umbrella. she is standing in front of a large body of water. the water is taking place in an overcast day. the woman is holding a video phone on her ear. the woman is wearing a long sleeve shirt\n",
      "Correct Caption: The man is walking at the sidewalk. He is carrying a big umbrella. The umbrella is green. The handle of the umbrella is brown. The man is wearing a suit. The suit jacket is black. The fence is blue. There is graffiti on the fence. The sidewalk is paved and gray. The shirt is white. The sky is white.\n",
      "Predicted Caption: the image is of a small statue of a skateboarder holding a phone with a cat on it. the cat is mostly white. the dog is black and white and has a long tail. the person is carrying a white plastic bag , which is pink\n",
      "Correct Caption: A man in blue shorts and a white shirt is running on a tennis court getting ready to hit a tennis ball coming at him. The sunny sky is casting shadows on the court of his body. Around him is a tall brown post fence enclosing the court. Opposite the fence is a small white house with a black car parked in front of it.\n",
      "Predicted Caption: a man is skateboarding. he has on a white tank top , black shorts , and blue shoes. he is on a <UNK> <UNK>. there are a couple of people behind him.\n",
      "Correct Caption: A dog is seen very closely to the camera and through a clear object. The dog is a golden brown color and is standing in what appears to be the kitchen. The floor of the room is tiled with a beige and darker beige design going diagonally across the tiles. There is a wooden cabinet located directly behind the tail of the dog.\n",
      "Predicted Caption: a large brown dog is sitting on a dark gray couch. the dog is wearing a red collar. there is a red and white scarf on the neck of the dog.\n",
      "Correct Caption: A herd of sheep stand in a field. There is a white fence around the herd of sheep. There is green grass and dirt under the sheep. There is a large crowd of people standing around the fence near the sheep. There is a large white building off in the distance in front of the sheep. There are trees in front of the large white building.\n",
      "Predicted Caption: a group of people are sitting outside on a red dirt walkway.   a set of people are on the sidewalk next to a baby stroller.   there is a woman sitting on the sidewalk in a tall chair.   a woman is standing on the\n",
      "Correct Caption: The clear blue sky in the background reflects off the vibrant white snow. There is a man skiing on the snow. He is wearing a yellow backpack on his back. He has a grey vest over a black long sleeve shirt with black long pants. He snow shoes are yellow and match his yellow skis. He is also wearing a helmet and goggles. The skiers shadow is cast under him on the snow. \n",
      "Predicted Caption: a person is standing on skis and holding ski poles. the person is wearing a red and black jacket and grey pants. his jacket is black and his pants are black. the ground is covered in snow and there are trees on the sides of the\n",
      "Correct Caption: This photo is taken inside of a bathroom. A large window is sitting above a tub. There is a gray shower rod hanging on a wall above the tub. A white toilet is sitting beside a sink in the bathroom. A silver faucet is hanging over the sink. There is a mirror hanging on a wall above the sink. Part of a light can be seen hanging over the mirror.\n",
      "Predicted Caption: this is a very bright bathroom with a shower , a tub , and a vanity shown. the tub is ceramic and white. the shower is stone with a clear door. the vanity is a light brown wood with a white counter top. there is\n",
      "Correct Caption: The brown bear stands in the yard covered in snow. The bear has a camera on its neck.  The house behind the bear has snow on its roof.  The house has two large windows in the front of it.  There is a large shrub covered in snow in front of the window.  The house has glass windows around the front door.\n",
      "Predicted Caption: a large black and white bird is standing on top of a large gray <UNK>. the truck is black and has a black <UNK> around the bottom of it. the grass also has yellow lines painted on it. there are two small black wheels on the\n",
      "Correct Caption: A baseball player is holding a bat in his hand while standing on a baseball field. He is wearing a black helmet and a gray and black uniform. A catcher dressed in red and white is squatting behind the player. People are sitting in stands watching the baseball game. A wall separates the field from the people.\n",
      "Predicted Caption: a baseball player is standing on a baseball field. he is wearing a gray uniform with red writing. his cap is black with a logo on it. the player has a black glove on his left hand. the player wearing a blue helmet on his\n",
      "Correct Caption: A white polar bear is sleeping on the grass. A grass stain blemished the center of his forehead. His black eyes are closed. His black snout is still. His fur has flecks of beige, brown and black in it. Beneath his is green grass with bare patches of dirt in the bald spots. A huge front paw tramps down on weeds.\n",
      "Predicted Caption: a white polar bear is <UNK>. the bear has huge paws that are tucked together up under his chin. the eyes are <UNK>. his ears are to the back of the polar bear.  \n",
      "Correct Caption: A white refrigerator is against a wall in a kitchen. Someone has positioned two magnets to appear as eyes on the refrigerator so the appliance appears to have a face. There are two white handles in between the magnets to appear as if they are the nose on the  refrigerator. The refrigerator has a bottom drawer for the freezer and the handle is curved upwards. The refrigerator appears to have eyes, a nose, and a smiling mouth. \n",
      "Predicted Caption: a white microwave is hanging over a white circle in a kitchen. the cabinets of the kitchen are wooden and brown. there is a white refrigerator sitting under another cabinet in the kitchen. a white microwave is sitting inside of a building. a black refrigerator\n",
      "Correct Caption: This picture is taken inside of a building. People are shopping at different booths and tables that are set up in the building. A man is wearing a black leather jacket and blue jean pants. A clock is hanging from a ceiling above his head. There is a tall brown and white pole standing near the clock in the room.\n",
      "Predicted Caption: a group of people are standing around a luggage belt waiting for their luggage. the belt is silver and on top is a large white blue and red sign. there are many bags on the belt. there are many bags behind the bags.\n",
      "Correct Caption: This picture is taken inside of a kitchen. A white door is leading into the kitchen. A rug is on the floor in front of the door. The kitchen has white cabinets with black counter tops. A white sink drops inside of the kitchen. White tiles are on a wall behind the sink. A window is hanging above the sink with brown curtains on top of it.\n",
      "Predicted Caption: the kitchen is very clean. the stove is white. the stove is a silver metal. the cabinets in the room are a <UNK>. the stove is white. the wall in the kitchen is made of wood. the stove is a silver color.\n",
      "Correct Caption: This image is taken outside of a busy downtown city streets.On the left,there are a bunch of buildings,street lights,birds,peoples,and red and black banners swinging from the pole.On the other side,the exact same thing is visible but there stores are different.The middle of the road has three cards and a big silver charter bus on the side of the road waiting at a red light.\n",
      "Predicted Caption: the image is of a city street. there is a sign on the pole that says the same way as you can seen seen from the road. it is gray and white in color with a yellow front and red letters on it. the main focus\n",
      "Correct Caption: A bench is sitting on a walkway near a tall pole. A motorcycle is sitting on the other side of the pole. A body of water is seen in front of the bench, pole and motorcycle. Boats are sitting on the water. Different color flags are standing near the boats. Homes can be seen sitting on the other side of the water. Green trees surround the homes.\n",
      "Predicted Caption: there is a large oil ship sitting in the water. the ship is black and white. there is a white bird on the ground behind the person. there are small waves in the water around the boat.\n",
      "Correct Caption: A tall, rusty metal fence with bobbed wire is enclosing a lot.The lot has many small weeds growing and there is a cage inside this lot that encloses two trucks and there are some tall buildings behind this small cage. Trash is lying on the sidewalk in front of the fence. There are two manholes on the sidewalk and the sidewalk appears to be cracked. There is also a sign posted on the bobbed fence.\n",
      "Predicted Caption: a brown building with a white trailer on it is in front of a tall black and white building. there is a red and white cooler on the ground next to the signs. there is a pole that is black and has a yellow stripe on it\n",
      "Correct Caption: The sky is filled with fluffy white clouds. There are airplanes parked on the tarmac. The closest airplane is white and has a blue tail with gold world. The next plane is also white, however it has a blue and red tail and a blue engine. There are also dark brown or black trucks on the tarmac. The truck have yellow stairs placed at the back of the truck.  \n",
      "Predicted Caption: a large white airplane with two propellers on it. the plane is sitting on the street. there is a white building behind the airplane. there is grass behind the airplane.\n",
      "Correct Caption: Two men can be seen standing on a tarmac under an airplane. Both of the men are wearing green reflective vests. The plane has over ten small windows on the side of it. The airplane is blue, black and white in color. There is a large propeller on one of the wings of the plane. The sky above the tarmac is blue with numerous white clouds in them.\n",
      "Predicted Caption: a large white airplane with two propellers on it. the plane is sitting on the street. there is a person sitting on the ground next to the plane.\n",
      "Correct Caption: A man with dark hair and wearing a black wet suit is standing on a yellow surfboard edged with lime green. He is riding on a large wave with a with lots of white foamy water filling the back of the wave. He is standing very close to the edge of the surfboard, and is tilting. The ocean water is a pale green color with lots of small white cresting waves surrounding the surfer.\n",
      "Predicted Caption: a man is surfing in the ocean. the man is wearing a wetsuit. the wet suit is black with yellow <UNK> writing on it. the surfboard is white with black writing on it. the man is holding his arms out. the man is holding\n",
      "Correct Caption: The room is dimly lit. The door is closed. There are two windows by the door. The windows are on the left side of the door. The door is white. The door has a chain on it. The chain is black. There are two lights on in the room. There is light coming through the windows. The floor by the door is made of square tiles. The square tiles are two different colors.\n",
      "Predicted Caption: a room is empty of any furniture. there is a large window with a silver <UNK>. there is a clock on the wall adjacent to the cupboards. there are many windows on the shelves. there is a clock on the wall , and there are\n",
      "Correct Caption: The are two giraffes in the forest. One giraffe is smaller than the other. The giraffes have horns. Their ears are pointy and white. They have brown spots. Their necks are long. Their legs are long. The end of their tail is black. Behind them are trees and bushes. On the ground is grass. The grass are dry. The face of the giraffes are brown. \n",
      "Predicted Caption: there are two giraffes in this <UNK>.   they are both facing the opposite direction and are almost the same size in height and <UNK>.   the back ground to the <UNK> has green rolling hills and <UNK> of greenery for the giraffes to eat. there\n",
      "Correct Caption: There is a dirt road. Across the dirt road there is green trees that are tall and some have fallen onto the ground. In the fore forefront of the photo there are two giraffes. They are tan and brown have they both have two small horns on top of their head. They are playing in the sand. There is no vegetation on this side of the road. \n",
      "Predicted Caption: there are two giraffes in this image. the giraffes are standing next to one another. there are green bushes behind the giraffes. there are many buildings in this picture. the clouds in the sky are white and the sky is blue. there are boats\n",
      "Correct Caption: The photo was taken outdoors in a dirt field. On the field are a group of goat. The housing structures are behind the animals. The sky is clear in the picture. There are also a few chicken on the field. The buildings are made of clay. The buildings on the right are dome shaped. The picture was taken in the day time.\n",
      "Predicted Caption: there are elephants in the image. some are white and some are laying down in the grass. there are trees behind the sheep. there is grass and small bushes in the back.\n",
      "Correct Caption: In the field are three elephants. The elephant in the middle is large and there are two smaller ones on the sides. The field is grassy as well being filled with small bushes. There are two small white birds in the picture. The grass is dark green. The elephants are looking to the side. The sky is clear and is gray in color. The picture was taken in the day.\n",
      "Predicted Caption: the elephant was working in a grassy place.   he <UNK> to be alone.   there are n't many trees.   the bushes seem to be somewhat high.   it is probably at a zoo because there are not any other elephant around. it\n",
      "Correct Caption: This is an outdoor image of a bird sitting on a cobblestone balcony.The bird is small,he has a long sharp pointy black beak,grey feathers,and a blue tail with white lines.Next to he bird is beige crumpled up rocks that are going down a hill.On the side of the rocks,there is a small patch of grass that appears to be about eight inches long.\n",
      "Predicted Caption: a lone bird is perched on a thin branch. the bird is looking forward. the bird has an <UNK> beak. the stomach of the bird is fluffy and fat.\n",
      "Correct Caption: The sky is blue and clear. There is a building that looks like a castle. The building has three peaks at the top. There is a brown fence surrounding the building which is mounted in in a rock wall. The building on top of a hill. The hill is mostly dirt, but has some patches of grass. There is a black clock with a white face black numbers and black clock hands. \n",
      "Predicted Caption: a large black tower sits next to several other buildings. there are colorful flags hanging in front of the building. there is a clock on the side of the tower.\n",
      "Correct Caption: A crowd is sitting in red chairs at a tennis match. There is a green wall separating the crowd and the tennis player. The tennis player is wearing a white shirt with black stripe and black design as well as white shorts with a black line.He has white, black and red sneakers as well as white socks with a black logo. He is wearing white wrist bands on his wrist as he about to serve the ball. His tennis racket red and black with a white handle. He is playing on a brown, sandy ground with white lines outlining the court.\n",
      "Predicted Caption: a man is standing on a tennis court playing tennis. he is wearing a short sleeve shirt , white shorts , white headband , and white wristbands on his <UNK>. the man is holding a black racket in his hand. his hair is standing up as\n",
      "Correct Caption: Three men are sitting in a room working on laptops that are on their laps. all of the men are wearing short sleeve shirts. The wall in the room is painted white. There is a black rack with shelves standing in front of the wall. Different objects are sitting on top of two of the shelves. The floor in front of the rack is brown in color.\n",
      "Predicted Caption: there are two people standing in front of a television. they are playing a game and are holding white remotes in their hands. there is a man sitting down next to them.\n",
      "Correct Caption: This is an image of a truck. The truck is for industrial work. The truck is for carrying concrete. The truck has a large white drum on the back. The truck cab is light blue. The truck has large rubber wheels. The wheels are black. The drum on the truck has concrete in it. The truck is on a cracked and damaged gray road. \n",
      "Predicted Caption: a large black and red truck is driving on the street. there is a white truck in front of the truck. there is a black lamp behind the truck.\n",
      "Correct Caption: A white porcelain toilet sits with the lid open on a concrete platform over warped linoleum. The pipes running to the toilet are exposed against the yellow walls. Above the toilet are small square cutouts showing a view of the outside. On the opposite side of the room is a black trash can filled with water with a red plastic pot floating on top of it. A smaller blue waste can is on the floor behind it.\n",
      "Predicted Caption: this is a bathroom stall.   the toilet has no seat , probably because none is <UNK> in the <UNK> of the <UNK>.   rather , two tiled <UNK> are located on either side of the unit , <UNK> to <UNK> the <UNK> to step up and\n",
      "Correct Caption: A white male in blue swimming trunks is on a small surf board. His left arm is stretched out to his side. He is wearing a white band on his wrist. The background is blue and contains text. The word \"Flow\" can be made out. The surfboard appears to be resting on a column of water, jetting up from below .\n",
      "Predicted Caption: there is a man wearing a black shirt and gray shorts. he is standing on top of a white surfboard. there is a large wave in the water behind him. there are clouds in the sky.\n",
      "Correct Caption: A woman's hand is reaching for a smart phone turned on on a white counter. She is wearing a ring on her middle finger and two silver bangle bracelets on her wrist. Next to the phone is a pack of cigarettes with the top open and two cigarettes halfway pulled out. A keyfob and two keys are laying on the pack. Beside that is a tall pilsner glass on a square coaster. The glass is half filled with foamy beer. Lastly is a floral pocketbook with a black strap on its side.\n",
      "Predicted Caption: this is a picture of some scissors. the scissors have black and brown handles. the scissors have metal blades. the blades are silver. the blades are sharp. the hand is holding the scissors. there are colorful signs on each side of the scissors\n",
      "Correct Caption: The woman is holding a banana. The banana is yellow. The woman is wearing a hoodie. The hoodie is dark blue. The woman has blue eyes. The woman is wearing a cap. The cap is green. The woman is wearing a necklace. The woman's mouth is open. The bottom part of the banana is brown. The ceiling is white.\n",
      "Predicted Caption: a little <UNK> with many green food stands in a <UNK>. there are five different pieces of banana stacked on the wall. the one closest to the camera is covered with a black nose. the table is black. there are some white papers on top\n",
      "Correct Caption: This picture is taken outside on a cloudy day. Men, women and children are standing on a platform of a train station. A little boy is wearing a green shirt and blue jean pants. A long black train is sitting on a track near the platform. White smoke is coming out of the front of the train. Electrical lines can be seen running across the air above the train.\n",
      "Predicted Caption: the image is of a train station area where a train is driving on the right side of the tracks. there is a sign with yellow background that has a black colored number 4 on its triangular shape point. the train is blue and yellow in color\n",
      "Correct Caption: This image is of a bathroom. There is a white toilet and sink which are situated next to each other on one wall. There is a window above the toilet which has a board over it. There is a mirror over the sink with an arched shaped to it. An empty toilet roll holder is hanging on the wall to the left of the toilet. There is a dirty rag laid flat under the sink which looks as though it has been placed to catch drips from under the sink. The bathroom door is visible and ajar, it has a brass colored door knob. The flooring is tile, mostly beige but with some accent colors included, and the walls are papered with an orange floral patterned paper.\n",
      "Predicted Caption: this is a bathroom stall.   the toilet has no seat , probably because none is <UNK> in the <UNK> of the <UNK>.   rather , two tiled <UNK> are located on either side of the unit , <UNK> to <UNK> the <UNK> to step up and\n",
      "Correct Caption: A cycling race with seven riders leaning to their right as they cross a street. They are a mixture of men and women and all are wearing cycling shorts and shirts which are covered in advertisements. One shirt clearly shows the word Mexico on the shoulders. They are all wearing cycling helmets and protective glasses. Six of the seven helmets are predominantly white but there is one bright yellow one visible. Behind the racers on the street is a white car with it's headlights on. The leaders of the race are wearing the same style of shirt.\n",
      "Predicted Caption: two people are riding on top of bikes. one of the people is wearing a black jacket and is wearing a black shirt. the motorcycle has a blue back on it. there is grass on the side of the field and on the other side of\n",
      "Correct Caption: This is an image of a lunch. The lunch is rice, meat and vegetables. The vegetables are various. The vegetables are green. There is broccoli on the plate. The rice is in a clump. The rice is white. The meat is cooked well done. The meat is pink and dark brown. There are carrot slices on the plate. The slices are orange.\n",
      "Predicted Caption: a plate of food sits on a table. the table is wooden and is composed of gray slats of wood. the plate is white with a brown sauce. behind the bowls is a white plate with a sandwich on it. there is also a white\n",
      "Correct Caption: Cruise ships are at a port.  The boats are docked by a pier and anchored down.  A small red boat with an umbrella is in the ocean in the foreground.  The cruise ships are large and a pier is surrounded by a metal fence.  Buildings can be seen in the background and have pointed roofs.  The sky is blue and no clouds can be seen.\n",
      "Predicted Caption: a large white and blue sail boat sits on the shore of a large body of water. another similar boat is on the shore in the background. the ground is covered in sand and dirt , and there are deep tracks to the side of the boat\n",
      "Correct Caption: There is a vase on the table. The vase is tan and black. There's a rock to the left side of the face. There are flowers in the vase. The flowers are bright yellow. The flowers have leaves on them. The leaves are thick and green and healthy. The table that the flowers are on has a tablecloth on it. The tablecloth is red white and blue. The tablecloth is red with white lines and a big blue line on it. There are chairs at the table. There are two chairs all together. To the right of the table are two windows. The wall under the windows is green.\n",
      "Predicted Caption: a vase of flowers is on the table. the vase is black. the vase has water in it. the flowers are pink , white and blue. the flowers are <UNK> colored.\n",
      "Correct Caption: A man is sitting at a table in a restaurant. He is wearing a long sleeve brown shirt. The man is looking a gray cellphone that he is holding in his hand. There are clear glasses and white plates on the table, along with a red and white checkered tablecloth. Different picture frames are on walls across from the man. Christmas lights surround some of the frames.\n",
      "Predicted Caption: a man is sitting in front of a table with glasses on it. the table is made of wood. a man is sitting at a table wearing a red shirt and black pants. there is a large window on the wall. a green can is\n",
      "Correct Caption: A woman is holding a tray. The tray is made of wood. On the tray is pizza. There are chopped tomatoes on top of the pizza. The woman is looking on the pizza. The woman is wearing a knitted blue jacket. The pizza has mushroom on it. The cheese is melted on the pizza. Behind the woman is a stove. The stove is white.\n",
      "Predicted Caption: a man is sitting at a table. he is wearing a black shirt , and a striped apron. the table is white in color. a large laptop is sitting on a table in front of the table. four people are sitting at the table.\n",
      "Correct Caption: An old, dirty and rusted white toilet is attached to a wall.  The toilet has red, orange and grey stains inside the bowl.  The seat is covered in grey dirt and the exterior of the toilet has white lumpy drippings on it.  Above the toilet is a white sink bowl with a blue backdrop , two water handles and a faucet.  The wall the toilet and sink are attached to is white with dark marks on it including dirt smudges at the base of the wall.  The floor is a dirt floor.\n",
      "Predicted Caption: a toilet is sitting in a green bowl. the toilet is white and there is a white shelf right above it. there is a <UNK> near the door of the shelf.\n",
      "Correct Caption: A man is in an indoor skateboard and is performing a trick in the air at the top of a ramp. He is doing some variable flip with his board and he is wearing a light blue slate colored shirt, a hat, and some khaki pants with black and white shoes. There are a lot of painted murals and design displays on the wall of the park.\n",
      "Predicted Caption: a room with a lot of debris on the floor such as bottle and leaves.   there is a clock on the ground , the doors are open on the clock and the big numbers on the inside are on.   the train is silver , with\n",
      "Correct Caption: Building has multiple floors. There is a clock tower at the very top. The building is tan and off white with red letter in the front. On the top level there is metal fence that lines the roof. The window is just below the top level and is next to a large half circle display window above the bottom floor. There is glass awning covering the ground floor although the whole ground floor is not visible in the photo. \n",
      "Predicted Caption: a church has a lot of arches on it. the arches are white in color. there is a white building next to the building.\n",
      "Correct Caption: The man standing is looking down. There is someone squatting down next to a motorcycle. The man standing has gray hair. The man is standing by a parked car. The car is white. The mirror on the car is black. There are a bunch of trees in the background. The motorcycle has a big beige bag on yhe back of it.\n",
      "Predicted Caption: a man is carrying a yellow umbrella. there are two white headlights on the front of the motorcycle. there are many cars and buses on the street. one man has his hand in his hand. there is a <UNK> sign that is white on the\n",
      "Correct Caption: This is an outdoor image taken in a wild area that is full of wild life.In the middle there is paved road and on the side there are trees and dead grass on the side.In the middle of the road,there is a large giraffe walking west and behind him,there are three elephants walking across the road.The first on is on the side in the grass,the second is in the road and the third one is on the right in the grass also walking west.\n",
      "Predicted Caption: a giraffe is walking in the middle of a meadow.   the plain is a light brown and white.   the giraffe is standing in the back of the plain.   the grass is green.   there is a tree in the background.  \n",
      "Correct Caption: This is an outdoor image taken of a city street.In the middle of the street,there is a large truck on the side that has a picture of a island on the back with water and a palm tree.To the left of the truck,there is female dressed in all black riding a bicycle and she has a long blond braid going down her back.On the side of the street,there are benches,trees,and people sitting down and walking down the sidewalk.There are also large antique like buildings with several stories.\n",
      "Predicted Caption: the truck is driving down the road. the truck is white. it has yellow stripes on the back of it. there is a white truck in the back of the truck. the truck has blue writing on it. the sky is gray. there\n",
      "Correct Caption: A crowd of people is sitting in a stand watch a man in red and white ski with two ski poles in his hand.  The man has on a hat and the number sixteen in the middle of his shirt, there is also some writing on his shirt.  There is some writing on the wall by the people in the stands.  There is a pole in the middle of the people.\n",
      "Predicted Caption: there are three people standing in the snow. one of the people is wearing a yellow jacket and red pants. there is a small fence in the snow.\n",
      "Correct Caption: There is a broken phone on the ground. There are three pieces that are big and the phone has many buttons on it. The color of the phone is white and silver. The ground next to the phone is very dark. There are many tiny things on the street. It looks like an older kind of phone. The phone at the bottom of the frame is on its front. The buttons on the phone are dark and light. \n",
      "Predicted Caption: a black <UNK> <UNK> sits on the corner of a deck.   the <UNK> is on the side of a raised handle under a <UNK>.   the <UNK> is in front of the bars.   the word \" <UNK> is written on the <UNK>.  \n",
      "Correct Caption: This is an image of a laptop. The laptop is being cut by knives. The knives have black handles. The knives have silver blades. The laptop is black at the bottom. There are inputs on the back of the laptop. The inputs are different various types. There are two hands holding knives. The one wrist has a silver watch one it. \n",
      "Predicted Caption: a hand is holding a silver fork. the pizza is covered in a white circle. the <UNK> circle is on the table. the table is made of wood. there are several other pieces of equipment in the background. there are also some papers on\n",
      "Correct Caption: This is a toy shop. The shop has lots of stuffed animals. The stuffed animals are bears. There are many teddy bears in the window display. The bears are various different colors. The window is framed white. The letters on the window are red with a white and blue border on them. The bear in the front of the window has a red scarf on it.\n",
      "Predicted Caption: a large crowd of people are standing outside on a warm day outside of the <UNK> <UNK> <UNK>. the people are standing on the sidewalk. two women are standing together on the sidewalk near a large <UNK> area. the tables is wearing a white <UNK> ,\n",
      "Correct Caption: A man is sitting with his guitar. His left hand is holding the guitar neck. The man is wearing a straw hat. The man's head is down. You cannot see the man's face. There's a bottle on the table in front of the man. The guitar is made of wood. The guitar is a light brown color. There is a television behind the man. The television is not on. The television is gray color. The man is sitting on the side of a fireplace. The fireplace is made of thin brick.\n",
      "Predicted Caption: a television is sitting on a wooden desk in a room. there is a laptop computer that is turned on in front of the laptop. there is a white door sitting on the desk in front of the closet.\n",
      "Correct Caption: This is a picture of a bedroom. The bedroom is very tidy. The bedroom is decorated fancy. There are many different pictures that are framed on the wall. The pictures have black and gold frames. The bed has a white comforter on it. The bed has a white pillow on it. The headboards and bed frame are dark brown.\n",
      "Predicted Caption: there is a gray couch in a room. there is a picture hanging on the wall. there is a picture hanging on the wall. there is a picture on the wall in front of the wall.\n",
      "Correct Caption: There are two people kissing in the photograph. One of the men is dressed as a groom the other as a bride. The one dressed like a bride has a veil on his head and is wearing a pink dress. He has whit pearls around his neck and has a blue ring on. The woman has a grey hat on and white sunglasses. They are standing against a white wall with the sun shining down on them. \n",
      "Predicted Caption: a man in a gold jacket , a head <UNK> style hat and a curtain in front of his face sits on a white <UNK>. there is a small boy with a black shirt and a light pink <UNK> in his chest hanging from his <UNK>. there\n",
      "Correct Caption: This is a hotel room. There is a patterned comforter on the bed. The comforter is tan and gray. The headboard on the bed is wooden. The headboard is brown. The wall in the room is a dark tan color. There is a small lamp by the bed. The lamp has a white lampshade on it. There is a rolling office chair by a desk with a yellow lamp on it.\n",
      "Predicted Caption: a bedroom has a large bed by the wall. there are many pillows on the bed. there is a bed above the bed. there is a lamp on the bed. there is sunlight coming in. there are nightstands on the wall. there is\n",
      "Correct Caption: This picture is of a giraffe. The giraffe is eating some grass. The giraffe has it's mouth full. The giraffe is spotted brown and tan. The giraffes eye is closed. The eye is lined in black. There are brown and tan horns on the giraffe. There is a piece of wood in front of the giraffe. The wood piece is light brown.\n",
      "Predicted Caption: a giraffe is standing in the middle of a zoo display. it is looking towards the east. there are two zebras on the right side of the photo. there are two striped leaves on the ground in the background. they are standing on a dirt\n",
      "Correct Caption: The picture was taken inside. The picture was taken in a bathroom. There are lights lined along the ceiling. The floor in the bathroom is tiled. There are urinals on the wall on the right side. The urinals are white in color. The stalls are on the left of the bathroom. There are windows in the bathroom. \n",
      "Predicted Caption: the image is of a bathroom. the ceiling , walls and ceiling are painted white. the ceiling in the room is made of wood. the ceiling and ceiling made of gray tiles.   there is a painting on the wall between the tub and the\n",
      "Correct Caption: Two black cats lay on a desk; on is reading its grass on the other cat's hind quarters. One the desk area several items: a red notebook, a vup filled with pens, done papers, a basket with Witeout in it, a teddy bear, and a box of envelopes. There is also an LCD computer monitor, as well as a keyboard drawer. The keyboard drawer is slightly open, showing the bottom of a purple mousepad.\n",
      "Predicted Caption: a black cat is sleeping on a laptop computer. the laptop is open and turned on and is on. there is a white laptop on the keyboard. there is a black keyboard on the desk. there is a black keyboard on the desk.\n",
      "Correct Caption: The elephant is in the wild. He has a long trunks. The trunks are brown with touch of white. The elephant's ears are wide and has spots. The elephants body is wrinkled and brown. Behind him are long brown trees. The ground is covered with green and brown grass. The sky is blue with touch of white/gray puffy clouds.\n",
      "Predicted Caption: there is a baby elephant standing behind it. there is a tree behind the elephants. there is a tree behind the elephants.\n",
      "Correct Caption: Two men are sitting at a table outdoors. The man on the right is wearing a plaid shirt and a visor. He has his arms out and palms turned up. The man on the left is wearing a t-shirt that says \"BRONX.\" Empty glasses and three bottles are on the table. There is also a cruet of oil. A brick structure, perhaps an oven, is to the left rear of the man on the left. \n",
      "Predicted Caption: this image is taken indoors at a birthday party. there is a white wall with diagonal blue , white , and blue letters on the front and <UNK> window on the wall. the picture is taken at an all black. there is a white and red\n",
      "Correct Caption: This is an image of a street. The street signs are on a white pole. The pole is metal. The top sign is blue and white with a red slash in the middle of it. The bottom sign is white and black with a red circle and red slash in the middle. The top sign has a white border. The street is concrete with rail road tracks embedded in it.\n",
      "Predicted Caption: a stop sign is shown. the sign is red with white writing and some has graffiti <UNK> some gray writing on it. there are a bunch of houses in the back and some cars are parked in front of them.\n",
      "Correct Caption: This picture was taken at a tennis match. The man is wearing a yellow head band and a yellow shirt. The man is holding a black tennis racket. The crowd is behind the man on the court. The man is looking towards to the left. The man is wearing two sleeves on their arms with yellow checks. There is a white logo on the left of the picture.\n",
      "Predicted Caption: a man in a white shirt and shorts is standing on a tennis court. the man is swinging a tennis racket at a green tennis ball. there is a man standing behind him wearing a white shirt and white pants.\n",
      "Correct Caption: This is an image taken in a kitchen.Directly in the middle is a wooden table with a white top.On the ends,there are two wooden chairs and on the sides,there are two computer cars.Behind the table,there is a side by side microwave with several magnets on the front,and an air freshener and bottles on the top.To the left there is a counter with average kitchen supplies including a toaster.The floor is hard wood,the walls are yellow and the drapes over the windows are black.\n",
      "Predicted Caption: a white chair is sitting in a room. there is a white door sitting on the side of the fireplace. there is a microwave on the wall behind the chair.\n",
      "Correct Caption: This is a traffic or warning sign. The sign says do not enter. It is red and white. The text of the sign is very bold in white lettering and is centered in the middle of a filled red circle. The circle is inside of a white square. The sign is attached to a metal pole with bolts. Behind the sign a grey sky can be seen along with trees that have orange dying leaves.\n",
      "Predicted Caption: a stop sign is being shown. there are two green street signs that are on the top of the stop sign. the signs read as <UNK> street and the reads as nice <UNK>.\n",
      "Correct Caption: Four people are sitting around a television set. The two men on the right are playing guitars. The woman on the left has her hand to her mouth. Another woman has blonde hair and is facing away from the camera. A  small coffee table is in the middle. There are two glasses and a paper cup on the table. A floor lamp in the corner is casting bright light into the room.\n",
      "Predicted Caption: three people are inside of a room. one of them is sitting on a brown rocking chair. the man in the room is sitting in front of a large gray wall. the man is sitting on a brown couch. the man is wearing a gray\n",
      "Correct Caption: Two men are standing in a living room holding white game controllers in their hands. A white covered sofa is sitting in front of a window in the living room. There are three pillow sitting on the couch. The walls in the room are painted white. Part of a chandelier is hanging in the room. A brown cabinet can be seen sitting against a wall near the sofa.\n",
      "Predicted Caption: two people are standing in a room. there is a man in a blue shirt and white shorts. the woman next to him is wearing a blue shirt and white pants.\n",
      "Correct Caption: Ann adult Zebra stands on a field facing to the left. The legs on the outside have strips and on the inside are white. The zebra is in an open field. The field is covered with grass that is tall. The zebra has stripes white and black, and the tail of the zebra is long and have a turf on the end. On back the field there are green with green leaves. \n",
      "Predicted Caption: two zebras are standing next to each other. the zebra 's heads are touching each other. the zebras are both black and white. the zebra on the left has a black and white tail. the zebra on the left has his head slightly open.\n",
      "Correct Caption: This picture is taken inside of a home. A black chair is sitting in front of a desk. There is a laptop sitting on the desk, along with other papers. Part of a wooden table can be seen behind the desk. Two chairs are sitting near the table. There is a white lamp sitting on top of the table near bottles and a book. The walls of the room are painted yellow with white trim. The floor of the room is hardwood.\n",
      "Predicted Caption: this is a photo of a living room. there is a long white cabinet in the corner of the room. there are also some <UNK> sitting in the back. there is a chair in the middle of the room. the walls are painted white and\n",
      "Correct Caption: A desktop computer is on a desk with the monitor turned on. On the keyboard is a grey bird with a green head and orange cheeks. To the right of the desk is a tray with a blue mouse pad and a white mouse on it. Next to the desk is a grey upholstered chair. To the left of the desk is a blue drapery. In front of the bird are a yellow and blue stuffed bear.\n",
      "Predicted Caption: a white desk has a white computer on it. there is a blue trash can on the ground next to the desk. there is a large black bag on the desk. there is a desk next to the monitor.\n",
      "Correct Caption: A Man sitting in a chair working on his laptop. The chair he is sitting in has a red towel drapped over the back and wooden arms. The man has short dark hair, and glasses. He is casually dressed in a sweatshirt, with a yellowish t-shirt underneath and shorts. He is using a plug in keyboard with his lap top, the key board is on a make shift lap table, made from two grey boxes. This allows him to put his keyboard and mouse on his lap. The laptop is on the table in front of him, propped up on a few books so that he can see it. Also on the table are a few other items. \n",
      "Predicted Caption: a man is sitting on a white couch. there is a white laptop controller in front of him. the man is holding a white remote in his hands. there is a black lamp in front of the man.\n",
      "Correct Caption: Passengers are seated in a mass transit bus traveling down the street.  The driver is seated on the left hand side in an enclosure.  He is visible through the reflection from a rear view mirror.  The farebox is next to the enclosure.  A television monitor is behind the driver, and is turned on.  A woman sits on a seat mounted atop the wheel well.  She has placed a white plastic bag on the floor. A passenger seated behind her is resting his or her foot on the well.  The bus has blue vertical poles for standing passengers to use.  Some bus straps are also suspended from the ceiling for passenger use. It is daytime.  \n",
      "Predicted Caption: a colorful bus is parked outside near a tent. the bus is white , blue , and has yellow and purple writing on it. people are sitting on the side of the bus. on the side of the bus is a bus in a yellow color\n",
      "Correct Caption: A metal pan has pizza slices on it. The pan is round. There are other pizza pans next to it. The pans are on the table. There are napkins on the table. There is hot sauce on the one pizza. There is a lot of cheese on the pizza. There is a knife on the table. There are other slices of pizza on the other pans. The pizza slices are triangular. The table is made of wood. \n",
      "Predicted Caption: there are two different pieces of pizza on the plates. one of the pizza pieces has pepperoni on them. the other piece has tomatoes and mushrooms on it. the plates under the pizza are white paper plates.\n",
      "Correct Caption: A guy with short, dark hair is wearing a blue wet suit and black shoes is surfing on a white surf board in a large body of water. The waves behind his surfboard are large, white and foamy. The body of water appears to be dirty and a reflection of the guy and the surfboard is in the water just near the surfboard. The sun is shining brightly into the body of water.\n",
      "Predicted Caption: a man in a black wet suit is on a surfboard riding a big wave in the ocean. he is balanced on the board so that he can ride the wave to the shore without falling off. the expression on his face is shows how much he\n",
      "Correct Caption: There is a white and brown cow in a cage. The bars next to the cow are blue in color. The girl next to the cow is wearing the color purple. The girl appears to be smiling. The bottom half of the cow is not visible. Only the top half of the animal is visible to the people. The roof of the structure is blue and there are bars above the ground to support the structure.\n",
      "Predicted Caption: a large white cow with two black horns. the cow is behind a <UNK> wire fence. it has long <UNK> white ears and a black nose. there are trees and tall grass behind the cow.\n",
      "Correct Caption: A boy is skating down a ramp. The picture has a progression of him starting from the top, then in the middle, then on the bottom. The boy is wearing a white helmet, gray t-shirt and blue jeans. He is slightly heavyset. His shoes are white. Next to the boy on the ramp is a boy on roller blades and he is wearing a blue graphic shirt with blue jeans. his hair is orange.\n",
      "Predicted Caption: a man is skateboarding outside on a sunny day. the skateboard is black. the man is wearing a short sleeve shirt and gray shorts. people are standing behind a fence watching the man. some of them are wearing sunglasses on their eyes. some green\n",
      "Correct Caption: This is an image of some animals. The animals are elephants. The elephants are very large. The elephants are dark brown. The elephants are in water. The water is shallow and murky brown. There is a long bamboo pole by the elephants. The shore by the elephants is sand. The sand is tan color. The elephants are drinking water.\n",
      "Predicted Caption: there is a large elephant in the field. there are small elephants under the elephant. there is a large body of water behind the elephants. there is weeds around them.\n",
      "Correct Caption: A man is sitting in a white chair on the beach. The chair is in the sand.  He is wearing a black shirt and dark colored shorts. He is reading. His arm is resting around the top of his head. He has a wedding ring on. Beside the man is a black and white umbrella. To the right of the umbrella is a boy wearing green. He looks like he is playing in the sand. Behind him is another umbrella which is red and white. In front of the boy is the water. In the distance is a building, and beyond that are hills. Also on the beach are gray stones and other white chairs. Behind the chairs are two poles. \n",
      "Predicted Caption: there are two people sitting on a bench. the bench is made out of wood. the umbrella is green in color and has white arms on it.\n",
      "Correct Caption: There are people in the snow in the picture. The trees in the background have a little snow on them. Some people are sitting in the snow. The snow is covering the entire ground. Most of the people have goggles on. Two people are walking together on the snow. The person on the right is carrying ski sticks.\n",
      "Predicted Caption: a man is skiing down a hill. he is going down a <UNK> course and the flags are red and some are blue. he is right next to a blue one. he has on a white and black jacket with black pants and a black hat\n",
      "Correct Caption: The woman is sitting on a bench. She is carrying a bag. The suitcase is black. The bags are black. The woman is wearing a scarf. The scarf is pink. The jacket is black. An old man is looking at the camera. The man's jacket is yellow. The woman's shoes are black. The woman is wearing eyeglasses. Her pants are gray. Her hair is curly.\n",
      "Predicted Caption: there are two people sitting on a bench. the bench is made out of wood. the umbrella is green in color and has white arms on it.\n",
      "Correct Caption: There is a big brown and beige building near the street.  It has many windows  all around it.  It has a traffic sign  on the corner near the building. There is street sign on the front of the building.  There is a small car near the building. There is a gray car behind the    maroon car.  The person walks  across the street  near the building. There is a large black sign near the  building.\n",
      "Predicted Caption: a large building sits on the corner of a road. the building has numerous windows on it. some cars are parked on both sides of the street. there are many cars and bushes on the street. there are many cars on the road. the\n",
      "Correct Caption: A small cell with iron gates is painted a light green on the bottom of its cement walls, and white on top. A lidless white toilet sits against the back wall, and a rusted small white sink is next to the toilet. On the back wall are two empty white shelves, and two metal shelves that fold up are attached to the left wall. The floor is tiled, and the walls and floor are dirty.\n",
      "Predicted Caption: there is a man standing outside of a bridge. the bridge has many white clouds in it. the man is wearing a shirt. the man is wearing a shirt. the man is wearing a wetsuit. the man is wearing shorts. the man is\n",
      "Correct Caption: Three men are standing in a room. One man is leaning over a table in front of a small cake. He is wearing a short sleeve shirt and green pants. The table is white and has brown and gray chairs sitting around it. There is are white coffee mugs and bottles that are also on the table near the man. A gray door can be seen near a wall with a gray door handle on it.\n",
      "Predicted Caption: three people are in a kitchen. there is a woman holding a bowl of food in front of the man. there is a large window on the wall. there is a clock on the wall.\n",
      "Correct Caption: This is a beautiful autumn photo of a family riding a trail on horse back. Both the horses and the human riders are uniformed in matching colors and coats, which made for a beautiful photograph. The trees are evergreens and tall, and grass is brown in preparation for winter. The air is most likely brisk but still mild.\n",
      "Predicted Caption: cows are standing in the grass on a field. there is a short brown fence behind them. they are all white. there is a black fence behind the fence.\n",
      "Correct Caption: A blue shower curtain is hanging inside of a white tub. A white toilet can be seen sitting near the tub against a white painted wall. A box of tissues is sitting on top of the toilet's tank. There is a vanity cabinet near the toilet with a white sink in it. A mirror can be seen hanging on a wall above the sink. \n",
      "Predicted Caption: a bathroom with two large bowl shaped sinks. there is a mirror hanging above the sinks. on the wall there is a mirror above the soap dish. there are two glasses on the wall.\n",
      "Correct Caption: The photo is of various fruits. The orange slices are peeled and sectioned. The raspberries are deep red and have small red portions that have fibers protruding from them. There are also small round blueberries in the photo. The fruit is mixed together as a fruit salad. The photo is a close up and does not show what the fruit is in. \n",
      "Predicted Caption: the image is of seven doughnuts in a box.   the box that is holding the <UNK> is white and the lid is opened.   the <UNK> are hot and the closest to the right of the refrigerator are white.   the others are closest to\n",
      "Correct Caption: A man is relaxing on a lounge chair in front of a swimming pool on a warm sunny day.  He is white.  He is wearing a baseball cap and swim trunks.  There are no other people sitting on the chairs, which are white.  Four large white umbrellas provide shade.  The water in the pool is calm and is blue, reflecting the sky.  The side of the pool is made up of blue tiles.  \n",
      "Predicted Caption: a large red and white cherry <UNK> umbrella is sitting on a dark wooden table top with an orange emblem. the top of the clock is white and the hands are black and made of metal. the stone piece has a design on it and a small\n",
      "Correct Caption: A young woman wearing a black bra mostly covered by a white tank top, and also wearing blue jeans and holding a pink cell phone to her ear is walking along a sidewalk. She is in front of a North Pacific Cellular store and another store in which numerous red shopping carts are lined up along its wall. Both stores have the same exterior of large windows and brown siding, and a white and red trim above the siding. The woman is being photographed at through the interior of a car, as the grey interior of a car window can be seen around the outside edges of the photograph. \n",
      "Predicted Caption: a woman is standing outside of a store. she is wearing a black jacket and black pants. the woman is holding a black and white bag in her hands. a black bag is sitting on the side of the woman. on the right of the\n",
      "Correct Caption: The image is a transit center. There are many buses parked at the station. The roadway is brown with white lines. The cross walk has white painted stripes. There are shelters over the bus stop. There are blue poles holding the shelter roof up. The roof is dark gray. The bus is orange, white, red, and blue.\n",
      "Predicted Caption: this is an image of a runway. there is a train on the tracks. the train is gray in color. the train is being <UNK>. there is a large red and black train to the right of the train. the platform of the train\n",
      "Correct Caption: There is a tall building with a clock on each side of the top of the building.  The very top of the building is green in color and it looks like a palace on top.  The building tan and it has a couple of barrier gates at the top of the building.  The design of the building holds a arch in front and a light pole on the top of the building.\n",
      "Predicted Caption: a building is red and light brown and has square , round and arched windows. there is a tower with a clock in it. on top of a tower there is a decoration. there are cars on the road next to the building , most have\n",
      "Correct Caption: There is a train in the picture. There are many train tracks. The train is blue, yellow, and white. There are many poles in this picture. The tracks are brown. There are green bushes near the tracks. In the background there is graffiti on the walls in different colors. The poles are grey and tall. The bushes are short. \n",
      "Predicted Caption: this is a picture of a city street. there is a train parked on the tracks. there is a train on the tracks. there is a train on the tracks. there is a train on the tracks. there is a <UNK> under the bridge\n",
      "Correct Caption: A woman is sitting on a stone structure with her legs stretched out in front of her. She is holding a blue cellphone to her ear. The woman is wearing sunglasses, a necklace, red sweater, a long black skirt and red boots. She has a large black purse and a plastic bottle of water at her side. Two people are sitting on the ground having a picnic. The trees are bare. \n",
      "Predicted Caption: a person is sitting on a bench. the bench is black. the bench is made out of wood. the bench is small in color. nobody is in the middle of the sidewalk.\n",
      "Correct Caption: This is a picture of a man. the man is taking a picture. The man has a hat on. The hat is light brown with a brown designed band. The man has a mustache. The mustache is gray. The man has glasses on. The man is wearing an unusual jacket. The jacket is purple with flower designs on it. The flowers on the shirt are orange, white and red.\n",
      "Predicted Caption: there are two men sitting on a bench. the man on the right is wearing a white shirt and blue jean pants. the woman is wearing a white shirt and white pants. there is a black helmet on the back of the horse. there is\n",
      "Correct Caption: A young girl in a bright orange t-shirt is standing on a tiny child's skateboard while a woman in a pair of blue jeans and a patterned top kneels with one knee on the floor anf holds the girl steady, her right hand under the girls right arm and her left hand on the girls left hip. They are in a living room on a beige mat with a black border. Behind them is a small table with a telephone, calendar and writing pads. In the far distance is a wooden rocking chair. Both the people in the shot are looking up at something.\n",
      "Predicted Caption: a boy is standing in a living room of a home. he is holding a white game controller in his hand. the boy is wearing a gray shirt , blue jeans , and a gray and gray tie. the boy is sitting on a brown couch\n",
      "Correct Caption: A large flock of birds is flying over the beach, and the ocean on a cloudy day. A single person holding a yellow surfboard is walking out of the water and onto the sand. A large, curved blue, white, and green kite is flying over ruins on the beach. There is a tall mountain covered in grass jutting out into the sea. \n",
      "Predicted Caption: a large blue and white boat is <UNK> on the shore of a large body of water. there is a small black and white bird on the ground in front of the bird. there is a person sitting on the ground in front of the man.\n",
      "Correct Caption: In a black and white photograph, a surfer in the middle of riding in on a wave is shown perpendicular to the wave. The surfer is a man and his surfboard and he are fairly high above the wave with his board upright above the water. The wave is large and cresting with a lot of white foam to the right and left side of him. The surfer is wearing a wet suit with a cap.\n",
      "Predicted Caption: the image is of a small military boat. in the center of the image is a small <UNK>. it is a <UNK> time and there is a large body of water behind the large blue car. it is a sunny day and there are only trees\n",
      "Correct Caption: Two people are enjoying their time out in the water. A woman is wakeboarding and her board is white, a peach color, yellow, and blue and is in a tie-dye like pattern. She is wearing a pink shirt that is a very bright color, and some short polka dot shorts. A man is wakeboarding far in the background more out into the water.\n",
      "Predicted Caption: a person is <UNK>. there is another person behind them also <UNK>. one of them has a green and neon green kite in the air and someone else has a white and blue one.\n",
      "Correct Caption: A young  child is sitting on a blue sofa. He is holding his left hand up to his mouth. He is holding a silver clamshell cellphone in his right hand. He is wearing a blue and white striped polo shirt and blue denim overall shorts. There is a stain on the left knee area of the shorts. The child is barefoot.\n",
      "Predicted Caption: a little toddler girl <UNK> her arms. she is wearing a green striped shirt. the shirt is a light brown color. the person is holding a toothbrush. the toddler is in the air. there is a finger on the table. the person is\n",
      "Correct Caption: Outside, an old man lies down against a bare, tan wall. The man has a beard, but little hair on his head, and is dressed almost entirely in red. His shoes are black. His is resting his head with one arm. Next to him is a red metal object attached to the brick ground. There is a white bag next to the man. It is around noon, as the man cast a very short shadow.\n",
      "Predicted Caption: a woman is standing on a sidewalk. she is holding a black and white dog in her hand. the dog is wearing a black collar around her neck. she is holding a black bag in her hand.\n",
      "Correct Caption: There is a traffic light in the picture. The green light is bright. THe traffic light is made of metal. The traffic light is black. There are three different lights in the traffic light. There is red on the top. There is yellow in the middle. There is green on the bottom. Green means to go. There is nothing else in the picture. There is just a traffic light. \n",
      "Predicted Caption: the image is of a street that is covered in snow. the trees are <UNK>. the pole that are in is either surrounded by trees and are tall and green. there are pine trees in this picture as well as a street with no leaves on\n",
      "Correct Caption: Image of an outdoor farm. The farm has multiple rolling hills on it. There are white sheep and livestock walking around the field. There is a small stone wall down the middle of the farm. There are large green trees with lots of leaves on the hillside. In the distance the sky is covered with a light patch of puffy white clouds that can be seen on the horizon. \n",
      "Predicted Caption: a sheep is standing on a rock. there are power poles next to the rocks. there is a field of green grass under the sheep.\n",
      "Correct Caption: This is a man on a motorcycle. The man is int he middle of a track. The man is doing a trick. The man is doing a wheelie. The man has a helmet on. The helmet is blue, red, and orange. There are banners on the fence. The banners are white with blue letters. The motorcycle is white and black. The wheels on the bike are black and rubber.\n",
      "Predicted Caption: a person is riding on a motorcycle. the helmet is black and white. the pants on the jacket is black. there is a sign on the side of the motorcycle attached to the handle of the motorcycle. there is a person standing on the side\n",
      "Correct Caption: A wooden slatted bench sits in front of a brick and stone wall. The frame and arms of the bench are metal. The wall is mostly stone with a brick inlay that has two large openings in the center of it. There is also a brick border along the bottom of the wall. Many stones on the wall are chipped showing a dull gray underneath.\n",
      "Predicted Caption: a bench sits next to a brick wall. there is brick on the ground. there is a bench next to the sidewalk. there is a large tree on the ground.\n",
      "Correct Caption: This is an image of a train track. The train track has one train on it. There is one empty track. The track is made up of wooden planks and metal rails. The rails are light gray. The plants are dark brown. The train cars are light gray and brown. The cars are filled with coal. The coal is black. There are lots of bright green and yellow plants by the tracks.\n",
      "Predicted Caption: a silver train with white stripes on the front of it.   the train is sitting on railroad tracks.   there is a yellow line on the side of the train.   there is grass and tracks next to the train.   there is grass\n",
      "Correct Caption: This is a picture of a living room. The room has a couch in it. The couch is a dark gray color. There are pillows on the couch. The pillows are white. There is a dog on the couch. The dog is blonde colored. The dogs eyes are black. There is a large flat screen TV in the corner. The TV is black and silver.\n",
      "Predicted Caption: there is a gray couch in a room. there is a picture hanging on the wall. there is a picture hanging on the wall. there is a picture on the wall in front of the wall.\n",
      "Correct Caption: The man is holding a little child that are stand on a surfboard. The surfboard is color white, The child is wearing a wet suit color black. There is a wave formed behind the surfboard. There are ripples in the big ocean. On back there is a man that is in the water. Behind the man there is a big wave color white.\n",
      "Predicted Caption: two surfers are approaching the water , carrying their boards.   both of the boards are attached to the surfers ' legs by cords connected to ankle bands.   the surfers are in a line.   the front surfer is a man , bare <UNK> ,\n",
      "Correct Caption: A orange,blue and red train is sitting on some tracks and next to the tracks is a pile of trash on the ground.Some flowerpots is sitting near the trash. People are sitting on chairs Just behind the pile of trash. A man standing near the tracks is wearing a brown uniform hat, shirt and pants and he is holding a red flag in one hand and a green flag in his other hand. There are some children standing near the tracks behind him.\n",
      "Predicted Caption: a red and white train is on the tracks. there are wires above the train. there is a hill with trees and grass on it next to the tracks.\n",
      "Correct Caption: This picture is taken inside of a bathroom. A small window is hanging above a white tile wall. There is a shower near the window. Two white curtains hang on a rod that is surrounding the shower. A white toilet sits near the shower. Part of a white sink can be seen near the toilet. The floor of the bathroom has large white tiles on it.\n",
      "Predicted Caption: this is a bathroom. the ceiling is white. the walls are a sea foam green. the walls look like small one <UNK> tiles. the shower is a <UNK> small. the walls are white and <UNK> the mirror is white. there is a mirror\n",
      "Correct Caption: This is a picture of a group of kids. The kids are standing under an umbrella. The umbrella is purple with a cartoon on it. The girl in the middle has a blue jacket on. The girl has dark blue jeans on. The girl has long brown hair. The girl to the right has a long purple and white jacket on. There is a large red house with green trim in the background.\n",
      "Predicted Caption: a little girl is standing in the water. she is holding an umbrella. the umbrella is white. the little dog is black. the girl is wearing a black wet suit. she is also wearing black sneakers.\n",
      "Correct Caption: A traffic in the middle of a city road is directing traffic while in a reflector jacket.  There are people on the corners ready to cross a street.  The car is turning right on a city street.  The traffic light is red signifying to stop.  A store sits on the corner and buildings line up the street.  Cars and buses are driving to the left of the store.\n",
      "Predicted Caption: a woman is walking down the street , opposite her <UNK> on her cellphone. a woman in a rain jacket and black pants is carrying a bag on her cell phone. she is walking past an older building with gray roof. the door is parked by\n",
      "Correct Caption: The bus is a pastel yellow with a green stripe under the window on the side and over the wheel wells. The front of the bus is unique. The driver side is sunken into the bus while the passenger sides is of normal length. There is small black display with white letter at the top of the front of the bus that says SPECIAL. Next the bus there is a red truck with red grill on the bumper. On the opposite side of the bus there is small vehicle that looks like a toy tractor. it is yellow and gray.  \n",
      "Predicted Caption: there is a large yellow bus on the side of the street. there is a large brown building with windows on it behind the bus. there is a brown building in front of the building.\n",
      "Correct Caption: This picture is taken outside at nighttime. A boy can be seen in this photo. He is wearing a short sleeve shirt and pants. A green frisbee is soaring in the air towards the boy. The ground has brown dirt on it. There are gray stones scattered throughout different parts of the ground. Part of a tree trunk is leaning near the boy.\n",
      "Predicted Caption: a young boy in a white t - shirt and blue shorts is seen catching a frisbee in a field.   the boy is holding yellow sticks and wearing a red shirt and black pants.   there is a chain link fence behind the man.  \n",
      "Correct Caption: A painting has a cat walking on a brick sidewalk in front of an apartment building that looks french. There is a brown dark shiny wood door to the left of the cat, and tall bushes, and plants growing on the sides. There is a bike next to the plants, and in between the two apartment doors. There is a black metal pole on a fence in between two cement pole.\n",
      "Predicted Caption: this image is of a fire hydrant on a sidewalk. the fire hydrant is mostly yellow. on the left , there is a yellow fire hydrant and there is a red and black traffic light on the side. to the right there is a gray <UNK>\n",
      "Correct Caption: On a wooden board there are pieces of brown bread. On the corner of the board there is a bowl color white with yellow sauce. Somebody is holding a fork with the index finger that push on one bread. The fork is metal color silver. Back the board, there is a black phone on a white table next to a glass.\n",
      "Predicted Caption: this is a picture of some food. the food is spread out in different bowls on the table. the bowls are all square shaped and white. there is a person sitting at the table. the person is wearing a red t shirt. there is\n",
      "Correct Caption: This is a photo of a group of people watching a fire. The photo conveys a sense of urgency, hopefully this is not a house burning down. In the distance you can see a painting that looks as though it may be a religous building. The people are all holding umbrellas to protect them from the rain, which is ironic.\n",
      "Predicted Caption: a person is sitting on a bench.   the person is leaning forward. the man has a faded suit on. they are wearing jeans and a dark shirt. they are standing on a green grassy field. there are no other people visible.\n",
      "Correct Caption: A woman is on a surfboard holding a row. The surfboard is long and color white and black. The is bend forward holding a black row. The right hand is on the top of the tow, and the left hand is on the middle of the row. The woman has long hair black on the back. The reflection of the woman can be seen in the water.\n",
      "Predicted Caption: a woman in a black <UNK> is standing in ocean water playing frisbee with a man in black swim trunks.   the frisbee is in the air and is yellow.   the sky is dark blue and cloudless.   the water is a light blue color\n",
      "Correct Caption: A man is standing on a tennis court on a sunny day. He is wearing a yellow shirt, black shorts and a hat. The man is holding a racket in his hands. A tennis ball is soaring in the air in front of him. The court is green with white painted lines on it. Part of a building can be seen behind the court.\n",
      "Predicted Caption: a man is standing on a tennis court playing tennis. he is wearing a short sleeve shirt , white shorts , white headband , and white wristbands on his <UNK>. the man is holding a black racket in his hand. his hair is standing up as\n",
      "Correct Caption: This is an image of a person. The person is crossing the road. The person is carrying some vegetables over her back. The vegetables are bright green. The vegetables are carried on a wooden bar with wires attached to a basket. The pole on her back is dark brown. The crosswalk is light gray with white stripes.\n",
      "Predicted Caption: a man is standing outside of patio doors talking on a phone. he is wearing a black short sleeve shirt , black pants and black sunglasses. the man is holding a black , red and white bag in his hands. a large metal pole is sitting\n",
      "Correct Caption: There is a very large light brown stuffed teddy bear sitting in the corner of a room and on a bed. There's a big brown bow wrapped around the teddy bear, and it matches the bears big, brown nose. The teddy bear has small black eyes, and long and fat arms that hang to his side and legs that are in front of him. The bed sheet the bear is sitting on is green, and there's a nearby pillow with a yellow pillowcase that has white polkadots. The walls are painted blue with a painted treed on the right side of the corner and it has 3 large branches with 13 green leaves and 2 red flowers scattered on it. To the left corner of the wall is a green lamp that has 2 white clouds on it and it hangs above and to the left of the sitting teddy bear. At the lower half of the wall there is white bead boarding and a white chair rail.\n",
      "Predicted Caption: a large white teddy bear sits on a chair next to a young girl. the girl is wearing an orange shirt and an orange bow in her hair. the bear is holding a red rose and a red bow tie.\n",
      "Correct Caption: A little girl stand on front a gigantic suitcase. The little girl wears a white top with blue jeans, and she is smiling. The gigantic suitcase has several stickers. A red sticker on the suitcase has yellow stars. On the suitcase, there are three oval stickers color white and blue letters. The brown suitcase is outdoors.\n",
      "Predicted Caption: there is a silver <UNK>. on the door is a silver device with silver bars. there is a black <UNK> on the right. there is a black cord on the back of the chair. there is a black cord behind the dog. there are\n",
      "Correct Caption: This is a picture of a bedroom. A large bed is sitting against a painted white wall. There are two large white blankets and four white pillows on the bed. Two slim lamps sit on nightstands that are standing near the bed. Part of a picture frame can be seen hanging over the bed. A long green curtain is hanging on the floor in the room.\n",
      "Predicted Caption: a large bed is sitting against a white painted wall in a room. the bed has a headboard with a white blanket on it. there are two small yellow pillows sitting in front of the bed. a white bed is sitting on the floor near the\n",
      "Correct Caption: A table with a white lace table cloth is sitting in a room with a white wall. There is a blue glazed vase with etched flowers on it with a flower with green leaves on it sitting on the table. There is a clear glass bowl on a black metal base to the left of the vase, and there is a bear statue on the right of the vase and a clear glass cup. There is another flower on the ground near the table. \n",
      "Predicted Caption: this is an image of some items. the food is a little girl. the <UNK> is multicolored. the stem on the plant has large <UNK> writing on it. the <UNK> on the plant are red and purple. there are people standing behind the orange\n",
      "Correct Caption: This is a picture of a street. The street looks to be at a bus station. There are many large buses parked. The buses are public transportation. The buses are painted white. There is black text on the bus. There are people walking by the station. There is a large walkway above the station. The walkway is metal with blue windows.\n",
      "Predicted Caption: two people are riding their bikes down the street. one person is wearing a very short sleeve shirt and is holding a <UNK>. the lights are in very green sky sky. a lot of people are on the road. a person is walking towards the\n",
      "Correct Caption: A boy in a white baseball uniform and a blue helmet is has swung a baseball bat and is holding the bat behind him. There is a player in the sane uniform on the left leaning down and walking towards the home base. In the distance there is a fence covered with a blue tarp. There are people standing on the other side of the fence on the left watching the game.\n",
      "Predicted Caption: a baseball player is standing on a baseball field. he is wearing a gray uniform with red writing. his cap is black with a logo on it. the player has a black glove on his left hand. the player wearing a blue helmet on his\n",
      "Correct Caption: A trailer with gray siding on it and  two windows is sitting on the gravel in between two train tracks. There is a white and blue train on the tracks on the right side of the screen near the trailer. There are traffic lights on the gravel in between the tracks for the trains. There are metal support columns in between the tracks and over the tracks. There is an apartment building in the distance and cars parked near the tracks.\n",
      "Predicted Caption: a train with a gray <UNK> car , and brownish red cars on the rear is on the train tracks. on the tracks there are two sets of empty train tracks. on the left there is a forest of green trees , and tall trees.\n",
      "Correct Caption: A boy is skating on a skating ramp. He has a skate board under his feet but his body is parallel to the ground. His knees are bent and his arms are in the air. His has brownish-red curly hair. He is wearing gray shorts and a black shirt. The skate board is green. The skating ramp is gray. There are trees surrounding the skating ramp.\n",
      "Predicted Caption: a person is standing on a skateboard. they are jumping onto a railing. there are people standing on the sidewalk next to the railing looking at them.\n",
      "Correct Caption: Two boys and two girls are standing in a line bending down. They are opening bananas that are in their hands. One of the boys is wearing a baseball cap, a short sleeve shirt and blue jean shorts. Part of a black door can be seen behind them. A white painted wall is above the door. Cords and other objects are on the ground in front of the children.\n",
      "Predicted Caption: three women are standing outside on a sunny day. one woman is holding a large blue purse on her shoulder. she is wearing a black shirt and gray pants. she is holding a black bag on her lap. a green trashcan can be seen hanging\n",
      "Correct Caption: Two skillets and a pot is sitting on top of a stove in this kitchen. The burner under the pot is on. The door of a dishwasher is down with a rack sitting on top of it. The cabinets in the kitchen are white with green counter tops. There are numerous items sitting on top of the counter tops. The floor of the kitchen is hardwood.\n",
      "Predicted Caption: the kitchen is very clean. the stove is white. the stove is a silver metal. the cabinets in the room are a <UNK>. the stove is white. the wall in the kitchen is made of wood. the stove is a light brown color\n",
      "Correct Caption: The airplanes are at the runway and airport. The planes are blue and white. The tail of the planes are white with blue logo on them. The sky is blue with white and gray clouds on them. There are two cones on the ground. The cones are stripe of orange and white. The grass is green. The ground is paved.\n",
      "Predicted Caption: a large white airplane with two propellers on it. the plane is sitting on the street. there is a white building behind the airplane. there is grass behind the airplane.\n",
      "Correct Caption: A building has a large arch above the doorway. There are windows under the arch and above the doors. The doors themselves are gray and have panels in them. There are two doors. In front of the doors is a bench that has wooden slats. There are gray pipes on each side of the doorway. The building and doorway are made of red brick.\n",
      "Predicted Caption: there is a <UNK> house.   leading up the front is a black dog with a black <UNK> and purple <UNK> designs.   there are four black chairs along the hydrant.   there is a pink <UNK> with plants in the center of the two <UNK>\n",
      "Correct Caption: A cute grey white tan and brown kitten is laying sideways in a white ceramic bathroom sink. He looks very happy. The faucet above him is silver and shiny. On the sides next to the faucet are two small jars, a tube of toothpaste and a wooden square brush with black plastic bristles. The floor of the bathroom is dingy and white. There is a soap dish filled with a dark brown soap.\n",
      "Predicted Caption: a cat is staring back at the camera. the cat is sitting inside of a toilet bowl. the cat is gray with black stripes. the cat is laying on the floor. there is a reflection of a <UNK> in the floor. the cat is\n",
      "Correct Caption: A man is standing in a room of a building. He is wearing a suit and tie, and holding an electronic device in his hand. The carpet in the room is red. A long picture frame is hanging on a wall at the back of the room. A sofa, chair, plant and a table can be seen near the picture frame. A small green lamp sits on top of the table.\n",
      "Predicted Caption: the image is a portrait of a man and a woman. the man is balding.   the man is wearing a white shirt and dark blue tie.   the man has on a white shirt and black pants.   the man is wearing a white\n",
      "Correct Caption: This is an image of a plane. The people are sitting in cushioned chairs. The chairs are blue and gray. The man has long black hair. The hair is parted down the middle. The man is Asian. The man has a black suit jacket on. The man has a light blue dress shirt on. The man has black pants on. The man has black shoes on.\n",
      "Predicted Caption: there are two people sleeping on the floor. the wall is made of wood. the wall is white. the other items are black. the wall is a light tan color. there are three kids holding something. the laptops are black in color.\n",
      "Correct Caption: Five lit candles are decorating a square cake. There is a pink candle in each corner and a white one in the center of the cake. The frosting is white. Some chocolate crumbs are visible along the bottom edges of the cake and on the plate. The cake is on a round blue plate. It is on a wood-looking table. \n",
      "Predicted Caption: a cake is sitting on a table. the table is made out of wood. the pastry is brown in color. there are three slices of cake on the plate. the plate is on the table. the cake is on a table.\n",
      "Correct Caption: A fire hydrant is standing on the sidewalk. The hydrant has an orange base and red top. The hydrant is casting a shadow onto the sidewalk. The sidewalk is made of concrete squares. There is a manhole next to the hydrant that is dark gray and metal. On the road there is a white carriage with large wheels.\n",
      "Predicted Caption: this picture is taken outside on a sunny day. a man is sitting on a bench. he is wearing a short sleeve shirt , dark pants , a pair of black sunglasses , black sunglasses and brown shoes. the man is holding a black bag on\n",
      "Correct Caption: In a dark sepia color photograph the top half of a large, very tall clock tower is shown. The tower appears to be at least a few centuries old and could be the Big Ben clock tower in London. The time shown on the clock is eight o'clock, and  the clock face is on two sides of the tower. The tower tapers off high into the sky. Above the clock face are poles and a gable decorated, and in a deep ivory color. \n",
      "Predicted Caption: a <UNK> shot of a clock protruding from the ground. the clock is very old and the numbers are in roman numerals. the sky is filled with clouds and a building is right in view of the clock.\n",
      "Correct Caption: A bus is in the street that is red and yellow. The bus has the words LOVE written on it in red letters. There are street lights that are visible. The cars are black beneath the bus. There is also a double decker bus to the left of the bus that is red. There are windows on both buses. There is a red building with letters on it in white.\n",
      "Predicted Caption: a blue and white bus is parked on a road beside a sidewalk. a red bus can be seen parked behind it. a man is walking across the street on another sidewalk. a tall gray pole and a tall green tree are standing on the sidewalk\n",
      "Correct Caption: A group of seven people dressed in ski clothes are standing together with their arms draped around each other. They are on top of a snow covered mountain, and another mountain with snow on it can be seen in the background. All but one of the group is wearing ski shoes, and five are holding their ski poles. Part of a building with a white roof is in the background, as well as part of the poles and cables of a ski lift. Three of the group are wearing red jackets, one is wearing a green jacket, one  is wearing a blue jacket, and two are wearing black jackets.\n",
      "Predicted Caption: there are five skiers standing in the snow. one of the people is wearing a yellow jacket and red pants. there is a small group of people watching the people. the people in the middle are down on the ground.\n",
      "Correct Caption: A bike is sitting on a stone paved walkway. The bike has an orange wooden crate sitting on the front of it. A small pile of snow is in front of the bike on the walkway. A snow covered road can be seen below the walkway. Part of a vehicle is sitting near the walkway. There are tall buildings standing on the other side of the road. Vehicles are parked in front of the buildings.\n",
      "Predicted Caption: a yellow fire hydrant is on the sidewalk next to a street.   the street is grey and has two <UNK> on the ground.   there is a red building and a street next to the building.   the street has a yellow and white sign\n",
      "Correct Caption: There are three umbrellas. The umbrellas are blue. The gate is purple. The umbrellas have points on them. There is a shadow on the gate. There is a white umbrella also. There is a grey umbrella. The ceiling is black. There is a shadow on the blue umbrella. There are objects on the floor that are made of wood. \n",
      "Predicted Caption: a variety of <UNK> colored umbrellas is on display as people walk across the street on a rainy day.   colors include orange , green , red , purple , rust , and black and white.   a lone person wears a <UNK>.\n",
      "Correct Caption: On a beach with grey sand several people are walking about, and some are standing in the waves by the shore. One man is getting ready to throw a white Frisbee. He is wearing grey long swim trunks. Behind him a woman sits in a beach chair set low to the sand. The water is mild, with only a few small waves rolling into the shore. The day is sunny and the sky is a medium blue.\n",
      "Predicted Caption: three people standing in the sand on a beach. the man in the blue shirt and black swim trunks is walking a beach. he has a brown hat on , white board , and is holding his arms.\n",
      "Correct Caption: A young boy, dressed in knee-high shorts and a red-striped white short-sleeved shirt, zooms around the skateboard apparatus.  He is smart, as he has on both a helmet and white knee protectors.  He wears gloves, to protect his hands, and simple shoes.  He seems to be alone, though in the distance he can see an open concrete lot and beyond that a parking lot and some cars.  \n",
      "Predicted Caption: a person is wearing a black and white jacket. they are jumping in the air. there is a black fence behind them. they are jumping on a white pole.\n",
      "Correct Caption: A horse and cattle eat from the same hay bale.  The animals have torn the bale apart exposing the yellow fibers, which they eat in small amounts at one time.  The horse is rust colored.  The cattle are black with a couple rust colored as well.  Some of the cattle have small flecks of snow and dirt on their backs.  Snow covers the ground in the background.  A fence stretches across the snow covered ground.\n",
      "Predicted Caption: there are cows resting on the field. one of the cows is standing and looking. it is brown. beside it is a white cow sitting on the grass. near the camera are two other cows resting. one is white and the other one is\n",
      "Correct Caption: An animal is laying down. The animal is brown. There are trees on the mountains that are green. The trees are tall. The mountains are tall with grass on them. The animal has horns on its head. The clouds in the sky are white. There are clouds near the mountains. The animal has a large bone in his back. \n",
      "Predicted Caption: a large bull walks on the ground of a hill. the cow is looking off the side. the cow has black and white stripes on it 's face and neck. the picture is a dark brown color. the sun is shining brightly down on the\n",
      "Correct Caption: There is a bamboo fence next to a concrete are brick tan wall. There are plant growing out of the fence. The ground is made of compacted dirt. There is black and white zebra munching on leaves of the plants that are on the fence. Directly behind the zebra there is small pond. there is small amount of water in the pond and there is greenery growing in the pond. The zebras reflection can be seen in the pond. \n",
      "Predicted Caption: there is a zebra eating some grass. the zebra has stripes. the stripes are black and white. the zebra has a shadow.\n",
      "Correct Caption: This photo is taken on a baseball field. The field has a white marking painted on it.  A baseball player is swinging a bat towards a white ball that is soaring towards him. He is wearing a black helmet and a black, yellow and white uniform.  People can be seen sitting in the stands behind the player.\n",
      "Predicted Caption: a baseball player is holding a bat in his hand.   he is wearing white gloves.   he is wearing a blue helmet on the top of his head.   the catcher is directly behind him with black glove on his hand.   there are\n",
      "Correct Caption: The clouds in the sky are white. The sky is blue. The building is brown. Part of the building is really tall. There are windows on the brown building. There is a tall light pole in the image. There are vans parked that are white near the building. There is a clock on the building. The windows are clear on the building.\n",
      "Predicted Caption: a large white building sits behind a street. there is a tall brown building behind the building. there is a white building with windows on it above the building.\n",
      "Correct Caption: The street runs directly beneath the red-and-yellow arch with the \"towne center\" sign at its apex.  A shopping center is far in the distance behind the sign, and between the sign and the buildings is a vast, mostly empty parking lot.  More cars are visible toward the buildings, whereas there are very few in the proximity of the arch/sign.  Just before the red arch is a street sign that says \"end of city street\".  A sidewalk follows the road on its right, and just a few plants hint at a larger bit of decoration that's mostly unseen.  The road is appropriately painted with direction paint - yellow lane lines and brake-here marks on the road that goes off to the left from the arch.  \n",
      "Predicted Caption: there is a large bus driving down the road. there is a large yellow line on the road. there is a brown building behind the car.\n",
      "Correct Caption: This is an image of a table. The table has many items on top. The items are strewn throughout the table. The table is covered in a white cloth. There is a tiny pair of scissors on the table. The scissors are metal and silver. The equipment looks to be medical equipment. There is a shoulder bag that is black on the table.\n",
      "Predicted Caption: this is a picture of some silverware in the middle of some <UNK>. the <UNK> are silver. the refrigerator has a floral design on it. the <UNK> is on a table. the <UNK> is made of wood. there are two <UNK> in the middle\n",
      "Correct Caption: Three people are sitting in a room. A man wearing a green t-shirt is looking to his right. He is wearing glasses. On the dresser behind him is a flower arrangement. To the right of that is a guitar case leaning against the wall.  A woman with long brown hair, a pink shirt and blue jeans is sitting next to the man. She is holding a toy wheel, perhaps from a video game, in her hands. The man sitting next to her on her left is holding a finger to his ear. A photo collage is on the wall. \n",
      "Predicted Caption: a man is standing in a room with his arms stretched out , and holding a white game controller in one of his hands. he is standing on top of a white game pad , that is sitting on the carpeted floor. other people can be seen\n",
      "Correct Caption: A man with black hair is wearing a white shirt and a red tie is eating a waffle with his hand and reading the weekday funny paper of a newspaper. The man is sitting on a wooden chair that has checkered wooden slats on the back. There is a round white and blue plate on the white tablecloth on the table. Their is a window at the end of the table showing a deck outside. \n",
      "Predicted Caption: the baby is on a table eating a sandwich.   the wine glass is covered in chocolate <UNK>.   the <UNK> is a light brown.   she is wearing a white <UNK>.   there is a male sitting in the background.   she is\n",
      "Correct Caption: A black cat is on the brown desk. The cat is on the border of the desk. A glass with black drink is on back the cat. Behind the cat there is a  laptop open with a blue screen. on the screen of the laptop there is icons color white on the right. Next to the wall there is a black box and a tan horizontal box.\n",
      "Predicted Caption: a black cat is sleeping on a laptop computer. the laptop is open and turned on and is on. there is a white laptop on the bed. next to the laptop is a black keyboard with a red <UNK>.\n",
      "Correct Caption: Some of the trees in the distance are have green leaves while most of the them do not have leaves and are brown. There is fence in the distance as well. The grass in the photo is brown and is low. There are two large black and white zebras standing in the brown grass field. The zebra closest tot the camera is grazing on the brown grass. \n",
      "Predicted Caption: there is a zebra eating grass behind a chain link fence. there is another fence in the distance behind them. there is a brown building behind the zebra.\n",
      "Correct Caption: There is a large man wearing a gray tee shirt and khaki colored shorts standing barefoot on grass and holding a kite handle. The kite is blue and white and is off the ground about a foot and a half. There is a lamppost along side a path behind the man, and lush trees growing behind that. In the distance, there is a building behind the trees and two cars parked along side the street in front of the building.\n",
      "Predicted Caption: a young boy is running on a grassy field. he is wearing a short sleeve shirt , shorts and shorts. the boy is wearing a black shirt and blue jeans. water can be seen behind the boy. a tall chain link fence is standing behind\n",
      "Correct Caption: Cattle are wading in a body of water. The cows are brown and white. One solid brown cow has large horns. There is a white cow on the bank drinking water alone. There is a small patch of land in the water near the cows that is covered in tall green grass. The water is calm except for a few ripples. There are trees past the cows with only a few brown leaves.\n",
      "Predicted Caption: the bull is riding on the water. the water is blue. the water is reflecting the sky. the water is reflecting the sky. the water is reflecting the sky. the water is a bright color. the <UNK> is white and black. the\n",
      "Correct Caption: Busses are parked on a grassy field. The bus in the foreground is a red double-decker with the number 229 on it. The back door is open but a white strip of material is across the opening blocking the entrance. To the right is white and red bus that has the name Chalkwell advertised on the back. Next to that is a mostly yellow double-decker.\n",
      "Predicted Caption: there is a large yellow bus on the side of the street. there is a tall brown building next to the street. there are windows on the building. there is a green pole with a red sign on it. there is white lines painted on\n",
      "Correct Caption: A small, round, white plate is sitting on a light wood surface. Brown crumbs left over from a meal are scattered on the plate, and one chopstick sits on the edge of the plate. A black plastic fork is next to the chopstick, as well as some small torn pieces of paper. A used tea bag sits next to the fork.\n",
      "Predicted Caption: a white plate is sitting on a table. there is a jar next to the plate. there is food sitting on top of the plate. there is a glass on the table behind the plate.\n",
      "Correct Caption: This is a photo of three young boys wearing cubs uniforms, how unfortunate. They are ready to play a baseball game, as two of the boys are wearing baseball mitts and one of the boys is even wearing war paint. The boy in front looks very happy, which is to be expected when playing team sports. Go team.\n",
      "Predicted Caption: a man is standing on a baseball field. he is wearing a gold , black and white uniform , a black helmet and gloves. he is holding a brown and black bat in his hand. the field has green grass. muddy dirt is seen near\n",
      "Correct Caption: There is a woman, in a brown jacket, with a fur collar on it. The woman has black hair with silver streaks in it. There is a big brown bear, in a cage. The woman is kissing the bear on his nose. The bear has fluffy brown hair and a black nose. The bear and the woman are in a building and there is snow on the ground outside. There are trees in the background.\n",
      "Predicted Caption: a bear is looking at some people looking at it. the bear is on display at the zoo. a woman is leaning against the wall. she is wearing a light blue dress. her hair is blonde and <UNK>. there is a reflection of people\n",
      "Correct Caption: This is a picture of a stream. The stream is murky green and brown dirty water. There are animals walking in the stream. The animals are cows. The cows are large. The cows are black. The cow in the front has long horns. The horns are sharp. The horns are gray. There are bright green lush and leafy plants along the side of the stream.\n",
      "Predicted Caption: people are siting on top of elephants. both persons are wearing blue shirts. one person 's white hat can be seen. one elephant and its rider are going left , while the other rider and elephant <UNK> straight ahead. they are crossing in a body\n",
      "Correct Caption: This is a black and white photograph of a very old biplane taking off from a flat field. There is some sort of crop growing in the field, but it is indiscernable. The plane itself says \"America\" on its side. There is a star emblem on its tail as well as underneath the visible wing. The plane is only about 20 feet off the ground. \n",
      "Predicted Caption: the image is of a plane flying in the sky on a cloudy day.   the plane has a large white body with a small blue wing <UNK>.   on the side of the airplane 's body there is writing that say <UNK> in blue.  \n",
      "Correct Caption: There are three trains in the image. The buildings are short and some are tall. The clouds in the sky are white. There are tall poles near the train. The trains are on the train tracks. The train is red and white. There are windows on the trains. There is a bridge above the trains. There is a fence along the bridge.\n",
      "Predicted Caption: a <UNK> <UNK> is cast on the wide of the open bridge. the building is tan and has an open roof. the building is tan in color with white and brown colored windows. there are many windows on the side of the building. there are\n",
      "Correct Caption: A flock of white sheep are grazing on both green and brown grass, in a pasture. A rooster is behind the flock, standing in a narrow dirt road. Some of the sheep are also in the road. The dirt road curves around and then straightens out to the left, going all the through to into the background. A few sheep are lying on the green grass, next to a wire mesh fence, and a planted field of green vegetables are behind the grazing sheep.\n",
      "Predicted Caption: a group of giraffes stand in an open area , zoo setting. two large giraffes stand under a tree , in the shade and one is eating a leaf. smaller giraffes stand in a <UNK> line on a long pole. the field has tall dry trees\n",
      "Correct Caption: Two people stand on the sand holding a big C-kite. The C-kite is color red, orange and green. The men wears black clothes. Shadows are cast on the ground. There are foot prints are on the sand. On front the men there is a body of water. Next to the body there are three people. Behind the body of water there are small hills. \n",
      "Predicted Caption: a woman is standing on a beach. she is wearing a black wet suit. she is holding a black and white racket in her hand. there is a person standing behind the woman. there is a wooden fence behind the woman.\n",
      "CIDEr score of test set:  0.06497638178441448\n",
      "BLEU score of test set:  0.22724780555641888\n",
      "ROUGE-l score of test set:  0.20923209441809068\n"
     ]
    }
   ],
   "source": [
    "warnings.filterwarnings(\"ignore\")\n",
    "model.eval()\n",
    "ref = {}\n",
    "hyp = {}\n",
    "bleu_ = []\n",
    "for idx, (img, captions, str_cap, img_id) in enumerate(test_loamder):\n",
    "    img = img\n",
    "    ref[idx] = str_cap\n",
    "    a = model.cap_img(img.to(device), dataset.vocab)\n",
    "    s = \"\"\n",
    "    s += a[1]\n",
    "    for i in range(2,len(a)):\n",
    "        if a[i] == '.':\n",
    "            s += a[i]\n",
    "        elif a[i] == \"<EOS>\":\n",
    "            continue\n",
    "        else:\n",
    "            s += \" \"\n",
    "            s += a[i]\n",
    "    hyp[idx] = [s]\n",
    "    bleu_.append(comp_bleu([s],[str_cap]))\n",
    "    print(\"Correct Caption:\", ref[idx][0])\n",
    "    print(\"Predicted Caption:\", hyp[idx][0])\n",
    "print(\"CIDEr score of test set: \", comp_cider(ref,hyp))\n",
    "print(\"BLEU score of test set: \", sum(bleu_)/len(bleu_))\n",
    "print(\"ROUGE-l score of test set: \", comp_rougel(ref,hyp))"
   ]
  },
  {
   "cell_type": "code",
   "execution_count": null,
   "id": "c9435391",
   "metadata": {
    "papermill": {
     "duration": 4.460389,
     "end_time": "2024-04-17T02:41:46.773019",
     "exception": false,
     "start_time": "2024-04-17T02:41:42.312630",
     "status": "completed"
    },
    "tags": []
   },
   "outputs": [],
   "source": []
  }
 ],
 "metadata": {
  "kaggle": {
   "accelerator": "nvidiaTeslaT4",
   "dataSources": [
    {
     "datasetId": 4771275,
     "sourceId": 8083209,
     "sourceType": "datasetVersion"
    }
   ],
   "dockerImageVersionId": 30683,
   "isGpuEnabled": true,
   "isInternetEnabled": true,
   "language": "python",
   "sourceType": "notebook"
  },
  "kernelspec": {
   "display_name": "Python 3",
   "language": "python",
   "name": "python3"
  },
  "language_info": {
   "codemirror_mode": {
    "name": "ipython",
    "version": 3
   },
   "file_extension": ".py",
   "mimetype": "text/x-python",
   "name": "python",
   "nbconvert_exporter": "python",
   "pygments_lexer": "ipython3",
   "version": "3.10.13"
  },
  "papermill": {
   "default_parameters": {},
   "duration": 18480.381087,
   "end_time": "2024-04-17T02:41:53.943815",
   "environment_variables": {},
   "exception": null,
   "input_path": "__notebook__.ipynb",
   "output_path": "__notebook__.ipynb",
   "parameters": {},
   "start_time": "2024-04-16T21:33:53.562728",
   "version": "2.5.0"
  }
 },
 "nbformat": 4,
 "nbformat_minor": 5
}
